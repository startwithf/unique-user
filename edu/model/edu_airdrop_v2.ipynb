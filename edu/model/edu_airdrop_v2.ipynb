{
 "cells": [
  {
   "cell_type": "code",
   "execution_count": 10,
   "metadata": {},
   "outputs": [
    {
     "data": {
      "text/plain": [
       "'\\n@File    : edu_airdrop_v2.ipynb\\n@Create  : 2024/10/01 16:46:43\\n@Modify  : 2024/10/01 16:46:43\\n@Author  : Flora Sun\\n@Contact : floras@animocabrands.com\\n@Desc    : None\\n'"
      ]
     },
     "execution_count": 10,
     "metadata": {},
     "output_type": "execute_result"
    }
   ],
   "source": [
    "\"\"\"\n",
    "@File    : edu_airdrop_v2.ipynb\n",
    "@Create  : 2024/10/01 16:46:43\n",
    "@Modify  : 2024/10/01 16:46:43\n",
    "@Author  : Flora Sun\n",
    "@Contact : floras@animocabrands.com\n",
    "@Desc    : None\n",
    "\"\"\"\n"
   ]
  },
  {
   "cell_type": "markdown",
   "metadata": {},
   "source": [
    "# Import libraries"
   ]
  },
  {
   "cell_type": "code",
   "execution_count": 2,
   "metadata": {},
   "outputs": [
    {
     "name": "stdout",
     "output_type": "stream",
     "text": [
      "Note: to be able to use all crisp methods, you need to install some additional packages:  {'wurlitzer', 'bayanpy', 'graph_tool', 'infomap', 'leidenalg'}\n",
      "Note: to be able to use all crisp methods, you need to install some additional packages:  {'ASLPAw', 'pyclustering'}\n",
      "Note: to be able to use all crisp methods, you need to install some additional packages:  {'leidenalg', 'wurlitzer', 'infomap'}\n"
     ]
    }
   ],
   "source": [
    "import os\n",
    "import numpy as np\n",
    "import pandas as pd\n",
    "import sybil_functions\n",
    "import importlib\n",
    "from datetime import datetime\n",
    "from tqdm import tqdm\n",
    "import requests\n",
    "from time import sleep\n",
    "import matplotlib.pyplot as plt\n",
    "import random\n",
    "\n",
    "importlib.reload(sybil_functions)\n",
    "\n",
    "from sybil_functions import (\n",
    "    read_from_multiple_csv,\n",
    "    check_df,\n",
    "    count_pairs,\n",
    "    remove_contract_transactions,\n",
    "    stretched_sigmoid,\n",
    "    get_weight_df,\n",
    "    plot_weight_dist,\n",
    "    plot_weight_cumulative_dist,\n",
    "    create_community,\n",
    "    community_visualization,\n",
    "    file_name_lst,\n",
    "    random_rate\n",
    ")"
   ]
  },
  {
   "cell_type": "markdown",
   "metadata": {},
   "source": [
    "# Import data"
   ]
  },
  {
   "cell_type": "markdown",
   "metadata": {},
   "source": [
    "## Airdrop wallets"
   ]
  },
  {
   "cell_type": "code",
   "execution_count": 3,
   "metadata": {},
   "outputs": [],
   "source": [
    "edu_airdrop = pd.read_json(\n",
    "    r\"/Users/floras/Desktop/flora/personal/unique-user-identification/data/EDU_airdrop.json\"\n",
    ")\n",
    "edu_airdrop = pd.DataFrame(edu_airdrop)\n",
    "edu_airdrop = edu_airdrop[edu_airdrop['percentageToClaim'] >= 0.5]"
   ]
  },
  {
   "cell_type": "code",
   "execution_count": 4,
   "metadata": {},
   "outputs": [
    {
     "data": {
      "text/plain": [
       "2380"
      ]
     },
     "execution_count": 4,
     "metadata": {},
     "output_type": "execute_result"
    }
   ],
   "source": [
    "edu_airdrop_wallet = edu_airdrop[\"walletAddress\"]\n",
    "len(edu_airdrop_wallet)\n"
   ]
  },
  {
   "cell_type": "code",
   "execution_count": 5,
   "metadata": {},
   "outputs": [],
   "source": [
    "edu_airdrop_wallet = edu_airdrop_wallet.str.lower()\n",
    "edu_airdrop_wallet = edu_airdrop_wallet.tolist()"
   ]
  },
  {
   "cell_type": "markdown",
   "metadata": {},
   "source": [
    "## Token transfers"
   ]
  },
  {
   "cell_type": "code",
   "execution_count": 6,
   "metadata": {},
   "outputs": [],
   "source": [
    "token_transfer_path = r\"/Users/floras/Desktop/flora/personal/unique-user-identification/data/edu_airdrop_wallet_token_transfers\"\n",
    "token_transfer_files_lst = file_name_lst(token_transfer_path, startswith=\"bsc\")"
   ]
  },
  {
   "cell_type": "code",
   "execution_count": 7,
   "metadata": {},
   "outputs": [],
   "source": [
    "token_transfer_df = read_from_multiple_csv(token_transfer_path, token_transfer_files_lst)\n",
    "token_transfer_df.sort_values(by=\"block_timestamp\", inplace=True)"
   ]
  },
  {
   "cell_type": "code",
   "execution_count": 8,
   "metadata": {},
   "outputs": [
    {
     "data": {
      "text/plain": [
       "(829110, 10)"
      ]
     },
     "metadata": {},
     "output_type": "display_data"
    },
    {
     "data": {
      "text/plain": [
       "token_address       object\n",
       "from_address        object\n",
       "to_address          object\n",
       "value               object\n",
       "transaction_hash    object\n",
       "log_index            int64\n",
       "block_timestamp     object\n",
       "block_number         int64\n",
       "block_hash          object\n",
       "amount_raw          object\n",
       "dtype: object"
      ]
     },
     "metadata": {},
     "output_type": "display_data"
    },
    {
     "data": {
      "text/html": [
       "<div>\n",
       "<style scoped>\n",
       "    .dataframe tbody tr th:only-of-type {\n",
       "        vertical-align: middle;\n",
       "    }\n",
       "\n",
       "    .dataframe tbody tr th {\n",
       "        vertical-align: top;\n",
       "    }\n",
       "\n",
       "    .dataframe thead th {\n",
       "        text-align: right;\n",
       "    }\n",
       "</style>\n",
       "<table border=\"1\" class=\"dataframe\">\n",
       "  <thead>\n",
       "    <tr style=\"text-align: right;\">\n",
       "      <th></th>\n",
       "      <th>log_index</th>\n",
       "      <th>block_number</th>\n",
       "    </tr>\n",
       "  </thead>\n",
       "  <tbody>\n",
       "    <tr>\n",
       "      <th>count</th>\n",
       "      <td>829110.000000</td>\n",
       "      <td>8.291100e+05</td>\n",
       "    </tr>\n",
       "    <tr>\n",
       "      <th>mean</th>\n",
       "      <td>385.444814</td>\n",
       "      <td>2.415076e+07</td>\n",
       "    </tr>\n",
       "    <tr>\n",
       "      <th>std</th>\n",
       "      <td>734.724967</td>\n",
       "      <td>5.840648e+06</td>\n",
       "    </tr>\n",
       "    <tr>\n",
       "      <th>min</th>\n",
       "      <td>0.000000</td>\n",
       "      <td>1.396978e+07</td>\n",
       "    </tr>\n",
       "    <tr>\n",
       "      <th>25%</th>\n",
       "      <td>141.000000</td>\n",
       "      <td>1.869658e+07</td>\n",
       "    </tr>\n",
       "    <tr>\n",
       "      <th>50%</th>\n",
       "      <td>256.000000</td>\n",
       "      <td>2.524435e+07</td>\n",
       "    </tr>\n",
       "    <tr>\n",
       "      <th>75%</th>\n",
       "      <td>444.000000</td>\n",
       "      <td>2.875184e+07</td>\n",
       "    </tr>\n",
       "    <tr>\n",
       "      <th>max</th>\n",
       "      <td>55709.000000</td>\n",
       "      <td>3.484866e+07</td>\n",
       "    </tr>\n",
       "  </tbody>\n",
       "</table>\n",
       "</div>"
      ],
      "text/plain": [
       "           log_index  block_number\n",
       "count  829110.000000  8.291100e+05\n",
       "mean      385.444814  2.415076e+07\n",
       "std       734.724967  5.840648e+06\n",
       "min         0.000000  1.396978e+07\n",
       "25%       141.000000  1.869658e+07\n",
       "50%       256.000000  2.524435e+07\n",
       "75%       444.000000  2.875184e+07\n",
       "max     55709.000000  3.484866e+07"
      ]
     },
     "metadata": {},
     "output_type": "display_data"
    },
    {
     "data": {
      "text/html": [
       "<div>\n",
       "<style scoped>\n",
       "    .dataframe tbody tr th:only-of-type {\n",
       "        vertical-align: middle;\n",
       "    }\n",
       "\n",
       "    .dataframe tbody tr th {\n",
       "        vertical-align: top;\n",
       "    }\n",
       "\n",
       "    .dataframe thead th {\n",
       "        text-align: right;\n",
       "    }\n",
       "</style>\n",
       "<table border=\"1\" class=\"dataframe\">\n",
       "  <thead>\n",
       "    <tr style=\"text-align: right;\">\n",
       "      <th></th>\n",
       "      <th>token_address</th>\n",
       "      <th>from_address</th>\n",
       "      <th>to_address</th>\n",
       "      <th>value</th>\n",
       "      <th>transaction_hash</th>\n",
       "      <th>log_index</th>\n",
       "      <th>block_timestamp</th>\n",
       "      <th>block_number</th>\n",
       "      <th>block_hash</th>\n",
       "      <th>amount_raw</th>\n",
       "    </tr>\n",
       "  </thead>\n",
       "  <tbody>\n",
       "    <tr>\n",
       "      <th>74456</th>\n",
       "      <td>0xe9e7cea3dedca5984780bafc599bd69add087d56</td>\n",
       "      <td>0x58f876857a02d6762e0101bb5c46a8c1ed44dc16</td>\n",
       "      <td>0xd512ffe85be6f9ce44091c4bfb474f0293e818dc</td>\n",
       "      <td>8616002343588278118</td>\n",
       "      <td>0x156998ee622984a99f9f86c6bc14a4837c91e8bac518...</td>\n",
       "      <td>484</td>\n",
       "      <td>2022-01-01 00:05:52+00:00</td>\n",
       "      <td>13969778</td>\n",
       "      <td>0x6e3d15c5a1aa00d909e259a24cc3a8d181824641093b...</td>\n",
       "      <td>8616002343588278118</td>\n",
       "    </tr>\n",
       "    <tr>\n",
       "      <th>97000</th>\n",
       "      <td>0x267022751e06d97b9ee4e5f26cc1023670bdb349</td>\n",
       "      <td>0xd512ffe85be6f9ce44091c4bfb474f0293e818dc</td>\n",
       "      <td>0x1c183b23e8d7a8d287606364f741ddbdafec28de</td>\n",
       "      <td>10615596330275200000</td>\n",
       "      <td>0x156998ee622984a99f9f86c6bc14a4837c91e8bac518...</td>\n",
       "      <td>479</td>\n",
       "      <td>2022-01-01 00:05:52+00:00</td>\n",
       "      <td>13969778</td>\n",
       "      <td>0x6e3d15c5a1aa00d909e259a24cc3a8d181824641093b...</td>\n",
       "      <td>10615596330275200000</td>\n",
       "    </tr>\n",
       "    <tr>\n",
       "      <th>97777</th>\n",
       "      <td>0xcb2b25e783a414f0d20a65afa741c51b1ad84c49</td>\n",
       "      <td>0x3fbec4e71bfca562a1631b3870ad8d79623ca2c3</td>\n",
       "      <td>0xea9f1bd192c06f3b594062231721edbb5357806d</td>\n",
       "      <td>2608000000000000000000</td>\n",
       "      <td>0x2ecd2432c32a203aabe02526f7c13062c1eb4cc972e2...</td>\n",
       "      <td>208</td>\n",
       "      <td>2022-01-01 00:06:34+00:00</td>\n",
       "      <td>13969792</td>\n",
       "      <td>0xfa4589d9bc79aee76db839324cd4f9357e5a2815b565...</td>\n",
       "      <td>2608000000000000000000</td>\n",
       "    </tr>\n",
       "    <tr>\n",
       "      <th>107244</th>\n",
       "      <td>0xaf307c4ea25c8d2a7029dc0322396a6b4b00a0fc</td>\n",
       "      <td>0x056f3336dc183d27fe6785bae037fdb48c77bc71</td>\n",
       "      <td>0x4cd279347bd15cca417439064ee24f5ed3391a8e</td>\n",
       "      <td>14109370034</td>\n",
       "      <td>0x6830c1b1e77b7a5c99bff8d07c317239284268b3f750...</td>\n",
       "      <td>170</td>\n",
       "      <td>2022-01-01 00:08:22+00:00</td>\n",
       "      <td>13969828</td>\n",
       "      <td>0x046aca96814ecd1c7fa63c61ca360cad265f033abb46...</td>\n",
       "      <td>14109370034</td>\n",
       "    </tr>\n",
       "    <tr>\n",
       "      <th>107242</th>\n",
       "      <td>0xaf307c4ea25c8d2a7029dc0322396a6b4b00a0fc</td>\n",
       "      <td>0x056f3336dc183d27fe6785bae037fdb48c77bc71</td>\n",
       "      <td>0x4cd279347bd15cca417439064ee24f5ed3391a8e</td>\n",
       "      <td>500000000000</td>\n",
       "      <td>0x0667e8770dfaa72d783c0f4c6fa6ba145be0f1f04e6d...</td>\n",
       "      <td>378</td>\n",
       "      <td>2022-01-01 00:08:43+00:00</td>\n",
       "      <td>13969835</td>\n",
       "      <td>0xcc9604ce294468e5f95102dcf6c46b19dc0b48dd2f6f...</td>\n",
       "      <td>500000000000</td>\n",
       "    </tr>\n",
       "  </tbody>\n",
       "</table>\n",
       "</div>"
      ],
      "text/plain": [
       "                                     token_address  \\\n",
       "74456   0xe9e7cea3dedca5984780bafc599bd69add087d56   \n",
       "97000   0x267022751e06d97b9ee4e5f26cc1023670bdb349   \n",
       "97777   0xcb2b25e783a414f0d20a65afa741c51b1ad84c49   \n",
       "107244  0xaf307c4ea25c8d2a7029dc0322396a6b4b00a0fc   \n",
       "107242  0xaf307c4ea25c8d2a7029dc0322396a6b4b00a0fc   \n",
       "\n",
       "                                      from_address  \\\n",
       "74456   0x58f876857a02d6762e0101bb5c46a8c1ed44dc16   \n",
       "97000   0xd512ffe85be6f9ce44091c4bfb474f0293e818dc   \n",
       "97777   0x3fbec4e71bfca562a1631b3870ad8d79623ca2c3   \n",
       "107244  0x056f3336dc183d27fe6785bae037fdb48c77bc71   \n",
       "107242  0x056f3336dc183d27fe6785bae037fdb48c77bc71   \n",
       "\n",
       "                                        to_address                   value  \\\n",
       "74456   0xd512ffe85be6f9ce44091c4bfb474f0293e818dc     8616002343588278118   \n",
       "97000   0x1c183b23e8d7a8d287606364f741ddbdafec28de    10615596330275200000   \n",
       "97777   0xea9f1bd192c06f3b594062231721edbb5357806d  2608000000000000000000   \n",
       "107244  0x4cd279347bd15cca417439064ee24f5ed3391a8e             14109370034   \n",
       "107242  0x4cd279347bd15cca417439064ee24f5ed3391a8e            500000000000   \n",
       "\n",
       "                                         transaction_hash  log_index  \\\n",
       "74456   0x156998ee622984a99f9f86c6bc14a4837c91e8bac518...        484   \n",
       "97000   0x156998ee622984a99f9f86c6bc14a4837c91e8bac518...        479   \n",
       "97777   0x2ecd2432c32a203aabe02526f7c13062c1eb4cc972e2...        208   \n",
       "107244  0x6830c1b1e77b7a5c99bff8d07c317239284268b3f750...        170   \n",
       "107242  0x0667e8770dfaa72d783c0f4c6fa6ba145be0f1f04e6d...        378   \n",
       "\n",
       "                  block_timestamp  block_number  \\\n",
       "74456   2022-01-01 00:05:52+00:00      13969778   \n",
       "97000   2022-01-01 00:05:52+00:00      13969778   \n",
       "97777   2022-01-01 00:06:34+00:00      13969792   \n",
       "107244  2022-01-01 00:08:22+00:00      13969828   \n",
       "107242  2022-01-01 00:08:43+00:00      13969835   \n",
       "\n",
       "                                               block_hash  \\\n",
       "74456   0x6e3d15c5a1aa00d909e259a24cc3a8d181824641093b...   \n",
       "97000   0x6e3d15c5a1aa00d909e259a24cc3a8d181824641093b...   \n",
       "97777   0xfa4589d9bc79aee76db839324cd4f9357e5a2815b565...   \n",
       "107244  0x046aca96814ecd1c7fa63c61ca360cad265f033abb46...   \n",
       "107242  0xcc9604ce294468e5f95102dcf6c46b19dc0b48dd2f6f...   \n",
       "\n",
       "                    amount_raw  \n",
       "74456      8616002343588278118  \n",
       "97000     10615596330275200000  \n",
       "97777   2608000000000000000000  \n",
       "107244             14109370034  \n",
       "107242            500000000000  "
      ]
     },
     "metadata": {},
     "output_type": "display_data"
    }
   ],
   "source": [
    "check_df(token_transfer_df)"
   ]
  },
  {
   "cell_type": "markdown",
   "metadata": {},
   "source": [
    "## Native token transfers"
   ]
  },
  {
   "cell_type": "code",
   "execution_count": 9,
   "metadata": {},
   "outputs": [],
   "source": [
    "native_token_transfer_path = r\"/Users/floras/Desktop/flora/personal/unique-user-identification/data/edu_airdrop_wallet_native_token_transfers\"\n",
    "native_token_transfer_file_lst = file_name_lst(\n",
    "    native_token_transfer_path,\n",
    "    startswith=\"bsc_native_token_transfers\"\n",
    ")\n",
    "native_token_transfer_df = read_from_multiple_csv(\n",
    "    native_token_transfer_path, native_token_transfer_file_lst\n",
    ")\n",
    "native_token_transfer_df.sort_values(by=\"block_timestamp\", inplace=True)"
   ]
  },
  {
   "cell_type": "code",
   "execution_count": 11,
   "metadata": {},
   "outputs": [
    {
     "data": {
      "text/plain": [
       "(189105, 10)"
      ]
     },
     "metadata": {},
     "output_type": "display_data"
    },
    {
     "data": {
      "text/plain": [
       "token_address        object\n",
       "transaction_hash     object\n",
       "transaction_index     int64\n",
       "block_timestamp      object\n",
       "trace_id             object\n",
       "from_address         object\n",
       "to_address           object\n",
       "amount_raw           object\n",
       "call_type            object\n",
       "block_number          int64\n",
       "dtype: object"
      ]
     },
     "metadata": {},
     "output_type": "display_data"
    },
    {
     "data": {
      "text/html": [
       "<div>\n",
       "<style scoped>\n",
       "    .dataframe tbody tr th:only-of-type {\n",
       "        vertical-align: middle;\n",
       "    }\n",
       "\n",
       "    .dataframe tbody tr th {\n",
       "        vertical-align: top;\n",
       "    }\n",
       "\n",
       "    .dataframe thead th {\n",
       "        text-align: right;\n",
       "    }\n",
       "</style>\n",
       "<table border=\"1\" class=\"dataframe\">\n",
       "  <thead>\n",
       "    <tr style=\"text-align: right;\">\n",
       "      <th></th>\n",
       "      <th>transaction_index</th>\n",
       "      <th>block_number</th>\n",
       "    </tr>\n",
       "  </thead>\n",
       "  <tbody>\n",
       "    <tr>\n",
       "      <th>count</th>\n",
       "      <td>189105.000000</td>\n",
       "      <td>1.891050e+05</td>\n",
       "    </tr>\n",
       "    <tr>\n",
       "      <th>mean</th>\n",
       "      <td>97.476079</td>\n",
       "      <td>2.540913e+07</td>\n",
       "    </tr>\n",
       "    <tr>\n",
       "      <th>std</th>\n",
       "      <td>138.107720</td>\n",
       "      <td>6.372803e+06</td>\n",
       "    </tr>\n",
       "    <tr>\n",
       "      <th>min</th>\n",
       "      <td>0.000000</td>\n",
       "      <td>1.396987e+07</td>\n",
       "    </tr>\n",
       "    <tr>\n",
       "      <th>25%</th>\n",
       "      <td>45.000000</td>\n",
       "      <td>1.995523e+07</td>\n",
       "    </tr>\n",
       "    <tr>\n",
       "      <th>50%</th>\n",
       "      <td>79.000000</td>\n",
       "      <td>2.653818e+07</td>\n",
       "    </tr>\n",
       "    <tr>\n",
       "      <th>75%</th>\n",
       "      <td>121.000000</td>\n",
       "      <td>3.051036e+07</td>\n",
       "    </tr>\n",
       "    <tr>\n",
       "      <th>max</th>\n",
       "      <td>6044.000000</td>\n",
       "      <td>3.484869e+07</td>\n",
       "    </tr>\n",
       "  </tbody>\n",
       "</table>\n",
       "</div>"
      ],
      "text/plain": [
       "       transaction_index  block_number\n",
       "count      189105.000000  1.891050e+05\n",
       "mean           97.476079  2.540913e+07\n",
       "std           138.107720  6.372803e+06\n",
       "min             0.000000  1.396987e+07\n",
       "25%            45.000000  1.995523e+07\n",
       "50%            79.000000  2.653818e+07\n",
       "75%           121.000000  3.051036e+07\n",
       "max          6044.000000  3.484869e+07"
      ]
     },
     "metadata": {},
     "output_type": "display_data"
    },
    {
     "data": {
      "text/html": [
       "<div>\n",
       "<style scoped>\n",
       "    .dataframe tbody tr th:only-of-type {\n",
       "        vertical-align: middle;\n",
       "    }\n",
       "\n",
       "    .dataframe tbody tr th {\n",
       "        vertical-align: top;\n",
       "    }\n",
       "\n",
       "    .dataframe thead th {\n",
       "        text-align: right;\n",
       "    }\n",
       "</style>\n",
       "<table border=\"1\" class=\"dataframe\">\n",
       "  <thead>\n",
       "    <tr style=\"text-align: right;\">\n",
       "      <th></th>\n",
       "      <th>token_address</th>\n",
       "      <th>transaction_hash</th>\n",
       "      <th>transaction_index</th>\n",
       "      <th>block_timestamp</th>\n",
       "      <th>trace_id</th>\n",
       "      <th>from_address</th>\n",
       "      <th>to_address</th>\n",
       "      <th>amount_raw</th>\n",
       "      <th>call_type</th>\n",
       "      <th>block_number</th>\n",
       "    </tr>\n",
       "  </thead>\n",
       "  <tbody>\n",
       "    <tr>\n",
       "      <th>27725</th>\n",
       "      <td>0xeeeeeeeeeeeeeeeeeeeeeeeeeeeeeeeeeeeeeeee</td>\n",
       "      <td>0x135f41d360be2a3c5b8a43dc23970a4edb53f1cb75d2...</td>\n",
       "      <td>43</td>\n",
       "      <td>2022-01-01 00:10:25+00:00</td>\n",
       "      <td>call_0x135f41d360be2a3c5b8a43dc23970a4edb53f1c...</td>\n",
       "      <td>0x4cd279347bd15cca417439064ee24f5ed3391a8e</td>\n",
       "      <td>0x10ed43c718714eb63d5aa57b78b54704e256024e</td>\n",
       "      <td>6183914692940477</td>\n",
       "      <td>call</td>\n",
       "      <td>13969869</td>\n",
       "    </tr>\n",
       "    <tr>\n",
       "      <th>26910</th>\n",
       "      <td>0xeeeeeeeeeeeeeeeeeeeeeeeeeeeeeeeeeeeeeeee</td>\n",
       "      <td>0x7a692e331b6174701fe663b8d39025b0aeb2561e51d5...</td>\n",
       "      <td>9</td>\n",
       "      <td>2022-01-01 00:12:13+00:00</td>\n",
       "      <td>call_0x7a692e331b6174701fe663b8d39025b0aeb2561...</td>\n",
       "      <td>0x0d0707963952f2fba59dd06f2b425ace40b492fe</td>\n",
       "      <td>0x60e81aac6ce31d84121732362c9855ae1a9f09f3</td>\n",
       "      <td>10994100000000000000</td>\n",
       "      <td>call</td>\n",
       "      <td>13969905</td>\n",
       "    </tr>\n",
       "    <tr>\n",
       "      <th>24328</th>\n",
       "      <td>0xeeeeeeeeeeeeeeeeeeeeeeeeeeeeeeeeeeeeeeee</td>\n",
       "      <td>0x1fce037731562e0f5e098c46677383f815602c8753c2...</td>\n",
       "      <td>113</td>\n",
       "      <td>2022-01-01 00:13:16+00:00</td>\n",
       "      <td>call_0x1fce037731562e0f5e098c46677383f815602c8...</td>\n",
       "      <td>0x97300791462d8acc2b7882726c2dcafe67a84e2d</td>\n",
       "      <td>0x96f5ac215089e9b9536ba58d5ce7d41ad35a0b75</td>\n",
       "      <td>64588000000000000</td>\n",
       "      <td>call</td>\n",
       "      <td>13969926</td>\n",
       "    </tr>\n",
       "    <tr>\n",
       "      <th>26919</th>\n",
       "      <td>0xeeeeeeeeeeeeeeeeeeeeeeeeeeeeeeeeeeeeeeee</td>\n",
       "      <td>0x2b1894a531984d150c873f5825539d51abef73109d70...</td>\n",
       "      <td>25</td>\n",
       "      <td>2022-01-01 00:13:37+00:00</td>\n",
       "      <td>call_0x2b1894a531984d150c873f5825539d51abef731...</td>\n",
       "      <td>0x60e81aac6ce31d84121732362c9855ae1a9f09f3</td>\n",
       "      <td>0x1111111254fb6c44bac0bed2854e76f90643097d</td>\n",
       "      <td>1000000000000000000</td>\n",
       "      <td>call</td>\n",
       "      <td>13969933</td>\n",
       "    </tr>\n",
       "    <tr>\n",
       "      <th>25910</th>\n",
       "      <td>0xeeeeeeeeeeeeeeeeeeeeeeeeeeeeeeeeeeeeeeee</td>\n",
       "      <td>0x6da9acaffa015ed865c84a2529946ee24b7641cb2857...</td>\n",
       "      <td>18</td>\n",
       "      <td>2022-01-01 00:13:52+00:00</td>\n",
       "      <td>call_0x6da9acaffa015ed865c84a2529946ee24b7641c...</td>\n",
       "      <td>0x60e81aac6ce31d84121732362c9855ae1a9f09f3</td>\n",
       "      <td>0x1111111254fb6c44bac0bed2854e76f90643097d</td>\n",
       "      <td>1000000000000000000</td>\n",
       "      <td>call</td>\n",
       "      <td>13969938</td>\n",
       "    </tr>\n",
       "  </tbody>\n",
       "</table>\n",
       "</div>"
      ],
      "text/plain": [
       "                                    token_address  \\\n",
       "27725  0xeeeeeeeeeeeeeeeeeeeeeeeeeeeeeeeeeeeeeeee   \n",
       "26910  0xeeeeeeeeeeeeeeeeeeeeeeeeeeeeeeeeeeeeeeee   \n",
       "24328  0xeeeeeeeeeeeeeeeeeeeeeeeeeeeeeeeeeeeeeeee   \n",
       "26919  0xeeeeeeeeeeeeeeeeeeeeeeeeeeeeeeeeeeeeeeee   \n",
       "25910  0xeeeeeeeeeeeeeeeeeeeeeeeeeeeeeeeeeeeeeeee   \n",
       "\n",
       "                                        transaction_hash  transaction_index  \\\n",
       "27725  0x135f41d360be2a3c5b8a43dc23970a4edb53f1cb75d2...                 43   \n",
       "26910  0x7a692e331b6174701fe663b8d39025b0aeb2561e51d5...                  9   \n",
       "24328  0x1fce037731562e0f5e098c46677383f815602c8753c2...                113   \n",
       "26919  0x2b1894a531984d150c873f5825539d51abef73109d70...                 25   \n",
       "25910  0x6da9acaffa015ed865c84a2529946ee24b7641cb2857...                 18   \n",
       "\n",
       "                 block_timestamp  \\\n",
       "27725  2022-01-01 00:10:25+00:00   \n",
       "26910  2022-01-01 00:12:13+00:00   \n",
       "24328  2022-01-01 00:13:16+00:00   \n",
       "26919  2022-01-01 00:13:37+00:00   \n",
       "25910  2022-01-01 00:13:52+00:00   \n",
       "\n",
       "                                                trace_id  \\\n",
       "27725  call_0x135f41d360be2a3c5b8a43dc23970a4edb53f1c...   \n",
       "26910  call_0x7a692e331b6174701fe663b8d39025b0aeb2561...   \n",
       "24328  call_0x1fce037731562e0f5e098c46677383f815602c8...   \n",
       "26919  call_0x2b1894a531984d150c873f5825539d51abef731...   \n",
       "25910  call_0x6da9acaffa015ed865c84a2529946ee24b7641c...   \n",
       "\n",
       "                                     from_address  \\\n",
       "27725  0x4cd279347bd15cca417439064ee24f5ed3391a8e   \n",
       "26910  0x0d0707963952f2fba59dd06f2b425ace40b492fe   \n",
       "24328  0x97300791462d8acc2b7882726c2dcafe67a84e2d   \n",
       "26919  0x60e81aac6ce31d84121732362c9855ae1a9f09f3   \n",
       "25910  0x60e81aac6ce31d84121732362c9855ae1a9f09f3   \n",
       "\n",
       "                                       to_address            amount_raw  \\\n",
       "27725  0x10ed43c718714eb63d5aa57b78b54704e256024e      6183914692940477   \n",
       "26910  0x60e81aac6ce31d84121732362c9855ae1a9f09f3  10994100000000000000   \n",
       "24328  0x96f5ac215089e9b9536ba58d5ce7d41ad35a0b75     64588000000000000   \n",
       "26919  0x1111111254fb6c44bac0bed2854e76f90643097d   1000000000000000000   \n",
       "25910  0x1111111254fb6c44bac0bed2854e76f90643097d   1000000000000000000   \n",
       "\n",
       "      call_type  block_number  \n",
       "27725      call      13969869  \n",
       "26910      call      13969905  \n",
       "24328      call      13969926  \n",
       "26919      call      13969933  \n",
       "25910      call      13969938  "
      ]
     },
     "metadata": {},
     "output_type": "display_data"
    }
   ],
   "source": [
    "check_df(native_token_transfer_df)"
   ]
  },
  {
   "cell_type": "markdown",
   "metadata": {},
   "source": [
    "# Set samples"
   ]
  },
  {
   "cell_type": "markdown",
   "metadata": {},
   "source": [
    "# Before airdrop"
   ]
  },
  {
   "cell_type": "code",
   "execution_count": null,
   "metadata": {},
   "outputs": [],
   "source": [
    "before_token_df = token_transfer_df.copy()\n",
    "\n",
    "# set date"
   ]
  },
  {
   "cell_type": "code",
   "execution_count": null,
   "metadata": {},
   "outputs": [],
   "source": []
  },
  {
   "cell_type": "code",
   "execution_count": null,
   "metadata": {},
   "outputs": [],
   "source": []
  },
  {
   "cell_type": "code",
   "execution_count": null,
   "metadata": {},
   "outputs": [],
   "source": []
  },
  {
   "cell_type": "code",
   "execution_count": null,
   "metadata": {},
   "outputs": [],
   "source": []
  },
  {
   "cell_type": "code",
   "execution_count": null,
   "metadata": {},
   "outputs": [],
   "source": []
  },
  {
   "cell_type": "code",
   "execution_count": null,
   "metadata": {},
   "outputs": [],
   "source": []
  }
 ],
 "metadata": {
  "kernelspec": {
   "display_name": "myenv",
   "language": "python",
   "name": "python3"
  },
  "language_info": {
   "codemirror_mode": {
    "name": "ipython",
    "version": 3
   },
   "file_extension": ".py",
   "mimetype": "text/x-python",
   "name": "python",
   "nbconvert_exporter": "python",
   "pygments_lexer": "ipython3",
   "version": "3.8.19"
  }
 },
 "nbformat": 4,
 "nbformat_minor": 2
}
