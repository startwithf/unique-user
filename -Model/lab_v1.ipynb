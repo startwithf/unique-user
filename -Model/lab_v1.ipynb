{
 "cells": [
  {
   "cell_type": "code",
   "execution_count": null,
   "metadata": {},
   "outputs": [],
   "source": [
    "\"\"\"\n",
    "@File    : lab_v1.ipynb\n",
    "@Create  : 2024/12/13 16:11:37\n",
    "@Modify  : 2024/12/13 16:11:37\n",
    "@Author  : Flora Sun\n",
    "@Contact : floras@animocabrands.com\n",
    "@Desc    : None\n",
    "\"\"\"\n"
   ]
  },
  {
   "cell_type": "code",
   "execution_count": 1,
   "metadata": {},
   "outputs": [
    {
     "name": "stdout",
     "output_type": "stream",
     "text": [
      "/Users/floras/Desktop/unique-user\n"
     ]
    }
   ],
   "source": [
    "cd '/Users/floras/Desktop/unique-user'"
   ]
  },
  {
   "cell_type": "code",
   "execution_count": 65,
   "metadata": {},
   "outputs": [],
   "source": [
    "import pandas as pd\n",
    "import numpy as np\n",
    "import os\n",
    "import importlib\n",
    "import sybil_functions\n",
    "from collections import Counter\n",
    "from concurrent.futures import ThreadPoolExecutor\n",
    "import networkx as nx\n",
    "from cdlib import algorithms\n",
    "import networkx as nx\n",
    "import plotly.graph_objects as go\n",
    "from sklearn.preprocessing import StandardScaler\n",
    "from sklearn.cluster import OPTICS\n",
    "from sklearn.ensemble import IsolationForest\n",
    "import parameters\n",
    "\n",
    "\n",
    "importlib.reload(sybil_functions)\n",
    "import trino_fetch_results\n",
    "importlib.reload(trino_fetch_results)\n",
    "importlib.reload(parameters)\n",
    "import utility_functions\n",
    "importlib.reload(utility_functions)\n",
    "import api_functions\n",
    "importlib.reload(api_functions)\n",
    "\n",
    "\n",
    "from utility_functions import (\n",
    "    read_from_multiple_csv,\n",
    "    stretched_sigmoid,\n",
    "    file_name_lst,\n",
    ")\n",
    "\n",
    "from api_functions import (\n",
    "    check_contract,\n",
    ")\n",
    "\n",
    "from trino_fetch_results import (\n",
    "    check_frequent_wallets,\n",
    "    wallets_monthly_info,\n",
    ")\n",
    "\n",
    "from parameters import trino_data_column_names\n"
   ]
  },
  {
   "cell_type": "markdown",
   "metadata": {},
   "source": [
    "# Import Data"
   ]
  },
  {
   "cell_type": "code",
   "execution_count": 3,
   "metadata": {},
   "outputs": [
    {
     "data": {
      "text/html": [
       "<div>\n",
       "<style scoped>\n",
       "    .dataframe tbody tr th:only-of-type {\n",
       "        vertical-align: middle;\n",
       "    }\n",
       "\n",
       "    .dataframe tbody tr th {\n",
       "        vertical-align: top;\n",
       "    }\n",
       "\n",
       "    .dataframe thead th {\n",
       "        text-align: right;\n",
       "    }\n",
       "</style>\n",
       "<table border=\"1\" class=\"dataframe\">\n",
       "  <thead>\n",
       "    <tr style=\"text-align: right;\">\n",
       "      <th></th>\n",
       "      <th>email</th>\n",
       "      <th>uuid</th>\n",
       "      <th>uuid.1</th>\n",
       "      <th>moca_id</th>\n",
       "      <th>id</th>\n",
       "      <th>name</th>\n",
       "      <th>abstract_account_address</th>\n",
       "      <th>web3auth_wallet_address</th>\n",
       "      <th>address</th>\n",
       "      <th>id.1</th>\n",
       "      <th>uuid.2</th>\n",
       "      <th>user_id</th>\n",
       "    </tr>\n",
       "  </thead>\n",
       "  <tbody>\n",
       "    <tr>\n",
       "      <th>0</th>\n",
       "      <td>NaN</td>\n",
       "      <td>0016e1a3-0cdf-475b-b921-2d121453bece</td>\n",
       "      <td>0016e1a3-0cdf-475b-b921-2d121453bece</td>\n",
       "      <td>kppytiuynykiboo</td>\n",
       "      <td>7418689.0</td>\n",
       "      <td>kppytiuynykiboo</td>\n",
       "      <td>0x4b5591379a65c0180103f421cce640c679d1d9d8</td>\n",
       "      <td>0xc0f32955a9b37e6c1fa235a4f330c2d23545af88</td>\n",
       "      <td>0xc0f32955a9b37e6c1fa235a4f330c2d23545af88</td>\n",
       "      <td>590112.0</td>\n",
       "      <td>2d45d118-3d6f-4c7f-930d-5c9f3d56f612</td>\n",
       "      <td>7418689.0</td>\n",
       "    </tr>\n",
       "    <tr>\n",
       "      <th>1</th>\n",
       "      <td>semidmitrii@gmail.com</td>\n",
       "      <td>00284435-f796-45ad-8c61-5cf4a5417043</td>\n",
       "      <td>00284435-f796-45ad-8c61-5cf4a5417043</td>\n",
       "      <td>therock</td>\n",
       "      <td>25939.0</td>\n",
       "      <td>therock</td>\n",
       "      <td>0x3f1f1694941ebea878fe9e88b048dcb6f0c8f07b</td>\n",
       "      <td>0x5335b140366404b2bd875339322de16f9cd9651c</td>\n",
       "      <td>0xe23308c15434f903825112035cc1d26914fab078</td>\n",
       "      <td>60816.0</td>\n",
       "      <td>6ee964db-f14c-49ad-84db-84d937463cb3</td>\n",
       "      <td>25939.0</td>\n",
       "    </tr>\n",
       "    <tr>\n",
       "      <th>2</th>\n",
       "      <td>NaN</td>\n",
       "      <td>0048b42e-7630-42a2-9633-9ee78c35f2eb</td>\n",
       "      <td>0048b42e-7630-42a2-9633-9ee78c35f2eb</td>\n",
       "      <td>mocae</td>\n",
       "      <td>7361874.0</td>\n",
       "      <td>mocae</td>\n",
       "      <td>0x38c24c4158033ef3967f102748cba1d56079bd31</td>\n",
       "      <td>0x9c590bb4e0ffb4c9adfc03dfa2ee2484502ce067</td>\n",
       "      <td>0x9c590bb4e0ffb4c9adfc03dfa2ee2484502ce067</td>\n",
       "      <td>43567.0</td>\n",
       "      <td>5cbe41a2-b90c-43cb-9560-af5cb0cb2b2f</td>\n",
       "      <td>7361874.0</td>\n",
       "    </tr>\n",
       "    <tr>\n",
       "      <th>3</th>\n",
       "      <td>NaN</td>\n",
       "      <td>00799be0-8c24-4f0b-a442-bbb1279a63d3</td>\n",
       "      <td>00799be0-8c24-4f0b-a442-bbb1279a63d3</td>\n",
       "      <td>accelerando</td>\n",
       "      <td>8000019.0</td>\n",
       "      <td>accelerando</td>\n",
       "      <td>0xd86b10033c4d718b9b5f330ab270cd17c31cba97</td>\n",
       "      <td>0xaa6c6d0ed231da328814c2b7853d2e4350b70000</td>\n",
       "      <td>0xaa6c6d0ed231da328814c2b7853d2e4350b70000</td>\n",
       "      <td>294969.0</td>\n",
       "      <td>182f98d8-9098-4763-be3d-4e47985beb8f</td>\n",
       "      <td>8000019.0</td>\n",
       "    </tr>\n",
       "    <tr>\n",
       "      <th>4</th>\n",
       "      <td>NaN</td>\n",
       "      <td>00799be0-8c24-4f0b-a442-bbb1279a63d3</td>\n",
       "      <td>00799be0-8c24-4f0b-a442-bbb1279a63d3</td>\n",
       "      <td>accelerando</td>\n",
       "      <td>8000019.0</td>\n",
       "      <td>accelerando</td>\n",
       "      <td>0xd86b10033c4d718b9b5f330ab270cd17c31cba97</td>\n",
       "      <td>0xaa6c6d0ed231da328814c2b7853d2e4350b70000</td>\n",
       "      <td>0xd1f01c4bc479967f4dbde0a73f961dd14afa524f</td>\n",
       "      <td>343872.0</td>\n",
       "      <td>abe31f57-dcd4-4bec-a434-414e2c0d2181</td>\n",
       "      <td>8000019.0</td>\n",
       "    </tr>\n",
       "  </tbody>\n",
       "</table>\n",
       "</div>"
      ],
      "text/plain": [
       "                   email                                  uuid  \\\n",
       "0                    NaN  0016e1a3-0cdf-475b-b921-2d121453bece   \n",
       "1  semidmitrii@gmail.com  00284435-f796-45ad-8c61-5cf4a5417043   \n",
       "2                    NaN  0048b42e-7630-42a2-9633-9ee78c35f2eb   \n",
       "3                    NaN  00799be0-8c24-4f0b-a442-bbb1279a63d3   \n",
       "4                    NaN  00799be0-8c24-4f0b-a442-bbb1279a63d3   \n",
       "\n",
       "                                 uuid.1          moca_id         id  \\\n",
       "0  0016e1a3-0cdf-475b-b921-2d121453bece  kppytiuynykiboo  7418689.0   \n",
       "1  00284435-f796-45ad-8c61-5cf4a5417043          therock    25939.0   \n",
       "2  0048b42e-7630-42a2-9633-9ee78c35f2eb            mocae  7361874.0   \n",
       "3  00799be0-8c24-4f0b-a442-bbb1279a63d3      accelerando  8000019.0   \n",
       "4  00799be0-8c24-4f0b-a442-bbb1279a63d3      accelerando  8000019.0   \n",
       "\n",
       "              name                    abstract_account_address  \\\n",
       "0  kppytiuynykiboo  0x4b5591379a65c0180103f421cce640c679d1d9d8   \n",
       "1          therock  0x3f1f1694941ebea878fe9e88b048dcb6f0c8f07b   \n",
       "2            mocae  0x38c24c4158033ef3967f102748cba1d56079bd31   \n",
       "3      accelerando  0xd86b10033c4d718b9b5f330ab270cd17c31cba97   \n",
       "4      accelerando  0xd86b10033c4d718b9b5f330ab270cd17c31cba97   \n",
       "\n",
       "                      web3auth_wallet_address  \\\n",
       "0  0xc0f32955a9b37e6c1fa235a4f330c2d23545af88   \n",
       "1  0x5335b140366404b2bd875339322de16f9cd9651c   \n",
       "2  0x9c590bb4e0ffb4c9adfc03dfa2ee2484502ce067   \n",
       "3  0xaa6c6d0ed231da328814c2b7853d2e4350b70000   \n",
       "4  0xaa6c6d0ed231da328814c2b7853d2e4350b70000   \n",
       "\n",
       "                                      address      id.1  \\\n",
       "0  0xc0f32955a9b37e6c1fa235a4f330c2d23545af88  590112.0   \n",
       "1  0xe23308c15434f903825112035cc1d26914fab078   60816.0   \n",
       "2  0x9c590bb4e0ffb4c9adfc03dfa2ee2484502ce067   43567.0   \n",
       "3  0xaa6c6d0ed231da328814c2b7853d2e4350b70000  294969.0   \n",
       "4  0xd1f01c4bc479967f4dbde0a73f961dd14afa524f  343872.0   \n",
       "\n",
       "                                 uuid.2    user_id  \n",
       "0  2d45d118-3d6f-4c7f-930d-5c9f3d56f612  7418689.0  \n",
       "1  6ee964db-f14c-49ad-84db-84d937463cb3    25939.0  \n",
       "2  5cbe41a2-b90c-43cb-9560-af5cb0cb2b2f  7361874.0  \n",
       "3  182f98d8-9098-4763-be3d-4e47985beb8f  8000019.0  \n",
       "4  abe31f57-dcd4-4bec-a434-414e2c0d2181  8000019.0  "
      ]
     },
     "execution_count": 3,
     "metadata": {},
     "output_type": "execute_result"
    }
   ],
   "source": [
    "# core wallet df\n",
    "core_wallet_df = pd.read_excel(\n",
    "    \"/Users/floras/Desktop/unique-user/moca-airdrop/data/moca_airdrop_user_info.xlsx\"\n",
    ")\n",
    "core_wallet_df.head()"
   ]
  },
  {
   "cell_type": "code",
   "execution_count": 4,
   "metadata": {},
   "outputs": [],
   "source": [
    "# Get core wallet list\n",
    "core_wallet_lst = core_wallet_df[\"address\"].tolist()\n",
    "# Get core wallet set\n",
    "core_wallet_set = set(core_wallet_lst)"
   ]
  },
  {
   "cell_type": "code",
   "execution_count": 5,
   "metadata": {},
   "outputs": [],
   "source": [
    "# Import transaction data\n",
    "native_trans_path = \"/Users/floras/Desktop/unique-user/moca-airdrop/data/raw-data\"\n",
    "native_trans_file_lst = file_name_lst(\n",
    "    native_trans_path, startswith=\"native_m1\", endswith=\".csv\"\n",
    ")"
   ]
  },
  {
   "cell_type": "code",
   "execution_count": 6,
   "metadata": {},
   "outputs": [
    {
     "name": "stdout",
     "output_type": "stream",
     "text": [
      "(28137, 4)\n"
     ]
    },
    {
     "data": {
      "text/html": [
       "<div>\n",
       "<style scoped>\n",
       "    .dataframe tbody tr th:only-of-type {\n",
       "        vertical-align: middle;\n",
       "    }\n",
       "\n",
       "    .dataframe tbody tr th {\n",
       "        vertical-align: top;\n",
       "    }\n",
       "\n",
       "    .dataframe thead th {\n",
       "        text-align: right;\n",
       "    }\n",
       "</style>\n",
       "<table border=\"1\" class=\"dataframe\">\n",
       "  <thead>\n",
       "    <tr style=\"text-align: right;\">\n",
       "      <th></th>\n",
       "      <th>timestamp</th>\n",
       "      <th>from_address</th>\n",
       "      <th>to_address</th>\n",
       "      <th>tx_count</th>\n",
       "    </tr>\n",
       "  </thead>\n",
       "  <tbody>\n",
       "    <tr>\n",
       "      <th>0</th>\n",
       "      <td>2024-01-01 00:00:00.000 UTC</td>\n",
       "      <td>0xf3a8ae48c5029aab66f65be26ece0ff43bd1486f</td>\n",
       "      <td>0x25c805eaa831a0c98f45580e50676e041dcc87b8</td>\n",
       "      <td>1</td>\n",
       "    </tr>\n",
       "    <tr>\n",
       "      <th>1</th>\n",
       "      <td>2024-01-01 00:00:00.000 UTC</td>\n",
       "      <td>0xc888aea684b1d8f3b832f356dfc84bf0a1dc3406</td>\n",
       "      <td>0x9347ea27d20da04fa3af9444ebd086c73ff6553b</td>\n",
       "      <td>2</td>\n",
       "    </tr>\n",
       "    <tr>\n",
       "      <th>2</th>\n",
       "      <td>2024-01-01 00:00:00.000 UTC</td>\n",
       "      <td>0xb6f7f9326d631133c2b16e8822e6320ccfc34e23</td>\n",
       "      <td>0x852c2bd9230dcbf2a704d36b96a33c45e07ca192</td>\n",
       "      <td>1</td>\n",
       "    </tr>\n",
       "    <tr>\n",
       "      <th>3</th>\n",
       "      <td>2024-01-01 00:00:00.000 UTC</td>\n",
       "      <td>0x6bf7891adc8822aa26de1665887cccf921d475b8</td>\n",
       "      <td>0xd4118ba3793e1c20d6136bee2539ca011691d010</td>\n",
       "      <td>2</td>\n",
       "    </tr>\n",
       "    <tr>\n",
       "      <th>4</th>\n",
       "      <td>2024-01-01 00:00:00.000 UTC</td>\n",
       "      <td>0x077d360f11d220e4d5d831430c81c26c9be7c4a4</td>\n",
       "      <td>0x1f1bab9c578d92a10e2a061f86a9e6f74f25a8b5</td>\n",
       "      <td>1</td>\n",
       "    </tr>\n",
       "  </tbody>\n",
       "</table>\n",
       "</div>"
      ],
      "text/plain": [
       "                     timestamp                                from_address  \\\n",
       "0  2024-01-01 00:00:00.000 UTC  0xf3a8ae48c5029aab66f65be26ece0ff43bd1486f   \n",
       "1  2024-01-01 00:00:00.000 UTC  0xc888aea684b1d8f3b832f356dfc84bf0a1dc3406   \n",
       "2  2024-01-01 00:00:00.000 UTC  0xb6f7f9326d631133c2b16e8822e6320ccfc34e23   \n",
       "3  2024-01-01 00:00:00.000 UTC  0x6bf7891adc8822aa26de1665887cccf921d475b8   \n",
       "4  2024-01-01 00:00:00.000 UTC  0x077d360f11d220e4d5d831430c81c26c9be7c4a4   \n",
       "\n",
       "                                   to_address  tx_count  \n",
       "0  0x25c805eaa831a0c98f45580e50676e041dcc87b8         1  \n",
       "1  0x9347ea27d20da04fa3af9444ebd086c73ff6553b         2  \n",
       "2  0x852c2bd9230dcbf2a704d36b96a33c45e07ca192         1  \n",
       "3  0xd4118ba3793e1c20d6136bee2539ca011691d010         2  \n",
       "4  0x1f1bab9c578d92a10e2a061f86a9e6f74f25a8b5         1  "
      ]
     },
     "execution_count": 6,
     "metadata": {},
     "output_type": "execute_result"
    }
   ],
   "source": [
    "native_trans_df_0 = read_from_multiple_csv(native_trans_path, native_trans_file_lst)\n",
    "native_trans_df_0.columns = [\n",
    "    \"timestamp\",\n",
    "    \"from_address\",\n",
    "    \"to_address\",\n",
    "    \"tx_count\",\n",
    "]\n",
    "# remove self transactions\n",
    "native_trans_df_0 = native_trans_df_0[\n",
    "    native_trans_df_0[\"from_address\"] != native_trans_df_0[\"to_address\"]\n",
    "]\n",
    "print(native_trans_df_0.shape)\n",
    "native_trans_df_0.head()"
   ]
  },
  {
   "cell_type": "markdown",
   "metadata": {},
   "source": [
    "# remove contract/hot wallets & transactions"
   ]
  },
  {
   "cell_type": "markdown",
   "metadata": {},
   "source": [
    "## Define wallets to be checked based on the number of interacted wallets"
   ]
  },
  {
   "cell_type": "code",
   "execution_count": 7,
   "metadata": {},
   "outputs": [],
   "source": [
    "def columns_unique_items(df, column_name_lst):\n",
    "    unique_items = []\n",
    "    for column_name in column_name_lst:\n",
    "        unique_items.extend(df[column_name].unique().tolist())\n",
    "    return list(set(unique_items))"
   ]
  },
  {
   "cell_type": "code",
   "execution_count": 8,
   "metadata": {},
   "outputs": [],
   "source": [
    "all_wallets = columns_unique_items(native_trans_df_0, [\"from_address\", \"to_address\"])"
   ]
  },
  {
   "cell_type": "code",
   "execution_count": 9,
   "metadata": {},
   "outputs": [],
   "source": [
    "def columns_item_count(unique_pairs_df, w_cols=[\"wallet_a\", \"wallet_b\"]):\n",
    "    # Flatten the selected columns into a single list\n",
    "    wallet_z = unique_pairs_df[w_cols].values.flatten()\n",
    "    # Count occurrences of each wallet using Counter\n",
    "    wallet_z_count = Counter(wallet_z)\n",
    "    # Convert the Counter object into a DataFrame\n",
    "    wallet_z_count_df = pd.DataFrame(\n",
    "        wallet_z_count.items(), columns=[\"wallet\", \"interacted_wallets\"]\n",
    "    )\n",
    "    # Return the resulting DataFrame\n",
    "    return wallet_z_count_df"
   ]
  },
  {
   "cell_type": "code",
   "execution_count": 10,
   "metadata": {},
   "outputs": [],
   "source": [
    "def columns_item_unique_pairs(\n",
    "    raw_transaction_df, address_cols=[\"from_address\", \"to_address\"]\n",
    "):\n",
    "    # Ensure input columns are present in the DataFrame\n",
    "    if not all(col in raw_transaction_df.columns for col in address_cols):\n",
    "        raise ValueError(f\"Columns {address_cols} not found in the DataFrame.\")\n",
    "\n",
    "    # Convert the columns to strings to ensure consistent dtype\n",
    "    raw_transaction_df[address_cols] = raw_transaction_df[address_cols].astype(str)\n",
    "    # Create sorted pairs using numpy operations (faster than apply)\n",
    "    pairs = np.sort(raw_transaction_df[address_cols].to_numpy(dtype=str), axis=1)\n",
    "    # Deduplicate pairs using numpy.unique\n",
    "    unique_pairs = np.unique(pairs, axis=0)\n",
    "    # Create a DataFrame for unique pairs\n",
    "    unique_pairs_df = pd.DataFrame(unique_pairs, columns=[\"wallet_a\", \"wallet_b\"])\n",
    "\n",
    "    return unique_pairs_df"
   ]
  },
  {
   "cell_type": "code",
   "execution_count": 11,
   "metadata": {},
   "outputs": [],
   "source": [
    "def columns_item_unique_pair_counts(\n",
    "    raw_transaction_df, address_cols=[\"from_address\", \"to_address\"]\n",
    "):\n",
    "    unique_pairs_df = columns_item_unique_pairs(raw_transaction_df, address_cols)\n",
    "    # Use the optimized columns_item_count function\n",
    "    wallet_count = columns_item_count(unique_pairs_df, w_cols=[\"wallet_a\", \"wallet_b\"])\n",
    "    # Reset index before returning\n",
    "    wallet_count.reset_index(drop=True, inplace=True)\n",
    "    return wallet_count"
   ]
  },
  {
   "cell_type": "code",
   "execution_count": 12,
   "metadata": {},
   "outputs": [
    {
     "data": {
      "text/html": [
       "<div>\n",
       "<style scoped>\n",
       "    .dataframe tbody tr th:only-of-type {\n",
       "        vertical-align: middle;\n",
       "    }\n",
       "\n",
       "    .dataframe tbody tr th {\n",
       "        vertical-align: top;\n",
       "    }\n",
       "\n",
       "    .dataframe thead th {\n",
       "        text-align: right;\n",
       "    }\n",
       "</style>\n",
       "<table border=\"1\" class=\"dataframe\">\n",
       "  <thead>\n",
       "    <tr style=\"text-align: right;\">\n",
       "      <th></th>\n",
       "      <th>wallet</th>\n",
       "      <th>interacted_wallets</th>\n",
       "    </tr>\n",
       "  </thead>\n",
       "  <tbody>\n",
       "    <tr>\n",
       "      <th>0</th>\n",
       "      <td>0x00000002f32c0886ee65d68059fbdb76ef6a6996</td>\n",
       "      <td>5</td>\n",
       "    </tr>\n",
       "    <tr>\n",
       "      <th>1</th>\n",
       "      <td>0x04f23cfd959b1f8aaf492e1d44c4c567102cf7db</td>\n",
       "      <td>3</td>\n",
       "    </tr>\n",
       "    <tr>\n",
       "      <th>2</th>\n",
       "      <td>0x7fd06d484a0d6ae974c3b45e1e63ff9ee5160889</td>\n",
       "      <td>3</td>\n",
       "    </tr>\n",
       "    <tr>\n",
       "      <th>3</th>\n",
       "      <td>0x8888889e0adf6c5afe2d5a6af91d31984365a1aa</td>\n",
       "      <td>3</td>\n",
       "    </tr>\n",
       "    <tr>\n",
       "      <th>4</th>\n",
       "      <td>0xe43888320d5361ce4357d0dccdb2aee4ad99b9a0</td>\n",
       "      <td>20</td>\n",
       "    </tr>\n",
       "  </tbody>\n",
       "</table>\n",
       "</div>"
      ],
      "text/plain": [
       "                                       wallet  interacted_wallets\n",
       "0  0x00000002f32c0886ee65d68059fbdb76ef6a6996                   5\n",
       "1  0x04f23cfd959b1f8aaf492e1d44c4c567102cf7db                   3\n",
       "2  0x7fd06d484a0d6ae974c3b45e1e63ff9ee5160889                   3\n",
       "3  0x8888889e0adf6c5afe2d5a6af91d31984365a1aa                   3\n",
       "4  0xe43888320d5361ce4357d0dccdb2aee4ad99b9a0                  20"
      ]
     },
     "execution_count": 12,
     "metadata": {},
     "output_type": "execute_result"
    }
   ],
   "source": [
    "sample_wallet_pair_count_df = columns_item_unique_pair_counts(native_trans_df_0)\n",
    "sample_wallet_pair_count_df.head()"
   ]
  },
  {
   "cell_type": "code",
   "execution_count": 13,
   "metadata": {},
   "outputs": [
    {
     "data": {
      "text/plain": [
       "['0x00000002f32c0886ee65d68059fbdb76ef6a6996',\n",
       " '0x04f23cfd959b1f8aaf492e1d44c4c567102cf7db',\n",
       " '0x7fd06d484a0d6ae974c3b45e1e63ff9ee5160889',\n",
       " '0x8888889e0adf6c5afe2d5a6af91d31984365a1aa',\n",
       " '0xe43888320d5361ce4357d0dccdb2aee4ad99b9a0']"
      ]
     },
     "execution_count": 13,
     "metadata": {},
     "output_type": "execute_result"
    }
   ],
   "source": [
    "check_contract_wallet_lst = sample_wallet_pair_count_df[\n",
    "    sample_wallet_pair_count_df[\"interacted_wallets\"] > 1\n",
    "][\"wallet\"].tolist()\n",
    "check_contract_wallet_lst[:5]"
   ]
  },
  {
   "cell_type": "code",
   "execution_count": 14,
   "metadata": {},
   "outputs": [],
   "source": [
    "def refine_lst(lst, exclude_lst):\n",
    "    exclude_set = set(exclude_lst)\n",
    "    return [x for x in lst if x not in exclude_set]"
   ]
  },
  {
   "cell_type": "code",
   "execution_count": 15,
   "metadata": {},
   "outputs": [],
   "source": [
    "# remove core wallets from check_contract_wallet_lst\n",
    "check_contract_wallet_lst = refine_lst(check_contract_wallet_lst, core_wallet_lst)"
   ]
  },
  {
   "cell_type": "markdown",
   "metadata": {},
   "source": [
    "## get contract wallets list"
   ]
  },
  {
   "cell_type": "code",
   "execution_count": 16,
   "metadata": {},
   "outputs": [],
   "source": [
    "def check_contract_wallet_addresses(wallet_addresses, max_threads=10):\n",
    "    contract_wallets = []\n",
    "    with ThreadPoolExecutor(max_threads) as executor:\n",
    "        # Submit tasks for concurrent execution\n",
    "        futures = [\n",
    "            executor.submit(check_contract, wallet) for wallet in wallet_addresses\n",
    "        ]\n",
    "        for future in futures:\n",
    "            results = future.result()\n",
    "            if results:\n",
    "                contract_wallets.append(results)\n",
    "    return contract_wallets"
   ]
  },
  {
   "cell_type": "code",
   "execution_count": 17,
   "metadata": {},
   "outputs": [
    {
     "name": "stdout",
     "output_type": "stream",
     "text": [
      "0x4d9339dd97db55e3b9bcbe65de39ff9c04d1c2cd is a contract on etherscan\n"
     ]
    },
    {
     "data": {
      "text/plain": [
       "['0x4d9339dd97db55e3b9bcbe65de39ff9c04d1c2cd']"
      ]
     },
     "execution_count": 17,
     "metadata": {},
     "output_type": "execute_result"
    }
   ],
   "source": [
    "check_contract_wallet_addresses(check_contract_wallet_lst[:10])"
   ]
  },
  {
   "cell_type": "markdown",
   "metadata": {},
   "source": [
    "## get hot wallets list"
   ]
  },
  {
   "cell_type": "code",
   "execution_count": 18,
   "metadata": {},
   "outputs": [
    {
     "data": {
      "text/plain": [
       "['0x3b5a23f6207d87b423c6789d2625ea620423b32d',\n",
       " '0xdd3cb5c974601bc3974d908ea4a86020f9999e0c']"
      ]
     },
     "execution_count": 18,
     "metadata": {},
     "output_type": "execute_result"
    }
   ],
   "source": [
    "check_frequent_wallets(\n",
    "    check_contract_wallet_lst[10:15], start_date_=\"2024-12-01\", end_date_=\"2024-12-02\"\n",
    ")"
   ]
  },
  {
   "cell_type": "markdown",
   "metadata": {},
   "source": [
    "## remove contract/hot transactions"
   ]
  },
  {
   "cell_type": "code",
   "execution_count": 19,
   "metadata": {},
   "outputs": [],
   "source": [
    "def filter_blacklist_transactions(df, col_lst, contract_lst):\n",
    "    for col in col_lst:\n",
    "        df = df[~df[col].isin(contract_lst)]\n",
    "    return df"
   ]
  },
  {
   "cell_type": "markdown",
   "metadata": {},
   "source": [
    "# Define weight"
   ]
  },
  {
   "cell_type": "code",
   "execution_count": 20,
   "metadata": {},
   "outputs": [],
   "source": [
    "def columns_item_unique_pair_sums(\n",
    "    raw_transaction_df, address_cols=[\"from_address\", \"to_address\"], sum_col=\"tx_count\"\n",
    "):\n",
    "    raw_transaction_df[\"pair\"] = raw_transaction_df[address_cols].apply(\n",
    "        lambda x: tuple(sorted(x)), axis=1\n",
    "    )\n",
    "    unique_pair_sums = raw_transaction_df.groupby(\"pair\")[sum_col].sum().reset_index()\n",
    "    unique_pair_sums[\"node_a\"] = unique_pair_sums[\"pair\"].apply(lambda x: x[0])\n",
    "    unique_pair_sums[\"node_b\"] = unique_pair_sums[\"pair\"].apply(lambda x: x[1])\n",
    "    unique_pair_sums.drop(columns=[\"pair\"], inplace=True)\n",
    "    return unique_pair_sums"
   ]
  },
  {
   "cell_type": "code",
   "execution_count": 21,
   "metadata": {},
   "outputs": [],
   "source": [
    "def sigmoid_weight_transform(df, turning_point=2, col=\"tx_count\"):\n",
    "    df[\"weight\"] = df[col].apply(lambda x: stretched_sigmoid(x, 2 / turning_point))\n",
    "    return df"
   ]
  },
  {
   "cell_type": "code",
   "execution_count": 22,
   "metadata": {},
   "outputs": [
    {
     "data": {
      "text/html": [
       "<div>\n",
       "<style scoped>\n",
       "    .dataframe tbody tr th:only-of-type {\n",
       "        vertical-align: middle;\n",
       "    }\n",
       "\n",
       "    .dataframe tbody tr th {\n",
       "        vertical-align: top;\n",
       "    }\n",
       "\n",
       "    .dataframe thead th {\n",
       "        text-align: right;\n",
       "    }\n",
       "</style>\n",
       "<table border=\"1\" class=\"dataframe\">\n",
       "  <thead>\n",
       "    <tr style=\"text-align: right;\">\n",
       "      <th></th>\n",
       "      <th>tx_count</th>\n",
       "      <th>node_a</th>\n",
       "      <th>node_b</th>\n",
       "      <th>weight</th>\n",
       "    </tr>\n",
       "  </thead>\n",
       "  <tbody>\n",
       "    <tr>\n",
       "      <th>0</th>\n",
       "      <td>2</td>\n",
       "      <td>0x00000002f32c0886ee65d68059fbdb76ef6a6996</td>\n",
       "      <td>0x04f23cfd959b1f8aaf492e1d44c4c567102cf7db</td>\n",
       "      <td>0.689974</td>\n",
       "    </tr>\n",
       "    <tr>\n",
       "      <th>1</th>\n",
       "      <td>3</td>\n",
       "      <td>0x00000002f32c0886ee65d68059fbdb76ef6a6996</td>\n",
       "      <td>0x7fd06d484a0d6ae974c3b45e1e63ff9ee5160889</td>\n",
       "      <td>0.768525</td>\n",
       "    </tr>\n",
       "    <tr>\n",
       "      <th>2</th>\n",
       "      <td>1</td>\n",
       "      <td>0x00000002f32c0886ee65d68059fbdb76ef6a6996</td>\n",
       "      <td>0x8888889e0adf6c5afe2d5a6af91d31984365a1aa</td>\n",
       "      <td>0.598688</td>\n",
       "    </tr>\n",
       "    <tr>\n",
       "      <th>3</th>\n",
       "      <td>4</td>\n",
       "      <td>0x00000002f32c0886ee65d68059fbdb76ef6a6996</td>\n",
       "      <td>0xe43888320d5361ce4357d0dccdb2aee4ad99b9a0</td>\n",
       "      <td>0.832018</td>\n",
       "    </tr>\n",
       "    <tr>\n",
       "      <th>4</th>\n",
       "      <td>3</td>\n",
       "      <td>0x00000002f32c0886ee65d68059fbdb76ef6a6996</td>\n",
       "      <td>0xf36e5c04cdb9b465ce44e125c679f9d7a7fc799a</td>\n",
       "      <td>0.768525</td>\n",
       "    </tr>\n",
       "  </tbody>\n",
       "</table>\n",
       "</div>"
      ],
      "text/plain": [
       "   tx_count                                      node_a  \\\n",
       "0         2  0x00000002f32c0886ee65d68059fbdb76ef6a6996   \n",
       "1         3  0x00000002f32c0886ee65d68059fbdb76ef6a6996   \n",
       "2         1  0x00000002f32c0886ee65d68059fbdb76ef6a6996   \n",
       "3         4  0x00000002f32c0886ee65d68059fbdb76ef6a6996   \n",
       "4         3  0x00000002f32c0886ee65d68059fbdb76ef6a6996   \n",
       "\n",
       "                                       node_b    weight  \n",
       "0  0x04f23cfd959b1f8aaf492e1d44c4c567102cf7db  0.689974  \n",
       "1  0x7fd06d484a0d6ae974c3b45e1e63ff9ee5160889  0.768525  \n",
       "2  0x8888889e0adf6c5afe2d5a6af91d31984365a1aa  0.598688  \n",
       "3  0xe43888320d5361ce4357d0dccdb2aee4ad99b9a0  0.832018  \n",
       "4  0xf36e5c04cdb9b465ce44e125c679f9d7a7fc799a  0.768525  "
      ]
     },
     "execution_count": 22,
     "metadata": {},
     "output_type": "execute_result"
    }
   ],
   "source": [
    "weight_df = columns_item_unique_pair_sums(native_trans_df_0)\n",
    "weight_df = sigmoid_weight_transform(weight_df, 5)\n",
    "weight_df.head()"
   ]
  },
  {
   "cell_type": "markdown",
   "metadata": {},
   "source": [
    "# build community"
   ]
  },
  {
   "cell_type": "code",
   "execution_count": 23,
   "metadata": {},
   "outputs": [],
   "source": [
    "def louvain_community_lst_func(\n",
    "    df, resolution=1, node_cols=[\"node_a\", \"node_b\"], weight_col=\"weight\"\n",
    "):\n",
    "    unique_wallets_num = len(columns_unique_items(df, node_cols))\n",
    "    num_edges = df.shape[0]\n",
    "    print(f\"Number of unique wallets: {unique_wallets_num}\")\n",
    "    print(f\"Number of edges: {num_edges}\")\n",
    "\n",
    "    # Create a graph\n",
    "    G = nx.Graph()\n",
    "\n",
    "    # Add edges to the graph\n",
    "    for _, row in df.iterrows():\n",
    "        G.add_edge(row[node_cols[0]], row[node_cols[1]], weight=row[weight_col])\n",
    "\n",
    "    communities = algorithms.louvain(G, weight=weight_col, resolution=resolution)\n",
    "\n",
    "    communities_list = communities.communities\n",
    "    print(f\"Number of communities detected: {len(communities_list)}\")\n",
    "    print(\"-\")\n",
    "    display(pd.Series([len(community) for community in communities_list]).describe())\n",
    "    print(\"\")\n",
    "\n",
    "    communities_list = sorted(communities_list, key=lambda x: len(x), reverse=True)\n",
    "\n",
    "    return communities_list"
   ]
  },
  {
   "cell_type": "code",
   "execution_count": 24,
   "metadata": {},
   "outputs": [],
   "source": [
    "def nested_lst_to_loc_dict(nested_lst_):\n",
    "    loc_dict = {}\n",
    "    for i, commu in enumerate(nested_lst_):\n",
    "        for w in commu:\n",
    "            loc_dict[w] = i\n",
    "    return loc_dict"
   ]
  },
  {
   "cell_type": "code",
   "execution_count": 25,
   "metadata": {},
   "outputs": [
    {
     "name": "stdout",
     "output_type": "stream",
     "text": [
      "Number of unique wallets: 25198\n",
      "Number of edges: 23489\n",
      "Number of communities detected: 7103\n",
      "-\n"
     ]
    },
    {
     "data": {
      "text/plain": [
       "count    7103.000000\n",
       "mean        3.547515\n",
       "std         5.146977\n",
       "min         1.000000\n",
       "25%         1.000000\n",
       "50%         2.000000\n",
       "75%         4.000000\n",
       "max       102.000000\n",
       "dtype: float64"
      ]
     },
     "metadata": {},
     "output_type": "display_data"
    },
    {
     "name": "stdout",
     "output_type": "stream",
     "text": [
      "\n"
     ]
    }
   ],
   "source": [
    "louvain_community_lst = louvain_community_lst_func(weight_df, resolution=200)"
   ]
  },
  {
   "cell_type": "code",
   "execution_count": 26,
   "metadata": {},
   "outputs": [],
   "source": [
    "def louvain_community_df_func(louvain_community_lst_):\n",
    "    louvain_community_df_ = nested_lst_to_loc_dict(louvain_community_lst_)\n",
    "    louvain_community_df_ = pd.DataFrame.from_dict(\n",
    "        louvain_community_df_, orient=\"index\", columns=[\"community\"]\n",
    "    )\n",
    "    louvain_community_df_[\"type\"] = \"normal\"\n",
    "    return louvain_community_df_"
   ]
  },
  {
   "cell_type": "code",
   "execution_count": 27,
   "metadata": {},
   "outputs": [
    {
     "data": {
      "text/html": [
       "<div>\n",
       "<style scoped>\n",
       "    .dataframe tbody tr th:only-of-type {\n",
       "        vertical-align: middle;\n",
       "    }\n",
       "\n",
       "    .dataframe tbody tr th {\n",
       "        vertical-align: top;\n",
       "    }\n",
       "\n",
       "    .dataframe thead th {\n",
       "        text-align: right;\n",
       "    }\n",
       "</style>\n",
       "<table border=\"1\" class=\"dataframe\">\n",
       "  <thead>\n",
       "    <tr style=\"text-align: right;\">\n",
       "      <th></th>\n",
       "      <th>community</th>\n",
       "      <th>type</th>\n",
       "    </tr>\n",
       "  </thead>\n",
       "  <tbody>\n",
       "    <tr>\n",
       "      <th>0x031c605262ec85aec6f793a5dd13bf21b6464af8</th>\n",
       "      <td>0</td>\n",
       "      <td>normal</td>\n",
       "    </tr>\n",
       "    <tr>\n",
       "      <th>0xb5a260659533ed9fe659b8c4254e4ff37047eadd</th>\n",
       "      <td>0</td>\n",
       "      <td>normal</td>\n",
       "    </tr>\n",
       "    <tr>\n",
       "      <th>0x04531b9d88da0eb58bb379637d4a914bdc122fdf</th>\n",
       "      <td>0</td>\n",
       "      <td>normal</td>\n",
       "    </tr>\n",
       "    <tr>\n",
       "      <th>0x0886b7d1549b70144eee26f05cf937259a3002d7</th>\n",
       "      <td>0</td>\n",
       "      <td>normal</td>\n",
       "    </tr>\n",
       "    <tr>\n",
       "      <th>0x112bcd74c8664cedbc0357f0021dfd485c891393</th>\n",
       "      <td>0</td>\n",
       "      <td>normal</td>\n",
       "    </tr>\n",
       "    <tr>\n",
       "      <th>...</th>\n",
       "      <td>...</td>\n",
       "      <td>...</td>\n",
       "    </tr>\n",
       "    <tr>\n",
       "      <th>0xfd6c69023c610350d6135b190ffb15b04a7aa9f2</th>\n",
       "      <td>7098</td>\n",
       "      <td>normal</td>\n",
       "    </tr>\n",
       "    <tr>\n",
       "      <th>0xfe603af99a456eff9a34cd9b29e5a5db9ffd4927</th>\n",
       "      <td>7099</td>\n",
       "      <td>normal</td>\n",
       "    </tr>\n",
       "    <tr>\n",
       "      <th>0xfe8da89113f28f65d71ee7b79de3b65704784529</th>\n",
       "      <td>7100</td>\n",
       "      <td>normal</td>\n",
       "    </tr>\n",
       "    <tr>\n",
       "      <th>0xff60fa1389cafb68b0537d69c981f5c4409977e7</th>\n",
       "      <td>7101</td>\n",
       "      <td>normal</td>\n",
       "    </tr>\n",
       "    <tr>\n",
       "      <th>0xff77e7c66386fb41e3bc18db814a459f0fece9b9</th>\n",
       "      <td>7102</td>\n",
       "      <td>normal</td>\n",
       "    </tr>\n",
       "  </tbody>\n",
       "</table>\n",
       "<p>25198 rows × 2 columns</p>\n",
       "</div>"
      ],
      "text/plain": [
       "                                            community    type\n",
       "0x031c605262ec85aec6f793a5dd13bf21b6464af8          0  normal\n",
       "0xb5a260659533ed9fe659b8c4254e4ff37047eadd          0  normal\n",
       "0x04531b9d88da0eb58bb379637d4a914bdc122fdf          0  normal\n",
       "0x0886b7d1549b70144eee26f05cf937259a3002d7          0  normal\n",
       "0x112bcd74c8664cedbc0357f0021dfd485c891393          0  normal\n",
       "...                                               ...     ...\n",
       "0xfd6c69023c610350d6135b190ffb15b04a7aa9f2       7098  normal\n",
       "0xfe603af99a456eff9a34cd9b29e5a5db9ffd4927       7099  normal\n",
       "0xfe8da89113f28f65d71ee7b79de3b65704784529       7100  normal\n",
       "0xff60fa1389cafb68b0537d69c981f5c4409977e7       7101  normal\n",
       "0xff77e7c66386fb41e3bc18db814a459f0fece9b9       7102  normal\n",
       "\n",
       "[25198 rows x 2 columns]"
      ]
     },
     "execution_count": 27,
     "metadata": {},
     "output_type": "execute_result"
    }
   ],
   "source": [
    "louvain_community_df = louvain_community_df_func(louvain_community_lst)\n",
    "louvain_community_df"
   ]
  },
  {
   "cell_type": "markdown",
   "metadata": {},
   "source": [
    "### plot a community"
   ]
  },
  {
   "cell_type": "code",
   "execution_count": 57,
   "metadata": {},
   "outputs": [
    {
     "name": "stdout",
     "output_type": "stream",
     "text": [
      "(48, 4)\n"
     ]
    },
    {
     "data": {
      "text/html": [
       "<div>\n",
       "<style scoped>\n",
       "    .dataframe tbody tr th:only-of-type {\n",
       "        vertical-align: middle;\n",
       "    }\n",
       "\n",
       "    .dataframe tbody tr th {\n",
       "        vertical-align: top;\n",
       "    }\n",
       "\n",
       "    .dataframe thead th {\n",
       "        text-align: right;\n",
       "    }\n",
       "</style>\n",
       "<table border=\"1\" class=\"dataframe\">\n",
       "  <thead>\n",
       "    <tr style=\"text-align: right;\">\n",
       "      <th></th>\n",
       "      <th>tx_count</th>\n",
       "      <th>node_a</th>\n",
       "      <th>node_b</th>\n",
       "      <th>weight</th>\n",
       "    </tr>\n",
       "  </thead>\n",
       "  <tbody>\n",
       "    <tr>\n",
       "      <th>1499</th>\n",
       "      <td>1</td>\n",
       "      <td>0x06209554bc06b2bb2a12446c0f0c741da532789c</td>\n",
       "      <td>0xa18df49ebc121d2bcf756b40f1b97ce8b835830f</td>\n",
       "      <td>0.598688</td>\n",
       "    </tr>\n",
       "    <tr>\n",
       "      <th>2174</th>\n",
       "      <td>1</td>\n",
       "      <td>0x09ef42ac46bd91d3039f58ac1c055239c65362c8</td>\n",
       "      <td>0xa18df49ebc121d2bcf756b40f1b97ce8b835830f</td>\n",
       "      <td>0.598688</td>\n",
       "    </tr>\n",
       "    <tr>\n",
       "      <th>2436</th>\n",
       "      <td>1</td>\n",
       "      <td>0x0ba57409d04c154b6bc931ea6cee199e3b12444a</td>\n",
       "      <td>0xa18df49ebc121d2bcf756b40f1b97ce8b835830f</td>\n",
       "      <td>0.598688</td>\n",
       "    </tr>\n",
       "    <tr>\n",
       "      <th>3636</th>\n",
       "      <td>1</td>\n",
       "      <td>0x10befa88586c8a378849dfe932c59939e8548875</td>\n",
       "      <td>0xa18df49ebc121d2bcf756b40f1b97ce8b835830f</td>\n",
       "      <td>0.598688</td>\n",
       "    </tr>\n",
       "    <tr>\n",
       "      <th>4619</th>\n",
       "      <td>1</td>\n",
       "      <td>0x167479c2d37f5bd4259acaef05e9ca7c948e7eff</td>\n",
       "      <td>0xa18df49ebc121d2bcf756b40f1b97ce8b835830f</td>\n",
       "      <td>0.598688</td>\n",
       "    </tr>\n",
       "    <tr>\n",
       "      <th>9509</th>\n",
       "      <td>1</td>\n",
       "      <td>0x36017ca03dc27cf5ecd3545e6cfda790abe64a69</td>\n",
       "      <td>0xa18df49ebc121d2bcf756b40f1b97ce8b835830f</td>\n",
       "      <td>0.598688</td>\n",
       "    </tr>\n",
       "    <tr>\n",
       "      <th>9580</th>\n",
       "      <td>1</td>\n",
       "      <td>0x366d0f389109e84209924b444182d052d8ae03ea</td>\n",
       "      <td>0xa18df49ebc121d2bcf756b40f1b97ce8b835830f</td>\n",
       "      <td>0.598688</td>\n",
       "    </tr>\n",
       "    <tr>\n",
       "      <th>10646</th>\n",
       "      <td>1</td>\n",
       "      <td>0x3c1039f91726c25cb859782b1caa9eafd6bf0e63</td>\n",
       "      <td>0xa18df49ebc121d2bcf756b40f1b97ce8b835830f</td>\n",
       "      <td>0.598688</td>\n",
       "    </tr>\n",
       "    <tr>\n",
       "      <th>11132</th>\n",
       "      <td>1</td>\n",
       "      <td>0x400cd82b8c2565fec580ac0910ed2f1241bcaa97</td>\n",
       "      <td>0xa18df49ebc121d2bcf756b40f1b97ce8b835830f</td>\n",
       "      <td>0.598688</td>\n",
       "    </tr>\n",
       "    <tr>\n",
       "      <th>12411</th>\n",
       "      <td>1</td>\n",
       "      <td>0x4b3483c855d223141cc6f2a1b1dc82e6618f52ef</td>\n",
       "      <td>0xa18df49ebc121d2bcf756b40f1b97ce8b835830f</td>\n",
       "      <td>0.598688</td>\n",
       "    </tr>\n",
       "    <tr>\n",
       "      <th>12904</th>\n",
       "      <td>1</td>\n",
       "      <td>0x4eaf9f30f1d060da85d11624b9696e28528dad8a</td>\n",
       "      <td>0xa18df49ebc121d2bcf756b40f1b97ce8b835830f</td>\n",
       "      <td>0.598688</td>\n",
       "    </tr>\n",
       "    <tr>\n",
       "      <th>13277</th>\n",
       "      <td>1</td>\n",
       "      <td>0x519a784ea1ab15dd2342c02a903dde157feaecbe</td>\n",
       "      <td>0xa18df49ebc121d2bcf756b40f1b97ce8b835830f</td>\n",
       "      <td>0.598688</td>\n",
       "    </tr>\n",
       "    <tr>\n",
       "      <th>13503</th>\n",
       "      <td>1</td>\n",
       "      <td>0x53b4e9be19bf2dbd56cb4a6616b728327d4875e5</td>\n",
       "      <td>0xa18df49ebc121d2bcf756b40f1b97ce8b835830f</td>\n",
       "      <td>0.598688</td>\n",
       "    </tr>\n",
       "    <tr>\n",
       "      <th>13506</th>\n",
       "      <td>1</td>\n",
       "      <td>0x53c0d3811f103200e44f39a0f523046c3116a6dd</td>\n",
       "      <td>0xa18df49ebc121d2bcf756b40f1b97ce8b835830f</td>\n",
       "      <td>0.598688</td>\n",
       "    </tr>\n",
       "    <tr>\n",
       "      <th>13747</th>\n",
       "      <td>1</td>\n",
       "      <td>0x55ffe9070dc748c2efa5885ae40917abe842a811</td>\n",
       "      <td>0xa18df49ebc121d2bcf756b40f1b97ce8b835830f</td>\n",
       "      <td>0.598688</td>\n",
       "    </tr>\n",
       "    <tr>\n",
       "      <th>14071</th>\n",
       "      <td>1</td>\n",
       "      <td>0x5911035a34855c21dbc1fddf544946c360a43495</td>\n",
       "      <td>0xa18df49ebc121d2bcf756b40f1b97ce8b835830f</td>\n",
       "      <td>0.598688</td>\n",
       "    </tr>\n",
       "    <tr>\n",
       "      <th>15296</th>\n",
       "      <td>1</td>\n",
       "      <td>0x60bcd240135e3cf9901585090d1b08ff1f0c45e4</td>\n",
       "      <td>0xa18df49ebc121d2bcf756b40f1b97ce8b835830f</td>\n",
       "      <td>0.598688</td>\n",
       "    </tr>\n",
       "    <tr>\n",
       "      <th>15553</th>\n",
       "      <td>1</td>\n",
       "      <td>0x63666dc480b18c840d4990a680759730365861ab</td>\n",
       "      <td>0xa18df49ebc121d2bcf756b40f1b97ce8b835830f</td>\n",
       "      <td>0.598688</td>\n",
       "    </tr>\n",
       "    <tr>\n",
       "      <th>15835</th>\n",
       "      <td>1</td>\n",
       "      <td>0x6662b8dc2713dc077a9536f01abcac1e065efa19</td>\n",
       "      <td>0xa18df49ebc121d2bcf756b40f1b97ce8b835830f</td>\n",
       "      <td>0.598688</td>\n",
       "    </tr>\n",
       "    <tr>\n",
       "      <th>15916</th>\n",
       "      <td>1</td>\n",
       "      <td>0x67161d3afb0ed471b6651aa4899ae62ca4cfd2cf</td>\n",
       "      <td>0xa18df49ebc121d2bcf756b40f1b97ce8b835830f</td>\n",
       "      <td>0.598688</td>\n",
       "    </tr>\n",
       "    <tr>\n",
       "      <th>16354</th>\n",
       "      <td>1</td>\n",
       "      <td>0x6b6612149a94e04c0d90bc5699ea91e1f862db2f</td>\n",
       "      <td>0xa18df49ebc121d2bcf756b40f1b97ce8b835830f</td>\n",
       "      <td>0.598688</td>\n",
       "    </tr>\n",
       "    <tr>\n",
       "      <th>16473</th>\n",
       "      <td>1</td>\n",
       "      <td>0x6d03833ed2d9d06dcd27c3b9ca19b84cca97bf37</td>\n",
       "      <td>0xa18df49ebc121d2bcf756b40f1b97ce8b835830f</td>\n",
       "      <td>0.598688</td>\n",
       "    </tr>\n",
       "    <tr>\n",
       "      <th>17445</th>\n",
       "      <td>1</td>\n",
       "      <td>0x783b1cdc98070f7a694feb153f8d880a1f746809</td>\n",
       "      <td>0xa18df49ebc121d2bcf756b40f1b97ce8b835830f</td>\n",
       "      <td>0.598688</td>\n",
       "    </tr>\n",
       "    <tr>\n",
       "      <th>17476</th>\n",
       "      <td>1</td>\n",
       "      <td>0x7899c25752fbe44d7d62238137194fc0477a6114</td>\n",
       "      <td>0xa18df49ebc121d2bcf756b40f1b97ce8b835830f</td>\n",
       "      <td>0.598688</td>\n",
       "    </tr>\n",
       "    <tr>\n",
       "      <th>17519</th>\n",
       "      <td>1</td>\n",
       "      <td>0x7905fac8c765fe3df6c3ff4a4da70521150466b4</td>\n",
       "      <td>0xa18df49ebc121d2bcf756b40f1b97ce8b835830f</td>\n",
       "      <td>0.598688</td>\n",
       "    </tr>\n",
       "    <tr>\n",
       "      <th>17919</th>\n",
       "      <td>1</td>\n",
       "      <td>0x7d99529cc4f7fd723c16a956f687cf83a6815532</td>\n",
       "      <td>0xa18df49ebc121d2bcf756b40f1b97ce8b835830f</td>\n",
       "      <td>0.598688</td>\n",
       "    </tr>\n",
       "    <tr>\n",
       "      <th>19135</th>\n",
       "      <td>1</td>\n",
       "      <td>0x8ba8aa2e7589b8f89c212ea03fea86219b1e3558</td>\n",
       "      <td>0xa18df49ebc121d2bcf756b40f1b97ce8b835830f</td>\n",
       "      <td>0.598688</td>\n",
       "    </tr>\n",
       "    <tr>\n",
       "      <th>20203</th>\n",
       "      <td>1</td>\n",
       "      <td>0x9c180ea0636010aa85d97b23381f5a7401054b21</td>\n",
       "      <td>0xa18df49ebc121d2bcf756b40f1b97ce8b835830f</td>\n",
       "      <td>0.598688</td>\n",
       "    </tr>\n",
       "    <tr>\n",
       "      <th>20517</th>\n",
       "      <td>1</td>\n",
       "      <td>0xa18df49ebc121d2bcf756b40f1b97ce8b835830f</td>\n",
       "      <td>0xa391ca914b514bcdbe29c3ba54aba34870fe1bd5</td>\n",
       "      <td>0.598688</td>\n",
       "    </tr>\n",
       "    <tr>\n",
       "      <th>20518</th>\n",
       "      <td>1</td>\n",
       "      <td>0xa18df49ebc121d2bcf756b40f1b97ce8b835830f</td>\n",
       "      <td>0xa79b0ec9d6e76f7bd1341a174f02e0cf57f8b553</td>\n",
       "      <td>0.598688</td>\n",
       "    </tr>\n",
       "    <tr>\n",
       "      <th>20519</th>\n",
       "      <td>1</td>\n",
       "      <td>0xa18df49ebc121d2bcf756b40f1b97ce8b835830f</td>\n",
       "      <td>0xa900b524a72c9ec986cee19a69fc32f6fb4d44b6</td>\n",
       "      <td>0.598688</td>\n",
       "    </tr>\n",
       "    <tr>\n",
       "      <th>20520</th>\n",
       "      <td>1</td>\n",
       "      <td>0xa18df49ebc121d2bcf756b40f1b97ce8b835830f</td>\n",
       "      <td>0xb412778910bf0d66254219dbc64fd4a8797ca280</td>\n",
       "      <td>0.598688</td>\n",
       "    </tr>\n",
       "    <tr>\n",
       "      <th>20521</th>\n",
       "      <td>1</td>\n",
       "      <td>0xa18df49ebc121d2bcf756b40f1b97ce8b835830f</td>\n",
       "      <td>0xb4dacc1c9a7962992b6fcc232c38f1ef3aeb0bb8</td>\n",
       "      <td>0.598688</td>\n",
       "    </tr>\n",
       "    <tr>\n",
       "      <th>20522</th>\n",
       "      <td>1</td>\n",
       "      <td>0xa18df49ebc121d2bcf756b40f1b97ce8b835830f</td>\n",
       "      <td>0xb5c1cffe7e6bc981f85aea828392dea7ef042770</td>\n",
       "      <td>0.598688</td>\n",
       "    </tr>\n",
       "    <tr>\n",
       "      <th>20523</th>\n",
       "      <td>1</td>\n",
       "      <td>0xa18df49ebc121d2bcf756b40f1b97ce8b835830f</td>\n",
       "      <td>0xba821f0a67a75ce65f215cd16a655b0e2c00aa34</td>\n",
       "      <td>0.598688</td>\n",
       "    </tr>\n",
       "    <tr>\n",
       "      <th>20524</th>\n",
       "      <td>1</td>\n",
       "      <td>0xa18df49ebc121d2bcf756b40f1b97ce8b835830f</td>\n",
       "      <td>0xbd4110ecb0372163ffcfcfb3345b579e707c6bdb</td>\n",
       "      <td>0.598688</td>\n",
       "    </tr>\n",
       "    <tr>\n",
       "      <th>20525</th>\n",
       "      <td>1</td>\n",
       "      <td>0xa18df49ebc121d2bcf756b40f1b97ce8b835830f</td>\n",
       "      <td>0xc1bef26ba79174e03d82433384608dc3be04e585</td>\n",
       "      <td>0.598688</td>\n",
       "    </tr>\n",
       "    <tr>\n",
       "      <th>20526</th>\n",
       "      <td>1</td>\n",
       "      <td>0xa18df49ebc121d2bcf756b40f1b97ce8b835830f</td>\n",
       "      <td>0xcc92c8c7c2dbc43fb0d833a62aa2cac44328e08d</td>\n",
       "      <td>0.598688</td>\n",
       "    </tr>\n",
       "    <tr>\n",
       "      <th>20527</th>\n",
       "      <td>1</td>\n",
       "      <td>0xa18df49ebc121d2bcf756b40f1b97ce8b835830f</td>\n",
       "      <td>0xd18df0005392a67da8419b5d301719f42b26df0d</td>\n",
       "      <td>0.598688</td>\n",
       "    </tr>\n",
       "    <tr>\n",
       "      <th>20528</th>\n",
       "      <td>1</td>\n",
       "      <td>0xa18df49ebc121d2bcf756b40f1b97ce8b835830f</td>\n",
       "      <td>0xd2d9b20d9847a7c96c93c385c8d6e85164700470</td>\n",
       "      <td>0.598688</td>\n",
       "    </tr>\n",
       "    <tr>\n",
       "      <th>20529</th>\n",
       "      <td>1</td>\n",
       "      <td>0xa18df49ebc121d2bcf756b40f1b97ce8b835830f</td>\n",
       "      <td>0xd8d6af5e32c7cc39faebfc041063fee4674ba56f</td>\n",
       "      <td>0.598688</td>\n",
       "    </tr>\n",
       "    <tr>\n",
       "      <th>20530</th>\n",
       "      <td>1</td>\n",
       "      <td>0xa18df49ebc121d2bcf756b40f1b97ce8b835830f</td>\n",
       "      <td>0xdb2620c92f8e0aef798572ef82dd672040f69635</td>\n",
       "      <td>0.598688</td>\n",
       "    </tr>\n",
       "    <tr>\n",
       "      <th>20531</th>\n",
       "      <td>1</td>\n",
       "      <td>0xa18df49ebc121d2bcf756b40f1b97ce8b835830f</td>\n",
       "      <td>0xdbfb6cca29838ea27ab39b58c968d06c5662829f</td>\n",
       "      <td>0.598688</td>\n",
       "    </tr>\n",
       "    <tr>\n",
       "      <th>20532</th>\n",
       "      <td>1</td>\n",
       "      <td>0xa18df49ebc121d2bcf756b40f1b97ce8b835830f</td>\n",
       "      <td>0xdcbc43d71674b261b3d0ee76a5dcbfd26e921552</td>\n",
       "      <td>0.598688</td>\n",
       "    </tr>\n",
       "    <tr>\n",
       "      <th>20533</th>\n",
       "      <td>1</td>\n",
       "      <td>0xa18df49ebc121d2bcf756b40f1b97ce8b835830f</td>\n",
       "      <td>0xe1be43ed60226b11ab1287d074d7b72b56e33367</td>\n",
       "      <td>0.598688</td>\n",
       "    </tr>\n",
       "    <tr>\n",
       "      <th>20534</th>\n",
       "      <td>1</td>\n",
       "      <td>0xa18df49ebc121d2bcf756b40f1b97ce8b835830f</td>\n",
       "      <td>0xed5359a1b3afd86ef23dcc1ddb78c3d990b16edf</td>\n",
       "      <td>0.598688</td>\n",
       "    </tr>\n",
       "    <tr>\n",
       "      <th>20535</th>\n",
       "      <td>1</td>\n",
       "      <td>0xa18df49ebc121d2bcf756b40f1b97ce8b835830f</td>\n",
       "      <td>0xf9ec10e88b14702a98d7b578c3589100ba777d77</td>\n",
       "      <td>0.598688</td>\n",
       "    </tr>\n",
       "    <tr>\n",
       "      <th>20536</th>\n",
       "      <td>1</td>\n",
       "      <td>0xa18df49ebc121d2bcf756b40f1b97ce8b835830f</td>\n",
       "      <td>0xfba398e4e02b89f8dc91ada406266d2e9ff31744</td>\n",
       "      <td>0.598688</td>\n",
       "    </tr>\n",
       "  </tbody>\n",
       "</table>\n",
       "</div>"
      ],
      "text/plain": [
       "       tx_count                                      node_a  \\\n",
       "1499          1  0x06209554bc06b2bb2a12446c0f0c741da532789c   \n",
       "2174          1  0x09ef42ac46bd91d3039f58ac1c055239c65362c8   \n",
       "2436          1  0x0ba57409d04c154b6bc931ea6cee199e3b12444a   \n",
       "3636          1  0x10befa88586c8a378849dfe932c59939e8548875   \n",
       "4619          1  0x167479c2d37f5bd4259acaef05e9ca7c948e7eff   \n",
       "9509          1  0x36017ca03dc27cf5ecd3545e6cfda790abe64a69   \n",
       "9580          1  0x366d0f389109e84209924b444182d052d8ae03ea   \n",
       "10646         1  0x3c1039f91726c25cb859782b1caa9eafd6bf0e63   \n",
       "11132         1  0x400cd82b8c2565fec580ac0910ed2f1241bcaa97   \n",
       "12411         1  0x4b3483c855d223141cc6f2a1b1dc82e6618f52ef   \n",
       "12904         1  0x4eaf9f30f1d060da85d11624b9696e28528dad8a   \n",
       "13277         1  0x519a784ea1ab15dd2342c02a903dde157feaecbe   \n",
       "13503         1  0x53b4e9be19bf2dbd56cb4a6616b728327d4875e5   \n",
       "13506         1  0x53c0d3811f103200e44f39a0f523046c3116a6dd   \n",
       "13747         1  0x55ffe9070dc748c2efa5885ae40917abe842a811   \n",
       "14071         1  0x5911035a34855c21dbc1fddf544946c360a43495   \n",
       "15296         1  0x60bcd240135e3cf9901585090d1b08ff1f0c45e4   \n",
       "15553         1  0x63666dc480b18c840d4990a680759730365861ab   \n",
       "15835         1  0x6662b8dc2713dc077a9536f01abcac1e065efa19   \n",
       "15916         1  0x67161d3afb0ed471b6651aa4899ae62ca4cfd2cf   \n",
       "16354         1  0x6b6612149a94e04c0d90bc5699ea91e1f862db2f   \n",
       "16473         1  0x6d03833ed2d9d06dcd27c3b9ca19b84cca97bf37   \n",
       "17445         1  0x783b1cdc98070f7a694feb153f8d880a1f746809   \n",
       "17476         1  0x7899c25752fbe44d7d62238137194fc0477a6114   \n",
       "17519         1  0x7905fac8c765fe3df6c3ff4a4da70521150466b4   \n",
       "17919         1  0x7d99529cc4f7fd723c16a956f687cf83a6815532   \n",
       "19135         1  0x8ba8aa2e7589b8f89c212ea03fea86219b1e3558   \n",
       "20203         1  0x9c180ea0636010aa85d97b23381f5a7401054b21   \n",
       "20517         1  0xa18df49ebc121d2bcf756b40f1b97ce8b835830f   \n",
       "20518         1  0xa18df49ebc121d2bcf756b40f1b97ce8b835830f   \n",
       "20519         1  0xa18df49ebc121d2bcf756b40f1b97ce8b835830f   \n",
       "20520         1  0xa18df49ebc121d2bcf756b40f1b97ce8b835830f   \n",
       "20521         1  0xa18df49ebc121d2bcf756b40f1b97ce8b835830f   \n",
       "20522         1  0xa18df49ebc121d2bcf756b40f1b97ce8b835830f   \n",
       "20523         1  0xa18df49ebc121d2bcf756b40f1b97ce8b835830f   \n",
       "20524         1  0xa18df49ebc121d2bcf756b40f1b97ce8b835830f   \n",
       "20525         1  0xa18df49ebc121d2bcf756b40f1b97ce8b835830f   \n",
       "20526         1  0xa18df49ebc121d2bcf756b40f1b97ce8b835830f   \n",
       "20527         1  0xa18df49ebc121d2bcf756b40f1b97ce8b835830f   \n",
       "20528         1  0xa18df49ebc121d2bcf756b40f1b97ce8b835830f   \n",
       "20529         1  0xa18df49ebc121d2bcf756b40f1b97ce8b835830f   \n",
       "20530         1  0xa18df49ebc121d2bcf756b40f1b97ce8b835830f   \n",
       "20531         1  0xa18df49ebc121d2bcf756b40f1b97ce8b835830f   \n",
       "20532         1  0xa18df49ebc121d2bcf756b40f1b97ce8b835830f   \n",
       "20533         1  0xa18df49ebc121d2bcf756b40f1b97ce8b835830f   \n",
       "20534         1  0xa18df49ebc121d2bcf756b40f1b97ce8b835830f   \n",
       "20535         1  0xa18df49ebc121d2bcf756b40f1b97ce8b835830f   \n",
       "20536         1  0xa18df49ebc121d2bcf756b40f1b97ce8b835830f   \n",
       "\n",
       "                                           node_b    weight  \n",
       "1499   0xa18df49ebc121d2bcf756b40f1b97ce8b835830f  0.598688  \n",
       "2174   0xa18df49ebc121d2bcf756b40f1b97ce8b835830f  0.598688  \n",
       "2436   0xa18df49ebc121d2bcf756b40f1b97ce8b835830f  0.598688  \n",
       "3636   0xa18df49ebc121d2bcf756b40f1b97ce8b835830f  0.598688  \n",
       "4619   0xa18df49ebc121d2bcf756b40f1b97ce8b835830f  0.598688  \n",
       "9509   0xa18df49ebc121d2bcf756b40f1b97ce8b835830f  0.598688  \n",
       "9580   0xa18df49ebc121d2bcf756b40f1b97ce8b835830f  0.598688  \n",
       "10646  0xa18df49ebc121d2bcf756b40f1b97ce8b835830f  0.598688  \n",
       "11132  0xa18df49ebc121d2bcf756b40f1b97ce8b835830f  0.598688  \n",
       "12411  0xa18df49ebc121d2bcf756b40f1b97ce8b835830f  0.598688  \n",
       "12904  0xa18df49ebc121d2bcf756b40f1b97ce8b835830f  0.598688  \n",
       "13277  0xa18df49ebc121d2bcf756b40f1b97ce8b835830f  0.598688  \n",
       "13503  0xa18df49ebc121d2bcf756b40f1b97ce8b835830f  0.598688  \n",
       "13506  0xa18df49ebc121d2bcf756b40f1b97ce8b835830f  0.598688  \n",
       "13747  0xa18df49ebc121d2bcf756b40f1b97ce8b835830f  0.598688  \n",
       "14071  0xa18df49ebc121d2bcf756b40f1b97ce8b835830f  0.598688  \n",
       "15296  0xa18df49ebc121d2bcf756b40f1b97ce8b835830f  0.598688  \n",
       "15553  0xa18df49ebc121d2bcf756b40f1b97ce8b835830f  0.598688  \n",
       "15835  0xa18df49ebc121d2bcf756b40f1b97ce8b835830f  0.598688  \n",
       "15916  0xa18df49ebc121d2bcf756b40f1b97ce8b835830f  0.598688  \n",
       "16354  0xa18df49ebc121d2bcf756b40f1b97ce8b835830f  0.598688  \n",
       "16473  0xa18df49ebc121d2bcf756b40f1b97ce8b835830f  0.598688  \n",
       "17445  0xa18df49ebc121d2bcf756b40f1b97ce8b835830f  0.598688  \n",
       "17476  0xa18df49ebc121d2bcf756b40f1b97ce8b835830f  0.598688  \n",
       "17519  0xa18df49ebc121d2bcf756b40f1b97ce8b835830f  0.598688  \n",
       "17919  0xa18df49ebc121d2bcf756b40f1b97ce8b835830f  0.598688  \n",
       "19135  0xa18df49ebc121d2bcf756b40f1b97ce8b835830f  0.598688  \n",
       "20203  0xa18df49ebc121d2bcf756b40f1b97ce8b835830f  0.598688  \n",
       "20517  0xa391ca914b514bcdbe29c3ba54aba34870fe1bd5  0.598688  \n",
       "20518  0xa79b0ec9d6e76f7bd1341a174f02e0cf57f8b553  0.598688  \n",
       "20519  0xa900b524a72c9ec986cee19a69fc32f6fb4d44b6  0.598688  \n",
       "20520  0xb412778910bf0d66254219dbc64fd4a8797ca280  0.598688  \n",
       "20521  0xb4dacc1c9a7962992b6fcc232c38f1ef3aeb0bb8  0.598688  \n",
       "20522  0xb5c1cffe7e6bc981f85aea828392dea7ef042770  0.598688  \n",
       "20523  0xba821f0a67a75ce65f215cd16a655b0e2c00aa34  0.598688  \n",
       "20524  0xbd4110ecb0372163ffcfcfb3345b579e707c6bdb  0.598688  \n",
       "20525  0xc1bef26ba79174e03d82433384608dc3be04e585  0.598688  \n",
       "20526  0xcc92c8c7c2dbc43fb0d833a62aa2cac44328e08d  0.598688  \n",
       "20527  0xd18df0005392a67da8419b5d301719f42b26df0d  0.598688  \n",
       "20528  0xd2d9b20d9847a7c96c93c385c8d6e85164700470  0.598688  \n",
       "20529  0xd8d6af5e32c7cc39faebfc041063fee4674ba56f  0.598688  \n",
       "20530  0xdb2620c92f8e0aef798572ef82dd672040f69635  0.598688  \n",
       "20531  0xdbfb6cca29838ea27ab39b58c968d06c5662829f  0.598688  \n",
       "20532  0xdcbc43d71674b261b3d0ee76a5dcbfd26e921552  0.598688  \n",
       "20533  0xe1be43ed60226b11ab1287d074d7b72b56e33367  0.598688  \n",
       "20534  0xed5359a1b3afd86ef23dcc1ddb78c3d990b16edf  0.598688  \n",
       "20535  0xf9ec10e88b14702a98d7b578c3589100ba777d77  0.598688  \n",
       "20536  0xfba398e4e02b89f8dc91ada406266d2e9ff31744  0.598688  "
      ]
     },
     "execution_count": 57,
     "metadata": {},
     "output_type": "execute_result"
    }
   ],
   "source": [
    "plot_community_lst = louvain_community_lst[10]\n",
    "plot_community_df = weight_df[\n",
    "    weight_df[\"node_a\"].isin(plot_community_lst)\n",
    "    & weight_df[\"node_b\"].isin(plot_community_lst)\n",
    "]\n",
    "print(plot_community_df.shape)\n",
    "plot_community_df"
   ]
  },
  {
   "cell_type": "code",
   "execution_count": 29,
   "metadata": {},
   "outputs": [],
   "source": [
    "def community_visualization_2d(\n",
    "    df,\n",
    "    highlight_lst,\n",
    "    highlight_lst_2_=None,\n",
    "    source_col=\"node_a\",\n",
    "    target_col=\"node_b\",\n",
    "    weight_col=\"weight\",\n",
    "    weight_=800,\n",
    "    height_=800,\n",
    "):\n",
    "    # Create a directed graph\n",
    "    Gt = nx.from_pandas_edgelist(\n",
    "        df,\n",
    "        source=source_col,\n",
    "        target=target_col,\n",
    "        edge_attr=weight_col,\n",
    "        create_using=nx.DiGraph(),\n",
    "    )\n",
    "\n",
    "    # Generate 2D positions for nodes\n",
    "    pos = nx.spring_layout(Gt, weight=weight_col)\n",
    "\n",
    "    # Extract node and edge positions\n",
    "    edge_x = []\n",
    "    edge_y = []\n",
    "    edge_text = []  # List to hold weight information for hover\n",
    "    for edge in Gt.edges(data=True):\n",
    "        x0, y0 = pos[edge[0]]\n",
    "        x1, y1 = pos[edge[1]]\n",
    "        edge_x.extend([x0, x1, None])\n",
    "        edge_y.extend([y0, y1, None])\n",
    "        edge_text.append(f\"weight: {round(edge[2][weight_col], 2)}\")\n",
    "\n",
    "    node_x = [pos[node][0] for node in Gt.nodes()]\n",
    "    node_y = [pos[node][1] for node in Gt.nodes()]\n",
    "\n",
    "    # Determine node colors based on the DataFrame\n",
    "    node_colors = []\n",
    "    for node in Gt.nodes():\n",
    "        if node in highlight_lst:\n",
    "            node_colors.append(\"yellowgreen\")  # True condition\n",
    "        elif highlight_lst_2_ and node in highlight_lst_2_:\n",
    "            node_colors.append(\"dodgerblue\")  # False condition\n",
    "        else:\n",
    "            node_colors.append(\"salmon\")\n",
    "\n",
    "    # Create Plotly figure\n",
    "    fig = go.Figure()\n",
    "\n",
    "    # Add edges\n",
    "    fig.add_trace(\n",
    "        go.Scatter(\n",
    "            x=edge_x,\n",
    "            y=edge_y,\n",
    "            mode=\"lines\",\n",
    "            line=dict(color=\"black\", width=2),\n",
    "            hoverinfo=\"text\",\n",
    "            text=edge_text,  # Add edge weights to hover info\n",
    "        )\n",
    "    )\n",
    "\n",
    "    # Add nodes\n",
    "    fig.add_trace(\n",
    "        go.Scatter(\n",
    "            x=node_x,\n",
    "            y=node_y,\n",
    "            mode=\"markers\",\n",
    "            marker=dict(size=10, color=node_colors, line=dict(width=1, color=\"gray\")),\n",
    "            text=list(Gt.nodes()),  # Show node labels\n",
    "            hoverinfo=\"text\",\n",
    "        )\n",
    "    )\n",
    "\n",
    "    # Update layout\n",
    "    fig.update_layout(\n",
    "        showlegend=False,\n",
    "        width=weight_,\n",
    "        height=height_,\n",
    "        xaxis=dict(showgrid=True, zeroline=False),\n",
    "        yaxis=dict(showgrid=False, zeroline=False),\n",
    "        # plot_bgcolor=\"lightgray\",\n",
    "        title=\"Community Visualization\",\n",
    "    )\n",
    "\n",
    "    # Show the plot\n",
    "    fig.show()"
   ]
  },
  {
   "cell_type": "code",
   "execution_count": 58,
   "metadata": {},
   "outputs": [
    {
     "data": {
      "application/vnd.plotly.v1+json": {
       "config": {
        "plotlyServerURL": "https://plot.ly"
       },
       "data": [
        {
         "hoverinfo": "text",
         "line": {
          "color": "black",
          "width": 2
         },
         "mode": "lines",
         "text": [
          "weight: 0.6",
          "weight: 0.6",
          "weight: 0.6",
          "weight: 0.6",
          "weight: 0.6",
          "weight: 0.6",
          "weight: 0.6",
          "weight: 0.6",
          "weight: 0.6",
          "weight: 0.6",
          "weight: 0.6",
          "weight: 0.6",
          "weight: 0.6",
          "weight: 0.6",
          "weight: 0.6",
          "weight: 0.6",
          "weight: 0.6",
          "weight: 0.6",
          "weight: 0.6",
          "weight: 0.6",
          "weight: 0.6",
          "weight: 0.6",
          "weight: 0.6",
          "weight: 0.6",
          "weight: 0.6",
          "weight: 0.6",
          "weight: 0.6",
          "weight: 0.6",
          "weight: 0.6",
          "weight: 0.6",
          "weight: 0.6",
          "weight: 0.6",
          "weight: 0.6",
          "weight: 0.6",
          "weight: 0.6",
          "weight: 0.6",
          "weight: 0.6",
          "weight: 0.6",
          "weight: 0.6",
          "weight: 0.6",
          "weight: 0.6",
          "weight: 0.6",
          "weight: 0.6",
          "weight: 0.6",
          "weight: 0.6",
          "weight: 0.6",
          "weight: 0.6",
          "weight: 0.6"
         ],
         "type": "scatter",
         "x": [
          0.13969913721561347,
          -0.0037182069346759967,
          null,
          -0.0037182069346759967,
          -1,
          null,
          -0.0037182069346759967,
          0.18532139170958753,
          null,
          -0.0037182069346759967,
          0.8560535134990386,
          null,
          -0.0037182069346759967,
          0.6392625514383475,
          null,
          -0.0037182069346759967,
          0.20123606185626403,
          null,
          -0.0037182069346759967,
          -0.912016197011126,
          null,
          -0.0037182069346759967,
          -0.5152693629622807,
          null,
          -0.0037182069346759967,
          0.8456960758383523,
          null,
          -0.0037182069346759967,
          0.8640542824284428,
          null,
          -0.0037182069346759967,
          0.7902317546121035,
          null,
          -0.0037182069346759967,
          -0.7548202211177203,
          null,
          -0.0037182069346759967,
          -0.7567178429041894,
          null,
          -0.0037182069346759967,
          -0.1259575151476343,
          null,
          -0.0037182069346759967,
          -0.516702252896961,
          null,
          -0.0037182069346759967,
          0.8219912854005119,
          null,
          -0.0037182069346759967,
          0.5114162366726281,
          null,
          -0.0037182069346759967,
          0.3555783111098791,
          null,
          -0.0037182069346759967,
          -0.1116157561863578,
          null,
          -0.0037182069346759967,
          -0.3101090818803647,
          null,
          -0.0037182069346759967,
          -0.8906121969439152,
          null,
          0.01922766721760428,
          -0.0037182069346759967,
          null,
          0.020786576098399904,
          -0.0037182069346759967,
          null,
          0.10305170018761574,
          -0.0037182069346759967,
          null,
          0.06660613433376426,
          -0.0037182069346759967,
          null,
          -0.054216109056939195,
          -0.0037182069346759967,
          null,
          0.13329147541184694,
          -0.0037182069346759967,
          null,
          0.08194998125125656,
          -0.0037182069346759967,
          null,
          -0.06968625848034792,
          -0.0037182069346759967,
          null,
          -0.12735140921562368,
          -0.0037182069346759967,
          null,
          0.06446018312015471,
          -0.0037182069346759967,
          null,
          -0.09374378586695478,
          -0.0037182069346759967,
          null,
          0.13537671719778194,
          -0.0037182069346759967,
          null,
          -0.14186896552964035,
          -0.0037182069346759967,
          null,
          -0.07452393244943976,
          -0.0037182069346759967,
          null,
          0.0737119302565737,
          -0.0037182069346759967,
          null,
          -0.008556955170672875,
          -0.0037182069346759967,
          null,
          0.012666160371004079,
          -0.0037182069346759967,
          null,
          -0.15514296386461673,
          -0.0037182069346759967,
          null,
          -0.14679549116017512,
          -0.0037182069346759967,
          null,
          -0.027393907056433662,
          -0.0037182069346759967,
          null,
          0.08485464772406655,
          -0.0037182069346759967,
          null,
          0.027556664203372265,
          -0.0037182069346759967,
          null,
          -0.09955432294122904,
          -0.0037182069346759967,
          null,
          0.1185425907713258,
          -0.0037182069346759967,
          null,
          -0.1146834491953203,
          -0.0037182069346759967,
          null,
          -0.09228333626174359,
          -0.0037182069346759967,
          null,
          -0.04928350969117426,
          -0.0037182069346759967,
          null
         ],
         "y": [
          0.014718073226238044,
          0.004272073159359731,
          null,
          0.004272073159359731,
          0.047002750117081604,
          null,
          0.004272073159359731,
          0.9364900780249493,
          null,
          0.004272073159359731,
          -0.44110848052347124,
          null,
          0.004272073159359731,
          -0.6458651745406339,
          null,
          0.004272073159359731,
          -0.8452777106499328,
          null,
          0.004272073159359731,
          0.46312889014485886,
          null,
          0.004272073159359731,
          -0.7324233355750186,
          null,
          0.004272073159359731,
          -0.19488143198586474,
          null,
          0.004272073159359731,
          0.29023718471620225,
          null,
          0.004272073159359731,
          0.5165135352148339,
          null,
          0.004272073159359731,
          0.6115460096482837,
          null,
          0.004272073159359731,
          -0.4830990267262621,
          null,
          0.004272073159359731,
          0.9564734904337143,
          null,
          0.004272073159359731,
          0.8554590337228706,
          null,
          0.004272073159359731,
          0.054538149332461705,
          null,
          0.004272073159359731,
          0.79734583072896,
          null,
          0.004272073159359731,
          -0.9089996686161413,
          null,
          0.004272073159359731,
          -0.8234514335842138,
          null,
          0.004272073159359731,
          -0.9046423538492705,
          null,
          0.004272073159359731,
          0.26204464917711734,
          null,
          -0.13926057235236192,
          0.004272073159359731,
          null,
          0.15973290792579048,
          0.004272073159359731,
          null,
          0.10549379907097162,
          0.004272073159359731,
          null,
          -0.12402451627599766,
          0.004272073159359731,
          null,
          -0.07641681289355197,
          0.004272073159359731,
          null,
          0.0639145949542903,
          0.004272073159359731,
          null,
          0.051818716772340345,
          0.004272073159359731,
          null,
          0.07892024275058247,
          0.004272073159359731,
          null,
          0.0930204814131296,
          0.004272073159359731,
          null,
          0.1332602462619746,
          0.004272073159359731,
          null,
          0.022661267063873444,
          0.004272073159359731,
          null,
          -0.03475662777679671,
          0.004272073159359731,
          null,
          0.04817593927990141,
          0.004272073159359731,
          null,
          -0.12749403045186777,
          0.004272073159359731,
          null,
          -0.07401855207950774,
          0.004272073159359731,
          null,
          0.13058389145886834,
          0.004272073159359731,
          null,
          -0.08194049302897036,
          0.004272073159359731,
          null,
          0.0017725562489978267,
          0.004272073159359731,
          null,
          -0.050277091608562044,
          0.004272073159359731,
          null,
          -0.1362049782098102,
          0.004272073159359731,
          null,
          -0.012847003324500561,
          0.004272073159359731,
          null,
          0.08663120621097055,
          0.004272073159359731,
          null,
          -0.03670160331621443,
          0.004272073159359731,
          null,
          -0.08512361052482478,
          0.004272073159359731,
          null,
          -0.0943047859888281,
          0.004272073159359731,
          null,
          0.1330018477376739,
          0.004272073159359731,
          null,
          0.13436184908630658,
          0.004272073159359731,
          null
         ]
        },
        {
         "hoverinfo": "text",
         "marker": {
          "color": [
           "yellowgreen",
           "salmon",
           "yellowgreen",
           "yellowgreen",
           "yellowgreen",
           "yellowgreen",
           "yellowgreen",
           "yellowgreen",
           "yellowgreen",
           "yellowgreen",
           "yellowgreen",
           "yellowgreen",
           "yellowgreen",
           "yellowgreen",
           "yellowgreen",
           "yellowgreen",
           "yellowgreen",
           "yellowgreen",
           "yellowgreen",
           "yellowgreen",
           "yellowgreen",
           "yellowgreen",
           "yellowgreen",
           "yellowgreen",
           "yellowgreen",
           "yellowgreen",
           "yellowgreen",
           "yellowgreen",
           "yellowgreen",
           "yellowgreen",
           "yellowgreen",
           "yellowgreen",
           "yellowgreen",
           "yellowgreen",
           "yellowgreen",
           "yellowgreen",
           "yellowgreen",
           "yellowgreen",
           "yellowgreen",
           "yellowgreen",
           "yellowgreen",
           "yellowgreen",
           "yellowgreen",
           "yellowgreen",
           "yellowgreen",
           "yellowgreen",
           "yellowgreen",
           "yellowgreen",
           "yellowgreen"
          ],
          "line": {
           "color": "gray",
           "width": 1
          },
          "size": 10
         },
         "mode": "markers",
         "text": [
          "0x06209554bc06b2bb2a12446c0f0c741da532789c",
          "0xa18df49ebc121d2bcf756b40f1b97ce8b835830f",
          "0x09ef42ac46bd91d3039f58ac1c055239c65362c8",
          "0x0ba57409d04c154b6bc931ea6cee199e3b12444a",
          "0x10befa88586c8a378849dfe932c59939e8548875",
          "0x167479c2d37f5bd4259acaef05e9ca7c948e7eff",
          "0x36017ca03dc27cf5ecd3545e6cfda790abe64a69",
          "0x366d0f389109e84209924b444182d052d8ae03ea",
          "0x3c1039f91726c25cb859782b1caa9eafd6bf0e63",
          "0x400cd82b8c2565fec580ac0910ed2f1241bcaa97",
          "0x4b3483c855d223141cc6f2a1b1dc82e6618f52ef",
          "0x4eaf9f30f1d060da85d11624b9696e28528dad8a",
          "0x519a784ea1ab15dd2342c02a903dde157feaecbe",
          "0x53b4e9be19bf2dbd56cb4a6616b728327d4875e5",
          "0x53c0d3811f103200e44f39a0f523046c3116a6dd",
          "0x55ffe9070dc748c2efa5885ae40917abe842a811",
          "0x5911035a34855c21dbc1fddf544946c360a43495",
          "0x60bcd240135e3cf9901585090d1b08ff1f0c45e4",
          "0x63666dc480b18c840d4990a680759730365861ab",
          "0x6662b8dc2713dc077a9536f01abcac1e065efa19",
          "0x67161d3afb0ed471b6651aa4899ae62ca4cfd2cf",
          "0x6b6612149a94e04c0d90bc5699ea91e1f862db2f",
          "0x6d03833ed2d9d06dcd27c3b9ca19b84cca97bf37",
          "0x783b1cdc98070f7a694feb153f8d880a1f746809",
          "0x7899c25752fbe44d7d62238137194fc0477a6114",
          "0x7905fac8c765fe3df6c3ff4a4da70521150466b4",
          "0x7d99529cc4f7fd723c16a956f687cf83a6815532",
          "0x8ba8aa2e7589b8f89c212ea03fea86219b1e3558",
          "0x9c180ea0636010aa85d97b23381f5a7401054b21",
          "0xa391ca914b514bcdbe29c3ba54aba34870fe1bd5",
          "0xa79b0ec9d6e76f7bd1341a174f02e0cf57f8b553",
          "0xa900b524a72c9ec986cee19a69fc32f6fb4d44b6",
          "0xb412778910bf0d66254219dbc64fd4a8797ca280",
          "0xb4dacc1c9a7962992b6fcc232c38f1ef3aeb0bb8",
          "0xb5c1cffe7e6bc981f85aea828392dea7ef042770",
          "0xba821f0a67a75ce65f215cd16a655b0e2c00aa34",
          "0xbd4110ecb0372163ffcfcfb3345b579e707c6bdb",
          "0xc1bef26ba79174e03d82433384608dc3be04e585",
          "0xcc92c8c7c2dbc43fb0d833a62aa2cac44328e08d",
          "0xd18df0005392a67da8419b5d301719f42b26df0d",
          "0xd2d9b20d9847a7c96c93c385c8d6e85164700470",
          "0xd8d6af5e32c7cc39faebfc041063fee4674ba56f",
          "0xdb2620c92f8e0aef798572ef82dd672040f69635",
          "0xdbfb6cca29838ea27ab39b58c968d06c5662829f",
          "0xdcbc43d71674b261b3d0ee76a5dcbfd26e921552",
          "0xe1be43ed60226b11ab1287d074d7b72b56e33367",
          "0xed5359a1b3afd86ef23dcc1ddb78c3d990b16edf",
          "0xf9ec10e88b14702a98d7b578c3589100ba777d77",
          "0xfba398e4e02b89f8dc91ada406266d2e9ff31744"
         ],
         "type": "scatter",
         "x": [
          0.13969913721561347,
          -0.0037182069346759967,
          0.01922766721760428,
          0.020786576098399904,
          0.10305170018761574,
          0.06660613433376426,
          -0.054216109056939195,
          0.13329147541184694,
          0.08194998125125656,
          -0.06968625848034792,
          -0.12735140921562368,
          0.06446018312015471,
          -0.09374378586695478,
          0.13537671719778194,
          -0.14186896552964035,
          -0.07452393244943976,
          0.0737119302565737,
          -0.008556955170672875,
          0.012666160371004079,
          -0.15514296386461673,
          -0.14679549116017512,
          -0.027393907056433662,
          0.08485464772406655,
          0.027556664203372265,
          -0.09955432294122904,
          0.1185425907713258,
          -0.1146834491953203,
          -0.09228333626174359,
          -0.04928350969117426,
          -1,
          0.18532139170958753,
          0.8560535134990386,
          0.6392625514383475,
          0.20123606185626403,
          -0.912016197011126,
          -0.5152693629622807,
          0.8456960758383523,
          0.8640542824284428,
          0.7902317546121035,
          -0.7548202211177203,
          -0.7567178429041894,
          -0.1259575151476343,
          -0.516702252896961,
          0.8219912854005119,
          0.5114162366726281,
          0.3555783111098791,
          -0.1116157561863578,
          -0.3101090818803647,
          -0.8906121969439152
         ],
         "y": [
          0.014718073226238044,
          0.004272073159359731,
          -0.13926057235236192,
          0.15973290792579048,
          0.10549379907097162,
          -0.12402451627599766,
          -0.07641681289355197,
          0.0639145949542903,
          0.051818716772340345,
          0.07892024275058247,
          0.0930204814131296,
          0.1332602462619746,
          0.022661267063873444,
          -0.03475662777679671,
          0.04817593927990141,
          -0.12749403045186777,
          -0.07401855207950774,
          0.13058389145886834,
          -0.08194049302897036,
          0.0017725562489978267,
          -0.050277091608562044,
          -0.1362049782098102,
          -0.012847003324500561,
          0.08663120621097055,
          -0.03670160331621443,
          -0.08512361052482478,
          -0.0943047859888281,
          0.1330018477376739,
          0.13436184908630658,
          0.047002750117081604,
          0.9364900780249493,
          -0.44110848052347124,
          -0.6458651745406339,
          -0.8452777106499328,
          0.46312889014485886,
          -0.7324233355750186,
          -0.19488143198586474,
          0.29023718471620225,
          0.5165135352148339,
          0.6115460096482837,
          -0.4830990267262621,
          0.9564734904337143,
          0.8554590337228706,
          0.054538149332461705,
          0.79734583072896,
          -0.9089996686161413,
          -0.8234514335842138,
          -0.9046423538492705,
          0.26204464917711734
         ]
        }
       ],
       "layout": {
        "height": 500,
        "showlegend": false,
        "template": {
         "data": {
          "bar": [
           {
            "error_x": {
             "color": "#2a3f5f"
            },
            "error_y": {
             "color": "#2a3f5f"
            },
            "marker": {
             "line": {
              "color": "#E5ECF6",
              "width": 0.5
             },
             "pattern": {
              "fillmode": "overlay",
              "size": 10,
              "solidity": 0.2
             }
            },
            "type": "bar"
           }
          ],
          "barpolar": [
           {
            "marker": {
             "line": {
              "color": "#E5ECF6",
              "width": 0.5
             },
             "pattern": {
              "fillmode": "overlay",
              "size": 10,
              "solidity": 0.2
             }
            },
            "type": "barpolar"
           }
          ],
          "carpet": [
           {
            "aaxis": {
             "endlinecolor": "#2a3f5f",
             "gridcolor": "white",
             "linecolor": "white",
             "minorgridcolor": "white",
             "startlinecolor": "#2a3f5f"
            },
            "baxis": {
             "endlinecolor": "#2a3f5f",
             "gridcolor": "white",
             "linecolor": "white",
             "minorgridcolor": "white",
             "startlinecolor": "#2a3f5f"
            },
            "type": "carpet"
           }
          ],
          "choropleth": [
           {
            "colorbar": {
             "outlinewidth": 0,
             "ticks": ""
            },
            "type": "choropleth"
           }
          ],
          "contour": [
           {
            "colorbar": {
             "outlinewidth": 0,
             "ticks": ""
            },
            "colorscale": [
             [
              0,
              "#0d0887"
             ],
             [
              0.1111111111111111,
              "#46039f"
             ],
             [
              0.2222222222222222,
              "#7201a8"
             ],
             [
              0.3333333333333333,
              "#9c179e"
             ],
             [
              0.4444444444444444,
              "#bd3786"
             ],
             [
              0.5555555555555556,
              "#d8576b"
             ],
             [
              0.6666666666666666,
              "#ed7953"
             ],
             [
              0.7777777777777778,
              "#fb9f3a"
             ],
             [
              0.8888888888888888,
              "#fdca26"
             ],
             [
              1,
              "#f0f921"
             ]
            ],
            "type": "contour"
           }
          ],
          "contourcarpet": [
           {
            "colorbar": {
             "outlinewidth": 0,
             "ticks": ""
            },
            "type": "contourcarpet"
           }
          ],
          "heatmap": [
           {
            "colorbar": {
             "outlinewidth": 0,
             "ticks": ""
            },
            "colorscale": [
             [
              0,
              "#0d0887"
             ],
             [
              0.1111111111111111,
              "#46039f"
             ],
             [
              0.2222222222222222,
              "#7201a8"
             ],
             [
              0.3333333333333333,
              "#9c179e"
             ],
             [
              0.4444444444444444,
              "#bd3786"
             ],
             [
              0.5555555555555556,
              "#d8576b"
             ],
             [
              0.6666666666666666,
              "#ed7953"
             ],
             [
              0.7777777777777778,
              "#fb9f3a"
             ],
             [
              0.8888888888888888,
              "#fdca26"
             ],
             [
              1,
              "#f0f921"
             ]
            ],
            "type": "heatmap"
           }
          ],
          "heatmapgl": [
           {
            "colorbar": {
             "outlinewidth": 0,
             "ticks": ""
            },
            "colorscale": [
             [
              0,
              "#0d0887"
             ],
             [
              0.1111111111111111,
              "#46039f"
             ],
             [
              0.2222222222222222,
              "#7201a8"
             ],
             [
              0.3333333333333333,
              "#9c179e"
             ],
             [
              0.4444444444444444,
              "#bd3786"
             ],
             [
              0.5555555555555556,
              "#d8576b"
             ],
             [
              0.6666666666666666,
              "#ed7953"
             ],
             [
              0.7777777777777778,
              "#fb9f3a"
             ],
             [
              0.8888888888888888,
              "#fdca26"
             ],
             [
              1,
              "#f0f921"
             ]
            ],
            "type": "heatmapgl"
           }
          ],
          "histogram": [
           {
            "marker": {
             "pattern": {
              "fillmode": "overlay",
              "size": 10,
              "solidity": 0.2
             }
            },
            "type": "histogram"
           }
          ],
          "histogram2d": [
           {
            "colorbar": {
             "outlinewidth": 0,
             "ticks": ""
            },
            "colorscale": [
             [
              0,
              "#0d0887"
             ],
             [
              0.1111111111111111,
              "#46039f"
             ],
             [
              0.2222222222222222,
              "#7201a8"
             ],
             [
              0.3333333333333333,
              "#9c179e"
             ],
             [
              0.4444444444444444,
              "#bd3786"
             ],
             [
              0.5555555555555556,
              "#d8576b"
             ],
             [
              0.6666666666666666,
              "#ed7953"
             ],
             [
              0.7777777777777778,
              "#fb9f3a"
             ],
             [
              0.8888888888888888,
              "#fdca26"
             ],
             [
              1,
              "#f0f921"
             ]
            ],
            "type": "histogram2d"
           }
          ],
          "histogram2dcontour": [
           {
            "colorbar": {
             "outlinewidth": 0,
             "ticks": ""
            },
            "colorscale": [
             [
              0,
              "#0d0887"
             ],
             [
              0.1111111111111111,
              "#46039f"
             ],
             [
              0.2222222222222222,
              "#7201a8"
             ],
             [
              0.3333333333333333,
              "#9c179e"
             ],
             [
              0.4444444444444444,
              "#bd3786"
             ],
             [
              0.5555555555555556,
              "#d8576b"
             ],
             [
              0.6666666666666666,
              "#ed7953"
             ],
             [
              0.7777777777777778,
              "#fb9f3a"
             ],
             [
              0.8888888888888888,
              "#fdca26"
             ],
             [
              1,
              "#f0f921"
             ]
            ],
            "type": "histogram2dcontour"
           }
          ],
          "mesh3d": [
           {
            "colorbar": {
             "outlinewidth": 0,
             "ticks": ""
            },
            "type": "mesh3d"
           }
          ],
          "parcoords": [
           {
            "line": {
             "colorbar": {
              "outlinewidth": 0,
              "ticks": ""
             }
            },
            "type": "parcoords"
           }
          ],
          "pie": [
           {
            "automargin": true,
            "type": "pie"
           }
          ],
          "scatter": [
           {
            "fillpattern": {
             "fillmode": "overlay",
             "size": 10,
             "solidity": 0.2
            },
            "type": "scatter"
           }
          ],
          "scatter3d": [
           {
            "line": {
             "colorbar": {
              "outlinewidth": 0,
              "ticks": ""
             }
            },
            "marker": {
             "colorbar": {
              "outlinewidth": 0,
              "ticks": ""
             }
            },
            "type": "scatter3d"
           }
          ],
          "scattercarpet": [
           {
            "marker": {
             "colorbar": {
              "outlinewidth": 0,
              "ticks": ""
             }
            },
            "type": "scattercarpet"
           }
          ],
          "scattergeo": [
           {
            "marker": {
             "colorbar": {
              "outlinewidth": 0,
              "ticks": ""
             }
            },
            "type": "scattergeo"
           }
          ],
          "scattergl": [
           {
            "marker": {
             "colorbar": {
              "outlinewidth": 0,
              "ticks": ""
             }
            },
            "type": "scattergl"
           }
          ],
          "scattermapbox": [
           {
            "marker": {
             "colorbar": {
              "outlinewidth": 0,
              "ticks": ""
             }
            },
            "type": "scattermapbox"
           }
          ],
          "scatterpolar": [
           {
            "marker": {
             "colorbar": {
              "outlinewidth": 0,
              "ticks": ""
             }
            },
            "type": "scatterpolar"
           }
          ],
          "scatterpolargl": [
           {
            "marker": {
             "colorbar": {
              "outlinewidth": 0,
              "ticks": ""
             }
            },
            "type": "scatterpolargl"
           }
          ],
          "scatterternary": [
           {
            "marker": {
             "colorbar": {
              "outlinewidth": 0,
              "ticks": ""
             }
            },
            "type": "scatterternary"
           }
          ],
          "surface": [
           {
            "colorbar": {
             "outlinewidth": 0,
             "ticks": ""
            },
            "colorscale": [
             [
              0,
              "#0d0887"
             ],
             [
              0.1111111111111111,
              "#46039f"
             ],
             [
              0.2222222222222222,
              "#7201a8"
             ],
             [
              0.3333333333333333,
              "#9c179e"
             ],
             [
              0.4444444444444444,
              "#bd3786"
             ],
             [
              0.5555555555555556,
              "#d8576b"
             ],
             [
              0.6666666666666666,
              "#ed7953"
             ],
             [
              0.7777777777777778,
              "#fb9f3a"
             ],
             [
              0.8888888888888888,
              "#fdca26"
             ],
             [
              1,
              "#f0f921"
             ]
            ],
            "type": "surface"
           }
          ],
          "table": [
           {
            "cells": {
             "fill": {
              "color": "#EBF0F8"
             },
             "line": {
              "color": "white"
             }
            },
            "header": {
             "fill": {
              "color": "#C8D4E3"
             },
             "line": {
              "color": "white"
             }
            },
            "type": "table"
           }
          ]
         },
         "layout": {
          "annotationdefaults": {
           "arrowcolor": "#2a3f5f",
           "arrowhead": 0,
           "arrowwidth": 1
          },
          "autotypenumbers": "strict",
          "coloraxis": {
           "colorbar": {
            "outlinewidth": 0,
            "ticks": ""
           }
          },
          "colorscale": {
           "diverging": [
            [
             0,
             "#8e0152"
            ],
            [
             0.1,
             "#c51b7d"
            ],
            [
             0.2,
             "#de77ae"
            ],
            [
             0.3,
             "#f1b6da"
            ],
            [
             0.4,
             "#fde0ef"
            ],
            [
             0.5,
             "#f7f7f7"
            ],
            [
             0.6,
             "#e6f5d0"
            ],
            [
             0.7,
             "#b8e186"
            ],
            [
             0.8,
             "#7fbc41"
            ],
            [
             0.9,
             "#4d9221"
            ],
            [
             1,
             "#276419"
            ]
           ],
           "sequential": [
            [
             0,
             "#0d0887"
            ],
            [
             0.1111111111111111,
             "#46039f"
            ],
            [
             0.2222222222222222,
             "#7201a8"
            ],
            [
             0.3333333333333333,
             "#9c179e"
            ],
            [
             0.4444444444444444,
             "#bd3786"
            ],
            [
             0.5555555555555556,
             "#d8576b"
            ],
            [
             0.6666666666666666,
             "#ed7953"
            ],
            [
             0.7777777777777778,
             "#fb9f3a"
            ],
            [
             0.8888888888888888,
             "#fdca26"
            ],
            [
             1,
             "#f0f921"
            ]
           ],
           "sequentialminus": [
            [
             0,
             "#0d0887"
            ],
            [
             0.1111111111111111,
             "#46039f"
            ],
            [
             0.2222222222222222,
             "#7201a8"
            ],
            [
             0.3333333333333333,
             "#9c179e"
            ],
            [
             0.4444444444444444,
             "#bd3786"
            ],
            [
             0.5555555555555556,
             "#d8576b"
            ],
            [
             0.6666666666666666,
             "#ed7953"
            ],
            [
             0.7777777777777778,
             "#fb9f3a"
            ],
            [
             0.8888888888888888,
             "#fdca26"
            ],
            [
             1,
             "#f0f921"
            ]
           ]
          },
          "colorway": [
           "#636efa",
           "#EF553B",
           "#00cc96",
           "#ab63fa",
           "#FFA15A",
           "#19d3f3",
           "#FF6692",
           "#B6E880",
           "#FF97FF",
           "#FECB52"
          ],
          "font": {
           "color": "#2a3f5f"
          },
          "geo": {
           "bgcolor": "white",
           "lakecolor": "white",
           "landcolor": "#E5ECF6",
           "showlakes": true,
           "showland": true,
           "subunitcolor": "white"
          },
          "hoverlabel": {
           "align": "left"
          },
          "hovermode": "closest",
          "mapbox": {
           "style": "light"
          },
          "paper_bgcolor": "white",
          "plot_bgcolor": "#E5ECF6",
          "polar": {
           "angularaxis": {
            "gridcolor": "white",
            "linecolor": "white",
            "ticks": ""
           },
           "bgcolor": "#E5ECF6",
           "radialaxis": {
            "gridcolor": "white",
            "linecolor": "white",
            "ticks": ""
           }
          },
          "scene": {
           "xaxis": {
            "backgroundcolor": "#E5ECF6",
            "gridcolor": "white",
            "gridwidth": 2,
            "linecolor": "white",
            "showbackground": true,
            "ticks": "",
            "zerolinecolor": "white"
           },
           "yaxis": {
            "backgroundcolor": "#E5ECF6",
            "gridcolor": "white",
            "gridwidth": 2,
            "linecolor": "white",
            "showbackground": true,
            "ticks": "",
            "zerolinecolor": "white"
           },
           "zaxis": {
            "backgroundcolor": "#E5ECF6",
            "gridcolor": "white",
            "gridwidth": 2,
            "linecolor": "white",
            "showbackground": true,
            "ticks": "",
            "zerolinecolor": "white"
           }
          },
          "shapedefaults": {
           "line": {
            "color": "#2a3f5f"
           }
          },
          "ternary": {
           "aaxis": {
            "gridcolor": "white",
            "linecolor": "white",
            "ticks": ""
           },
           "baxis": {
            "gridcolor": "white",
            "linecolor": "white",
            "ticks": ""
           },
           "bgcolor": "#E5ECF6",
           "caxis": {
            "gridcolor": "white",
            "linecolor": "white",
            "ticks": ""
           }
          },
          "title": {
           "x": 0.05
          },
          "xaxis": {
           "automargin": true,
           "gridcolor": "white",
           "linecolor": "white",
           "ticks": "",
           "title": {
            "standoff": 15
           },
           "zerolinecolor": "white",
           "zerolinewidth": 2
          },
          "yaxis": {
           "automargin": true,
           "gridcolor": "white",
           "linecolor": "white",
           "ticks": "",
           "title": {
            "standoff": 15
           },
           "zerolinecolor": "white",
           "zerolinewidth": 2
          }
         }
        },
        "title": {
         "text": "Community Visualization"
        },
        "width": 800,
        "xaxis": {
         "showgrid": true,
         "zeroline": false
        },
        "yaxis": {
         "showgrid": false,
         "zeroline": false
        }
       }
      }
     },
     "metadata": {},
     "output_type": "display_data"
    }
   ],
   "source": [
    "community_visualization_2d(plot_community_df, core_wallet_lst, weight_=800, height_=500)"
   ]
  },
  {
   "cell_type": "code",
   "execution_count": 31,
   "metadata": {},
   "outputs": [],
   "source": [
    "def community_visualization_3d(\n",
    "    df,\n",
    "    highlight_lst,\n",
    "    highlight_lst_2_=None,\n",
    "    source_col=\"node_a\",\n",
    "    target_col=\"node_b\",\n",
    "    weight_col=\"weight\",\n",
    "    weight_=800,\n",
    "    height_=800,\n",
    "):\n",
    "    # Create a directed graph\n",
    "    Gt = nx.from_pandas_edgelist(\n",
    "        df,\n",
    "        source=source_col,\n",
    "        target=target_col,\n",
    "        edge_attr=weight_col,\n",
    "        create_using=nx.DiGraph(),\n",
    "    )\n",
    "\n",
    "    # Generate 3D positions\n",
    "    pos = nx.spring_layout(Gt, dim=3, weight=weight_col)\n",
    "\n",
    "    # Extract node and edge positions\n",
    "    edge_x = []\n",
    "    edge_y = []\n",
    "    edge_z = []\n",
    "    edge_text = []  # List to hold weight information for hover\n",
    "    for edge in Gt.edges(data=True):\n",
    "        x0, y0, z0 = pos[edge[0]]\n",
    "        x1, y1, z1 = pos[edge[1]]\n",
    "        edge_x.extend([x0, x1, None])\n",
    "        edge_y.extend([y0, y1, None])\n",
    "        edge_z.extend([z0, z1, None])\n",
    "        edge_text.append(f\"weight: {edge[2][weight_col]}\")\n",
    "\n",
    "    node_x = [pos[node][0] for node in Gt.nodes()]\n",
    "    node_y = [pos[node][1] for node in Gt.nodes()]\n",
    "    node_z = [pos[node][2] for node in Gt.nodes()]\n",
    "\n",
    "    # Determine node colors based on the DataFrame\n",
    "    node_colors = []\n",
    "    for node in Gt.nodes():\n",
    "        if node in highlight_lst:\n",
    "            node_colors.append(\"yellowgreen\")  # True condition\n",
    "        elif highlight_lst_2_ and node in highlight_lst_2_:\n",
    "            node_colors.append(\"dodgerblue\")  # False condition\n",
    "        else:\n",
    "            node_colors.append(\"salmon\")\n",
    "\n",
    "    # Create Plotly figure\n",
    "    fig = go.Figure()\n",
    "\n",
    "    # Add edges\n",
    "    fig.add_trace(\n",
    "        go.Scatter3d(\n",
    "            x=edge_x,\n",
    "            y=edge_y,\n",
    "            z=edge_z,\n",
    "            mode=\"lines\",\n",
    "            line=dict(color=\"black\", width=2),\n",
    "            text=edge_text,\n",
    "            hoverinfo=\"text\",\n",
    "        )\n",
    "    )\n",
    "\n",
    "    # Add nodes\n",
    "    fig.add_trace(\n",
    "        go.Scatter3d(\n",
    "            x=node_x,\n",
    "            y=node_y,\n",
    "            z=node_z,\n",
    "            mode=\"markers\",\n",
    "            marker=dict(size=5, color=node_colors),\n",
    "            text=list(Gt.nodes()),  # Show node labels on hover\n",
    "            hoverinfo=\"text\",\n",
    "            textfont=dict(size=5),\n",
    "            # hoverinfo=\"none\",\n",
    "        )\n",
    "    )\n",
    "\n",
    "    axis_setting = dict(\n",
    "        showbackground=True,\n",
    "        titlefont=dict(size=10),\n",
    "        tickfont=dict(size=10),\n",
    "    )\n",
    "    # Update layout\n",
    "    fig.update_layout(\n",
    "        showlegend=False,\n",
    "        width=weight_,\n",
    "        height=height_,\n",
    "        scene=dict(\n",
    "            xaxis=axis_setting,\n",
    "            yaxis=axis_setting,\n",
    "            zaxis=axis_setting,\n",
    "        ),\n",
    "    )\n",
    "\n",
    "    # Show the plot\n",
    "    fig.show()"
   ]
  },
  {
   "cell_type": "code",
   "execution_count": 32,
   "metadata": {},
   "outputs": [
    {
     "data": {
      "application/vnd.plotly.v1+json": {
       "config": {
        "plotlyServerURL": "https://plot.ly"
       },
       "data": [
        {
         "hoverinfo": "text",
         "line": {
          "color": "black",
          "width": 2
         },
         "mode": "lines",
         "text": [
          "weight: 0.6899744811276125",
          "weight: 0.7685247834990178",
          "weight: 0.598687660112452",
          "weight: 0.598687660112452",
          "weight: 0.8320183851339245",
          "weight: 0.598687660112452",
          "weight: 0.6899744811276125",
          "weight: 0.598687660112452",
          "weight: 0.6899744811276125",
          "weight: 0.6899744811276125",
          "weight: 0.598687660112452",
          "weight: 0.6899744811276125",
          "weight: 0.7685247834990178",
          "weight: 0.598687660112452",
          "weight: 0.598687660112452",
          "weight: 0.7685247834990178",
          "weight: 0.8320183851339245",
          "weight: 0.598687660112452",
          "weight: 0.8320183851339245",
          "weight: 0.6899744811276125",
          "weight: 0.598687660112452",
          "weight: 0.598687660112452",
          "weight: 0.598687660112452",
          "weight: 0.598687660112452",
          "weight: 0.7685247834990178",
          "weight: 0.598687660112452",
          "weight: 0.7685247834990178",
          "weight: 0.7685247834990178",
          "weight: 0.598687660112452",
          "weight: 0.598687660112452",
          "weight: 0.6899744811276125",
          "weight: 0.598687660112452",
          "weight: 0.598687660112452",
          "weight: 0.6899744811276125",
          "weight: 0.598687660112452",
          "weight: 0.598687660112452"
         ],
         "type": "scatter3d",
         "x": [
          0.08001033355293723,
          0.04794420737734224,
          null,
          0.04794420737734224,
          -0.23350267389760732,
          null,
          0.04794420737734224,
          0.6955443577995927,
          null,
          0.04794420737734224,
          -0.12682206878467334,
          null,
          0.04794420737734224,
          -0.17230323156556884,
          null,
          0.04794420737734224,
          0.0016663840487182394,
          null,
          0.04794420737734224,
          0.5941236033243089,
          null,
          0.04794420737734224,
          -0.03598175708696485,
          null,
          0.04794420737734224,
          -0.66477245084893,
          null,
          0.04794420737734224,
          -0.02073866083102322,
          null,
          0.04794420737734224,
          0.11949917504832192,
          null,
          0.043640947896184,
          -0.8609016741926446,
          null,
          0.043640947896184,
          0.9132616006259271,
          null,
          0.043640947896184,
          -0.12682206878467334,
          null,
          0.043640947896184,
          -0.17230323156556884,
          null,
          0.043640947896184,
          0.7200626507918354,
          null,
          0.043640947896184,
          -0.30970403272783525,
          null,
          0.043640947896184,
          -0.02073866083102322,
          null,
          0.043640947896184,
          -0.05699440844875193,
          null,
          0.043640947896184,
          0.08390515543030114,
          null,
          0.043640947896184,
          -0.03453974167961624,
          null,
          0.043640947896184,
          -0.008276646452477707,
          null,
          -0.12682206878467334,
          -0.03453974167961624,
          null,
          -0.17230323156556884,
          -0.40854247509473557,
          null,
          -0.17230323156556884,
          -0.02073866083102322,
          null,
          -0.17230323156556884,
          -0.008276646452477707,
          null,
          -0.02073866083102322,
          -0.03453974167961624,
          null,
          -0.03453974167961624,
          -0.008276646452477707,
          null,
          -0.23350267389760732,
          -0.17230323156556884,
          null,
          0.0016663840487182394,
          -0.03453974167961624,
          null,
          -0.03598175708696485,
          -0.03453974167961624,
          null,
          -0.024399871273757753,
          -0.03453974167961624,
          null,
          -0.14470765523156362,
          -0.03453974167961624,
          null,
          -0.14951153408468978,
          -0.03453974167961624,
          null,
          -0.08596063822739107,
          -0.03453974167961624,
          null,
          0.038001104532761794,
          -0.03453974167961624,
          null
         ],
         "y": [
          -0.33829383795657786,
          -0.24072131197549432,
          null,
          -0.24072131197549432,
          -0.12173132446435846,
          null,
          -0.24072131197549432,
          -0.866325811167867,
          null,
          -0.24072131197549432,
          0.2772316148868412,
          null,
          -0.24072131197549432,
          -0.06438932934284965,
          null,
          -0.24072131197549432,
          0.5287802129299018,
          null,
          -0.24072131197549432,
          -0.3373354121785471,
          null,
          -0.24072131197549432,
          0.2909856041795589,
          null,
          -0.24072131197549432,
          -0.6308170640936581,
          null,
          -0.24072131197549432,
          0.3870050943467243,
          null,
          -0.24072131197549432,
          -0.9804623052906465,
          null,
          0.0802467264771667,
          0.03782648428976745,
          null,
          0.0802467264771667,
          0.3704993111960706,
          null,
          0.0802467264771667,
          0.2772316148868412,
          null,
          0.0802467264771667,
          -0.06438932934284965,
          null,
          0.0802467264771667,
          0.1059639561530477,
          null,
          0.0802467264771667,
          0.4860286816546658,
          null,
          0.0802467264771667,
          0.3870050943467243,
          null,
          0.0802467264771667,
          -0.41350031511880364,
          null,
          0.0802467264771667,
          -0.6555995678292507,
          null,
          0.0802467264771667,
          0.47757686608001076,
          null,
          0.0802467264771667,
          0.6334921609289568,
          null,
          0.2772316148868412,
          0.47757686608001076,
          null,
          -0.06438932934284965,
          -0.9363445221554167,
          null,
          -0.06438932934284965,
          0.3870050943467243,
          null,
          -0.06438932934284965,
          0.6334921609289568,
          null,
          0.3870050943467243,
          0.47757686608001076,
          null,
          0.47757686608001076,
          0.6334921609289568,
          null,
          -0.12173132446435846,
          -0.06438932934284965,
          null,
          0.5287802129299018,
          0.47757686608001076,
          null,
          0.2909856041795589,
          0.47757686608001076,
          null,
          0.3538264419476598,
          0.47757686608001076,
          null,
          0.5209086841662236,
          0.47757686608001076,
          null,
          0.38467703412246945,
          0.47757686608001076,
          null,
          0.30244431166298646,
          0.47757686608001076,
          null,
          0.34802761655141945,
          0.47757686608001076,
          null
         ],
         "z": [
          -0.08964569603555783,
          -0.09967453414023537,
          null,
          -0.09967453414023537,
          -0.3675514759559331,
          null,
          -0.09967453414023537,
          -0.07996451372603942,
          null,
          -0.09967453414023537,
          -0.0799331769896595,
          null,
          -0.09967453414023537,
          -0.2871045592672631,
          null,
          -0.09967453414023537,
          -0.09054352984678754,
          null,
          -0.09967453414023537,
          -0.6378618188264764,
          null,
          -0.09967453414023537,
          -0.11638647969420367,
          null,
          -0.09967453414023537,
          -0.09800608272017125,
          null,
          -0.09967453414023537,
          -0.0985638771367944,
          null,
          -0.09967453414023537,
          0.5731531134374872,
          null,
          0.23836107652313934,
          0.4552606718087441,
          null,
          0.23836107652313934,
          0.23044453729569503,
          null,
          0.23836107652313934,
          -0.0799331769896595,
          null,
          0.23836107652313934,
          -0.2871045592672631,
          null,
          0.23836107652313934,
          0.7458398138243262,
          null,
          0.23836107652313934,
          0.8617977103269372,
          null,
          0.23836107652313934,
          -0.0985638771367944,
          null,
          0.23836107652313934,
          1,
          null,
          0.23836107652313934,
          -0.6437528358337612,
          null,
          0.23836107652313934,
          -0.2071649565544287,
          null,
          0.23836107652313934,
          -0.30876526915612684,
          null,
          -0.0799331769896595,
          -0.2071649565544287,
          null,
          -0.2871045592672631,
          -0.40417413746169195,
          null,
          -0.2871045592672631,
          -0.0985638771367944,
          null,
          -0.2871045592672631,
          -0.30876526915612684,
          null,
          -0.0985638771367944,
          -0.2071649565544287,
          null,
          -0.2071649565544287,
          -0.30876526915612684,
          null,
          -0.3675514759559331,
          -0.2871045592672631,
          null,
          -0.09054352984678754,
          -0.2071649565544287,
          null,
          -0.11638647969420367,
          -0.2071649565544287,
          null,
          -0.009346688944259872,
          -0.2071649565544287,
          null,
          -0.14967560685378087,
          -0.2071649565544287,
          null,
          -0.12020442180461367,
          -0.2071649565544287,
          null,
          -0.020676471688093917,
          -0.2071649565544287,
          null,
          -0.19586079058044983,
          -0.2071649565544287,
          null
         ]
        },
        {
         "hoverinfo": "text",
         "marker": {
          "color": [
           "salmon",
           "yellowgreen",
           "yellowgreen",
           "salmon",
           "salmon",
           "salmon",
           "yellowgreen",
           "salmon",
           "salmon",
           "salmon",
           "salmon",
           "salmon",
           "yellowgreen",
           "salmon",
           "salmon",
           "salmon",
           "salmon",
           "salmon",
           "salmon",
           "salmon",
           "salmon",
           "salmon",
           "salmon",
           "salmon",
           "salmon",
           "salmon",
           "salmon"
          ],
          "size": 5
         },
         "mode": "markers",
         "text": [
          "0x077df6b42fbf8a7ea794b98da76473b87a6a3d6e",
          "0x1597fd160d61752e4b9a7ba5dd8d93b7ac3c688f",
          "0x10d705ed29fd029537b8730aa13c2947517100db",
          "0x40a510b5fba23491a1f60f0b70508c0b6b25fb62",
          "0x4e0bdb3f037040c8b6a9b882a3ee9d53d6ec679c",
          "0x53b6c622b9e0c49f315aa8ef2adfbcf32b056dc2",
          "0x5d2f5f534a5f34c090d349342ce7dca5b9cea573",
          "0xa0442e02b52a2c779ed456cd01974ca997432202",
          "0xae3d8ea0d1ea1e37a8b66f1b8967609fa39dc070",
          "0xde940a25e570e1f77aa49a5f2a4596a6a359c106",
          "0xeb19eee59f6ce9152ca6dccbbbfadacad6a90f08",
          "0xeeb2fd44f8abe414e20d0a0e3c5edff5691f3134",
          "0xfab16d8e28435249c02eae2b82497cb7f9eca760",
          "0xfe066ea06eb200e49f43802cb4cce170cb25dfe5",
          "0x23caa59dcf4224e97685bf1f49fc6f22f01a0bf5",
          "0x2db1da78df774c7badf1acdd3024bd71dcff913d",
          "0xa04a3f47922e9bdb6a486f31a390833e35de73b7",
          "0xaf0c5f3f4b2387fdd5bca32844e2fd67ff9f220c",
          "0xb11b9e492426beae41e65e9e3d895de8c9459377",
          "0xde4a1e61388a815be3c300e060ed4d1d3f5a0b87",
          "0xfa4ed1f8a3aafc9c5e7348c94363f03cb945c706",
          "0x30cff21b20830a5364a13435f7ff4ea4d2471bb3",
          "0x361ee9db035fec649c967d4263c4e5b374a7c62a",
          "0x9effe8f89934826aae926874e68b529617f796d0",
          "0xcac0d29c9d9336d69303793b0d98c5e743709ffa",
          "0xe6fd3392788b41ec98aa8d3d389068b3ed012150",
          "0xef44190a98eec28475fe7477acb65b2b0f338227"
         ],
         "textfont": {
          "size": 5
         },
         "type": "scatter3d",
         "x": [
          0.08001033355293723,
          0.04794420737734224,
          0.043640947896184,
          -0.8609016741926446,
          0.9132616006259271,
          -0.12682206878467334,
          -0.17230323156556884,
          0.7200626507918354,
          -0.30970403272783525,
          -0.02073866083102322,
          -0.05699440844875193,
          0.08390515543030114,
          -0.03453974167961624,
          -0.008276646452477707,
          -0.23350267389760732,
          0.6955443577995927,
          0.0016663840487182394,
          0.5941236033243089,
          -0.03598175708696485,
          -0.66477245084893,
          0.11949917504832192,
          -0.024399871273757753,
          -0.14470765523156362,
          -0.40854247509473557,
          -0.14951153408468978,
          -0.08596063822739107,
          0.038001104532761794
         ],
         "y": [
          -0.33829383795657786,
          -0.24072131197549432,
          0.0802467264771667,
          0.03782648428976745,
          0.3704993111960706,
          0.2772316148868412,
          -0.06438932934284965,
          0.1059639561530477,
          0.4860286816546658,
          0.3870050943467243,
          -0.41350031511880364,
          -0.6555995678292507,
          0.47757686608001076,
          0.6334921609289568,
          -0.12173132446435846,
          -0.866325811167867,
          0.5287802129299018,
          -0.3373354121785471,
          0.2909856041795589,
          -0.6308170640936581,
          -0.9804623052906465,
          0.3538264419476598,
          0.5209086841662236,
          -0.9363445221554167,
          0.38467703412246945,
          0.30244431166298646,
          0.34802761655141945
         ],
         "z": [
          -0.08964569603555783,
          -0.09967453414023537,
          0.23836107652313934,
          0.4552606718087441,
          0.23044453729569503,
          -0.0799331769896595,
          -0.2871045592672631,
          0.7458398138243262,
          0.8617977103269372,
          -0.0985638771367944,
          1,
          -0.6437528358337612,
          -0.2071649565544287,
          -0.30876526915612684,
          -0.3675514759559331,
          -0.07996451372603942,
          -0.09054352984678754,
          -0.6378618188264764,
          -0.11638647969420367,
          -0.09800608272017125,
          0.5731531134374872,
          -0.009346688944259872,
          -0.14967560685378087,
          -0.40417413746169195,
          -0.12020442180461367,
          -0.020676471688093917,
          -0.19586079058044983
         ]
        }
       ],
       "layout": {
        "height": 600,
        "scene": {
         "xaxis": {
          "showbackground": true,
          "tickfont": {
           "size": 10
          },
          "title": {
           "font": {
            "size": 10
           }
          }
         },
         "yaxis": {
          "showbackground": true,
          "tickfont": {
           "size": 10
          },
          "title": {
           "font": {
            "size": 10
           }
          }
         },
         "zaxis": {
          "showbackground": true,
          "tickfont": {
           "size": 10
          },
          "title": {
           "font": {
            "size": 10
           }
          }
         }
        },
        "showlegend": false,
        "template": {
         "data": {
          "bar": [
           {
            "error_x": {
             "color": "#2a3f5f"
            },
            "error_y": {
             "color": "#2a3f5f"
            },
            "marker": {
             "line": {
              "color": "#E5ECF6",
              "width": 0.5
             },
             "pattern": {
              "fillmode": "overlay",
              "size": 10,
              "solidity": 0.2
             }
            },
            "type": "bar"
           }
          ],
          "barpolar": [
           {
            "marker": {
             "line": {
              "color": "#E5ECF6",
              "width": 0.5
             },
             "pattern": {
              "fillmode": "overlay",
              "size": 10,
              "solidity": 0.2
             }
            },
            "type": "barpolar"
           }
          ],
          "carpet": [
           {
            "aaxis": {
             "endlinecolor": "#2a3f5f",
             "gridcolor": "white",
             "linecolor": "white",
             "minorgridcolor": "white",
             "startlinecolor": "#2a3f5f"
            },
            "baxis": {
             "endlinecolor": "#2a3f5f",
             "gridcolor": "white",
             "linecolor": "white",
             "minorgridcolor": "white",
             "startlinecolor": "#2a3f5f"
            },
            "type": "carpet"
           }
          ],
          "choropleth": [
           {
            "colorbar": {
             "outlinewidth": 0,
             "ticks": ""
            },
            "type": "choropleth"
           }
          ],
          "contour": [
           {
            "colorbar": {
             "outlinewidth": 0,
             "ticks": ""
            },
            "colorscale": [
             [
              0,
              "#0d0887"
             ],
             [
              0.1111111111111111,
              "#46039f"
             ],
             [
              0.2222222222222222,
              "#7201a8"
             ],
             [
              0.3333333333333333,
              "#9c179e"
             ],
             [
              0.4444444444444444,
              "#bd3786"
             ],
             [
              0.5555555555555556,
              "#d8576b"
             ],
             [
              0.6666666666666666,
              "#ed7953"
             ],
             [
              0.7777777777777778,
              "#fb9f3a"
             ],
             [
              0.8888888888888888,
              "#fdca26"
             ],
             [
              1,
              "#f0f921"
             ]
            ],
            "type": "contour"
           }
          ],
          "contourcarpet": [
           {
            "colorbar": {
             "outlinewidth": 0,
             "ticks": ""
            },
            "type": "contourcarpet"
           }
          ],
          "heatmap": [
           {
            "colorbar": {
             "outlinewidth": 0,
             "ticks": ""
            },
            "colorscale": [
             [
              0,
              "#0d0887"
             ],
             [
              0.1111111111111111,
              "#46039f"
             ],
             [
              0.2222222222222222,
              "#7201a8"
             ],
             [
              0.3333333333333333,
              "#9c179e"
             ],
             [
              0.4444444444444444,
              "#bd3786"
             ],
             [
              0.5555555555555556,
              "#d8576b"
             ],
             [
              0.6666666666666666,
              "#ed7953"
             ],
             [
              0.7777777777777778,
              "#fb9f3a"
             ],
             [
              0.8888888888888888,
              "#fdca26"
             ],
             [
              1,
              "#f0f921"
             ]
            ],
            "type": "heatmap"
           }
          ],
          "heatmapgl": [
           {
            "colorbar": {
             "outlinewidth": 0,
             "ticks": ""
            },
            "colorscale": [
             [
              0,
              "#0d0887"
             ],
             [
              0.1111111111111111,
              "#46039f"
             ],
             [
              0.2222222222222222,
              "#7201a8"
             ],
             [
              0.3333333333333333,
              "#9c179e"
             ],
             [
              0.4444444444444444,
              "#bd3786"
             ],
             [
              0.5555555555555556,
              "#d8576b"
             ],
             [
              0.6666666666666666,
              "#ed7953"
             ],
             [
              0.7777777777777778,
              "#fb9f3a"
             ],
             [
              0.8888888888888888,
              "#fdca26"
             ],
             [
              1,
              "#f0f921"
             ]
            ],
            "type": "heatmapgl"
           }
          ],
          "histogram": [
           {
            "marker": {
             "pattern": {
              "fillmode": "overlay",
              "size": 10,
              "solidity": 0.2
             }
            },
            "type": "histogram"
           }
          ],
          "histogram2d": [
           {
            "colorbar": {
             "outlinewidth": 0,
             "ticks": ""
            },
            "colorscale": [
             [
              0,
              "#0d0887"
             ],
             [
              0.1111111111111111,
              "#46039f"
             ],
             [
              0.2222222222222222,
              "#7201a8"
             ],
             [
              0.3333333333333333,
              "#9c179e"
             ],
             [
              0.4444444444444444,
              "#bd3786"
             ],
             [
              0.5555555555555556,
              "#d8576b"
             ],
             [
              0.6666666666666666,
              "#ed7953"
             ],
             [
              0.7777777777777778,
              "#fb9f3a"
             ],
             [
              0.8888888888888888,
              "#fdca26"
             ],
             [
              1,
              "#f0f921"
             ]
            ],
            "type": "histogram2d"
           }
          ],
          "histogram2dcontour": [
           {
            "colorbar": {
             "outlinewidth": 0,
             "ticks": ""
            },
            "colorscale": [
             [
              0,
              "#0d0887"
             ],
             [
              0.1111111111111111,
              "#46039f"
             ],
             [
              0.2222222222222222,
              "#7201a8"
             ],
             [
              0.3333333333333333,
              "#9c179e"
             ],
             [
              0.4444444444444444,
              "#bd3786"
             ],
             [
              0.5555555555555556,
              "#d8576b"
             ],
             [
              0.6666666666666666,
              "#ed7953"
             ],
             [
              0.7777777777777778,
              "#fb9f3a"
             ],
             [
              0.8888888888888888,
              "#fdca26"
             ],
             [
              1,
              "#f0f921"
             ]
            ],
            "type": "histogram2dcontour"
           }
          ],
          "mesh3d": [
           {
            "colorbar": {
             "outlinewidth": 0,
             "ticks": ""
            },
            "type": "mesh3d"
           }
          ],
          "parcoords": [
           {
            "line": {
             "colorbar": {
              "outlinewidth": 0,
              "ticks": ""
             }
            },
            "type": "parcoords"
           }
          ],
          "pie": [
           {
            "automargin": true,
            "type": "pie"
           }
          ],
          "scatter": [
           {
            "fillpattern": {
             "fillmode": "overlay",
             "size": 10,
             "solidity": 0.2
            },
            "type": "scatter"
           }
          ],
          "scatter3d": [
           {
            "line": {
             "colorbar": {
              "outlinewidth": 0,
              "ticks": ""
             }
            },
            "marker": {
             "colorbar": {
              "outlinewidth": 0,
              "ticks": ""
             }
            },
            "type": "scatter3d"
           }
          ],
          "scattercarpet": [
           {
            "marker": {
             "colorbar": {
              "outlinewidth": 0,
              "ticks": ""
             }
            },
            "type": "scattercarpet"
           }
          ],
          "scattergeo": [
           {
            "marker": {
             "colorbar": {
              "outlinewidth": 0,
              "ticks": ""
             }
            },
            "type": "scattergeo"
           }
          ],
          "scattergl": [
           {
            "marker": {
             "colorbar": {
              "outlinewidth": 0,
              "ticks": ""
             }
            },
            "type": "scattergl"
           }
          ],
          "scattermapbox": [
           {
            "marker": {
             "colorbar": {
              "outlinewidth": 0,
              "ticks": ""
             }
            },
            "type": "scattermapbox"
           }
          ],
          "scatterpolar": [
           {
            "marker": {
             "colorbar": {
              "outlinewidth": 0,
              "ticks": ""
             }
            },
            "type": "scatterpolar"
           }
          ],
          "scatterpolargl": [
           {
            "marker": {
             "colorbar": {
              "outlinewidth": 0,
              "ticks": ""
             }
            },
            "type": "scatterpolargl"
           }
          ],
          "scatterternary": [
           {
            "marker": {
             "colorbar": {
              "outlinewidth": 0,
              "ticks": ""
             }
            },
            "type": "scatterternary"
           }
          ],
          "surface": [
           {
            "colorbar": {
             "outlinewidth": 0,
             "ticks": ""
            },
            "colorscale": [
             [
              0,
              "#0d0887"
             ],
             [
              0.1111111111111111,
              "#46039f"
             ],
             [
              0.2222222222222222,
              "#7201a8"
             ],
             [
              0.3333333333333333,
              "#9c179e"
             ],
             [
              0.4444444444444444,
              "#bd3786"
             ],
             [
              0.5555555555555556,
              "#d8576b"
             ],
             [
              0.6666666666666666,
              "#ed7953"
             ],
             [
              0.7777777777777778,
              "#fb9f3a"
             ],
             [
              0.8888888888888888,
              "#fdca26"
             ],
             [
              1,
              "#f0f921"
             ]
            ],
            "type": "surface"
           }
          ],
          "table": [
           {
            "cells": {
             "fill": {
              "color": "#EBF0F8"
             },
             "line": {
              "color": "white"
             }
            },
            "header": {
             "fill": {
              "color": "#C8D4E3"
             },
             "line": {
              "color": "white"
             }
            },
            "type": "table"
           }
          ]
         },
         "layout": {
          "annotationdefaults": {
           "arrowcolor": "#2a3f5f",
           "arrowhead": 0,
           "arrowwidth": 1
          },
          "autotypenumbers": "strict",
          "coloraxis": {
           "colorbar": {
            "outlinewidth": 0,
            "ticks": ""
           }
          },
          "colorscale": {
           "diverging": [
            [
             0,
             "#8e0152"
            ],
            [
             0.1,
             "#c51b7d"
            ],
            [
             0.2,
             "#de77ae"
            ],
            [
             0.3,
             "#f1b6da"
            ],
            [
             0.4,
             "#fde0ef"
            ],
            [
             0.5,
             "#f7f7f7"
            ],
            [
             0.6,
             "#e6f5d0"
            ],
            [
             0.7,
             "#b8e186"
            ],
            [
             0.8,
             "#7fbc41"
            ],
            [
             0.9,
             "#4d9221"
            ],
            [
             1,
             "#276419"
            ]
           ],
           "sequential": [
            [
             0,
             "#0d0887"
            ],
            [
             0.1111111111111111,
             "#46039f"
            ],
            [
             0.2222222222222222,
             "#7201a8"
            ],
            [
             0.3333333333333333,
             "#9c179e"
            ],
            [
             0.4444444444444444,
             "#bd3786"
            ],
            [
             0.5555555555555556,
             "#d8576b"
            ],
            [
             0.6666666666666666,
             "#ed7953"
            ],
            [
             0.7777777777777778,
             "#fb9f3a"
            ],
            [
             0.8888888888888888,
             "#fdca26"
            ],
            [
             1,
             "#f0f921"
            ]
           ],
           "sequentialminus": [
            [
             0,
             "#0d0887"
            ],
            [
             0.1111111111111111,
             "#46039f"
            ],
            [
             0.2222222222222222,
             "#7201a8"
            ],
            [
             0.3333333333333333,
             "#9c179e"
            ],
            [
             0.4444444444444444,
             "#bd3786"
            ],
            [
             0.5555555555555556,
             "#d8576b"
            ],
            [
             0.6666666666666666,
             "#ed7953"
            ],
            [
             0.7777777777777778,
             "#fb9f3a"
            ],
            [
             0.8888888888888888,
             "#fdca26"
            ],
            [
             1,
             "#f0f921"
            ]
           ]
          },
          "colorway": [
           "#636efa",
           "#EF553B",
           "#00cc96",
           "#ab63fa",
           "#FFA15A",
           "#19d3f3",
           "#FF6692",
           "#B6E880",
           "#FF97FF",
           "#FECB52"
          ],
          "font": {
           "color": "#2a3f5f"
          },
          "geo": {
           "bgcolor": "white",
           "lakecolor": "white",
           "landcolor": "#E5ECF6",
           "showlakes": true,
           "showland": true,
           "subunitcolor": "white"
          },
          "hoverlabel": {
           "align": "left"
          },
          "hovermode": "closest",
          "mapbox": {
           "style": "light"
          },
          "paper_bgcolor": "white",
          "plot_bgcolor": "#E5ECF6",
          "polar": {
           "angularaxis": {
            "gridcolor": "white",
            "linecolor": "white",
            "ticks": ""
           },
           "bgcolor": "#E5ECF6",
           "radialaxis": {
            "gridcolor": "white",
            "linecolor": "white",
            "ticks": ""
           }
          },
          "scene": {
           "xaxis": {
            "backgroundcolor": "#E5ECF6",
            "gridcolor": "white",
            "gridwidth": 2,
            "linecolor": "white",
            "showbackground": true,
            "ticks": "",
            "zerolinecolor": "white"
           },
           "yaxis": {
            "backgroundcolor": "#E5ECF6",
            "gridcolor": "white",
            "gridwidth": 2,
            "linecolor": "white",
            "showbackground": true,
            "ticks": "",
            "zerolinecolor": "white"
           },
           "zaxis": {
            "backgroundcolor": "#E5ECF6",
            "gridcolor": "white",
            "gridwidth": 2,
            "linecolor": "white",
            "showbackground": true,
            "ticks": "",
            "zerolinecolor": "white"
           }
          },
          "shapedefaults": {
           "line": {
            "color": "#2a3f5f"
           }
          },
          "ternary": {
           "aaxis": {
            "gridcolor": "white",
            "linecolor": "white",
            "ticks": ""
           },
           "baxis": {
            "gridcolor": "white",
            "linecolor": "white",
            "ticks": ""
           },
           "bgcolor": "#E5ECF6",
           "caxis": {
            "gridcolor": "white",
            "linecolor": "white",
            "ticks": ""
           }
          },
          "title": {
           "x": 0.05
          },
          "xaxis": {
           "automargin": true,
           "gridcolor": "white",
           "linecolor": "white",
           "ticks": "",
           "title": {
            "standoff": 15
           },
           "zerolinecolor": "white",
           "zerolinewidth": 2
          },
          "yaxis": {
           "automargin": true,
           "gridcolor": "white",
           "linecolor": "white",
           "ticks": "",
           "title": {
            "standoff": 15
           },
           "zerolinecolor": "white",
           "zerolinewidth": 2
          }
         }
        },
        "width": 600
       }
      }
     },
     "metadata": {},
     "output_type": "display_data"
    }
   ],
   "source": [
    "community_visualization_3d(plot_community_df, core_wallet_lst, weight_=600, height_=600)"
   ]
  },
  {
   "cell_type": "markdown",
   "metadata": {},
   "source": [
    "# Get clustering variables"
   ]
  },
  {
   "cell_type": "markdown",
   "metadata": {},
   "source": [
    "## Community Data\n",
    "\n",
    "Calculate how many wallets each wallet has interacted with within the community"
   ]
  },
  {
   "cell_type": "code",
   "execution_count": 33,
   "metadata": {},
   "outputs": [],
   "source": [
    "def columns_item_sum(df_, cols=[\"node_a\", \"node_b\"], sum_col=\"tx_count\"):\n",
    "    all_elements = pd.concat(\n",
    "        [\n",
    "            df_[[cols[0], sum_col]].rename(columns={cols[0]: \"index\"}),\n",
    "            df_[[cols[1], sum_col]].rename(columns={cols[1]: \"index\"}),\n",
    "        ]\n",
    "    )\n",
    "    \n",
    "    # Group by wallet and sum the transaction count\n",
    "    df_sum_ = all_elements.groupby(\"index\")[sum_col].sum().reset_index()\n",
    "    return df_sum_"
   ]
  },
  {
   "cell_type": "code",
   "execution_count": 34,
   "metadata": {},
   "outputs": [],
   "source": [
    "def clustering_community_info(w_lst, weight_df_=weight_df):\n",
    "    internal_weight_df = weight_df_[\n",
    "        weight_df_[\"node_a\"].isin(w_lst) & weight_df_[\"node_b\"].isin(w_lst)\n",
    "    ]\n",
    "    # get the number of wallets each wallet interacts with\n",
    "    wallet_internal_tx_wallet_df = columns_item_count(\n",
    "        internal_weight_df, w_cols=[\"node_a\", \"node_b\"]\n",
    "    )\n",
    "    wallet_internal_tx_wallet_df.columns = [\"wallet\", \"commu_tx_wallets\"]\n",
    "    wallet_internal_tx_wallet_df = wallet_internal_tx_wallet_df.set_index(\"wallet\")\n",
    "    # Get the sum of transactions for each wallet\n",
    "    wallet_internal_tx_count_df = columns_item_sum(\n",
    "        internal_weight_df, cols=[\"node_a\", \"node_b\"], sum_col=\"tx_count\"\n",
    "    )\n",
    "    wallet_internal_tx_count_df.columns = [\"wallet\", \"commu_tx_count\"]\n",
    "    wallet_internal_tx_count_df = wallet_internal_tx_count_df.set_index(\"wallet\")\n",
    "    # merge the two dataframes\n",
    "    wallet_internal_interaction_df = wallet_internal_tx_wallet_df.join(\n",
    "        wallet_internal_tx_count_df\n",
    "    )\n",
    "    return wallet_internal_interaction_df"
   ]
  },
  {
   "cell_type": "markdown",
   "metadata": {},
   "source": [
    "## Trino data "
   ]
  },
  {
   "cell_type": "markdown",
   "metadata": {},
   "source": [
    "\"xxx_address_monthly_stats_full\"\n",
    "- address active days\n",
    "- total gas fee in usd\n",
    "- number of transaction\n",
    "- wallets interacted\n",
    "- last transaction time\n",
    "\n",
    "-- \n",
    "\n",
    "(function is done but not sure if should use due to computational power required)\n",
    "\n",
    "\"xxx_address_last_stats_full\"\n",
    "- number of token types on different chains (ETH on Polygon and ETH on ethereum are different)\n",
    "\n",
    "--\n",
    "\n",
    "\"xxx_token_transfers_full\" (not yet given the computational power required)\n",
    "- interval in second\n",
    "\n",
    "\n"
   ]
  },
  {
   "cell_type": "code",
   "execution_count": 35,
   "metadata": {},
   "outputs": [],
   "source": [
    "def clustering_trino_info_fetch(w_lst, start_date_, end_date_):\n",
    "    clustering_info = wallets_monthly_info(w_lst, start_date_, end_date_)\n",
    "    clustering_info_df = pd.DataFrame(clustering_info).T\n",
    "    clustering_info_df.columns = trino_data_column_names\n",
    "    return clustering_info_df"
   ]
  },
  {
   "cell_type": "code",
   "execution_count": 36,
   "metadata": {},
   "outputs": [],
   "source": [
    "def clustering_trino_info(w_lst, start_date_, end_date_, existing_df_=None, write_to_path=None):\n",
    "    if existing_df_ is not None:\n",
    "        existing_df_ = existing_df_[existing_df_.index.isin(w_lst)]\n",
    "        # fetch for the missing wallets\n",
    "        missing_lst = refine_lst(w_lst, existing_df_.index.tolist())\n",
    "        if missing_lst:\n",
    "            missing_df = clustering_trino_info_fetch(missing_lst, start_date_, end_date_)\n",
    "            if write_to_path:\n",
    "                write_to_file_name = os.path.join(write_to_path, f\"clustering_trino_{missing_df.index[0]}.csv\")\n",
    "                missing_df.to_csv(write_to_file_name, index=True)\n",
    "            return pd.concat([existing_df_, missing_df])\n",
    "        else:\n",
    "            return existing_df_\n",
    "    else:\n",
    "        return clustering_trino_info_fetch(w_lst, start_date_, end_date_)"
   ]
  },
  {
   "cell_type": "markdown",
   "metadata": {},
   "source": [
    "### Combine data from two sources"
   ]
  },
  {
   "cell_type": "code",
   "execution_count": 37,
   "metadata": {},
   "outputs": [],
   "source": [
    "def clustering_info(w_lst, start_date_, end_date_, existing_df_ = None, write_to_path=None):\n",
    "    internal_info = clustering_community_info(w_lst)\n",
    "    trino_info = clustering_trino_info(w_lst, start_date_, end_date_, existing_df_ = existing_df_, write_to_path=write_to_path)\n",
    "    clustering_info_df = internal_info.merge(\n",
    "        trino_info, left_index=True, right_index=True\n",
    "    )\n",
    "\n",
    "    return clustering_info_df"
   ]
  },
  {
   "cell_type": "code",
   "execution_count": 38,
   "metadata": {},
   "outputs": [],
   "source": [
    "def full_community_clustering_info(louvain_community_lst_, start_date_, end_date_):\n",
    "    for _, commu in enumerate(louvain_community_lst_):\n",
    "        if len(commu) < 3:\n",
    "            continue\n",
    "        clustering_info_df = clustering_info(commu, start_date_, end_date_)\n",
    "        file_path = f\"/Users/floras/Desktop/unique-user/-Data/clustering_info/clustering_info_{start_date_}_{end_date_}.csv\"\n",
    "        if os.path.isfile(file_path):\n",
    "            # Append to the file without writing the header\n",
    "            clustering_info_df.to_csv(file_path, mode=\"a\", header=False, index=True)\n",
    "        else:\n",
    "            # Write a new file with the header\n",
    "            clustering_info_df.to_csv(file_path, mode=\"w\", header=True, index=True)"
   ]
  },
  {
   "cell_type": "markdown",
   "metadata": {},
   "source": [
    "# clustering"
   ]
  },
  {
   "cell_type": "markdown",
   "metadata": {},
   "source": [
    "**Why we scale data?**\n",
    "\n",
    "- If the dataset has features with vastly different scales (e.g., one feature ranges from 0 to 1, while another ranges from 0 to 1000), the feature with the larger scale will dominate the distance calculations. Normalizing data ensures that each feature contributes equally to the distance calculation. This is particularly important in multi-dimensional datasets where features may not have the same units or magnitude.\n",
    "\n",
    "- we used standardization (Z-Score Scaling): Scales features to have mean = 0 and standard deviation = 1."
   ]
  },
  {
   "cell_type": "code",
   "execution_count": 39,
   "metadata": {},
   "outputs": [],
   "source": [
    "def isolation_forest(clustering_info_df, clustring_features, contamination_):\n",
    "    if contamination_ > 0.5:\n",
    "        clustering_info_df[\"isolation_forest\"] = -1\n",
    "        return clustering_info_df\n",
    "    # Normalize the data\n",
    "    scaler = StandardScaler()\n",
    "    scaled_features = scaler.fit_transform(clustering_info_df[clustring_features])\n",
    "\n",
    "    # Apply Isolation Forest\n",
    "    iso = IsolationForest(contamination=contamination_)  # Adjust contamination level\n",
    "    clustering_info_df[\"isolation_forest\"] = iso.fit_predict(scaled_features)\n",
    "\n",
    "    return clustering_info_df"
   ]
  },
  {
   "cell_type": "code",
   "execution_count": 40,
   "metadata": {},
   "outputs": [],
   "source": [
    "def optics_clustering(clustering_info_df, clustring_features, min_samples_=3):\n",
    "    if len(clustering_info_df) < min_samples_:\n",
    "        clustering_info_df[\"optics\"] = 0\n",
    "        return clustering_info_df\n",
    "    # Normalize the data\n",
    "    scaler = StandardScaler()\n",
    "    scaled_features = scaler.fit_transform(clustering_info_df[clustring_features])\n",
    "\n",
    "    # Apply OPTICS clustering\n",
    "    optics = OPTICS(min_samples=min_samples_)\n",
    "    clustering_info_df[\"optics\"] = optics.fit_predict(scaled_features)\n",
    "\n",
    "    return clustering_info_df"
   ]
  },
  {
   "cell_type": "code",
   "execution_count": 41,
   "metadata": {},
   "outputs": [],
   "source": [
    "def two_step_clustering(\n",
    "    clustering_info_df,\n",
    "    iso_features_,\n",
    "    optics_features_,\n",
    "    core_num=2,\n",
    "    optics_min_samples=3,\n",
    "):\n",
    "    core_num = min(core_num, np.floor(clustering_info_df.shape[0] / 2))\n",
    "    if core_num < 1:\n",
    "        raise ValueError(\"Core number should be at least 1\")\n",
    "    contamination_ = core_num / clustering_info_df.shape[0]\n",
    "    clustered_df = clustering_info_df.copy()\n",
    "    clustered_df = isolation_forest(clustered_df, iso_features_, contamination_)\n",
    "    middle_info_df = clustered_df[clustered_df[\"isolation_forest\"] != -1]\n",
    "    clusted_middle_info_df = optics_clustering(\n",
    "        middle_info_df, optics_features_, optics_min_samples\n",
    "    )\n",
    "    # merge result back to original df\n",
    "    clustered_df = pd.merge(\n",
    "        clustered_df,\n",
    "        clusted_middle_info_df[\"optics\"],\n",
    "        how=\"left\",\n",
    "        left_index=True,\n",
    "        right_index=True,\n",
    "    )\n",
    "    clustered_df[\"type\"] = clustered_df.apply(\n",
    "        lambda x: (\n",
    "            \"sybil_core\"\n",
    "            if x[\"isolation_forest\"] == -1\n",
    "            else \"normal\" if x[\"optics\"] == -1 else \"sybil\"\n",
    "        ),\n",
    "        axis=1,\n",
    "    )\n",
    "    return clustered_df"
   ]
  },
  {
   "cell_type": "code",
   "execution_count": 61,
   "metadata": {},
   "outputs": [
    {
     "data": {
      "text/html": [
       "<div>\n",
       "<style scoped>\n",
       "    .dataframe tbody tr th:only-of-type {\n",
       "        vertical-align: middle;\n",
       "    }\n",
       "\n",
       "    .dataframe tbody tr th {\n",
       "        vertical-align: top;\n",
       "    }\n",
       "\n",
       "    .dataframe thead th {\n",
       "        text-align: right;\n",
       "    }\n",
       "</style>\n",
       "<table border=\"1\" class=\"dataframe\">\n",
       "  <thead>\n",
       "    <tr style=\"text-align: right;\">\n",
       "      <th></th>\n",
       "      <th>active_days</th>\n",
       "      <th>total_gas_fee_in_usd</th>\n",
       "      <th>txn_count</th>\n",
       "      <th>wallets_interacted</th>\n",
       "      <th>last_txn_date_int</th>\n",
       "      <th>last_txn_date</th>\n",
       "      <th>start_date</th>\n",
       "      <th>end_date</th>\n",
       "    </tr>\n",
       "    <tr>\n",
       "      <th>Unnamed: 0</th>\n",
       "      <th></th>\n",
       "      <th></th>\n",
       "      <th></th>\n",
       "      <th></th>\n",
       "      <th></th>\n",
       "      <th></th>\n",
       "      <th></th>\n",
       "      <th></th>\n",
       "    </tr>\n",
       "  </thead>\n",
       "  <tbody>\n",
       "    <tr>\n",
       "      <th>0x1d26dcab017832a2336db5bc3218f99eb3807d57</th>\n",
       "      <td>88</td>\n",
       "      <td>621.600245</td>\n",
       "      <td>110</td>\n",
       "      <td>47</td>\n",
       "      <td>738875</td>\n",
       "      <td>2024-12-07</td>\n",
       "      <td>NaN</td>\n",
       "      <td>NaN</td>\n",
       "    </tr>\n",
       "    <tr>\n",
       "      <th>0xf3c17da125a33de55767aad78747a373200f3b98</th>\n",
       "      <td>59</td>\n",
       "      <td>237.204729</td>\n",
       "      <td>68</td>\n",
       "      <td>28</td>\n",
       "      <td>739221</td>\n",
       "      <td>2024-12-01</td>\n",
       "      <td>NaN</td>\n",
       "      <td>NaN</td>\n",
       "    </tr>\n",
       "    <tr>\n",
       "      <th>0xc700e16f61041fcf717f0930227e26948c746bc5</th>\n",
       "      <td>56</td>\n",
       "      <td>135.499519</td>\n",
       "      <td>68</td>\n",
       "      <td>32</td>\n",
       "      <td>738857</td>\n",
       "      <td>2024-12-01</td>\n",
       "      <td>NaN</td>\n",
       "      <td>NaN</td>\n",
       "    </tr>\n",
       "    <tr>\n",
       "      <th>0x28134b0c8b407fde3ba6edd3f9a39d4729927fb6</th>\n",
       "      <td>5</td>\n",
       "      <td>6.768358</td>\n",
       "      <td>5</td>\n",
       "      <td>2</td>\n",
       "      <td>738915</td>\n",
       "      <td>2024-01-30</td>\n",
       "      <td>NaN</td>\n",
       "      <td>NaN</td>\n",
       "    </tr>\n",
       "    <tr>\n",
       "      <th>0x95ee8b32aac20a4ca806d801774fc5e31fece7d4</th>\n",
       "      <td>208</td>\n",
       "      <td>1060.295574</td>\n",
       "      <td>244</td>\n",
       "      <td>109</td>\n",
       "      <td>739193</td>\n",
       "      <td>2024-12-10</td>\n",
       "      <td>NaN</td>\n",
       "      <td>NaN</td>\n",
       "    </tr>\n",
       "  </tbody>\n",
       "</table>\n",
       "</div>"
      ],
      "text/plain": [
       "                                            active_days  total_gas_fee_in_usd  \\\n",
       "Unnamed: 0                                                                      \n",
       "0x1d26dcab017832a2336db5bc3218f99eb3807d57           88            621.600245   \n",
       "0xf3c17da125a33de55767aad78747a373200f3b98           59            237.204729   \n",
       "0xc700e16f61041fcf717f0930227e26948c746bc5           56            135.499519   \n",
       "0x28134b0c8b407fde3ba6edd3f9a39d4729927fb6            5              6.768358   \n",
       "0x95ee8b32aac20a4ca806d801774fc5e31fece7d4          208           1060.295574   \n",
       "\n",
       "                                            txn_count  wallets_interacted  \\\n",
       "Unnamed: 0                                                                  \n",
       "0x1d26dcab017832a2336db5bc3218f99eb3807d57        110                  47   \n",
       "0xf3c17da125a33de55767aad78747a373200f3b98         68                  28   \n",
       "0xc700e16f61041fcf717f0930227e26948c746bc5         68                  32   \n",
       "0x28134b0c8b407fde3ba6edd3f9a39d4729927fb6          5                   2   \n",
       "0x95ee8b32aac20a4ca806d801774fc5e31fece7d4        244                 109   \n",
       "\n",
       "                                            last_txn_date_int last_txn_date  \\\n",
       "Unnamed: 0                                                                    \n",
       "0x1d26dcab017832a2336db5bc3218f99eb3807d57             738875    2024-12-07   \n",
       "0xf3c17da125a33de55767aad78747a373200f3b98             739221    2024-12-01   \n",
       "0xc700e16f61041fcf717f0930227e26948c746bc5             738857    2024-12-01   \n",
       "0x28134b0c8b407fde3ba6edd3f9a39d4729927fb6             738915    2024-01-30   \n",
       "0x95ee8b32aac20a4ca806d801774fc5e31fece7d4             739193    2024-12-10   \n",
       "\n",
       "                                            start_date  end_date  \n",
       "Unnamed: 0                                                        \n",
       "0x1d26dcab017832a2336db5bc3218f99eb3807d57         NaN       NaN  \n",
       "0xf3c17da125a33de55767aad78747a373200f3b98         NaN       NaN  \n",
       "0xc700e16f61041fcf717f0930227e26948c746bc5         NaN       NaN  \n",
       "0x28134b0c8b407fde3ba6edd3f9a39d4729927fb6         NaN       NaN  \n",
       "0x95ee8b32aac20a4ca806d801774fc5e31fece7d4         NaN       NaN  "
      ]
     },
     "execution_count": 61,
     "metadata": {},
     "output_type": "execute_result"
    }
   ],
   "source": [
    "existing_file_path = '-Data/clustering_info'\n",
    "existing_file_name_lst = file_name_lst(existing_file_path, endswith=\".csv\")\n",
    "existing_data_df = read_from_multiple_csv(existing_file_path, existing_file_name_lst).set_index(\"Unnamed: 0\")\n",
    "existing_data_df = existing_data_df[trino_data_column_names]\n",
    "\n",
    "existing_data_df.head()"
   ]
  },
  {
   "cell_type": "code",
   "execution_count": 60,
   "metadata": {},
   "outputs": [
    {
     "data": {
      "text/html": [
       "<div>\n",
       "<style scoped>\n",
       "    .dataframe tbody tr th:only-of-type {\n",
       "        vertical-align: middle;\n",
       "    }\n",
       "\n",
       "    .dataframe tbody tr th {\n",
       "        vertical-align: top;\n",
       "    }\n",
       "\n",
       "    .dataframe thead th {\n",
       "        text-align: right;\n",
       "    }\n",
       "</style>\n",
       "<table border=\"1\" class=\"dataframe\">\n",
       "  <thead>\n",
       "    <tr style=\"text-align: right;\">\n",
       "      <th></th>\n",
       "      <th>commu_tx_wallets</th>\n",
       "      <th>commu_tx_count</th>\n",
       "      <th>active_days</th>\n",
       "      <th>total_gas_fee_in_usd</th>\n",
       "      <th>txn_count</th>\n",
       "      <th>wallets_interacted</th>\n",
       "      <th>last_txn_date_int</th>\n",
       "      <th>last_txn_date</th>\n",
       "      <th>start_date</th>\n",
       "      <th>end_date</th>\n",
       "    </tr>\n",
       "  </thead>\n",
       "  <tbody>\n",
       "    <tr>\n",
       "      <th>0x06209554bc06b2bb2a12446c0f0c741da532789c</th>\n",
       "      <td>1</td>\n",
       "      <td>1</td>\n",
       "      <td>247</td>\n",
       "      <td>85.908282</td>\n",
       "      <td>265</td>\n",
       "      <td>52</td>\n",
       "      <td>739225</td>\n",
       "      <td>2024-12-05</td>\n",
       "      <td>None</td>\n",
       "      <td>None</td>\n",
       "    </tr>\n",
       "    <tr>\n",
       "      <th>0xa18df49ebc121d2bcf756b40f1b97ce8b835830f</th>\n",
       "      <td>48</td>\n",
       "      <td>48</td>\n",
       "      <td>7437</td>\n",
       "      <td>9.210677</td>\n",
       "      <td>7437</td>\n",
       "      <td>7436</td>\n",
       "      <td>739093</td>\n",
       "      <td>2024-07-26</td>\n",
       "      <td>None</td>\n",
       "      <td>None</td>\n",
       "    </tr>\n",
       "    <tr>\n",
       "      <th>0x09ef42ac46bd91d3039f58ac1c055239c65362c8</th>\n",
       "      <td>1</td>\n",
       "      <td>1</td>\n",
       "      <td>5</td>\n",
       "      <td>2.535241</td>\n",
       "      <td>5</td>\n",
       "      <td>5</td>\n",
       "      <td>738910</td>\n",
       "      <td>2024-07-12</td>\n",
       "      <td>None</td>\n",
       "      <td>None</td>\n",
       "    </tr>\n",
       "    <tr>\n",
       "      <th>0x0ba57409d04c154b6bc931ea6cee199e3b12444a</th>\n",
       "      <td>1</td>\n",
       "      <td>1</td>\n",
       "      <td>4</td>\n",
       "      <td>1.12019</td>\n",
       "      <td>4</td>\n",
       "      <td>4</td>\n",
       "      <td>738904</td>\n",
       "      <td>2024-07-13</td>\n",
       "      <td>None</td>\n",
       "      <td>None</td>\n",
       "    </tr>\n",
       "    <tr>\n",
       "      <th>0x10befa88586c8a378849dfe932c59939e8548875</th>\n",
       "      <td>1</td>\n",
       "      <td>1</td>\n",
       "      <td>5</td>\n",
       "      <td>1.790626</td>\n",
       "      <td>5</td>\n",
       "      <td>5</td>\n",
       "      <td>738910</td>\n",
       "      <td>2024-07-12</td>\n",
       "      <td>None</td>\n",
       "      <td>None</td>\n",
       "    </tr>\n",
       "    <tr>\n",
       "      <th>0x167479c2d37f5bd4259acaef05e9ca7c948e7eff</th>\n",
       "      <td>1</td>\n",
       "      <td>1</td>\n",
       "      <td>20</td>\n",
       "      <td>3.812898</td>\n",
       "      <td>26</td>\n",
       "      <td>16</td>\n",
       "      <td>738931</td>\n",
       "      <td>2024-09-14</td>\n",
       "      <td>None</td>\n",
       "      <td>None</td>\n",
       "    </tr>\n",
       "    <tr>\n",
       "      <th>0x36017ca03dc27cf5ecd3545e6cfda790abe64a69</th>\n",
       "      <td>1</td>\n",
       "      <td>1</td>\n",
       "      <td>2</td>\n",
       "      <td>0.00559</td>\n",
       "      <td>2</td>\n",
       "      <td>2</td>\n",
       "      <td>738904</td>\n",
       "      <td>2024-01-19</td>\n",
       "      <td>None</td>\n",
       "      <td>None</td>\n",
       "    </tr>\n",
       "    <tr>\n",
       "      <th>0x366d0f389109e84209924b444182d052d8ae03ea</th>\n",
       "      <td>1</td>\n",
       "      <td>1</td>\n",
       "      <td>4</td>\n",
       "      <td>3.068084</td>\n",
       "      <td>4</td>\n",
       "      <td>4</td>\n",
       "      <td>738904</td>\n",
       "      <td>2024-10-30</td>\n",
       "      <td>None</td>\n",
       "      <td>None</td>\n",
       "    </tr>\n",
       "    <tr>\n",
       "      <th>0x3c1039f91726c25cb859782b1caa9eafd6bf0e63</th>\n",
       "      <td>1</td>\n",
       "      <td>1</td>\n",
       "      <td>94</td>\n",
       "      <td>418.761305</td>\n",
       "      <td>134</td>\n",
       "      <td>64</td>\n",
       "      <td>739000</td>\n",
       "      <td>2024-12-12</td>\n",
       "      <td>None</td>\n",
       "      <td>None</td>\n",
       "    </tr>\n",
       "    <tr>\n",
       "      <th>0x400cd82b8c2565fec580ac0910ed2f1241bcaa97</th>\n",
       "      <td>1</td>\n",
       "      <td>1</td>\n",
       "      <td>1</td>\n",
       "      <td>0.000593</td>\n",
       "      <td>1</td>\n",
       "      <td>1</td>\n",
       "      <td>738904</td>\n",
       "      <td>2024-01-19</td>\n",
       "      <td>None</td>\n",
       "      <td>None</td>\n",
       "    </tr>\n",
       "    <tr>\n",
       "      <th>0x4b3483c855d223141cc6f2a1b1dc82e6618f52ef</th>\n",
       "      <td>1</td>\n",
       "      <td>1</td>\n",
       "      <td>3</td>\n",
       "      <td>5.202646</td>\n",
       "      <td>3</td>\n",
       "      <td>3</td>\n",
       "      <td>738903</td>\n",
       "      <td>2024-11-18</td>\n",
       "      <td>None</td>\n",
       "      <td>None</td>\n",
       "    </tr>\n",
       "    <tr>\n",
       "      <th>0x4eaf9f30f1d060da85d11624b9696e28528dad8a</th>\n",
       "      <td>1</td>\n",
       "      <td>1</td>\n",
       "      <td>19</td>\n",
       "      <td>6.563024</td>\n",
       "      <td>19</td>\n",
       "      <td>17</td>\n",
       "      <td>738944</td>\n",
       "      <td>2024-07-11</td>\n",
       "      <td>None</td>\n",
       "      <td>None</td>\n",
       "    </tr>\n",
       "    <tr>\n",
       "      <th>0x519a784ea1ab15dd2342c02a903dde157feaecbe</th>\n",
       "      <td>1</td>\n",
       "      <td>1</td>\n",
       "      <td>5</td>\n",
       "      <td>5.809362</td>\n",
       "      <td>5</td>\n",
       "      <td>5</td>\n",
       "      <td>738909</td>\n",
       "      <td>2024-07-11</td>\n",
       "      <td>None</td>\n",
       "      <td>None</td>\n",
       "    </tr>\n",
       "    <tr>\n",
       "      <th>0x53b4e9be19bf2dbd56cb4a6616b728327d4875e5</th>\n",
       "      <td>1</td>\n",
       "      <td>1</td>\n",
       "      <td>3</td>\n",
       "      <td>4.406218</td>\n",
       "      <td>3</td>\n",
       "      <td>3</td>\n",
       "      <td>738904</td>\n",
       "      <td>2024-10-23</td>\n",
       "      <td>None</td>\n",
       "      <td>None</td>\n",
       "    </tr>\n",
       "    <tr>\n",
       "      <th>0x53c0d3811f103200e44f39a0f523046c3116a6dd</th>\n",
       "      <td>1</td>\n",
       "      <td>1</td>\n",
       "      <td>3</td>\n",
       "      <td>0.003929</td>\n",
       "      <td>3</td>\n",
       "      <td>3</td>\n",
       "      <td>738941</td>\n",
       "      <td>2024-02-25</td>\n",
       "      <td>None</td>\n",
       "      <td>None</td>\n",
       "    </tr>\n",
       "    <tr>\n",
       "      <th>0x55ffe9070dc748c2efa5885ae40917abe842a811</th>\n",
       "      <td>1</td>\n",
       "      <td>1</td>\n",
       "      <td>19</td>\n",
       "      <td>4.569361</td>\n",
       "      <td>24</td>\n",
       "      <td>15</td>\n",
       "      <td>738930</td>\n",
       "      <td>2024-10-21</td>\n",
       "      <td>None</td>\n",
       "      <td>None</td>\n",
       "    </tr>\n",
       "    <tr>\n",
       "      <th>0x5911035a34855c21dbc1fddf544946c360a43495</th>\n",
       "      <td>1</td>\n",
       "      <td>1</td>\n",
       "      <td>417</td>\n",
       "      <td>17.926255</td>\n",
       "      <td>820</td>\n",
       "      <td>67</td>\n",
       "      <td>739232</td>\n",
       "      <td>2024-12-12</td>\n",
       "      <td>None</td>\n",
       "      <td>None</td>\n",
       "    </tr>\n",
       "    <tr>\n",
       "      <th>0x60bcd240135e3cf9901585090d1b08ff1f0c45e4</th>\n",
       "      <td>1</td>\n",
       "      <td>1</td>\n",
       "      <td>3</td>\n",
       "      <td>0.416893</td>\n",
       "      <td>3</td>\n",
       "      <td>3</td>\n",
       "      <td>738904</td>\n",
       "      <td>2024-08-31</td>\n",
       "      <td>None</td>\n",
       "      <td>None</td>\n",
       "    </tr>\n",
       "    <tr>\n",
       "      <th>0x63666dc480b18c840d4990a680759730365861ab</th>\n",
       "      <td>1</td>\n",
       "      <td>1</td>\n",
       "      <td>18</td>\n",
       "      <td>36.529152</td>\n",
       "      <td>19</td>\n",
       "      <td>14</td>\n",
       "      <td>738904</td>\n",
       "      <td>2024-11-24</td>\n",
       "      <td>None</td>\n",
       "      <td>None</td>\n",
       "    </tr>\n",
       "    <tr>\n",
       "      <th>0x6662b8dc2713dc077a9536f01abcac1e065efa19</th>\n",
       "      <td>1</td>\n",
       "      <td>1</td>\n",
       "      <td>22</td>\n",
       "      <td>42.190838</td>\n",
       "      <td>23</td>\n",
       "      <td>18</td>\n",
       "      <td>738911</td>\n",
       "      <td>2024-07-17</td>\n",
       "      <td>None</td>\n",
       "      <td>None</td>\n",
       "    </tr>\n",
       "    <tr>\n",
       "      <th>0x67161d3afb0ed471b6651aa4899ae62ca4cfd2cf</th>\n",
       "      <td>1</td>\n",
       "      <td>1</td>\n",
       "      <td>1</td>\n",
       "      <td>0.001011</td>\n",
       "      <td>1</td>\n",
       "      <td>1</td>\n",
       "      <td>738903</td>\n",
       "      <td>2024-01-18</td>\n",
       "      <td>None</td>\n",
       "      <td>None</td>\n",
       "    </tr>\n",
       "    <tr>\n",
       "      <th>0x6b6612149a94e04c0d90bc5699ea91e1f862db2f</th>\n",
       "      <td>1</td>\n",
       "      <td>1</td>\n",
       "      <td>26</td>\n",
       "      <td>52.317356</td>\n",
       "      <td>27</td>\n",
       "      <td>21</td>\n",
       "      <td>738930</td>\n",
       "      <td>2024-11-12</td>\n",
       "      <td>None</td>\n",
       "      <td>None</td>\n",
       "    </tr>\n",
       "    <tr>\n",
       "      <th>0x6d03833ed2d9d06dcd27c3b9ca19b84cca97bf37</th>\n",
       "      <td>1</td>\n",
       "      <td>1</td>\n",
       "      <td>102</td>\n",
       "      <td>366.278991</td>\n",
       "      <td>128</td>\n",
       "      <td>58</td>\n",
       "      <td>739026</td>\n",
       "      <td>2024-12-03</td>\n",
       "      <td>None</td>\n",
       "      <td>None</td>\n",
       "    </tr>\n",
       "    <tr>\n",
       "      <th>0x783b1cdc98070f7a694feb153f8d880a1f746809</th>\n",
       "      <td>1</td>\n",
       "      <td>1</td>\n",
       "      <td>19</td>\n",
       "      <td>10.710626</td>\n",
       "      <td>20</td>\n",
       "      <td>17</td>\n",
       "      <td>738941</td>\n",
       "      <td>2024-07-11</td>\n",
       "      <td>None</td>\n",
       "      <td>None</td>\n",
       "    </tr>\n",
       "    <tr>\n",
       "      <th>0x7899c25752fbe44d7d62238137194fc0477a6114</th>\n",
       "      <td>1</td>\n",
       "      <td>1</td>\n",
       "      <td>1</td>\n",
       "      <td>0.001198</td>\n",
       "      <td>1</td>\n",
       "      <td>1</td>\n",
       "      <td>738903</td>\n",
       "      <td>2024-01-18</td>\n",
       "      <td>None</td>\n",
       "      <td>None</td>\n",
       "    </tr>\n",
       "    <tr>\n",
       "      <th>0x7905fac8c765fe3df6c3ff4a4da70521150466b4</th>\n",
       "      <td>1</td>\n",
       "      <td>1</td>\n",
       "      <td>1</td>\n",
       "      <td>0.000652</td>\n",
       "      <td>1</td>\n",
       "      <td>1</td>\n",
       "      <td>738905</td>\n",
       "      <td>2024-01-20</td>\n",
       "      <td>None</td>\n",
       "      <td>None</td>\n",
       "    </tr>\n",
       "    <tr>\n",
       "      <th>0x7d99529cc4f7fd723c16a956f687cf83a6815532</th>\n",
       "      <td>1</td>\n",
       "      <td>1</td>\n",
       "      <td>3</td>\n",
       "      <td>6.059665</td>\n",
       "      <td>3</td>\n",
       "      <td>3</td>\n",
       "      <td>738903</td>\n",
       "      <td>2024-11-29</td>\n",
       "      <td>None</td>\n",
       "      <td>None</td>\n",
       "    </tr>\n",
       "    <tr>\n",
       "      <th>0x8ba8aa2e7589b8f89c212ea03fea86219b1e3558</th>\n",
       "      <td>1</td>\n",
       "      <td>1</td>\n",
       "      <td>1</td>\n",
       "      <td>0.000612</td>\n",
       "      <td>1</td>\n",
       "      <td>1</td>\n",
       "      <td>738905</td>\n",
       "      <td>2024-01-20</td>\n",
       "      <td>None</td>\n",
       "      <td>None</td>\n",
       "    </tr>\n",
       "    <tr>\n",
       "      <th>0x9c180ea0636010aa85d97b23381f5a7401054b21</th>\n",
       "      <td>1</td>\n",
       "      <td>1</td>\n",
       "      <td>2</td>\n",
       "      <td>0.002713</td>\n",
       "      <td>2</td>\n",
       "      <td>2</td>\n",
       "      <td>739061</td>\n",
       "      <td>2024-06-24</td>\n",
       "      <td>None</td>\n",
       "      <td>None</td>\n",
       "    </tr>\n",
       "    <tr>\n",
       "      <th>0xa391ca914b514bcdbe29c3ba54aba34870fe1bd5</th>\n",
       "      <td>1</td>\n",
       "      <td>1</td>\n",
       "      <td>42</td>\n",
       "      <td>12.816585</td>\n",
       "      <td>48</td>\n",
       "      <td>28</td>\n",
       "      <td>739012</td>\n",
       "      <td>2024-11-02</td>\n",
       "      <td>None</td>\n",
       "      <td>None</td>\n",
       "    </tr>\n",
       "    <tr>\n",
       "      <th>0xa79b0ec9d6e76f7bd1341a174f02e0cf57f8b553</th>\n",
       "      <td>1</td>\n",
       "      <td>1</td>\n",
       "      <td>2</td>\n",
       "      <td>0.529174</td>\n",
       "      <td>2</td>\n",
       "      <td>2</td>\n",
       "      <td>738904</td>\n",
       "      <td>2024-07-11</td>\n",
       "      <td>None</td>\n",
       "      <td>None</td>\n",
       "    </tr>\n",
       "    <tr>\n",
       "      <th>0xa900b524a72c9ec986cee19a69fc32f6fb4d44b6</th>\n",
       "      <td>1</td>\n",
       "      <td>1</td>\n",
       "      <td>7</td>\n",
       "      <td>0.903985</td>\n",
       "      <td>7</td>\n",
       "      <td>7</td>\n",
       "      <td>738903</td>\n",
       "      <td>2024-07-26</td>\n",
       "      <td>None</td>\n",
       "      <td>None</td>\n",
       "    </tr>\n",
       "    <tr>\n",
       "      <th>0xb412778910bf0d66254219dbc64fd4a8797ca280</th>\n",
       "      <td>1</td>\n",
       "      <td>1</td>\n",
       "      <td>3</td>\n",
       "      <td>2.099075</td>\n",
       "      <td>3</td>\n",
       "      <td>3</td>\n",
       "      <td>738904</td>\n",
       "      <td>2024-09-16</td>\n",
       "      <td>None</td>\n",
       "      <td>None</td>\n",
       "    </tr>\n",
       "    <tr>\n",
       "      <th>0xb4dacc1c9a7962992b6fcc232c38f1ef3aeb0bb8</th>\n",
       "      <td>1</td>\n",
       "      <td>1</td>\n",
       "      <td>5</td>\n",
       "      <td>2.531118</td>\n",
       "      <td>5</td>\n",
       "      <td>5</td>\n",
       "      <td>738909</td>\n",
       "      <td>2024-07-11</td>\n",
       "      <td>None</td>\n",
       "      <td>None</td>\n",
       "    </tr>\n",
       "    <tr>\n",
       "      <th>0xb5c1cffe7e6bc981f85aea828392dea7ef042770</th>\n",
       "      <td>1</td>\n",
       "      <td>1</td>\n",
       "      <td>1</td>\n",
       "      <td>0.00147</td>\n",
       "      <td>1</td>\n",
       "      <td>1</td>\n",
       "      <td>738903</td>\n",
       "      <td>2024-01-18</td>\n",
       "      <td>None</td>\n",
       "      <td>None</td>\n",
       "    </tr>\n",
       "    <tr>\n",
       "      <th>0xba821f0a67a75ce65f215cd16a655b0e2c00aa34</th>\n",
       "      <td>1</td>\n",
       "      <td>1</td>\n",
       "      <td>3</td>\n",
       "      <td>5.32619</td>\n",
       "      <td>3</td>\n",
       "      <td>3</td>\n",
       "      <td>738904</td>\n",
       "      <td>2024-11-21</td>\n",
       "      <td>None</td>\n",
       "      <td>None</td>\n",
       "    </tr>\n",
       "    <tr>\n",
       "      <th>0xbd4110ecb0372163ffcfcfb3345b579e707c6bdb</th>\n",
       "      <td>1</td>\n",
       "      <td>1</td>\n",
       "      <td>5</td>\n",
       "      <td>2.064426</td>\n",
       "      <td>6</td>\n",
       "      <td>5</td>\n",
       "      <td>738910</td>\n",
       "      <td>2024-07-12</td>\n",
       "      <td>None</td>\n",
       "      <td>None</td>\n",
       "    </tr>\n",
       "    <tr>\n",
       "      <th>0xc1bef26ba79174e03d82433384608dc3be04e585</th>\n",
       "      <td>1</td>\n",
       "      <td>1</td>\n",
       "      <td>1</td>\n",
       "      <td>0.000485</td>\n",
       "      <td>1</td>\n",
       "      <td>1</td>\n",
       "      <td>738908</td>\n",
       "      <td>2024-01-23</td>\n",
       "      <td>None</td>\n",
       "      <td>None</td>\n",
       "    </tr>\n",
       "    <tr>\n",
       "      <th>0xcc92c8c7c2dbc43fb0d833a62aa2cac44328e08d</th>\n",
       "      <td>1</td>\n",
       "      <td>1</td>\n",
       "      <td>5</td>\n",
       "      <td>3.464939</td>\n",
       "      <td>5</td>\n",
       "      <td>5</td>\n",
       "      <td>738903</td>\n",
       "      <td>2024-07-11</td>\n",
       "      <td>None</td>\n",
       "      <td>None</td>\n",
       "    </tr>\n",
       "    <tr>\n",
       "      <th>0xd18df0005392a67da8419b5d301719f42b26df0d</th>\n",
       "      <td>1</td>\n",
       "      <td>1</td>\n",
       "      <td>4</td>\n",
       "      <td>3.236002</td>\n",
       "      <td>4</td>\n",
       "      <td>4</td>\n",
       "      <td>738904</td>\n",
       "      <td>2024-10-23</td>\n",
       "      <td>None</td>\n",
       "      <td>None</td>\n",
       "    </tr>\n",
       "    <tr>\n",
       "      <th>0xd2d9b20d9847a7c96c93c385c8d6e85164700470</th>\n",
       "      <td>1</td>\n",
       "      <td>1</td>\n",
       "      <td>158</td>\n",
       "      <td>2797.19979</td>\n",
       "      <td>352</td>\n",
       "      <td>73</td>\n",
       "      <td>738920</td>\n",
       "      <td>2024-09-28</td>\n",
       "      <td>None</td>\n",
       "      <td>None</td>\n",
       "    </tr>\n",
       "    <tr>\n",
       "      <th>0xd8d6af5e32c7cc39faebfc041063fee4674ba56f</th>\n",
       "      <td>1</td>\n",
       "      <td>1</td>\n",
       "      <td>5</td>\n",
       "      <td>2.73583</td>\n",
       "      <td>5</td>\n",
       "      <td>5</td>\n",
       "      <td>738911</td>\n",
       "      <td>2024-07-12</td>\n",
       "      <td>None</td>\n",
       "      <td>None</td>\n",
       "    </tr>\n",
       "    <tr>\n",
       "      <th>0xdb2620c92f8e0aef798572ef82dd672040f69635</th>\n",
       "      <td>1</td>\n",
       "      <td>1</td>\n",
       "      <td>19</td>\n",
       "      <td>9.014891</td>\n",
       "      <td>39</td>\n",
       "      <td>12</td>\n",
       "      <td>738945</td>\n",
       "      <td>2024-09-29</td>\n",
       "      <td>None</td>\n",
       "      <td>None</td>\n",
       "    </tr>\n",
       "    <tr>\n",
       "      <th>0xdbfb6cca29838ea27ab39b58c968d06c5662829f</th>\n",
       "      <td>1</td>\n",
       "      <td>1</td>\n",
       "      <td>7</td>\n",
       "      <td>6.004219</td>\n",
       "      <td>7</td>\n",
       "      <td>7</td>\n",
       "      <td>738910</td>\n",
       "      <td>2024-11-05</td>\n",
       "      <td>None</td>\n",
       "      <td>None</td>\n",
       "    </tr>\n",
       "    <tr>\n",
       "      <th>0xdcbc43d71674b261b3d0ee76a5dcbfd26e921552</th>\n",
       "      <td>1</td>\n",
       "      <td>1</td>\n",
       "      <td>4</td>\n",
       "      <td>5.664216</td>\n",
       "      <td>4</td>\n",
       "      <td>4</td>\n",
       "      <td>738903</td>\n",
       "      <td>2024-11-18</td>\n",
       "      <td>None</td>\n",
       "      <td>None</td>\n",
       "    </tr>\n",
       "    <tr>\n",
       "      <th>0xe1be43ed60226b11ab1287d074d7b72b56e33367</th>\n",
       "      <td>1</td>\n",
       "      <td>1</td>\n",
       "      <td>5</td>\n",
       "      <td>0.985278</td>\n",
       "      <td>5</td>\n",
       "      <td>5</td>\n",
       "      <td>738903</td>\n",
       "      <td>2024-07-13</td>\n",
       "      <td>None</td>\n",
       "      <td>None</td>\n",
       "    </tr>\n",
       "    <tr>\n",
       "      <th>0xed5359a1b3afd86ef23dcc1ddb78c3d990b16edf</th>\n",
       "      <td>1</td>\n",
       "      <td>1</td>\n",
       "      <td>16</td>\n",
       "      <td>5.497195</td>\n",
       "      <td>16</td>\n",
       "      <td>14</td>\n",
       "      <td>738911</td>\n",
       "      <td>2024-07-11</td>\n",
       "      <td>None</td>\n",
       "      <td>None</td>\n",
       "    </tr>\n",
       "    <tr>\n",
       "      <th>0xf9ec10e88b14702a98d7b578c3589100ba777d77</th>\n",
       "      <td>1</td>\n",
       "      <td>1</td>\n",
       "      <td>4</td>\n",
       "      <td>4.267318</td>\n",
       "      <td>4</td>\n",
       "      <td>4</td>\n",
       "      <td>738904</td>\n",
       "      <td>2024-10-23</td>\n",
       "      <td>None</td>\n",
       "      <td>None</td>\n",
       "    </tr>\n",
       "    <tr>\n",
       "      <th>0xfba398e4e02b89f8dc91ada406266d2e9ff31744</th>\n",
       "      <td>1</td>\n",
       "      <td>1</td>\n",
       "      <td>5</td>\n",
       "      <td>1.708358</td>\n",
       "      <td>5</td>\n",
       "      <td>5</td>\n",
       "      <td>738903</td>\n",
       "      <td>2024-07-14</td>\n",
       "      <td>None</td>\n",
       "      <td>None</td>\n",
       "    </tr>\n",
       "  </tbody>\n",
       "</table>\n",
       "</div>"
      ],
      "text/plain": [
       "                                            commu_tx_wallets  commu_tx_count  \\\n",
       "0x06209554bc06b2bb2a12446c0f0c741da532789c                 1               1   \n",
       "0xa18df49ebc121d2bcf756b40f1b97ce8b835830f                48              48   \n",
       "0x09ef42ac46bd91d3039f58ac1c055239c65362c8                 1               1   \n",
       "0x0ba57409d04c154b6bc931ea6cee199e3b12444a                 1               1   \n",
       "0x10befa88586c8a378849dfe932c59939e8548875                 1               1   \n",
       "0x167479c2d37f5bd4259acaef05e9ca7c948e7eff                 1               1   \n",
       "0x36017ca03dc27cf5ecd3545e6cfda790abe64a69                 1               1   \n",
       "0x366d0f389109e84209924b444182d052d8ae03ea                 1               1   \n",
       "0x3c1039f91726c25cb859782b1caa9eafd6bf0e63                 1               1   \n",
       "0x400cd82b8c2565fec580ac0910ed2f1241bcaa97                 1               1   \n",
       "0x4b3483c855d223141cc6f2a1b1dc82e6618f52ef                 1               1   \n",
       "0x4eaf9f30f1d060da85d11624b9696e28528dad8a                 1               1   \n",
       "0x519a784ea1ab15dd2342c02a903dde157feaecbe                 1               1   \n",
       "0x53b4e9be19bf2dbd56cb4a6616b728327d4875e5                 1               1   \n",
       "0x53c0d3811f103200e44f39a0f523046c3116a6dd                 1               1   \n",
       "0x55ffe9070dc748c2efa5885ae40917abe842a811                 1               1   \n",
       "0x5911035a34855c21dbc1fddf544946c360a43495                 1               1   \n",
       "0x60bcd240135e3cf9901585090d1b08ff1f0c45e4                 1               1   \n",
       "0x63666dc480b18c840d4990a680759730365861ab                 1               1   \n",
       "0x6662b8dc2713dc077a9536f01abcac1e065efa19                 1               1   \n",
       "0x67161d3afb0ed471b6651aa4899ae62ca4cfd2cf                 1               1   \n",
       "0x6b6612149a94e04c0d90bc5699ea91e1f862db2f                 1               1   \n",
       "0x6d03833ed2d9d06dcd27c3b9ca19b84cca97bf37                 1               1   \n",
       "0x783b1cdc98070f7a694feb153f8d880a1f746809                 1               1   \n",
       "0x7899c25752fbe44d7d62238137194fc0477a6114                 1               1   \n",
       "0x7905fac8c765fe3df6c3ff4a4da70521150466b4                 1               1   \n",
       "0x7d99529cc4f7fd723c16a956f687cf83a6815532                 1               1   \n",
       "0x8ba8aa2e7589b8f89c212ea03fea86219b1e3558                 1               1   \n",
       "0x9c180ea0636010aa85d97b23381f5a7401054b21                 1               1   \n",
       "0xa391ca914b514bcdbe29c3ba54aba34870fe1bd5                 1               1   \n",
       "0xa79b0ec9d6e76f7bd1341a174f02e0cf57f8b553                 1               1   \n",
       "0xa900b524a72c9ec986cee19a69fc32f6fb4d44b6                 1               1   \n",
       "0xb412778910bf0d66254219dbc64fd4a8797ca280                 1               1   \n",
       "0xb4dacc1c9a7962992b6fcc232c38f1ef3aeb0bb8                 1               1   \n",
       "0xb5c1cffe7e6bc981f85aea828392dea7ef042770                 1               1   \n",
       "0xba821f0a67a75ce65f215cd16a655b0e2c00aa34                 1               1   \n",
       "0xbd4110ecb0372163ffcfcfb3345b579e707c6bdb                 1               1   \n",
       "0xc1bef26ba79174e03d82433384608dc3be04e585                 1               1   \n",
       "0xcc92c8c7c2dbc43fb0d833a62aa2cac44328e08d                 1               1   \n",
       "0xd18df0005392a67da8419b5d301719f42b26df0d                 1               1   \n",
       "0xd2d9b20d9847a7c96c93c385c8d6e85164700470                 1               1   \n",
       "0xd8d6af5e32c7cc39faebfc041063fee4674ba56f                 1               1   \n",
       "0xdb2620c92f8e0aef798572ef82dd672040f69635                 1               1   \n",
       "0xdbfb6cca29838ea27ab39b58c968d06c5662829f                 1               1   \n",
       "0xdcbc43d71674b261b3d0ee76a5dcbfd26e921552                 1               1   \n",
       "0xe1be43ed60226b11ab1287d074d7b72b56e33367                 1               1   \n",
       "0xed5359a1b3afd86ef23dcc1ddb78c3d990b16edf                 1               1   \n",
       "0xf9ec10e88b14702a98d7b578c3589100ba777d77                 1               1   \n",
       "0xfba398e4e02b89f8dc91ada406266d2e9ff31744                 1               1   \n",
       "\n",
       "                                           active_days total_gas_fee_in_usd  \\\n",
       "0x06209554bc06b2bb2a12446c0f0c741da532789c         247            85.908282   \n",
       "0xa18df49ebc121d2bcf756b40f1b97ce8b835830f        7437             9.210677   \n",
       "0x09ef42ac46bd91d3039f58ac1c055239c65362c8           5             2.535241   \n",
       "0x0ba57409d04c154b6bc931ea6cee199e3b12444a           4              1.12019   \n",
       "0x10befa88586c8a378849dfe932c59939e8548875           5             1.790626   \n",
       "0x167479c2d37f5bd4259acaef05e9ca7c948e7eff          20             3.812898   \n",
       "0x36017ca03dc27cf5ecd3545e6cfda790abe64a69           2              0.00559   \n",
       "0x366d0f389109e84209924b444182d052d8ae03ea           4             3.068084   \n",
       "0x3c1039f91726c25cb859782b1caa9eafd6bf0e63          94           418.761305   \n",
       "0x400cd82b8c2565fec580ac0910ed2f1241bcaa97           1             0.000593   \n",
       "0x4b3483c855d223141cc6f2a1b1dc82e6618f52ef           3             5.202646   \n",
       "0x4eaf9f30f1d060da85d11624b9696e28528dad8a          19             6.563024   \n",
       "0x519a784ea1ab15dd2342c02a903dde157feaecbe           5             5.809362   \n",
       "0x53b4e9be19bf2dbd56cb4a6616b728327d4875e5           3             4.406218   \n",
       "0x53c0d3811f103200e44f39a0f523046c3116a6dd           3             0.003929   \n",
       "0x55ffe9070dc748c2efa5885ae40917abe842a811          19             4.569361   \n",
       "0x5911035a34855c21dbc1fddf544946c360a43495         417            17.926255   \n",
       "0x60bcd240135e3cf9901585090d1b08ff1f0c45e4           3             0.416893   \n",
       "0x63666dc480b18c840d4990a680759730365861ab          18            36.529152   \n",
       "0x6662b8dc2713dc077a9536f01abcac1e065efa19          22            42.190838   \n",
       "0x67161d3afb0ed471b6651aa4899ae62ca4cfd2cf           1             0.001011   \n",
       "0x6b6612149a94e04c0d90bc5699ea91e1f862db2f          26            52.317356   \n",
       "0x6d03833ed2d9d06dcd27c3b9ca19b84cca97bf37         102           366.278991   \n",
       "0x783b1cdc98070f7a694feb153f8d880a1f746809          19            10.710626   \n",
       "0x7899c25752fbe44d7d62238137194fc0477a6114           1             0.001198   \n",
       "0x7905fac8c765fe3df6c3ff4a4da70521150466b4           1             0.000652   \n",
       "0x7d99529cc4f7fd723c16a956f687cf83a6815532           3             6.059665   \n",
       "0x8ba8aa2e7589b8f89c212ea03fea86219b1e3558           1             0.000612   \n",
       "0x9c180ea0636010aa85d97b23381f5a7401054b21           2             0.002713   \n",
       "0xa391ca914b514bcdbe29c3ba54aba34870fe1bd5          42            12.816585   \n",
       "0xa79b0ec9d6e76f7bd1341a174f02e0cf57f8b553           2             0.529174   \n",
       "0xa900b524a72c9ec986cee19a69fc32f6fb4d44b6           7             0.903985   \n",
       "0xb412778910bf0d66254219dbc64fd4a8797ca280           3             2.099075   \n",
       "0xb4dacc1c9a7962992b6fcc232c38f1ef3aeb0bb8           5             2.531118   \n",
       "0xb5c1cffe7e6bc981f85aea828392dea7ef042770           1              0.00147   \n",
       "0xba821f0a67a75ce65f215cd16a655b0e2c00aa34           3              5.32619   \n",
       "0xbd4110ecb0372163ffcfcfb3345b579e707c6bdb           5             2.064426   \n",
       "0xc1bef26ba79174e03d82433384608dc3be04e585           1             0.000485   \n",
       "0xcc92c8c7c2dbc43fb0d833a62aa2cac44328e08d           5             3.464939   \n",
       "0xd18df0005392a67da8419b5d301719f42b26df0d           4             3.236002   \n",
       "0xd2d9b20d9847a7c96c93c385c8d6e85164700470         158           2797.19979   \n",
       "0xd8d6af5e32c7cc39faebfc041063fee4674ba56f           5              2.73583   \n",
       "0xdb2620c92f8e0aef798572ef82dd672040f69635          19             9.014891   \n",
       "0xdbfb6cca29838ea27ab39b58c968d06c5662829f           7             6.004219   \n",
       "0xdcbc43d71674b261b3d0ee76a5dcbfd26e921552           4             5.664216   \n",
       "0xe1be43ed60226b11ab1287d074d7b72b56e33367           5             0.985278   \n",
       "0xed5359a1b3afd86ef23dcc1ddb78c3d990b16edf          16             5.497195   \n",
       "0xf9ec10e88b14702a98d7b578c3589100ba777d77           4             4.267318   \n",
       "0xfba398e4e02b89f8dc91ada406266d2e9ff31744           5             1.708358   \n",
       "\n",
       "                                           txn_count wallets_interacted  \\\n",
       "0x06209554bc06b2bb2a12446c0f0c741da532789c       265                 52   \n",
       "0xa18df49ebc121d2bcf756b40f1b97ce8b835830f      7437               7436   \n",
       "0x09ef42ac46bd91d3039f58ac1c055239c65362c8         5                  5   \n",
       "0x0ba57409d04c154b6bc931ea6cee199e3b12444a         4                  4   \n",
       "0x10befa88586c8a378849dfe932c59939e8548875         5                  5   \n",
       "0x167479c2d37f5bd4259acaef05e9ca7c948e7eff        26                 16   \n",
       "0x36017ca03dc27cf5ecd3545e6cfda790abe64a69         2                  2   \n",
       "0x366d0f389109e84209924b444182d052d8ae03ea         4                  4   \n",
       "0x3c1039f91726c25cb859782b1caa9eafd6bf0e63       134                 64   \n",
       "0x400cd82b8c2565fec580ac0910ed2f1241bcaa97         1                  1   \n",
       "0x4b3483c855d223141cc6f2a1b1dc82e6618f52ef         3                  3   \n",
       "0x4eaf9f30f1d060da85d11624b9696e28528dad8a        19                 17   \n",
       "0x519a784ea1ab15dd2342c02a903dde157feaecbe         5                  5   \n",
       "0x53b4e9be19bf2dbd56cb4a6616b728327d4875e5         3                  3   \n",
       "0x53c0d3811f103200e44f39a0f523046c3116a6dd         3                  3   \n",
       "0x55ffe9070dc748c2efa5885ae40917abe842a811        24                 15   \n",
       "0x5911035a34855c21dbc1fddf544946c360a43495       820                 67   \n",
       "0x60bcd240135e3cf9901585090d1b08ff1f0c45e4         3                  3   \n",
       "0x63666dc480b18c840d4990a680759730365861ab        19                 14   \n",
       "0x6662b8dc2713dc077a9536f01abcac1e065efa19        23                 18   \n",
       "0x67161d3afb0ed471b6651aa4899ae62ca4cfd2cf         1                  1   \n",
       "0x6b6612149a94e04c0d90bc5699ea91e1f862db2f        27                 21   \n",
       "0x6d03833ed2d9d06dcd27c3b9ca19b84cca97bf37       128                 58   \n",
       "0x783b1cdc98070f7a694feb153f8d880a1f746809        20                 17   \n",
       "0x7899c25752fbe44d7d62238137194fc0477a6114         1                  1   \n",
       "0x7905fac8c765fe3df6c3ff4a4da70521150466b4         1                  1   \n",
       "0x7d99529cc4f7fd723c16a956f687cf83a6815532         3                  3   \n",
       "0x8ba8aa2e7589b8f89c212ea03fea86219b1e3558         1                  1   \n",
       "0x9c180ea0636010aa85d97b23381f5a7401054b21         2                  2   \n",
       "0xa391ca914b514bcdbe29c3ba54aba34870fe1bd5        48                 28   \n",
       "0xa79b0ec9d6e76f7bd1341a174f02e0cf57f8b553         2                  2   \n",
       "0xa900b524a72c9ec986cee19a69fc32f6fb4d44b6         7                  7   \n",
       "0xb412778910bf0d66254219dbc64fd4a8797ca280         3                  3   \n",
       "0xb4dacc1c9a7962992b6fcc232c38f1ef3aeb0bb8         5                  5   \n",
       "0xb5c1cffe7e6bc981f85aea828392dea7ef042770         1                  1   \n",
       "0xba821f0a67a75ce65f215cd16a655b0e2c00aa34         3                  3   \n",
       "0xbd4110ecb0372163ffcfcfb3345b579e707c6bdb         6                  5   \n",
       "0xc1bef26ba79174e03d82433384608dc3be04e585         1                  1   \n",
       "0xcc92c8c7c2dbc43fb0d833a62aa2cac44328e08d         5                  5   \n",
       "0xd18df0005392a67da8419b5d301719f42b26df0d         4                  4   \n",
       "0xd2d9b20d9847a7c96c93c385c8d6e85164700470       352                 73   \n",
       "0xd8d6af5e32c7cc39faebfc041063fee4674ba56f         5                  5   \n",
       "0xdb2620c92f8e0aef798572ef82dd672040f69635        39                 12   \n",
       "0xdbfb6cca29838ea27ab39b58c968d06c5662829f         7                  7   \n",
       "0xdcbc43d71674b261b3d0ee76a5dcbfd26e921552         4                  4   \n",
       "0xe1be43ed60226b11ab1287d074d7b72b56e33367         5                  5   \n",
       "0xed5359a1b3afd86ef23dcc1ddb78c3d990b16edf        16                 14   \n",
       "0xf9ec10e88b14702a98d7b578c3589100ba777d77         4                  4   \n",
       "0xfba398e4e02b89f8dc91ada406266d2e9ff31744         5                  5   \n",
       "\n",
       "                                           last_txn_date_int last_txn_date  \\\n",
       "0x06209554bc06b2bb2a12446c0f0c741da532789c            739225    2024-12-05   \n",
       "0xa18df49ebc121d2bcf756b40f1b97ce8b835830f            739093    2024-07-26   \n",
       "0x09ef42ac46bd91d3039f58ac1c055239c65362c8            738910    2024-07-12   \n",
       "0x0ba57409d04c154b6bc931ea6cee199e3b12444a            738904    2024-07-13   \n",
       "0x10befa88586c8a378849dfe932c59939e8548875            738910    2024-07-12   \n",
       "0x167479c2d37f5bd4259acaef05e9ca7c948e7eff            738931    2024-09-14   \n",
       "0x36017ca03dc27cf5ecd3545e6cfda790abe64a69            738904    2024-01-19   \n",
       "0x366d0f389109e84209924b444182d052d8ae03ea            738904    2024-10-30   \n",
       "0x3c1039f91726c25cb859782b1caa9eafd6bf0e63            739000    2024-12-12   \n",
       "0x400cd82b8c2565fec580ac0910ed2f1241bcaa97            738904    2024-01-19   \n",
       "0x4b3483c855d223141cc6f2a1b1dc82e6618f52ef            738903    2024-11-18   \n",
       "0x4eaf9f30f1d060da85d11624b9696e28528dad8a            738944    2024-07-11   \n",
       "0x519a784ea1ab15dd2342c02a903dde157feaecbe            738909    2024-07-11   \n",
       "0x53b4e9be19bf2dbd56cb4a6616b728327d4875e5            738904    2024-10-23   \n",
       "0x53c0d3811f103200e44f39a0f523046c3116a6dd            738941    2024-02-25   \n",
       "0x55ffe9070dc748c2efa5885ae40917abe842a811            738930    2024-10-21   \n",
       "0x5911035a34855c21dbc1fddf544946c360a43495            739232    2024-12-12   \n",
       "0x60bcd240135e3cf9901585090d1b08ff1f0c45e4            738904    2024-08-31   \n",
       "0x63666dc480b18c840d4990a680759730365861ab            738904    2024-11-24   \n",
       "0x6662b8dc2713dc077a9536f01abcac1e065efa19            738911    2024-07-17   \n",
       "0x67161d3afb0ed471b6651aa4899ae62ca4cfd2cf            738903    2024-01-18   \n",
       "0x6b6612149a94e04c0d90bc5699ea91e1f862db2f            738930    2024-11-12   \n",
       "0x6d03833ed2d9d06dcd27c3b9ca19b84cca97bf37            739026    2024-12-03   \n",
       "0x783b1cdc98070f7a694feb153f8d880a1f746809            738941    2024-07-11   \n",
       "0x7899c25752fbe44d7d62238137194fc0477a6114            738903    2024-01-18   \n",
       "0x7905fac8c765fe3df6c3ff4a4da70521150466b4            738905    2024-01-20   \n",
       "0x7d99529cc4f7fd723c16a956f687cf83a6815532            738903    2024-11-29   \n",
       "0x8ba8aa2e7589b8f89c212ea03fea86219b1e3558            738905    2024-01-20   \n",
       "0x9c180ea0636010aa85d97b23381f5a7401054b21            739061    2024-06-24   \n",
       "0xa391ca914b514bcdbe29c3ba54aba34870fe1bd5            739012    2024-11-02   \n",
       "0xa79b0ec9d6e76f7bd1341a174f02e0cf57f8b553            738904    2024-07-11   \n",
       "0xa900b524a72c9ec986cee19a69fc32f6fb4d44b6            738903    2024-07-26   \n",
       "0xb412778910bf0d66254219dbc64fd4a8797ca280            738904    2024-09-16   \n",
       "0xb4dacc1c9a7962992b6fcc232c38f1ef3aeb0bb8            738909    2024-07-11   \n",
       "0xb5c1cffe7e6bc981f85aea828392dea7ef042770            738903    2024-01-18   \n",
       "0xba821f0a67a75ce65f215cd16a655b0e2c00aa34            738904    2024-11-21   \n",
       "0xbd4110ecb0372163ffcfcfb3345b579e707c6bdb            738910    2024-07-12   \n",
       "0xc1bef26ba79174e03d82433384608dc3be04e585            738908    2024-01-23   \n",
       "0xcc92c8c7c2dbc43fb0d833a62aa2cac44328e08d            738903    2024-07-11   \n",
       "0xd18df0005392a67da8419b5d301719f42b26df0d            738904    2024-10-23   \n",
       "0xd2d9b20d9847a7c96c93c385c8d6e85164700470            738920    2024-09-28   \n",
       "0xd8d6af5e32c7cc39faebfc041063fee4674ba56f            738911    2024-07-12   \n",
       "0xdb2620c92f8e0aef798572ef82dd672040f69635            738945    2024-09-29   \n",
       "0xdbfb6cca29838ea27ab39b58c968d06c5662829f            738910    2024-11-05   \n",
       "0xdcbc43d71674b261b3d0ee76a5dcbfd26e921552            738903    2024-11-18   \n",
       "0xe1be43ed60226b11ab1287d074d7b72b56e33367            738903    2024-07-13   \n",
       "0xed5359a1b3afd86ef23dcc1ddb78c3d990b16edf            738911    2024-07-11   \n",
       "0xf9ec10e88b14702a98d7b578c3589100ba777d77            738904    2024-10-23   \n",
       "0xfba398e4e02b89f8dc91ada406266d2e9ff31744            738903    2024-07-14   \n",
       "\n",
       "                                           start_date end_date  \n",
       "0x06209554bc06b2bb2a12446c0f0c741da532789c       None     None  \n",
       "0xa18df49ebc121d2bcf756b40f1b97ce8b835830f       None     None  \n",
       "0x09ef42ac46bd91d3039f58ac1c055239c65362c8       None     None  \n",
       "0x0ba57409d04c154b6bc931ea6cee199e3b12444a       None     None  \n",
       "0x10befa88586c8a378849dfe932c59939e8548875       None     None  \n",
       "0x167479c2d37f5bd4259acaef05e9ca7c948e7eff       None     None  \n",
       "0x36017ca03dc27cf5ecd3545e6cfda790abe64a69       None     None  \n",
       "0x366d0f389109e84209924b444182d052d8ae03ea       None     None  \n",
       "0x3c1039f91726c25cb859782b1caa9eafd6bf0e63       None     None  \n",
       "0x400cd82b8c2565fec580ac0910ed2f1241bcaa97       None     None  \n",
       "0x4b3483c855d223141cc6f2a1b1dc82e6618f52ef       None     None  \n",
       "0x4eaf9f30f1d060da85d11624b9696e28528dad8a       None     None  \n",
       "0x519a784ea1ab15dd2342c02a903dde157feaecbe       None     None  \n",
       "0x53b4e9be19bf2dbd56cb4a6616b728327d4875e5       None     None  \n",
       "0x53c0d3811f103200e44f39a0f523046c3116a6dd       None     None  \n",
       "0x55ffe9070dc748c2efa5885ae40917abe842a811       None     None  \n",
       "0x5911035a34855c21dbc1fddf544946c360a43495       None     None  \n",
       "0x60bcd240135e3cf9901585090d1b08ff1f0c45e4       None     None  \n",
       "0x63666dc480b18c840d4990a680759730365861ab       None     None  \n",
       "0x6662b8dc2713dc077a9536f01abcac1e065efa19       None     None  \n",
       "0x67161d3afb0ed471b6651aa4899ae62ca4cfd2cf       None     None  \n",
       "0x6b6612149a94e04c0d90bc5699ea91e1f862db2f       None     None  \n",
       "0x6d03833ed2d9d06dcd27c3b9ca19b84cca97bf37       None     None  \n",
       "0x783b1cdc98070f7a694feb153f8d880a1f746809       None     None  \n",
       "0x7899c25752fbe44d7d62238137194fc0477a6114       None     None  \n",
       "0x7905fac8c765fe3df6c3ff4a4da70521150466b4       None     None  \n",
       "0x7d99529cc4f7fd723c16a956f687cf83a6815532       None     None  \n",
       "0x8ba8aa2e7589b8f89c212ea03fea86219b1e3558       None     None  \n",
       "0x9c180ea0636010aa85d97b23381f5a7401054b21       None     None  \n",
       "0xa391ca914b514bcdbe29c3ba54aba34870fe1bd5       None     None  \n",
       "0xa79b0ec9d6e76f7bd1341a174f02e0cf57f8b553       None     None  \n",
       "0xa900b524a72c9ec986cee19a69fc32f6fb4d44b6       None     None  \n",
       "0xb412778910bf0d66254219dbc64fd4a8797ca280       None     None  \n",
       "0xb4dacc1c9a7962992b6fcc232c38f1ef3aeb0bb8       None     None  \n",
       "0xb5c1cffe7e6bc981f85aea828392dea7ef042770       None     None  \n",
       "0xba821f0a67a75ce65f215cd16a655b0e2c00aa34       None     None  \n",
       "0xbd4110ecb0372163ffcfcfb3345b579e707c6bdb       None     None  \n",
       "0xc1bef26ba79174e03d82433384608dc3be04e585       None     None  \n",
       "0xcc92c8c7c2dbc43fb0d833a62aa2cac44328e08d       None     None  \n",
       "0xd18df0005392a67da8419b5d301719f42b26df0d       None     None  \n",
       "0xd2d9b20d9847a7c96c93c385c8d6e85164700470       None     None  \n",
       "0xd8d6af5e32c7cc39faebfc041063fee4674ba56f       None     None  \n",
       "0xdb2620c92f8e0aef798572ef82dd672040f69635       None     None  \n",
       "0xdbfb6cca29838ea27ab39b58c968d06c5662829f       None     None  \n",
       "0xdcbc43d71674b261b3d0ee76a5dcbfd26e921552       None     None  \n",
       "0xe1be43ed60226b11ab1287d074d7b72b56e33367       None     None  \n",
       "0xed5359a1b3afd86ef23dcc1ddb78c3d990b16edf       None     None  \n",
       "0xf9ec10e88b14702a98d7b578c3589100ba777d77       None     None  \n",
       "0xfba398e4e02b89f8dc91ada406266d2e9ff31744       None     None  "
      ]
     },
     "execution_count": 60,
     "metadata": {},
     "output_type": "execute_result"
    }
   ],
   "source": [
    "test_df = clustering_info(plot_community_lst, None, None, existing_data_df, write_to_path=existing_file_path)\n",
    "test_df"
   ]
  },
  {
   "cell_type": "code",
   "execution_count": 64,
   "metadata": {},
   "outputs": [
    {
     "data": {
      "text/html": [
       "<div>\n",
       "<style scoped>\n",
       "    .dataframe tbody tr th:only-of-type {\n",
       "        vertical-align: middle;\n",
       "    }\n",
       "\n",
       "    .dataframe tbody tr th {\n",
       "        vertical-align: top;\n",
       "    }\n",
       "\n",
       "    .dataframe thead th {\n",
       "        text-align: right;\n",
       "    }\n",
       "</style>\n",
       "<table border=\"1\" class=\"dataframe\">\n",
       "  <thead>\n",
       "    <tr style=\"text-align: right;\">\n",
       "      <th></th>\n",
       "      <th>community</th>\n",
       "      <th>type</th>\n",
       "    </tr>\n",
       "  </thead>\n",
       "  <tbody>\n",
       "    <tr>\n",
       "      <th>0x031c605262ec85aec6f793a5dd13bf21b6464af8</th>\n",
       "      <td>0</td>\n",
       "      <td>normal</td>\n",
       "    </tr>\n",
       "    <tr>\n",
       "      <th>0xb5a260659533ed9fe659b8c4254e4ff37047eadd</th>\n",
       "      <td>0</td>\n",
       "      <td>normal</td>\n",
       "    </tr>\n",
       "    <tr>\n",
       "      <th>0x04531b9d88da0eb58bb379637d4a914bdc122fdf</th>\n",
       "      <td>0</td>\n",
       "      <td>normal</td>\n",
       "    </tr>\n",
       "    <tr>\n",
       "      <th>0x0886b7d1549b70144eee26f05cf937259a3002d7</th>\n",
       "      <td>0</td>\n",
       "      <td>normal</td>\n",
       "    </tr>\n",
       "    <tr>\n",
       "      <th>0x112bcd74c8664cedbc0357f0021dfd485c891393</th>\n",
       "      <td>0</td>\n",
       "      <td>normal</td>\n",
       "    </tr>\n",
       "    <tr>\n",
       "      <th>...</th>\n",
       "      <td>...</td>\n",
       "      <td>...</td>\n",
       "    </tr>\n",
       "    <tr>\n",
       "      <th>0xfd6c69023c610350d6135b190ffb15b04a7aa9f2</th>\n",
       "      <td>7098</td>\n",
       "      <td>normal</td>\n",
       "    </tr>\n",
       "    <tr>\n",
       "      <th>0xfe603af99a456eff9a34cd9b29e5a5db9ffd4927</th>\n",
       "      <td>7099</td>\n",
       "      <td>normal</td>\n",
       "    </tr>\n",
       "    <tr>\n",
       "      <th>0xfe8da89113f28f65d71ee7b79de3b65704784529</th>\n",
       "      <td>7100</td>\n",
       "      <td>normal</td>\n",
       "    </tr>\n",
       "    <tr>\n",
       "      <th>0xff60fa1389cafb68b0537d69c981f5c4409977e7</th>\n",
       "      <td>7101</td>\n",
       "      <td>normal</td>\n",
       "    </tr>\n",
       "    <tr>\n",
       "      <th>0xff77e7c66386fb41e3bc18db814a459f0fece9b9</th>\n",
       "      <td>7102</td>\n",
       "      <td>normal</td>\n",
       "    </tr>\n",
       "  </tbody>\n",
       "</table>\n",
       "<p>25198 rows × 2 columns</p>\n",
       "</div>"
      ],
      "text/plain": [
       "                                            community    type\n",
       "0x031c605262ec85aec6f793a5dd13bf21b6464af8          0  normal\n",
       "0xb5a260659533ed9fe659b8c4254e4ff37047eadd          0  normal\n",
       "0x04531b9d88da0eb58bb379637d4a914bdc122fdf          0  normal\n",
       "0x0886b7d1549b70144eee26f05cf937259a3002d7          0  normal\n",
       "0x112bcd74c8664cedbc0357f0021dfd485c891393          0  normal\n",
       "...                                               ...     ...\n",
       "0xfd6c69023c610350d6135b190ffb15b04a7aa9f2       7098  normal\n",
       "0xfe603af99a456eff9a34cd9b29e5a5db9ffd4927       7099  normal\n",
       "0xfe8da89113f28f65d71ee7b79de3b65704784529       7100  normal\n",
       "0xff60fa1389cafb68b0537d69c981f5c4409977e7       7101  normal\n",
       "0xff77e7c66386fb41e3bc18db814a459f0fece9b9       7102  normal\n",
       "\n",
       "[25198 rows x 2 columns]"
      ]
     },
     "execution_count": 64,
     "metadata": {},
     "output_type": "execute_result"
    }
   ],
   "source": [
    "louvain_community_df"
   ]
  },
  {
   "cell_type": "code",
   "execution_count": 62,
   "metadata": {},
   "outputs": [
    {
     "name": "stdout",
     "output_type": "stream",
     "text": [
      "49\n"
     ]
    },
    {
     "data": {
      "text/html": [
       "<div>\n",
       "<style scoped>\n",
       "    .dataframe tbody tr th:only-of-type {\n",
       "        vertical-align: middle;\n",
       "    }\n",
       "\n",
       "    .dataframe tbody tr th {\n",
       "        vertical-align: top;\n",
       "    }\n",
       "\n",
       "    .dataframe thead th {\n",
       "        text-align: right;\n",
       "    }\n",
       "</style>\n",
       "<table border=\"1\" class=\"dataframe\">\n",
       "  <thead>\n",
       "    <tr style=\"text-align: right;\">\n",
       "      <th></th>\n",
       "      <th>commu_tx_wallets</th>\n",
       "      <th>commu_tx_count</th>\n",
       "      <th>active_days</th>\n",
       "      <th>total_gas_fee_in_usd</th>\n",
       "      <th>txn_count</th>\n",
       "      <th>wallets_interacted</th>\n",
       "      <th>last_txn_date_int</th>\n",
       "      <th>last_txn_date</th>\n",
       "      <th>start_date</th>\n",
       "      <th>end_date</th>\n",
       "      <th>isolation_forest</th>\n",
       "      <th>optics</th>\n",
       "      <th>type</th>\n",
       "    </tr>\n",
       "  </thead>\n",
       "  <tbody>\n",
       "    <tr>\n",
       "      <th>0x06209554bc06b2bb2a12446c0f0c741da532789c</th>\n",
       "      <td>1</td>\n",
       "      <td>1</td>\n",
       "      <td>247</td>\n",
       "      <td>85.908282</td>\n",
       "      <td>265</td>\n",
       "      <td>52</td>\n",
       "      <td>739225</td>\n",
       "      <td>2024-12-05</td>\n",
       "      <td>None</td>\n",
       "      <td>None</td>\n",
       "      <td>1</td>\n",
       "      <td>-1.0</td>\n",
       "      <td>normal</td>\n",
       "    </tr>\n",
       "    <tr>\n",
       "      <th>0x6d03833ed2d9d06dcd27c3b9ca19b84cca97bf37</th>\n",
       "      <td>1</td>\n",
       "      <td>1</td>\n",
       "      <td>102</td>\n",
       "      <td>366.278991</td>\n",
       "      <td>128</td>\n",
       "      <td>58</td>\n",
       "      <td>739026</td>\n",
       "      <td>2024-12-03</td>\n",
       "      <td>None</td>\n",
       "      <td>None</td>\n",
       "      <td>1</td>\n",
       "      <td>-1.0</td>\n",
       "      <td>normal</td>\n",
       "    </tr>\n",
       "    <tr>\n",
       "      <th>0x6b6612149a94e04c0d90bc5699ea91e1f862db2f</th>\n",
       "      <td>1</td>\n",
       "      <td>1</td>\n",
       "      <td>26</td>\n",
       "      <td>52.317356</td>\n",
       "      <td>27</td>\n",
       "      <td>21</td>\n",
       "      <td>738930</td>\n",
       "      <td>2024-11-12</td>\n",
       "      <td>None</td>\n",
       "      <td>None</td>\n",
       "      <td>1</td>\n",
       "      <td>-1.0</td>\n",
       "      <td>normal</td>\n",
       "    </tr>\n",
       "    <tr>\n",
       "      <th>0xd2d9b20d9847a7c96c93c385c8d6e85164700470</th>\n",
       "      <td>1</td>\n",
       "      <td>1</td>\n",
       "      <td>158</td>\n",
       "      <td>2797.19979</td>\n",
       "      <td>352</td>\n",
       "      <td>73</td>\n",
       "      <td>738920</td>\n",
       "      <td>2024-09-28</td>\n",
       "      <td>None</td>\n",
       "      <td>None</td>\n",
       "      <td>1</td>\n",
       "      <td>-1.0</td>\n",
       "      <td>normal</td>\n",
       "    </tr>\n",
       "    <tr>\n",
       "      <th>0x8ba8aa2e7589b8f89c212ea03fea86219b1e3558</th>\n",
       "      <td>1</td>\n",
       "      <td>1</td>\n",
       "      <td>1</td>\n",
       "      <td>0.000612</td>\n",
       "      <td>1</td>\n",
       "      <td>1</td>\n",
       "      <td>738905</td>\n",
       "      <td>2024-01-20</td>\n",
       "      <td>None</td>\n",
       "      <td>None</td>\n",
       "      <td>1</td>\n",
       "      <td>-1.0</td>\n",
       "      <td>normal</td>\n",
       "    </tr>\n",
       "    <tr>\n",
       "      <th>0x5911035a34855c21dbc1fddf544946c360a43495</th>\n",
       "      <td>1</td>\n",
       "      <td>1</td>\n",
       "      <td>417</td>\n",
       "      <td>17.926255</td>\n",
       "      <td>820</td>\n",
       "      <td>67</td>\n",
       "      <td>739232</td>\n",
       "      <td>2024-12-12</td>\n",
       "      <td>None</td>\n",
       "      <td>None</td>\n",
       "      <td>1</td>\n",
       "      <td>-1.0</td>\n",
       "      <td>normal</td>\n",
       "    </tr>\n",
       "    <tr>\n",
       "      <th>0x53c0d3811f103200e44f39a0f523046c3116a6dd</th>\n",
       "      <td>1</td>\n",
       "      <td>1</td>\n",
       "      <td>3</td>\n",
       "      <td>0.003929</td>\n",
       "      <td>3</td>\n",
       "      <td>3</td>\n",
       "      <td>738941</td>\n",
       "      <td>2024-02-25</td>\n",
       "      <td>None</td>\n",
       "      <td>None</td>\n",
       "      <td>1</td>\n",
       "      <td>-1.0</td>\n",
       "      <td>normal</td>\n",
       "    </tr>\n",
       "    <tr>\n",
       "      <th>0xc1bef26ba79174e03d82433384608dc3be04e585</th>\n",
       "      <td>1</td>\n",
       "      <td>1</td>\n",
       "      <td>1</td>\n",
       "      <td>0.000485</td>\n",
       "      <td>1</td>\n",
       "      <td>1</td>\n",
       "      <td>738908</td>\n",
       "      <td>2024-01-23</td>\n",
       "      <td>None</td>\n",
       "      <td>None</td>\n",
       "      <td>1</td>\n",
       "      <td>-1.0</td>\n",
       "      <td>normal</td>\n",
       "    </tr>\n",
       "    <tr>\n",
       "      <th>0x9c180ea0636010aa85d97b23381f5a7401054b21</th>\n",
       "      <td>1</td>\n",
       "      <td>1</td>\n",
       "      <td>2</td>\n",
       "      <td>0.002713</td>\n",
       "      <td>2</td>\n",
       "      <td>2</td>\n",
       "      <td>739061</td>\n",
       "      <td>2024-06-24</td>\n",
       "      <td>None</td>\n",
       "      <td>None</td>\n",
       "      <td>1</td>\n",
       "      <td>-1.0</td>\n",
       "      <td>normal</td>\n",
       "    </tr>\n",
       "    <tr>\n",
       "      <th>0xdb2620c92f8e0aef798572ef82dd672040f69635</th>\n",
       "      <td>1</td>\n",
       "      <td>1</td>\n",
       "      <td>19</td>\n",
       "      <td>9.014891</td>\n",
       "      <td>39</td>\n",
       "      <td>12</td>\n",
       "      <td>738945</td>\n",
       "      <td>2024-09-29</td>\n",
       "      <td>None</td>\n",
       "      <td>None</td>\n",
       "      <td>1</td>\n",
       "      <td>-1.0</td>\n",
       "      <td>normal</td>\n",
       "    </tr>\n",
       "    <tr>\n",
       "      <th>0x400cd82b8c2565fec580ac0910ed2f1241bcaa97</th>\n",
       "      <td>1</td>\n",
       "      <td>1</td>\n",
       "      <td>1</td>\n",
       "      <td>0.000593</td>\n",
       "      <td>1</td>\n",
       "      <td>1</td>\n",
       "      <td>738904</td>\n",
       "      <td>2024-01-19</td>\n",
       "      <td>None</td>\n",
       "      <td>None</td>\n",
       "      <td>1</td>\n",
       "      <td>-1.0</td>\n",
       "      <td>normal</td>\n",
       "    </tr>\n",
       "    <tr>\n",
       "      <th>0x3c1039f91726c25cb859782b1caa9eafd6bf0e63</th>\n",
       "      <td>1</td>\n",
       "      <td>1</td>\n",
       "      <td>94</td>\n",
       "      <td>418.761305</td>\n",
       "      <td>134</td>\n",
       "      <td>64</td>\n",
       "      <td>739000</td>\n",
       "      <td>2024-12-12</td>\n",
       "      <td>None</td>\n",
       "      <td>None</td>\n",
       "      <td>1</td>\n",
       "      <td>-1.0</td>\n",
       "      <td>normal</td>\n",
       "    </tr>\n",
       "    <tr>\n",
       "      <th>0xa391ca914b514bcdbe29c3ba54aba34870fe1bd5</th>\n",
       "      <td>1</td>\n",
       "      <td>1</td>\n",
       "      <td>42</td>\n",
       "      <td>12.816585</td>\n",
       "      <td>48</td>\n",
       "      <td>28</td>\n",
       "      <td>739012</td>\n",
       "      <td>2024-11-02</td>\n",
       "      <td>None</td>\n",
       "      <td>None</td>\n",
       "      <td>1</td>\n",
       "      <td>-1.0</td>\n",
       "      <td>normal</td>\n",
       "    </tr>\n",
       "    <tr>\n",
       "      <th>0x36017ca03dc27cf5ecd3545e6cfda790abe64a69</th>\n",
       "      <td>1</td>\n",
       "      <td>1</td>\n",
       "      <td>2</td>\n",
       "      <td>0.00559</td>\n",
       "      <td>2</td>\n",
       "      <td>2</td>\n",
       "      <td>738904</td>\n",
       "      <td>2024-01-19</td>\n",
       "      <td>None</td>\n",
       "      <td>None</td>\n",
       "      <td>1</td>\n",
       "      <td>-1.0</td>\n",
       "      <td>normal</td>\n",
       "    </tr>\n",
       "    <tr>\n",
       "      <th>0xa79b0ec9d6e76f7bd1341a174f02e0cf57f8b553</th>\n",
       "      <td>1</td>\n",
       "      <td>1</td>\n",
       "      <td>2</td>\n",
       "      <td>0.529174</td>\n",
       "      <td>2</td>\n",
       "      <td>2</td>\n",
       "      <td>738904</td>\n",
       "      <td>2024-07-11</td>\n",
       "      <td>None</td>\n",
       "      <td>None</td>\n",
       "      <td>1</td>\n",
       "      <td>-1.0</td>\n",
       "      <td>normal</td>\n",
       "    </tr>\n",
       "    <tr>\n",
       "      <th>0xa900b524a72c9ec986cee19a69fc32f6fb4d44b6</th>\n",
       "      <td>1</td>\n",
       "      <td>1</td>\n",
       "      <td>7</td>\n",
       "      <td>0.903985</td>\n",
       "      <td>7</td>\n",
       "      <td>7</td>\n",
       "      <td>738903</td>\n",
       "      <td>2024-07-26</td>\n",
       "      <td>None</td>\n",
       "      <td>None</td>\n",
       "      <td>1</td>\n",
       "      <td>-1.0</td>\n",
       "      <td>normal</td>\n",
       "    </tr>\n",
       "    <tr>\n",
       "      <th>0xdbfb6cca29838ea27ab39b58c968d06c5662829f</th>\n",
       "      <td>1</td>\n",
       "      <td>1</td>\n",
       "      <td>7</td>\n",
       "      <td>6.004219</td>\n",
       "      <td>7</td>\n",
       "      <td>7</td>\n",
       "      <td>738910</td>\n",
       "      <td>2024-11-05</td>\n",
       "      <td>None</td>\n",
       "      <td>None</td>\n",
       "      <td>1</td>\n",
       "      <td>-1.0</td>\n",
       "      <td>normal</td>\n",
       "    </tr>\n",
       "    <tr>\n",
       "      <th>0x7905fac8c765fe3df6c3ff4a4da70521150466b4</th>\n",
       "      <td>1</td>\n",
       "      <td>1</td>\n",
       "      <td>1</td>\n",
       "      <td>0.000652</td>\n",
       "      <td>1</td>\n",
       "      <td>1</td>\n",
       "      <td>738905</td>\n",
       "      <td>2024-01-20</td>\n",
       "      <td>None</td>\n",
       "      <td>None</td>\n",
       "      <td>1</td>\n",
       "      <td>-1.0</td>\n",
       "      <td>normal</td>\n",
       "    </tr>\n",
       "    <tr>\n",
       "      <th>0x4eaf9f30f1d060da85d11624b9696e28528dad8a</th>\n",
       "      <td>1</td>\n",
       "      <td>1</td>\n",
       "      <td>19</td>\n",
       "      <td>6.563024</td>\n",
       "      <td>19</td>\n",
       "      <td>17</td>\n",
       "      <td>738944</td>\n",
       "      <td>2024-07-11</td>\n",
       "      <td>None</td>\n",
       "      <td>None</td>\n",
       "      <td>1</td>\n",
       "      <td>0.0</td>\n",
       "      <td>sybil</td>\n",
       "    </tr>\n",
       "    <tr>\n",
       "      <th>0x55ffe9070dc748c2efa5885ae40917abe842a811</th>\n",
       "      <td>1</td>\n",
       "      <td>1</td>\n",
       "      <td>19</td>\n",
       "      <td>4.569361</td>\n",
       "      <td>24</td>\n",
       "      <td>15</td>\n",
       "      <td>738930</td>\n",
       "      <td>2024-10-21</td>\n",
       "      <td>None</td>\n",
       "      <td>None</td>\n",
       "      <td>1</td>\n",
       "      <td>0.0</td>\n",
       "      <td>sybil</td>\n",
       "    </tr>\n",
       "    <tr>\n",
       "      <th>0x167479c2d37f5bd4259acaef05e9ca7c948e7eff</th>\n",
       "      <td>1</td>\n",
       "      <td>1</td>\n",
       "      <td>20</td>\n",
       "      <td>3.812898</td>\n",
       "      <td>26</td>\n",
       "      <td>16</td>\n",
       "      <td>738931</td>\n",
       "      <td>2024-09-14</td>\n",
       "      <td>None</td>\n",
       "      <td>None</td>\n",
       "      <td>1</td>\n",
       "      <td>0.0</td>\n",
       "      <td>sybil</td>\n",
       "    </tr>\n",
       "    <tr>\n",
       "      <th>0x783b1cdc98070f7a694feb153f8d880a1f746809</th>\n",
       "      <td>1</td>\n",
       "      <td>1</td>\n",
       "      <td>19</td>\n",
       "      <td>10.710626</td>\n",
       "      <td>20</td>\n",
       "      <td>17</td>\n",
       "      <td>738941</td>\n",
       "      <td>2024-07-11</td>\n",
       "      <td>None</td>\n",
       "      <td>None</td>\n",
       "      <td>1</td>\n",
       "      <td>0.0</td>\n",
       "      <td>sybil</td>\n",
       "    </tr>\n",
       "    <tr>\n",
       "      <th>0x63666dc480b18c840d4990a680759730365861ab</th>\n",
       "      <td>1</td>\n",
       "      <td>1</td>\n",
       "      <td>18</td>\n",
       "      <td>36.529152</td>\n",
       "      <td>19</td>\n",
       "      <td>14</td>\n",
       "      <td>738904</td>\n",
       "      <td>2024-11-24</td>\n",
       "      <td>None</td>\n",
       "      <td>None</td>\n",
       "      <td>1</td>\n",
       "      <td>1.0</td>\n",
       "      <td>sybil</td>\n",
       "    </tr>\n",
       "    <tr>\n",
       "      <th>0x6662b8dc2713dc077a9536f01abcac1e065efa19</th>\n",
       "      <td>1</td>\n",
       "      <td>1</td>\n",
       "      <td>22</td>\n",
       "      <td>42.190838</td>\n",
       "      <td>23</td>\n",
       "      <td>18</td>\n",
       "      <td>738911</td>\n",
       "      <td>2024-07-17</td>\n",
       "      <td>None</td>\n",
       "      <td>None</td>\n",
       "      <td>1</td>\n",
       "      <td>1.0</td>\n",
       "      <td>sybil</td>\n",
       "    </tr>\n",
       "    <tr>\n",
       "      <th>0xed5359a1b3afd86ef23dcc1ddb78c3d990b16edf</th>\n",
       "      <td>1</td>\n",
       "      <td>1</td>\n",
       "      <td>16</td>\n",
       "      <td>5.497195</td>\n",
       "      <td>16</td>\n",
       "      <td>14</td>\n",
       "      <td>738911</td>\n",
       "      <td>2024-07-11</td>\n",
       "      <td>None</td>\n",
       "      <td>None</td>\n",
       "      <td>1</td>\n",
       "      <td>1.0</td>\n",
       "      <td>sybil</td>\n",
       "    </tr>\n",
       "    <tr>\n",
       "      <th>0xd8d6af5e32c7cc39faebfc041063fee4674ba56f</th>\n",
       "      <td>1</td>\n",
       "      <td>1</td>\n",
       "      <td>5</td>\n",
       "      <td>2.73583</td>\n",
       "      <td>5</td>\n",
       "      <td>5</td>\n",
       "      <td>738911</td>\n",
       "      <td>2024-07-12</td>\n",
       "      <td>None</td>\n",
       "      <td>None</td>\n",
       "      <td>1</td>\n",
       "      <td>2.0</td>\n",
       "      <td>sybil</td>\n",
       "    </tr>\n",
       "    <tr>\n",
       "      <th>0xbd4110ecb0372163ffcfcfb3345b579e707c6bdb</th>\n",
       "      <td>1</td>\n",
       "      <td>1</td>\n",
       "      <td>5</td>\n",
       "      <td>2.064426</td>\n",
       "      <td>6</td>\n",
       "      <td>5</td>\n",
       "      <td>738910</td>\n",
       "      <td>2024-07-12</td>\n",
       "      <td>None</td>\n",
       "      <td>None</td>\n",
       "      <td>1</td>\n",
       "      <td>2.0</td>\n",
       "      <td>sybil</td>\n",
       "    </tr>\n",
       "    <tr>\n",
       "      <th>0x519a784ea1ab15dd2342c02a903dde157feaecbe</th>\n",
       "      <td>1</td>\n",
       "      <td>1</td>\n",
       "      <td>5</td>\n",
       "      <td>5.809362</td>\n",
       "      <td>5</td>\n",
       "      <td>5</td>\n",
       "      <td>738909</td>\n",
       "      <td>2024-07-11</td>\n",
       "      <td>None</td>\n",
       "      <td>None</td>\n",
       "      <td>1</td>\n",
       "      <td>2.0</td>\n",
       "      <td>sybil</td>\n",
       "    </tr>\n",
       "    <tr>\n",
       "      <th>0x10befa88586c8a378849dfe932c59939e8548875</th>\n",
       "      <td>1</td>\n",
       "      <td>1</td>\n",
       "      <td>5</td>\n",
       "      <td>1.790626</td>\n",
       "      <td>5</td>\n",
       "      <td>5</td>\n",
       "      <td>738910</td>\n",
       "      <td>2024-07-12</td>\n",
       "      <td>None</td>\n",
       "      <td>None</td>\n",
       "      <td>1</td>\n",
       "      <td>2.0</td>\n",
       "      <td>sybil</td>\n",
       "    </tr>\n",
       "    <tr>\n",
       "      <th>0x09ef42ac46bd91d3039f58ac1c055239c65362c8</th>\n",
       "      <td>1</td>\n",
       "      <td>1</td>\n",
       "      <td>5</td>\n",
       "      <td>2.535241</td>\n",
       "      <td>5</td>\n",
       "      <td>5</td>\n",
       "      <td>738910</td>\n",
       "      <td>2024-07-12</td>\n",
       "      <td>None</td>\n",
       "      <td>None</td>\n",
       "      <td>1</td>\n",
       "      <td>2.0</td>\n",
       "      <td>sybil</td>\n",
       "    </tr>\n",
       "    <tr>\n",
       "      <th>0xb4dacc1c9a7962992b6fcc232c38f1ef3aeb0bb8</th>\n",
       "      <td>1</td>\n",
       "      <td>1</td>\n",
       "      <td>5</td>\n",
       "      <td>2.531118</td>\n",
       "      <td>5</td>\n",
       "      <td>5</td>\n",
       "      <td>738909</td>\n",
       "      <td>2024-07-11</td>\n",
       "      <td>None</td>\n",
       "      <td>None</td>\n",
       "      <td>1</td>\n",
       "      <td>2.0</td>\n",
       "      <td>sybil</td>\n",
       "    </tr>\n",
       "    <tr>\n",
       "      <th>0xe1be43ed60226b11ab1287d074d7b72b56e33367</th>\n",
       "      <td>1</td>\n",
       "      <td>1</td>\n",
       "      <td>5</td>\n",
       "      <td>0.985278</td>\n",
       "      <td>5</td>\n",
       "      <td>5</td>\n",
       "      <td>738903</td>\n",
       "      <td>2024-07-13</td>\n",
       "      <td>None</td>\n",
       "      <td>None</td>\n",
       "      <td>1</td>\n",
       "      <td>3.0</td>\n",
       "      <td>sybil</td>\n",
       "    </tr>\n",
       "    <tr>\n",
       "      <th>0xcc92c8c7c2dbc43fb0d833a62aa2cac44328e08d</th>\n",
       "      <td>1</td>\n",
       "      <td>1</td>\n",
       "      <td>5</td>\n",
       "      <td>3.464939</td>\n",
       "      <td>5</td>\n",
       "      <td>5</td>\n",
       "      <td>738903</td>\n",
       "      <td>2024-07-11</td>\n",
       "      <td>None</td>\n",
       "      <td>None</td>\n",
       "      <td>1</td>\n",
       "      <td>3.0</td>\n",
       "      <td>sybil</td>\n",
       "    </tr>\n",
       "    <tr>\n",
       "      <th>0xfba398e4e02b89f8dc91ada406266d2e9ff31744</th>\n",
       "      <td>1</td>\n",
       "      <td>1</td>\n",
       "      <td>5</td>\n",
       "      <td>1.708358</td>\n",
       "      <td>5</td>\n",
       "      <td>5</td>\n",
       "      <td>738903</td>\n",
       "      <td>2024-07-14</td>\n",
       "      <td>None</td>\n",
       "      <td>None</td>\n",
       "      <td>1</td>\n",
       "      <td>3.0</td>\n",
       "      <td>sybil</td>\n",
       "    </tr>\n",
       "    <tr>\n",
       "      <th>0xf9ec10e88b14702a98d7b578c3589100ba777d77</th>\n",
       "      <td>1</td>\n",
       "      <td>1</td>\n",
       "      <td>4</td>\n",
       "      <td>4.267318</td>\n",
       "      <td>4</td>\n",
       "      <td>4</td>\n",
       "      <td>738904</td>\n",
       "      <td>2024-10-23</td>\n",
       "      <td>None</td>\n",
       "      <td>None</td>\n",
       "      <td>1</td>\n",
       "      <td>4.0</td>\n",
       "      <td>sybil</td>\n",
       "    </tr>\n",
       "    <tr>\n",
       "      <th>0xd18df0005392a67da8419b5d301719f42b26df0d</th>\n",
       "      <td>1</td>\n",
       "      <td>1</td>\n",
       "      <td>4</td>\n",
       "      <td>3.236002</td>\n",
       "      <td>4</td>\n",
       "      <td>4</td>\n",
       "      <td>738904</td>\n",
       "      <td>2024-10-23</td>\n",
       "      <td>None</td>\n",
       "      <td>None</td>\n",
       "      <td>1</td>\n",
       "      <td>4.0</td>\n",
       "      <td>sybil</td>\n",
       "    </tr>\n",
       "    <tr>\n",
       "      <th>0xdcbc43d71674b261b3d0ee76a5dcbfd26e921552</th>\n",
       "      <td>1</td>\n",
       "      <td>1</td>\n",
       "      <td>4</td>\n",
       "      <td>5.664216</td>\n",
       "      <td>4</td>\n",
       "      <td>4</td>\n",
       "      <td>738903</td>\n",
       "      <td>2024-11-18</td>\n",
       "      <td>None</td>\n",
       "      <td>None</td>\n",
       "      <td>1</td>\n",
       "      <td>4.0</td>\n",
       "      <td>sybil</td>\n",
       "    </tr>\n",
       "    <tr>\n",
       "      <th>0x366d0f389109e84209924b444182d052d8ae03ea</th>\n",
       "      <td>1</td>\n",
       "      <td>1</td>\n",
       "      <td>4</td>\n",
       "      <td>3.068084</td>\n",
       "      <td>4</td>\n",
       "      <td>4</td>\n",
       "      <td>738904</td>\n",
       "      <td>2024-10-30</td>\n",
       "      <td>None</td>\n",
       "      <td>None</td>\n",
       "      <td>1</td>\n",
       "      <td>4.0</td>\n",
       "      <td>sybil</td>\n",
       "    </tr>\n",
       "    <tr>\n",
       "      <th>0x0ba57409d04c154b6bc931ea6cee199e3b12444a</th>\n",
       "      <td>1</td>\n",
       "      <td>1</td>\n",
       "      <td>4</td>\n",
       "      <td>1.12019</td>\n",
       "      <td>4</td>\n",
       "      <td>4</td>\n",
       "      <td>738904</td>\n",
       "      <td>2024-07-13</td>\n",
       "      <td>None</td>\n",
       "      <td>None</td>\n",
       "      <td>1</td>\n",
       "      <td>4.0</td>\n",
       "      <td>sybil</td>\n",
       "    </tr>\n",
       "    <tr>\n",
       "      <th>0xba821f0a67a75ce65f215cd16a655b0e2c00aa34</th>\n",
       "      <td>1</td>\n",
       "      <td>1</td>\n",
       "      <td>3</td>\n",
       "      <td>5.32619</td>\n",
       "      <td>3</td>\n",
       "      <td>3</td>\n",
       "      <td>738904</td>\n",
       "      <td>2024-11-21</td>\n",
       "      <td>None</td>\n",
       "      <td>None</td>\n",
       "      <td>1</td>\n",
       "      <td>5.0</td>\n",
       "      <td>sybil</td>\n",
       "    </tr>\n",
       "    <tr>\n",
       "      <th>0xb412778910bf0d66254219dbc64fd4a8797ca280</th>\n",
       "      <td>1</td>\n",
       "      <td>1</td>\n",
       "      <td>3</td>\n",
       "      <td>2.099075</td>\n",
       "      <td>3</td>\n",
       "      <td>3</td>\n",
       "      <td>738904</td>\n",
       "      <td>2024-09-16</td>\n",
       "      <td>None</td>\n",
       "      <td>None</td>\n",
       "      <td>1</td>\n",
       "      <td>5.0</td>\n",
       "      <td>sybil</td>\n",
       "    </tr>\n",
       "    <tr>\n",
       "      <th>0x7d99529cc4f7fd723c16a956f687cf83a6815532</th>\n",
       "      <td>1</td>\n",
       "      <td>1</td>\n",
       "      <td>3</td>\n",
       "      <td>6.059665</td>\n",
       "      <td>3</td>\n",
       "      <td>3</td>\n",
       "      <td>738903</td>\n",
       "      <td>2024-11-29</td>\n",
       "      <td>None</td>\n",
       "      <td>None</td>\n",
       "      <td>1</td>\n",
       "      <td>5.0</td>\n",
       "      <td>sybil</td>\n",
       "    </tr>\n",
       "    <tr>\n",
       "      <th>0x60bcd240135e3cf9901585090d1b08ff1f0c45e4</th>\n",
       "      <td>1</td>\n",
       "      <td>1</td>\n",
       "      <td>3</td>\n",
       "      <td>0.416893</td>\n",
       "      <td>3</td>\n",
       "      <td>3</td>\n",
       "      <td>738904</td>\n",
       "      <td>2024-08-31</td>\n",
       "      <td>None</td>\n",
       "      <td>None</td>\n",
       "      <td>1</td>\n",
       "      <td>5.0</td>\n",
       "      <td>sybil</td>\n",
       "    </tr>\n",
       "    <tr>\n",
       "      <th>0x53b4e9be19bf2dbd56cb4a6616b728327d4875e5</th>\n",
       "      <td>1</td>\n",
       "      <td>1</td>\n",
       "      <td>3</td>\n",
       "      <td>4.406218</td>\n",
       "      <td>3</td>\n",
       "      <td>3</td>\n",
       "      <td>738904</td>\n",
       "      <td>2024-10-23</td>\n",
       "      <td>None</td>\n",
       "      <td>None</td>\n",
       "      <td>1</td>\n",
       "      <td>5.0</td>\n",
       "      <td>sybil</td>\n",
       "    </tr>\n",
       "    <tr>\n",
       "      <th>0x4b3483c855d223141cc6f2a1b1dc82e6618f52ef</th>\n",
       "      <td>1</td>\n",
       "      <td>1</td>\n",
       "      <td>3</td>\n",
       "      <td>5.202646</td>\n",
       "      <td>3</td>\n",
       "      <td>3</td>\n",
       "      <td>738903</td>\n",
       "      <td>2024-11-18</td>\n",
       "      <td>None</td>\n",
       "      <td>None</td>\n",
       "      <td>1</td>\n",
       "      <td>5.0</td>\n",
       "      <td>sybil</td>\n",
       "    </tr>\n",
       "    <tr>\n",
       "      <th>0x67161d3afb0ed471b6651aa4899ae62ca4cfd2cf</th>\n",
       "      <td>1</td>\n",
       "      <td>1</td>\n",
       "      <td>1</td>\n",
       "      <td>0.001011</td>\n",
       "      <td>1</td>\n",
       "      <td>1</td>\n",
       "      <td>738903</td>\n",
       "      <td>2024-01-18</td>\n",
       "      <td>None</td>\n",
       "      <td>None</td>\n",
       "      <td>1</td>\n",
       "      <td>6.0</td>\n",
       "      <td>sybil</td>\n",
       "    </tr>\n",
       "    <tr>\n",
       "      <th>0xb5c1cffe7e6bc981f85aea828392dea7ef042770</th>\n",
       "      <td>1</td>\n",
       "      <td>1</td>\n",
       "      <td>1</td>\n",
       "      <td>0.00147</td>\n",
       "      <td>1</td>\n",
       "      <td>1</td>\n",
       "      <td>738903</td>\n",
       "      <td>2024-01-18</td>\n",
       "      <td>None</td>\n",
       "      <td>None</td>\n",
       "      <td>1</td>\n",
       "      <td>6.0</td>\n",
       "      <td>sybil</td>\n",
       "    </tr>\n",
       "    <tr>\n",
       "      <th>0x7899c25752fbe44d7d62238137194fc0477a6114</th>\n",
       "      <td>1</td>\n",
       "      <td>1</td>\n",
       "      <td>1</td>\n",
       "      <td>0.001198</td>\n",
       "      <td>1</td>\n",
       "      <td>1</td>\n",
       "      <td>738903</td>\n",
       "      <td>2024-01-18</td>\n",
       "      <td>None</td>\n",
       "      <td>None</td>\n",
       "      <td>1</td>\n",
       "      <td>6.0</td>\n",
       "      <td>sybil</td>\n",
       "    </tr>\n",
       "    <tr>\n",
       "      <th>0xa18df49ebc121d2bcf756b40f1b97ce8b835830f</th>\n",
       "      <td>48</td>\n",
       "      <td>48</td>\n",
       "      <td>7437</td>\n",
       "      <td>9.210677</td>\n",
       "      <td>7437</td>\n",
       "      <td>7436</td>\n",
       "      <td>739093</td>\n",
       "      <td>2024-07-26</td>\n",
       "      <td>None</td>\n",
       "      <td>None</td>\n",
       "      <td>-1</td>\n",
       "      <td>NaN</td>\n",
       "      <td>sybil_core</td>\n",
       "    </tr>\n",
       "  </tbody>\n",
       "</table>\n",
       "</div>"
      ],
      "text/plain": [
       "                                            commu_tx_wallets  commu_tx_count  \\\n",
       "0x06209554bc06b2bb2a12446c0f0c741da532789c                 1               1   \n",
       "0x6d03833ed2d9d06dcd27c3b9ca19b84cca97bf37                 1               1   \n",
       "0x6b6612149a94e04c0d90bc5699ea91e1f862db2f                 1               1   \n",
       "0xd2d9b20d9847a7c96c93c385c8d6e85164700470                 1               1   \n",
       "0x8ba8aa2e7589b8f89c212ea03fea86219b1e3558                 1               1   \n",
       "0x5911035a34855c21dbc1fddf544946c360a43495                 1               1   \n",
       "0x53c0d3811f103200e44f39a0f523046c3116a6dd                 1               1   \n",
       "0xc1bef26ba79174e03d82433384608dc3be04e585                 1               1   \n",
       "0x9c180ea0636010aa85d97b23381f5a7401054b21                 1               1   \n",
       "0xdb2620c92f8e0aef798572ef82dd672040f69635                 1               1   \n",
       "0x400cd82b8c2565fec580ac0910ed2f1241bcaa97                 1               1   \n",
       "0x3c1039f91726c25cb859782b1caa9eafd6bf0e63                 1               1   \n",
       "0xa391ca914b514bcdbe29c3ba54aba34870fe1bd5                 1               1   \n",
       "0x36017ca03dc27cf5ecd3545e6cfda790abe64a69                 1               1   \n",
       "0xa79b0ec9d6e76f7bd1341a174f02e0cf57f8b553                 1               1   \n",
       "0xa900b524a72c9ec986cee19a69fc32f6fb4d44b6                 1               1   \n",
       "0xdbfb6cca29838ea27ab39b58c968d06c5662829f                 1               1   \n",
       "0x7905fac8c765fe3df6c3ff4a4da70521150466b4                 1               1   \n",
       "0x4eaf9f30f1d060da85d11624b9696e28528dad8a                 1               1   \n",
       "0x55ffe9070dc748c2efa5885ae40917abe842a811                 1               1   \n",
       "0x167479c2d37f5bd4259acaef05e9ca7c948e7eff                 1               1   \n",
       "0x783b1cdc98070f7a694feb153f8d880a1f746809                 1               1   \n",
       "0x63666dc480b18c840d4990a680759730365861ab                 1               1   \n",
       "0x6662b8dc2713dc077a9536f01abcac1e065efa19                 1               1   \n",
       "0xed5359a1b3afd86ef23dcc1ddb78c3d990b16edf                 1               1   \n",
       "0xd8d6af5e32c7cc39faebfc041063fee4674ba56f                 1               1   \n",
       "0xbd4110ecb0372163ffcfcfb3345b579e707c6bdb                 1               1   \n",
       "0x519a784ea1ab15dd2342c02a903dde157feaecbe                 1               1   \n",
       "0x10befa88586c8a378849dfe932c59939e8548875                 1               1   \n",
       "0x09ef42ac46bd91d3039f58ac1c055239c65362c8                 1               1   \n",
       "0xb4dacc1c9a7962992b6fcc232c38f1ef3aeb0bb8                 1               1   \n",
       "0xe1be43ed60226b11ab1287d074d7b72b56e33367                 1               1   \n",
       "0xcc92c8c7c2dbc43fb0d833a62aa2cac44328e08d                 1               1   \n",
       "0xfba398e4e02b89f8dc91ada406266d2e9ff31744                 1               1   \n",
       "0xf9ec10e88b14702a98d7b578c3589100ba777d77                 1               1   \n",
       "0xd18df0005392a67da8419b5d301719f42b26df0d                 1               1   \n",
       "0xdcbc43d71674b261b3d0ee76a5dcbfd26e921552                 1               1   \n",
       "0x366d0f389109e84209924b444182d052d8ae03ea                 1               1   \n",
       "0x0ba57409d04c154b6bc931ea6cee199e3b12444a                 1               1   \n",
       "0xba821f0a67a75ce65f215cd16a655b0e2c00aa34                 1               1   \n",
       "0xb412778910bf0d66254219dbc64fd4a8797ca280                 1               1   \n",
       "0x7d99529cc4f7fd723c16a956f687cf83a6815532                 1               1   \n",
       "0x60bcd240135e3cf9901585090d1b08ff1f0c45e4                 1               1   \n",
       "0x53b4e9be19bf2dbd56cb4a6616b728327d4875e5                 1               1   \n",
       "0x4b3483c855d223141cc6f2a1b1dc82e6618f52ef                 1               1   \n",
       "0x67161d3afb0ed471b6651aa4899ae62ca4cfd2cf                 1               1   \n",
       "0xb5c1cffe7e6bc981f85aea828392dea7ef042770                 1               1   \n",
       "0x7899c25752fbe44d7d62238137194fc0477a6114                 1               1   \n",
       "0xa18df49ebc121d2bcf756b40f1b97ce8b835830f                48              48   \n",
       "\n",
       "                                           active_days total_gas_fee_in_usd  \\\n",
       "0x06209554bc06b2bb2a12446c0f0c741da532789c         247            85.908282   \n",
       "0x6d03833ed2d9d06dcd27c3b9ca19b84cca97bf37         102           366.278991   \n",
       "0x6b6612149a94e04c0d90bc5699ea91e1f862db2f          26            52.317356   \n",
       "0xd2d9b20d9847a7c96c93c385c8d6e85164700470         158           2797.19979   \n",
       "0x8ba8aa2e7589b8f89c212ea03fea86219b1e3558           1             0.000612   \n",
       "0x5911035a34855c21dbc1fddf544946c360a43495         417            17.926255   \n",
       "0x53c0d3811f103200e44f39a0f523046c3116a6dd           3             0.003929   \n",
       "0xc1bef26ba79174e03d82433384608dc3be04e585           1             0.000485   \n",
       "0x9c180ea0636010aa85d97b23381f5a7401054b21           2             0.002713   \n",
       "0xdb2620c92f8e0aef798572ef82dd672040f69635          19             9.014891   \n",
       "0x400cd82b8c2565fec580ac0910ed2f1241bcaa97           1             0.000593   \n",
       "0x3c1039f91726c25cb859782b1caa9eafd6bf0e63          94           418.761305   \n",
       "0xa391ca914b514bcdbe29c3ba54aba34870fe1bd5          42            12.816585   \n",
       "0x36017ca03dc27cf5ecd3545e6cfda790abe64a69           2              0.00559   \n",
       "0xa79b0ec9d6e76f7bd1341a174f02e0cf57f8b553           2             0.529174   \n",
       "0xa900b524a72c9ec986cee19a69fc32f6fb4d44b6           7             0.903985   \n",
       "0xdbfb6cca29838ea27ab39b58c968d06c5662829f           7             6.004219   \n",
       "0x7905fac8c765fe3df6c3ff4a4da70521150466b4           1             0.000652   \n",
       "0x4eaf9f30f1d060da85d11624b9696e28528dad8a          19             6.563024   \n",
       "0x55ffe9070dc748c2efa5885ae40917abe842a811          19             4.569361   \n",
       "0x167479c2d37f5bd4259acaef05e9ca7c948e7eff          20             3.812898   \n",
       "0x783b1cdc98070f7a694feb153f8d880a1f746809          19            10.710626   \n",
       "0x63666dc480b18c840d4990a680759730365861ab          18            36.529152   \n",
       "0x6662b8dc2713dc077a9536f01abcac1e065efa19          22            42.190838   \n",
       "0xed5359a1b3afd86ef23dcc1ddb78c3d990b16edf          16             5.497195   \n",
       "0xd8d6af5e32c7cc39faebfc041063fee4674ba56f           5              2.73583   \n",
       "0xbd4110ecb0372163ffcfcfb3345b579e707c6bdb           5             2.064426   \n",
       "0x519a784ea1ab15dd2342c02a903dde157feaecbe           5             5.809362   \n",
       "0x10befa88586c8a378849dfe932c59939e8548875           5             1.790626   \n",
       "0x09ef42ac46bd91d3039f58ac1c055239c65362c8           5             2.535241   \n",
       "0xb4dacc1c9a7962992b6fcc232c38f1ef3aeb0bb8           5             2.531118   \n",
       "0xe1be43ed60226b11ab1287d074d7b72b56e33367           5             0.985278   \n",
       "0xcc92c8c7c2dbc43fb0d833a62aa2cac44328e08d           5             3.464939   \n",
       "0xfba398e4e02b89f8dc91ada406266d2e9ff31744           5             1.708358   \n",
       "0xf9ec10e88b14702a98d7b578c3589100ba777d77           4             4.267318   \n",
       "0xd18df0005392a67da8419b5d301719f42b26df0d           4             3.236002   \n",
       "0xdcbc43d71674b261b3d0ee76a5dcbfd26e921552           4             5.664216   \n",
       "0x366d0f389109e84209924b444182d052d8ae03ea           4             3.068084   \n",
       "0x0ba57409d04c154b6bc931ea6cee199e3b12444a           4              1.12019   \n",
       "0xba821f0a67a75ce65f215cd16a655b0e2c00aa34           3              5.32619   \n",
       "0xb412778910bf0d66254219dbc64fd4a8797ca280           3             2.099075   \n",
       "0x7d99529cc4f7fd723c16a956f687cf83a6815532           3             6.059665   \n",
       "0x60bcd240135e3cf9901585090d1b08ff1f0c45e4           3             0.416893   \n",
       "0x53b4e9be19bf2dbd56cb4a6616b728327d4875e5           3             4.406218   \n",
       "0x4b3483c855d223141cc6f2a1b1dc82e6618f52ef           3             5.202646   \n",
       "0x67161d3afb0ed471b6651aa4899ae62ca4cfd2cf           1             0.001011   \n",
       "0xb5c1cffe7e6bc981f85aea828392dea7ef042770           1              0.00147   \n",
       "0x7899c25752fbe44d7d62238137194fc0477a6114           1             0.001198   \n",
       "0xa18df49ebc121d2bcf756b40f1b97ce8b835830f        7437             9.210677   \n",
       "\n",
       "                                           txn_count wallets_interacted  \\\n",
       "0x06209554bc06b2bb2a12446c0f0c741da532789c       265                 52   \n",
       "0x6d03833ed2d9d06dcd27c3b9ca19b84cca97bf37       128                 58   \n",
       "0x6b6612149a94e04c0d90bc5699ea91e1f862db2f        27                 21   \n",
       "0xd2d9b20d9847a7c96c93c385c8d6e85164700470       352                 73   \n",
       "0x8ba8aa2e7589b8f89c212ea03fea86219b1e3558         1                  1   \n",
       "0x5911035a34855c21dbc1fddf544946c360a43495       820                 67   \n",
       "0x53c0d3811f103200e44f39a0f523046c3116a6dd         3                  3   \n",
       "0xc1bef26ba79174e03d82433384608dc3be04e585         1                  1   \n",
       "0x9c180ea0636010aa85d97b23381f5a7401054b21         2                  2   \n",
       "0xdb2620c92f8e0aef798572ef82dd672040f69635        39                 12   \n",
       "0x400cd82b8c2565fec580ac0910ed2f1241bcaa97         1                  1   \n",
       "0x3c1039f91726c25cb859782b1caa9eafd6bf0e63       134                 64   \n",
       "0xa391ca914b514bcdbe29c3ba54aba34870fe1bd5        48                 28   \n",
       "0x36017ca03dc27cf5ecd3545e6cfda790abe64a69         2                  2   \n",
       "0xa79b0ec9d6e76f7bd1341a174f02e0cf57f8b553         2                  2   \n",
       "0xa900b524a72c9ec986cee19a69fc32f6fb4d44b6         7                  7   \n",
       "0xdbfb6cca29838ea27ab39b58c968d06c5662829f         7                  7   \n",
       "0x7905fac8c765fe3df6c3ff4a4da70521150466b4         1                  1   \n",
       "0x4eaf9f30f1d060da85d11624b9696e28528dad8a        19                 17   \n",
       "0x55ffe9070dc748c2efa5885ae40917abe842a811        24                 15   \n",
       "0x167479c2d37f5bd4259acaef05e9ca7c948e7eff        26                 16   \n",
       "0x783b1cdc98070f7a694feb153f8d880a1f746809        20                 17   \n",
       "0x63666dc480b18c840d4990a680759730365861ab        19                 14   \n",
       "0x6662b8dc2713dc077a9536f01abcac1e065efa19        23                 18   \n",
       "0xed5359a1b3afd86ef23dcc1ddb78c3d990b16edf        16                 14   \n",
       "0xd8d6af5e32c7cc39faebfc041063fee4674ba56f         5                  5   \n",
       "0xbd4110ecb0372163ffcfcfb3345b579e707c6bdb         6                  5   \n",
       "0x519a784ea1ab15dd2342c02a903dde157feaecbe         5                  5   \n",
       "0x10befa88586c8a378849dfe932c59939e8548875         5                  5   \n",
       "0x09ef42ac46bd91d3039f58ac1c055239c65362c8         5                  5   \n",
       "0xb4dacc1c9a7962992b6fcc232c38f1ef3aeb0bb8         5                  5   \n",
       "0xe1be43ed60226b11ab1287d074d7b72b56e33367         5                  5   \n",
       "0xcc92c8c7c2dbc43fb0d833a62aa2cac44328e08d         5                  5   \n",
       "0xfba398e4e02b89f8dc91ada406266d2e9ff31744         5                  5   \n",
       "0xf9ec10e88b14702a98d7b578c3589100ba777d77         4                  4   \n",
       "0xd18df0005392a67da8419b5d301719f42b26df0d         4                  4   \n",
       "0xdcbc43d71674b261b3d0ee76a5dcbfd26e921552         4                  4   \n",
       "0x366d0f389109e84209924b444182d052d8ae03ea         4                  4   \n",
       "0x0ba57409d04c154b6bc931ea6cee199e3b12444a         4                  4   \n",
       "0xba821f0a67a75ce65f215cd16a655b0e2c00aa34         3                  3   \n",
       "0xb412778910bf0d66254219dbc64fd4a8797ca280         3                  3   \n",
       "0x7d99529cc4f7fd723c16a956f687cf83a6815532         3                  3   \n",
       "0x60bcd240135e3cf9901585090d1b08ff1f0c45e4         3                  3   \n",
       "0x53b4e9be19bf2dbd56cb4a6616b728327d4875e5         3                  3   \n",
       "0x4b3483c855d223141cc6f2a1b1dc82e6618f52ef         3                  3   \n",
       "0x67161d3afb0ed471b6651aa4899ae62ca4cfd2cf         1                  1   \n",
       "0xb5c1cffe7e6bc981f85aea828392dea7ef042770         1                  1   \n",
       "0x7899c25752fbe44d7d62238137194fc0477a6114         1                  1   \n",
       "0xa18df49ebc121d2bcf756b40f1b97ce8b835830f      7437               7436   \n",
       "\n",
       "                                           last_txn_date_int last_txn_date  \\\n",
       "0x06209554bc06b2bb2a12446c0f0c741da532789c            739225    2024-12-05   \n",
       "0x6d03833ed2d9d06dcd27c3b9ca19b84cca97bf37            739026    2024-12-03   \n",
       "0x6b6612149a94e04c0d90bc5699ea91e1f862db2f            738930    2024-11-12   \n",
       "0xd2d9b20d9847a7c96c93c385c8d6e85164700470            738920    2024-09-28   \n",
       "0x8ba8aa2e7589b8f89c212ea03fea86219b1e3558            738905    2024-01-20   \n",
       "0x5911035a34855c21dbc1fddf544946c360a43495            739232    2024-12-12   \n",
       "0x53c0d3811f103200e44f39a0f523046c3116a6dd            738941    2024-02-25   \n",
       "0xc1bef26ba79174e03d82433384608dc3be04e585            738908    2024-01-23   \n",
       "0x9c180ea0636010aa85d97b23381f5a7401054b21            739061    2024-06-24   \n",
       "0xdb2620c92f8e0aef798572ef82dd672040f69635            738945    2024-09-29   \n",
       "0x400cd82b8c2565fec580ac0910ed2f1241bcaa97            738904    2024-01-19   \n",
       "0x3c1039f91726c25cb859782b1caa9eafd6bf0e63            739000    2024-12-12   \n",
       "0xa391ca914b514bcdbe29c3ba54aba34870fe1bd5            739012    2024-11-02   \n",
       "0x36017ca03dc27cf5ecd3545e6cfda790abe64a69            738904    2024-01-19   \n",
       "0xa79b0ec9d6e76f7bd1341a174f02e0cf57f8b553            738904    2024-07-11   \n",
       "0xa900b524a72c9ec986cee19a69fc32f6fb4d44b6            738903    2024-07-26   \n",
       "0xdbfb6cca29838ea27ab39b58c968d06c5662829f            738910    2024-11-05   \n",
       "0x7905fac8c765fe3df6c3ff4a4da70521150466b4            738905    2024-01-20   \n",
       "0x4eaf9f30f1d060da85d11624b9696e28528dad8a            738944    2024-07-11   \n",
       "0x55ffe9070dc748c2efa5885ae40917abe842a811            738930    2024-10-21   \n",
       "0x167479c2d37f5bd4259acaef05e9ca7c948e7eff            738931    2024-09-14   \n",
       "0x783b1cdc98070f7a694feb153f8d880a1f746809            738941    2024-07-11   \n",
       "0x63666dc480b18c840d4990a680759730365861ab            738904    2024-11-24   \n",
       "0x6662b8dc2713dc077a9536f01abcac1e065efa19            738911    2024-07-17   \n",
       "0xed5359a1b3afd86ef23dcc1ddb78c3d990b16edf            738911    2024-07-11   \n",
       "0xd8d6af5e32c7cc39faebfc041063fee4674ba56f            738911    2024-07-12   \n",
       "0xbd4110ecb0372163ffcfcfb3345b579e707c6bdb            738910    2024-07-12   \n",
       "0x519a784ea1ab15dd2342c02a903dde157feaecbe            738909    2024-07-11   \n",
       "0x10befa88586c8a378849dfe932c59939e8548875            738910    2024-07-12   \n",
       "0x09ef42ac46bd91d3039f58ac1c055239c65362c8            738910    2024-07-12   \n",
       "0xb4dacc1c9a7962992b6fcc232c38f1ef3aeb0bb8            738909    2024-07-11   \n",
       "0xe1be43ed60226b11ab1287d074d7b72b56e33367            738903    2024-07-13   \n",
       "0xcc92c8c7c2dbc43fb0d833a62aa2cac44328e08d            738903    2024-07-11   \n",
       "0xfba398e4e02b89f8dc91ada406266d2e9ff31744            738903    2024-07-14   \n",
       "0xf9ec10e88b14702a98d7b578c3589100ba777d77            738904    2024-10-23   \n",
       "0xd18df0005392a67da8419b5d301719f42b26df0d            738904    2024-10-23   \n",
       "0xdcbc43d71674b261b3d0ee76a5dcbfd26e921552            738903    2024-11-18   \n",
       "0x366d0f389109e84209924b444182d052d8ae03ea            738904    2024-10-30   \n",
       "0x0ba57409d04c154b6bc931ea6cee199e3b12444a            738904    2024-07-13   \n",
       "0xba821f0a67a75ce65f215cd16a655b0e2c00aa34            738904    2024-11-21   \n",
       "0xb412778910bf0d66254219dbc64fd4a8797ca280            738904    2024-09-16   \n",
       "0x7d99529cc4f7fd723c16a956f687cf83a6815532            738903    2024-11-29   \n",
       "0x60bcd240135e3cf9901585090d1b08ff1f0c45e4            738904    2024-08-31   \n",
       "0x53b4e9be19bf2dbd56cb4a6616b728327d4875e5            738904    2024-10-23   \n",
       "0x4b3483c855d223141cc6f2a1b1dc82e6618f52ef            738903    2024-11-18   \n",
       "0x67161d3afb0ed471b6651aa4899ae62ca4cfd2cf            738903    2024-01-18   \n",
       "0xb5c1cffe7e6bc981f85aea828392dea7ef042770            738903    2024-01-18   \n",
       "0x7899c25752fbe44d7d62238137194fc0477a6114            738903    2024-01-18   \n",
       "0xa18df49ebc121d2bcf756b40f1b97ce8b835830f            739093    2024-07-26   \n",
       "\n",
       "                                           start_date end_date  \\\n",
       "0x06209554bc06b2bb2a12446c0f0c741da532789c       None     None   \n",
       "0x6d03833ed2d9d06dcd27c3b9ca19b84cca97bf37       None     None   \n",
       "0x6b6612149a94e04c0d90bc5699ea91e1f862db2f       None     None   \n",
       "0xd2d9b20d9847a7c96c93c385c8d6e85164700470       None     None   \n",
       "0x8ba8aa2e7589b8f89c212ea03fea86219b1e3558       None     None   \n",
       "0x5911035a34855c21dbc1fddf544946c360a43495       None     None   \n",
       "0x53c0d3811f103200e44f39a0f523046c3116a6dd       None     None   \n",
       "0xc1bef26ba79174e03d82433384608dc3be04e585       None     None   \n",
       "0x9c180ea0636010aa85d97b23381f5a7401054b21       None     None   \n",
       "0xdb2620c92f8e0aef798572ef82dd672040f69635       None     None   \n",
       "0x400cd82b8c2565fec580ac0910ed2f1241bcaa97       None     None   \n",
       "0x3c1039f91726c25cb859782b1caa9eafd6bf0e63       None     None   \n",
       "0xa391ca914b514bcdbe29c3ba54aba34870fe1bd5       None     None   \n",
       "0x36017ca03dc27cf5ecd3545e6cfda790abe64a69       None     None   \n",
       "0xa79b0ec9d6e76f7bd1341a174f02e0cf57f8b553       None     None   \n",
       "0xa900b524a72c9ec986cee19a69fc32f6fb4d44b6       None     None   \n",
       "0xdbfb6cca29838ea27ab39b58c968d06c5662829f       None     None   \n",
       "0x7905fac8c765fe3df6c3ff4a4da70521150466b4       None     None   \n",
       "0x4eaf9f30f1d060da85d11624b9696e28528dad8a       None     None   \n",
       "0x55ffe9070dc748c2efa5885ae40917abe842a811       None     None   \n",
       "0x167479c2d37f5bd4259acaef05e9ca7c948e7eff       None     None   \n",
       "0x783b1cdc98070f7a694feb153f8d880a1f746809       None     None   \n",
       "0x63666dc480b18c840d4990a680759730365861ab       None     None   \n",
       "0x6662b8dc2713dc077a9536f01abcac1e065efa19       None     None   \n",
       "0xed5359a1b3afd86ef23dcc1ddb78c3d990b16edf       None     None   \n",
       "0xd8d6af5e32c7cc39faebfc041063fee4674ba56f       None     None   \n",
       "0xbd4110ecb0372163ffcfcfb3345b579e707c6bdb       None     None   \n",
       "0x519a784ea1ab15dd2342c02a903dde157feaecbe       None     None   \n",
       "0x10befa88586c8a378849dfe932c59939e8548875       None     None   \n",
       "0x09ef42ac46bd91d3039f58ac1c055239c65362c8       None     None   \n",
       "0xb4dacc1c9a7962992b6fcc232c38f1ef3aeb0bb8       None     None   \n",
       "0xe1be43ed60226b11ab1287d074d7b72b56e33367       None     None   \n",
       "0xcc92c8c7c2dbc43fb0d833a62aa2cac44328e08d       None     None   \n",
       "0xfba398e4e02b89f8dc91ada406266d2e9ff31744       None     None   \n",
       "0xf9ec10e88b14702a98d7b578c3589100ba777d77       None     None   \n",
       "0xd18df0005392a67da8419b5d301719f42b26df0d       None     None   \n",
       "0xdcbc43d71674b261b3d0ee76a5dcbfd26e921552       None     None   \n",
       "0x366d0f389109e84209924b444182d052d8ae03ea       None     None   \n",
       "0x0ba57409d04c154b6bc931ea6cee199e3b12444a       None     None   \n",
       "0xba821f0a67a75ce65f215cd16a655b0e2c00aa34       None     None   \n",
       "0xb412778910bf0d66254219dbc64fd4a8797ca280       None     None   \n",
       "0x7d99529cc4f7fd723c16a956f687cf83a6815532       None     None   \n",
       "0x60bcd240135e3cf9901585090d1b08ff1f0c45e4       None     None   \n",
       "0x53b4e9be19bf2dbd56cb4a6616b728327d4875e5       None     None   \n",
       "0x4b3483c855d223141cc6f2a1b1dc82e6618f52ef       None     None   \n",
       "0x67161d3afb0ed471b6651aa4899ae62ca4cfd2cf       None     None   \n",
       "0xb5c1cffe7e6bc981f85aea828392dea7ef042770       None     None   \n",
       "0x7899c25752fbe44d7d62238137194fc0477a6114       None     None   \n",
       "0xa18df49ebc121d2bcf756b40f1b97ce8b835830f       None     None   \n",
       "\n",
       "                                            isolation_forest  optics  \\\n",
       "0x06209554bc06b2bb2a12446c0f0c741da532789c                 1    -1.0   \n",
       "0x6d03833ed2d9d06dcd27c3b9ca19b84cca97bf37                 1    -1.0   \n",
       "0x6b6612149a94e04c0d90bc5699ea91e1f862db2f                 1    -1.0   \n",
       "0xd2d9b20d9847a7c96c93c385c8d6e85164700470                 1    -1.0   \n",
       "0x8ba8aa2e7589b8f89c212ea03fea86219b1e3558                 1    -1.0   \n",
       "0x5911035a34855c21dbc1fddf544946c360a43495                 1    -1.0   \n",
       "0x53c0d3811f103200e44f39a0f523046c3116a6dd                 1    -1.0   \n",
       "0xc1bef26ba79174e03d82433384608dc3be04e585                 1    -1.0   \n",
       "0x9c180ea0636010aa85d97b23381f5a7401054b21                 1    -1.0   \n",
       "0xdb2620c92f8e0aef798572ef82dd672040f69635                 1    -1.0   \n",
       "0x400cd82b8c2565fec580ac0910ed2f1241bcaa97                 1    -1.0   \n",
       "0x3c1039f91726c25cb859782b1caa9eafd6bf0e63                 1    -1.0   \n",
       "0xa391ca914b514bcdbe29c3ba54aba34870fe1bd5                 1    -1.0   \n",
       "0x36017ca03dc27cf5ecd3545e6cfda790abe64a69                 1    -1.0   \n",
       "0xa79b0ec9d6e76f7bd1341a174f02e0cf57f8b553                 1    -1.0   \n",
       "0xa900b524a72c9ec986cee19a69fc32f6fb4d44b6                 1    -1.0   \n",
       "0xdbfb6cca29838ea27ab39b58c968d06c5662829f                 1    -1.0   \n",
       "0x7905fac8c765fe3df6c3ff4a4da70521150466b4                 1    -1.0   \n",
       "0x4eaf9f30f1d060da85d11624b9696e28528dad8a                 1     0.0   \n",
       "0x55ffe9070dc748c2efa5885ae40917abe842a811                 1     0.0   \n",
       "0x167479c2d37f5bd4259acaef05e9ca7c948e7eff                 1     0.0   \n",
       "0x783b1cdc98070f7a694feb153f8d880a1f746809                 1     0.0   \n",
       "0x63666dc480b18c840d4990a680759730365861ab                 1     1.0   \n",
       "0x6662b8dc2713dc077a9536f01abcac1e065efa19                 1     1.0   \n",
       "0xed5359a1b3afd86ef23dcc1ddb78c3d990b16edf                 1     1.0   \n",
       "0xd8d6af5e32c7cc39faebfc041063fee4674ba56f                 1     2.0   \n",
       "0xbd4110ecb0372163ffcfcfb3345b579e707c6bdb                 1     2.0   \n",
       "0x519a784ea1ab15dd2342c02a903dde157feaecbe                 1     2.0   \n",
       "0x10befa88586c8a378849dfe932c59939e8548875                 1     2.0   \n",
       "0x09ef42ac46bd91d3039f58ac1c055239c65362c8                 1     2.0   \n",
       "0xb4dacc1c9a7962992b6fcc232c38f1ef3aeb0bb8                 1     2.0   \n",
       "0xe1be43ed60226b11ab1287d074d7b72b56e33367                 1     3.0   \n",
       "0xcc92c8c7c2dbc43fb0d833a62aa2cac44328e08d                 1     3.0   \n",
       "0xfba398e4e02b89f8dc91ada406266d2e9ff31744                 1     3.0   \n",
       "0xf9ec10e88b14702a98d7b578c3589100ba777d77                 1     4.0   \n",
       "0xd18df0005392a67da8419b5d301719f42b26df0d                 1     4.0   \n",
       "0xdcbc43d71674b261b3d0ee76a5dcbfd26e921552                 1     4.0   \n",
       "0x366d0f389109e84209924b444182d052d8ae03ea                 1     4.0   \n",
       "0x0ba57409d04c154b6bc931ea6cee199e3b12444a                 1     4.0   \n",
       "0xba821f0a67a75ce65f215cd16a655b0e2c00aa34                 1     5.0   \n",
       "0xb412778910bf0d66254219dbc64fd4a8797ca280                 1     5.0   \n",
       "0x7d99529cc4f7fd723c16a956f687cf83a6815532                 1     5.0   \n",
       "0x60bcd240135e3cf9901585090d1b08ff1f0c45e4                 1     5.0   \n",
       "0x53b4e9be19bf2dbd56cb4a6616b728327d4875e5                 1     5.0   \n",
       "0x4b3483c855d223141cc6f2a1b1dc82e6618f52ef                 1     5.0   \n",
       "0x67161d3afb0ed471b6651aa4899ae62ca4cfd2cf                 1     6.0   \n",
       "0xb5c1cffe7e6bc981f85aea828392dea7ef042770                 1     6.0   \n",
       "0x7899c25752fbe44d7d62238137194fc0477a6114                 1     6.0   \n",
       "0xa18df49ebc121d2bcf756b40f1b97ce8b835830f                -1     NaN   \n",
       "\n",
       "                                                  type  \n",
       "0x06209554bc06b2bb2a12446c0f0c741da532789c      normal  \n",
       "0x6d03833ed2d9d06dcd27c3b9ca19b84cca97bf37      normal  \n",
       "0x6b6612149a94e04c0d90bc5699ea91e1f862db2f      normal  \n",
       "0xd2d9b20d9847a7c96c93c385c8d6e85164700470      normal  \n",
       "0x8ba8aa2e7589b8f89c212ea03fea86219b1e3558      normal  \n",
       "0x5911035a34855c21dbc1fddf544946c360a43495      normal  \n",
       "0x53c0d3811f103200e44f39a0f523046c3116a6dd      normal  \n",
       "0xc1bef26ba79174e03d82433384608dc3be04e585      normal  \n",
       "0x9c180ea0636010aa85d97b23381f5a7401054b21      normal  \n",
       "0xdb2620c92f8e0aef798572ef82dd672040f69635      normal  \n",
       "0x400cd82b8c2565fec580ac0910ed2f1241bcaa97      normal  \n",
       "0x3c1039f91726c25cb859782b1caa9eafd6bf0e63      normal  \n",
       "0xa391ca914b514bcdbe29c3ba54aba34870fe1bd5      normal  \n",
       "0x36017ca03dc27cf5ecd3545e6cfda790abe64a69      normal  \n",
       "0xa79b0ec9d6e76f7bd1341a174f02e0cf57f8b553      normal  \n",
       "0xa900b524a72c9ec986cee19a69fc32f6fb4d44b6      normal  \n",
       "0xdbfb6cca29838ea27ab39b58c968d06c5662829f      normal  \n",
       "0x7905fac8c765fe3df6c3ff4a4da70521150466b4      normal  \n",
       "0x4eaf9f30f1d060da85d11624b9696e28528dad8a       sybil  \n",
       "0x55ffe9070dc748c2efa5885ae40917abe842a811       sybil  \n",
       "0x167479c2d37f5bd4259acaef05e9ca7c948e7eff       sybil  \n",
       "0x783b1cdc98070f7a694feb153f8d880a1f746809       sybil  \n",
       "0x63666dc480b18c840d4990a680759730365861ab       sybil  \n",
       "0x6662b8dc2713dc077a9536f01abcac1e065efa19       sybil  \n",
       "0xed5359a1b3afd86ef23dcc1ddb78c3d990b16edf       sybil  \n",
       "0xd8d6af5e32c7cc39faebfc041063fee4674ba56f       sybil  \n",
       "0xbd4110ecb0372163ffcfcfb3345b579e707c6bdb       sybil  \n",
       "0x519a784ea1ab15dd2342c02a903dde157feaecbe       sybil  \n",
       "0x10befa88586c8a378849dfe932c59939e8548875       sybil  \n",
       "0x09ef42ac46bd91d3039f58ac1c055239c65362c8       sybil  \n",
       "0xb4dacc1c9a7962992b6fcc232c38f1ef3aeb0bb8       sybil  \n",
       "0xe1be43ed60226b11ab1287d074d7b72b56e33367       sybil  \n",
       "0xcc92c8c7c2dbc43fb0d833a62aa2cac44328e08d       sybil  \n",
       "0xfba398e4e02b89f8dc91ada406266d2e9ff31744       sybil  \n",
       "0xf9ec10e88b14702a98d7b578c3589100ba777d77       sybil  \n",
       "0xd18df0005392a67da8419b5d301719f42b26df0d       sybil  \n",
       "0xdcbc43d71674b261b3d0ee76a5dcbfd26e921552       sybil  \n",
       "0x366d0f389109e84209924b444182d052d8ae03ea       sybil  \n",
       "0x0ba57409d04c154b6bc931ea6cee199e3b12444a       sybil  \n",
       "0xba821f0a67a75ce65f215cd16a655b0e2c00aa34       sybil  \n",
       "0xb412778910bf0d66254219dbc64fd4a8797ca280       sybil  \n",
       "0x7d99529cc4f7fd723c16a956f687cf83a6815532       sybil  \n",
       "0x60bcd240135e3cf9901585090d1b08ff1f0c45e4       sybil  \n",
       "0x53b4e9be19bf2dbd56cb4a6616b728327d4875e5       sybil  \n",
       "0x4b3483c855d223141cc6f2a1b1dc82e6618f52ef       sybil  \n",
       "0x67161d3afb0ed471b6651aa4899ae62ca4cfd2cf       sybil  \n",
       "0xb5c1cffe7e6bc981f85aea828392dea7ef042770       sybil  \n",
       "0x7899c25752fbe44d7d62238137194fc0477a6114       sybil  \n",
       "0xa18df49ebc121d2bcf756b40f1b97ce8b835830f  sybil_core  "
      ]
     },
     "execution_count": 62,
     "metadata": {},
     "output_type": "execute_result"
    }
   ],
   "source": [
    "iso_features = [\"commu_tx_wallets\"]\n",
    "optics_features = [\n",
    "    \"active_days\",\n",
    "    \"total_gas_fee_in_usd\",\n",
    "    \"txn_count\",\n",
    "    \"wallets_interacted\",\n",
    "    \"last_txn_date_int\",\n",
    "]\n",
    "\n",
    "clustered_df = two_step_clustering(\n",
    "    test_df, iso_features, optics_features, core_num = 5, optics_min_samples = 3\n",
    ")\n",
    "print(len(clustered_df))\n",
    "clustered_df.sort_values(by=['optics'])"
   ]
  },
  {
   "cell_type": "code",
   "execution_count": 63,
   "metadata": {},
   "outputs": [
    {
     "data": {
      "application/vnd.plotly.v1+json": {
       "config": {
        "plotlyServerURL": "https://plot.ly"
       },
       "data": [
        {
         "hoverinfo": "text",
         "line": {
          "color": "black",
          "width": 2
         },
         "mode": "lines",
         "text": [
          "weight: 0.6",
          "weight: 0.6",
          "weight: 0.6",
          "weight: 0.6",
          "weight: 0.6",
          "weight: 0.6",
          "weight: 0.6",
          "weight: 0.6",
          "weight: 0.6",
          "weight: 0.6",
          "weight: 0.6",
          "weight: 0.6",
          "weight: 0.6",
          "weight: 0.6",
          "weight: 0.6",
          "weight: 0.6",
          "weight: 0.6",
          "weight: 0.6",
          "weight: 0.6",
          "weight: 0.6",
          "weight: 0.6",
          "weight: 0.6",
          "weight: 0.6",
          "weight: 0.6",
          "weight: 0.6",
          "weight: 0.6",
          "weight: 0.6",
          "weight: 0.6",
          "weight: 0.6",
          "weight: 0.6",
          "weight: 0.6",
          "weight: 0.6",
          "weight: 0.6",
          "weight: 0.6",
          "weight: 0.6",
          "weight: 0.6",
          "weight: 0.6",
          "weight: 0.6",
          "weight: 0.6",
          "weight: 0.6",
          "weight: 0.6",
          "weight: 0.6",
          "weight: 0.6",
          "weight: 0.6",
          "weight: 0.6",
          "weight: 0.6",
          "weight: 0.6",
          "weight: 0.6"
         ],
         "type": "scatter",
         "x": [
          -0.14211699652300686,
          -0.007456428416655613,
          null,
          -0.007456428416655613,
          0.7956625025393712,
          null,
          -0.007456428416655613,
          0.3103915956794593,
          null,
          -0.007456428416655613,
          -0.5591292183146069,
          null,
          -0.007456428416655613,
          -0.952637494408051,
          null,
          -0.007456428416655613,
          -0.8657112707712957,
          null,
          -0.007456428416655613,
          0.035905323465952765,
          null,
          -0.007456428416655613,
          -0.9978640641080655,
          null,
          -0.007456428416655613,
          0.8010550391884802,
          null,
          -0.007456428416655613,
          0.29134721526220525,
          null,
          -0.007456428416655613,
          -0.7455937963569759,
          null,
          -0.007456428416655613,
          0.4962092172779532,
          null,
          -0.007456428416655613,
          0.760528408008894,
          null,
          -0.007456428416655613,
          0.9194927981944357,
          null,
          -0.007456428416655613,
          -0.9764713924495844,
          null,
          -0.007456428416655613,
          -0.7036042022962289,
          null,
          -0.007456428416655613,
          0.8787847109794259,
          null,
          -0.007456428416655613,
          -0.4154731236457795,
          null,
          -0.007456428416655613,
          0.5768202941895836,
          null,
          -0.007456428416655613,
          0.8771782097220129,
          null,
          -0.007456428416655613,
          -0.30358205326098586,
          null,
          -0.09675842297807039,
          -0.007456428416655613,
          null,
          -0.14064037158599388,
          -0.007456428416655613,
          null,
          0.09257541666377651,
          -0.007456428416655613,
          null,
          0.04620969713315131,
          -0.007456428416655613,
          null,
          0.14371434968600216,
          -0.007456428416655613,
          null,
          0.14451548330571018,
          -0.007456428416655613,
          null,
          0.05660321993623486,
          -0.007456428416655613,
          null,
          0.09044131402166218,
          -0.007456428416655613,
          null,
          0.10024939266227517,
          -0.007456428416655613,
          null,
          -0.10254610431303122,
          -0.007456428416655613,
          null,
          -0.0190645686714161,
          -0.007456428416655613,
          null,
          -0.1591090284558245,
          -0.007456428416655613,
          null,
          -0.07049460310088002,
          -0.007456428416655613,
          null,
          -0.06473252683900681,
          -0.007456428416655613,
          null,
          -0.017604043152504127,
          -0.007456428416655613,
          null,
          -0.003769628212897007,
          -0.007456428416655613,
          null,
          0.037091514444641545,
          -0.007456428416655613,
          null,
          0.005263506692582465,
          -0.007456428416655613,
          null,
          0.07526745640120103,
          -0.007456428416655613,
          null,
          -0.05244881409518453,
          -0.007456428416655613,
          null,
          0.05567333926143681,
          -0.007456428416655613,
          null,
          -0.11456425325905766,
          -0.007456428416655613,
          null,
          0.12100041562430287,
          -0.007456428416655613,
          null,
          -0.10843039371892794,
          -0.007456428416655613,
          null,
          -0.06470740946907638,
          -0.007456428416655613,
          null,
          -0.15898727074451438,
          -0.007456428416655613,
          null,
          0.13151705880686987,
          -0.007456428416655613,
          null
         ],
         "y": [
          0.08040166633305824,
          0.011075362663877108,
          null,
          0.011075362663877108,
          0.43978159800388433,
          null,
          0.011075362663877108,
          1,
          null,
          0.011075362663877108,
          -0.8100949332262272,
          null,
          0.011075362663877108,
          0.209524108815632,
          null,
          0.011075362663877108,
          -0.37909710897698906,
          null,
          0.011075362663877108,
          -0.8606636153646436,
          null,
          0.011075362663877108,
          -0.13982151225437475,
          null,
          0.011075362663877108,
          -0.5180874791100343,
          null,
          0.011075362663877108,
          -0.8500300074028391,
          null,
          0.011075362663877108,
          -0.6151715713508533,
          null,
          0.011075362663877108,
          -0.6840794487360939,
          null,
          0.011075362663877108,
          0.6614702348964675,
          null,
          0.011075362663877108,
          0.3008496042872793,
          null,
          0.011075362663877108,
          0.47961840789753535,
          null,
          0.011075362663877108,
          0.8306829552238287,
          null,
          0.011075362663877108,
          -0.24528485113247925,
          null,
          0.011075362663877108,
          0.9042740050296223,
          null,
          0.011075362663877108,
          0.8605092909853488,
          null,
          0.011075362663877108,
          -0.030867325776510333,
          null,
          0.011075362663877108,
          -0.8834863152860924,
          null,
          0.04047341766945767,
          0.011075362663877108,
          null,
          -0.06670794106770005,
          0.011075362663877108,
          null,
          -0.10903832033720431,
          0.011075362663877108,
          null,
          -0.1360905920059915,
          0.011075362663877108,
          null,
          0.029356348172118938,
          0.011075362663877108,
          null,
          -0.022590285146912702,
          0.011075362663877108,
          null,
          -0.06434342212723333,
          0.011075362663877108,
          null,
          -0.0028631472644158763,
          0.011075362663877108,
          null,
          0.12048722140382516,
          0.011075362663877108,
          null,
          -0.0245002250968902,
          0.011075362663877108,
          null,
          0.11814744727084946,
          0.011075362663877108,
          null,
          -0.0167065577619239,
          0.011075362663877108,
          null,
          0.09849372702648594,
          0.011075362663877108,
          null,
          -0.12727059312281397,
          0.011075362663877108,
          null,
          -0.14788280731062464,
          0.011075362663877108,
          null,
          0.16818701986190862,
          0.011075362663877108,
          null,
          0.11066208364784137,
          0.011075362663877108,
          null,
          -0.10295494114670005,
          0.011075362663877108,
          null,
          0.06213411756896385,
          0.011075362663877108,
          null,
          -0.0678220681366447,
          0.011075362663877108,
          null,
          0.15657325182905513,
          0.011075362663877108,
          null,
          0.1241034720326866,
          0.011075362663877108,
          null,
          -0.06672437969226103,
          0.011075362663877108,
          null,
          -0.10474559548570862,
          0.011075362663877108,
          null,
          0.1587291826042842,
          0.011075362663877108,
          null,
          0.033420840884380125,
          0.011075362663877108,
          null,
          0.07796968021177034,
          0.011075362663877108,
          null
         ]
        },
        {
         "hoverinfo": "text",
         "marker": {
          "color": [
           "dodgerblue",
           "yellowgreen",
           "salmon",
           "salmon",
           "salmon",
           "salmon",
           "dodgerblue",
           "salmon",
           "dodgerblue",
           "dodgerblue",
           "salmon",
           "salmon",
           "salmon",
           "salmon",
           "dodgerblue",
           "salmon",
           "dodgerblue",
           "salmon",
           "salmon",
           "salmon",
           "salmon",
           "dodgerblue",
           "dodgerblue",
           "salmon",
           "salmon",
           "dodgerblue",
           "salmon",
           "dodgerblue",
           "dodgerblue",
           "dodgerblue",
           "dodgerblue",
           "dodgerblue",
           "salmon",
           "salmon",
           "salmon",
           "salmon",
           "salmon",
           "dodgerblue",
           "salmon",
           "salmon",
           "dodgerblue",
           "salmon",
           "dodgerblue",
           "dodgerblue",
           "salmon",
           "salmon",
           "salmon",
           "salmon",
           "salmon"
          ],
          "line": {
           "color": "gray",
           "width": 1
          },
          "size": 10
         },
         "mode": "markers",
         "text": [
          "0x06209554bc06b2bb2a12446c0f0c741da532789c",
          "0xa18df49ebc121d2bcf756b40f1b97ce8b835830f",
          "0x09ef42ac46bd91d3039f58ac1c055239c65362c8",
          "0x0ba57409d04c154b6bc931ea6cee199e3b12444a",
          "0x10befa88586c8a378849dfe932c59939e8548875",
          "0x167479c2d37f5bd4259acaef05e9ca7c948e7eff",
          "0x36017ca03dc27cf5ecd3545e6cfda790abe64a69",
          "0x366d0f389109e84209924b444182d052d8ae03ea",
          "0x3c1039f91726c25cb859782b1caa9eafd6bf0e63",
          "0x400cd82b8c2565fec580ac0910ed2f1241bcaa97",
          "0x4b3483c855d223141cc6f2a1b1dc82e6618f52ef",
          "0x4eaf9f30f1d060da85d11624b9696e28528dad8a",
          "0x519a784ea1ab15dd2342c02a903dde157feaecbe",
          "0x53b4e9be19bf2dbd56cb4a6616b728327d4875e5",
          "0x53c0d3811f103200e44f39a0f523046c3116a6dd",
          "0x55ffe9070dc748c2efa5885ae40917abe842a811",
          "0x5911035a34855c21dbc1fddf544946c360a43495",
          "0x60bcd240135e3cf9901585090d1b08ff1f0c45e4",
          "0x63666dc480b18c840d4990a680759730365861ab",
          "0x6662b8dc2713dc077a9536f01abcac1e065efa19",
          "0x67161d3afb0ed471b6651aa4899ae62ca4cfd2cf",
          "0x6b6612149a94e04c0d90bc5699ea91e1f862db2f",
          "0x6d03833ed2d9d06dcd27c3b9ca19b84cca97bf37",
          "0x783b1cdc98070f7a694feb153f8d880a1f746809",
          "0x7899c25752fbe44d7d62238137194fc0477a6114",
          "0x7905fac8c765fe3df6c3ff4a4da70521150466b4",
          "0x7d99529cc4f7fd723c16a956f687cf83a6815532",
          "0x8ba8aa2e7589b8f89c212ea03fea86219b1e3558",
          "0x9c180ea0636010aa85d97b23381f5a7401054b21",
          "0xa391ca914b514bcdbe29c3ba54aba34870fe1bd5",
          "0xa79b0ec9d6e76f7bd1341a174f02e0cf57f8b553",
          "0xa900b524a72c9ec986cee19a69fc32f6fb4d44b6",
          "0xb412778910bf0d66254219dbc64fd4a8797ca280",
          "0xb4dacc1c9a7962992b6fcc232c38f1ef3aeb0bb8",
          "0xb5c1cffe7e6bc981f85aea828392dea7ef042770",
          "0xba821f0a67a75ce65f215cd16a655b0e2c00aa34",
          "0xbd4110ecb0372163ffcfcfb3345b579e707c6bdb",
          "0xc1bef26ba79174e03d82433384608dc3be04e585",
          "0xcc92c8c7c2dbc43fb0d833a62aa2cac44328e08d",
          "0xd18df0005392a67da8419b5d301719f42b26df0d",
          "0xd2d9b20d9847a7c96c93c385c8d6e85164700470",
          "0xd8d6af5e32c7cc39faebfc041063fee4674ba56f",
          "0xdb2620c92f8e0aef798572ef82dd672040f69635",
          "0xdbfb6cca29838ea27ab39b58c968d06c5662829f",
          "0xdcbc43d71674b261b3d0ee76a5dcbfd26e921552",
          "0xe1be43ed60226b11ab1287d074d7b72b56e33367",
          "0xed5359a1b3afd86ef23dcc1ddb78c3d990b16edf",
          "0xf9ec10e88b14702a98d7b578c3589100ba777d77",
          "0xfba398e4e02b89f8dc91ada406266d2e9ff31744"
         ],
         "type": "scatter",
         "x": [
          -0.14211699652300686,
          -0.007456428416655613,
          -0.09675842297807039,
          -0.14064037158599388,
          0.09257541666377651,
          0.04620969713315131,
          0.14371434968600216,
          0.14451548330571018,
          0.05660321993623486,
          0.09044131402166218,
          0.10024939266227517,
          -0.10254610431303122,
          -0.0190645686714161,
          -0.1591090284558245,
          -0.07049460310088002,
          -0.06473252683900681,
          -0.017604043152504127,
          -0.003769628212897007,
          0.037091514444641545,
          0.005263506692582465,
          0.07526745640120103,
          -0.05244881409518453,
          0.05567333926143681,
          -0.11456425325905766,
          0.12100041562430287,
          -0.10843039371892794,
          -0.06470740946907638,
          -0.15898727074451438,
          0.13151705880686987,
          0.7956625025393712,
          0.3103915956794593,
          -0.5591292183146069,
          -0.952637494408051,
          -0.8657112707712957,
          0.035905323465952765,
          -0.9978640641080655,
          0.8010550391884802,
          0.29134721526220525,
          -0.7455937963569759,
          0.4962092172779532,
          0.760528408008894,
          0.9194927981944357,
          -0.9764713924495844,
          -0.7036042022962289,
          0.8787847109794259,
          -0.4154731236457795,
          0.5768202941895836,
          0.8771782097220129,
          -0.30358205326098586
         ],
         "y": [
          0.08040166633305824,
          0.011075362663877108,
          0.04047341766945767,
          -0.06670794106770005,
          -0.10903832033720431,
          -0.1360905920059915,
          0.029356348172118938,
          -0.022590285146912702,
          -0.06434342212723333,
          -0.0028631472644158763,
          0.12048722140382516,
          -0.0245002250968902,
          0.11814744727084946,
          -0.0167065577619239,
          0.09849372702648594,
          -0.12727059312281397,
          -0.14788280731062464,
          0.16818701986190862,
          0.11066208364784137,
          -0.10295494114670005,
          0.06213411756896385,
          -0.0678220681366447,
          0.15657325182905513,
          0.1241034720326866,
          -0.06672437969226103,
          -0.10474559548570862,
          0.1587291826042842,
          0.033420840884380125,
          0.07796968021177034,
          0.43978159800388433,
          1,
          -0.8100949332262272,
          0.209524108815632,
          -0.37909710897698906,
          -0.8606636153646436,
          -0.13982151225437475,
          -0.5180874791100343,
          -0.8500300074028391,
          -0.6151715713508533,
          -0.6840794487360939,
          0.6614702348964675,
          0.3008496042872793,
          0.47961840789753535,
          0.8306829552238287,
          -0.24528485113247925,
          0.9042740050296223,
          0.8605092909853488,
          -0.030867325776510333,
          -0.8834863152860924
         ]
        }
       ],
       "layout": {
        "height": 600,
        "showlegend": false,
        "template": {
         "data": {
          "bar": [
           {
            "error_x": {
             "color": "#2a3f5f"
            },
            "error_y": {
             "color": "#2a3f5f"
            },
            "marker": {
             "line": {
              "color": "#E5ECF6",
              "width": 0.5
             },
             "pattern": {
              "fillmode": "overlay",
              "size": 10,
              "solidity": 0.2
             }
            },
            "type": "bar"
           }
          ],
          "barpolar": [
           {
            "marker": {
             "line": {
              "color": "#E5ECF6",
              "width": 0.5
             },
             "pattern": {
              "fillmode": "overlay",
              "size": 10,
              "solidity": 0.2
             }
            },
            "type": "barpolar"
           }
          ],
          "carpet": [
           {
            "aaxis": {
             "endlinecolor": "#2a3f5f",
             "gridcolor": "white",
             "linecolor": "white",
             "minorgridcolor": "white",
             "startlinecolor": "#2a3f5f"
            },
            "baxis": {
             "endlinecolor": "#2a3f5f",
             "gridcolor": "white",
             "linecolor": "white",
             "minorgridcolor": "white",
             "startlinecolor": "#2a3f5f"
            },
            "type": "carpet"
           }
          ],
          "choropleth": [
           {
            "colorbar": {
             "outlinewidth": 0,
             "ticks": ""
            },
            "type": "choropleth"
           }
          ],
          "contour": [
           {
            "colorbar": {
             "outlinewidth": 0,
             "ticks": ""
            },
            "colorscale": [
             [
              0,
              "#0d0887"
             ],
             [
              0.1111111111111111,
              "#46039f"
             ],
             [
              0.2222222222222222,
              "#7201a8"
             ],
             [
              0.3333333333333333,
              "#9c179e"
             ],
             [
              0.4444444444444444,
              "#bd3786"
             ],
             [
              0.5555555555555556,
              "#d8576b"
             ],
             [
              0.6666666666666666,
              "#ed7953"
             ],
             [
              0.7777777777777778,
              "#fb9f3a"
             ],
             [
              0.8888888888888888,
              "#fdca26"
             ],
             [
              1,
              "#f0f921"
             ]
            ],
            "type": "contour"
           }
          ],
          "contourcarpet": [
           {
            "colorbar": {
             "outlinewidth": 0,
             "ticks": ""
            },
            "type": "contourcarpet"
           }
          ],
          "heatmap": [
           {
            "colorbar": {
             "outlinewidth": 0,
             "ticks": ""
            },
            "colorscale": [
             [
              0,
              "#0d0887"
             ],
             [
              0.1111111111111111,
              "#46039f"
             ],
             [
              0.2222222222222222,
              "#7201a8"
             ],
             [
              0.3333333333333333,
              "#9c179e"
             ],
             [
              0.4444444444444444,
              "#bd3786"
             ],
             [
              0.5555555555555556,
              "#d8576b"
             ],
             [
              0.6666666666666666,
              "#ed7953"
             ],
             [
              0.7777777777777778,
              "#fb9f3a"
             ],
             [
              0.8888888888888888,
              "#fdca26"
             ],
             [
              1,
              "#f0f921"
             ]
            ],
            "type": "heatmap"
           }
          ],
          "heatmapgl": [
           {
            "colorbar": {
             "outlinewidth": 0,
             "ticks": ""
            },
            "colorscale": [
             [
              0,
              "#0d0887"
             ],
             [
              0.1111111111111111,
              "#46039f"
             ],
             [
              0.2222222222222222,
              "#7201a8"
             ],
             [
              0.3333333333333333,
              "#9c179e"
             ],
             [
              0.4444444444444444,
              "#bd3786"
             ],
             [
              0.5555555555555556,
              "#d8576b"
             ],
             [
              0.6666666666666666,
              "#ed7953"
             ],
             [
              0.7777777777777778,
              "#fb9f3a"
             ],
             [
              0.8888888888888888,
              "#fdca26"
             ],
             [
              1,
              "#f0f921"
             ]
            ],
            "type": "heatmapgl"
           }
          ],
          "histogram": [
           {
            "marker": {
             "pattern": {
              "fillmode": "overlay",
              "size": 10,
              "solidity": 0.2
             }
            },
            "type": "histogram"
           }
          ],
          "histogram2d": [
           {
            "colorbar": {
             "outlinewidth": 0,
             "ticks": ""
            },
            "colorscale": [
             [
              0,
              "#0d0887"
             ],
             [
              0.1111111111111111,
              "#46039f"
             ],
             [
              0.2222222222222222,
              "#7201a8"
             ],
             [
              0.3333333333333333,
              "#9c179e"
             ],
             [
              0.4444444444444444,
              "#bd3786"
             ],
             [
              0.5555555555555556,
              "#d8576b"
             ],
             [
              0.6666666666666666,
              "#ed7953"
             ],
             [
              0.7777777777777778,
              "#fb9f3a"
             ],
             [
              0.8888888888888888,
              "#fdca26"
             ],
             [
              1,
              "#f0f921"
             ]
            ],
            "type": "histogram2d"
           }
          ],
          "histogram2dcontour": [
           {
            "colorbar": {
             "outlinewidth": 0,
             "ticks": ""
            },
            "colorscale": [
             [
              0,
              "#0d0887"
             ],
             [
              0.1111111111111111,
              "#46039f"
             ],
             [
              0.2222222222222222,
              "#7201a8"
             ],
             [
              0.3333333333333333,
              "#9c179e"
             ],
             [
              0.4444444444444444,
              "#bd3786"
             ],
             [
              0.5555555555555556,
              "#d8576b"
             ],
             [
              0.6666666666666666,
              "#ed7953"
             ],
             [
              0.7777777777777778,
              "#fb9f3a"
             ],
             [
              0.8888888888888888,
              "#fdca26"
             ],
             [
              1,
              "#f0f921"
             ]
            ],
            "type": "histogram2dcontour"
           }
          ],
          "mesh3d": [
           {
            "colorbar": {
             "outlinewidth": 0,
             "ticks": ""
            },
            "type": "mesh3d"
           }
          ],
          "parcoords": [
           {
            "line": {
             "colorbar": {
              "outlinewidth": 0,
              "ticks": ""
             }
            },
            "type": "parcoords"
           }
          ],
          "pie": [
           {
            "automargin": true,
            "type": "pie"
           }
          ],
          "scatter": [
           {
            "fillpattern": {
             "fillmode": "overlay",
             "size": 10,
             "solidity": 0.2
            },
            "type": "scatter"
           }
          ],
          "scatter3d": [
           {
            "line": {
             "colorbar": {
              "outlinewidth": 0,
              "ticks": ""
             }
            },
            "marker": {
             "colorbar": {
              "outlinewidth": 0,
              "ticks": ""
             }
            },
            "type": "scatter3d"
           }
          ],
          "scattercarpet": [
           {
            "marker": {
             "colorbar": {
              "outlinewidth": 0,
              "ticks": ""
             }
            },
            "type": "scattercarpet"
           }
          ],
          "scattergeo": [
           {
            "marker": {
             "colorbar": {
              "outlinewidth": 0,
              "ticks": ""
             }
            },
            "type": "scattergeo"
           }
          ],
          "scattergl": [
           {
            "marker": {
             "colorbar": {
              "outlinewidth": 0,
              "ticks": ""
             }
            },
            "type": "scattergl"
           }
          ],
          "scattermapbox": [
           {
            "marker": {
             "colorbar": {
              "outlinewidth": 0,
              "ticks": ""
             }
            },
            "type": "scattermapbox"
           }
          ],
          "scatterpolar": [
           {
            "marker": {
             "colorbar": {
              "outlinewidth": 0,
              "ticks": ""
             }
            },
            "type": "scatterpolar"
           }
          ],
          "scatterpolargl": [
           {
            "marker": {
             "colorbar": {
              "outlinewidth": 0,
              "ticks": ""
             }
            },
            "type": "scatterpolargl"
           }
          ],
          "scatterternary": [
           {
            "marker": {
             "colorbar": {
              "outlinewidth": 0,
              "ticks": ""
             }
            },
            "type": "scatterternary"
           }
          ],
          "surface": [
           {
            "colorbar": {
             "outlinewidth": 0,
             "ticks": ""
            },
            "colorscale": [
             [
              0,
              "#0d0887"
             ],
             [
              0.1111111111111111,
              "#46039f"
             ],
             [
              0.2222222222222222,
              "#7201a8"
             ],
             [
              0.3333333333333333,
              "#9c179e"
             ],
             [
              0.4444444444444444,
              "#bd3786"
             ],
             [
              0.5555555555555556,
              "#d8576b"
             ],
             [
              0.6666666666666666,
              "#ed7953"
             ],
             [
              0.7777777777777778,
              "#fb9f3a"
             ],
             [
              0.8888888888888888,
              "#fdca26"
             ],
             [
              1,
              "#f0f921"
             ]
            ],
            "type": "surface"
           }
          ],
          "table": [
           {
            "cells": {
             "fill": {
              "color": "#EBF0F8"
             },
             "line": {
              "color": "white"
             }
            },
            "header": {
             "fill": {
              "color": "#C8D4E3"
             },
             "line": {
              "color": "white"
             }
            },
            "type": "table"
           }
          ]
         },
         "layout": {
          "annotationdefaults": {
           "arrowcolor": "#2a3f5f",
           "arrowhead": 0,
           "arrowwidth": 1
          },
          "autotypenumbers": "strict",
          "coloraxis": {
           "colorbar": {
            "outlinewidth": 0,
            "ticks": ""
           }
          },
          "colorscale": {
           "diverging": [
            [
             0,
             "#8e0152"
            ],
            [
             0.1,
             "#c51b7d"
            ],
            [
             0.2,
             "#de77ae"
            ],
            [
             0.3,
             "#f1b6da"
            ],
            [
             0.4,
             "#fde0ef"
            ],
            [
             0.5,
             "#f7f7f7"
            ],
            [
             0.6,
             "#e6f5d0"
            ],
            [
             0.7,
             "#b8e186"
            ],
            [
             0.8,
             "#7fbc41"
            ],
            [
             0.9,
             "#4d9221"
            ],
            [
             1,
             "#276419"
            ]
           ],
           "sequential": [
            [
             0,
             "#0d0887"
            ],
            [
             0.1111111111111111,
             "#46039f"
            ],
            [
             0.2222222222222222,
             "#7201a8"
            ],
            [
             0.3333333333333333,
             "#9c179e"
            ],
            [
             0.4444444444444444,
             "#bd3786"
            ],
            [
             0.5555555555555556,
             "#d8576b"
            ],
            [
             0.6666666666666666,
             "#ed7953"
            ],
            [
             0.7777777777777778,
             "#fb9f3a"
            ],
            [
             0.8888888888888888,
             "#fdca26"
            ],
            [
             1,
             "#f0f921"
            ]
           ],
           "sequentialminus": [
            [
             0,
             "#0d0887"
            ],
            [
             0.1111111111111111,
             "#46039f"
            ],
            [
             0.2222222222222222,
             "#7201a8"
            ],
            [
             0.3333333333333333,
             "#9c179e"
            ],
            [
             0.4444444444444444,
             "#bd3786"
            ],
            [
             0.5555555555555556,
             "#d8576b"
            ],
            [
             0.6666666666666666,
             "#ed7953"
            ],
            [
             0.7777777777777778,
             "#fb9f3a"
            ],
            [
             0.8888888888888888,
             "#fdca26"
            ],
            [
             1,
             "#f0f921"
            ]
           ]
          },
          "colorway": [
           "#636efa",
           "#EF553B",
           "#00cc96",
           "#ab63fa",
           "#FFA15A",
           "#19d3f3",
           "#FF6692",
           "#B6E880",
           "#FF97FF",
           "#FECB52"
          ],
          "font": {
           "color": "#2a3f5f"
          },
          "geo": {
           "bgcolor": "white",
           "lakecolor": "white",
           "landcolor": "#E5ECF6",
           "showlakes": true,
           "showland": true,
           "subunitcolor": "white"
          },
          "hoverlabel": {
           "align": "left"
          },
          "hovermode": "closest",
          "mapbox": {
           "style": "light"
          },
          "paper_bgcolor": "white",
          "plot_bgcolor": "#E5ECF6",
          "polar": {
           "angularaxis": {
            "gridcolor": "white",
            "linecolor": "white",
            "ticks": ""
           },
           "bgcolor": "#E5ECF6",
           "radialaxis": {
            "gridcolor": "white",
            "linecolor": "white",
            "ticks": ""
           }
          },
          "scene": {
           "xaxis": {
            "backgroundcolor": "#E5ECF6",
            "gridcolor": "white",
            "gridwidth": 2,
            "linecolor": "white",
            "showbackground": true,
            "ticks": "",
            "zerolinecolor": "white"
           },
           "yaxis": {
            "backgroundcolor": "#E5ECF6",
            "gridcolor": "white",
            "gridwidth": 2,
            "linecolor": "white",
            "showbackground": true,
            "ticks": "",
            "zerolinecolor": "white"
           },
           "zaxis": {
            "backgroundcolor": "#E5ECF6",
            "gridcolor": "white",
            "gridwidth": 2,
            "linecolor": "white",
            "showbackground": true,
            "ticks": "",
            "zerolinecolor": "white"
           }
          },
          "shapedefaults": {
           "line": {
            "color": "#2a3f5f"
           }
          },
          "ternary": {
           "aaxis": {
            "gridcolor": "white",
            "linecolor": "white",
            "ticks": ""
           },
           "baxis": {
            "gridcolor": "white",
            "linecolor": "white",
            "ticks": ""
           },
           "bgcolor": "#E5ECF6",
           "caxis": {
            "gridcolor": "white",
            "linecolor": "white",
            "ticks": ""
           }
          },
          "title": {
           "x": 0.05
          },
          "xaxis": {
           "automargin": true,
           "gridcolor": "white",
           "linecolor": "white",
           "ticks": "",
           "title": {
            "standoff": 15
           },
           "zerolinecolor": "white",
           "zerolinewidth": 2
          },
          "yaxis": {
           "automargin": true,
           "gridcolor": "white",
           "linecolor": "white",
           "ticks": "",
           "title": {
            "standoff": 15
           },
           "zerolinecolor": "white",
           "zerolinewidth": 2
          }
         }
        },
        "title": {
         "text": "Community Visualization"
        },
        "width": 600,
        "xaxis": {
         "showgrid": true,
         "zeroline": false
        },
        "yaxis": {
         "showgrid": false,
         "zeroline": false
        }
       }
      }
     },
     "metadata": {},
     "output_type": "display_data"
    }
   ],
   "source": [
    "clustered_core_wallets = clustered_df[\n",
    "    clustered_df[\"type\"] == \"sybil_core\"\n",
    "].index.tolist()\n",
    "clustered_normal_wallets = clustered_df[clustered_df[\"type\"] == \"normal\"].index.tolist()\n",
    "\n",
    "community_visualization_2d(\n",
    "    plot_community_df,\n",
    "    clustered_core_wallets,\n",
    "    clustered_normal_wallets,\n",
    "    weight_=600,\n",
    "    height_=600,\n",
    ")"
   ]
  },
  {
   "cell_type": "code",
   "execution_count": 232,
   "metadata": {},
   "outputs": [],
   "source": [
    "ttt = louvain_community_df.copy()\n",
    "ttt[\"type\"] = \"normal\"\n",
    "ttt[\"type\"].update(clustered_df[\"type\"])"
   ]
  },
  {
   "cell_type": "code",
   "execution_count": 233,
   "metadata": {},
   "outputs": [
    {
     "data": {
      "text/plain": [
       "normal        25194\n",
       "sybil             3\n",
       "sybil_core        1\n",
       "Name: type, dtype: int64"
      ]
     },
     "execution_count": 233,
     "metadata": {},
     "output_type": "execute_result"
    }
   ],
   "source": [
    "ttt[\"type\"].value_counts()"
   ]
  },
  {
   "cell_type": "code",
   "execution_count": null,
   "metadata": {},
   "outputs": [],
   "source": []
  },
  {
   "cell_type": "code",
   "execution_count": null,
   "metadata": {},
   "outputs": [],
   "source": []
  },
  {
   "cell_type": "code",
   "execution_count": null,
   "metadata": {},
   "outputs": [],
   "source": []
  },
  {
   "cell_type": "code",
   "execution_count": null,
   "metadata": {},
   "outputs": [],
   "source": []
  },
  {
   "cell_type": "code",
   "execution_count": null,
   "metadata": {},
   "outputs": [],
   "source": []
  },
  {
   "cell_type": "code",
   "execution_count": null,
   "metadata": {},
   "outputs": [],
   "source": []
  },
  {
   "cell_type": "code",
   "execution_count": null,
   "metadata": {},
   "outputs": [],
   "source": []
  },
  {
   "cell_type": "code",
   "execution_count": null,
   "metadata": {},
   "outputs": [],
   "source": []
  },
  {
   "cell_type": "code",
   "execution_count": null,
   "metadata": {},
   "outputs": [],
   "source": []
  },
  {
   "cell_type": "code",
   "execution_count": null,
   "metadata": {},
   "outputs": [],
   "source": []
  },
  {
   "cell_type": "code",
   "execution_count": null,
   "metadata": {},
   "outputs": [],
   "source": []
  },
  {
   "cell_type": "code",
   "execution_count": null,
   "metadata": {},
   "outputs": [],
   "source": []
  }
 ],
 "metadata": {
  "kernelspec": {
   "display_name": "base",
   "language": "python",
   "name": "python3"
  },
  "language_info": {
   "codemirror_mode": {
    "name": "ipython",
    "version": 3
   },
   "file_extension": ".py",
   "mimetype": "text/x-python",
   "name": "python",
   "nbconvert_exporter": "python",
   "pygments_lexer": "ipython3",
   "version": "3.12.4"
  }
 },
 "nbformat": 4,
 "nbformat_minor": 2
}
