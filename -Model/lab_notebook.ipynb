{
 "cells": [
  {
   "cell_type": "code",
   "execution_count": null,
   "metadata": {},
   "outputs": [],
   "source": []
  },
  {
   "cell_type": "code",
   "execution_count": null,
   "metadata": {},
   "outputs": [],
   "source": []
  },
  {
   "cell_type": "code",
   "execution_count": 2,
   "metadata": {},
   "outputs": [
    {
     "name": "stdout",
     "output_type": "stream",
     "text": [
      "Note: to be able to use all crisp methods, you need to install some additional packages:  {'bayanpy', 'graph_tool'}\n",
      "Note: to be able to use all crisp methods, you need to install some additional packages:  {'ASLPAw', 'pyclustering'}\n"
     ]
    }
   ],
   "source": [
    "import pandas as pd\n",
    "import numpy as np\n",
    "import os\n",
    "import importlib\n",
    "import sybil_functions\n",
    "import trino_fetch_results\n",
    "from collections import Counter\n",
    "from concurrent.futures import ThreadPoolExecutor\n",
    "import networkx as nx\n",
    "from cdlib import algorithms\n",
    "import networkx as nx\n",
    "import plotly.graph_objects as go\n",
    "from sklearn.preprocessing import StandardScaler\n",
    "from sklearn.cluster import OPTICS\n",
    "from sklearn.ensemble import IsolationForest\n",
    "import matplotlib.pyplot as plt\n",
    "\n",
    "\n",
    "importlib.reload(sybil_functions)\n",
    "importlib.reload(trino_fetch_results)\n",
    "\n",
    "\n",
    "from sybil_functions import (\n",
    "    read_from_multiple_csv,\n",
    "    check_df,\n",
    "    count_pairs,\n",
    "    remove_contract_transactions,\n",
    "    stretched_sigmoid,\n",
    "    get_weight_df,\n",
    "    plot_weight_dist,\n",
    "    plot_weight_cumulative_dist,\n",
    "    create_community,\n",
    "    community_visualization,\n",
    "    file_name_lst,\n",
    "    random_rate,\n",
    "    find_main_wallet,\n",
    "    find_transfer_for_wallet,\n",
    "    find_commu_for_wallet,\n",
    "    uncommon_wallets,\n",
    "    filter_community_lst,\n",
    "    expand_community_lst,\n",
    "    calculate_likelihoods,\n",
    "    check_contract,\n",
    ")\n",
    "\n",
    "from trino_fetch_results import (\n",
    "    check_frequent_wallets,\n",
    "    wallets_monthly_info,\n",
    "    wallets_last_info,\n",
    ")"
   ]
  },
  {
   "cell_type": "markdown",
   "metadata": {},
   "source": [
    "# Import Data"
   ]
  },
  {
   "cell_type": "code",
   "execution_count": 3,
   "metadata": {},
   "outputs": [
    {
     "data": {
      "text/html": [
       "<div>\n",
       "<style scoped>\n",
       "    .dataframe tbody tr th:only-of-type {\n",
       "        vertical-align: middle;\n",
       "    }\n",
       "\n",
       "    .dataframe tbody tr th {\n",
       "        vertical-align: top;\n",
       "    }\n",
       "\n",
       "    .dataframe thead th {\n",
       "        text-align: right;\n",
       "    }\n",
       "</style>\n",
       "<table border=\"1\" class=\"dataframe\">\n",
       "  <thead>\n",
       "    <tr style=\"text-align: right;\">\n",
       "      <th></th>\n",
       "      <th>email</th>\n",
       "      <th>uuid</th>\n",
       "      <th>uuid.1</th>\n",
       "      <th>moca_id</th>\n",
       "      <th>id</th>\n",
       "      <th>name</th>\n",
       "      <th>abstract_account_address</th>\n",
       "      <th>web3auth_wallet_address</th>\n",
       "      <th>address</th>\n",
       "      <th>id.1</th>\n",
       "      <th>uuid.2</th>\n",
       "      <th>user_id</th>\n",
       "    </tr>\n",
       "  </thead>\n",
       "  <tbody>\n",
       "    <tr>\n",
       "      <th>0</th>\n",
       "      <td>NaN</td>\n",
       "      <td>0016e1a3-0cdf-475b-b921-2d121453bece</td>\n",
       "      <td>0016e1a3-0cdf-475b-b921-2d121453bece</td>\n",
       "      <td>kppytiuynykiboo</td>\n",
       "      <td>7418689.0</td>\n",
       "      <td>kppytiuynykiboo</td>\n",
       "      <td>0x4b5591379a65c0180103f421cce640c679d1d9d8</td>\n",
       "      <td>0xc0f32955a9b37e6c1fa235a4f330c2d23545af88</td>\n",
       "      <td>0xc0f32955a9b37e6c1fa235a4f330c2d23545af88</td>\n",
       "      <td>590112.0</td>\n",
       "      <td>2d45d118-3d6f-4c7f-930d-5c9f3d56f612</td>\n",
       "      <td>7418689.0</td>\n",
       "    </tr>\n",
       "    <tr>\n",
       "      <th>1</th>\n",
       "      <td>semidmitrii@gmail.com</td>\n",
       "      <td>00284435-f796-45ad-8c61-5cf4a5417043</td>\n",
       "      <td>00284435-f796-45ad-8c61-5cf4a5417043</td>\n",
       "      <td>therock</td>\n",
       "      <td>25939.0</td>\n",
       "      <td>therock</td>\n",
       "      <td>0x3f1f1694941ebea878fe9e88b048dcb6f0c8f07b</td>\n",
       "      <td>0x5335b140366404b2bd875339322de16f9cd9651c</td>\n",
       "      <td>0xe23308c15434f903825112035cc1d26914fab078</td>\n",
       "      <td>60816.0</td>\n",
       "      <td>6ee964db-f14c-49ad-84db-84d937463cb3</td>\n",
       "      <td>25939.0</td>\n",
       "    </tr>\n",
       "    <tr>\n",
       "      <th>2</th>\n",
       "      <td>NaN</td>\n",
       "      <td>0048b42e-7630-42a2-9633-9ee78c35f2eb</td>\n",
       "      <td>0048b42e-7630-42a2-9633-9ee78c35f2eb</td>\n",
       "      <td>mocae</td>\n",
       "      <td>7361874.0</td>\n",
       "      <td>mocae</td>\n",
       "      <td>0x38c24c4158033ef3967f102748cba1d56079bd31</td>\n",
       "      <td>0x9c590bb4e0ffb4c9adfc03dfa2ee2484502ce067</td>\n",
       "      <td>0x9c590bb4e0ffb4c9adfc03dfa2ee2484502ce067</td>\n",
       "      <td>43567.0</td>\n",
       "      <td>5cbe41a2-b90c-43cb-9560-af5cb0cb2b2f</td>\n",
       "      <td>7361874.0</td>\n",
       "    </tr>\n",
       "    <tr>\n",
       "      <th>3</th>\n",
       "      <td>NaN</td>\n",
       "      <td>00799be0-8c24-4f0b-a442-bbb1279a63d3</td>\n",
       "      <td>00799be0-8c24-4f0b-a442-bbb1279a63d3</td>\n",
       "      <td>accelerando</td>\n",
       "      <td>8000019.0</td>\n",
       "      <td>accelerando</td>\n",
       "      <td>0xd86b10033c4d718b9b5f330ab270cd17c31cba97</td>\n",
       "      <td>0xaa6c6d0ed231da328814c2b7853d2e4350b70000</td>\n",
       "      <td>0xaa6c6d0ed231da328814c2b7853d2e4350b70000</td>\n",
       "      <td>294969.0</td>\n",
       "      <td>182f98d8-9098-4763-be3d-4e47985beb8f</td>\n",
       "      <td>8000019.0</td>\n",
       "    </tr>\n",
       "    <tr>\n",
       "      <th>4</th>\n",
       "      <td>NaN</td>\n",
       "      <td>00799be0-8c24-4f0b-a442-bbb1279a63d3</td>\n",
       "      <td>00799be0-8c24-4f0b-a442-bbb1279a63d3</td>\n",
       "      <td>accelerando</td>\n",
       "      <td>8000019.0</td>\n",
       "      <td>accelerando</td>\n",
       "      <td>0xd86b10033c4d718b9b5f330ab270cd17c31cba97</td>\n",
       "      <td>0xaa6c6d0ed231da328814c2b7853d2e4350b70000</td>\n",
       "      <td>0xd1f01c4bc479967f4dbde0a73f961dd14afa524f</td>\n",
       "      <td>343872.0</td>\n",
       "      <td>abe31f57-dcd4-4bec-a434-414e2c0d2181</td>\n",
       "      <td>8000019.0</td>\n",
       "    </tr>\n",
       "  </tbody>\n",
       "</table>\n",
       "</div>"
      ],
      "text/plain": [
       "                   email                                  uuid  \\\n",
       "0                    NaN  0016e1a3-0cdf-475b-b921-2d121453bece   \n",
       "1  semidmitrii@gmail.com  00284435-f796-45ad-8c61-5cf4a5417043   \n",
       "2                    NaN  0048b42e-7630-42a2-9633-9ee78c35f2eb   \n",
       "3                    NaN  00799be0-8c24-4f0b-a442-bbb1279a63d3   \n",
       "4                    NaN  00799be0-8c24-4f0b-a442-bbb1279a63d3   \n",
       "\n",
       "                                 uuid.1          moca_id         id  \\\n",
       "0  0016e1a3-0cdf-475b-b921-2d121453bece  kppytiuynykiboo  7418689.0   \n",
       "1  00284435-f796-45ad-8c61-5cf4a5417043          therock    25939.0   \n",
       "2  0048b42e-7630-42a2-9633-9ee78c35f2eb            mocae  7361874.0   \n",
       "3  00799be0-8c24-4f0b-a442-bbb1279a63d3      accelerando  8000019.0   \n",
       "4  00799be0-8c24-4f0b-a442-bbb1279a63d3      accelerando  8000019.0   \n",
       "\n",
       "              name                    abstract_account_address  \\\n",
       "0  kppytiuynykiboo  0x4b5591379a65c0180103f421cce640c679d1d9d8   \n",
       "1          therock  0x3f1f1694941ebea878fe9e88b048dcb6f0c8f07b   \n",
       "2            mocae  0x38c24c4158033ef3967f102748cba1d56079bd31   \n",
       "3      accelerando  0xd86b10033c4d718b9b5f330ab270cd17c31cba97   \n",
       "4      accelerando  0xd86b10033c4d718b9b5f330ab270cd17c31cba97   \n",
       "\n",
       "                      web3auth_wallet_address  \\\n",
       "0  0xc0f32955a9b37e6c1fa235a4f330c2d23545af88   \n",
       "1  0x5335b140366404b2bd875339322de16f9cd9651c   \n",
       "2  0x9c590bb4e0ffb4c9adfc03dfa2ee2484502ce067   \n",
       "3  0xaa6c6d0ed231da328814c2b7853d2e4350b70000   \n",
       "4  0xaa6c6d0ed231da328814c2b7853d2e4350b70000   \n",
       "\n",
       "                                      address      id.1  \\\n",
       "0  0xc0f32955a9b37e6c1fa235a4f330c2d23545af88  590112.0   \n",
       "1  0xe23308c15434f903825112035cc1d26914fab078   60816.0   \n",
       "2  0x9c590bb4e0ffb4c9adfc03dfa2ee2484502ce067   43567.0   \n",
       "3  0xaa6c6d0ed231da328814c2b7853d2e4350b70000  294969.0   \n",
       "4  0xd1f01c4bc479967f4dbde0a73f961dd14afa524f  343872.0   \n",
       "\n",
       "                                 uuid.2    user_id  \n",
       "0  2d45d118-3d6f-4c7f-930d-5c9f3d56f612  7418689.0  \n",
       "1  6ee964db-f14c-49ad-84db-84d937463cb3    25939.0  \n",
       "2  5cbe41a2-b90c-43cb-9560-af5cb0cb2b2f  7361874.0  \n",
       "3  182f98d8-9098-4763-be3d-4e47985beb8f  8000019.0  \n",
       "4  abe31f57-dcd4-4bec-a434-414e2c0d2181  8000019.0  "
      ]
     },
     "execution_count": 3,
     "metadata": {},
     "output_type": "execute_result"
    }
   ],
   "source": [
    "# core wallet df\n",
    "core_wallet_df = pd.read_excel(\n",
    "    \"/Users/floras/Desktop/unique-user/moca-airdrop/data/moca_airdrop_user_info.xlsx\"\n",
    ")\n",
    "core_wallet_df.head()"
   ]
  },
  {
   "cell_type": "code",
   "execution_count": 4,
   "metadata": {},
   "outputs": [],
   "source": [
    "# Get core wallet list\n",
    "core_wallet_lst = core_wallet_df[\"address\"].tolist()\n",
    "# Get core wallet set\n",
    "core_wallet_set = set(core_wallet_lst)"
   ]
  },
  {
   "cell_type": "code",
   "execution_count": 5,
   "metadata": {},
   "outputs": [],
   "source": [
    "# Import transaction data\n",
    "native_trans_path = \"/Users/floras/Desktop/unique-user/moca-airdrop/data/raw-data\"\n",
    "native_trans_file_lst = file_name_lst(\n",
    "    native_trans_path, startswith=\"native_m1\", endswith=\".csv\"\n",
    ")"
   ]
  },
  {
   "cell_type": "code",
   "execution_count": 97,
   "metadata": {},
   "outputs": [
    {
     "name": "stdout",
     "output_type": "stream",
     "text": [
      "(28137, 4)\n"
     ]
    },
    {
     "data": {
      "text/html": [
       "<div>\n",
       "<style scoped>\n",
       "    .dataframe tbody tr th:only-of-type {\n",
       "        vertical-align: middle;\n",
       "    }\n",
       "\n",
       "    .dataframe tbody tr th {\n",
       "        vertical-align: top;\n",
       "    }\n",
       "\n",
       "    .dataframe thead th {\n",
       "        text-align: right;\n",
       "    }\n",
       "</style>\n",
       "<table border=\"1\" class=\"dataframe\">\n",
       "  <thead>\n",
       "    <tr style=\"text-align: right;\">\n",
       "      <th></th>\n",
       "      <th>timestamp</th>\n",
       "      <th>from_address</th>\n",
       "      <th>to_address</th>\n",
       "      <th>tx_count</th>\n",
       "    </tr>\n",
       "  </thead>\n",
       "  <tbody>\n",
       "    <tr>\n",
       "      <th>0</th>\n",
       "      <td>2024-01-01 00:00:00.000 UTC</td>\n",
       "      <td>0xf3a8ae48c5029aab66f65be26ece0ff43bd1486f</td>\n",
       "      <td>0x25c805eaa831a0c98f45580e50676e041dcc87b8</td>\n",
       "      <td>1</td>\n",
       "    </tr>\n",
       "    <tr>\n",
       "      <th>1</th>\n",
       "      <td>2024-01-01 00:00:00.000 UTC</td>\n",
       "      <td>0xc888aea684b1d8f3b832f356dfc84bf0a1dc3406</td>\n",
       "      <td>0x9347ea27d20da04fa3af9444ebd086c73ff6553b</td>\n",
       "      <td>2</td>\n",
       "    </tr>\n",
       "    <tr>\n",
       "      <th>2</th>\n",
       "      <td>2024-01-01 00:00:00.000 UTC</td>\n",
       "      <td>0xb6f7f9326d631133c2b16e8822e6320ccfc34e23</td>\n",
       "      <td>0x852c2bd9230dcbf2a704d36b96a33c45e07ca192</td>\n",
       "      <td>1</td>\n",
       "    </tr>\n",
       "    <tr>\n",
       "      <th>3</th>\n",
       "      <td>2024-01-01 00:00:00.000 UTC</td>\n",
       "      <td>0x6bf7891adc8822aa26de1665887cccf921d475b8</td>\n",
       "      <td>0xd4118ba3793e1c20d6136bee2539ca011691d010</td>\n",
       "      <td>2</td>\n",
       "    </tr>\n",
       "    <tr>\n",
       "      <th>4</th>\n",
       "      <td>2024-01-01 00:00:00.000 UTC</td>\n",
       "      <td>0x077d360f11d220e4d5d831430c81c26c9be7c4a4</td>\n",
       "      <td>0x1f1bab9c578d92a10e2a061f86a9e6f74f25a8b5</td>\n",
       "      <td>1</td>\n",
       "    </tr>\n",
       "  </tbody>\n",
       "</table>\n",
       "</div>"
      ],
      "text/plain": [
       "                     timestamp                                from_address  \\\n",
       "0  2024-01-01 00:00:00.000 UTC  0xf3a8ae48c5029aab66f65be26ece0ff43bd1486f   \n",
       "1  2024-01-01 00:00:00.000 UTC  0xc888aea684b1d8f3b832f356dfc84bf0a1dc3406   \n",
       "2  2024-01-01 00:00:00.000 UTC  0xb6f7f9326d631133c2b16e8822e6320ccfc34e23   \n",
       "3  2024-01-01 00:00:00.000 UTC  0x6bf7891adc8822aa26de1665887cccf921d475b8   \n",
       "4  2024-01-01 00:00:00.000 UTC  0x077d360f11d220e4d5d831430c81c26c9be7c4a4   \n",
       "\n",
       "                                   to_address  tx_count  \n",
       "0  0x25c805eaa831a0c98f45580e50676e041dcc87b8         1  \n",
       "1  0x9347ea27d20da04fa3af9444ebd086c73ff6553b         2  \n",
       "2  0x852c2bd9230dcbf2a704d36b96a33c45e07ca192         1  \n",
       "3  0xd4118ba3793e1c20d6136bee2539ca011691d010         2  \n",
       "4  0x1f1bab9c578d92a10e2a061f86a9e6f74f25a8b5         1  "
      ]
     },
     "execution_count": 97,
     "metadata": {},
     "output_type": "execute_result"
    }
   ],
   "source": [
    "native_trans_df_0 = read_from_multiple_csv(native_trans_path, native_trans_file_lst)\n",
    "native_trans_df_0.columns = [\n",
    "    \"timestamp\",\n",
    "    \"from_address\",\n",
    "    \"to_address\",\n",
    "    \"tx_count\",\n",
    "]\n",
    "# remove self transactions\n",
    "native_trans_df_0 = native_trans_df_0[\n",
    "    native_trans_df_0[\"from_address\"] != native_trans_df_0[\"to_address\"]\n",
    "]\n",
    "print(native_trans_df_0.shape)\n",
    "native_trans_df_0.head()"
   ]
  },
  {
   "cell_type": "markdown",
   "metadata": {},
   "source": [
    "# remove contract/hot wallets & transactions"
   ]
  },
  {
   "cell_type": "markdown",
   "metadata": {},
   "source": [
    "## Define wallets to be checked based on the number of interacted wallets"
   ]
  },
  {
   "cell_type": "code",
   "execution_count": 98,
   "metadata": {},
   "outputs": [],
   "source": [
    "def columns_unique_items(df, column_name_lst):\n",
    "    unique_items = []\n",
    "    for column_name in column_name_lst:\n",
    "        unique_items.extend(df[column_name].unique().tolist())\n",
    "    return list(set(unique_items))"
   ]
  },
  {
   "cell_type": "code",
   "execution_count": 99,
   "metadata": {},
   "outputs": [],
   "source": [
    "all_wallets = columns_unique_items(native_trans_df_0, [\"from_address\", \"to_address\"])"
   ]
  },
  {
   "cell_type": "code",
   "execution_count": 100,
   "metadata": {},
   "outputs": [],
   "source": [
    "def columns_item_count(unique_pairs_df, w_cols=[\"wallet_a\", \"wallet_b\"]):\n",
    "    # Flatten the selected columns into a single list\n",
    "    wallet_z = unique_pairs_df[w_cols].values.flatten()\n",
    "    # Count occurrences of each wallet using Counter\n",
    "    wallet_z_count = Counter(wallet_z)\n",
    "    # Convert the Counter object into a DataFrame\n",
    "    wallet_z_count_df = pd.DataFrame(\n",
    "        wallet_z_count.items(), columns=[\"wallet\", \"interacted_wallets\"]\n",
    "    )\n",
    "    # Return the resulting DataFrame\n",
    "    return wallet_z_count_df"
   ]
  },
  {
   "cell_type": "code",
   "execution_count": 101,
   "metadata": {},
   "outputs": [],
   "source": [
    "def columns_item_unique_pairs(\n",
    "    raw_transaction_df, address_cols=[\"from_address\", \"to_address\"]\n",
    "):\n",
    "    # Ensure input columns are present in the DataFrame\n",
    "    if not all(col in raw_transaction_df.columns for col in address_cols):\n",
    "        raise ValueError(f\"Columns {address_cols} not found in the DataFrame.\")\n",
    "\n",
    "    # Convert the columns to strings to ensure consistent dtype\n",
    "    raw_transaction_df[address_cols] = raw_transaction_df[address_cols].astype(str)\n",
    "    # Create sorted pairs using numpy operations (faster than apply)\n",
    "    pairs = np.sort(raw_transaction_df[address_cols].to_numpy(dtype=str), axis=1)\n",
    "    # Deduplicate pairs using numpy.unique\n",
    "    unique_pairs = np.unique(pairs, axis=0)\n",
    "    # Create a DataFrame for unique pairs\n",
    "    unique_pairs_df = pd.DataFrame(unique_pairs, columns=[\"wallet_a\", \"wallet_b\"])\n",
    "\n",
    "    return unique_pairs_df"
   ]
  },
  {
   "cell_type": "code",
   "execution_count": 102,
   "metadata": {},
   "outputs": [],
   "source": [
    "def columns_item_unique_pair_counts(\n",
    "    raw_transaction_df, address_cols=[\"from_address\", \"to_address\"]\n",
    "):\n",
    "    unique_pairs_df = columns_item_unique_pairs(raw_transaction_df, address_cols)\n",
    "    # Use the optimized columns_item_count function\n",
    "    wallet_count = columns_item_count(unique_pairs_df, w_cols=[\"wallet_a\", \"wallet_b\"])\n",
    "    # Reset index before returning\n",
    "    wallet_count.reset_index(drop=True, inplace=True)\n",
    "    return wallet_count"
   ]
  },
  {
   "cell_type": "code",
   "execution_count": 103,
   "metadata": {},
   "outputs": [
    {
     "data": {
      "text/html": [
       "<div>\n",
       "<style scoped>\n",
       "    .dataframe tbody tr th:only-of-type {\n",
       "        vertical-align: middle;\n",
       "    }\n",
       "\n",
       "    .dataframe tbody tr th {\n",
       "        vertical-align: top;\n",
       "    }\n",
       "\n",
       "    .dataframe thead th {\n",
       "        text-align: right;\n",
       "    }\n",
       "</style>\n",
       "<table border=\"1\" class=\"dataframe\">\n",
       "  <thead>\n",
       "    <tr style=\"text-align: right;\">\n",
       "      <th></th>\n",
       "      <th>wallet</th>\n",
       "      <th>interacted_wallets</th>\n",
       "    </tr>\n",
       "  </thead>\n",
       "  <tbody>\n",
       "    <tr>\n",
       "      <th>0</th>\n",
       "      <td>0x00000002f32c0886ee65d68059fbdb76ef6a6996</td>\n",
       "      <td>5</td>\n",
       "    </tr>\n",
       "    <tr>\n",
       "      <th>1</th>\n",
       "      <td>0x04f23cfd959b1f8aaf492e1d44c4c567102cf7db</td>\n",
       "      <td>3</td>\n",
       "    </tr>\n",
       "    <tr>\n",
       "      <th>2</th>\n",
       "      <td>0x7fd06d484a0d6ae974c3b45e1e63ff9ee5160889</td>\n",
       "      <td>3</td>\n",
       "    </tr>\n",
       "    <tr>\n",
       "      <th>3</th>\n",
       "      <td>0x8888889e0adf6c5afe2d5a6af91d31984365a1aa</td>\n",
       "      <td>3</td>\n",
       "    </tr>\n",
       "    <tr>\n",
       "      <th>4</th>\n",
       "      <td>0xe43888320d5361ce4357d0dccdb2aee4ad99b9a0</td>\n",
       "      <td>20</td>\n",
       "    </tr>\n",
       "  </tbody>\n",
       "</table>\n",
       "</div>"
      ],
      "text/plain": [
       "                                       wallet  interacted_wallets\n",
       "0  0x00000002f32c0886ee65d68059fbdb76ef6a6996                   5\n",
       "1  0x04f23cfd959b1f8aaf492e1d44c4c567102cf7db                   3\n",
       "2  0x7fd06d484a0d6ae974c3b45e1e63ff9ee5160889                   3\n",
       "3  0x8888889e0adf6c5afe2d5a6af91d31984365a1aa                   3\n",
       "4  0xe43888320d5361ce4357d0dccdb2aee4ad99b9a0                  20"
      ]
     },
     "execution_count": 103,
     "metadata": {},
     "output_type": "execute_result"
    }
   ],
   "source": [
    "sample_wallet_pair_count_df = columns_item_unique_pair_counts(native_trans_df_0)\n",
    "sample_wallet_pair_count_df.head()"
   ]
  },
  {
   "cell_type": "code",
   "execution_count": 104,
   "metadata": {},
   "outputs": [
    {
     "data": {
      "text/plain": [
       "['0x00000002f32c0886ee65d68059fbdb76ef6a6996',\n",
       " '0x04f23cfd959b1f8aaf492e1d44c4c567102cf7db',\n",
       " '0x7fd06d484a0d6ae974c3b45e1e63ff9ee5160889',\n",
       " '0x8888889e0adf6c5afe2d5a6af91d31984365a1aa',\n",
       " '0xe43888320d5361ce4357d0dccdb2aee4ad99b9a0']"
      ]
     },
     "execution_count": 104,
     "metadata": {},
     "output_type": "execute_result"
    }
   ],
   "source": [
    "check_contract_wallet_lst = sample_wallet_pair_count_df[\n",
    "    sample_wallet_pair_count_df[\"interacted_wallets\"] > 1\n",
    "][\"wallet\"].tolist()\n",
    "check_contract_wallet_lst[:5]"
   ]
  },
  {
   "cell_type": "code",
   "execution_count": 105,
   "metadata": {},
   "outputs": [],
   "source": [
    "def refine_lst(lst, exclude_lst):\n",
    "    exclude_set = set(exclude_lst)\n",
    "    return [x for x in lst if x not in exclude_set]"
   ]
  },
  {
   "cell_type": "code",
   "execution_count": 106,
   "metadata": {},
   "outputs": [],
   "source": [
    "# remove core wallets from check_contract_wallet_lst\n",
    "check_contract_wallet_lst = refine_lst(check_contract_wallet_lst, core_wallet_lst)"
   ]
  },
  {
   "cell_type": "markdown",
   "metadata": {},
   "source": [
    "## get contract wallets list"
   ]
  },
  {
   "cell_type": "code",
   "execution_count": 107,
   "metadata": {},
   "outputs": [],
   "source": [
    "def check_contract_wallet_addresses(wallet_addresses, max_threads=10):\n",
    "    contract_wallets = []\n",
    "    with ThreadPoolExecutor(max_threads) as executor:\n",
    "        # Submit tasks for concurrent execution\n",
    "        futures = [\n",
    "            executor.submit(check_contract, wallet) for wallet in wallet_addresses\n",
    "        ]\n",
    "        for future in futures:\n",
    "            results = future.result()\n",
    "            if results:\n",
    "                contract_wallets.append(results)\n",
    "    return contract_wallets"
   ]
  },
  {
   "cell_type": "code",
   "execution_count": 108,
   "metadata": {},
   "outputs": [
    {
     "data": {
      "text/plain": [
       "[]"
      ]
     },
     "execution_count": 108,
     "metadata": {},
     "output_type": "execute_result"
    }
   ],
   "source": [
    "check_contract_wallet_addresses(check_contract_wallet_lst[:10])"
   ]
  },
  {
   "cell_type": "markdown",
   "metadata": {},
   "source": [
    "## get hot wallets list"
   ]
  },
  {
   "cell_type": "code",
   "execution_count": 109,
   "metadata": {},
   "outputs": [
    {
     "data": {
      "text/plain": [
       "['0x3b5a23f6207d87b423c6789d2625ea620423b32d',\n",
       " '0xdd3cb5c974601bc3974d908ea4a86020f9999e0c']"
      ]
     },
     "execution_count": 109,
     "metadata": {},
     "output_type": "execute_result"
    }
   ],
   "source": [
    "check_frequent_wallets(\n",
    "    check_contract_wallet_lst[10:15], start_date_=\"2024-12-01\", end_date_=\"2024-12-02\"\n",
    ")"
   ]
  },
  {
   "cell_type": "markdown",
   "metadata": {},
   "source": [
    "## remove contract/hot transactions"
   ]
  },
  {
   "cell_type": "code",
   "execution_count": 110,
   "metadata": {},
   "outputs": [],
   "source": [
    "def filter_blacklist_transactions(df, col_lst, contract_lst):\n",
    "    for col in col_lst:\n",
    "        df = df[~df[col].isin(contract_lst)]\n",
    "    return df"
   ]
  },
  {
   "cell_type": "markdown",
   "metadata": {},
   "source": [
    "# Define weight"
   ]
  },
  {
   "cell_type": "code",
   "execution_count": 111,
   "metadata": {},
   "outputs": [],
   "source": [
    "def columns_item_unique_pair_sums(\n",
    "    raw_transaction_df, address_cols=[\"from_address\", \"to_address\"], sum_col=\"tx_count\"\n",
    "):\n",
    "    raw_transaction_df[\"pair\"] = raw_transaction_df[address_cols].apply(\n",
    "        lambda x: tuple(sorted(x)), axis=1\n",
    "    )\n",
    "    unique_pair_sums = raw_transaction_df.groupby(\"pair\")[sum_col].sum().reset_index()\n",
    "    unique_pair_sums[\"node_a\"] = unique_pair_sums[\"pair\"].apply(lambda x: x[0])\n",
    "    unique_pair_sums[\"node_b\"] = unique_pair_sums[\"pair\"].apply(lambda x: x[1])\n",
    "    unique_pair_sums.drop(columns=[\"pair\"], inplace=True)\n",
    "    return unique_pair_sums"
   ]
  },
  {
   "cell_type": "code",
   "execution_count": 112,
   "metadata": {},
   "outputs": [],
   "source": [
    "def sigmoid_weight_transform(df, turning_point=2, col=\"tx_count\"):\n",
    "    df[\"weight\"] = df[col].apply(lambda x: stretched_sigmoid(x, 2 / turning_point))\n",
    "    return df"
   ]
  },
  {
   "cell_type": "code",
   "execution_count": 113,
   "metadata": {},
   "outputs": [
    {
     "data": {
      "text/html": [
       "<div>\n",
       "<style scoped>\n",
       "    .dataframe tbody tr th:only-of-type {\n",
       "        vertical-align: middle;\n",
       "    }\n",
       "\n",
       "    .dataframe tbody tr th {\n",
       "        vertical-align: top;\n",
       "    }\n",
       "\n",
       "    .dataframe thead th {\n",
       "        text-align: right;\n",
       "    }\n",
       "</style>\n",
       "<table border=\"1\" class=\"dataframe\">\n",
       "  <thead>\n",
       "    <tr style=\"text-align: right;\">\n",
       "      <th></th>\n",
       "      <th>tx_count</th>\n",
       "      <th>node_a</th>\n",
       "      <th>node_b</th>\n",
       "      <th>weight</th>\n",
       "    </tr>\n",
       "  </thead>\n",
       "  <tbody>\n",
       "    <tr>\n",
       "      <th>0</th>\n",
       "      <td>2</td>\n",
       "      <td>0x00000002f32c0886ee65d68059fbdb76ef6a6996</td>\n",
       "      <td>0x04f23cfd959b1f8aaf492e1d44c4c567102cf7db</td>\n",
       "      <td>0.689974</td>\n",
       "    </tr>\n",
       "    <tr>\n",
       "      <th>1</th>\n",
       "      <td>3</td>\n",
       "      <td>0x00000002f32c0886ee65d68059fbdb76ef6a6996</td>\n",
       "      <td>0x7fd06d484a0d6ae974c3b45e1e63ff9ee5160889</td>\n",
       "      <td>0.768525</td>\n",
       "    </tr>\n",
       "    <tr>\n",
       "      <th>2</th>\n",
       "      <td>1</td>\n",
       "      <td>0x00000002f32c0886ee65d68059fbdb76ef6a6996</td>\n",
       "      <td>0x8888889e0adf6c5afe2d5a6af91d31984365a1aa</td>\n",
       "      <td>0.598688</td>\n",
       "    </tr>\n",
       "    <tr>\n",
       "      <th>3</th>\n",
       "      <td>4</td>\n",
       "      <td>0x00000002f32c0886ee65d68059fbdb76ef6a6996</td>\n",
       "      <td>0xe43888320d5361ce4357d0dccdb2aee4ad99b9a0</td>\n",
       "      <td>0.832018</td>\n",
       "    </tr>\n",
       "    <tr>\n",
       "      <th>4</th>\n",
       "      <td>3</td>\n",
       "      <td>0x00000002f32c0886ee65d68059fbdb76ef6a6996</td>\n",
       "      <td>0xf36e5c04cdb9b465ce44e125c679f9d7a7fc799a</td>\n",
       "      <td>0.768525</td>\n",
       "    </tr>\n",
       "  </tbody>\n",
       "</table>\n",
       "</div>"
      ],
      "text/plain": [
       "   tx_count                                      node_a  \\\n",
       "0         2  0x00000002f32c0886ee65d68059fbdb76ef6a6996   \n",
       "1         3  0x00000002f32c0886ee65d68059fbdb76ef6a6996   \n",
       "2         1  0x00000002f32c0886ee65d68059fbdb76ef6a6996   \n",
       "3         4  0x00000002f32c0886ee65d68059fbdb76ef6a6996   \n",
       "4         3  0x00000002f32c0886ee65d68059fbdb76ef6a6996   \n",
       "\n",
       "                                       node_b    weight  \n",
       "0  0x04f23cfd959b1f8aaf492e1d44c4c567102cf7db  0.689974  \n",
       "1  0x7fd06d484a0d6ae974c3b45e1e63ff9ee5160889  0.768525  \n",
       "2  0x8888889e0adf6c5afe2d5a6af91d31984365a1aa  0.598688  \n",
       "3  0xe43888320d5361ce4357d0dccdb2aee4ad99b9a0  0.832018  \n",
       "4  0xf36e5c04cdb9b465ce44e125c679f9d7a7fc799a  0.768525  "
      ]
     },
     "execution_count": 113,
     "metadata": {},
     "output_type": "execute_result"
    }
   ],
   "source": [
    "weight_df = columns_item_unique_pair_sums(native_trans_df_0)\n",
    "weight_df = sigmoid_weight_transform(weight_df, 5)\n",
    "weight_df.head()"
   ]
  },
  {
   "cell_type": "markdown",
   "metadata": {},
   "source": [
    "# build community"
   ]
  },
  {
   "cell_type": "code",
   "execution_count": 114,
   "metadata": {},
   "outputs": [],
   "source": [
    "def louvain_community_lst_func(\n",
    "    df, resolution=1, node_cols=[\"node_a\", \"node_b\"], weight_col=\"weight\"\n",
    "):\n",
    "    unique_wallets_num = len(columns_unique_items(df, node_cols))\n",
    "    num_edges = df.shape[0]\n",
    "    print(f\"Number of unique wallets: {unique_wallets_num}\")\n",
    "    print(f\"Number of edges: {num_edges}\")\n",
    "\n",
    "    # Create a graph\n",
    "    G = nx.Graph()\n",
    "\n",
    "    # Add edges to the graph\n",
    "    for _, row in df.iterrows():\n",
    "        G.add_edge(row[node_cols[0]], row[node_cols[1]], weight=row[weight_col])\n",
    "\n",
    "    communities = algorithms.louvain(G, weight=weight_col, resolution=resolution)\n",
    "\n",
    "    communities_list = communities.communities\n",
    "    print(f\"Number of communities detected: {len(communities_list)}\")\n",
    "    print(\"-\")\n",
    "    display(pd.Series([len(community) for community in communities_list]).describe())\n",
    "    print(\"\")\n",
    "\n",
    "    communities_list = sorted(communities_list, key=lambda x: len(x), reverse=True)\n",
    "\n",
    "    return communities_list"
   ]
  },
  {
   "cell_type": "code",
   "execution_count": 115,
   "metadata": {},
   "outputs": [],
   "source": [
    "def nested_lst_to_loc_dict(nested_lst_):\n",
    "    loc_dict = {}\n",
    "    for i, commu in enumerate(nested_lst_):\n",
    "        for w in commu:\n",
    "            loc_dict[w] = i\n",
    "    return loc_dict"
   ]
  },
  {
   "cell_type": "code",
   "execution_count": 145,
   "metadata": {},
   "outputs": [
    {
     "name": "stdout",
     "output_type": "stream",
     "text": [
      "Number of unique wallets: 25198\n",
      "Number of edges: 23489\n",
      "Number of communities detected: 7107\n",
      "-\n"
     ]
    },
    {
     "data": {
      "text/plain": [
       "count    7107.000000\n",
       "mean        3.545519\n",
       "std         5.137896\n",
       "min         1.000000\n",
       "25%         1.000000\n",
       "50%         2.000000\n",
       "75%         4.000000\n",
       "max       102.000000\n",
       "dtype: float64"
      ]
     },
     "metadata": {},
     "output_type": "display_data"
    },
    {
     "name": "stdout",
     "output_type": "stream",
     "text": [
      "\n"
     ]
    }
   ],
   "source": [
    "louvain_community_lst = louvain_community_lst_func(weight_df, resolution=200)"
   ]
  },
  {
   "cell_type": "code",
   "execution_count": 234,
   "metadata": {},
   "outputs": [],
   "source": [
    "def louvain_community_df_func(louvain_community_lst_):\n",
    "    louvain_community_df_ = nested_lst_to_loc_dict(louvain_community_lst_)\n",
    "    louvain_community_df_ = pd.DataFrame.from_dict(\n",
    "        louvain_community_df_, orient=\"index\", columns=[\"community\"]\n",
    "    )\n",
    "    louvain_community_df_[\"type\"] = \"normal\"\n",
    "    return louvain_community_df_"
   ]
  },
  {
   "cell_type": "code",
   "execution_count": 236,
   "metadata": {},
   "outputs": [
    {
     "data": {
      "text/html": [
       "<div>\n",
       "<style scoped>\n",
       "    .dataframe tbody tr th:only-of-type {\n",
       "        vertical-align: middle;\n",
       "    }\n",
       "\n",
       "    .dataframe tbody tr th {\n",
       "        vertical-align: top;\n",
       "    }\n",
       "\n",
       "    .dataframe thead th {\n",
       "        text-align: right;\n",
       "    }\n",
       "</style>\n",
       "<table border=\"1\" class=\"dataframe\">\n",
       "  <thead>\n",
       "    <tr style=\"text-align: right;\">\n",
       "      <th></th>\n",
       "      <th>community</th>\n",
       "      <th>type</th>\n",
       "    </tr>\n",
       "  </thead>\n",
       "  <tbody>\n",
       "    <tr>\n",
       "      <th>0x031c605262ec85aec6f793a5dd13bf21b6464af8</th>\n",
       "      <td>0</td>\n",
       "      <td>normal</td>\n",
       "    </tr>\n",
       "    <tr>\n",
       "      <th>0xb5a260659533ed9fe659b8c4254e4ff37047eadd</th>\n",
       "      <td>0</td>\n",
       "      <td>normal</td>\n",
       "    </tr>\n",
       "    <tr>\n",
       "      <th>0x04531b9d88da0eb58bb379637d4a914bdc122fdf</th>\n",
       "      <td>0</td>\n",
       "      <td>normal</td>\n",
       "    </tr>\n",
       "    <tr>\n",
       "      <th>0x0886b7d1549b70144eee26f05cf937259a3002d7</th>\n",
       "      <td>0</td>\n",
       "      <td>normal</td>\n",
       "    </tr>\n",
       "    <tr>\n",
       "      <th>0x112bcd74c8664cedbc0357f0021dfd485c891393</th>\n",
       "      <td>0</td>\n",
       "      <td>normal</td>\n",
       "    </tr>\n",
       "    <tr>\n",
       "      <th>...</th>\n",
       "      <td>...</td>\n",
       "      <td>...</td>\n",
       "    </tr>\n",
       "    <tr>\n",
       "      <th>0xfd6c69023c610350d6135b190ffb15b04a7aa9f2</th>\n",
       "      <td>7102</td>\n",
       "      <td>normal</td>\n",
       "    </tr>\n",
       "    <tr>\n",
       "      <th>0xfe603af99a456eff9a34cd9b29e5a5db9ffd4927</th>\n",
       "      <td>7103</td>\n",
       "      <td>normal</td>\n",
       "    </tr>\n",
       "    <tr>\n",
       "      <th>0xfe8da89113f28f65d71ee7b79de3b65704784529</th>\n",
       "      <td>7104</td>\n",
       "      <td>normal</td>\n",
       "    </tr>\n",
       "    <tr>\n",
       "      <th>0xff60fa1389cafb68b0537d69c981f5c4409977e7</th>\n",
       "      <td>7105</td>\n",
       "      <td>normal</td>\n",
       "    </tr>\n",
       "    <tr>\n",
       "      <th>0xff77e7c66386fb41e3bc18db814a459f0fece9b9</th>\n",
       "      <td>7106</td>\n",
       "      <td>normal</td>\n",
       "    </tr>\n",
       "  </tbody>\n",
       "</table>\n",
       "<p>25198 rows × 2 columns</p>\n",
       "</div>"
      ],
      "text/plain": [
       "                                            community    type\n",
       "0x031c605262ec85aec6f793a5dd13bf21b6464af8          0  normal\n",
       "0xb5a260659533ed9fe659b8c4254e4ff37047eadd          0  normal\n",
       "0x04531b9d88da0eb58bb379637d4a914bdc122fdf          0  normal\n",
       "0x0886b7d1549b70144eee26f05cf937259a3002d7          0  normal\n",
       "0x112bcd74c8664cedbc0357f0021dfd485c891393          0  normal\n",
       "...                                               ...     ...\n",
       "0xfd6c69023c610350d6135b190ffb15b04a7aa9f2       7102  normal\n",
       "0xfe603af99a456eff9a34cd9b29e5a5db9ffd4927       7103  normal\n",
       "0xfe8da89113f28f65d71ee7b79de3b65704784529       7104  normal\n",
       "0xff60fa1389cafb68b0537d69c981f5c4409977e7       7105  normal\n",
       "0xff77e7c66386fb41e3bc18db814a459f0fece9b9       7106  normal\n",
       "\n",
       "[25198 rows x 2 columns]"
      ]
     },
     "execution_count": 236,
     "metadata": {},
     "output_type": "execute_result"
    }
   ],
   "source": [
    "louvain_community_df = louvain_community_df_func(louvain_community_lst)\n",
    "louvain_community_df"
   ]
  },
  {
   "cell_type": "markdown",
   "metadata": {},
   "source": [
    "### plot a community"
   ]
  },
  {
   "cell_type": "code",
   "execution_count": 368,
   "metadata": {},
   "outputs": [
    {
     "name": "stdout",
     "output_type": "stream",
     "text": [
      "(20, 4)\n"
     ]
    },
    {
     "data": {
      "text/html": [
       "<div>\n",
       "<style scoped>\n",
       "    .dataframe tbody tr th:only-of-type {\n",
       "        vertical-align: middle;\n",
       "    }\n",
       "\n",
       "    .dataframe tbody tr th {\n",
       "        vertical-align: top;\n",
       "    }\n",
       "\n",
       "    .dataframe thead th {\n",
       "        text-align: right;\n",
       "    }\n",
       "</style>\n",
       "<table border=\"1\" class=\"dataframe\">\n",
       "  <thead>\n",
       "    <tr style=\"text-align: right;\">\n",
       "      <th></th>\n",
       "      <th>tx_count</th>\n",
       "      <th>node_a</th>\n",
       "      <th>node_b</th>\n",
       "      <th>weight</th>\n",
       "    </tr>\n",
       "  </thead>\n",
       "  <tbody>\n",
       "    <tr>\n",
       "      <th>1372</th>\n",
       "      <td>2</td>\n",
       "      <td>0x05415963e593fcfbab4cd6b01340fc495047423f</td>\n",
       "      <td>0x1650683e50e075efc778be4d1a6be929f3831719</td>\n",
       "      <td>0.689974</td>\n",
       "    </tr>\n",
       "    <tr>\n",
       "      <th>1373</th>\n",
       "      <td>1</td>\n",
       "      <td>0x05415963e593fcfbab4cd6b01340fc495047423f</td>\n",
       "      <td>0x36e242d81187123c4860c7e86874c23a8a21b6ad</td>\n",
       "      <td>0.598688</td>\n",
       "    </tr>\n",
       "    <tr>\n",
       "      <th>1377</th>\n",
       "      <td>2</td>\n",
       "      <td>0x05415963e593fcfbab4cd6b01340fc495047423f</td>\n",
       "      <td>0x8e202d4b77ac50343e753d898a2ef965f79abaa7</td>\n",
       "      <td>0.689974</td>\n",
       "    </tr>\n",
       "    <tr>\n",
       "      <th>1378</th>\n",
       "      <td>1</td>\n",
       "      <td>0x05415963e593fcfbab4cd6b01340fc495047423f</td>\n",
       "      <td>0xc132d6439a1a139f9a10e56150c00f448c370a61</td>\n",
       "      <td>0.598688</td>\n",
       "    </tr>\n",
       "    <tr>\n",
       "      <th>4463</th>\n",
       "      <td>1</td>\n",
       "      <td>0x1650683e50e075efc778be4d1a6be929f3831719</td>\n",
       "      <td>0x1c1bd8c213ecf004ace7866e12abc405a19b3ae3</td>\n",
       "      <td>0.598688</td>\n",
       "    </tr>\n",
       "    <tr>\n",
       "      <th>4465</th>\n",
       "      <td>1</td>\n",
       "      <td>0x1650683e50e075efc778be4d1a6be929f3831719</td>\n",
       "      <td>0x268766bd81e082b0a8e671fa950525f57b096b3b</td>\n",
       "      <td>0.598688</td>\n",
       "    </tr>\n",
       "    <tr>\n",
       "      <th>4466</th>\n",
       "      <td>1</td>\n",
       "      <td>0x1650683e50e075efc778be4d1a6be929f3831719</td>\n",
       "      <td>0x449d04edc47f0b69477f6876815230264f76e1d6</td>\n",
       "      <td>0.598688</td>\n",
       "    </tr>\n",
       "    <tr>\n",
       "      <th>4467</th>\n",
       "      <td>1</td>\n",
       "      <td>0x1650683e50e075efc778be4d1a6be929f3831719</td>\n",
       "      <td>0x73d05eb78a200b1400b882939aab240dfcd6a824</td>\n",
       "      <td>0.598688</td>\n",
       "    </tr>\n",
       "    <tr>\n",
       "      <th>4468</th>\n",
       "      <td>2</td>\n",
       "      <td>0x1650683e50e075efc778be4d1a6be929f3831719</td>\n",
       "      <td>0x8e7fef28b08e6845fbeabd972a3bd963939ab54a</td>\n",
       "      <td>0.689974</td>\n",
       "    </tr>\n",
       "    <tr>\n",
       "      <th>4469</th>\n",
       "      <td>1</td>\n",
       "      <td>0x1650683e50e075efc778be4d1a6be929f3831719</td>\n",
       "      <td>0xa17c6c6af848ac474f99480fda8564356896b3e3</td>\n",
       "      <td>0.598688</td>\n",
       "    </tr>\n",
       "    <tr>\n",
       "      <th>4470</th>\n",
       "      <td>1</td>\n",
       "      <td>0x1650683e50e075efc778be4d1a6be929f3831719</td>\n",
       "      <td>0xa314d23820cb18d2956c2e65a816b9b545215d54</td>\n",
       "      <td>0.598688</td>\n",
       "    </tr>\n",
       "    <tr>\n",
       "      <th>4473</th>\n",
       "      <td>1</td>\n",
       "      <td>0x1650683e50e075efc778be4d1a6be929f3831719</td>\n",
       "      <td>0xc9f8ce0fc268949b70d55a055db879ed8d9656af</td>\n",
       "      <td>0.598688</td>\n",
       "    </tr>\n",
       "    <tr>\n",
       "      <th>4474</th>\n",
       "      <td>1</td>\n",
       "      <td>0x1650683e50e075efc778be4d1a6be929f3831719</td>\n",
       "      <td>0xebcd250474c27cbad3c56f3f34e08f97b370ac2d</td>\n",
       "      <td>0.598688</td>\n",
       "    </tr>\n",
       "    <tr>\n",
       "      <th>5501</th>\n",
       "      <td>1</td>\n",
       "      <td>0x1c1bd8c213ecf004ace7866e12abc405a19b3ae3</td>\n",
       "      <td>0x4465358bfedabdc99f0a20c5d42b4945a79af03a</td>\n",
       "      <td>0.598688</td>\n",
       "    </tr>\n",
       "    <tr>\n",
       "      <th>6015</th>\n",
       "      <td>1</td>\n",
       "      <td>0x205473a3ce9780d87b0a4ae8a1a4311a87a82dae</td>\n",
       "      <td>0xebcd250474c27cbad3c56f3f34e08f97b370ac2d</td>\n",
       "      <td>0.598688</td>\n",
       "    </tr>\n",
       "    <tr>\n",
       "      <th>9148</th>\n",
       "      <td>1</td>\n",
       "      <td>0x32e1e3bf7e47c3d26245499c4effaf556b07fcee</td>\n",
       "      <td>0x73d05eb78a200b1400b882939aab240dfcd6a824</td>\n",
       "      <td>0.598688</td>\n",
       "    </tr>\n",
       "    <tr>\n",
       "      <th>11231</th>\n",
       "      <td>1</td>\n",
       "      <td>0x40c4fc6b017b91b501a5218f6f3868498b94fb3d</td>\n",
       "      <td>0xa314d23820cb18d2956c2e65a816b9b545215d54</td>\n",
       "      <td>0.598688</td>\n",
       "    </tr>\n",
       "    <tr>\n",
       "      <th>11310</th>\n",
       "      <td>1</td>\n",
       "      <td>0x41b44a79dbf04ae0d82abc1cb9da87f2e4cda591</td>\n",
       "      <td>0xc9f8ce0fc268949b70d55a055db879ed8d9656af</td>\n",
       "      <td>0.598688</td>\n",
       "    </tr>\n",
       "    <tr>\n",
       "      <th>11612</th>\n",
       "      <td>1</td>\n",
       "      <td>0x449d04edc47f0b69477f6876815230264f76e1d6</td>\n",
       "      <td>0x96fe34bcb9ee96a014ccc441434429fe1d522640</td>\n",
       "      <td>0.598688</td>\n",
       "    </tr>\n",
       "    <tr>\n",
       "      <th>15651</th>\n",
       "      <td>1</td>\n",
       "      <td>0x647530bb6b399caeaaf27670c2b9b5f7431fbb96</td>\n",
       "      <td>0xc9f8ce0fc268949b70d55a055db879ed8d9656af</td>\n",
       "      <td>0.598688</td>\n",
       "    </tr>\n",
       "  </tbody>\n",
       "</table>\n",
       "</div>"
      ],
      "text/plain": [
       "       tx_count                                      node_a  \\\n",
       "1372          2  0x05415963e593fcfbab4cd6b01340fc495047423f   \n",
       "1373          1  0x05415963e593fcfbab4cd6b01340fc495047423f   \n",
       "1377          2  0x05415963e593fcfbab4cd6b01340fc495047423f   \n",
       "1378          1  0x05415963e593fcfbab4cd6b01340fc495047423f   \n",
       "4463          1  0x1650683e50e075efc778be4d1a6be929f3831719   \n",
       "4465          1  0x1650683e50e075efc778be4d1a6be929f3831719   \n",
       "4466          1  0x1650683e50e075efc778be4d1a6be929f3831719   \n",
       "4467          1  0x1650683e50e075efc778be4d1a6be929f3831719   \n",
       "4468          2  0x1650683e50e075efc778be4d1a6be929f3831719   \n",
       "4469          1  0x1650683e50e075efc778be4d1a6be929f3831719   \n",
       "4470          1  0x1650683e50e075efc778be4d1a6be929f3831719   \n",
       "4473          1  0x1650683e50e075efc778be4d1a6be929f3831719   \n",
       "4474          1  0x1650683e50e075efc778be4d1a6be929f3831719   \n",
       "5501          1  0x1c1bd8c213ecf004ace7866e12abc405a19b3ae3   \n",
       "6015          1  0x205473a3ce9780d87b0a4ae8a1a4311a87a82dae   \n",
       "9148          1  0x32e1e3bf7e47c3d26245499c4effaf556b07fcee   \n",
       "11231         1  0x40c4fc6b017b91b501a5218f6f3868498b94fb3d   \n",
       "11310         1  0x41b44a79dbf04ae0d82abc1cb9da87f2e4cda591   \n",
       "11612         1  0x449d04edc47f0b69477f6876815230264f76e1d6   \n",
       "15651         1  0x647530bb6b399caeaaf27670c2b9b5f7431fbb96   \n",
       "\n",
       "                                           node_b    weight  \n",
       "1372   0x1650683e50e075efc778be4d1a6be929f3831719  0.689974  \n",
       "1373   0x36e242d81187123c4860c7e86874c23a8a21b6ad  0.598688  \n",
       "1377   0x8e202d4b77ac50343e753d898a2ef965f79abaa7  0.689974  \n",
       "1378   0xc132d6439a1a139f9a10e56150c00f448c370a61  0.598688  \n",
       "4463   0x1c1bd8c213ecf004ace7866e12abc405a19b3ae3  0.598688  \n",
       "4465   0x268766bd81e082b0a8e671fa950525f57b096b3b  0.598688  \n",
       "4466   0x449d04edc47f0b69477f6876815230264f76e1d6  0.598688  \n",
       "4467   0x73d05eb78a200b1400b882939aab240dfcd6a824  0.598688  \n",
       "4468   0x8e7fef28b08e6845fbeabd972a3bd963939ab54a  0.689974  \n",
       "4469   0xa17c6c6af848ac474f99480fda8564356896b3e3  0.598688  \n",
       "4470   0xa314d23820cb18d2956c2e65a816b9b545215d54  0.598688  \n",
       "4473   0xc9f8ce0fc268949b70d55a055db879ed8d9656af  0.598688  \n",
       "4474   0xebcd250474c27cbad3c56f3f34e08f97b370ac2d  0.598688  \n",
       "5501   0x4465358bfedabdc99f0a20c5d42b4945a79af03a  0.598688  \n",
       "6015   0xebcd250474c27cbad3c56f3f34e08f97b370ac2d  0.598688  \n",
       "9148   0x73d05eb78a200b1400b882939aab240dfcd6a824  0.598688  \n",
       "11231  0xa314d23820cb18d2956c2e65a816b9b545215d54  0.598688  \n",
       "11310  0xc9f8ce0fc268949b70d55a055db879ed8d9656af  0.598688  \n",
       "11612  0x96fe34bcb9ee96a014ccc441434429fe1d522640  0.598688  \n",
       "15651  0xc9f8ce0fc268949b70d55a055db879ed8d9656af  0.598688  "
      ]
     },
     "execution_count": 368,
     "metadata": {},
     "output_type": "execute_result"
    }
   ],
   "source": [
    "plot_community_lst = louvain_community_lst[85]\n",
    "plot_community_df = weight_df[\n",
    "    weight_df[\"node_a\"].isin(plot_community_lst)\n",
    "    & weight_df[\"node_b\"].isin(plot_community_lst)\n",
    "]\n",
    "print(plot_community_df.shape)\n",
    "plot_community_df"
   ]
  },
  {
   "cell_type": "code",
   "execution_count": 201,
   "metadata": {},
   "outputs": [],
   "source": [
    "def community_visualization_2d(\n",
    "    df,\n",
    "    highlight_lst,\n",
    "    highlight_lst_2_=None,\n",
    "    source_col=\"node_a\",\n",
    "    target_col=\"node_b\",\n",
    "    weight_col=\"weight\",\n",
    "    weight_=800,\n",
    "    height_=800,\n",
    "):\n",
    "    # Create a directed graph\n",
    "    Gt = nx.from_pandas_edgelist(\n",
    "        df,\n",
    "        source=source_col,\n",
    "        target=target_col,\n",
    "        edge_attr=weight_col,\n",
    "        create_using=nx.DiGraph(),\n",
    "    )\n",
    "\n",
    "    # Generate 2D positions for nodes\n",
    "    pos = nx.spring_layout(Gt, weight=weight_col)\n",
    "\n",
    "    # Extract node and edge positions\n",
    "    edge_x = []\n",
    "    edge_y = []\n",
    "    edge_text = []  # List to hold weight information for hover\n",
    "    for edge in Gt.edges(data=True):\n",
    "        x0, y0 = pos[edge[0]]\n",
    "        x1, y1 = pos[edge[1]]\n",
    "        edge_x.extend([x0, x1, None])\n",
    "        edge_y.extend([y0, y1, None])\n",
    "        edge_text.append(f\"weight: {round(edge[2][weight_col], 2)}\")\n",
    "\n",
    "    node_x = [pos[node][0] for node in Gt.nodes()]\n",
    "    node_y = [pos[node][1] for node in Gt.nodes()]\n",
    "\n",
    "    # Determine node colors based on the DataFrame\n",
    "    node_colors = []\n",
    "    for node in Gt.nodes():\n",
    "        if node in highlight_lst:\n",
    "            node_colors.append(\"yellowgreen\")  # True condition\n",
    "        elif highlight_lst_2_ and node in highlight_lst_2_:\n",
    "            node_colors.append(\"dodgerblue\")  # False condition\n",
    "        else:\n",
    "            node_colors.append(\"salmon\")\n",
    "\n",
    "    # Create Plotly figure\n",
    "    fig = go.Figure()\n",
    "\n",
    "    # Add edges\n",
    "    fig.add_trace(\n",
    "        go.Scatter(\n",
    "            x=edge_x,\n",
    "            y=edge_y,\n",
    "            mode=\"lines\",\n",
    "            line=dict(color=\"black\", width=2),\n",
    "            hoverinfo=\"text\",\n",
    "            text=edge_text,  # Add edge weights to hover info\n",
    "        )\n",
    "    )\n",
    "\n",
    "    # Add nodes\n",
    "    fig.add_trace(\n",
    "        go.Scatter(\n",
    "            x=node_x,\n",
    "            y=node_y,\n",
    "            mode=\"markers\",\n",
    "            marker=dict(size=10, color=node_colors, line=dict(width=1, color=\"gray\")),\n",
    "            text=list(Gt.nodes()),  # Show node labels\n",
    "            hoverinfo=\"text\",\n",
    "        )\n",
    "    )\n",
    "\n",
    "    # Update layout\n",
    "    fig.update_layout(\n",
    "        showlegend=False,\n",
    "        width=weight_,\n",
    "        height=height_,\n",
    "        xaxis=dict(showgrid=True, zeroline=False),\n",
    "        yaxis=dict(showgrid=False, zeroline=False),\n",
    "        # plot_bgcolor=\"lightgray\",\n",
    "        title=\"Community Visualization\",\n",
    "    )\n",
    "\n",
    "    # Show the plot\n",
    "    fig.show()"
   ]
  },
  {
   "cell_type": "code",
   "execution_count": 369,
   "metadata": {},
   "outputs": [
    {
     "data": {
      "application/vnd.plotly.v1+json": {
       "config": {
        "plotlyServerURL": "https://plot.ly"
       },
       "data": [
        {
         "hoverinfo": "text",
         "line": {
          "color": "black",
          "width": 2
         },
         "mode": "lines",
         "text": [
          "weight: 0.69",
          "weight: 0.6",
          "weight: 0.69",
          "weight: 0.6",
          "weight: 0.6",
          "weight: 0.6",
          "weight: 0.6",
          "weight: 0.6",
          "weight: 0.69",
          "weight: 0.6",
          "weight: 0.6",
          "weight: 0.6",
          "weight: 0.6",
          "weight: 0.6",
          "weight: 0.6",
          "weight: 0.6",
          "weight: 0.6",
          "weight: 0.6",
          "weight: 0.6",
          "weight: 0.6"
         ],
         "type": "scatter",
         "x": [
          -0.4216038944832564,
          0.15625215630320446,
          null,
          -0.4216038944832564,
          -0.9520415167197197,
          null,
          -0.4216038944832564,
          -0.7891174505180156,
          null,
          -0.4216038944832564,
          -0.15636658483457058,
          null,
          0.15625215630320446,
          0.4563814590910078,
          null,
          0.15625215630320446,
          0.8375628262671622,
          null,
          0.15625215630320446,
          0.20420613142980354,
          null,
          0.15625215630320446,
          -0.4739712043449448,
          null,
          0.15625215630320446,
          0.5984924770045769,
          null,
          0.15625215630320446,
          0.8085097699287483,
          null,
          0.15625215630320446,
          -0.2126959154485728,
          null,
          0.15625215630320446,
          0.35709204727017624,
          null,
          0.15625215630320446,
          -0.5824803754161787,
          null,
          0.4563814590910078,
          0.6660806318675996,
          null,
          0.20420613142980354,
          0.2780683709044401,
          null,
          -0.5850768972449785,
          -0.5824803754161787,
          null,
          -0.543893138253664,
          -0.4739712043449448,
          null,
          -0.07035772969862142,
          -0.2126959154485728,
          null,
          0.286214301373894,
          0.35709204727017624,
          null,
          0.13874453552190988,
          0.35709204727017624,
          null
         ],
         "y": [
          -0.18533972440181337,
          0.010649961231641164,
          null,
          -0.18533972440181337,
          -0.34310501077338607,
          null,
          -0.18533972440181337,
          0.5199850790706495,
          null,
          -0.18533972440181337,
          -1,
          null,
          0.010649961231641164,
          0.2211167521300714,
          null,
          0.010649961231641164,
          0.16993087198574433,
          null,
          0.010649961231641164,
          -0.6671662004547625,
          null,
          0.010649961231641164,
          -0.7174543294765294,
          null,
          0.010649961231641164,
          -0.5815789826473462,
          null,
          0.010649961231641164,
          -0.23562894651717978,
          null,
          0.010649961231641164,
          0.8130381585828738,
          null,
          0.010649961231641164,
          0.699154548465634,
          null,
          0.010649961231641164,
          0.517031658591586,
          null,
          0.2211167521300714,
          0.379377934584036,
          null,
          -0.6671662004547625,
          -0.8852981612182854,
          null,
          0.4054378451681424,
          0.517031658591586,
          null,
          -0.7963229086690536,
          -0.7174543294765294,
          null,
          0.5438728545545467,
          0.8130381585828738,
          null,
          0.5954098650579965,
          0.699154548465634,
          null,
          0.5368887347354352,
          0.699154548465634,
          null
         ]
        },
        {
         "hoverinfo": "text",
         "marker": {
          "color": [
           "yellowgreen",
           "salmon",
           "salmon",
           "salmon",
           "salmon",
           "yellowgreen",
           "yellowgreen",
           "yellowgreen",
           "yellowgreen",
           "yellowgreen",
           "yellowgreen",
           "yellowgreen",
           "yellowgreen",
           "yellowgreen",
           "salmon",
           "salmon",
           "yellowgreen",
           "salmon",
           "salmon",
           "salmon",
           "salmon"
          ],
          "line": {
           "color": "gray",
           "width": 1
          },
          "size": 10
         },
         "mode": "markers",
         "text": [
          "0x05415963e593fcfbab4cd6b01340fc495047423f",
          "0x1650683e50e075efc778be4d1a6be929f3831719",
          "0x36e242d81187123c4860c7e86874c23a8a21b6ad",
          "0x8e202d4b77ac50343e753d898a2ef965f79abaa7",
          "0xc132d6439a1a139f9a10e56150c00f448c370a61",
          "0x1c1bd8c213ecf004ace7866e12abc405a19b3ae3",
          "0x268766bd81e082b0a8e671fa950525f57b096b3b",
          "0x449d04edc47f0b69477f6876815230264f76e1d6",
          "0x73d05eb78a200b1400b882939aab240dfcd6a824",
          "0x8e7fef28b08e6845fbeabd972a3bd963939ab54a",
          "0xa17c6c6af848ac474f99480fda8564356896b3e3",
          "0xa314d23820cb18d2956c2e65a816b9b545215d54",
          "0xc9f8ce0fc268949b70d55a055db879ed8d9656af",
          "0xebcd250474c27cbad3c56f3f34e08f97b370ac2d",
          "0x4465358bfedabdc99f0a20c5d42b4945a79af03a",
          "0x205473a3ce9780d87b0a4ae8a1a4311a87a82dae",
          "0x32e1e3bf7e47c3d26245499c4effaf556b07fcee",
          "0x40c4fc6b017b91b501a5218f6f3868498b94fb3d",
          "0x41b44a79dbf04ae0d82abc1cb9da87f2e4cda591",
          "0x96fe34bcb9ee96a014ccc441434429fe1d522640",
          "0x647530bb6b399caeaaf27670c2b9b5f7431fbb96"
         ],
         "type": "scatter",
         "x": [
          -0.4216038944832564,
          0.15625215630320446,
          -0.9520415167197197,
          -0.7891174505180156,
          -0.15636658483457058,
          0.4563814590910078,
          0.8375628262671622,
          0.20420613142980354,
          -0.4739712043449448,
          0.5984924770045769,
          0.8085097699287483,
          -0.2126959154485728,
          0.35709204727017624,
          -0.5824803754161787,
          0.6660806318675996,
          -0.5850768972449785,
          -0.543893138253664,
          -0.07035772969862142,
          0.286214301373894,
          0.2780683709044401,
          0.13874453552190988
         ],
         "y": [
          -0.18533972440181337,
          0.010649961231641164,
          -0.34310501077338607,
          0.5199850790706495,
          -1,
          0.2211167521300714,
          0.16993087198574433,
          -0.6671662004547625,
          -0.7174543294765294,
          -0.5815789826473462,
          -0.23562894651717978,
          0.8130381585828738,
          0.699154548465634,
          0.517031658591586,
          0.379377934584036,
          0.4054378451681424,
          -0.7963229086690536,
          0.5438728545545467,
          0.5954098650579965,
          -0.8852981612182854,
          0.5368887347354352
         ]
        }
       ],
       "layout": {
        "height": 500,
        "showlegend": false,
        "template": {
         "data": {
          "bar": [
           {
            "error_x": {
             "color": "#2a3f5f"
            },
            "error_y": {
             "color": "#2a3f5f"
            },
            "marker": {
             "line": {
              "color": "#E5ECF6",
              "width": 0.5
             },
             "pattern": {
              "fillmode": "overlay",
              "size": 10,
              "solidity": 0.2
             }
            },
            "type": "bar"
           }
          ],
          "barpolar": [
           {
            "marker": {
             "line": {
              "color": "#E5ECF6",
              "width": 0.5
             },
             "pattern": {
              "fillmode": "overlay",
              "size": 10,
              "solidity": 0.2
             }
            },
            "type": "barpolar"
           }
          ],
          "carpet": [
           {
            "aaxis": {
             "endlinecolor": "#2a3f5f",
             "gridcolor": "white",
             "linecolor": "white",
             "minorgridcolor": "white",
             "startlinecolor": "#2a3f5f"
            },
            "baxis": {
             "endlinecolor": "#2a3f5f",
             "gridcolor": "white",
             "linecolor": "white",
             "minorgridcolor": "white",
             "startlinecolor": "#2a3f5f"
            },
            "type": "carpet"
           }
          ],
          "choropleth": [
           {
            "colorbar": {
             "outlinewidth": 0,
             "ticks": ""
            },
            "type": "choropleth"
           }
          ],
          "contour": [
           {
            "colorbar": {
             "outlinewidth": 0,
             "ticks": ""
            },
            "colorscale": [
             [
              0,
              "#0d0887"
             ],
             [
              0.1111111111111111,
              "#46039f"
             ],
             [
              0.2222222222222222,
              "#7201a8"
             ],
             [
              0.3333333333333333,
              "#9c179e"
             ],
             [
              0.4444444444444444,
              "#bd3786"
             ],
             [
              0.5555555555555556,
              "#d8576b"
             ],
             [
              0.6666666666666666,
              "#ed7953"
             ],
             [
              0.7777777777777778,
              "#fb9f3a"
             ],
             [
              0.8888888888888888,
              "#fdca26"
             ],
             [
              1,
              "#f0f921"
             ]
            ],
            "type": "contour"
           }
          ],
          "contourcarpet": [
           {
            "colorbar": {
             "outlinewidth": 0,
             "ticks": ""
            },
            "type": "contourcarpet"
           }
          ],
          "heatmap": [
           {
            "colorbar": {
             "outlinewidth": 0,
             "ticks": ""
            },
            "colorscale": [
             [
              0,
              "#0d0887"
             ],
             [
              0.1111111111111111,
              "#46039f"
             ],
             [
              0.2222222222222222,
              "#7201a8"
             ],
             [
              0.3333333333333333,
              "#9c179e"
             ],
             [
              0.4444444444444444,
              "#bd3786"
             ],
             [
              0.5555555555555556,
              "#d8576b"
             ],
             [
              0.6666666666666666,
              "#ed7953"
             ],
             [
              0.7777777777777778,
              "#fb9f3a"
             ],
             [
              0.8888888888888888,
              "#fdca26"
             ],
             [
              1,
              "#f0f921"
             ]
            ],
            "type": "heatmap"
           }
          ],
          "heatmapgl": [
           {
            "colorbar": {
             "outlinewidth": 0,
             "ticks": ""
            },
            "colorscale": [
             [
              0,
              "#0d0887"
             ],
             [
              0.1111111111111111,
              "#46039f"
             ],
             [
              0.2222222222222222,
              "#7201a8"
             ],
             [
              0.3333333333333333,
              "#9c179e"
             ],
             [
              0.4444444444444444,
              "#bd3786"
             ],
             [
              0.5555555555555556,
              "#d8576b"
             ],
             [
              0.6666666666666666,
              "#ed7953"
             ],
             [
              0.7777777777777778,
              "#fb9f3a"
             ],
             [
              0.8888888888888888,
              "#fdca26"
             ],
             [
              1,
              "#f0f921"
             ]
            ],
            "type": "heatmapgl"
           }
          ],
          "histogram": [
           {
            "marker": {
             "pattern": {
              "fillmode": "overlay",
              "size": 10,
              "solidity": 0.2
             }
            },
            "type": "histogram"
           }
          ],
          "histogram2d": [
           {
            "colorbar": {
             "outlinewidth": 0,
             "ticks": ""
            },
            "colorscale": [
             [
              0,
              "#0d0887"
             ],
             [
              0.1111111111111111,
              "#46039f"
             ],
             [
              0.2222222222222222,
              "#7201a8"
             ],
             [
              0.3333333333333333,
              "#9c179e"
             ],
             [
              0.4444444444444444,
              "#bd3786"
             ],
             [
              0.5555555555555556,
              "#d8576b"
             ],
             [
              0.6666666666666666,
              "#ed7953"
             ],
             [
              0.7777777777777778,
              "#fb9f3a"
             ],
             [
              0.8888888888888888,
              "#fdca26"
             ],
             [
              1,
              "#f0f921"
             ]
            ],
            "type": "histogram2d"
           }
          ],
          "histogram2dcontour": [
           {
            "colorbar": {
             "outlinewidth": 0,
             "ticks": ""
            },
            "colorscale": [
             [
              0,
              "#0d0887"
             ],
             [
              0.1111111111111111,
              "#46039f"
             ],
             [
              0.2222222222222222,
              "#7201a8"
             ],
             [
              0.3333333333333333,
              "#9c179e"
             ],
             [
              0.4444444444444444,
              "#bd3786"
             ],
             [
              0.5555555555555556,
              "#d8576b"
             ],
             [
              0.6666666666666666,
              "#ed7953"
             ],
             [
              0.7777777777777778,
              "#fb9f3a"
             ],
             [
              0.8888888888888888,
              "#fdca26"
             ],
             [
              1,
              "#f0f921"
             ]
            ],
            "type": "histogram2dcontour"
           }
          ],
          "mesh3d": [
           {
            "colorbar": {
             "outlinewidth": 0,
             "ticks": ""
            },
            "type": "mesh3d"
           }
          ],
          "parcoords": [
           {
            "line": {
             "colorbar": {
              "outlinewidth": 0,
              "ticks": ""
             }
            },
            "type": "parcoords"
           }
          ],
          "pie": [
           {
            "automargin": true,
            "type": "pie"
           }
          ],
          "scatter": [
           {
            "fillpattern": {
             "fillmode": "overlay",
             "size": 10,
             "solidity": 0.2
            },
            "type": "scatter"
           }
          ],
          "scatter3d": [
           {
            "line": {
             "colorbar": {
              "outlinewidth": 0,
              "ticks": ""
             }
            },
            "marker": {
             "colorbar": {
              "outlinewidth": 0,
              "ticks": ""
             }
            },
            "type": "scatter3d"
           }
          ],
          "scattercarpet": [
           {
            "marker": {
             "colorbar": {
              "outlinewidth": 0,
              "ticks": ""
             }
            },
            "type": "scattercarpet"
           }
          ],
          "scattergeo": [
           {
            "marker": {
             "colorbar": {
              "outlinewidth": 0,
              "ticks": ""
             }
            },
            "type": "scattergeo"
           }
          ],
          "scattergl": [
           {
            "marker": {
             "colorbar": {
              "outlinewidth": 0,
              "ticks": ""
             }
            },
            "type": "scattergl"
           }
          ],
          "scattermapbox": [
           {
            "marker": {
             "colorbar": {
              "outlinewidth": 0,
              "ticks": ""
             }
            },
            "type": "scattermapbox"
           }
          ],
          "scatterpolar": [
           {
            "marker": {
             "colorbar": {
              "outlinewidth": 0,
              "ticks": ""
             }
            },
            "type": "scatterpolar"
           }
          ],
          "scatterpolargl": [
           {
            "marker": {
             "colorbar": {
              "outlinewidth": 0,
              "ticks": ""
             }
            },
            "type": "scatterpolargl"
           }
          ],
          "scatterternary": [
           {
            "marker": {
             "colorbar": {
              "outlinewidth": 0,
              "ticks": ""
             }
            },
            "type": "scatterternary"
           }
          ],
          "surface": [
           {
            "colorbar": {
             "outlinewidth": 0,
             "ticks": ""
            },
            "colorscale": [
             [
              0,
              "#0d0887"
             ],
             [
              0.1111111111111111,
              "#46039f"
             ],
             [
              0.2222222222222222,
              "#7201a8"
             ],
             [
              0.3333333333333333,
              "#9c179e"
             ],
             [
              0.4444444444444444,
              "#bd3786"
             ],
             [
              0.5555555555555556,
              "#d8576b"
             ],
             [
              0.6666666666666666,
              "#ed7953"
             ],
             [
              0.7777777777777778,
              "#fb9f3a"
             ],
             [
              0.8888888888888888,
              "#fdca26"
             ],
             [
              1,
              "#f0f921"
             ]
            ],
            "type": "surface"
           }
          ],
          "table": [
           {
            "cells": {
             "fill": {
              "color": "#EBF0F8"
             },
             "line": {
              "color": "white"
             }
            },
            "header": {
             "fill": {
              "color": "#C8D4E3"
             },
             "line": {
              "color": "white"
             }
            },
            "type": "table"
           }
          ]
         },
         "layout": {
          "annotationdefaults": {
           "arrowcolor": "#2a3f5f",
           "arrowhead": 0,
           "arrowwidth": 1
          },
          "autotypenumbers": "strict",
          "coloraxis": {
           "colorbar": {
            "outlinewidth": 0,
            "ticks": ""
           }
          },
          "colorscale": {
           "diverging": [
            [
             0,
             "#8e0152"
            ],
            [
             0.1,
             "#c51b7d"
            ],
            [
             0.2,
             "#de77ae"
            ],
            [
             0.3,
             "#f1b6da"
            ],
            [
             0.4,
             "#fde0ef"
            ],
            [
             0.5,
             "#f7f7f7"
            ],
            [
             0.6,
             "#e6f5d0"
            ],
            [
             0.7,
             "#b8e186"
            ],
            [
             0.8,
             "#7fbc41"
            ],
            [
             0.9,
             "#4d9221"
            ],
            [
             1,
             "#276419"
            ]
           ],
           "sequential": [
            [
             0,
             "#0d0887"
            ],
            [
             0.1111111111111111,
             "#46039f"
            ],
            [
             0.2222222222222222,
             "#7201a8"
            ],
            [
             0.3333333333333333,
             "#9c179e"
            ],
            [
             0.4444444444444444,
             "#bd3786"
            ],
            [
             0.5555555555555556,
             "#d8576b"
            ],
            [
             0.6666666666666666,
             "#ed7953"
            ],
            [
             0.7777777777777778,
             "#fb9f3a"
            ],
            [
             0.8888888888888888,
             "#fdca26"
            ],
            [
             1,
             "#f0f921"
            ]
           ],
           "sequentialminus": [
            [
             0,
             "#0d0887"
            ],
            [
             0.1111111111111111,
             "#46039f"
            ],
            [
             0.2222222222222222,
             "#7201a8"
            ],
            [
             0.3333333333333333,
             "#9c179e"
            ],
            [
             0.4444444444444444,
             "#bd3786"
            ],
            [
             0.5555555555555556,
             "#d8576b"
            ],
            [
             0.6666666666666666,
             "#ed7953"
            ],
            [
             0.7777777777777778,
             "#fb9f3a"
            ],
            [
             0.8888888888888888,
             "#fdca26"
            ],
            [
             1,
             "#f0f921"
            ]
           ]
          },
          "colorway": [
           "#636efa",
           "#EF553B",
           "#00cc96",
           "#ab63fa",
           "#FFA15A",
           "#19d3f3",
           "#FF6692",
           "#B6E880",
           "#FF97FF",
           "#FECB52"
          ],
          "font": {
           "color": "#2a3f5f"
          },
          "geo": {
           "bgcolor": "white",
           "lakecolor": "white",
           "landcolor": "#E5ECF6",
           "showlakes": true,
           "showland": true,
           "subunitcolor": "white"
          },
          "hoverlabel": {
           "align": "left"
          },
          "hovermode": "closest",
          "mapbox": {
           "style": "light"
          },
          "paper_bgcolor": "white",
          "plot_bgcolor": "#E5ECF6",
          "polar": {
           "angularaxis": {
            "gridcolor": "white",
            "linecolor": "white",
            "ticks": ""
           },
           "bgcolor": "#E5ECF6",
           "radialaxis": {
            "gridcolor": "white",
            "linecolor": "white",
            "ticks": ""
           }
          },
          "scene": {
           "xaxis": {
            "backgroundcolor": "#E5ECF6",
            "gridcolor": "white",
            "gridwidth": 2,
            "linecolor": "white",
            "showbackground": true,
            "ticks": "",
            "zerolinecolor": "white"
           },
           "yaxis": {
            "backgroundcolor": "#E5ECF6",
            "gridcolor": "white",
            "gridwidth": 2,
            "linecolor": "white",
            "showbackground": true,
            "ticks": "",
            "zerolinecolor": "white"
           },
           "zaxis": {
            "backgroundcolor": "#E5ECF6",
            "gridcolor": "white",
            "gridwidth": 2,
            "linecolor": "white",
            "showbackground": true,
            "ticks": "",
            "zerolinecolor": "white"
           }
          },
          "shapedefaults": {
           "line": {
            "color": "#2a3f5f"
           }
          },
          "ternary": {
           "aaxis": {
            "gridcolor": "white",
            "linecolor": "white",
            "ticks": ""
           },
           "baxis": {
            "gridcolor": "white",
            "linecolor": "white",
            "ticks": ""
           },
           "bgcolor": "#E5ECF6",
           "caxis": {
            "gridcolor": "white",
            "linecolor": "white",
            "ticks": ""
           }
          },
          "title": {
           "x": 0.05
          },
          "xaxis": {
           "automargin": true,
           "gridcolor": "white",
           "linecolor": "white",
           "ticks": "",
           "title": {
            "standoff": 15
           },
           "zerolinecolor": "white",
           "zerolinewidth": 2
          },
          "yaxis": {
           "automargin": true,
           "gridcolor": "white",
           "linecolor": "white",
           "ticks": "",
           "title": {
            "standoff": 15
           },
           "zerolinecolor": "white",
           "zerolinewidth": 2
          }
         }
        },
        "title": {
         "text": "Community Visualization"
        },
        "width": 800,
        "xaxis": {
         "showgrid": true,
         "zeroline": false
        },
        "yaxis": {
         "showgrid": false,
         "zeroline": false
        }
       }
      }
     },
     "metadata": {},
     "output_type": "display_data"
    }
   ],
   "source": [
    "community_visualization_2d(plot_community_df, core_wallet_lst, weight_=800, height_=500)"
   ]
  },
  {
   "cell_type": "code",
   "execution_count": 204,
   "metadata": {},
   "outputs": [],
   "source": [
    "def community_visualization_3d(\n",
    "    df,\n",
    "    highlight_lst,\n",
    "    highlight_lst_2_=None,\n",
    "    source_col=\"node_a\",\n",
    "    target_col=\"node_b\",\n",
    "    weight_col=\"weight\",\n",
    "    weight_=800,\n",
    "    height_=800,\n",
    "):\n",
    "    # Create a directed graph\n",
    "    Gt = nx.from_pandas_edgelist(\n",
    "        df,\n",
    "        source=source_col,\n",
    "        target=target_col,\n",
    "        edge_attr=weight_col,\n",
    "        create_using=nx.DiGraph(),\n",
    "    )\n",
    "\n",
    "    # Generate 3D positions\n",
    "    pos = nx.spring_layout(Gt, dim=3, weight=weight_col)\n",
    "\n",
    "    # Extract node and edge positions\n",
    "    edge_x = []\n",
    "    edge_y = []\n",
    "    edge_z = []\n",
    "    edge_text = []  # List to hold weight information for hover\n",
    "    for edge in Gt.edges(data=True):\n",
    "        x0, y0, z0 = pos[edge[0]]\n",
    "        x1, y1, z1 = pos[edge[1]]\n",
    "        edge_x.extend([x0, x1, None])\n",
    "        edge_y.extend([y0, y1, None])\n",
    "        edge_z.extend([z0, z1, None])\n",
    "        edge_text.append(f\"weight: {edge[2][weight_col]}\")\n",
    "\n",
    "    node_x = [pos[node][0] for node in Gt.nodes()]\n",
    "    node_y = [pos[node][1] for node in Gt.nodes()]\n",
    "    node_z = [pos[node][2] for node in Gt.nodes()]\n",
    "\n",
    "    # Determine node colors based on the DataFrame\n",
    "    node_colors = []\n",
    "    for node in Gt.nodes():\n",
    "        if node in highlight_lst:\n",
    "            node_colors.append(\"yellowgreen\")  # True condition\n",
    "        elif highlight_lst_2_ and node in highlight_lst_2_:\n",
    "            node_colors.append(\"dodgerblue\")  # False condition\n",
    "        else:\n",
    "            node_colors.append(\"salmon\")\n",
    "\n",
    "    # Create Plotly figure\n",
    "    fig = go.Figure()\n",
    "\n",
    "    # Add edges\n",
    "    fig.add_trace(\n",
    "        go.Scatter3d(\n",
    "            x=edge_x,\n",
    "            y=edge_y,\n",
    "            z=edge_z,\n",
    "            mode=\"lines\",\n",
    "            line=dict(color=\"black\", width=2),\n",
    "            text=edge_text,\n",
    "            hoverinfo=\"text\",\n",
    "        )\n",
    "    )\n",
    "\n",
    "    # Add nodes\n",
    "    fig.add_trace(\n",
    "        go.Scatter3d(\n",
    "            x=node_x,\n",
    "            y=node_y,\n",
    "            z=node_z,\n",
    "            mode=\"markers\",\n",
    "            marker=dict(size=5, color=node_colors),\n",
    "            text=list(Gt.nodes()),  # Show node labels on hover\n",
    "            hoverinfo=\"text\",\n",
    "            textfont=dict(size=5),\n",
    "            # hoverinfo=\"none\",\n",
    "        )\n",
    "    )\n",
    "\n",
    "    axis_setting = dict(\n",
    "        showbackground=True,\n",
    "        titlefont=dict(size=10),\n",
    "        tickfont=dict(size=10),\n",
    "    )\n",
    "    # Update layout\n",
    "    fig.update_layout(\n",
    "        showlegend=False,\n",
    "        width=weight_,\n",
    "        height=height_,\n",
    "        scene=dict(\n",
    "            xaxis=axis_setting,\n",
    "            yaxis=axis_setting,\n",
    "            zaxis=axis_setting,\n",
    "        ),\n",
    "    )\n",
    "\n",
    "    # Show the plot\n",
    "    fig.show()"
   ]
  },
  {
   "cell_type": "code",
   "execution_count": 205,
   "metadata": {},
   "outputs": [
    {
     "data": {
      "application/vnd.plotly.v1+json": {
       "config": {
        "plotlyServerURL": "https://plot.ly"
       },
       "data": [
        {
         "hoverinfo": "text",
         "line": {
          "color": "black",
          "width": 2
         },
         "mode": "lines",
         "text": [
          "weight: 0.598687660112452",
          "weight: 0.6899744811276125",
          "weight: 0.8320183851339245"
         ],
         "type": "scatter3d",
         "x": [
          -0.7467658684154643,
          0.00922289422712484,
          null,
          0.00922289422712484,
          1,
          null,
          -0.2624570258116603,
          0.00922289422712484,
          null
         ],
         "y": [
          0.6500775133058965,
          -0.0900852318985871,
          null,
          -0.0900852318985871,
          -0.48035062867335737,
          null,
          -0.07964165273395177,
          -0.0900852318985871,
          null
         ],
         "z": [
          0.045781057317238284,
          0.16408494246165944,
          null,
          0.16408494246165944,
          0.3404672146652963,
          null,
          -0.5503332144441936,
          0.16408494246165944,
          null
         ]
        },
        {
         "hoverinfo": "text",
         "marker": {
          "color": [
           "salmon",
           "yellowgreen",
           "salmon",
           "salmon"
          ],
          "size": 5
         },
         "mode": "markers",
         "text": [
          "0x079e1d34e6ace1728480c383ec30afd3a6d4ab3d",
          "0xb63eb639374bd3b9c01ff1a728be2865347f4263",
          "0x7d63439dfeadf64f0c7f4b2917d612a49326bd8a",
          "0xc7e7e54eba7dc315265fe389a1e77e46ecba286d"
         ],
         "textfont": {
          "size": 5
         },
         "type": "scatter3d",
         "x": [
          -0.7467658684154643,
          0.00922289422712484,
          -0.2624570258116603,
          1
         ],
         "y": [
          0.6500775133058965,
          -0.0900852318985871,
          -0.07964165273395177,
          -0.48035062867335737
         ],
         "z": [
          0.045781057317238284,
          0.16408494246165944,
          -0.5503332144441936,
          0.3404672146652963
         ]
        }
       ],
       "layout": {
        "height": 600,
        "scene": {
         "xaxis": {
          "showbackground": true,
          "tickfont": {
           "size": 10
          },
          "title": {
           "font": {
            "size": 10
           }
          }
         },
         "yaxis": {
          "showbackground": true,
          "tickfont": {
           "size": 10
          },
          "title": {
           "font": {
            "size": 10
           }
          }
         },
         "zaxis": {
          "showbackground": true,
          "tickfont": {
           "size": 10
          },
          "title": {
           "font": {
            "size": 10
           }
          }
         }
        },
        "showlegend": false,
        "template": {
         "data": {
          "bar": [
           {
            "error_x": {
             "color": "#2a3f5f"
            },
            "error_y": {
             "color": "#2a3f5f"
            },
            "marker": {
             "line": {
              "color": "#E5ECF6",
              "width": 0.5
             },
             "pattern": {
              "fillmode": "overlay",
              "size": 10,
              "solidity": 0.2
             }
            },
            "type": "bar"
           }
          ],
          "barpolar": [
           {
            "marker": {
             "line": {
              "color": "#E5ECF6",
              "width": 0.5
             },
             "pattern": {
              "fillmode": "overlay",
              "size": 10,
              "solidity": 0.2
             }
            },
            "type": "barpolar"
           }
          ],
          "carpet": [
           {
            "aaxis": {
             "endlinecolor": "#2a3f5f",
             "gridcolor": "white",
             "linecolor": "white",
             "minorgridcolor": "white",
             "startlinecolor": "#2a3f5f"
            },
            "baxis": {
             "endlinecolor": "#2a3f5f",
             "gridcolor": "white",
             "linecolor": "white",
             "minorgridcolor": "white",
             "startlinecolor": "#2a3f5f"
            },
            "type": "carpet"
           }
          ],
          "choropleth": [
           {
            "colorbar": {
             "outlinewidth": 0,
             "ticks": ""
            },
            "type": "choropleth"
           }
          ],
          "contour": [
           {
            "colorbar": {
             "outlinewidth": 0,
             "ticks": ""
            },
            "colorscale": [
             [
              0,
              "#0d0887"
             ],
             [
              0.1111111111111111,
              "#46039f"
             ],
             [
              0.2222222222222222,
              "#7201a8"
             ],
             [
              0.3333333333333333,
              "#9c179e"
             ],
             [
              0.4444444444444444,
              "#bd3786"
             ],
             [
              0.5555555555555556,
              "#d8576b"
             ],
             [
              0.6666666666666666,
              "#ed7953"
             ],
             [
              0.7777777777777778,
              "#fb9f3a"
             ],
             [
              0.8888888888888888,
              "#fdca26"
             ],
             [
              1,
              "#f0f921"
             ]
            ],
            "type": "contour"
           }
          ],
          "contourcarpet": [
           {
            "colorbar": {
             "outlinewidth": 0,
             "ticks": ""
            },
            "type": "contourcarpet"
           }
          ],
          "heatmap": [
           {
            "colorbar": {
             "outlinewidth": 0,
             "ticks": ""
            },
            "colorscale": [
             [
              0,
              "#0d0887"
             ],
             [
              0.1111111111111111,
              "#46039f"
             ],
             [
              0.2222222222222222,
              "#7201a8"
             ],
             [
              0.3333333333333333,
              "#9c179e"
             ],
             [
              0.4444444444444444,
              "#bd3786"
             ],
             [
              0.5555555555555556,
              "#d8576b"
             ],
             [
              0.6666666666666666,
              "#ed7953"
             ],
             [
              0.7777777777777778,
              "#fb9f3a"
             ],
             [
              0.8888888888888888,
              "#fdca26"
             ],
             [
              1,
              "#f0f921"
             ]
            ],
            "type": "heatmap"
           }
          ],
          "heatmapgl": [
           {
            "colorbar": {
             "outlinewidth": 0,
             "ticks": ""
            },
            "colorscale": [
             [
              0,
              "#0d0887"
             ],
             [
              0.1111111111111111,
              "#46039f"
             ],
             [
              0.2222222222222222,
              "#7201a8"
             ],
             [
              0.3333333333333333,
              "#9c179e"
             ],
             [
              0.4444444444444444,
              "#bd3786"
             ],
             [
              0.5555555555555556,
              "#d8576b"
             ],
             [
              0.6666666666666666,
              "#ed7953"
             ],
             [
              0.7777777777777778,
              "#fb9f3a"
             ],
             [
              0.8888888888888888,
              "#fdca26"
             ],
             [
              1,
              "#f0f921"
             ]
            ],
            "type": "heatmapgl"
           }
          ],
          "histogram": [
           {
            "marker": {
             "pattern": {
              "fillmode": "overlay",
              "size": 10,
              "solidity": 0.2
             }
            },
            "type": "histogram"
           }
          ],
          "histogram2d": [
           {
            "colorbar": {
             "outlinewidth": 0,
             "ticks": ""
            },
            "colorscale": [
             [
              0,
              "#0d0887"
             ],
             [
              0.1111111111111111,
              "#46039f"
             ],
             [
              0.2222222222222222,
              "#7201a8"
             ],
             [
              0.3333333333333333,
              "#9c179e"
             ],
             [
              0.4444444444444444,
              "#bd3786"
             ],
             [
              0.5555555555555556,
              "#d8576b"
             ],
             [
              0.6666666666666666,
              "#ed7953"
             ],
             [
              0.7777777777777778,
              "#fb9f3a"
             ],
             [
              0.8888888888888888,
              "#fdca26"
             ],
             [
              1,
              "#f0f921"
             ]
            ],
            "type": "histogram2d"
           }
          ],
          "histogram2dcontour": [
           {
            "colorbar": {
             "outlinewidth": 0,
             "ticks": ""
            },
            "colorscale": [
             [
              0,
              "#0d0887"
             ],
             [
              0.1111111111111111,
              "#46039f"
             ],
             [
              0.2222222222222222,
              "#7201a8"
             ],
             [
              0.3333333333333333,
              "#9c179e"
             ],
             [
              0.4444444444444444,
              "#bd3786"
             ],
             [
              0.5555555555555556,
              "#d8576b"
             ],
             [
              0.6666666666666666,
              "#ed7953"
             ],
             [
              0.7777777777777778,
              "#fb9f3a"
             ],
             [
              0.8888888888888888,
              "#fdca26"
             ],
             [
              1,
              "#f0f921"
             ]
            ],
            "type": "histogram2dcontour"
           }
          ],
          "mesh3d": [
           {
            "colorbar": {
             "outlinewidth": 0,
             "ticks": ""
            },
            "type": "mesh3d"
           }
          ],
          "parcoords": [
           {
            "line": {
             "colorbar": {
              "outlinewidth": 0,
              "ticks": ""
             }
            },
            "type": "parcoords"
           }
          ],
          "pie": [
           {
            "automargin": true,
            "type": "pie"
           }
          ],
          "scatter": [
           {
            "fillpattern": {
             "fillmode": "overlay",
             "size": 10,
             "solidity": 0.2
            },
            "type": "scatter"
           }
          ],
          "scatter3d": [
           {
            "line": {
             "colorbar": {
              "outlinewidth": 0,
              "ticks": ""
             }
            },
            "marker": {
             "colorbar": {
              "outlinewidth": 0,
              "ticks": ""
             }
            },
            "type": "scatter3d"
           }
          ],
          "scattercarpet": [
           {
            "marker": {
             "colorbar": {
              "outlinewidth": 0,
              "ticks": ""
             }
            },
            "type": "scattercarpet"
           }
          ],
          "scattergeo": [
           {
            "marker": {
             "colorbar": {
              "outlinewidth": 0,
              "ticks": ""
             }
            },
            "type": "scattergeo"
           }
          ],
          "scattergl": [
           {
            "marker": {
             "colorbar": {
              "outlinewidth": 0,
              "ticks": ""
             }
            },
            "type": "scattergl"
           }
          ],
          "scattermapbox": [
           {
            "marker": {
             "colorbar": {
              "outlinewidth": 0,
              "ticks": ""
             }
            },
            "type": "scattermapbox"
           }
          ],
          "scatterpolar": [
           {
            "marker": {
             "colorbar": {
              "outlinewidth": 0,
              "ticks": ""
             }
            },
            "type": "scatterpolar"
           }
          ],
          "scatterpolargl": [
           {
            "marker": {
             "colorbar": {
              "outlinewidth": 0,
              "ticks": ""
             }
            },
            "type": "scatterpolargl"
           }
          ],
          "scatterternary": [
           {
            "marker": {
             "colorbar": {
              "outlinewidth": 0,
              "ticks": ""
             }
            },
            "type": "scatterternary"
           }
          ],
          "surface": [
           {
            "colorbar": {
             "outlinewidth": 0,
             "ticks": ""
            },
            "colorscale": [
             [
              0,
              "#0d0887"
             ],
             [
              0.1111111111111111,
              "#46039f"
             ],
             [
              0.2222222222222222,
              "#7201a8"
             ],
             [
              0.3333333333333333,
              "#9c179e"
             ],
             [
              0.4444444444444444,
              "#bd3786"
             ],
             [
              0.5555555555555556,
              "#d8576b"
             ],
             [
              0.6666666666666666,
              "#ed7953"
             ],
             [
              0.7777777777777778,
              "#fb9f3a"
             ],
             [
              0.8888888888888888,
              "#fdca26"
             ],
             [
              1,
              "#f0f921"
             ]
            ],
            "type": "surface"
           }
          ],
          "table": [
           {
            "cells": {
             "fill": {
              "color": "#EBF0F8"
             },
             "line": {
              "color": "white"
             }
            },
            "header": {
             "fill": {
              "color": "#C8D4E3"
             },
             "line": {
              "color": "white"
             }
            },
            "type": "table"
           }
          ]
         },
         "layout": {
          "annotationdefaults": {
           "arrowcolor": "#2a3f5f",
           "arrowhead": 0,
           "arrowwidth": 1
          },
          "autotypenumbers": "strict",
          "coloraxis": {
           "colorbar": {
            "outlinewidth": 0,
            "ticks": ""
           }
          },
          "colorscale": {
           "diverging": [
            [
             0,
             "#8e0152"
            ],
            [
             0.1,
             "#c51b7d"
            ],
            [
             0.2,
             "#de77ae"
            ],
            [
             0.3,
             "#f1b6da"
            ],
            [
             0.4,
             "#fde0ef"
            ],
            [
             0.5,
             "#f7f7f7"
            ],
            [
             0.6,
             "#e6f5d0"
            ],
            [
             0.7,
             "#b8e186"
            ],
            [
             0.8,
             "#7fbc41"
            ],
            [
             0.9,
             "#4d9221"
            ],
            [
             1,
             "#276419"
            ]
           ],
           "sequential": [
            [
             0,
             "#0d0887"
            ],
            [
             0.1111111111111111,
             "#46039f"
            ],
            [
             0.2222222222222222,
             "#7201a8"
            ],
            [
             0.3333333333333333,
             "#9c179e"
            ],
            [
             0.4444444444444444,
             "#bd3786"
            ],
            [
             0.5555555555555556,
             "#d8576b"
            ],
            [
             0.6666666666666666,
             "#ed7953"
            ],
            [
             0.7777777777777778,
             "#fb9f3a"
            ],
            [
             0.8888888888888888,
             "#fdca26"
            ],
            [
             1,
             "#f0f921"
            ]
           ],
           "sequentialminus": [
            [
             0,
             "#0d0887"
            ],
            [
             0.1111111111111111,
             "#46039f"
            ],
            [
             0.2222222222222222,
             "#7201a8"
            ],
            [
             0.3333333333333333,
             "#9c179e"
            ],
            [
             0.4444444444444444,
             "#bd3786"
            ],
            [
             0.5555555555555556,
             "#d8576b"
            ],
            [
             0.6666666666666666,
             "#ed7953"
            ],
            [
             0.7777777777777778,
             "#fb9f3a"
            ],
            [
             0.8888888888888888,
             "#fdca26"
            ],
            [
             1,
             "#f0f921"
            ]
           ]
          },
          "colorway": [
           "#636efa",
           "#EF553B",
           "#00cc96",
           "#ab63fa",
           "#FFA15A",
           "#19d3f3",
           "#FF6692",
           "#B6E880",
           "#FF97FF",
           "#FECB52"
          ],
          "font": {
           "color": "#2a3f5f"
          },
          "geo": {
           "bgcolor": "white",
           "lakecolor": "white",
           "landcolor": "#E5ECF6",
           "showlakes": true,
           "showland": true,
           "subunitcolor": "white"
          },
          "hoverlabel": {
           "align": "left"
          },
          "hovermode": "closest",
          "mapbox": {
           "style": "light"
          },
          "paper_bgcolor": "white",
          "plot_bgcolor": "#E5ECF6",
          "polar": {
           "angularaxis": {
            "gridcolor": "white",
            "linecolor": "white",
            "ticks": ""
           },
           "bgcolor": "#E5ECF6",
           "radialaxis": {
            "gridcolor": "white",
            "linecolor": "white",
            "ticks": ""
           }
          },
          "scene": {
           "xaxis": {
            "backgroundcolor": "#E5ECF6",
            "gridcolor": "white",
            "gridwidth": 2,
            "linecolor": "white",
            "showbackground": true,
            "ticks": "",
            "zerolinecolor": "white"
           },
           "yaxis": {
            "backgroundcolor": "#E5ECF6",
            "gridcolor": "white",
            "gridwidth": 2,
            "linecolor": "white",
            "showbackground": true,
            "ticks": "",
            "zerolinecolor": "white"
           },
           "zaxis": {
            "backgroundcolor": "#E5ECF6",
            "gridcolor": "white",
            "gridwidth": 2,
            "linecolor": "white",
            "showbackground": true,
            "ticks": "",
            "zerolinecolor": "white"
           }
          },
          "shapedefaults": {
           "line": {
            "color": "#2a3f5f"
           }
          },
          "ternary": {
           "aaxis": {
            "gridcolor": "white",
            "linecolor": "white",
            "ticks": ""
           },
           "baxis": {
            "gridcolor": "white",
            "linecolor": "white",
            "ticks": ""
           },
           "bgcolor": "#E5ECF6",
           "caxis": {
            "gridcolor": "white",
            "linecolor": "white",
            "ticks": ""
           }
          },
          "title": {
           "x": 0.05
          },
          "xaxis": {
           "automargin": true,
           "gridcolor": "white",
           "linecolor": "white",
           "ticks": "",
           "title": {
            "standoff": 15
           },
           "zerolinecolor": "white",
           "zerolinewidth": 2
          },
          "yaxis": {
           "automargin": true,
           "gridcolor": "white",
           "linecolor": "white",
           "ticks": "",
           "title": {
            "standoff": 15
           },
           "zerolinecolor": "white",
           "zerolinewidth": 2
          }
         }
        },
        "width": 600
       }
      }
     },
     "metadata": {},
     "output_type": "display_data"
    }
   ],
   "source": [
    "community_visualization_3d(plot_community_df, core_wallet_lst, weight_=600, height_=600)"
   ]
  },
  {
   "cell_type": "markdown",
   "metadata": {},
   "source": [
    "# Get clustering variables"
   ]
  },
  {
   "cell_type": "markdown",
   "metadata": {},
   "source": [
    "## Community Data\n",
    "\n",
    "Calculate how many wallets each wallet has interacted with within the community"
   ]
  },
  {
   "cell_type": "code",
   "execution_count": 123,
   "metadata": {},
   "outputs": [],
   "source": [
    "def clustering_community_info(w_lst, weight_df_=weight_df):\n",
    "    internal_weight_df = weight_df_[\n",
    "        weight_df_[\"node_a\"].isin(w_lst) & weight_df_[\"node_b\"].isin(w_lst)\n",
    "    ]\n",
    "    wallet_internal_interaction_df = columns_item_count(\n",
    "        internal_weight_df, w_cols=[\"node_a\", \"node_b\"]\n",
    "    )\n",
    "    # set wallet as index and drop index name\n",
    "    wallet_internal_interaction_df = wallet_internal_interaction_df.set_index(\"wallet\")\n",
    "    return wallet_internal_interaction_df"
   ]
  },
  {
   "cell_type": "markdown",
   "metadata": {},
   "source": [
    "## Trino data "
   ]
  },
  {
   "cell_type": "markdown",
   "metadata": {},
   "source": [
    "\"xxx_address_monthly_stats_full\"\n",
    "- address active days\n",
    "- total gas fee in usd\n",
    "- number of transaction\n",
    "- wallets interacted\n",
    "- last transaction time\n",
    "\n",
    "-- \n",
    "\n",
    "(function is done but not sure if should use due to computational power required)\n",
    "\n",
    "\"xxx_address_last_stats_full\"\n",
    "- number of token types on different chains (ETH on Polygon and ETH on ethereum are different)\n",
    "\n",
    "--\n",
    "\n",
    "\"xxx_token_transfers_full\" (not yet given the computational power required)\n",
    "- interval in second\n",
    "\n",
    "\n"
   ]
  },
  {
   "cell_type": "code",
   "execution_count": 125,
   "metadata": {},
   "outputs": [],
   "source": [
    "def clustering_trino_info(w_lst, start_date_, end_date_):\n",
    "    clustering_info = wallets_monthly_info(w_lst, start_date_, end_date_)\n",
    "    clustering_info_df = pd.DataFrame(clustering_info).T\n",
    "    clustering_info_df.columns = [\n",
    "        \"active_days\",\n",
    "        \"total_gas_fee_in_usd\",\n",
    "        \"txn_count\",\n",
    "        \"wallets_interacted\",\n",
    "        \"last_txn_date_int\",\n",
    "        \"last_txn_date\",\n",
    "        \"start_date\",\n",
    "        \"end_date\",\n",
    "    ]\n",
    "    return clustering_info_df"
   ]
  },
  {
   "cell_type": "markdown",
   "metadata": {},
   "source": [
    "### Combine data from two sources"
   ]
  },
  {
   "cell_type": "code",
   "execution_count": 127,
   "metadata": {},
   "outputs": [],
   "source": [
    "def clustering_info(w_lst, start_date_, end_date_):\n",
    "    internal_info = clustering_community_info(w_lst)\n",
    "    trino_info = clustering_trino_info(w_lst, start_date_, end_date_)\n",
    "    clustering_info_df = internal_info.merge(\n",
    "        trino_info, left_index=True, right_index=True\n",
    "    )\n",
    "\n",
    "    return clustering_info_df"
   ]
  },
  {
   "cell_type": "code",
   "execution_count": 258,
   "metadata": {},
   "outputs": [],
   "source": [
    "def full_community_clustering_info(louvain_community_lst_, start_date_, end_date_):\n",
    "    for _, commu in enumerate(louvain_community_lst_):\n",
    "        if len(commu) < 3:\n",
    "            continue\n",
    "        clustering_info_df = clustering_info(commu, start_date_, end_date_)\n",
    "        file_path = f\"/Users/floras/Desktop/unique-user/-Data/clustering_info/clustering_info_{start_date_}_{end_date_}.csv\"\n",
    "        if os.path.isfile(file_path):\n",
    "            # Append to the file without writing the header\n",
    "            clustering_info_df.to_csv(file_path, mode=\"a\", header=False, index=True)\n",
    "        else:\n",
    "            # Write a new file with the header\n",
    "            clustering_info_df.to_csv(file_path, mode=\"w\", header=True, index=True)"
   ]
  },
  {
   "cell_type": "markdown",
   "metadata": {},
   "source": [
    "# clustering"
   ]
  },
  {
   "cell_type": "markdown",
   "metadata": {},
   "source": [
    "**Why we scale data?**\n",
    "\n",
    "- If the dataset has features with vastly different scales (e.g., one feature ranges from 0 to 1, while another ranges from 0 to 1000), the feature with the larger scale will dominate the distance calculations. Normalizing data ensures that each feature contributes equally to the distance calculation. This is particularly important in multi-dimensional datasets where features may not have the same units or magnitude.\n",
    "\n",
    "- we used standardization (Z-Score Scaling): Scales features to have mean = 0 and standard deviation = 1."
   ]
  },
  {
   "cell_type": "code",
   "execution_count": 154,
   "metadata": {},
   "outputs": [],
   "source": [
    "def isolation_forest(clustering_info_df, clustring_features, contamination_):\n",
    "    if contamination_ > 0.5:\n",
    "        clustering_info_df[\"isolation_forest\"] = -1\n",
    "        return clustering_info_df\n",
    "    # Normalize the data\n",
    "    scaler = StandardScaler()\n",
    "    scaled_features = scaler.fit_transform(clustering_info_df[clustring_features])\n",
    "\n",
    "    # Apply Isolation Forest\n",
    "    iso = IsolationForest(contamination=contamination_)  # Adjust contamination level\n",
    "    clustering_info_df[\"isolation_forest\"] = iso.fit_predict(scaled_features)\n",
    "\n",
    "    return clustering_info_df"
   ]
  },
  {
   "cell_type": "code",
   "execution_count": 158,
   "metadata": {},
   "outputs": [],
   "source": [
    "def optics_clustering(clustering_info_df, clustring_features, min_samples_=3):\n",
    "    if len(clustering_info_df) < min_samples_:\n",
    "        clustering_info_df[\"optics\"] = 0\n",
    "        return clustering_info_df\n",
    "    # Normalize the data\n",
    "    scaler = StandardScaler()\n",
    "    scaled_features = scaler.fit_transform(clustering_info_df[clustring_features])\n",
    "\n",
    "    # Apply OPTICS clustering\n",
    "    optics = OPTICS(min_samples=min_samples_)\n",
    "    clustering_info_df[\"optics\"] = optics.fit_predict(scaled_features)\n",
    "\n",
    "    return clustering_info_df"
   ]
  },
  {
   "cell_type": "code",
   "execution_count": 228,
   "metadata": {},
   "outputs": [],
   "source": [
    "def two_step_clustering(\n",
    "    clustering_info_df,\n",
    "    iso_features_,\n",
    "    optics_features_,\n",
    "    core_num=2,\n",
    "    optics_min_samples=3,\n",
    "):\n",
    "    core_num = min(core_num, np.floor(clustering_info_df.shape[0] / 2))\n",
    "    if core_num < 1:\n",
    "        raise ValueError(\"Core number should be at least 1\")\n",
    "    contamination_ = core_num / clustering_info_df.shape[0]\n",
    "    clustered_df = clustering_info_df.copy()\n",
    "    clustered_df = isolation_forest(clustered_df, iso_features_, contamination_)\n",
    "    middle_info_df = clustered_df[clustered_df[\"isolation_forest\"] != -1]\n",
    "    clusted_middle_info_df = optics_clustering(\n",
    "        middle_info_df, optics_features_, optics_min_samples\n",
    "    )\n",
    "    # merge result back to original df\n",
    "    clustered_df = pd.merge(\n",
    "        clustered_df,\n",
    "        clusted_middle_info_df[\"optics\"],\n",
    "        how=\"left\",\n",
    "        left_index=True,\n",
    "        right_index=True,\n",
    "    )\n",
    "    clustered_df[\"type\"] = clustered_df.apply(\n",
    "        lambda x: (\n",
    "            \"sybil_core\"\n",
    "            if x[\"isolation_forest\"] == -1\n",
    "            else \"normal\" if x[\"optics\"] == -1 else \"sybil\"\n",
    "        ),\n",
    "        axis=1,\n",
    "    )\n",
    "    return clustered_df"
   ]
  },
  {
   "cell_type": "code",
   "execution_count": 370,
   "metadata": {},
   "outputs": [
    {
     "data": {
      "text/html": [
       "<div>\n",
       "<style scoped>\n",
       "    .dataframe tbody tr th:only-of-type {\n",
       "        vertical-align: middle;\n",
       "    }\n",
       "\n",
       "    .dataframe tbody tr th {\n",
       "        vertical-align: top;\n",
       "    }\n",
       "\n",
       "    .dataframe thead th {\n",
       "        text-align: right;\n",
       "    }\n",
       "</style>\n",
       "<table border=\"1\" class=\"dataframe\">\n",
       "  <thead>\n",
       "    <tr style=\"text-align: right;\">\n",
       "      <th></th>\n",
       "      <th>interacted_wallets</th>\n",
       "      <th>active_days</th>\n",
       "      <th>total_gas_fee_in_usd</th>\n",
       "      <th>txn_count</th>\n",
       "      <th>wallets_interacted</th>\n",
       "      <th>last_txn_date_int</th>\n",
       "      <th>last_txn_date</th>\n",
       "      <th>start_date</th>\n",
       "      <th>end_date</th>\n",
       "    </tr>\n",
       "  </thead>\n",
       "  <tbody>\n",
       "    <tr>\n",
       "      <th>0x05415963e593fcfbab4cd6b01340fc495047423f</th>\n",
       "      <td>4</td>\n",
       "      <td>2539</td>\n",
       "      <td>2622.214339</td>\n",
       "      <td>3843</td>\n",
       "      <td>487</td>\n",
       "      <td>739221</td>\n",
       "      <td>2024-12-12</td>\n",
       "      <td>None</td>\n",
       "      <td>None</td>\n",
       "    </tr>\n",
       "    <tr>\n",
       "      <th>0x1650683e50e075efc778be4d1a6be929f3831719</th>\n",
       "      <td>10</td>\n",
       "      <td>12889</td>\n",
       "      <td>15997.713794</td>\n",
       "      <td>16227</td>\n",
       "      <td>6667</td>\n",
       "      <td>739231</td>\n",
       "      <td>2024-12-12</td>\n",
       "      <td>None</td>\n",
       "      <td>None</td>\n",
       "    </tr>\n",
       "    <tr>\n",
       "      <th>0x36e242d81187123c4860c7e86874c23a8a21b6ad</th>\n",
       "      <td>1</td>\n",
       "      <td>19</td>\n",
       "      <td>14.259276</td>\n",
       "      <td>19</td>\n",
       "      <td>13</td>\n",
       "      <td>739136</td>\n",
       "      <td>2024-09-07</td>\n",
       "      <td>None</td>\n",
       "      <td>None</td>\n",
       "    </tr>\n",
       "    <tr>\n",
       "      <th>0x8e202d4b77ac50343e753d898a2ef965f79abaa7</th>\n",
       "      <td>1</td>\n",
       "      <td>90</td>\n",
       "      <td>1499.396391</td>\n",
       "      <td>102</td>\n",
       "      <td>32</td>\n",
       "      <td>739213</td>\n",
       "      <td>2024-11-23</td>\n",
       "      <td>None</td>\n",
       "      <td>None</td>\n",
       "    </tr>\n",
       "    <tr>\n",
       "      <th>0xc132d6439a1a139f9a10e56150c00f448c370a61</th>\n",
       "      <td>1</td>\n",
       "      <td>21</td>\n",
       "      <td>4.223352</td>\n",
       "      <td>24</td>\n",
       "      <td>3</td>\n",
       "      <td>738947</td>\n",
       "      <td>2024-11-29</td>\n",
       "      <td>None</td>\n",
       "      <td>None</td>\n",
       "    </tr>\n",
       "    <tr>\n",
       "      <th>0x1c1bd8c213ecf004ace7866e12abc405a19b3ae3</th>\n",
       "      <td>2</td>\n",
       "      <td>249</td>\n",
       "      <td>181.450406</td>\n",
       "      <td>445</td>\n",
       "      <td>125</td>\n",
       "      <td>739209</td>\n",
       "      <td>2024-11-26</td>\n",
       "      <td>None</td>\n",
       "      <td>None</td>\n",
       "    </tr>\n",
       "    <tr>\n",
       "      <th>0x268766bd81e082b0a8e671fa950525f57b096b3b</th>\n",
       "      <td>1</td>\n",
       "      <td>832</td>\n",
       "      <td>240.042779</td>\n",
       "      <td>1053</td>\n",
       "      <td>252</td>\n",
       "      <td>739101</td>\n",
       "      <td>2024-11-04</td>\n",
       "      <td>None</td>\n",
       "      <td>None</td>\n",
       "    </tr>\n",
       "    <tr>\n",
       "      <th>0x449d04edc47f0b69477f6876815230264f76e1d6</th>\n",
       "      <td>2</td>\n",
       "      <td>830</td>\n",
       "      <td>236.382807</td>\n",
       "      <td>1199</td>\n",
       "      <td>190</td>\n",
       "      <td>739174</td>\n",
       "      <td>2024-10-15</td>\n",
       "      <td>None</td>\n",
       "      <td>None</td>\n",
       "    </tr>\n",
       "    <tr>\n",
       "      <th>0x73d05eb78a200b1400b882939aab240dfcd6a824</th>\n",
       "      <td>2</td>\n",
       "      <td>877</td>\n",
       "      <td>325.799701</td>\n",
       "      <td>1326</td>\n",
       "      <td>173</td>\n",
       "      <td>739222</td>\n",
       "      <td>2024-12-02</td>\n",
       "      <td>None</td>\n",
       "      <td>None</td>\n",
       "    </tr>\n",
       "    <tr>\n",
       "      <th>0x8e7fef28b08e6845fbeabd972a3bd963939ab54a</th>\n",
       "      <td>1</td>\n",
       "      <td>194</td>\n",
       "      <td>407.960157</td>\n",
       "      <td>244</td>\n",
       "      <td>94</td>\n",
       "      <td>739043</td>\n",
       "      <td>2024-12-08</td>\n",
       "      <td>None</td>\n",
       "      <td>None</td>\n",
       "    </tr>\n",
       "    <tr>\n",
       "      <th>0xa17c6c6af848ac474f99480fda8564356896b3e3</th>\n",
       "      <td>1</td>\n",
       "      <td>199</td>\n",
       "      <td>33.538301</td>\n",
       "      <td>330</td>\n",
       "      <td>100</td>\n",
       "      <td>739092</td>\n",
       "      <td>2024-12-08</td>\n",
       "      <td>None</td>\n",
       "      <td>None</td>\n",
       "    </tr>\n",
       "    <tr>\n",
       "      <th>0xa314d23820cb18d2956c2e65a816b9b545215d54</th>\n",
       "      <td>2</td>\n",
       "      <td>932</td>\n",
       "      <td>560.952392</td>\n",
       "      <td>1248</td>\n",
       "      <td>285</td>\n",
       "      <td>739200</td>\n",
       "      <td>2024-12-08</td>\n",
       "      <td>None</td>\n",
       "      <td>None</td>\n",
       "    </tr>\n",
       "    <tr>\n",
       "      <th>0xc9f8ce0fc268949b70d55a055db879ed8d9656af</th>\n",
       "      <td>3</td>\n",
       "      <td>384</td>\n",
       "      <td>633.046341</td>\n",
       "      <td>625</td>\n",
       "      <td>170</td>\n",
       "      <td>739047</td>\n",
       "      <td>2024-11-08</td>\n",
       "      <td>None</td>\n",
       "      <td>None</td>\n",
       "    </tr>\n",
       "    <tr>\n",
       "      <th>0xebcd250474c27cbad3c56f3f34e08f97b370ac2d</th>\n",
       "      <td>2</td>\n",
       "      <td>2193</td>\n",
       "      <td>1137.160924</td>\n",
       "      <td>4069</td>\n",
       "      <td>513</td>\n",
       "      <td>739231</td>\n",
       "      <td>2024-12-11</td>\n",
       "      <td>None</td>\n",
       "      <td>None</td>\n",
       "    </tr>\n",
       "    <tr>\n",
       "      <th>0x4465358bfedabdc99f0a20c5d42b4945a79af03a</th>\n",
       "      <td>1</td>\n",
       "      <td>13</td>\n",
       "      <td>0.607119</td>\n",
       "      <td>15</td>\n",
       "      <td>11</td>\n",
       "      <td>738916</td>\n",
       "      <td>2024-06-05</td>\n",
       "      <td>None</td>\n",
       "      <td>None</td>\n",
       "    </tr>\n",
       "    <tr>\n",
       "      <th>0x205473a3ce9780d87b0a4ae8a1a4311a87a82dae</th>\n",
       "      <td>1</td>\n",
       "      <td>32</td>\n",
       "      <td>8.066107</td>\n",
       "      <td>32</td>\n",
       "      <td>14</td>\n",
       "      <td>739005</td>\n",
       "      <td>2024-10-03</td>\n",
       "      <td>None</td>\n",
       "      <td>None</td>\n",
       "    </tr>\n",
       "    <tr>\n",
       "      <th>0x32e1e3bf7e47c3d26245499c4effaf556b07fcee</th>\n",
       "      <td>1</td>\n",
       "      <td>80</td>\n",
       "      <td>3.597563</td>\n",
       "      <td>85</td>\n",
       "      <td>13</td>\n",
       "      <td>739131</td>\n",
       "      <td>2024-11-23</td>\n",
       "      <td>None</td>\n",
       "      <td>None</td>\n",
       "    </tr>\n",
       "    <tr>\n",
       "      <th>0x40c4fc6b017b91b501a5218f6f3868498b94fb3d</th>\n",
       "      <td>1</td>\n",
       "      <td>61</td>\n",
       "      <td>10.134146</td>\n",
       "      <td>96</td>\n",
       "      <td>33</td>\n",
       "      <td>739140</td>\n",
       "      <td>2024-09-11</td>\n",
       "      <td>None</td>\n",
       "      <td>None</td>\n",
       "    </tr>\n",
       "    <tr>\n",
       "      <th>0x41b44a79dbf04ae0d82abc1cb9da87f2e4cda591</th>\n",
       "      <td>1</td>\n",
       "      <td>120</td>\n",
       "      <td>423.887492</td>\n",
       "      <td>138</td>\n",
       "      <td>64</td>\n",
       "      <td>739077</td>\n",
       "      <td>2024-11-08</td>\n",
       "      <td>None</td>\n",
       "      <td>None</td>\n",
       "    </tr>\n",
       "    <tr>\n",
       "      <th>0x96fe34bcb9ee96a014ccc441434429fe1d522640</th>\n",
       "      <td>1</td>\n",
       "      <td>1</td>\n",
       "      <td>1.237585</td>\n",
       "      <td>1</td>\n",
       "      <td>1</td>\n",
       "      <td>738889</td>\n",
       "      <td>2024-01-04</td>\n",
       "      <td>None</td>\n",
       "      <td>None</td>\n",
       "    </tr>\n",
       "    <tr>\n",
       "      <th>0x647530bb6b399caeaaf27670c2b9b5f7431fbb96</th>\n",
       "      <td>1</td>\n",
       "      <td>62</td>\n",
       "      <td>251.723502</td>\n",
       "      <td>70</td>\n",
       "      <td>38</td>\n",
       "      <td>739170</td>\n",
       "      <td>2024-11-08</td>\n",
       "      <td>None</td>\n",
       "      <td>None</td>\n",
       "    </tr>\n",
       "  </tbody>\n",
       "</table>\n",
       "</div>"
      ],
      "text/plain": [
       "                                            interacted_wallets active_days  \\\n",
       "0x05415963e593fcfbab4cd6b01340fc495047423f                   4        2539   \n",
       "0x1650683e50e075efc778be4d1a6be929f3831719                  10       12889   \n",
       "0x36e242d81187123c4860c7e86874c23a8a21b6ad                   1          19   \n",
       "0x8e202d4b77ac50343e753d898a2ef965f79abaa7                   1          90   \n",
       "0xc132d6439a1a139f9a10e56150c00f448c370a61                   1          21   \n",
       "0x1c1bd8c213ecf004ace7866e12abc405a19b3ae3                   2         249   \n",
       "0x268766bd81e082b0a8e671fa950525f57b096b3b                   1         832   \n",
       "0x449d04edc47f0b69477f6876815230264f76e1d6                   2         830   \n",
       "0x73d05eb78a200b1400b882939aab240dfcd6a824                   2         877   \n",
       "0x8e7fef28b08e6845fbeabd972a3bd963939ab54a                   1         194   \n",
       "0xa17c6c6af848ac474f99480fda8564356896b3e3                   1         199   \n",
       "0xa314d23820cb18d2956c2e65a816b9b545215d54                   2         932   \n",
       "0xc9f8ce0fc268949b70d55a055db879ed8d9656af                   3         384   \n",
       "0xebcd250474c27cbad3c56f3f34e08f97b370ac2d                   2        2193   \n",
       "0x4465358bfedabdc99f0a20c5d42b4945a79af03a                   1          13   \n",
       "0x205473a3ce9780d87b0a4ae8a1a4311a87a82dae                   1          32   \n",
       "0x32e1e3bf7e47c3d26245499c4effaf556b07fcee                   1          80   \n",
       "0x40c4fc6b017b91b501a5218f6f3868498b94fb3d                   1          61   \n",
       "0x41b44a79dbf04ae0d82abc1cb9da87f2e4cda591                   1         120   \n",
       "0x96fe34bcb9ee96a014ccc441434429fe1d522640                   1           1   \n",
       "0x647530bb6b399caeaaf27670c2b9b5f7431fbb96                   1          62   \n",
       "\n",
       "                                           total_gas_fee_in_usd txn_count  \\\n",
       "0x05415963e593fcfbab4cd6b01340fc495047423f          2622.214339      3843   \n",
       "0x1650683e50e075efc778be4d1a6be929f3831719         15997.713794     16227   \n",
       "0x36e242d81187123c4860c7e86874c23a8a21b6ad            14.259276        19   \n",
       "0x8e202d4b77ac50343e753d898a2ef965f79abaa7          1499.396391       102   \n",
       "0xc132d6439a1a139f9a10e56150c00f448c370a61             4.223352        24   \n",
       "0x1c1bd8c213ecf004ace7866e12abc405a19b3ae3           181.450406       445   \n",
       "0x268766bd81e082b0a8e671fa950525f57b096b3b           240.042779      1053   \n",
       "0x449d04edc47f0b69477f6876815230264f76e1d6           236.382807      1199   \n",
       "0x73d05eb78a200b1400b882939aab240dfcd6a824           325.799701      1326   \n",
       "0x8e7fef28b08e6845fbeabd972a3bd963939ab54a           407.960157       244   \n",
       "0xa17c6c6af848ac474f99480fda8564356896b3e3            33.538301       330   \n",
       "0xa314d23820cb18d2956c2e65a816b9b545215d54           560.952392      1248   \n",
       "0xc9f8ce0fc268949b70d55a055db879ed8d9656af           633.046341       625   \n",
       "0xebcd250474c27cbad3c56f3f34e08f97b370ac2d          1137.160924      4069   \n",
       "0x4465358bfedabdc99f0a20c5d42b4945a79af03a             0.607119        15   \n",
       "0x205473a3ce9780d87b0a4ae8a1a4311a87a82dae             8.066107        32   \n",
       "0x32e1e3bf7e47c3d26245499c4effaf556b07fcee             3.597563        85   \n",
       "0x40c4fc6b017b91b501a5218f6f3868498b94fb3d            10.134146        96   \n",
       "0x41b44a79dbf04ae0d82abc1cb9da87f2e4cda591           423.887492       138   \n",
       "0x96fe34bcb9ee96a014ccc441434429fe1d522640             1.237585         1   \n",
       "0x647530bb6b399caeaaf27670c2b9b5f7431fbb96           251.723502        70   \n",
       "\n",
       "                                           wallets_interacted  \\\n",
       "0x05415963e593fcfbab4cd6b01340fc495047423f                487   \n",
       "0x1650683e50e075efc778be4d1a6be929f3831719               6667   \n",
       "0x36e242d81187123c4860c7e86874c23a8a21b6ad                 13   \n",
       "0x8e202d4b77ac50343e753d898a2ef965f79abaa7                 32   \n",
       "0xc132d6439a1a139f9a10e56150c00f448c370a61                  3   \n",
       "0x1c1bd8c213ecf004ace7866e12abc405a19b3ae3                125   \n",
       "0x268766bd81e082b0a8e671fa950525f57b096b3b                252   \n",
       "0x449d04edc47f0b69477f6876815230264f76e1d6                190   \n",
       "0x73d05eb78a200b1400b882939aab240dfcd6a824                173   \n",
       "0x8e7fef28b08e6845fbeabd972a3bd963939ab54a                 94   \n",
       "0xa17c6c6af848ac474f99480fda8564356896b3e3                100   \n",
       "0xa314d23820cb18d2956c2e65a816b9b545215d54                285   \n",
       "0xc9f8ce0fc268949b70d55a055db879ed8d9656af                170   \n",
       "0xebcd250474c27cbad3c56f3f34e08f97b370ac2d                513   \n",
       "0x4465358bfedabdc99f0a20c5d42b4945a79af03a                 11   \n",
       "0x205473a3ce9780d87b0a4ae8a1a4311a87a82dae                 14   \n",
       "0x32e1e3bf7e47c3d26245499c4effaf556b07fcee                 13   \n",
       "0x40c4fc6b017b91b501a5218f6f3868498b94fb3d                 33   \n",
       "0x41b44a79dbf04ae0d82abc1cb9da87f2e4cda591                 64   \n",
       "0x96fe34bcb9ee96a014ccc441434429fe1d522640                  1   \n",
       "0x647530bb6b399caeaaf27670c2b9b5f7431fbb96                 38   \n",
       "\n",
       "                                           last_txn_date_int last_txn_date  \\\n",
       "0x05415963e593fcfbab4cd6b01340fc495047423f            739221    2024-12-12   \n",
       "0x1650683e50e075efc778be4d1a6be929f3831719            739231    2024-12-12   \n",
       "0x36e242d81187123c4860c7e86874c23a8a21b6ad            739136    2024-09-07   \n",
       "0x8e202d4b77ac50343e753d898a2ef965f79abaa7            739213    2024-11-23   \n",
       "0xc132d6439a1a139f9a10e56150c00f448c370a61            738947    2024-11-29   \n",
       "0x1c1bd8c213ecf004ace7866e12abc405a19b3ae3            739209    2024-11-26   \n",
       "0x268766bd81e082b0a8e671fa950525f57b096b3b            739101    2024-11-04   \n",
       "0x449d04edc47f0b69477f6876815230264f76e1d6            739174    2024-10-15   \n",
       "0x73d05eb78a200b1400b882939aab240dfcd6a824            739222    2024-12-02   \n",
       "0x8e7fef28b08e6845fbeabd972a3bd963939ab54a            739043    2024-12-08   \n",
       "0xa17c6c6af848ac474f99480fda8564356896b3e3            739092    2024-12-08   \n",
       "0xa314d23820cb18d2956c2e65a816b9b545215d54            739200    2024-12-08   \n",
       "0xc9f8ce0fc268949b70d55a055db879ed8d9656af            739047    2024-11-08   \n",
       "0xebcd250474c27cbad3c56f3f34e08f97b370ac2d            739231    2024-12-11   \n",
       "0x4465358bfedabdc99f0a20c5d42b4945a79af03a            738916    2024-06-05   \n",
       "0x205473a3ce9780d87b0a4ae8a1a4311a87a82dae            739005    2024-10-03   \n",
       "0x32e1e3bf7e47c3d26245499c4effaf556b07fcee            739131    2024-11-23   \n",
       "0x40c4fc6b017b91b501a5218f6f3868498b94fb3d            739140    2024-09-11   \n",
       "0x41b44a79dbf04ae0d82abc1cb9da87f2e4cda591            739077    2024-11-08   \n",
       "0x96fe34bcb9ee96a014ccc441434429fe1d522640            738889    2024-01-04   \n",
       "0x647530bb6b399caeaaf27670c2b9b5f7431fbb96            739170    2024-11-08   \n",
       "\n",
       "                                           start_date end_date  \n",
       "0x05415963e593fcfbab4cd6b01340fc495047423f       None     None  \n",
       "0x1650683e50e075efc778be4d1a6be929f3831719       None     None  \n",
       "0x36e242d81187123c4860c7e86874c23a8a21b6ad       None     None  \n",
       "0x8e202d4b77ac50343e753d898a2ef965f79abaa7       None     None  \n",
       "0xc132d6439a1a139f9a10e56150c00f448c370a61       None     None  \n",
       "0x1c1bd8c213ecf004ace7866e12abc405a19b3ae3       None     None  \n",
       "0x268766bd81e082b0a8e671fa950525f57b096b3b       None     None  \n",
       "0x449d04edc47f0b69477f6876815230264f76e1d6       None     None  \n",
       "0x73d05eb78a200b1400b882939aab240dfcd6a824       None     None  \n",
       "0x8e7fef28b08e6845fbeabd972a3bd963939ab54a       None     None  \n",
       "0xa17c6c6af848ac474f99480fda8564356896b3e3       None     None  \n",
       "0xa314d23820cb18d2956c2e65a816b9b545215d54       None     None  \n",
       "0xc9f8ce0fc268949b70d55a055db879ed8d9656af       None     None  \n",
       "0xebcd250474c27cbad3c56f3f34e08f97b370ac2d       None     None  \n",
       "0x4465358bfedabdc99f0a20c5d42b4945a79af03a       None     None  \n",
       "0x205473a3ce9780d87b0a4ae8a1a4311a87a82dae       None     None  \n",
       "0x32e1e3bf7e47c3d26245499c4effaf556b07fcee       None     None  \n",
       "0x40c4fc6b017b91b501a5218f6f3868498b94fb3d       None     None  \n",
       "0x41b44a79dbf04ae0d82abc1cb9da87f2e4cda591       None     None  \n",
       "0x96fe34bcb9ee96a014ccc441434429fe1d522640       None     None  \n",
       "0x647530bb6b399caeaaf27670c2b9b5f7431fbb96       None     None  "
      ]
     },
     "execution_count": 370,
     "metadata": {},
     "output_type": "execute_result"
    }
   ],
   "source": [
    "test_df = clustering_info(plot_community_lst, None, None)\n",
    "test_df"
   ]
  },
  {
   "cell_type": "code",
   "execution_count": 371,
   "metadata": {},
   "outputs": [
    {
     "name": "stdout",
     "output_type": "stream",
     "text": [
      "21\n"
     ]
    },
    {
     "data": {
      "text/html": [
       "<div>\n",
       "<style scoped>\n",
       "    .dataframe tbody tr th:only-of-type {\n",
       "        vertical-align: middle;\n",
       "    }\n",
       "\n",
       "    .dataframe tbody tr th {\n",
       "        vertical-align: top;\n",
       "    }\n",
       "\n",
       "    .dataframe thead th {\n",
       "        text-align: right;\n",
       "    }\n",
       "</style>\n",
       "<table border=\"1\" class=\"dataframe\">\n",
       "  <thead>\n",
       "    <tr style=\"text-align: right;\">\n",
       "      <th></th>\n",
       "      <th>interacted_wallets</th>\n",
       "      <th>active_days</th>\n",
       "      <th>total_gas_fee_in_usd</th>\n",
       "      <th>txn_count</th>\n",
       "      <th>wallets_interacted</th>\n",
       "      <th>last_txn_date_int</th>\n",
       "      <th>last_txn_date</th>\n",
       "      <th>start_date</th>\n",
       "      <th>end_date</th>\n",
       "      <th>isolation_forest</th>\n",
       "      <th>optics</th>\n",
       "      <th>type</th>\n",
       "    </tr>\n",
       "  </thead>\n",
       "  <tbody>\n",
       "    <tr>\n",
       "      <th>0x8e202d4b77ac50343e753d898a2ef965f79abaa7</th>\n",
       "      <td>1</td>\n",
       "      <td>90</td>\n",
       "      <td>1499.396391</td>\n",
       "      <td>102</td>\n",
       "      <td>32</td>\n",
       "      <td>739213</td>\n",
       "      <td>2024-11-23</td>\n",
       "      <td>None</td>\n",
       "      <td>None</td>\n",
       "      <td>1</td>\n",
       "      <td>-1.0</td>\n",
       "      <td>normal</td>\n",
       "    </tr>\n",
       "    <tr>\n",
       "      <th>0x41b44a79dbf04ae0d82abc1cb9da87f2e4cda591</th>\n",
       "      <td>1</td>\n",
       "      <td>120</td>\n",
       "      <td>423.887492</td>\n",
       "      <td>138</td>\n",
       "      <td>64</td>\n",
       "      <td>739077</td>\n",
       "      <td>2024-11-08</td>\n",
       "      <td>None</td>\n",
       "      <td>None</td>\n",
       "      <td>1</td>\n",
       "      <td>-1.0</td>\n",
       "      <td>normal</td>\n",
       "    </tr>\n",
       "    <tr>\n",
       "      <th>0x268766bd81e082b0a8e671fa950525f57b096b3b</th>\n",
       "      <td>1</td>\n",
       "      <td>832</td>\n",
       "      <td>240.042779</td>\n",
       "      <td>1053</td>\n",
       "      <td>252</td>\n",
       "      <td>739101</td>\n",
       "      <td>2024-11-04</td>\n",
       "      <td>None</td>\n",
       "      <td>None</td>\n",
       "      <td>1</td>\n",
       "      <td>-1.0</td>\n",
       "      <td>normal</td>\n",
       "    </tr>\n",
       "    <tr>\n",
       "      <th>0xebcd250474c27cbad3c56f3f34e08f97b370ac2d</th>\n",
       "      <td>2</td>\n",
       "      <td>2193</td>\n",
       "      <td>1137.160924</td>\n",
       "      <td>4069</td>\n",
       "      <td>513</td>\n",
       "      <td>739231</td>\n",
       "      <td>2024-12-11</td>\n",
       "      <td>None</td>\n",
       "      <td>None</td>\n",
       "      <td>1</td>\n",
       "      <td>-1.0</td>\n",
       "      <td>normal</td>\n",
       "    </tr>\n",
       "    <tr>\n",
       "      <th>0x8e7fef28b08e6845fbeabd972a3bd963939ab54a</th>\n",
       "      <td>1</td>\n",
       "      <td>194</td>\n",
       "      <td>407.960157</td>\n",
       "      <td>244</td>\n",
       "      <td>94</td>\n",
       "      <td>739043</td>\n",
       "      <td>2024-12-08</td>\n",
       "      <td>None</td>\n",
       "      <td>None</td>\n",
       "      <td>1</td>\n",
       "      <td>-1.0</td>\n",
       "      <td>normal</td>\n",
       "    </tr>\n",
       "    <tr>\n",
       "      <th>0x36e242d81187123c4860c7e86874c23a8a21b6ad</th>\n",
       "      <td>1</td>\n",
       "      <td>19</td>\n",
       "      <td>14.259276</td>\n",
       "      <td>19</td>\n",
       "      <td>13</td>\n",
       "      <td>739136</td>\n",
       "      <td>2024-09-07</td>\n",
       "      <td>None</td>\n",
       "      <td>None</td>\n",
       "      <td>1</td>\n",
       "      <td>0.0</td>\n",
       "      <td>sybil</td>\n",
       "    </tr>\n",
       "    <tr>\n",
       "      <th>0x40c4fc6b017b91b501a5218f6f3868498b94fb3d</th>\n",
       "      <td>1</td>\n",
       "      <td>61</td>\n",
       "      <td>10.134146</td>\n",
       "      <td>96</td>\n",
       "      <td>33</td>\n",
       "      <td>739140</td>\n",
       "      <td>2024-09-11</td>\n",
       "      <td>None</td>\n",
       "      <td>None</td>\n",
       "      <td>1</td>\n",
       "      <td>0.0</td>\n",
       "      <td>sybil</td>\n",
       "    </tr>\n",
       "    <tr>\n",
       "      <th>0x32e1e3bf7e47c3d26245499c4effaf556b07fcee</th>\n",
       "      <td>1</td>\n",
       "      <td>80</td>\n",
       "      <td>3.597563</td>\n",
       "      <td>85</td>\n",
       "      <td>13</td>\n",
       "      <td>739131</td>\n",
       "      <td>2024-11-23</td>\n",
       "      <td>None</td>\n",
       "      <td>None</td>\n",
       "      <td>1</td>\n",
       "      <td>0.0</td>\n",
       "      <td>sybil</td>\n",
       "    </tr>\n",
       "    <tr>\n",
       "      <th>0xa17c6c6af848ac474f99480fda8564356896b3e3</th>\n",
       "      <td>1</td>\n",
       "      <td>199</td>\n",
       "      <td>33.538301</td>\n",
       "      <td>330</td>\n",
       "      <td>100</td>\n",
       "      <td>739092</td>\n",
       "      <td>2024-12-08</td>\n",
       "      <td>None</td>\n",
       "      <td>None</td>\n",
       "      <td>1</td>\n",
       "      <td>0.0</td>\n",
       "      <td>sybil</td>\n",
       "    </tr>\n",
       "    <tr>\n",
       "      <th>0x647530bb6b399caeaaf27670c2b9b5f7431fbb96</th>\n",
       "      <td>1</td>\n",
       "      <td>62</td>\n",
       "      <td>251.723502</td>\n",
       "      <td>70</td>\n",
       "      <td>38</td>\n",
       "      <td>739170</td>\n",
       "      <td>2024-11-08</td>\n",
       "      <td>None</td>\n",
       "      <td>None</td>\n",
       "      <td>1</td>\n",
       "      <td>0.0</td>\n",
       "      <td>sybil</td>\n",
       "    </tr>\n",
       "    <tr>\n",
       "      <th>0x4465358bfedabdc99f0a20c5d42b4945a79af03a</th>\n",
       "      <td>1</td>\n",
       "      <td>13</td>\n",
       "      <td>0.607119</td>\n",
       "      <td>15</td>\n",
       "      <td>11</td>\n",
       "      <td>738916</td>\n",
       "      <td>2024-06-05</td>\n",
       "      <td>None</td>\n",
       "      <td>None</td>\n",
       "      <td>1</td>\n",
       "      <td>1.0</td>\n",
       "      <td>sybil</td>\n",
       "    </tr>\n",
       "    <tr>\n",
       "      <th>0x205473a3ce9780d87b0a4ae8a1a4311a87a82dae</th>\n",
       "      <td>1</td>\n",
       "      <td>32</td>\n",
       "      <td>8.066107</td>\n",
       "      <td>32</td>\n",
       "      <td>14</td>\n",
       "      <td>739005</td>\n",
       "      <td>2024-10-03</td>\n",
       "      <td>None</td>\n",
       "      <td>None</td>\n",
       "      <td>1</td>\n",
       "      <td>1.0</td>\n",
       "      <td>sybil</td>\n",
       "    </tr>\n",
       "    <tr>\n",
       "      <th>0xc132d6439a1a139f9a10e56150c00f448c370a61</th>\n",
       "      <td>1</td>\n",
       "      <td>21</td>\n",
       "      <td>4.223352</td>\n",
       "      <td>24</td>\n",
       "      <td>3</td>\n",
       "      <td>738947</td>\n",
       "      <td>2024-11-29</td>\n",
       "      <td>None</td>\n",
       "      <td>None</td>\n",
       "      <td>1</td>\n",
       "      <td>1.0</td>\n",
       "      <td>sybil</td>\n",
       "    </tr>\n",
       "    <tr>\n",
       "      <th>0x96fe34bcb9ee96a014ccc441434429fe1d522640</th>\n",
       "      <td>1</td>\n",
       "      <td>1</td>\n",
       "      <td>1.237585</td>\n",
       "      <td>1</td>\n",
       "      <td>1</td>\n",
       "      <td>738889</td>\n",
       "      <td>2024-01-04</td>\n",
       "      <td>None</td>\n",
       "      <td>None</td>\n",
       "      <td>1</td>\n",
       "      <td>1.0</td>\n",
       "      <td>sybil</td>\n",
       "    </tr>\n",
       "    <tr>\n",
       "      <th>0xa314d23820cb18d2956c2e65a816b9b545215d54</th>\n",
       "      <td>2</td>\n",
       "      <td>932</td>\n",
       "      <td>560.952392</td>\n",
       "      <td>1248</td>\n",
       "      <td>285</td>\n",
       "      <td>739200</td>\n",
       "      <td>2024-12-08</td>\n",
       "      <td>None</td>\n",
       "      <td>None</td>\n",
       "      <td>1</td>\n",
       "      <td>2.0</td>\n",
       "      <td>sybil</td>\n",
       "    </tr>\n",
       "    <tr>\n",
       "      <th>0x73d05eb78a200b1400b882939aab240dfcd6a824</th>\n",
       "      <td>2</td>\n",
       "      <td>877</td>\n",
       "      <td>325.799701</td>\n",
       "      <td>1326</td>\n",
       "      <td>173</td>\n",
       "      <td>739222</td>\n",
       "      <td>2024-12-02</td>\n",
       "      <td>None</td>\n",
       "      <td>None</td>\n",
       "      <td>1</td>\n",
       "      <td>2.0</td>\n",
       "      <td>sybil</td>\n",
       "    </tr>\n",
       "    <tr>\n",
       "      <th>0x449d04edc47f0b69477f6876815230264f76e1d6</th>\n",
       "      <td>2</td>\n",
       "      <td>830</td>\n",
       "      <td>236.382807</td>\n",
       "      <td>1199</td>\n",
       "      <td>190</td>\n",
       "      <td>739174</td>\n",
       "      <td>2024-10-15</td>\n",
       "      <td>None</td>\n",
       "      <td>None</td>\n",
       "      <td>1</td>\n",
       "      <td>2.0</td>\n",
       "      <td>sybil</td>\n",
       "    </tr>\n",
       "    <tr>\n",
       "      <th>0x1c1bd8c213ecf004ace7866e12abc405a19b3ae3</th>\n",
       "      <td>2</td>\n",
       "      <td>249</td>\n",
       "      <td>181.450406</td>\n",
       "      <td>445</td>\n",
       "      <td>125</td>\n",
       "      <td>739209</td>\n",
       "      <td>2024-11-26</td>\n",
       "      <td>None</td>\n",
       "      <td>None</td>\n",
       "      <td>1</td>\n",
       "      <td>2.0</td>\n",
       "      <td>sybil</td>\n",
       "    </tr>\n",
       "    <tr>\n",
       "      <th>0x05415963e593fcfbab4cd6b01340fc495047423f</th>\n",
       "      <td>4</td>\n",
       "      <td>2539</td>\n",
       "      <td>2622.214339</td>\n",
       "      <td>3843</td>\n",
       "      <td>487</td>\n",
       "      <td>739221</td>\n",
       "      <td>2024-12-12</td>\n",
       "      <td>None</td>\n",
       "      <td>None</td>\n",
       "      <td>-1</td>\n",
       "      <td>NaN</td>\n",
       "      <td>sybil_core</td>\n",
       "    </tr>\n",
       "    <tr>\n",
       "      <th>0x1650683e50e075efc778be4d1a6be929f3831719</th>\n",
       "      <td>10</td>\n",
       "      <td>12889</td>\n",
       "      <td>15997.713794</td>\n",
       "      <td>16227</td>\n",
       "      <td>6667</td>\n",
       "      <td>739231</td>\n",
       "      <td>2024-12-12</td>\n",
       "      <td>None</td>\n",
       "      <td>None</td>\n",
       "      <td>-1</td>\n",
       "      <td>NaN</td>\n",
       "      <td>sybil_core</td>\n",
       "    </tr>\n",
       "    <tr>\n",
       "      <th>0xc9f8ce0fc268949b70d55a055db879ed8d9656af</th>\n",
       "      <td>3</td>\n",
       "      <td>384</td>\n",
       "      <td>633.046341</td>\n",
       "      <td>625</td>\n",
       "      <td>170</td>\n",
       "      <td>739047</td>\n",
       "      <td>2024-11-08</td>\n",
       "      <td>None</td>\n",
       "      <td>None</td>\n",
       "      <td>-1</td>\n",
       "      <td>NaN</td>\n",
       "      <td>sybil_core</td>\n",
       "    </tr>\n",
       "  </tbody>\n",
       "</table>\n",
       "</div>"
      ],
      "text/plain": [
       "                                            interacted_wallets active_days  \\\n",
       "0x8e202d4b77ac50343e753d898a2ef965f79abaa7                   1          90   \n",
       "0x41b44a79dbf04ae0d82abc1cb9da87f2e4cda591                   1         120   \n",
       "0x268766bd81e082b0a8e671fa950525f57b096b3b                   1         832   \n",
       "0xebcd250474c27cbad3c56f3f34e08f97b370ac2d                   2        2193   \n",
       "0x8e7fef28b08e6845fbeabd972a3bd963939ab54a                   1         194   \n",
       "0x36e242d81187123c4860c7e86874c23a8a21b6ad                   1          19   \n",
       "0x40c4fc6b017b91b501a5218f6f3868498b94fb3d                   1          61   \n",
       "0x32e1e3bf7e47c3d26245499c4effaf556b07fcee                   1          80   \n",
       "0xa17c6c6af848ac474f99480fda8564356896b3e3                   1         199   \n",
       "0x647530bb6b399caeaaf27670c2b9b5f7431fbb96                   1          62   \n",
       "0x4465358bfedabdc99f0a20c5d42b4945a79af03a                   1          13   \n",
       "0x205473a3ce9780d87b0a4ae8a1a4311a87a82dae                   1          32   \n",
       "0xc132d6439a1a139f9a10e56150c00f448c370a61                   1          21   \n",
       "0x96fe34bcb9ee96a014ccc441434429fe1d522640                   1           1   \n",
       "0xa314d23820cb18d2956c2e65a816b9b545215d54                   2         932   \n",
       "0x73d05eb78a200b1400b882939aab240dfcd6a824                   2         877   \n",
       "0x449d04edc47f0b69477f6876815230264f76e1d6                   2         830   \n",
       "0x1c1bd8c213ecf004ace7866e12abc405a19b3ae3                   2         249   \n",
       "0x05415963e593fcfbab4cd6b01340fc495047423f                   4        2539   \n",
       "0x1650683e50e075efc778be4d1a6be929f3831719                  10       12889   \n",
       "0xc9f8ce0fc268949b70d55a055db879ed8d9656af                   3         384   \n",
       "\n",
       "                                           total_gas_fee_in_usd txn_count  \\\n",
       "0x8e202d4b77ac50343e753d898a2ef965f79abaa7          1499.396391       102   \n",
       "0x41b44a79dbf04ae0d82abc1cb9da87f2e4cda591           423.887492       138   \n",
       "0x268766bd81e082b0a8e671fa950525f57b096b3b           240.042779      1053   \n",
       "0xebcd250474c27cbad3c56f3f34e08f97b370ac2d          1137.160924      4069   \n",
       "0x8e7fef28b08e6845fbeabd972a3bd963939ab54a           407.960157       244   \n",
       "0x36e242d81187123c4860c7e86874c23a8a21b6ad            14.259276        19   \n",
       "0x40c4fc6b017b91b501a5218f6f3868498b94fb3d            10.134146        96   \n",
       "0x32e1e3bf7e47c3d26245499c4effaf556b07fcee             3.597563        85   \n",
       "0xa17c6c6af848ac474f99480fda8564356896b3e3            33.538301       330   \n",
       "0x647530bb6b399caeaaf27670c2b9b5f7431fbb96           251.723502        70   \n",
       "0x4465358bfedabdc99f0a20c5d42b4945a79af03a             0.607119        15   \n",
       "0x205473a3ce9780d87b0a4ae8a1a4311a87a82dae             8.066107        32   \n",
       "0xc132d6439a1a139f9a10e56150c00f448c370a61             4.223352        24   \n",
       "0x96fe34bcb9ee96a014ccc441434429fe1d522640             1.237585         1   \n",
       "0xa314d23820cb18d2956c2e65a816b9b545215d54           560.952392      1248   \n",
       "0x73d05eb78a200b1400b882939aab240dfcd6a824           325.799701      1326   \n",
       "0x449d04edc47f0b69477f6876815230264f76e1d6           236.382807      1199   \n",
       "0x1c1bd8c213ecf004ace7866e12abc405a19b3ae3           181.450406       445   \n",
       "0x05415963e593fcfbab4cd6b01340fc495047423f          2622.214339      3843   \n",
       "0x1650683e50e075efc778be4d1a6be929f3831719         15997.713794     16227   \n",
       "0xc9f8ce0fc268949b70d55a055db879ed8d9656af           633.046341       625   \n",
       "\n",
       "                                           wallets_interacted  \\\n",
       "0x8e202d4b77ac50343e753d898a2ef965f79abaa7                 32   \n",
       "0x41b44a79dbf04ae0d82abc1cb9da87f2e4cda591                 64   \n",
       "0x268766bd81e082b0a8e671fa950525f57b096b3b                252   \n",
       "0xebcd250474c27cbad3c56f3f34e08f97b370ac2d                513   \n",
       "0x8e7fef28b08e6845fbeabd972a3bd963939ab54a                 94   \n",
       "0x36e242d81187123c4860c7e86874c23a8a21b6ad                 13   \n",
       "0x40c4fc6b017b91b501a5218f6f3868498b94fb3d                 33   \n",
       "0x32e1e3bf7e47c3d26245499c4effaf556b07fcee                 13   \n",
       "0xa17c6c6af848ac474f99480fda8564356896b3e3                100   \n",
       "0x647530bb6b399caeaaf27670c2b9b5f7431fbb96                 38   \n",
       "0x4465358bfedabdc99f0a20c5d42b4945a79af03a                 11   \n",
       "0x205473a3ce9780d87b0a4ae8a1a4311a87a82dae                 14   \n",
       "0xc132d6439a1a139f9a10e56150c00f448c370a61                  3   \n",
       "0x96fe34bcb9ee96a014ccc441434429fe1d522640                  1   \n",
       "0xa314d23820cb18d2956c2e65a816b9b545215d54                285   \n",
       "0x73d05eb78a200b1400b882939aab240dfcd6a824                173   \n",
       "0x449d04edc47f0b69477f6876815230264f76e1d6                190   \n",
       "0x1c1bd8c213ecf004ace7866e12abc405a19b3ae3                125   \n",
       "0x05415963e593fcfbab4cd6b01340fc495047423f                487   \n",
       "0x1650683e50e075efc778be4d1a6be929f3831719               6667   \n",
       "0xc9f8ce0fc268949b70d55a055db879ed8d9656af                170   \n",
       "\n",
       "                                           last_txn_date_int last_txn_date  \\\n",
       "0x8e202d4b77ac50343e753d898a2ef965f79abaa7            739213    2024-11-23   \n",
       "0x41b44a79dbf04ae0d82abc1cb9da87f2e4cda591            739077    2024-11-08   \n",
       "0x268766bd81e082b0a8e671fa950525f57b096b3b            739101    2024-11-04   \n",
       "0xebcd250474c27cbad3c56f3f34e08f97b370ac2d            739231    2024-12-11   \n",
       "0x8e7fef28b08e6845fbeabd972a3bd963939ab54a            739043    2024-12-08   \n",
       "0x36e242d81187123c4860c7e86874c23a8a21b6ad            739136    2024-09-07   \n",
       "0x40c4fc6b017b91b501a5218f6f3868498b94fb3d            739140    2024-09-11   \n",
       "0x32e1e3bf7e47c3d26245499c4effaf556b07fcee            739131    2024-11-23   \n",
       "0xa17c6c6af848ac474f99480fda8564356896b3e3            739092    2024-12-08   \n",
       "0x647530bb6b399caeaaf27670c2b9b5f7431fbb96            739170    2024-11-08   \n",
       "0x4465358bfedabdc99f0a20c5d42b4945a79af03a            738916    2024-06-05   \n",
       "0x205473a3ce9780d87b0a4ae8a1a4311a87a82dae            739005    2024-10-03   \n",
       "0xc132d6439a1a139f9a10e56150c00f448c370a61            738947    2024-11-29   \n",
       "0x96fe34bcb9ee96a014ccc441434429fe1d522640            738889    2024-01-04   \n",
       "0xa314d23820cb18d2956c2e65a816b9b545215d54            739200    2024-12-08   \n",
       "0x73d05eb78a200b1400b882939aab240dfcd6a824            739222    2024-12-02   \n",
       "0x449d04edc47f0b69477f6876815230264f76e1d6            739174    2024-10-15   \n",
       "0x1c1bd8c213ecf004ace7866e12abc405a19b3ae3            739209    2024-11-26   \n",
       "0x05415963e593fcfbab4cd6b01340fc495047423f            739221    2024-12-12   \n",
       "0x1650683e50e075efc778be4d1a6be929f3831719            739231    2024-12-12   \n",
       "0xc9f8ce0fc268949b70d55a055db879ed8d9656af            739047    2024-11-08   \n",
       "\n",
       "                                           start_date end_date  \\\n",
       "0x8e202d4b77ac50343e753d898a2ef965f79abaa7       None     None   \n",
       "0x41b44a79dbf04ae0d82abc1cb9da87f2e4cda591       None     None   \n",
       "0x268766bd81e082b0a8e671fa950525f57b096b3b       None     None   \n",
       "0xebcd250474c27cbad3c56f3f34e08f97b370ac2d       None     None   \n",
       "0x8e7fef28b08e6845fbeabd972a3bd963939ab54a       None     None   \n",
       "0x36e242d81187123c4860c7e86874c23a8a21b6ad       None     None   \n",
       "0x40c4fc6b017b91b501a5218f6f3868498b94fb3d       None     None   \n",
       "0x32e1e3bf7e47c3d26245499c4effaf556b07fcee       None     None   \n",
       "0xa17c6c6af848ac474f99480fda8564356896b3e3       None     None   \n",
       "0x647530bb6b399caeaaf27670c2b9b5f7431fbb96       None     None   \n",
       "0x4465358bfedabdc99f0a20c5d42b4945a79af03a       None     None   \n",
       "0x205473a3ce9780d87b0a4ae8a1a4311a87a82dae       None     None   \n",
       "0xc132d6439a1a139f9a10e56150c00f448c370a61       None     None   \n",
       "0x96fe34bcb9ee96a014ccc441434429fe1d522640       None     None   \n",
       "0xa314d23820cb18d2956c2e65a816b9b545215d54       None     None   \n",
       "0x73d05eb78a200b1400b882939aab240dfcd6a824       None     None   \n",
       "0x449d04edc47f0b69477f6876815230264f76e1d6       None     None   \n",
       "0x1c1bd8c213ecf004ace7866e12abc405a19b3ae3       None     None   \n",
       "0x05415963e593fcfbab4cd6b01340fc495047423f       None     None   \n",
       "0x1650683e50e075efc778be4d1a6be929f3831719       None     None   \n",
       "0xc9f8ce0fc268949b70d55a055db879ed8d9656af       None     None   \n",
       "\n",
       "                                            isolation_forest  optics  \\\n",
       "0x8e202d4b77ac50343e753d898a2ef965f79abaa7                 1    -1.0   \n",
       "0x41b44a79dbf04ae0d82abc1cb9da87f2e4cda591                 1    -1.0   \n",
       "0x268766bd81e082b0a8e671fa950525f57b096b3b                 1    -1.0   \n",
       "0xebcd250474c27cbad3c56f3f34e08f97b370ac2d                 1    -1.0   \n",
       "0x8e7fef28b08e6845fbeabd972a3bd963939ab54a                 1    -1.0   \n",
       "0x36e242d81187123c4860c7e86874c23a8a21b6ad                 1     0.0   \n",
       "0x40c4fc6b017b91b501a5218f6f3868498b94fb3d                 1     0.0   \n",
       "0x32e1e3bf7e47c3d26245499c4effaf556b07fcee                 1     0.0   \n",
       "0xa17c6c6af848ac474f99480fda8564356896b3e3                 1     0.0   \n",
       "0x647530bb6b399caeaaf27670c2b9b5f7431fbb96                 1     0.0   \n",
       "0x4465358bfedabdc99f0a20c5d42b4945a79af03a                 1     1.0   \n",
       "0x205473a3ce9780d87b0a4ae8a1a4311a87a82dae                 1     1.0   \n",
       "0xc132d6439a1a139f9a10e56150c00f448c370a61                 1     1.0   \n",
       "0x96fe34bcb9ee96a014ccc441434429fe1d522640                 1     1.0   \n",
       "0xa314d23820cb18d2956c2e65a816b9b545215d54                 1     2.0   \n",
       "0x73d05eb78a200b1400b882939aab240dfcd6a824                 1     2.0   \n",
       "0x449d04edc47f0b69477f6876815230264f76e1d6                 1     2.0   \n",
       "0x1c1bd8c213ecf004ace7866e12abc405a19b3ae3                 1     2.0   \n",
       "0x05415963e593fcfbab4cd6b01340fc495047423f                -1     NaN   \n",
       "0x1650683e50e075efc778be4d1a6be929f3831719                -1     NaN   \n",
       "0xc9f8ce0fc268949b70d55a055db879ed8d9656af                -1     NaN   \n",
       "\n",
       "                                                  type  \n",
       "0x8e202d4b77ac50343e753d898a2ef965f79abaa7      normal  \n",
       "0x41b44a79dbf04ae0d82abc1cb9da87f2e4cda591      normal  \n",
       "0x268766bd81e082b0a8e671fa950525f57b096b3b      normal  \n",
       "0xebcd250474c27cbad3c56f3f34e08f97b370ac2d      normal  \n",
       "0x8e7fef28b08e6845fbeabd972a3bd963939ab54a      normal  \n",
       "0x36e242d81187123c4860c7e86874c23a8a21b6ad       sybil  \n",
       "0x40c4fc6b017b91b501a5218f6f3868498b94fb3d       sybil  \n",
       "0x32e1e3bf7e47c3d26245499c4effaf556b07fcee       sybil  \n",
       "0xa17c6c6af848ac474f99480fda8564356896b3e3       sybil  \n",
       "0x647530bb6b399caeaaf27670c2b9b5f7431fbb96       sybil  \n",
       "0x4465358bfedabdc99f0a20c5d42b4945a79af03a       sybil  \n",
       "0x205473a3ce9780d87b0a4ae8a1a4311a87a82dae       sybil  \n",
       "0xc132d6439a1a139f9a10e56150c00f448c370a61       sybil  \n",
       "0x96fe34bcb9ee96a014ccc441434429fe1d522640       sybil  \n",
       "0xa314d23820cb18d2956c2e65a816b9b545215d54       sybil  \n",
       "0x73d05eb78a200b1400b882939aab240dfcd6a824       sybil  \n",
       "0x449d04edc47f0b69477f6876815230264f76e1d6       sybil  \n",
       "0x1c1bd8c213ecf004ace7866e12abc405a19b3ae3       sybil  \n",
       "0x05415963e593fcfbab4cd6b01340fc495047423f  sybil_core  \n",
       "0x1650683e50e075efc778be4d1a6be929f3831719  sybil_core  \n",
       "0xc9f8ce0fc268949b70d55a055db879ed8d9656af  sybil_core  "
      ]
     },
     "execution_count": 371,
     "metadata": {},
     "output_type": "execute_result"
    }
   ],
   "source": [
    "iso_features = [\"interacted_wallets\"]\n",
    "optics_features = [\n",
    "    \"interacted_wallets\",\n",
    "    \"active_days\",\n",
    "    \"total_gas_fee_in_usd\",\n",
    "    \"txn_count\",\n",
    "    \"wallets_interacted\",\n",
    "    \"last_txn_date_int\",\n",
    "]\n",
    "\n",
    "clustered_df = two_step_clustering(\n",
    "    test_df, iso_features, optics_features, core_num = 5, optics_min_samples = 3\n",
    ")\n",
    "print(len(clustered_df))\n",
    "clustered_df.sort_values(by=['optics'])"
   ]
  },
  {
   "cell_type": "code",
   "execution_count": 380,
   "metadata": {},
   "outputs": [
    {
     "data": {
      "application/vnd.plotly.v1+json": {
       "config": {
        "plotlyServerURL": "https://plot.ly"
       },
       "data": [
        {
         "hoverinfo": "text",
         "line": {
          "color": "black",
          "width": 2
         },
         "mode": "lines",
         "text": [
          "weight: 0.69",
          "weight: 0.6",
          "weight: 0.69",
          "weight: 0.6",
          "weight: 0.6",
          "weight: 0.6",
          "weight: 0.6",
          "weight: 0.6",
          "weight: 0.69",
          "weight: 0.6",
          "weight: 0.6",
          "weight: 0.6",
          "weight: 0.6",
          "weight: 0.6",
          "weight: 0.6",
          "weight: 0.6",
          "weight: 0.6",
          "weight: 0.6",
          "weight: 0.6",
          "weight: 0.6"
         ],
         "type": "scatter",
         "x": [
          0.18675452693112687,
          -0.030151901033071752,
          null,
          0.18675452693112687,
          0.8637576656336107,
          null,
          0.18675452693112687,
          0.8448086975586439,
          null,
          0.18675452693112687,
          -0.8610296941551252,
          null,
          -0.030151901033071752,
          0.3307465203177193,
          null,
          -0.030151901033071752,
          -0.9460925606641726,
          null,
          -0.030151901033071752,
          -0.7924455066415592,
          null,
          -0.030151901033071752,
          0.30710828027185616,
          null,
          -0.030151901033071752,
          0.9831742177961189,
          null,
          -0.030151901033071752,
          0.07515508888135682,
          null,
          -0.030151901033071752,
          -0.46403086499384677,
          null,
          -0.030151901033071752,
          -0.38986831698159213,
          null,
          -0.030151901033071752,
          0.5218480497564352,
          null,
          0.3307465203177193,
          0.49661831820881364,
          null,
          -0.7924455066415592,
          -1,
          null,
          0.5396903215112526,
          0.5218480497564352,
          null,
          0.2176971239941235,
          0.30710828027185616,
          null,
          -0.36328791024748575,
          -0.46403086499384677,
          null,
          -0.22089667656674733,
          -0.38986831698159213,
          null,
          -0.29955537957745726,
          -0.38986831698159213,
          null
         ],
         "y": [
          0.14828042355309703,
          -0.05705470772633588,
          null,
          0.14828042355309703,
          -0.5208821194384382,
          null,
          0.14828042355309703,
          0.5444977595710463,
          null,
          0.14828042355309703,
          0.47342837982609487,
          null,
          -0.05705470772633588,
          0.6487225585253394,
          null,
          -0.05705470772633588,
          -0.5019654010676595,
          null,
          -0.05705470772633588,
          -0.05297168391416385,
          null,
          -0.05705470772633588,
          -0.9374204254349067,
          null,
          -0.05705470772633588,
          -0.04171666391499664,
          null,
          -0.05705470772633588,
          0.9754837235143958,
          null,
          -0.05705470772633588,
          -0.9853542419765455,
          null,
          -0.05705470772633588,
          0.9503284696168797,
          null,
          -0.05705470772633588,
          -0.6614455279311936,
          null,
          0.6487225585253394,
          0.8911492935464882,
          null,
          -0.05297168391416385,
          -0.06976831752832448,
          null,
          -0.5463999387459872,
          -0.6614455279311936,
          null,
          -0.8538325700437428,
          -0.9374204254349067,
          null,
          -0.7341290653713295,
          -0.9853542419765455,
          null,
          0.6640991251430806,
          0.9503284696168797,
          null,
          0.666950929797202,
          0.9503284696168797,
          null
         ]
        },
        {
         "hoverinfo": "text",
         "marker": {
          "color": [
           "yellowgreen",
           "yellowgreen",
           "salmon",
           "dodgerblue",
           "salmon",
           "salmon",
           "dodgerblue",
           "salmon",
           "salmon",
           "dodgerblue",
           "salmon",
           "salmon",
           "yellowgreen",
           "dodgerblue",
           "salmon",
           "salmon",
           "salmon",
           "salmon",
           "dodgerblue",
           "salmon",
           "salmon"
          ],
          "line": {
           "color": "gray",
           "width": 1
          },
          "size": 10
         },
         "mode": "markers",
         "text": [
          "0x05415963e593fcfbab4cd6b01340fc495047423f",
          "0x1650683e50e075efc778be4d1a6be929f3831719",
          "0x36e242d81187123c4860c7e86874c23a8a21b6ad",
          "0x8e202d4b77ac50343e753d898a2ef965f79abaa7",
          "0xc132d6439a1a139f9a10e56150c00f448c370a61",
          "0x1c1bd8c213ecf004ace7866e12abc405a19b3ae3",
          "0x268766bd81e082b0a8e671fa950525f57b096b3b",
          "0x449d04edc47f0b69477f6876815230264f76e1d6",
          "0x73d05eb78a200b1400b882939aab240dfcd6a824",
          "0x8e7fef28b08e6845fbeabd972a3bd963939ab54a",
          "0xa17c6c6af848ac474f99480fda8564356896b3e3",
          "0xa314d23820cb18d2956c2e65a816b9b545215d54",
          "0xc9f8ce0fc268949b70d55a055db879ed8d9656af",
          "0xebcd250474c27cbad3c56f3f34e08f97b370ac2d",
          "0x4465358bfedabdc99f0a20c5d42b4945a79af03a",
          "0x205473a3ce9780d87b0a4ae8a1a4311a87a82dae",
          "0x32e1e3bf7e47c3d26245499c4effaf556b07fcee",
          "0x40c4fc6b017b91b501a5218f6f3868498b94fb3d",
          "0x41b44a79dbf04ae0d82abc1cb9da87f2e4cda591",
          "0x96fe34bcb9ee96a014ccc441434429fe1d522640",
          "0x647530bb6b399caeaaf27670c2b9b5f7431fbb96"
         ],
         "type": "scatter",
         "x": [
          0.18675452693112687,
          -0.030151901033071752,
          0.8637576656336107,
          0.8448086975586439,
          -0.8610296941551252,
          0.3307465203177193,
          -0.9460925606641726,
          -0.7924455066415592,
          0.30710828027185616,
          0.9831742177961189,
          0.07515508888135682,
          -0.46403086499384677,
          -0.38986831698159213,
          0.5218480497564352,
          0.49661831820881364,
          0.5396903215112526,
          0.2176971239941235,
          -0.36328791024748575,
          -0.22089667656674733,
          -1,
          -0.29955537957745726
         ],
         "y": [
          0.14828042355309703,
          -0.05705470772633588,
          -0.5208821194384382,
          0.5444977595710463,
          0.47342837982609487,
          0.6487225585253394,
          -0.5019654010676595,
          -0.05297168391416385,
          -0.9374204254349067,
          -0.04171666391499664,
          0.9754837235143958,
          -0.9853542419765455,
          0.9503284696168797,
          -0.6614455279311936,
          0.8911492935464882,
          -0.5463999387459872,
          -0.8538325700437428,
          -0.7341290653713295,
          0.6640991251430806,
          -0.06976831752832448,
          0.666950929797202
         ]
        }
       ],
       "layout": {
        "height": 600,
        "showlegend": false,
        "template": {
         "data": {
          "bar": [
           {
            "error_x": {
             "color": "#2a3f5f"
            },
            "error_y": {
             "color": "#2a3f5f"
            },
            "marker": {
             "line": {
              "color": "#E5ECF6",
              "width": 0.5
             },
             "pattern": {
              "fillmode": "overlay",
              "size": 10,
              "solidity": 0.2
             }
            },
            "type": "bar"
           }
          ],
          "barpolar": [
           {
            "marker": {
             "line": {
              "color": "#E5ECF6",
              "width": 0.5
             },
             "pattern": {
              "fillmode": "overlay",
              "size": 10,
              "solidity": 0.2
             }
            },
            "type": "barpolar"
           }
          ],
          "carpet": [
           {
            "aaxis": {
             "endlinecolor": "#2a3f5f",
             "gridcolor": "white",
             "linecolor": "white",
             "minorgridcolor": "white",
             "startlinecolor": "#2a3f5f"
            },
            "baxis": {
             "endlinecolor": "#2a3f5f",
             "gridcolor": "white",
             "linecolor": "white",
             "minorgridcolor": "white",
             "startlinecolor": "#2a3f5f"
            },
            "type": "carpet"
           }
          ],
          "choropleth": [
           {
            "colorbar": {
             "outlinewidth": 0,
             "ticks": ""
            },
            "type": "choropleth"
           }
          ],
          "contour": [
           {
            "colorbar": {
             "outlinewidth": 0,
             "ticks": ""
            },
            "colorscale": [
             [
              0,
              "#0d0887"
             ],
             [
              0.1111111111111111,
              "#46039f"
             ],
             [
              0.2222222222222222,
              "#7201a8"
             ],
             [
              0.3333333333333333,
              "#9c179e"
             ],
             [
              0.4444444444444444,
              "#bd3786"
             ],
             [
              0.5555555555555556,
              "#d8576b"
             ],
             [
              0.6666666666666666,
              "#ed7953"
             ],
             [
              0.7777777777777778,
              "#fb9f3a"
             ],
             [
              0.8888888888888888,
              "#fdca26"
             ],
             [
              1,
              "#f0f921"
             ]
            ],
            "type": "contour"
           }
          ],
          "contourcarpet": [
           {
            "colorbar": {
             "outlinewidth": 0,
             "ticks": ""
            },
            "type": "contourcarpet"
           }
          ],
          "heatmap": [
           {
            "colorbar": {
             "outlinewidth": 0,
             "ticks": ""
            },
            "colorscale": [
             [
              0,
              "#0d0887"
             ],
             [
              0.1111111111111111,
              "#46039f"
             ],
             [
              0.2222222222222222,
              "#7201a8"
             ],
             [
              0.3333333333333333,
              "#9c179e"
             ],
             [
              0.4444444444444444,
              "#bd3786"
             ],
             [
              0.5555555555555556,
              "#d8576b"
             ],
             [
              0.6666666666666666,
              "#ed7953"
             ],
             [
              0.7777777777777778,
              "#fb9f3a"
             ],
             [
              0.8888888888888888,
              "#fdca26"
             ],
             [
              1,
              "#f0f921"
             ]
            ],
            "type": "heatmap"
           }
          ],
          "heatmapgl": [
           {
            "colorbar": {
             "outlinewidth": 0,
             "ticks": ""
            },
            "colorscale": [
             [
              0,
              "#0d0887"
             ],
             [
              0.1111111111111111,
              "#46039f"
             ],
             [
              0.2222222222222222,
              "#7201a8"
             ],
             [
              0.3333333333333333,
              "#9c179e"
             ],
             [
              0.4444444444444444,
              "#bd3786"
             ],
             [
              0.5555555555555556,
              "#d8576b"
             ],
             [
              0.6666666666666666,
              "#ed7953"
             ],
             [
              0.7777777777777778,
              "#fb9f3a"
             ],
             [
              0.8888888888888888,
              "#fdca26"
             ],
             [
              1,
              "#f0f921"
             ]
            ],
            "type": "heatmapgl"
           }
          ],
          "histogram": [
           {
            "marker": {
             "pattern": {
              "fillmode": "overlay",
              "size": 10,
              "solidity": 0.2
             }
            },
            "type": "histogram"
           }
          ],
          "histogram2d": [
           {
            "colorbar": {
             "outlinewidth": 0,
             "ticks": ""
            },
            "colorscale": [
             [
              0,
              "#0d0887"
             ],
             [
              0.1111111111111111,
              "#46039f"
             ],
             [
              0.2222222222222222,
              "#7201a8"
             ],
             [
              0.3333333333333333,
              "#9c179e"
             ],
             [
              0.4444444444444444,
              "#bd3786"
             ],
             [
              0.5555555555555556,
              "#d8576b"
             ],
             [
              0.6666666666666666,
              "#ed7953"
             ],
             [
              0.7777777777777778,
              "#fb9f3a"
             ],
             [
              0.8888888888888888,
              "#fdca26"
             ],
             [
              1,
              "#f0f921"
             ]
            ],
            "type": "histogram2d"
           }
          ],
          "histogram2dcontour": [
           {
            "colorbar": {
             "outlinewidth": 0,
             "ticks": ""
            },
            "colorscale": [
             [
              0,
              "#0d0887"
             ],
             [
              0.1111111111111111,
              "#46039f"
             ],
             [
              0.2222222222222222,
              "#7201a8"
             ],
             [
              0.3333333333333333,
              "#9c179e"
             ],
             [
              0.4444444444444444,
              "#bd3786"
             ],
             [
              0.5555555555555556,
              "#d8576b"
             ],
             [
              0.6666666666666666,
              "#ed7953"
             ],
             [
              0.7777777777777778,
              "#fb9f3a"
             ],
             [
              0.8888888888888888,
              "#fdca26"
             ],
             [
              1,
              "#f0f921"
             ]
            ],
            "type": "histogram2dcontour"
           }
          ],
          "mesh3d": [
           {
            "colorbar": {
             "outlinewidth": 0,
             "ticks": ""
            },
            "type": "mesh3d"
           }
          ],
          "parcoords": [
           {
            "line": {
             "colorbar": {
              "outlinewidth": 0,
              "ticks": ""
             }
            },
            "type": "parcoords"
           }
          ],
          "pie": [
           {
            "automargin": true,
            "type": "pie"
           }
          ],
          "scatter": [
           {
            "fillpattern": {
             "fillmode": "overlay",
             "size": 10,
             "solidity": 0.2
            },
            "type": "scatter"
           }
          ],
          "scatter3d": [
           {
            "line": {
             "colorbar": {
              "outlinewidth": 0,
              "ticks": ""
             }
            },
            "marker": {
             "colorbar": {
              "outlinewidth": 0,
              "ticks": ""
             }
            },
            "type": "scatter3d"
           }
          ],
          "scattercarpet": [
           {
            "marker": {
             "colorbar": {
              "outlinewidth": 0,
              "ticks": ""
             }
            },
            "type": "scattercarpet"
           }
          ],
          "scattergeo": [
           {
            "marker": {
             "colorbar": {
              "outlinewidth": 0,
              "ticks": ""
             }
            },
            "type": "scattergeo"
           }
          ],
          "scattergl": [
           {
            "marker": {
             "colorbar": {
              "outlinewidth": 0,
              "ticks": ""
             }
            },
            "type": "scattergl"
           }
          ],
          "scattermapbox": [
           {
            "marker": {
             "colorbar": {
              "outlinewidth": 0,
              "ticks": ""
             }
            },
            "type": "scattermapbox"
           }
          ],
          "scatterpolar": [
           {
            "marker": {
             "colorbar": {
              "outlinewidth": 0,
              "ticks": ""
             }
            },
            "type": "scatterpolar"
           }
          ],
          "scatterpolargl": [
           {
            "marker": {
             "colorbar": {
              "outlinewidth": 0,
              "ticks": ""
             }
            },
            "type": "scatterpolargl"
           }
          ],
          "scatterternary": [
           {
            "marker": {
             "colorbar": {
              "outlinewidth": 0,
              "ticks": ""
             }
            },
            "type": "scatterternary"
           }
          ],
          "surface": [
           {
            "colorbar": {
             "outlinewidth": 0,
             "ticks": ""
            },
            "colorscale": [
             [
              0,
              "#0d0887"
             ],
             [
              0.1111111111111111,
              "#46039f"
             ],
             [
              0.2222222222222222,
              "#7201a8"
             ],
             [
              0.3333333333333333,
              "#9c179e"
             ],
             [
              0.4444444444444444,
              "#bd3786"
             ],
             [
              0.5555555555555556,
              "#d8576b"
             ],
             [
              0.6666666666666666,
              "#ed7953"
             ],
             [
              0.7777777777777778,
              "#fb9f3a"
             ],
             [
              0.8888888888888888,
              "#fdca26"
             ],
             [
              1,
              "#f0f921"
             ]
            ],
            "type": "surface"
           }
          ],
          "table": [
           {
            "cells": {
             "fill": {
              "color": "#EBF0F8"
             },
             "line": {
              "color": "white"
             }
            },
            "header": {
             "fill": {
              "color": "#C8D4E3"
             },
             "line": {
              "color": "white"
             }
            },
            "type": "table"
           }
          ]
         },
         "layout": {
          "annotationdefaults": {
           "arrowcolor": "#2a3f5f",
           "arrowhead": 0,
           "arrowwidth": 1
          },
          "autotypenumbers": "strict",
          "coloraxis": {
           "colorbar": {
            "outlinewidth": 0,
            "ticks": ""
           }
          },
          "colorscale": {
           "diverging": [
            [
             0,
             "#8e0152"
            ],
            [
             0.1,
             "#c51b7d"
            ],
            [
             0.2,
             "#de77ae"
            ],
            [
             0.3,
             "#f1b6da"
            ],
            [
             0.4,
             "#fde0ef"
            ],
            [
             0.5,
             "#f7f7f7"
            ],
            [
             0.6,
             "#e6f5d0"
            ],
            [
             0.7,
             "#b8e186"
            ],
            [
             0.8,
             "#7fbc41"
            ],
            [
             0.9,
             "#4d9221"
            ],
            [
             1,
             "#276419"
            ]
           ],
           "sequential": [
            [
             0,
             "#0d0887"
            ],
            [
             0.1111111111111111,
             "#46039f"
            ],
            [
             0.2222222222222222,
             "#7201a8"
            ],
            [
             0.3333333333333333,
             "#9c179e"
            ],
            [
             0.4444444444444444,
             "#bd3786"
            ],
            [
             0.5555555555555556,
             "#d8576b"
            ],
            [
             0.6666666666666666,
             "#ed7953"
            ],
            [
             0.7777777777777778,
             "#fb9f3a"
            ],
            [
             0.8888888888888888,
             "#fdca26"
            ],
            [
             1,
             "#f0f921"
            ]
           ],
           "sequentialminus": [
            [
             0,
             "#0d0887"
            ],
            [
             0.1111111111111111,
             "#46039f"
            ],
            [
             0.2222222222222222,
             "#7201a8"
            ],
            [
             0.3333333333333333,
             "#9c179e"
            ],
            [
             0.4444444444444444,
             "#bd3786"
            ],
            [
             0.5555555555555556,
             "#d8576b"
            ],
            [
             0.6666666666666666,
             "#ed7953"
            ],
            [
             0.7777777777777778,
             "#fb9f3a"
            ],
            [
             0.8888888888888888,
             "#fdca26"
            ],
            [
             1,
             "#f0f921"
            ]
           ]
          },
          "colorway": [
           "#636efa",
           "#EF553B",
           "#00cc96",
           "#ab63fa",
           "#FFA15A",
           "#19d3f3",
           "#FF6692",
           "#B6E880",
           "#FF97FF",
           "#FECB52"
          ],
          "font": {
           "color": "#2a3f5f"
          },
          "geo": {
           "bgcolor": "white",
           "lakecolor": "white",
           "landcolor": "#E5ECF6",
           "showlakes": true,
           "showland": true,
           "subunitcolor": "white"
          },
          "hoverlabel": {
           "align": "left"
          },
          "hovermode": "closest",
          "mapbox": {
           "style": "light"
          },
          "paper_bgcolor": "white",
          "plot_bgcolor": "#E5ECF6",
          "polar": {
           "angularaxis": {
            "gridcolor": "white",
            "linecolor": "white",
            "ticks": ""
           },
           "bgcolor": "#E5ECF6",
           "radialaxis": {
            "gridcolor": "white",
            "linecolor": "white",
            "ticks": ""
           }
          },
          "scene": {
           "xaxis": {
            "backgroundcolor": "#E5ECF6",
            "gridcolor": "white",
            "gridwidth": 2,
            "linecolor": "white",
            "showbackground": true,
            "ticks": "",
            "zerolinecolor": "white"
           },
           "yaxis": {
            "backgroundcolor": "#E5ECF6",
            "gridcolor": "white",
            "gridwidth": 2,
            "linecolor": "white",
            "showbackground": true,
            "ticks": "",
            "zerolinecolor": "white"
           },
           "zaxis": {
            "backgroundcolor": "#E5ECF6",
            "gridcolor": "white",
            "gridwidth": 2,
            "linecolor": "white",
            "showbackground": true,
            "ticks": "",
            "zerolinecolor": "white"
           }
          },
          "shapedefaults": {
           "line": {
            "color": "#2a3f5f"
           }
          },
          "ternary": {
           "aaxis": {
            "gridcolor": "white",
            "linecolor": "white",
            "ticks": ""
           },
           "baxis": {
            "gridcolor": "white",
            "linecolor": "white",
            "ticks": ""
           },
           "bgcolor": "#E5ECF6",
           "caxis": {
            "gridcolor": "white",
            "linecolor": "white",
            "ticks": ""
           }
          },
          "title": {
           "x": 0.05
          },
          "xaxis": {
           "automargin": true,
           "gridcolor": "white",
           "linecolor": "white",
           "ticks": "",
           "title": {
            "standoff": 15
           },
           "zerolinecolor": "white",
           "zerolinewidth": 2
          },
          "yaxis": {
           "automargin": true,
           "gridcolor": "white",
           "linecolor": "white",
           "ticks": "",
           "title": {
            "standoff": 15
           },
           "zerolinecolor": "white",
           "zerolinewidth": 2
          }
         }
        },
        "title": {
         "text": "Community Visualization"
        },
        "width": 600,
        "xaxis": {
         "showgrid": true,
         "zeroline": false
        },
        "yaxis": {
         "showgrid": false,
         "zeroline": false
        }
       }
      }
     },
     "metadata": {},
     "output_type": "display_data"
    }
   ],
   "source": [
    "clustered_core_wallets = clustered_df[\n",
    "    clustered_df[\"type\"] == \"sybil_core\"\n",
    "].index.tolist()\n",
    "clustered_normal_wallets = clustered_df[clustered_df[\"type\"] == \"normal\"].index.tolist()\n",
    "\n",
    "community_visualization_2d(\n",
    "    plot_community_df,\n",
    "    clustered_core_wallets,\n",
    "    clustered_normal_wallets,\n",
    "    weight_=600,\n",
    "    height_=600,\n",
    ")"
   ]
  },
  {
   "cell_type": "code",
   "execution_count": 232,
   "metadata": {},
   "outputs": [],
   "source": [
    "ttt = louvain_community_df.copy()\n",
    "ttt[\"type\"] = \"normal\"\n",
    "ttt[\"type\"].update(clustered_df[\"type\"])"
   ]
  },
  {
   "cell_type": "code",
   "execution_count": 233,
   "metadata": {},
   "outputs": [
    {
     "data": {
      "text/plain": [
       "normal        25194\n",
       "sybil             3\n",
       "sybil_core        1\n",
       "Name: type, dtype: int64"
      ]
     },
     "execution_count": 233,
     "metadata": {},
     "output_type": "execute_result"
    }
   ],
   "source": [
    "ttt[\"type\"].value_counts()"
   ]
  },
  {
   "cell_type": "code",
   "execution_count": null,
   "metadata": {},
   "outputs": [],
   "source": []
  },
  {
   "cell_type": "code",
   "execution_count": null,
   "metadata": {},
   "outputs": [],
   "source": []
  },
  {
   "cell_type": "code",
   "execution_count": null,
   "metadata": {},
   "outputs": [],
   "source": []
  },
  {
   "cell_type": "code",
   "execution_count": null,
   "metadata": {},
   "outputs": [],
   "source": []
  },
  {
   "cell_type": "code",
   "execution_count": null,
   "metadata": {},
   "outputs": [],
   "source": []
  },
  {
   "cell_type": "code",
   "execution_count": null,
   "metadata": {},
   "outputs": [],
   "source": []
  },
  {
   "cell_type": "code",
   "execution_count": null,
   "metadata": {},
   "outputs": [],
   "source": []
  },
  {
   "cell_type": "code",
   "execution_count": null,
   "metadata": {},
   "outputs": [],
   "source": []
  },
  {
   "cell_type": "code",
   "execution_count": null,
   "metadata": {},
   "outputs": [],
   "source": []
  },
  {
   "cell_type": "code",
   "execution_count": null,
   "metadata": {},
   "outputs": [],
   "source": []
  },
  {
   "cell_type": "code",
   "execution_count": null,
   "metadata": {},
   "outputs": [],
   "source": []
  },
  {
   "cell_type": "code",
   "execution_count": null,
   "metadata": {},
   "outputs": [],
   "source": []
  }
 ],
 "metadata": {
  "kernelspec": {
   "display_name": "base",
   "language": "python",
   "name": "python3"
  },
  "language_info": {
   "codemirror_mode": {
    "name": "ipython",
    "version": 3
   },
   "file_extension": ".py",
   "mimetype": "text/x-python",
   "name": "python",
   "nbconvert_exporter": "python",
   "pygments_lexer": "ipython3",
   "version": "3.12.4"
  }
 },
 "nbformat": 4,
 "nbformat_minor": 2
}
