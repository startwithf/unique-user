{
 "cells": [
  {
   "cell_type": "code",
   "execution_count": 1,
   "metadata": {},
   "outputs": [
    {
     "data": {
      "text/plain": [
       "'\\n@File    : lab_notebook.ipynb\\n@Create  : 2024/12/13 16:24:19\\n@Modify  : 2024/12/13 16:24:19\\n@Author  : Flora Sun\\n@Contact : floras@animocabrands.com\\n@Desc    : None\\n'"
      ]
     },
     "execution_count": 1,
     "metadata": {},
     "output_type": "execute_result"
    }
   ],
   "source": [
    "\"\"\"\n",
    "@File    : lab_notebook.ipynb\n",
    "@Create  : 2024/12/13 16:24:19\n",
    "@Modify  : 2024/12/13 16:24:19\n",
    "@Author  : Flora Sun\n",
    "@Contact : floras@animocabrands.com\n",
    "@Desc    : None\n",
    "\"\"\""
   ]
  },
  {
   "cell_type": "code",
   "execution_count": 2,
   "metadata": {},
   "outputs": [
    {
     "name": "stdout",
     "output_type": "stream",
     "text": [
      "/Users/floras/Desktop/unique-user\n"
     ]
    }
   ],
   "source": [
    "cd '/Users/floras/Desktop/unique-user'"
   ]
  },
  {
   "cell_type": "code",
   "execution_count": 777,
   "metadata": {},
   "outputs": [],
   "source": [
    "import pandas as pd\n",
    "import numpy as np\n",
    "import os\n",
    "import importlib\n",
    "import sybil_functions\n",
    "import trino_fetch_results\n",
    "from collections import Counter\n",
    "from concurrent.futures import ThreadPoolExecutor\n",
    "import networkx as nx\n",
    "from cdlib import algorithms\n",
    "import networkx as nx\n",
    "import plotly.graph_objects as go\n",
    "from sklearn.preprocessing import StandardScaler\n",
    "from sklearn.cluster import OPTICS\n",
    "from sklearn.ensemble import IsolationForest\n",
    "import parameters\n",
    "import matplotlib.pyplot as plt\n",
    "import time\n",
    "import datetime\n",
    "\n",
    "\n",
    "importlib.reload(sybil_functions)\n",
    "importlib.reload(trino_fetch_results)\n",
    "importlib.reload(parameters)\n",
    "\n",
    "\n",
    "from sybil_functions import (\n",
    "    read_from_multiple_csv,\n",
    "    stretched_sigmoid,\n",
    "    file_name_lst,\n",
    "    check_contract,\n",
    ")\n",
    "\n",
    "from trino_fetch_results import check_frequent_wallets, wallets_monthly_info, query_test\n",
    "\n",
    "from parameters import trino_data_column_names"
   ]
  },
  {
   "cell_type": "markdown",
   "metadata": {},
   "source": [
    "# Import Data"
   ]
  },
  {
   "cell_type": "markdown",
   "metadata": {},
   "source": [
    "### Core wallet (airdrop wallet) "
   ]
  },
  {
   "cell_type": "code",
   "execution_count": 4,
   "metadata": {},
   "outputs": [
    {
     "name": "stdout",
     "output_type": "stream",
     "text": [
      "(10000, 1)\n"
     ]
    },
    {
     "data": {
      "text/html": [
       "<div>\n",
       "<style scoped>\n",
       "    .dataframe tbody tr th:only-of-type {\n",
       "        vertical-align: middle;\n",
       "    }\n",
       "\n",
       "    .dataframe tbody tr th {\n",
       "        vertical-align: top;\n",
       "    }\n",
       "\n",
       "    .dataframe thead th {\n",
       "        text-align: right;\n",
       "    }\n",
       "</style>\n",
       "<table border=\"1\" class=\"dataframe\">\n",
       "  <thead>\n",
       "    <tr style=\"text-align: right;\">\n",
       "      <th></th>\n",
       "      <th>address</th>\n",
       "    </tr>\n",
       "  </thead>\n",
       "  <tbody>\n",
       "    <tr>\n",
       "      <th>0</th>\n",
       "      <td>0xfb10dcdce8fcb3423de4592aac91528ddf0a6b74</td>\n",
       "    </tr>\n",
       "    <tr>\n",
       "      <th>1</th>\n",
       "      <td>0x9dd711b0cb4430f429231e5cb9940dbd1952a36f</td>\n",
       "    </tr>\n",
       "    <tr>\n",
       "      <th>2</th>\n",
       "      <td>0x3efd66167df7b6e428809af37ab11e093792b544</td>\n",
       "    </tr>\n",
       "    <tr>\n",
       "      <th>3</th>\n",
       "      <td>0x67472806e0bb53329de922aaddd5988f60af3205</td>\n",
       "    </tr>\n",
       "    <tr>\n",
       "      <th>4</th>\n",
       "      <td>0xd2b4c8fc8180e9fabbaeea21d3e8cd3b1407280b</td>\n",
       "    </tr>\n",
       "  </tbody>\n",
       "</table>\n",
       "</div>"
      ],
      "text/plain": [
       "                                      address\n",
       "0  0xfb10dcdce8fcb3423de4592aac91528ddf0a6b74\n",
       "1  0x9dd711b0cb4430f429231e5cb9940dbd1952a36f\n",
       "2  0x3efd66167df7b6e428809af37ab11e093792b544\n",
       "3  0x67472806e0bb53329de922aaddd5988f60af3205\n",
       "4  0xd2b4c8fc8180e9fabbaeea21d3e8cd3b1407280b"
      ]
     },
     "execution_count": 4,
     "metadata": {},
     "output_type": "execute_result"
    }
   ],
   "source": [
    "# core wallet df\n",
    "core_wallet_df = pd.read_csv(\n",
    "    \"/Users/floras/Desktop/unique-user/-Data/layerzero/lo_airdrop_wallets/used_airdrop_wallet_lst.csv\"\n",
    ")\n",
    "print(core_wallet_df.shape)\n",
    "core_wallet_df.head()"
   ]
  },
  {
   "cell_type": "code",
   "execution_count": 5,
   "metadata": {},
   "outputs": [],
   "source": [
    "# Get core wallet list\n",
    "core_wallet_lst_0 = core_wallet_df[\"address\"].tolist()\n",
    "# Get core wallet set\n",
    "core_wallet_set_0 = set(core_wallet_lst_0)"
   ]
  },
  {
   "cell_type": "markdown",
   "metadata": {},
   "source": [
    "### Sybil wallets "
   ]
  },
  {
   "cell_type": "code",
   "execution_count": 6,
   "metadata": {},
   "outputs": [
    {
     "name": "stdout",
     "output_type": "stream",
     "text": [
      "(80000, 1)\n"
     ]
    },
    {
     "data": {
      "text/html": [
       "<div>\n",
       "<style scoped>\n",
       "    .dataframe tbody tr th:only-of-type {\n",
       "        vertical-align: middle;\n",
       "    }\n",
       "\n",
       "    .dataframe tbody tr th {\n",
       "        vertical-align: top;\n",
       "    }\n",
       "\n",
       "    .dataframe thead th {\n",
       "        text-align: right;\n",
       "    }\n",
       "</style>\n",
       "<table border=\"1\" class=\"dataframe\">\n",
       "  <thead>\n",
       "    <tr style=\"text-align: right;\">\n",
       "      <th></th>\n",
       "      <th>address</th>\n",
       "    </tr>\n",
       "  </thead>\n",
       "  <tbody>\n",
       "    <tr>\n",
       "      <th>0</th>\n",
       "      <td>0x1e8f8f8d1eaba1864becbfb819be6e4f99b30b48</td>\n",
       "    </tr>\n",
       "    <tr>\n",
       "      <th>1</th>\n",
       "      <td>0x367298027b9fb5038924dc09b03f12f85c60827a</td>\n",
       "    </tr>\n",
       "    <tr>\n",
       "      <th>2</th>\n",
       "      <td>0x608ab11ea9f810403f96cd616955e34d73445aa1</td>\n",
       "    </tr>\n",
       "    <tr>\n",
       "      <th>3</th>\n",
       "      <td>0x6545f2395c8e013c18bd985d73a678fd4ce517dd</td>\n",
       "    </tr>\n",
       "    <tr>\n",
       "      <th>4</th>\n",
       "      <td>0x7f4ebe4e35066eac5a407d489e7972d9ef6b1a92</td>\n",
       "    </tr>\n",
       "  </tbody>\n",
       "</table>\n",
       "</div>"
      ],
      "text/plain": [
       "                                      address\n",
       "0  0x1e8f8f8d1eaba1864becbfb819be6e4f99b30b48\n",
       "1  0x367298027b9fb5038924dc09b03f12f85c60827a\n",
       "2  0x608ab11ea9f810403f96cd616955e34d73445aa1\n",
       "3  0x6545f2395c8e013c18bd985d73a678fd4ce517dd\n",
       "4  0x7f4ebe4e35066eac5a407d489e7972d9ef6b1a92"
      ]
     },
     "execution_count": 6,
     "metadata": {},
     "output_type": "execute_result"
    }
   ],
   "source": [
    "# Sybil wallet df\n",
    "sybil_wallet_df = pd.read_csv(\n",
    "    \"/Users/floras/Desktop/unique-user/-Data/layerzero/lo_sybil_wallets/used_sybil_wallet_lst.csv\"\n",
    ")\n",
    "print(sybil_wallet_df.shape)\n",
    "sybil_wallet_df.head()"
   ]
  },
  {
   "cell_type": "code",
   "execution_count": 7,
   "metadata": {},
   "outputs": [],
   "source": [
    "# Get sybil wallet list\n",
    "sybil_wallet_lst_0 = sybil_wallet_df[\"address\"].tolist()\n",
    "# Get sybil wallet set\n",
    "sybil_wallet_set_0 = set(sybil_wallet_lst_0)"
   ]
  },
  {
   "cell_type": "code",
   "execution_count": 8,
   "metadata": {},
   "outputs": [
    {
     "name": "stdout",
     "output_type": "stream",
     "text": [
      "6550\n",
      "52386\n"
     ]
    }
   ],
   "source": [
    "core_sybil_wallet_lst = core_wallet_lst_0 + sybil_wallet_lst_0\n",
    "# randomely select 1000 wallets from core_sybil_wallet_lst\n",
    "# set seed\n",
    "np.random.seed(8)\n",
    "testing_wallet_lst = np.random.choice(core_sybil_wallet_lst, 58888, replace=False)\n",
    "testing_wallet_set = set(testing_wallet_lst)\n",
    "# check how many wallets are in the core wallet list\n",
    "core_wallet_count = len(testing_wallet_set & core_wallet_set_0)\n",
    "# check how many wallets are in the sybil wallet list\n",
    "sybil_wallet_count = len(testing_wallet_set & sybil_wallet_set_0)\n",
    "\n",
    "print(core_wallet_count)\n",
    "print(sybil_wallet_count)"
   ]
  },
  {
   "cell_type": "code",
   "execution_count": 9,
   "metadata": {},
   "outputs": [],
   "source": [
    "# generate new core wallet list\n",
    "core_wallet_lst = [\n",
    "    wallet for wallet in testing_wallet_lst if wallet in core_wallet_set_0\n",
    "]\n",
    "core_wallet_set = set(core_wallet_lst)\n",
    "# generate new sybil wallet list\n",
    "sybil_wallet_lst = [\n",
    "    wallet for wallet in testing_wallet_lst if wallet in sybil_wallet_set_0\n",
    "]\n",
    "sybil_wallet_set = set(sybil_wallet_lst)"
   ]
  },
  {
   "cell_type": "markdown",
   "metadata": {},
   "source": [
    "### Wallets to remove"
   ]
  },
  {
   "cell_type": "code",
   "execution_count": 10,
   "metadata": {},
   "outputs": [
    {
     "data": {
      "text/html": [
       "<div>\n",
       "<style scoped>\n",
       "    .dataframe tbody tr th:only-of-type {\n",
       "        vertical-align: middle;\n",
       "    }\n",
       "\n",
       "    .dataframe tbody tr th {\n",
       "        vertical-align: top;\n",
       "    }\n",
       "\n",
       "    .dataframe thead th {\n",
       "        text-align: right;\n",
       "    }\n",
       "</style>\n",
       "<table border=\"1\" class=\"dataframe\">\n",
       "  <thead>\n",
       "    <tr style=\"text-align: right;\">\n",
       "      <th></th>\n",
       "      <th>address</th>\n",
       "    </tr>\n",
       "  </thead>\n",
       "  <tbody>\n",
       "    <tr>\n",
       "      <th>0</th>\n",
       "      <td>0xdef171fe48cf0115b1d80b88dc8eab59176fee57</td>\n",
       "    </tr>\n",
       "    <tr>\n",
       "      <th>1</th>\n",
       "      <td>0xf9c4c674188089a7a5c608510360155147b9607b</td>\n",
       "    </tr>\n",
       "    <tr>\n",
       "      <th>2</th>\n",
       "      <td>0x7b36dfd5304562952e2b4de9c8048ed155c6115d</td>\n",
       "    </tr>\n",
       "    <tr>\n",
       "      <th>3</th>\n",
       "      <td>0xc4aff49fced8ac1d818a6dcab063f9f97e66ec5e</td>\n",
       "    </tr>\n",
       "    <tr>\n",
       "      <th>4</th>\n",
       "      <td>0xdb01f75c40fbf0b2684f9b7c9612e11674cb2330</td>\n",
       "    </tr>\n",
       "  </tbody>\n",
       "</table>\n",
       "</div>"
      ],
      "text/plain": [
       "                                      address\n",
       "0  0xdef171fe48cf0115b1d80b88dc8eab59176fee57\n",
       "1  0xf9c4c674188089a7a5c608510360155147b9607b\n",
       "2  0x7b36dfd5304562952e2b4de9c8048ed155c6115d\n",
       "3  0xc4aff49fced8ac1d818a6dcab063f9f97e66ec5e\n",
       "4  0xdb01f75c40fbf0b2684f9b7c9612e11674cb2330"
      ]
     },
     "execution_count": 10,
     "metadata": {},
     "output_type": "execute_result"
    }
   ],
   "source": [
    "removing_wallets_df_1 = pd.read_csv(\n",
    "    \"/Users/floras/Desktop/unique-user/-Data/layerzero/lo_removing_wallets/contract_wallets.txt\",\n",
    "    header=None,\n",
    ")\n",
    "removing_wallets_df_2 = pd.read_csv(\n",
    "    \"/Users/floras/Desktop/unique-user/-Data/layerzero/lo_removing_wallets/other_removing_wallets.txt\",\n",
    "    header=None,\n",
    ")\n",
    "removing_wallets_df = pd.concat([removing_wallets_df_1, removing_wallets_df_2], axis=0)\n",
    "removing_wallets_df.columns = [\"address\"]\n",
    "\n",
    "removing_wallets_df.head()"
   ]
  },
  {
   "cell_type": "code",
   "execution_count": 11,
   "metadata": {},
   "outputs": [],
   "source": [
    "# Get removing wallet list\n",
    "removing_wallet_lst = removing_wallets_df[\"address\"].tolist()\n",
    "# Get removing wallet set\n",
    "removing_wallet_set = set(removing_wallet_lst)"
   ]
  },
  {
   "cell_type": "markdown",
   "metadata": {},
   "source": [
    "### Transaction data "
   ]
  },
  {
   "cell_type": "code",
   "execution_count": 12,
   "metadata": {},
   "outputs": [
    {
     "name": "stdout",
     "output_type": "stream",
     "text": [
      "(566626, 3)\n",
      "(285447, 3)\n"
     ]
    },
    {
     "data": {
      "text/html": [
       "<div>\n",
       "<style scoped>\n",
       "    .dataframe tbody tr th:only-of-type {\n",
       "        vertical-align: middle;\n",
       "    }\n",
       "\n",
       "    .dataframe tbody tr th {\n",
       "        vertical-align: top;\n",
       "    }\n",
       "\n",
       "    .dataframe thead th {\n",
       "        text-align: right;\n",
       "    }\n",
       "</style>\n",
       "<table border=\"1\" class=\"dataframe\">\n",
       "  <thead>\n",
       "    <tr style=\"text-align: right;\">\n",
       "      <th></th>\n",
       "      <th>from_address</th>\n",
       "      <th>to_address</th>\n",
       "      <th>count</th>\n",
       "    </tr>\n",
       "  </thead>\n",
       "  <tbody>\n",
       "    <tr>\n",
       "      <th>1</th>\n",
       "      <td>0x716759e8ab31cdb4bca2f693a979b23e6020d4bb</td>\n",
       "      <td>0xf5ceaa6b42c0eef37b0cc9f5a1dbc559df0a3509</td>\n",
       "      <td>862</td>\n",
       "    </tr>\n",
       "    <tr>\n",
       "      <th>3</th>\n",
       "      <td>0x716759e8ab31cdb4bca2f693a979b23e6020d4bb</td>\n",
       "      <td>0x71a3c8f3fe420806a6ea892c3ecd5aeb1f0a3509</td>\n",
       "      <td>748</td>\n",
       "    </tr>\n",
       "    <tr>\n",
       "      <th>5</th>\n",
       "      <td>0xfb7c1d49e006eaddff2385c7ef8b0c5cf49d038a</td>\n",
       "      <td>0xfab50c438f56a86d03439a5171452e3abf56a2c2</td>\n",
       "      <td>632</td>\n",
       "    </tr>\n",
       "    <tr>\n",
       "      <th>7</th>\n",
       "      <td>0xfb7c1d49e006eaddff2385c7ef8b0c5cf49d038a</td>\n",
       "      <td>0x8e925e8219fd9de16e2e007d06ad1f3bef56a2c2</td>\n",
       "      <td>544</td>\n",
       "    </tr>\n",
       "    <tr>\n",
       "      <th>12</th>\n",
       "      <td>0x11c6fef26abb8dfee23c2df67e9e60d120a48413</td>\n",
       "      <td>0xce6e06ae265a3f925444695571abf6583fb66efc</td>\n",
       "      <td>300</td>\n",
       "    </tr>\n",
       "  </tbody>\n",
       "</table>\n",
       "</div>"
      ],
      "text/plain": [
       "                                  from_address  \\\n",
       "1   0x716759e8ab31cdb4bca2f693a979b23e6020d4bb   \n",
       "3   0x716759e8ab31cdb4bca2f693a979b23e6020d4bb   \n",
       "5   0xfb7c1d49e006eaddff2385c7ef8b0c5cf49d038a   \n",
       "7   0xfb7c1d49e006eaddff2385c7ef8b0c5cf49d038a   \n",
       "12  0x11c6fef26abb8dfee23c2df67e9e60d120a48413   \n",
       "\n",
       "                                    to_address  count  \n",
       "1   0xf5ceaa6b42c0eef37b0cc9f5a1dbc559df0a3509    862  \n",
       "3   0x71a3c8f3fe420806a6ea892c3ecd5aeb1f0a3509    748  \n",
       "5   0xfab50c438f56a86d03439a5171452e3abf56a2c2    632  \n",
       "7   0x8e925e8219fd9de16e2e007d06ad1f3bef56a2c2    544  \n",
       "12  0xce6e06ae265a3f925444695571abf6583fb66efc    300  "
      ]
     },
     "execution_count": 12,
     "metadata": {},
     "output_type": "execute_result"
    }
   ],
   "source": [
    "trans_df = pd.read_csv(\n",
    "    \"/Users/floras/Desktop/unique-user/-Data/layerzero/transaction_history/refined_transaction_sum_df.csv\"\n",
    ")\n",
    "print(trans_df.shape)\n",
    "# remove self transactions\n",
    "trans_df = trans_df[trans_df[\"from_address\"] != trans_df[\"to_address\"]]\n",
    "# remove removing-wallet transactions\n",
    "trans_df = trans_df[\n",
    "    ~(\n",
    "        trans_df[\"from_address\"].isin(removing_wallet_set)\n",
    "        | trans_df[\"to_address\"].isin(removing_wallet_set)\n",
    "    )\n",
    "]\n",
    "# keep only core of sybil transactions\n",
    "trans_df = trans_df[\n",
    "    trans_df[\"from_address\"].isin(core_wallet_set)\n",
    "    | trans_df[\"to_address\"].isin(core_wallet_set)\n",
    "    | trans_df[\"from_address\"].isin(sybil_wallet_set)\n",
    "    | trans_df[\"to_address\"].isin(sybil_wallet_set)\n",
    "]\n",
    "print(trans_df.shape)\n",
    "trans_df.head()"
   ]
  },
  {
   "cell_type": "markdown",
   "metadata": {},
   "source": [
    "### Monthly data"
   ]
  },
  {
   "cell_type": "code",
   "execution_count": 13,
   "metadata": {},
   "outputs": [
    {
     "name": "stdout",
     "output_type": "stream",
     "text": [
      "(229836, 5)\n"
     ]
    },
    {
     "data": {
      "text/html": [
       "<div>\n",
       "<style scoped>\n",
       "    .dataframe tbody tr th:only-of-type {\n",
       "        vertical-align: middle;\n",
       "    }\n",
       "\n",
       "    .dataframe tbody tr th {\n",
       "        vertical-align: top;\n",
       "    }\n",
       "\n",
       "    .dataframe thead th {\n",
       "        text-align: right;\n",
       "    }\n",
       "</style>\n",
       "<table border=\"1\" class=\"dataframe\">\n",
       "  <thead>\n",
       "    <tr style=\"text-align: right;\">\n",
       "      <th></th>\n",
       "      <th>gas_fee</th>\n",
       "      <th>total_txn</th>\n",
       "      <th>unique_tokens</th>\n",
       "      <th>last_txn_date</th>\n",
       "      <th>unique_active_days</th>\n",
       "    </tr>\n",
       "    <tr>\n",
       "      <th>address</th>\n",
       "      <th></th>\n",
       "      <th></th>\n",
       "      <th></th>\n",
       "      <th></th>\n",
       "      <th></th>\n",
       "    </tr>\n",
       "  </thead>\n",
       "  <tbody>\n",
       "    <tr>\n",
       "      <th>0x000000000000000000000000000000000000000a</th>\n",
       "      <td>0.043945</td>\n",
       "      <td>2</td>\n",
       "      <td>1</td>\n",
       "      <td>2024-02-20</td>\n",
       "      <td>1</td>\n",
       "    </tr>\n",
       "    <tr>\n",
       "      <th>0x00000000000007736e2f9aa5630b8c812e1f3fc9</th>\n",
       "      <td>272.652502</td>\n",
       "      <td>9754</td>\n",
       "      <td>4130</td>\n",
       "      <td>2024-06-30</td>\n",
       "      <td>218</td>\n",
       "    </tr>\n",
       "    <tr>\n",
       "      <th>0x00000000000062c6e2195ae26dff3b084c5c3938</th>\n",
       "      <td>5245.174636</td>\n",
       "      <td>517538</td>\n",
       "      <td>580</td>\n",
       "      <td>2024-06-25</td>\n",
       "      <td>118</td>\n",
       "    </tr>\n",
       "    <tr>\n",
       "      <th>0x00000000000ba9cd9f5175108141a82b6c24d727</th>\n",
       "      <td>8436.271954</td>\n",
       "      <td>11626</td>\n",
       "      <td>1</td>\n",
       "      <td>2024-06-30</td>\n",
       "      <td>186</td>\n",
       "    </tr>\n",
       "    <tr>\n",
       "      <th>0x00000000000e8716b4e2d12400a01474cdfad760</th>\n",
       "      <td>101607.258388</td>\n",
       "      <td>862227</td>\n",
       "      <td>1103</td>\n",
       "      <td>2024-01-30</td>\n",
       "      <td>187</td>\n",
       "    </tr>\n",
       "  </tbody>\n",
       "</table>\n",
       "</div>"
      ],
      "text/plain": [
       "                                                  gas_fee  total_txn  \\\n",
       "address                                                                \n",
       "0x000000000000000000000000000000000000000a       0.043945          2   \n",
       "0x00000000000007736e2f9aa5630b8c812e1f3fc9     272.652502       9754   \n",
       "0x00000000000062c6e2195ae26dff3b084c5c3938    5245.174636     517538   \n",
       "0x00000000000ba9cd9f5175108141a82b6c24d727    8436.271954      11626   \n",
       "0x00000000000e8716b4e2d12400a01474cdfad760  101607.258388     862227   \n",
       "\n",
       "                                            unique_tokens last_txn_date  \\\n",
       "address                                                                   \n",
       "0x000000000000000000000000000000000000000a              1    2024-02-20   \n",
       "0x00000000000007736e2f9aa5630b8c812e1f3fc9           4130    2024-06-30   \n",
       "0x00000000000062c6e2195ae26dff3b084c5c3938            580    2024-06-25   \n",
       "0x00000000000ba9cd9f5175108141a82b6c24d727              1    2024-06-30   \n",
       "0x00000000000e8716b4e2d12400a01474cdfad760           1103    2024-01-30   \n",
       "\n",
       "                                            unique_active_days  \n",
       "address                                                         \n",
       "0x000000000000000000000000000000000000000a                   1  \n",
       "0x00000000000007736e2f9aa5630b8c812e1f3fc9                 218  \n",
       "0x00000000000062c6e2195ae26dff3b084c5c3938                 118  \n",
       "0x00000000000ba9cd9f5175108141a82b6c24d727                 186  \n",
       "0x00000000000e8716b4e2d12400a01474cdfad760                 187  "
      ]
     },
     "execution_count": 13,
     "metadata": {},
     "output_type": "execute_result"
    }
   ],
   "source": [
    "trino_monthly_df = pd.read_csv(\n",
    "    \"/Users/floras/Desktop/unique-user/-Data/layerzero/monthly_info/processed_monthly_info_df.csv\"\n",
    ")\n",
    "trino_monthly_df = trino_monthly_df.set_index(\"address\")\n",
    "print(trino_monthly_df.shape)\n",
    "trino_monthly_df.head()"
   ]
  },
  {
   "cell_type": "markdown",
   "metadata": {},
   "source": [
    "# remove contract/hot wallets & transactions"
   ]
  },
  {
   "cell_type": "markdown",
   "metadata": {},
   "source": [
    "## Define wallets to be checked based on the number of interacted wallets"
   ]
  },
  {
   "cell_type": "code",
   "execution_count": 14,
   "metadata": {},
   "outputs": [],
   "source": [
    "def columns_unique_items(df, column_name_lst):\n",
    "    unique_items = []\n",
    "    for column_name in column_name_lst:\n",
    "        unique_items.extend(df[column_name].unique().tolist())\n",
    "    return list(set(unique_items))"
   ]
  },
  {
   "cell_type": "code",
   "execution_count": 15,
   "metadata": {},
   "outputs": [
    {
     "name": "stdout",
     "output_type": "stream",
     "text": [
      "184868\n"
     ]
    }
   ],
   "source": [
    "all_wallets = columns_unique_items(trans_df, [\"from_address\", \"to_address\"])\n",
    "print(len(all_wallets))"
   ]
  },
  {
   "cell_type": "code",
   "execution_count": 16,
   "metadata": {},
   "outputs": [],
   "source": [
    "def columns_item_count(unique_pairs_df, w_cols=[\"wallet_a\", \"wallet_b\"]):\n",
    "    # Flatten the selected columns into a single list\n",
    "    wallet_z = unique_pairs_df[w_cols].values.flatten()\n",
    "    # Count occurrences of each wallet using Counter\n",
    "    wallet_z_count = Counter(wallet_z)\n",
    "    # Convert the Counter object into a DataFrame\n",
    "    wallet_z_count_df = pd.DataFrame(\n",
    "        wallet_z_count.items(), columns=[\"wallet\", \"interacted_wallets\"]\n",
    "    )\n",
    "    # Return the resulting DataFrame\n",
    "    return wallet_z_count_df"
   ]
  },
  {
   "cell_type": "code",
   "execution_count": 17,
   "metadata": {},
   "outputs": [],
   "source": [
    "def columns_item_unique_pairs(\n",
    "    raw_transaction_df, address_cols=[\"from_address\", \"to_address\"]\n",
    "):\n",
    "    # Ensure input columns are present in the DataFrame\n",
    "    if not all(col in raw_transaction_df.columns for col in address_cols):\n",
    "        raise ValueError(f\"Columns {address_cols} not found in the DataFrame.\")\n",
    "\n",
    "    # Convert the columns to strings to ensure consistent dtype\n",
    "    raw_transaction_df[address_cols] = raw_transaction_df[address_cols].astype(str)\n",
    "    # Create sorted pairs using numpy operations (faster than apply)\n",
    "    pairs = np.sort(raw_transaction_df[address_cols].to_numpy(dtype=str), axis=1)\n",
    "    # Deduplicate pairs using numpy.unique\n",
    "    unique_pairs = np.unique(pairs, axis=0)\n",
    "    # Create a DataFrame for unique pairs\n",
    "    unique_pairs_df = pd.DataFrame(unique_pairs, columns=[\"wallet_a\", \"wallet_b\"])\n",
    "\n",
    "    return unique_pairs_df"
   ]
  },
  {
   "cell_type": "code",
   "execution_count": 18,
   "metadata": {},
   "outputs": [],
   "source": [
    "def columns_item_unique_pair_counts(\n",
    "    raw_transaction_df, address_cols=[\"from_address\", \"to_address\"]\n",
    "):\n",
    "    unique_pairs_df = columns_item_unique_pairs(raw_transaction_df, address_cols)\n",
    "    # Use the optimized columns_item_count function\n",
    "    wallet_count = columns_item_count(unique_pairs_df, w_cols=[\"wallet_a\", \"wallet_b\"])\n",
    "    # Reset index before returning\n",
    "    wallet_count.reset_index(drop=True, inplace=True)\n",
    "    return wallet_count"
   ]
  },
  {
   "cell_type": "code",
   "execution_count": 19,
   "metadata": {},
   "outputs": [],
   "source": [
    "# sample_wallet_pair_count_df = columns_item_unique_pair_counts(native_trans_df_0)\n",
    "# sample_wallet_pair_count_df.head()"
   ]
  },
  {
   "cell_type": "code",
   "execution_count": 20,
   "metadata": {},
   "outputs": [],
   "source": [
    "# check_contract_wallet_lst = sample_wallet_pair_count_df[\n",
    "#     sample_wallet_pair_count_df[\"interacted_wallets\"] > 1\n",
    "# ][\"wallet\"].tolist()\n",
    "# check_contract_wallet_lst[:5]"
   ]
  },
  {
   "cell_type": "code",
   "execution_count": 21,
   "metadata": {},
   "outputs": [],
   "source": [
    "def refine_lst(lst, exclude_lst):\n",
    "    exclude_set = set(exclude_lst)\n",
    "    return [x for x in lst if x not in exclude_set]"
   ]
  },
  {
   "cell_type": "code",
   "execution_count": 22,
   "metadata": {},
   "outputs": [],
   "source": [
    "# # remove core wallets from check_contract_wallet_lst\n",
    "# check_contract_wallet_lst = refine_lst(check_contract_wallet_lst, core_wallet_lst)"
   ]
  },
  {
   "cell_type": "markdown",
   "metadata": {},
   "source": [
    "## get contract wallets list"
   ]
  },
  {
   "cell_type": "code",
   "execution_count": 23,
   "metadata": {},
   "outputs": [],
   "source": [
    "def check_contract_wallet_addresses(wallet_addresses, max_threads=10):\n",
    "    contract_wallets = []\n",
    "    with ThreadPoolExecutor(max_threads) as executor:\n",
    "        # Submit tasks for concurrent execution\n",
    "        futures = [\n",
    "            executor.submit(check_contract, wallet) for wallet in wallet_addresses\n",
    "        ]\n",
    "        for future in futures:\n",
    "            results = future.result()\n",
    "            if results:\n",
    "                contract_wallets.append(results)\n",
    "    return contract_wallets"
   ]
  },
  {
   "cell_type": "code",
   "execution_count": 24,
   "metadata": {},
   "outputs": [],
   "source": [
    "# check_contract_wallet_addresses(check_contract_wallet_lst[:10])"
   ]
  },
  {
   "cell_type": "markdown",
   "metadata": {},
   "source": [
    "## get hot wallets list"
   ]
  },
  {
   "cell_type": "code",
   "execution_count": 25,
   "metadata": {},
   "outputs": [],
   "source": [
    "# check_frequent_wallets(\n",
    "#     check_contract_wallet_lst[10:15], start_date_=\"2024-12-01\", end_date_=\"2024-12-02\"\n",
    "# )"
   ]
  },
  {
   "cell_type": "markdown",
   "metadata": {},
   "source": [
    "## remove contract/hot transactions"
   ]
  },
  {
   "cell_type": "code",
   "execution_count": 26,
   "metadata": {},
   "outputs": [],
   "source": [
    "def filter_blacklist_transactions(df, col_lst, contract_lst):\n",
    "    for col in col_lst:\n",
    "        df = df[~df[col].isin(contract_lst)]\n",
    "    return df"
   ]
  },
  {
   "cell_type": "markdown",
   "metadata": {},
   "source": [
    "# Define weight"
   ]
  },
  {
   "cell_type": "code",
   "execution_count": 27,
   "metadata": {},
   "outputs": [],
   "source": [
    "def columns_item_unique_pair_sums(\n",
    "    raw_transaction_df_0,\n",
    "    address_cols=[\"from_address\", \"to_address\"],\n",
    "    sum_col=\"tx_count\",\n",
    "):\n",
    "    raw_transaction_df = raw_transaction_df_0.copy()\n",
    "    raw_transaction_df[\"pair\"] = raw_transaction_df[address_cols].apply(\n",
    "        lambda x: tuple(sorted(x)), axis=1\n",
    "    )\n",
    "    unique_pair_sums = raw_transaction_df.groupby(\"pair\")[sum_col].sum().reset_index()\n",
    "    unique_pair_sums[\"node_a\"] = unique_pair_sums[\"pair\"].apply(lambda x: x[0])\n",
    "    unique_pair_sums[\"node_b\"] = unique_pair_sums[\"pair\"].apply(lambda x: x[1])\n",
    "    unique_pair_sums.drop(columns=[\"pair\"], inplace=True)\n",
    "    return unique_pair_sums"
   ]
  },
  {
   "cell_type": "code",
   "execution_count": 28,
   "metadata": {},
   "outputs": [],
   "source": [
    "def sigmoid_weight_transform(df, turning_point=2, col=\"tx_count\"):\n",
    "    df[\"weight\"] = df[col].apply(lambda x: stretched_sigmoid(x, 2 / turning_point))\n",
    "    return df"
   ]
  },
  {
   "cell_type": "code",
   "execution_count": 29,
   "metadata": {},
   "outputs": [
    {
     "data": {
      "text/plain": [
       "count    285447.000000\n",
       "mean          1.902290\n",
       "std           4.548248\n",
       "min           1.000000\n",
       "25%           1.000000\n",
       "50%           1.000000\n",
       "75%           2.000000\n",
       "max         862.000000\n",
       "Name: count, dtype: float64"
      ]
     },
     "execution_count": 29,
     "metadata": {},
     "output_type": "execute_result"
    }
   ],
   "source": [
    "trans_df[\"count\"].describe()"
   ]
  },
  {
   "cell_type": "code",
   "execution_count": 30,
   "metadata": {},
   "outputs": [
    {
     "data": {
      "text/html": [
       "<div>\n",
       "<style scoped>\n",
       "    .dataframe tbody tr th:only-of-type {\n",
       "        vertical-align: middle;\n",
       "    }\n",
       "\n",
       "    .dataframe tbody tr th {\n",
       "        vertical-align: top;\n",
       "    }\n",
       "\n",
       "    .dataframe thead th {\n",
       "        text-align: right;\n",
       "    }\n",
       "</style>\n",
       "<table border=\"1\" class=\"dataframe\">\n",
       "  <thead>\n",
       "    <tr style=\"text-align: right;\">\n",
       "      <th></th>\n",
       "      <th>from_address</th>\n",
       "      <th>to_address</th>\n",
       "      <th>count</th>\n",
       "    </tr>\n",
       "  </thead>\n",
       "  <tbody>\n",
       "    <tr>\n",
       "      <th>1</th>\n",
       "      <td>0x716759e8ab31cdb4bca2f693a979b23e6020d4bb</td>\n",
       "      <td>0xf5ceaa6b42c0eef37b0cc9f5a1dbc559df0a3509</td>\n",
       "      <td>862</td>\n",
       "    </tr>\n",
       "    <tr>\n",
       "      <th>3</th>\n",
       "      <td>0x716759e8ab31cdb4bca2f693a979b23e6020d4bb</td>\n",
       "      <td>0x71a3c8f3fe420806a6ea892c3ecd5aeb1f0a3509</td>\n",
       "      <td>748</td>\n",
       "    </tr>\n",
       "    <tr>\n",
       "      <th>5</th>\n",
       "      <td>0xfb7c1d49e006eaddff2385c7ef8b0c5cf49d038a</td>\n",
       "      <td>0xfab50c438f56a86d03439a5171452e3abf56a2c2</td>\n",
       "      <td>632</td>\n",
       "    </tr>\n",
       "    <tr>\n",
       "      <th>7</th>\n",
       "      <td>0xfb7c1d49e006eaddff2385c7ef8b0c5cf49d038a</td>\n",
       "      <td>0x8e925e8219fd9de16e2e007d06ad1f3bef56a2c2</td>\n",
       "      <td>544</td>\n",
       "    </tr>\n",
       "    <tr>\n",
       "      <th>12</th>\n",
       "      <td>0x11c6fef26abb8dfee23c2df67e9e60d120a48413</td>\n",
       "      <td>0xce6e06ae265a3f925444695571abf6583fb66efc</td>\n",
       "      <td>300</td>\n",
       "    </tr>\n",
       "    <tr>\n",
       "      <th>...</th>\n",
       "      <td>...</td>\n",
       "      <td>...</td>\n",
       "      <td>...</td>\n",
       "    </tr>\n",
       "    <tr>\n",
       "      <th>566617</th>\n",
       "      <td>0x2b110fb95b780c5e410acfab169def735666133d</td>\n",
       "      <td>0x03ce1da719e39f9e6d72c15574f597052eb7e968</td>\n",
       "      <td>1</td>\n",
       "    </tr>\n",
       "    <tr>\n",
       "      <th>566621</th>\n",
       "      <td>0x2b110fb95b780c5e410acfab169def735666133d</td>\n",
       "      <td>0x03b989a218a7d808b3c88d986c0c2a0c30d9639e</td>\n",
       "      <td>1</td>\n",
       "    </tr>\n",
       "    <tr>\n",
       "      <th>566622</th>\n",
       "      <td>0x2b110fb95b780c5e410acfab169def735666133d</td>\n",
       "      <td>0x01351983178f696a2466a89fa0b5956d8ea222de</td>\n",
       "      <td>1</td>\n",
       "    </tr>\n",
       "    <tr>\n",
       "      <th>566623</th>\n",
       "      <td>0x82a8f96eb24993413ad7adf1f031fce984976a3e</td>\n",
       "      <td>0x1e72fd5929e64df37359ea644a46a9bf6614f3a5</td>\n",
       "      <td>1</td>\n",
       "    </tr>\n",
       "    <tr>\n",
       "      <th>566624</th>\n",
       "      <td>0x2b0d6807dad80abf97462343dfafe338e15f2d12</td>\n",
       "      <td>0xbb94ae28551b9bdbb25ec77d016bc9ebe9a74974</td>\n",
       "      <td>1</td>\n",
       "    </tr>\n",
       "  </tbody>\n",
       "</table>\n",
       "<p>285447 rows × 3 columns</p>\n",
       "</div>"
      ],
      "text/plain": [
       "                                      from_address  \\\n",
       "1       0x716759e8ab31cdb4bca2f693a979b23e6020d4bb   \n",
       "3       0x716759e8ab31cdb4bca2f693a979b23e6020d4bb   \n",
       "5       0xfb7c1d49e006eaddff2385c7ef8b0c5cf49d038a   \n",
       "7       0xfb7c1d49e006eaddff2385c7ef8b0c5cf49d038a   \n",
       "12      0x11c6fef26abb8dfee23c2df67e9e60d120a48413   \n",
       "...                                            ...   \n",
       "566617  0x2b110fb95b780c5e410acfab169def735666133d   \n",
       "566621  0x2b110fb95b780c5e410acfab169def735666133d   \n",
       "566622  0x2b110fb95b780c5e410acfab169def735666133d   \n",
       "566623  0x82a8f96eb24993413ad7adf1f031fce984976a3e   \n",
       "566624  0x2b0d6807dad80abf97462343dfafe338e15f2d12   \n",
       "\n",
       "                                        to_address  count  \n",
       "1       0xf5ceaa6b42c0eef37b0cc9f5a1dbc559df0a3509    862  \n",
       "3       0x71a3c8f3fe420806a6ea892c3ecd5aeb1f0a3509    748  \n",
       "5       0xfab50c438f56a86d03439a5171452e3abf56a2c2    632  \n",
       "7       0x8e925e8219fd9de16e2e007d06ad1f3bef56a2c2    544  \n",
       "12      0xce6e06ae265a3f925444695571abf6583fb66efc    300  \n",
       "...                                            ...    ...  \n",
       "566617  0x03ce1da719e39f9e6d72c15574f597052eb7e968      1  \n",
       "566621  0x03b989a218a7d808b3c88d986c0c2a0c30d9639e      1  \n",
       "566622  0x01351983178f696a2466a89fa0b5956d8ea222de      1  \n",
       "566623  0x1e72fd5929e64df37359ea644a46a9bf6614f3a5      1  \n",
       "566624  0xbb94ae28551b9bdbb25ec77d016bc9ebe9a74974      1  \n",
       "\n",
       "[285447 rows x 3 columns]"
      ]
     },
     "execution_count": 30,
     "metadata": {},
     "output_type": "execute_result"
    }
   ],
   "source": [
    "trans_df"
   ]
  },
  {
   "cell_type": "code",
   "execution_count": 31,
   "metadata": {},
   "outputs": [
    {
     "data": {
      "text/html": [
       "<div>\n",
       "<style scoped>\n",
       "    .dataframe tbody tr th:only-of-type {\n",
       "        vertical-align: middle;\n",
       "    }\n",
       "\n",
       "    .dataframe tbody tr th {\n",
       "        vertical-align: top;\n",
       "    }\n",
       "\n",
       "    .dataframe thead th {\n",
       "        text-align: right;\n",
       "    }\n",
       "</style>\n",
       "<table border=\"1\" class=\"dataframe\">\n",
       "  <thead>\n",
       "    <tr style=\"text-align: right;\">\n",
       "      <th></th>\n",
       "      <th>count</th>\n",
       "      <th>node_a</th>\n",
       "      <th>node_b</th>\n",
       "    </tr>\n",
       "  </thead>\n",
       "  <tbody>\n",
       "    <tr>\n",
       "      <th>0</th>\n",
       "      <td>2</td>\n",
       "      <td>0x0000000000000000000000000000000000002105</td>\n",
       "      <td>0x4b67945a88b434f22ec1308ad89769fd35127a5f</td>\n",
       "    </tr>\n",
       "    <tr>\n",
       "      <th>1</th>\n",
       "      <td>1</td>\n",
       "      <td>0x0000000000000000000000000000000064c8f444</td>\n",
       "      <td>0x81ab9d56c5a7f268a9ea5e3fe233771423754895</td>\n",
       "    </tr>\n",
       "    <tr>\n",
       "      <th>2</th>\n",
       "      <td>1</td>\n",
       "      <td>0x0000000000000000000000000000000066353a2b</td>\n",
       "      <td>0x4b67945a88b434f22ec1308ad89769fd35127a5f</td>\n",
       "    </tr>\n",
       "    <tr>\n",
       "      <th>3</th>\n",
       "      <td>1</td>\n",
       "      <td>0x000000000000000000000000000000009b476a5d</td>\n",
       "      <td>0x4b67945a88b434f22ec1308ad89769fd35127a5f</td>\n",
       "    </tr>\n",
       "    <tr>\n",
       "      <th>4</th>\n",
       "      <td>1</td>\n",
       "      <td>0x000000000000000000000000000000009b477880</td>\n",
       "      <td>0x4b67945a88b434f22ec1308ad89769fd35127a5f</td>\n",
       "    </tr>\n",
       "    <tr>\n",
       "      <th>...</th>\n",
       "      <td>...</td>\n",
       "      <td>...</td>\n",
       "      <td>...</td>\n",
       "    </tr>\n",
       "    <tr>\n",
       "      <th>264475</th>\n",
       "      <td>1</td>\n",
       "      <td>0xfecfcab98fd25c78049a1b567301e8437d0652c9</td>\n",
       "      <td>0xff5df410e4c72c1b49a2adfc3e3a8ef9511c9292</td>\n",
       "    </tr>\n",
       "    <tr>\n",
       "      <th>264476</th>\n",
       "      <td>2</td>\n",
       "      <td>0xfee0f7dd0df74723c681e23ff6c6410b4f23ff57</td>\n",
       "      <td>0xff8ba4d1fc3762f6154cc942ccf30049a2a0cec6</td>\n",
       "    </tr>\n",
       "    <tr>\n",
       "      <th>264477</th>\n",
       "      <td>1</td>\n",
       "      <td>0xff1cff02332f6f23c93551a3ef70d99cbb6fcc80</td>\n",
       "      <td>0xff629ead0ce217e4e99e1714e09be41dd387c1d8</td>\n",
       "    </tr>\n",
       "    <tr>\n",
       "      <th>264478</th>\n",
       "      <td>1</td>\n",
       "      <td>0xff8ba4d1fc3762f6154cc942ccf30049a2a0cec6</td>\n",
       "      <td>0xff994f1271ca94fd232b89adef52023b41fef4bf</td>\n",
       "    </tr>\n",
       "    <tr>\n",
       "      <th>264479</th>\n",
       "      <td>1</td>\n",
       "      <td>0xff8ba4d1fc3762f6154cc942ccf30049a2a0cec6</td>\n",
       "      <td>0xfff00f4eb5c003db1f59f86428efd6b7cc2ae5f7</td>\n",
       "    </tr>\n",
       "  </tbody>\n",
       "</table>\n",
       "<p>264480 rows × 3 columns</p>\n",
       "</div>"
      ],
      "text/plain": [
       "        count                                      node_a  \\\n",
       "0           2  0x0000000000000000000000000000000000002105   \n",
       "1           1  0x0000000000000000000000000000000064c8f444   \n",
       "2           1  0x0000000000000000000000000000000066353a2b   \n",
       "3           1  0x000000000000000000000000000000009b476a5d   \n",
       "4           1  0x000000000000000000000000000000009b477880   \n",
       "...       ...                                         ...   \n",
       "264475      1  0xfecfcab98fd25c78049a1b567301e8437d0652c9   \n",
       "264476      2  0xfee0f7dd0df74723c681e23ff6c6410b4f23ff57   \n",
       "264477      1  0xff1cff02332f6f23c93551a3ef70d99cbb6fcc80   \n",
       "264478      1  0xff8ba4d1fc3762f6154cc942ccf30049a2a0cec6   \n",
       "264479      1  0xff8ba4d1fc3762f6154cc942ccf30049a2a0cec6   \n",
       "\n",
       "                                            node_b  \n",
       "0       0x4b67945a88b434f22ec1308ad89769fd35127a5f  \n",
       "1       0x81ab9d56c5a7f268a9ea5e3fe233771423754895  \n",
       "2       0x4b67945a88b434f22ec1308ad89769fd35127a5f  \n",
       "3       0x4b67945a88b434f22ec1308ad89769fd35127a5f  \n",
       "4       0x4b67945a88b434f22ec1308ad89769fd35127a5f  \n",
       "...                                            ...  \n",
       "264475  0xff5df410e4c72c1b49a2adfc3e3a8ef9511c9292  \n",
       "264476  0xff8ba4d1fc3762f6154cc942ccf30049a2a0cec6  \n",
       "264477  0xff629ead0ce217e4e99e1714e09be41dd387c1d8  \n",
       "264478  0xff994f1271ca94fd232b89adef52023b41fef4bf  \n",
       "264479  0xfff00f4eb5c003db1f59f86428efd6b7cc2ae5f7  \n",
       "\n",
       "[264480 rows x 3 columns]"
      ]
     },
     "execution_count": 31,
     "metadata": {},
     "output_type": "execute_result"
    }
   ],
   "source": [
    "columns_item_unique_pair_sums(trans_df, sum_col=\"count\")"
   ]
  },
  {
   "cell_type": "code",
   "execution_count": 32,
   "metadata": {},
   "outputs": [
    {
     "name": "stdout",
     "output_type": "stream",
     "text": [
      "(264480, 4)\n"
     ]
    },
    {
     "data": {
      "text/html": [
       "<div>\n",
       "<style scoped>\n",
       "    .dataframe tbody tr th:only-of-type {\n",
       "        vertical-align: middle;\n",
       "    }\n",
       "\n",
       "    .dataframe tbody tr th {\n",
       "        vertical-align: top;\n",
       "    }\n",
       "\n",
       "    .dataframe thead th {\n",
       "        text-align: right;\n",
       "    }\n",
       "</style>\n",
       "<table border=\"1\" class=\"dataframe\">\n",
       "  <thead>\n",
       "    <tr style=\"text-align: right;\">\n",
       "      <th></th>\n",
       "      <th>count</th>\n",
       "      <th>node_a</th>\n",
       "      <th>node_b</th>\n",
       "      <th>weight</th>\n",
       "    </tr>\n",
       "  </thead>\n",
       "  <tbody>\n",
       "    <tr>\n",
       "      <th>0</th>\n",
       "      <td>2</td>\n",
       "      <td>0x0000000000000000000000000000000000002105</td>\n",
       "      <td>0x4b67945a88b434f22ec1308ad89769fd35127a5f</td>\n",
       "      <td>0.00232</td>\n",
       "    </tr>\n",
       "    <tr>\n",
       "      <th>1</th>\n",
       "      <td>1</td>\n",
       "      <td>0x0000000000000000000000000000000064c8f444</td>\n",
       "      <td>0x81ab9d56c5a7f268a9ea5e3fe233771423754895</td>\n",
       "      <td>0.00116</td>\n",
       "    </tr>\n",
       "    <tr>\n",
       "      <th>2</th>\n",
       "      <td>1</td>\n",
       "      <td>0x0000000000000000000000000000000066353a2b</td>\n",
       "      <td>0x4b67945a88b434f22ec1308ad89769fd35127a5f</td>\n",
       "      <td>0.00116</td>\n",
       "    </tr>\n",
       "    <tr>\n",
       "      <th>3</th>\n",
       "      <td>1</td>\n",
       "      <td>0x000000000000000000000000000000009b476a5d</td>\n",
       "      <td>0x4b67945a88b434f22ec1308ad89769fd35127a5f</td>\n",
       "      <td>0.00116</td>\n",
       "    </tr>\n",
       "    <tr>\n",
       "      <th>4</th>\n",
       "      <td>1</td>\n",
       "      <td>0x000000000000000000000000000000009b477880</td>\n",
       "      <td>0x4b67945a88b434f22ec1308ad89769fd35127a5f</td>\n",
       "      <td>0.00116</td>\n",
       "    </tr>\n",
       "  </tbody>\n",
       "</table>\n",
       "</div>"
      ],
      "text/plain": [
       "   count                                      node_a  \\\n",
       "0      2  0x0000000000000000000000000000000000002105   \n",
       "1      1  0x0000000000000000000000000000000064c8f444   \n",
       "2      1  0x0000000000000000000000000000000066353a2b   \n",
       "3      1  0x000000000000000000000000000000009b476a5d   \n",
       "4      1  0x000000000000000000000000000000009b477880   \n",
       "\n",
       "                                       node_b   weight  \n",
       "0  0x4b67945a88b434f22ec1308ad89769fd35127a5f  0.00232  \n",
       "1  0x81ab9d56c5a7f268a9ea5e3fe233771423754895  0.00116  \n",
       "2  0x4b67945a88b434f22ec1308ad89769fd35127a5f  0.00116  \n",
       "3  0x4b67945a88b434f22ec1308ad89769fd35127a5f  0.00116  \n",
       "4  0x4b67945a88b434f22ec1308ad89769fd35127a5f  0.00116  "
      ]
     },
     "execution_count": 32,
     "metadata": {},
     "output_type": "execute_result"
    }
   ],
   "source": [
    "weight_df = columns_item_unique_pair_sums(trans_df, sum_col=\"count\")\n",
    "# weight_df = sigmoid_weight_transform(weight_df, turning_point= 100, col='count')\n",
    "weight_df[\"weight\"] = weight_df[\"count\"] / weight_df[\"count\"].max()\n",
    "print(weight_df.shape)\n",
    "weight_df.head()"
   ]
  },
  {
   "cell_type": "code",
   "execution_count": 33,
   "metadata": {},
   "outputs": [
    {
     "data": {
      "text/plain": [
       "<Axes: >"
      ]
     },
     "execution_count": 33,
     "metadata": {},
     "output_type": "execute_result"
    },
    {
     "data": {
      "image/png": "[encoded data removed]",
      "text/plain": [
       "<Figure size 640x480 with 1 Axes>"
      ]
     },
     "metadata": {},
     "output_type": "display_data"
    }
   ],
   "source": [
    "weight_df[\"weight\"].hist(bins=50)"
   ]
  },
  {
   "cell_type": "markdown",
   "metadata": {},
   "source": [
    "# build community"
   ]
  },
  {
   "cell_type": "code",
   "execution_count": 34,
   "metadata": {},
   "outputs": [],
   "source": [
    "def louvain_community_lst_func(\n",
    "    df, resolution=1, node_cols=[\"node_a\", \"node_b\"], weight_col=\"weight\"\n",
    "):\n",
    "    unique_wallets_num = len(columns_unique_items(df, node_cols))\n",
    "    num_edges = df.shape[0]\n",
    "    print(f\"Number of unique wallets: {unique_wallets_num}\")\n",
    "    print(f\"Number of edges: {num_edges}\")\n",
    "\n",
    "    # Create a graph\n",
    "    G = nx.Graph()\n",
    "\n",
    "    # Add edges to the graph\n",
    "    for _, row in df.iterrows():\n",
    "        G.add_edge(row[node_cols[0]], row[node_cols[1]], weight=row[weight_col])\n",
    "\n",
    "    communities = algorithms.louvain(G, weight=weight_col, resolution=resolution)\n",
    "\n",
    "    communities_list = communities.communities\n",
    "    print(f\"Number of communities detected: {len(communities_list)}\")\n",
    "    print(\"-\")\n",
    "    display(pd.Series([len(community) for community in communities_list]).describe())\n",
    "    print(\"\")\n",
    "\n",
    "    communities_list = sorted(communities_list, key=lambda x: len(x), reverse=True)\n",
    "\n",
    "    return communities_list"
   ]
  },
  {
   "cell_type": "code",
   "execution_count": 35,
   "metadata": {},
   "outputs": [],
   "source": [
    "def nested_lst_to_loc_dict(nested_lst_):\n",
    "    loc_dict = {}\n",
    "    for i, commu in enumerate(nested_lst_):\n",
    "        for w in commu:\n",
    "            loc_dict[w] = i\n",
    "    return loc_dict"
   ]
  },
  {
   "cell_type": "markdown",
   "metadata": {},
   "source": [
    "### Decide Louvain resolution"
   ]
  },
  {
   "cell_type": "code",
   "execution_count": 384,
   "metadata": {},
   "outputs": [
    {
     "name": "stdout",
     "output_type": "stream",
     "text": [
      "Resolution: 1\n",
      "Number of unique wallets: 184868\n",
      "Number of edges: 264480\n",
      "Number of communities detected: 8288\n",
      "-\n"
     ]
    },
    {
     "data": {
      "text/plain": [
       "count    8288.000000\n",
       "mean       22.305502\n",
       "std       219.514353\n",
       "min         2.000000\n",
       "25%         2.000000\n",
       "50%         2.000000\n",
       "75%         5.000000\n",
       "max      8602.000000\n",
       "dtype: float64"
      ]
     },
     "metadata": {},
     "output_type": "display_data"
    },
    {
     "name": "stdout",
     "output_type": "stream",
     "text": [
      "\n",
      "communities count: 8288\n",
      "wallets count: 184868\n",
      "\n",
      "Resolution: 201\n",
      "Number of unique wallets: 184868\n",
      "Number of edges: 264480\n",
      "Number of communities detected: 15886\n",
      "-\n"
     ]
    },
    {
     "data": {
      "text/plain": [
       "count    15886.000000\n",
       "mean        11.637165\n",
       "std         24.055950\n",
       "min          1.000000\n",
       "25%          2.000000\n",
       "50%          5.000000\n",
       "75%         10.000000\n",
       "max       1047.000000\n",
       "dtype: float64"
      ]
     },
     "metadata": {},
     "output_type": "display_data"
    },
    {
     "name": "stdout",
     "output_type": "stream",
     "text": [
      "\n",
      "communities count: 15885\n",
      "wallets count: 184867\n",
      "\n",
      "Resolution: 401\n",
      "Number of unique wallets: 184868\n",
      "Number of edges: 264480\n",
      "Number of communities detected: 20271\n",
      "-\n"
     ]
    },
    {
     "data": {
      "text/plain": [
       "count    20271.000000\n",
       "mean         9.119826\n",
       "std         18.221086\n",
       "min          1.000000\n",
       "25%          2.000000\n",
       "50%          4.000000\n",
       "75%          9.000000\n",
       "max       1047.000000\n",
       "dtype: float64"
      ]
     },
     "metadata": {},
     "output_type": "display_data"
    },
    {
     "name": "stdout",
     "output_type": "stream",
     "text": [
      "\n",
      "communities count: 18797\n",
      "wallets count: 183394\n",
      "\n",
      "Resolution: 601\n",
      "Number of unique wallets: 184868\n",
      "Number of edges: 264480\n",
      "Number of communities detected: 24030\n",
      "-\n"
     ]
    },
    {
     "data": {
      "text/plain": [
       "count    24030.000000\n",
       "mean         7.693217\n",
       "std         14.896291\n",
       "min          1.000000\n",
       "25%          2.000000\n",
       "50%          3.000000\n",
       "75%          8.000000\n",
       "max        689.000000\n",
       "dtype: float64"
      ]
     },
     "metadata": {},
     "output_type": "display_data"
    },
    {
     "name": "stdout",
     "output_type": "stream",
     "text": [
      "\n",
      "communities count: 20337\n",
      "wallets count: 181175\n",
      "\n",
      "Resolution: 801\n",
      "Number of unique wallets: 184868\n",
      "Number of edges: 264480\n",
      "Number of communities detected: 28616\n",
      "-\n"
     ]
    },
    {
     "data": {
      "text/plain": [
       "count    28616.000000\n",
       "mean         6.460302\n",
       "std         11.919670\n",
       "min          1.000000\n",
       "25%          1.000000\n",
       "50%          3.000000\n",
       "75%          7.000000\n",
       "max        333.000000\n",
       "dtype: float64"
      ]
     },
     "metadata": {},
     "output_type": "display_data"
    },
    {
     "name": "stdout",
     "output_type": "stream",
     "text": [
      "\n",
      "communities count: 21388\n",
      "wallets count: 177640\n",
      "\n",
      "Resolution: 1001\n",
      "Number of unique wallets: 184868\n",
      "Number of edges: 264480\n",
      "Number of communities detected: 32191\n",
      "-\n"
     ]
    },
    {
     "data": {
      "text/plain": [
       "count    32191.000000\n",
       "mean         5.742847\n",
       "std         10.482971\n",
       "min          1.000000\n",
       "25%          1.000000\n",
       "50%          2.000000\n",
       "75%          6.000000\n",
       "max        292.000000\n",
       "dtype: float64"
      ]
     },
     "metadata": {},
     "output_type": "display_data"
    },
    {
     "name": "stdout",
     "output_type": "stream",
     "text": [
      "\n",
      "communities count: 22223\n",
      "wallets count: 174900\n",
      "\n",
      "Resolution: 1201\n",
      "Number of unique wallets: 184868\n",
      "Number of edges: 264480\n",
      "Number of communities detected: 35453\n",
      "-\n"
     ]
    },
    {
     "data": {
      "text/plain": [
       "count    35453.000000\n",
       "mean         5.214453\n",
       "std          9.351819\n",
       "min          1.000000\n",
       "25%          1.000000\n",
       "50%          2.000000\n",
       "75%          6.000000\n",
       "max        259.000000\n",
       "dtype: float64"
      ]
     },
     "metadata": {},
     "output_type": "display_data"
    },
    {
     "name": "stdout",
     "output_type": "stream",
     "text": [
      "\n",
      "communities count: 22796\n",
      "wallets count: 172211\n",
      "\n",
      "Resolution: 1401\n",
      "Number of unique wallets: 184868\n",
      "Number of edges: 264480\n",
      "Number of communities detected: 38609\n",
      "-\n"
     ]
    },
    {
     "data": {
      "text/plain": [
       "count    38609.000000\n",
       "mean         4.788210\n",
       "std          8.450698\n",
       "min          1.000000\n",
       "25%          1.000000\n",
       "50%          2.000000\n",
       "75%          5.000000\n",
       "max        259.000000\n",
       "dtype: float64"
      ]
     },
     "metadata": {},
     "output_type": "display_data"
    },
    {
     "name": "stdout",
     "output_type": "stream",
     "text": [
      "\n",
      "communities count: 23274\n",
      "wallets count: 169533\n",
      "\n",
      "Resolution: 1601\n",
      "Number of unique wallets: 184868\n",
      "Number of edges: 264480\n",
      "Number of communities detected: 41487\n",
      "-\n"
     ]
    },
    {
     "data": {
      "text/plain": [
       "count    41487.000000\n",
       "mean         4.456046\n",
       "std          7.774158\n",
       "min          1.000000\n",
       "25%          1.000000\n",
       "50%          2.000000\n",
       "75%          5.000000\n",
       "max        259.000000\n",
       "dtype: float64"
      ]
     },
     "metadata": {},
     "output_type": "display_data"
    },
    {
     "name": "stdout",
     "output_type": "stream",
     "text": [
      "\n",
      "communities count: 23673\n",
      "wallets count: 167054\n",
      "\n",
      "Resolution: 1801\n",
      "Number of unique wallets: 184868\n",
      "Number of edges: 264480\n",
      "Number of communities detected: 43789\n",
      "-\n"
     ]
    },
    {
     "data": {
      "text/plain": [
       "count    43789.000000\n",
       "mean         4.221791\n",
       "std          7.313454\n",
       "min          1.000000\n",
       "25%          1.000000\n",
       "50%          2.000000\n",
       "75%          5.000000\n",
       "max        259.000000\n",
       "dtype: float64"
      ]
     },
     "metadata": {},
     "output_type": "display_data"
    },
    {
     "name": "stdout",
     "output_type": "stream",
     "text": [
      "\n",
      "communities count: 23970\n",
      "wallets count: 165049\n",
      "\n",
      "Resolution: 2001\n",
      "Number of unique wallets: 184868\n",
      "Number of edges: 264480\n",
      "Number of communities detected: 45812\n",
      "-\n"
     ]
    },
    {
     "data": {
      "text/plain": [
       "count    45812.000000\n",
       "mean         4.035362\n",
       "std          6.919904\n",
       "min          1.000000\n",
       "25%          1.000000\n",
       "50%          2.000000\n",
       "75%          4.000000\n",
       "max        245.000000\n",
       "dtype: float64"
      ]
     },
     "metadata": {},
     "output_type": "display_data"
    },
    {
     "name": "stdout",
     "output_type": "stream",
     "text": [
      "\n",
      "communities count: 24192\n",
      "wallets count: 163248\n",
      "\n",
      "Resolution: 2201\n",
      "Number of unique wallets: 184868\n",
      "Number of edges: 264480\n",
      "Number of communities detected: 47771\n",
      "-\n"
     ]
    },
    {
     "data": {
      "text/plain": [
       "count    47771.000000\n",
       "mean         3.869879\n",
       "std          6.544163\n",
       "min          1.000000\n",
       "25%          1.000000\n",
       "50%          2.000000\n",
       "75%          4.000000\n",
       "max        199.000000\n",
       "dtype: float64"
      ]
     },
     "metadata": {},
     "output_type": "display_data"
    },
    {
     "name": "stdout",
     "output_type": "stream",
     "text": [
      "\n",
      "communities count: 24419\n",
      "wallets count: 161516\n",
      "\n",
      "Resolution: 2401\n",
      "Number of unique wallets: 184868\n",
      "Number of edges: 264480\n",
      "Number of communities detected: 49704\n",
      "-\n"
     ]
    },
    {
     "data": {
      "text/plain": [
       "count    49704.000000\n",
       "mean         3.719379\n",
       "std          6.185052\n",
       "min          1.000000\n",
       "25%          1.000000\n",
       "50%          1.000000\n",
       "75%          4.000000\n",
       "max        158.000000\n",
       "dtype: float64"
      ]
     },
     "metadata": {},
     "output_type": "display_data"
    },
    {
     "name": "stdout",
     "output_type": "stream",
     "text": [
      "\n",
      "communities count: 24579\n",
      "wallets count: 159743\n",
      "\n",
      "Resolution: 2601\n",
      "Number of unique wallets: 184868\n",
      "Number of edges: 264480\n",
      "Number of communities detected: 51619\n",
      "-\n"
     ]
    },
    {
     "data": {
      "text/plain": [
       "count    51619.000000\n",
       "mean         3.581394\n",
       "std          5.870126\n",
       "min          1.000000\n",
       "25%          1.000000\n",
       "50%          1.000000\n",
       "75%          4.000000\n",
       "max        124.000000\n",
       "dtype: float64"
      ]
     },
     "metadata": {},
     "output_type": "display_data"
    },
    {
     "name": "stdout",
     "output_type": "stream",
     "text": [
      "\n",
      "communities count: 24749\n",
      "wallets count: 157998\n",
      "\n",
      "Resolution: 2801\n",
      "Number of unique wallets: 184868\n",
      "Number of edges: 264480\n",
      "Number of communities detected: 53260\n",
      "-\n"
     ]
    },
    {
     "data": {
      "text/plain": [
       "count    53260.000000\n",
       "mean         3.471048\n",
       "std          5.606488\n",
       "min          1.000000\n",
       "25%          1.000000\n",
       "50%          1.000000\n",
       "75%          4.000000\n",
       "max        115.000000\n",
       "dtype: float64"
      ]
     },
     "metadata": {},
     "output_type": "display_data"
    },
    {
     "name": "stdout",
     "output_type": "stream",
     "text": [
      "\n",
      "communities count: 24862\n",
      "wallets count: 156470\n",
      "\n"
     ]
    }
   ],
   "source": [
    "commu_count_dict = {}\n",
    "wallets_count_dict = {}\n",
    "\n",
    "for r in range(1, 3000, 200):\n",
    "    print(f\"Resolution: {r}\")\n",
    "    louvain_community_lst = louvain_community_lst_func(weight_df, resolution=r)\n",
    "    count = 0\n",
    "    ttl_wallets = 0\n",
    "    for i, commu_wallets in enumerate(louvain_community_lst):\n",
    "        if len(commu_wallets) >= 2:\n",
    "            count += 1\n",
    "            ttl_wallets += len(commu_wallets)\n",
    "    print(f\"communities count: {count}\")\n",
    "    print(f\"wallets count: {ttl_wallets}\")\n",
    "    print(\"\")\n",
    "    commu_count_dict[r] = count\n",
    "    wallets_count_dict[r] = ttl_wallets"
   ]
  },
  {
   "cell_type": "code",
   "execution_count": 656,
   "metadata": {},
   "outputs": [
    {
     "data": {
      "application/vnd.plotly.v1+json": {
       "config": {
        "plotlyServerURL": "https://plot.ly"
       },
       "data": [
        {
         "mode": "lines+markers",
         "name": "count",
         "type": "scatter",
         "x": [
          1,
          201,
          401,
          601,
          801,
          1001,
          1201,
          1401,
          1601,
          1801,
          2001,
          2201,
          2401,
          2601,
          2801
         ],
         "y": [
          8288,
          15885,
          18797,
          20337,
          21388,
          22223,
          22796,
          23274,
          23673,
          23970,
          24192,
          24419,
          24579,
          24749,
          24862
         ]
        }
       ],
       "layout": {
        "template": {
         "data": {
          "bar": [
           {
            "error_x": {
             "color": "#2a3f5f"
            },
            "error_y": {
             "color": "#2a3f5f"
            },
            "marker": {
             "line": {
              "color": "#E5ECF6",
              "width": 0.5
             },
             "pattern": {
              "fillmode": "overlay",
              "size": 10,
              "solidity": 0.2
             }
            },
            "type": "bar"
           }
          ],
          "barpolar": [
           {
            "marker": {
             "line": {
              "color": "#E5ECF6",
              "width": 0.5
             },
             "pattern": {
              "fillmode": "overlay",
              "size": 10,
              "solidity": 0.2
             }
            },
            "type": "barpolar"
           }
          ],
          "carpet": [
           {
            "aaxis": {
             "endlinecolor": "#2a3f5f",
             "gridcolor": "white",
             "linecolor": "white",
             "minorgridcolor": "white",
             "startlinecolor": "#2a3f5f"
            },
            "baxis": {
             "endlinecolor": "#2a3f5f",
             "gridcolor": "white",
             "linecolor": "white",
             "minorgridcolor": "white",
             "startlinecolor": "#2a3f5f"
            },
            "type": "carpet"
           }
          ],
          "choropleth": [
           {
            "colorbar": {
             "outlinewidth": 0,
             "ticks": ""
            },
            "type": "choropleth"
           }
          ],
          "contour": [
           {
            "colorbar": {
             "outlinewidth": 0,
             "ticks": ""
            },
            "colorscale": [
             [
              0,
              "#0d0887"
             ],
             [
              0.1111111111111111,
              "#46039f"
             ],
             [
              0.2222222222222222,
              "#7201a8"
             ],
             [
              0.3333333333333333,
              "#9c179e"
             ],
             [
              0.4444444444444444,
              "#bd3786"
             ],
             [
              0.5555555555555556,
              "#d8576b"
             ],
             [
              0.6666666666666666,
              "#ed7953"
             ],
             [
              0.7777777777777778,
              "#fb9f3a"
             ],
             [
              0.8888888888888888,
              "#fdca26"
             ],
             [
              1,
              "#f0f921"
             ]
            ],
            "type": "contour"
           }
          ],
          "contourcarpet": [
           {
            "colorbar": {
             "outlinewidth": 0,
             "ticks": ""
            },
            "type": "contourcarpet"
           }
          ],
          "heatmap": [
           {
            "colorbar": {
             "outlinewidth": 0,
             "ticks": ""
            },
            "colorscale": [
             [
              0,
              "#0d0887"
             ],
             [
              0.1111111111111111,
              "#46039f"
             ],
             [
              0.2222222222222222,
              "#7201a8"
             ],
             [
              0.3333333333333333,
              "#9c179e"
             ],
             [
              0.4444444444444444,
              "#bd3786"
             ],
             [
              0.5555555555555556,
              "#d8576b"
             ],
             [
              0.6666666666666666,
              "#ed7953"
             ],
             [
              0.7777777777777778,
              "#fb9f3a"
             ],
             [
              0.8888888888888888,
              "#fdca26"
             ],
             [
              1,
              "#f0f921"
             ]
            ],
            "type": "heatmap"
           }
          ],
          "heatmapgl": [
           {
            "colorbar": {
             "outlinewidth": 0,
             "ticks": ""
            },
            "colorscale": [
             [
              0,
              "#0d0887"
             ],
             [
              0.1111111111111111,
              "#46039f"
             ],
             [
              0.2222222222222222,
              "#7201a8"
             ],
             [
              0.3333333333333333,
              "#9c179e"
             ],
             [
              0.4444444444444444,
              "#bd3786"
             ],
             [
              0.5555555555555556,
              "#d8576b"
             ],
             [
              0.6666666666666666,
              "#ed7953"
             ],
             [
              0.7777777777777778,
              "#fb9f3a"
             ],
             [
              0.8888888888888888,
              "#fdca26"
             ],
             [
              1,
              "#f0f921"
             ]
            ],
            "type": "heatmapgl"
           }
          ],
          "histogram": [
           {
            "marker": {
             "pattern": {
              "fillmode": "overlay",
              "size": 10,
              "solidity": 0.2
             }
            },
            "type": "histogram"
           }
          ],
          "histogram2d": [
           {
            "colorbar": {
             "outlinewidth": 0,
             "ticks": ""
            },
            "colorscale": [
             [
              0,
              "#0d0887"
             ],
             [
              0.1111111111111111,
              "#46039f"
             ],
             [
              0.2222222222222222,
              "#7201a8"
             ],
             [
              0.3333333333333333,
              "#9c179e"
             ],
             [
              0.4444444444444444,
              "#bd3786"
             ],
             [
              0.5555555555555556,
              "#d8576b"
             ],
             [
              0.6666666666666666,
              "#ed7953"
             ],
             [
              0.7777777777777778,
              "#fb9f3a"
             ],
             [
              0.8888888888888888,
              "#fdca26"
             ],
             [
              1,
              "#f0f921"
             ]
            ],
            "type": "histogram2d"
           }
          ],
          "histogram2dcontour": [
           {
            "colorbar": {
             "outlinewidth": 0,
             "ticks": ""
            },
            "colorscale": [
             [
              0,
              "#0d0887"
             ],
             [
              0.1111111111111111,
              "#46039f"
             ],
             [
              0.2222222222222222,
              "#7201a8"
             ],
             [
              0.3333333333333333,
              "#9c179e"
             ],
             [
              0.4444444444444444,
              "#bd3786"
             ],
             [
              0.5555555555555556,
              "#d8576b"
             ],
             [
              0.6666666666666666,
              "#ed7953"
             ],
             [
              0.7777777777777778,
              "#fb9f3a"
             ],
             [
              0.8888888888888888,
              "#fdca26"
             ],
             [
              1,
              "#f0f921"
             ]
            ],
            "type": "histogram2dcontour"
           }
          ],
          "mesh3d": [
           {
            "colorbar": {
             "outlinewidth": 0,
             "ticks": ""
            },
            "type": "mesh3d"
           }
          ],
          "parcoords": [
           {
            "line": {
             "colorbar": {
              "outlinewidth": 0,
              "ticks": ""
             }
            },
            "type": "parcoords"
           }
          ],
          "pie": [
           {
            "automargin": true,
            "type": "pie"
           }
          ],
          "scatter": [
           {
            "fillpattern": {
             "fillmode": "overlay",
             "size": 10,
             "solidity": 0.2
            },
            "type": "scatter"
           }
          ],
          "scatter3d": [
           {
            "line": {
             "colorbar": {
              "outlinewidth": 0,
              "ticks": ""
             }
            },
            "marker": {
             "colorbar": {
              "outlinewidth": 0,
              "ticks": ""
             }
            },
            "type": "scatter3d"
           }
          ],
          "scattercarpet": [
           {
            "marker": {
             "colorbar": {
              "outlinewidth": 0,
              "ticks": ""
             }
            },
            "type": "scattercarpet"
           }
          ],
          "scattergeo": [
           {
            "marker": {
             "colorbar": {
              "outlinewidth": 0,
              "ticks": ""
             }
            },
            "type": "scattergeo"
           }
          ],
          "scattergl": [
           {
            "marker": {
             "colorbar": {
              "outlinewidth": 0,
              "ticks": ""
             }
            },
            "type": "scattergl"
           }
          ],
          "scattermapbox": [
           {
            "marker": {
             "colorbar": {
              "outlinewidth": 0,
              "ticks": ""
             }
            },
            "type": "scattermapbox"
           }
          ],
          "scatterpolar": [
           {
            "marker": {
             "colorbar": {
              "outlinewidth": 0,
              "ticks": ""
             }
            },
            "type": "scatterpolar"
           }
          ],
          "scatterpolargl": [
           {
            "marker": {
             "colorbar": {
              "outlinewidth": 0,
              "ticks": ""
             }
            },
            "type": "scatterpolargl"
           }
          ],
          "scatterternary": [
           {
            "marker": {
             "colorbar": {
              "outlinewidth": 0,
              "ticks": ""
             }
            },
            "type": "scatterternary"
           }
          ],
          "surface": [
           {
            "colorbar": {
             "outlinewidth": 0,
             "ticks": ""
            },
            "colorscale": [
             [
              0,
              "#0d0887"
             ],
             [
              0.1111111111111111,
              "#46039f"
             ],
             [
              0.2222222222222222,
              "#7201a8"
             ],
             [
              0.3333333333333333,
              "#9c179e"
             ],
             [
              0.4444444444444444,
              "#bd3786"
             ],
             [
              0.5555555555555556,
              "#d8576b"
             ],
             [
              0.6666666666666666,
              "#ed7953"
             ],
             [
              0.7777777777777778,
              "#fb9f3a"
             ],
             [
              0.8888888888888888,
              "#fdca26"
             ],
             [
              1,
              "#f0f921"
             ]
            ],
            "type": "surface"
           }
          ],
          "table": [
           {
            "cells": {
             "fill": {
              "color": "#EBF0F8"
             },
             "line": {
              "color": "white"
             }
            },
            "header": {
             "fill": {
              "color": "#C8D4E3"
             },
             "line": {
              "color": "white"
             }
            },
            "type": "table"
           }
          ]
         },
         "layout": {
          "annotationdefaults": {
           "arrowcolor": "#2a3f5f",
           "arrowhead": 0,
           "arrowwidth": 1
          },
          "autotypenumbers": "strict",
          "coloraxis": {
           "colorbar": {
            "outlinewidth": 0,
            "ticks": ""
           }
          },
          "colorscale": {
           "diverging": [
            [
             0,
             "#8e0152"
            ],
            [
             0.1,
             "#c51b7d"
            ],
            [
             0.2,
             "#de77ae"
            ],
            [
             0.3,
             "#f1b6da"
            ],
            [
             0.4,
             "#fde0ef"
            ],
            [
             0.5,
             "#f7f7f7"
            ],
            [
             0.6,
             "#e6f5d0"
            ],
            [
             0.7,
             "#b8e186"
            ],
            [
             0.8,
             "#7fbc41"
            ],
            [
             0.9,
             "#4d9221"
            ],
            [
             1,
             "#276419"
            ]
           ],
           "sequential": [
            [
             0,
             "#0d0887"
            ],
            [
             0.1111111111111111,
             "#46039f"
            ],
            [
             0.2222222222222222,
             "#7201a8"
            ],
            [
             0.3333333333333333,
             "#9c179e"
            ],
            [
             0.4444444444444444,
             "#bd3786"
            ],
            [
             0.5555555555555556,
             "#d8576b"
            ],
            [
             0.6666666666666666,
             "#ed7953"
            ],
            [
             0.7777777777777778,
             "#fb9f3a"
            ],
            [
             0.8888888888888888,
             "#fdca26"
            ],
            [
             1,
             "#f0f921"
            ]
           ],
           "sequentialminus": [
            [
             0,
             "#0d0887"
            ],
            [
             0.1111111111111111,
             "#46039f"
            ],
            [
             0.2222222222222222,
             "#7201a8"
            ],
            [
             0.3333333333333333,
             "#9c179e"
            ],
            [
             0.4444444444444444,
             "#bd3786"
            ],
            [
             0.5555555555555556,
             "#d8576b"
            ],
            [
             0.6666666666666666,
             "#ed7953"
            ],
            [
             0.7777777777777778,
             "#fb9f3a"
            ],
            [
             0.8888888888888888,
             "#fdca26"
            ],
            [
             1,
             "#f0f921"
            ]
           ]
          },
          "colorway": [
           "#636efa",
           "#EF553B",
           "#00cc96",
           "#ab63fa",
           "#FFA15A",
           "#19d3f3",
           "#FF6692",
           "#B6E880",
           "#FF97FF",
           "#FECB52"
          ],
          "font": {
           "color": "#2a3f5f"
          },
          "geo": {
           "bgcolor": "white",
           "lakecolor": "white",
           "landcolor": "#E5ECF6",
           "showlakes": true,
           "showland": true,
           "subunitcolor": "white"
          },
          "hoverlabel": {
           "align": "left"
          },
          "hovermode": "closest",
          "mapbox": {
           "style": "light"
          },
          "paper_bgcolor": "white",
          "plot_bgcolor": "#E5ECF6",
          "polar": {
           "angularaxis": {
            "gridcolor": "white",
            "linecolor": "white",
            "ticks": ""
           },
           "bgcolor": "#E5ECF6",
           "radialaxis": {
            "gridcolor": "white",
            "linecolor": "white",
            "ticks": ""
           }
          },
          "scene": {
           "xaxis": {
            "backgroundcolor": "#E5ECF6",
            "gridcolor": "white",
            "gridwidth": 2,
            "linecolor": "white",
            "showbackground": true,
            "ticks": "",
            "zerolinecolor": "white"
           },
           "yaxis": {
            "backgroundcolor": "#E5ECF6",
            "gridcolor": "white",
            "gridwidth": 2,
            "linecolor": "white",
            "showbackground": true,
            "ticks": "",
            "zerolinecolor": "white"
           },
           "zaxis": {
            "backgroundcolor": "#E5ECF6",
            "gridcolor": "white",
            "gridwidth": 2,
            "linecolor": "white",
            "showbackground": true,
            "ticks": "",
            "zerolinecolor": "white"
           }
          },
          "shapedefaults": {
           "line": {
            "color": "#2a3f5f"
           }
          },
          "ternary": {
           "aaxis": {
            "gridcolor": "white",
            "linecolor": "white",
            "ticks": ""
           },
           "baxis": {
            "gridcolor": "white",
            "linecolor": "white",
            "ticks": ""
           },
           "bgcolor": "#E5ECF6",
           "caxis": {
            "gridcolor": "white",
            "linecolor": "white",
            "ticks": ""
           }
          },
          "title": {
           "x": 0.05
          },
          "xaxis": {
           "automargin": true,
           "gridcolor": "white",
           "linecolor": "white",
           "ticks": "",
           "title": {
            "standoff": 15
           },
           "zerolinecolor": "white",
           "zerolinewidth": 2
          },
          "yaxis": {
           "automargin": true,
           "gridcolor": "white",
           "linecolor": "white",
           "ticks": "",
           "title": {
            "standoff": 15
           },
           "zerolinecolor": "white",
           "zerolinewidth": 2
          }
         }
        }
       }
      }
     },
     "metadata": {},
     "output_type": "display_data"
    }
   ],
   "source": [
    "# plot i vs count\n",
    "fig = go.Figure()\n",
    "fig.add_trace(\n",
    "    go.Scatter(\n",
    "        x=list(commu_count_dict.keys()),\n",
    "        y=list(commu_count_dict.values()),\n",
    "        mode=\"lines+markers\",\n",
    "        name=\"count\",\n",
    "    )\n",
    ")"
   ]
  },
  {
   "cell_type": "code",
   "execution_count": 38,
   "metadata": {},
   "outputs": [],
   "source": [
    "# fig = go.Figure()\n",
    "# fig.add_trace(\n",
    "#     go.Scatter(\n",
    "#         x=list(wallets_count_dict.keys()),\n",
    "#         y=list(wallets_count_dict.values()),\n",
    "#         mode=\"lines+markers\",\n",
    "#         name=\"communities count\",\n",
    "#     )\n",
    "# )"
   ]
  },
  {
   "cell_type": "markdown",
   "metadata": {},
   "source": [
    "### Build real community"
   ]
  },
  {
   "cell_type": "code",
   "execution_count": 987,
   "metadata": {},
   "outputs": [
    {
     "data": {
      "text/plain": [
       "'2025-01-14 10:27:14.783150'"
      ]
     },
     "execution_count": 987,
     "metadata": {},
     "output_type": "execute_result"
    }
   ],
   "source": [
    "datetime.datetime.fromtimestamp(time.time()).strftime('%Y-%m-%d %H:%M:%S.%f')"
   ]
  },
  {
   "cell_type": "code",
   "execution_count": 988,
   "metadata": {},
   "outputs": [
    {
     "name": "stdout",
     "output_type": "stream",
     "text": [
      "Number of unique wallets: 184868\n",
      "Number of edges: 264480\n",
      "Number of communities detected: 24037\n",
      "-\n"
     ]
    },
    {
     "data": {
      "text/plain": [
       "count    24037.000000\n",
       "mean         7.690976\n",
       "std         14.904174\n",
       "min          1.000000\n",
       "25%          2.000000\n",
       "50%          3.000000\n",
       "75%          8.000000\n",
       "max        696.000000\n",
       "dtype: float64"
      ]
     },
     "metadata": {},
     "output_type": "display_data"
    },
    {
     "name": "stdout",
     "output_type": "stream",
     "text": [
      "\n"
     ]
    }
   ],
   "source": [
    "louvain_community_lst = louvain_community_lst_func(weight_df, resolution=600)"
   ]
  },
  {
   "cell_type": "code",
   "execution_count": 989,
   "metadata": {},
   "outputs": [],
   "source": [
    "def louvain_community_df_func(louvain_community_lst_):\n",
    "    louvain_community_df_ = nested_lst_to_loc_dict(louvain_community_lst_)\n",
    "    louvain_community_df_ = pd.DataFrame.from_dict(\n",
    "        louvain_community_df_, orient=\"index\", columns=[\"community\"]\n",
    "    )\n",
    "    louvain_community_df_[\"type\"] = \"normal\"\n",
    "    return louvain_community_df_"
   ]
  },
  {
   "cell_type": "code",
   "execution_count": 990,
   "metadata": {},
   "outputs": [
    {
     "data": {
      "text/html": [
       "<div>\n",
       "<style scoped>\n",
       "    .dataframe tbody tr th:only-of-type {\n",
       "        vertical-align: middle;\n",
       "    }\n",
       "\n",
       "    .dataframe tbody tr th {\n",
       "        vertical-align: top;\n",
       "    }\n",
       "\n",
       "    .dataframe thead th {\n",
       "        text-align: right;\n",
       "    }\n",
       "</style>\n",
       "<table border=\"1\" class=\"dataframe\">\n",
       "  <thead>\n",
       "    <tr style=\"text-align: right;\">\n",
       "      <th></th>\n",
       "      <th>community</th>\n",
       "      <th>type</th>\n",
       "    </tr>\n",
       "  </thead>\n",
       "  <tbody>\n",
       "    <tr>\n",
       "      <th>0x0007a38c181526f287832e1474bcb4fb7837e060</th>\n",
       "      <td>0</td>\n",
       "      <td>normal</td>\n",
       "    </tr>\n",
       "    <tr>\n",
       "      <th>0xdb2d78376960becbbb5010ab7502d2ee948b1a49</th>\n",
       "      <td>0</td>\n",
       "      <td>normal</td>\n",
       "    </tr>\n",
       "    <tr>\n",
       "      <th>0x009f4aaa05a50142090fa07446a92af7834535fd</th>\n",
       "      <td>0</td>\n",
       "      <td>normal</td>\n",
       "    </tr>\n",
       "    <tr>\n",
       "      <th>0x01d53d7131e8513b0bd2ff696bc7666334041e95</th>\n",
       "      <td>0</td>\n",
       "      <td>normal</td>\n",
       "    </tr>\n",
       "    <tr>\n",
       "      <th>0x01e21d18af17f27b301af09330aabc7861e23b95</th>\n",
       "      <td>0</td>\n",
       "      <td>normal</td>\n",
       "    </tr>\n",
       "    <tr>\n",
       "      <th>...</th>\n",
       "      <td>...</td>\n",
       "      <td>...</td>\n",
       "    </tr>\n",
       "    <tr>\n",
       "      <th>0xe243b3c53c1ab019d132408f4cfdb467b13274bd</th>\n",
       "      <td>24032</td>\n",
       "      <td>normal</td>\n",
       "    </tr>\n",
       "    <tr>\n",
       "      <th>0xea1735193cd2cd78251d7225a405d59d5f8a8e7d</th>\n",
       "      <td>24033</td>\n",
       "      <td>normal</td>\n",
       "    </tr>\n",
       "    <tr>\n",
       "      <th>0xf85f69d2927c6a604b0f4c609434af40ceed43bd</th>\n",
       "      <td>24034</td>\n",
       "      <td>normal</td>\n",
       "    </tr>\n",
       "    <tr>\n",
       "      <th>0xf8d41020dff948adf0574785d228d1ecde0274bd</th>\n",
       "      <td>24035</td>\n",
       "      <td>normal</td>\n",
       "    </tr>\n",
       "    <tr>\n",
       "      <th>0xf947eadb4619c27a19e124f5dce9f23be81360cd</th>\n",
       "      <td>24036</td>\n",
       "      <td>normal</td>\n",
       "    </tr>\n",
       "  </tbody>\n",
       "</table>\n",
       "<p>184868 rows × 2 columns</p>\n",
       "</div>"
      ],
      "text/plain": [
       "                                            community    type\n",
       "0x0007a38c181526f287832e1474bcb4fb7837e060          0  normal\n",
       "0xdb2d78376960becbbb5010ab7502d2ee948b1a49          0  normal\n",
       "0x009f4aaa05a50142090fa07446a92af7834535fd          0  normal\n",
       "0x01d53d7131e8513b0bd2ff696bc7666334041e95          0  normal\n",
       "0x01e21d18af17f27b301af09330aabc7861e23b95          0  normal\n",
       "...                                               ...     ...\n",
       "0xe243b3c53c1ab019d132408f4cfdb467b13274bd      24032  normal\n",
       "0xea1735193cd2cd78251d7225a405d59d5f8a8e7d      24033  normal\n",
       "0xf85f69d2927c6a604b0f4c609434af40ceed43bd      24034  normal\n",
       "0xf8d41020dff948adf0574785d228d1ecde0274bd      24035  normal\n",
       "0xf947eadb4619c27a19e124f5dce9f23be81360cd      24036  normal\n",
       "\n",
       "[184868 rows x 2 columns]"
      ]
     },
     "execution_count": 990,
     "metadata": {},
     "output_type": "execute_result"
    }
   ],
   "source": [
    "louvain_community_df = louvain_community_df_func(louvain_community_lst)\n",
    "louvain_community_df"
   ]
  },
  {
   "cell_type": "code",
   "execution_count": 991,
   "metadata": {},
   "outputs": [
    {
     "name": "stdout",
     "output_type": "stream",
     "text": [
      "20327\n",
      "181158\n"
     ]
    }
   ],
   "source": [
    "count = 0\n",
    "ttl_wallets = 0\n",
    "for i, commu_wallets in enumerate(louvain_community_lst):\n",
    "    if len(commu_wallets) >= 2:\n",
    "        count += 1\n",
    "        ttl_wallets += len(commu_wallets)\n",
    "print(count)\n",
    "print(ttl_wallets)"
   ]
  },
  {
   "cell_type": "markdown",
   "metadata": {},
   "source": [
    "### plot a community"
   ]
  },
  {
   "cell_type": "code",
   "execution_count": 1228,
   "metadata": {},
   "outputs": [
    {
     "name": "stdout",
     "output_type": "stream",
     "text": [
      "(52, 4)\n"
     ]
    },
    {
     "data": {
      "text/html": [
       "<div>\n",
       "<style scoped>\n",
       "    .dataframe tbody tr th:only-of-type {\n",
       "        vertical-align: middle;\n",
       "    }\n",
       "\n",
       "    .dataframe tbody tr th {\n",
       "        vertical-align: top;\n",
       "    }\n",
       "\n",
       "    .dataframe thead th {\n",
       "        text-align: right;\n",
       "    }\n",
       "</style>\n",
       "<table border=\"1\" class=\"dataframe\">\n",
       "  <thead>\n",
       "    <tr style=\"text-align: right;\">\n",
       "      <th></th>\n",
       "      <th>count</th>\n",
       "      <th>node_a</th>\n",
       "      <th>node_b</th>\n",
       "      <th>weight</th>\n",
       "    </tr>\n",
       "  </thead>\n",
       "  <tbody>\n",
       "    <tr>\n",
       "      <th>11146</th>\n",
       "      <td>1</td>\n",
       "      <td>0x05a4d48f6610a10bcff6f1cdd656a8cedc088c58</td>\n",
       "      <td>0x55ff76bffc3cdd9d5fdbbc2ece4528ecce45047e</td>\n",
       "      <td>0.00116</td>\n",
       "    </tr>\n",
       "    <tr>\n",
       "      <th>15613</th>\n",
       "      <td>1</td>\n",
       "      <td>0x07f293fcb60bbc8c8dcc38ff432b79ca55f697bc</td>\n",
       "      <td>0x55ff76bffc3cdd9d5fdbbc2ece4528ecce45047e</td>\n",
       "      <td>0.00116</td>\n",
       "    </tr>\n",
       "    <tr>\n",
       "      <th>20832</th>\n",
       "      <td>1</td>\n",
       "      <td>0x0a64a6588282aedbe95350f93ef04437cd4efb4f</td>\n",
       "      <td>0x55ff76bffc3cdd9d5fdbbc2ece4528ecce45047e</td>\n",
       "      <td>0.00116</td>\n",
       "    </tr>\n",
       "    <tr>\n",
       "      <th>41839</th>\n",
       "      <td>1</td>\n",
       "      <td>0x14f048acde37242a9f3fc090981cfcd9a3fd0f95</td>\n",
       "      <td>0x55ff76bffc3cdd9d5fdbbc2ece4528ecce45047e</td>\n",
       "      <td>0.00116</td>\n",
       "    </tr>\n",
       "    <tr>\n",
       "      <th>45164</th>\n",
       "      <td>1</td>\n",
       "      <td>0x16dafb2d504fe854941f560764744bf58b4f85e5</td>\n",
       "      <td>0x55ff76bffc3cdd9d5fdbbc2ece4528ecce45047e</td>\n",
       "      <td>0.00116</td>\n",
       "    </tr>\n",
       "    <tr>\n",
       "      <th>53262</th>\n",
       "      <td>1</td>\n",
       "      <td>0x1ada01a3fc5d13ebf59a510b48988e9f65ea3594</td>\n",
       "      <td>0x55ff76bffc3cdd9d5fdbbc2ece4528ecce45047e</td>\n",
       "      <td>0.00116</td>\n",
       "    </tr>\n",
       "    <tr>\n",
       "      <th>61418</th>\n",
       "      <td>1</td>\n",
       "      <td>0x1fc3e64a4cc39867a55561b20e03c601d8c745fc</td>\n",
       "      <td>0x55ff76bffc3cdd9d5fdbbc2ece4528ecce45047e</td>\n",
       "      <td>0.00116</td>\n",
       "    </tr>\n",
       "    <tr>\n",
       "      <th>65474</th>\n",
       "      <td>1</td>\n",
       "      <td>0x222a32ace46b4d70379e457312691f991c817cad</td>\n",
       "      <td>0x55ff76bffc3cdd9d5fdbbc2ece4528ecce45047e</td>\n",
       "      <td>0.00116</td>\n",
       "    </tr>\n",
       "    <tr>\n",
       "      <th>66272</th>\n",
       "      <td>2</td>\n",
       "      <td>0x22a7cebd9b60869d5bc7de856bcf9061a9fe6c43</td>\n",
       "      <td>0x55ff76bffc3cdd9d5fdbbc2ece4528ecce45047e</td>\n",
       "      <td>0.00232</td>\n",
       "    </tr>\n",
       "    <tr>\n",
       "      <th>97103</th>\n",
       "      <td>1</td>\n",
       "      <td>0x34f23a5429fa1a81a80fbde8b4887d2deaf0de23</td>\n",
       "      <td>0x55ff76bffc3cdd9d5fdbbc2ece4528ecce45047e</td>\n",
       "      <td>0.00116</td>\n",
       "    </tr>\n",
       "    <tr>\n",
       "      <th>106617</th>\n",
       "      <td>1</td>\n",
       "      <td>0x3a879362524180dd3c16de3676d898de79711ef0</td>\n",
       "      <td>0x55ff76bffc3cdd9d5fdbbc2ece4528ecce45047e</td>\n",
       "      <td>0.00116</td>\n",
       "    </tr>\n",
       "    <tr>\n",
       "      <th>109000</th>\n",
       "      <td>2</td>\n",
       "      <td>0x3c23cf222eca60b4e1d80c63a49308574b895638</td>\n",
       "      <td>0x55ff76bffc3cdd9d5fdbbc2ece4528ecce45047e</td>\n",
       "      <td>0.00232</td>\n",
       "    </tr>\n",
       "    <tr>\n",
       "      <th>109826</th>\n",
       "      <td>1</td>\n",
       "      <td>0x3cc8dc32f314e967c5b7b7244e5c396c6274b306</td>\n",
       "      <td>0x55ff76bffc3cdd9d5fdbbc2ece4528ecce45047e</td>\n",
       "      <td>0.00116</td>\n",
       "    </tr>\n",
       "    <tr>\n",
       "      <th>113916</th>\n",
       "      <td>1</td>\n",
       "      <td>0x3fae41f34495f74e47d3ea1a35591ee36aeac1af</td>\n",
       "      <td>0x55ff76bffc3cdd9d5fdbbc2ece4528ecce45047e</td>\n",
       "      <td>0.00116</td>\n",
       "    </tr>\n",
       "    <tr>\n",
       "      <th>121400</th>\n",
       "      <td>1</td>\n",
       "      <td>0x447b5c2c15f1f2db00202cb57d66f589d32481b0</td>\n",
       "      <td>0x55ff76bffc3cdd9d5fdbbc2ece4528ecce45047e</td>\n",
       "      <td>0.00116</td>\n",
       "    </tr>\n",
       "    <tr>\n",
       "      <th>125683</th>\n",
       "      <td>1</td>\n",
       "      <td>0x4764cccf6bf972fbcd46a7dc7d73f3de608548b7</td>\n",
       "      <td>0x55ff76bffc3cdd9d5fdbbc2ece4528ecce45047e</td>\n",
       "      <td>0.00116</td>\n",
       "    </tr>\n",
       "    <tr>\n",
       "      <th>133801</th>\n",
       "      <td>1</td>\n",
       "      <td>0x4cdc98ae1d0cbde6955fc176a838661b31b88c9d</td>\n",
       "      <td>0x55ff76bffc3cdd9d5fdbbc2ece4528ecce45047e</td>\n",
       "      <td>0.00116</td>\n",
       "    </tr>\n",
       "    <tr>\n",
       "      <th>135994</th>\n",
       "      <td>1</td>\n",
       "      <td>0x4e50fce09280b04b4253771702dbf3f56824b635</td>\n",
       "      <td>0x55ff76bffc3cdd9d5fdbbc2ece4528ecce45047e</td>\n",
       "      <td>0.00116</td>\n",
       "    </tr>\n",
       "    <tr>\n",
       "      <th>136296</th>\n",
       "      <td>1</td>\n",
       "      <td>0x4e92bf9a3b74581b8fa42062c8caa743247ceda5</td>\n",
       "      <td>0x55ff76bffc3cdd9d5fdbbc2ece4528ecce45047e</td>\n",
       "      <td>0.00116</td>\n",
       "    </tr>\n",
       "    <tr>\n",
       "      <th>136653</th>\n",
       "      <td>1</td>\n",
       "      <td>0x4ee268c9813d198e4ae20fcff65ca91138c24a0e</td>\n",
       "      <td>0x55ff76bffc3cdd9d5fdbbc2ece4528ecce45047e</td>\n",
       "      <td>0.00116</td>\n",
       "    </tr>\n",
       "    <tr>\n",
       "      <th>147210</th>\n",
       "      <td>1</td>\n",
       "      <td>0x55ff76bffc3cdd9d5fdbbc2ece4528ecce45047e</td>\n",
       "      <td>0x5bbe2544a706417fd279747dc0ee640f430c3638</td>\n",
       "      <td>0.00116</td>\n",
       "    </tr>\n",
       "    <tr>\n",
       "      <th>147214</th>\n",
       "      <td>1</td>\n",
       "      <td>0x55ff76bffc3cdd9d5fdbbc2ece4528ecce45047e</td>\n",
       "      <td>0x5d06d36a05ce3df7dd0e460470eb7f2c4c988029</td>\n",
       "      <td>0.00116</td>\n",
       "    </tr>\n",
       "    <tr>\n",
       "      <th>147240</th>\n",
       "      <td>1</td>\n",
       "      <td>0x55ff76bffc3cdd9d5fdbbc2ece4528ecce45047e</td>\n",
       "      <td>0x670cc6cfd713d0f534fb6a4bb17e4fc7c6ba0f4c</td>\n",
       "      <td>0.00116</td>\n",
       "    </tr>\n",
       "    <tr>\n",
       "      <th>147246</th>\n",
       "      <td>1</td>\n",
       "      <td>0x55ff76bffc3cdd9d5fdbbc2ece4528ecce45047e</td>\n",
       "      <td>0x68f29a55cc367927bd33655c8318313a73033fc4</td>\n",
       "      <td>0.00116</td>\n",
       "    </tr>\n",
       "    <tr>\n",
       "      <th>147252</th>\n",
       "      <td>1</td>\n",
       "      <td>0x55ff76bffc3cdd9d5fdbbc2ece4528ecce45047e</td>\n",
       "      <td>0x6a2a2b1316d0c2fa3a3c70b3fde706ffb7b89a8d</td>\n",
       "      <td>0.00116</td>\n",
       "    </tr>\n",
       "    <tr>\n",
       "      <th>147254</th>\n",
       "      <td>1</td>\n",
       "      <td>0x55ff76bffc3cdd9d5fdbbc2ece4528ecce45047e</td>\n",
       "      <td>0x6b8789c8101846925286ef73ff0bcf01a365c95b</td>\n",
       "      <td>0.00116</td>\n",
       "    </tr>\n",
       "    <tr>\n",
       "      <th>147256</th>\n",
       "      <td>1</td>\n",
       "      <td>0x55ff76bffc3cdd9d5fdbbc2ece4528ecce45047e</td>\n",
       "      <td>0x6c5f8c4e4cf23b7954f5339f831b6c0fb28b6ce9</td>\n",
       "      <td>0.00116</td>\n",
       "    </tr>\n",
       "    <tr>\n",
       "      <th>147258</th>\n",
       "      <td>1</td>\n",
       "      <td>0x55ff76bffc3cdd9d5fdbbc2ece4528ecce45047e</td>\n",
       "      <td>0x6c82a654ffaa99cafe0664d3f067168453efc730</td>\n",
       "      <td>0.00116</td>\n",
       "    </tr>\n",
       "    <tr>\n",
       "      <th>147259</th>\n",
       "      <td>1</td>\n",
       "      <td>0x55ff76bffc3cdd9d5fdbbc2ece4528ecce45047e</td>\n",
       "      <td>0x6c873b8be8b490d45c8a704a6e7aa428ff6c65be</td>\n",
       "      <td>0.00116</td>\n",
       "    </tr>\n",
       "    <tr>\n",
       "      <th>147277</th>\n",
       "      <td>1</td>\n",
       "      <td>0x55ff76bffc3cdd9d5fdbbc2ece4528ecce45047e</td>\n",
       "      <td>0x728216ccfa69c1816aca09d2b1931730d0d62397</td>\n",
       "      <td>0.00116</td>\n",
       "    </tr>\n",
       "    <tr>\n",
       "      <th>147318</th>\n",
       "      <td>2</td>\n",
       "      <td>0x55ff76bffc3cdd9d5fdbbc2ece4528ecce45047e</td>\n",
       "      <td>0x8409ea6619840387c6fb52c60caad28365c6724a</td>\n",
       "      <td>0.00232</td>\n",
       "    </tr>\n",
       "    <tr>\n",
       "      <th>147327</th>\n",
       "      <td>1</td>\n",
       "      <td>0x55ff76bffc3cdd9d5fdbbc2ece4528ecce45047e</td>\n",
       "      <td>0x89eccd0c7265b479fee6bef84a4522e113eb6f6c</td>\n",
       "      <td>0.00116</td>\n",
       "    </tr>\n",
       "    <tr>\n",
       "      <th>147356</th>\n",
       "      <td>1</td>\n",
       "      <td>0x55ff76bffc3cdd9d5fdbbc2ece4528ecce45047e</td>\n",
       "      <td>0x951b2048a80f27ba31bd400c32d1852cfd28c28a</td>\n",
       "      <td>0.00116</td>\n",
       "    </tr>\n",
       "    <tr>\n",
       "      <th>147396</th>\n",
       "      <td>1</td>\n",
       "      <td>0x55ff76bffc3cdd9d5fdbbc2ece4528ecce45047e</td>\n",
       "      <td>0xa67187a83f4359fe62df22f86ec46ff4a8140394</td>\n",
       "      <td>0.00116</td>\n",
       "    </tr>\n",
       "    <tr>\n",
       "      <th>147403</th>\n",
       "      <td>1</td>\n",
       "      <td>0x55ff76bffc3cdd9d5fdbbc2ece4528ecce45047e</td>\n",
       "      <td>0xa999ec6422b3384aa029d71c3f1994f95a9371ab</td>\n",
       "      <td>0.00116</td>\n",
       "    </tr>\n",
       "    <tr>\n",
       "      <th>147410</th>\n",
       "      <td>1</td>\n",
       "      <td>0x55ff76bffc3cdd9d5fdbbc2ece4528ecce45047e</td>\n",
       "      <td>0xab5f7e0857daa5e8f34dcb74d31a7ac338096147</td>\n",
       "      <td>0.00116</td>\n",
       "    </tr>\n",
       "    <tr>\n",
       "      <th>147411</th>\n",
       "      <td>1</td>\n",
       "      <td>0x55ff76bffc3cdd9d5fdbbc2ece4528ecce45047e</td>\n",
       "      <td>0xabcc3cb3e09eff2cf1c913c4344a4f1c4207a67b</td>\n",
       "      <td>0.00116</td>\n",
       "    </tr>\n",
       "    <tr>\n",
       "      <th>147425</th>\n",
       "      <td>1</td>\n",
       "      <td>0x55ff76bffc3cdd9d5fdbbc2ece4528ecce45047e</td>\n",
       "      <td>0xb27078a7f5f05654e0c23ca819ce80baf7fac154</td>\n",
       "      <td>0.00116</td>\n",
       "    </tr>\n",
       "    <tr>\n",
       "      <th>147449</th>\n",
       "      <td>2</td>\n",
       "      <td>0x55ff76bffc3cdd9d5fdbbc2ece4528ecce45047e</td>\n",
       "      <td>0xbb548b90ca74a12e5a6ab32a4efa7af1489423d3</td>\n",
       "      <td>0.00232</td>\n",
       "    </tr>\n",
       "    <tr>\n",
       "      <th>147478</th>\n",
       "      <td>1</td>\n",
       "      <td>0x55ff76bffc3cdd9d5fdbbc2ece4528ecce45047e</td>\n",
       "      <td>0xcaefd6b8b493e06964460664ea8a3ebd230c32fb</td>\n",
       "      <td>0.00116</td>\n",
       "    </tr>\n",
       "    <tr>\n",
       "      <th>147484</th>\n",
       "      <td>4</td>\n",
       "      <td>0x55ff76bffc3cdd9d5fdbbc2ece4528ecce45047e</td>\n",
       "      <td>0xcce7dba749b3cdb470d9d565f600233df27283e9</td>\n",
       "      <td>0.00464</td>\n",
       "    </tr>\n",
       "    <tr>\n",
       "      <th>147495</th>\n",
       "      <td>1</td>\n",
       "      <td>0x55ff76bffc3cdd9d5fdbbc2ece4528ecce45047e</td>\n",
       "      <td>0xd0210cca062086f6aa723a63bb4bd0c5f0deddc7</td>\n",
       "      <td>0.00116</td>\n",
       "    </tr>\n",
       "    <tr>\n",
       "      <th>147513</th>\n",
       "      <td>1</td>\n",
       "      <td>0x55ff76bffc3cdd9d5fdbbc2ece4528ecce45047e</td>\n",
       "      <td>0xd5e8d4eba7faa374102f37f089e2cb1f5b989529</td>\n",
       "      <td>0.00116</td>\n",
       "    </tr>\n",
       "    <tr>\n",
       "      <th>147523</th>\n",
       "      <td>2</td>\n",
       "      <td>0x55ff76bffc3cdd9d5fdbbc2ece4528ecce45047e</td>\n",
       "      <td>0xdba775c2a4c8971d21a9491f51250e30ab2fd607</td>\n",
       "      <td>0.00232</td>\n",
       "    </tr>\n",
       "    <tr>\n",
       "      <th>147525</th>\n",
       "      <td>1</td>\n",
       "      <td>0x55ff76bffc3cdd9d5fdbbc2ece4528ecce45047e</td>\n",
       "      <td>0xdc8f8d2fc41c12ea89865f955c57f2ffdf453faa</td>\n",
       "      <td>0.00116</td>\n",
       "    </tr>\n",
       "    <tr>\n",
       "      <th>147536</th>\n",
       "      <td>1</td>\n",
       "      <td>0x55ff76bffc3cdd9d5fdbbc2ece4528ecce45047e</td>\n",
       "      <td>0xe216b328efa1ca0f47ce5d1c0f0084018c084a97</td>\n",
       "      <td>0.00116</td>\n",
       "    </tr>\n",
       "    <tr>\n",
       "      <th>147537</th>\n",
       "      <td>1</td>\n",
       "      <td>0x55ff76bffc3cdd9d5fdbbc2ece4528ecce45047e</td>\n",
       "      <td>0xe2291784e44176db8093c7af109426fbb2a5b7ae</td>\n",
       "      <td>0.00116</td>\n",
       "    </tr>\n",
       "    <tr>\n",
       "      <th>147561</th>\n",
       "      <td>1</td>\n",
       "      <td>0x55ff76bffc3cdd9d5fdbbc2ece4528ecce45047e</td>\n",
       "      <td>0xeaf4099fa115470e553ffa5dbb2144e7044c3793</td>\n",
       "      <td>0.00116</td>\n",
       "    </tr>\n",
       "    <tr>\n",
       "      <th>147577</th>\n",
       "      <td>1</td>\n",
       "      <td>0x55ff76bffc3cdd9d5fdbbc2ece4528ecce45047e</td>\n",
       "      <td>0xf1954d19e1ebc87a0b63117f03c96a38f068b270</td>\n",
       "      <td>0.00116</td>\n",
       "    </tr>\n",
       "    <tr>\n",
       "      <th>147583</th>\n",
       "      <td>1</td>\n",
       "      <td>0x55ff76bffc3cdd9d5fdbbc2ece4528ecce45047e</td>\n",
       "      <td>0xf3760961df8181d99eac6462e886b484cee90b3c</td>\n",
       "      <td>0.00116</td>\n",
       "    </tr>\n",
       "    <tr>\n",
       "      <th>147592</th>\n",
       "      <td>2</td>\n",
       "      <td>0x55ff76bffc3cdd9d5fdbbc2ece4528ecce45047e</td>\n",
       "      <td>0xf8fc9b67c69353953624c54c3f9bb4edbca844ef</td>\n",
       "      <td>0.00232</td>\n",
       "    </tr>\n",
       "    <tr>\n",
       "      <th>147602</th>\n",
       "      <td>1</td>\n",
       "      <td>0x55ff76bffc3cdd9d5fdbbc2ece4528ecce45047e</td>\n",
       "      <td>0xfd992ed1893df40ef1906fa83bbf7d10fdf94dbd</td>\n",
       "      <td>0.00116</td>\n",
       "    </tr>\n",
       "  </tbody>\n",
       "</table>\n",
       "</div>"
      ],
      "text/plain": [
       "        count                                      node_a  \\\n",
       "11146       1  0x05a4d48f6610a10bcff6f1cdd656a8cedc088c58   \n",
       "15613       1  0x07f293fcb60bbc8c8dcc38ff432b79ca55f697bc   \n",
       "20832       1  0x0a64a6588282aedbe95350f93ef04437cd4efb4f   \n",
       "41839       1  0x14f048acde37242a9f3fc090981cfcd9a3fd0f95   \n",
       "45164       1  0x16dafb2d504fe854941f560764744bf58b4f85e5   \n",
       "53262       1  0x1ada01a3fc5d13ebf59a510b48988e9f65ea3594   \n",
       "61418       1  0x1fc3e64a4cc39867a55561b20e03c601d8c745fc   \n",
       "65474       1  0x222a32ace46b4d70379e457312691f991c817cad   \n",
       "66272       2  0x22a7cebd9b60869d5bc7de856bcf9061a9fe6c43   \n",
       "97103       1  0x34f23a5429fa1a81a80fbde8b4887d2deaf0de23   \n",
       "106617      1  0x3a879362524180dd3c16de3676d898de79711ef0   \n",
       "109000      2  0x3c23cf222eca60b4e1d80c63a49308574b895638   \n",
       "109826      1  0x3cc8dc32f314e967c5b7b7244e5c396c6274b306   \n",
       "113916      1  0x3fae41f34495f74e47d3ea1a35591ee36aeac1af   \n",
       "121400      1  0x447b5c2c15f1f2db00202cb57d66f589d32481b0   \n",
       "125683      1  0x4764cccf6bf972fbcd46a7dc7d73f3de608548b7   \n",
       "133801      1  0x4cdc98ae1d0cbde6955fc176a838661b31b88c9d   \n",
       "135994      1  0x4e50fce09280b04b4253771702dbf3f56824b635   \n",
       "136296      1  0x4e92bf9a3b74581b8fa42062c8caa743247ceda5   \n",
       "136653      1  0x4ee268c9813d198e4ae20fcff65ca91138c24a0e   \n",
       "147210      1  0x55ff76bffc3cdd9d5fdbbc2ece4528ecce45047e   \n",
       "147214      1  0x55ff76bffc3cdd9d5fdbbc2ece4528ecce45047e   \n",
       "147240      1  0x55ff76bffc3cdd9d5fdbbc2ece4528ecce45047e   \n",
       "147246      1  0x55ff76bffc3cdd9d5fdbbc2ece4528ecce45047e   \n",
       "147252      1  0x55ff76bffc3cdd9d5fdbbc2ece4528ecce45047e   \n",
       "147254      1  0x55ff76bffc3cdd9d5fdbbc2ece4528ecce45047e   \n",
       "147256      1  0x55ff76bffc3cdd9d5fdbbc2ece4528ecce45047e   \n",
       "147258      1  0x55ff76bffc3cdd9d5fdbbc2ece4528ecce45047e   \n",
       "147259      1  0x55ff76bffc3cdd9d5fdbbc2ece4528ecce45047e   \n",
       "147277      1  0x55ff76bffc3cdd9d5fdbbc2ece4528ecce45047e   \n",
       "147318      2  0x55ff76bffc3cdd9d5fdbbc2ece4528ecce45047e   \n",
       "147327      1  0x55ff76bffc3cdd9d5fdbbc2ece4528ecce45047e   \n",
       "147356      1  0x55ff76bffc3cdd9d5fdbbc2ece4528ecce45047e   \n",
       "147396      1  0x55ff76bffc3cdd9d5fdbbc2ece4528ecce45047e   \n",
       "147403      1  0x55ff76bffc3cdd9d5fdbbc2ece4528ecce45047e   \n",
       "147410      1  0x55ff76bffc3cdd9d5fdbbc2ece4528ecce45047e   \n",
       "147411      1  0x55ff76bffc3cdd9d5fdbbc2ece4528ecce45047e   \n",
       "147425      1  0x55ff76bffc3cdd9d5fdbbc2ece4528ecce45047e   \n",
       "147449      2  0x55ff76bffc3cdd9d5fdbbc2ece4528ecce45047e   \n",
       "147478      1  0x55ff76bffc3cdd9d5fdbbc2ece4528ecce45047e   \n",
       "147484      4  0x55ff76bffc3cdd9d5fdbbc2ece4528ecce45047e   \n",
       "147495      1  0x55ff76bffc3cdd9d5fdbbc2ece4528ecce45047e   \n",
       "147513      1  0x55ff76bffc3cdd9d5fdbbc2ece4528ecce45047e   \n",
       "147523      2  0x55ff76bffc3cdd9d5fdbbc2ece4528ecce45047e   \n",
       "147525      1  0x55ff76bffc3cdd9d5fdbbc2ece4528ecce45047e   \n",
       "147536      1  0x55ff76bffc3cdd9d5fdbbc2ece4528ecce45047e   \n",
       "147537      1  0x55ff76bffc3cdd9d5fdbbc2ece4528ecce45047e   \n",
       "147561      1  0x55ff76bffc3cdd9d5fdbbc2ece4528ecce45047e   \n",
       "147577      1  0x55ff76bffc3cdd9d5fdbbc2ece4528ecce45047e   \n",
       "147583      1  0x55ff76bffc3cdd9d5fdbbc2ece4528ecce45047e   \n",
       "147592      2  0x55ff76bffc3cdd9d5fdbbc2ece4528ecce45047e   \n",
       "147602      1  0x55ff76bffc3cdd9d5fdbbc2ece4528ecce45047e   \n",
       "\n",
       "                                            node_b   weight  \n",
       "11146   0x55ff76bffc3cdd9d5fdbbc2ece4528ecce45047e  0.00116  \n",
       "15613   0x55ff76bffc3cdd9d5fdbbc2ece4528ecce45047e  0.00116  \n",
       "20832   0x55ff76bffc3cdd9d5fdbbc2ece4528ecce45047e  0.00116  \n",
       "41839   0x55ff76bffc3cdd9d5fdbbc2ece4528ecce45047e  0.00116  \n",
       "45164   0x55ff76bffc3cdd9d5fdbbc2ece4528ecce45047e  0.00116  \n",
       "53262   0x55ff76bffc3cdd9d5fdbbc2ece4528ecce45047e  0.00116  \n",
       "61418   0x55ff76bffc3cdd9d5fdbbc2ece4528ecce45047e  0.00116  \n",
       "65474   0x55ff76bffc3cdd9d5fdbbc2ece4528ecce45047e  0.00116  \n",
       "66272   0x55ff76bffc3cdd9d5fdbbc2ece4528ecce45047e  0.00232  \n",
       "97103   0x55ff76bffc3cdd9d5fdbbc2ece4528ecce45047e  0.00116  \n",
       "106617  0x55ff76bffc3cdd9d5fdbbc2ece4528ecce45047e  0.00116  \n",
       "109000  0x55ff76bffc3cdd9d5fdbbc2ece4528ecce45047e  0.00232  \n",
       "109826  0x55ff76bffc3cdd9d5fdbbc2ece4528ecce45047e  0.00116  \n",
       "113916  0x55ff76bffc3cdd9d5fdbbc2ece4528ecce45047e  0.00116  \n",
       "121400  0x55ff76bffc3cdd9d5fdbbc2ece4528ecce45047e  0.00116  \n",
       "125683  0x55ff76bffc3cdd9d5fdbbc2ece4528ecce45047e  0.00116  \n",
       "133801  0x55ff76bffc3cdd9d5fdbbc2ece4528ecce45047e  0.00116  \n",
       "135994  0x55ff76bffc3cdd9d5fdbbc2ece4528ecce45047e  0.00116  \n",
       "136296  0x55ff76bffc3cdd9d5fdbbc2ece4528ecce45047e  0.00116  \n",
       "136653  0x55ff76bffc3cdd9d5fdbbc2ece4528ecce45047e  0.00116  \n",
       "147210  0x5bbe2544a706417fd279747dc0ee640f430c3638  0.00116  \n",
       "147214  0x5d06d36a05ce3df7dd0e460470eb7f2c4c988029  0.00116  \n",
       "147240  0x670cc6cfd713d0f534fb6a4bb17e4fc7c6ba0f4c  0.00116  \n",
       "147246  0x68f29a55cc367927bd33655c8318313a73033fc4  0.00116  \n",
       "147252  0x6a2a2b1316d0c2fa3a3c70b3fde706ffb7b89a8d  0.00116  \n",
       "147254  0x6b8789c8101846925286ef73ff0bcf01a365c95b  0.00116  \n",
       "147256  0x6c5f8c4e4cf23b7954f5339f831b6c0fb28b6ce9  0.00116  \n",
       "147258  0x6c82a654ffaa99cafe0664d3f067168453efc730  0.00116  \n",
       "147259  0x6c873b8be8b490d45c8a704a6e7aa428ff6c65be  0.00116  \n",
       "147277  0x728216ccfa69c1816aca09d2b1931730d0d62397  0.00116  \n",
       "147318  0x8409ea6619840387c6fb52c60caad28365c6724a  0.00232  \n",
       "147327  0x89eccd0c7265b479fee6bef84a4522e113eb6f6c  0.00116  \n",
       "147356  0x951b2048a80f27ba31bd400c32d1852cfd28c28a  0.00116  \n",
       "147396  0xa67187a83f4359fe62df22f86ec46ff4a8140394  0.00116  \n",
       "147403  0xa999ec6422b3384aa029d71c3f1994f95a9371ab  0.00116  \n",
       "147410  0xab5f7e0857daa5e8f34dcb74d31a7ac338096147  0.00116  \n",
       "147411  0xabcc3cb3e09eff2cf1c913c4344a4f1c4207a67b  0.00116  \n",
       "147425  0xb27078a7f5f05654e0c23ca819ce80baf7fac154  0.00116  \n",
       "147449  0xbb548b90ca74a12e5a6ab32a4efa7af1489423d3  0.00232  \n",
       "147478  0xcaefd6b8b493e06964460664ea8a3ebd230c32fb  0.00116  \n",
       "147484  0xcce7dba749b3cdb470d9d565f600233df27283e9  0.00464  \n",
       "147495  0xd0210cca062086f6aa723a63bb4bd0c5f0deddc7  0.00116  \n",
       "147513  0xd5e8d4eba7faa374102f37f089e2cb1f5b989529  0.00116  \n",
       "147523  0xdba775c2a4c8971d21a9491f51250e30ab2fd607  0.00232  \n",
       "147525  0xdc8f8d2fc41c12ea89865f955c57f2ffdf453faa  0.00116  \n",
       "147536  0xe216b328efa1ca0f47ce5d1c0f0084018c084a97  0.00116  \n",
       "147537  0xe2291784e44176db8093c7af109426fbb2a5b7ae  0.00116  \n",
       "147561  0xeaf4099fa115470e553ffa5dbb2144e7044c3793  0.00116  \n",
       "147577  0xf1954d19e1ebc87a0b63117f03c96a38f068b270  0.00116  \n",
       "147583  0xf3760961df8181d99eac6462e886b484cee90b3c  0.00116  \n",
       "147592  0xf8fc9b67c69353953624c54c3f9bb4edbca844ef  0.00232  \n",
       "147602  0xfd992ed1893df40ef1906fa83bbf7d10fdf94dbd  0.00116  "
      ]
     },
     "execution_count": 1228,
     "metadata": {},
     "output_type": "execute_result"
    }
   ],
   "source": [
    "plot_community_lst = louvain_community_lst[355]\n",
    "plot_community_df = weight_df[\n",
    "    weight_df[\"node_a\"].isin(plot_community_lst)\n",
    "    & weight_df[\"node_b\"].isin(plot_community_lst)\n",
    "]\n",
    "print(plot_community_df.shape)\n",
    "plot_community_df"
   ]
  },
  {
   "cell_type": "code",
   "execution_count": 1218,
   "metadata": {},
   "outputs": [
    {
     "data": {
      "text/html": [
       "<div>\n",
       "<style scoped>\n",
       "    .dataframe tbody tr th:only-of-type {\n",
       "        vertical-align: middle;\n",
       "    }\n",
       "\n",
       "    .dataframe tbody tr th {\n",
       "        vertical-align: top;\n",
       "    }\n",
       "\n",
       "    .dataframe thead th {\n",
       "        text-align: right;\n",
       "    }\n",
       "</style>\n",
       "<table border=\"1\" class=\"dataframe\">\n",
       "  <thead>\n",
       "    <tr style=\"text-align: right;\">\n",
       "      <th></th>\n",
       "      <th>count</th>\n",
       "      <th>node_a</th>\n",
       "      <th>node_b</th>\n",
       "      <th>weight</th>\n",
       "    </tr>\n",
       "  </thead>\n",
       "  <tbody>\n",
       "    <tr>\n",
       "      <th>9084</th>\n",
       "      <td>1</td>\n",
       "      <td>0x04810ab27219c9e02a210f8a9bff4556fc8e8aee</td>\n",
       "      <td>0x7d6964a1195151e0d12ad47f678d198a933f4f70</td>\n",
       "      <td>0.00116</td>\n",
       "    </tr>\n",
       "  </tbody>\n",
       "</table>\n",
       "</div>"
      ],
      "text/plain": [
       "      count                                      node_a  \\\n",
       "9084      1  0x04810ab27219c9e02a210f8a9bff4556fc8e8aee   \n",
       "\n",
       "                                          node_b   weight  \n",
       "9084  0x7d6964a1195151e0d12ad47f678d198a933f4f70  0.00116  "
      ]
     },
     "execution_count": 1218,
     "metadata": {},
     "output_type": "execute_result"
    }
   ],
   "source": [
    "check_address = \"0x04810ab27219c9e02a210f8a9bff4556fc8e8aee\"\n",
    "plot_community_df[\n",
    "    (plot_community_df[\"node_a\"] == check_address)\n",
    "    | (plot_community_df[\"node_b\"] == check_address)\n",
    "]"
   ]
  },
  {
   "cell_type": "code",
   "execution_count": 1229,
   "metadata": {},
   "outputs": [
    {
     "data": {
      "text/html": [
       "<div>\n",
       "<style scoped>\n",
       "    .dataframe tbody tr th:only-of-type {\n",
       "        vertical-align: middle;\n",
       "    }\n",
       "\n",
       "    .dataframe tbody tr th {\n",
       "        vertical-align: top;\n",
       "    }\n",
       "\n",
       "    .dataframe thead th {\n",
       "        text-align: right;\n",
       "    }\n",
       "</style>\n",
       "<table border=\"1\" class=\"dataframe\">\n",
       "  <thead>\n",
       "    <tr style=\"text-align: right;\">\n",
       "      <th></th>\n",
       "      <th>wallet</th>\n",
       "      <th>interacted_wallets</th>\n",
       "    </tr>\n",
       "  </thead>\n",
       "  <tbody>\n",
       "    <tr>\n",
       "      <th>1</th>\n",
       "      <td>0x55ff76bffc3cdd9d5fdbbc2ece4528ecce45047e</td>\n",
       "      <td>52</td>\n",
       "    </tr>\n",
       "    <tr>\n",
       "      <th>39</th>\n",
       "      <td>0xbb548b90ca74a12e5a6ab32a4efa7af1489423d3</td>\n",
       "      <td>1</td>\n",
       "    </tr>\n",
       "    <tr>\n",
       "      <th>28</th>\n",
       "      <td>0x6c82a654ffaa99cafe0664d3f067168453efc730</td>\n",
       "      <td>1</td>\n",
       "    </tr>\n",
       "    <tr>\n",
       "      <th>29</th>\n",
       "      <td>0x6c873b8be8b490d45c8a704a6e7aa428ff6c65be</td>\n",
       "      <td>1</td>\n",
       "    </tr>\n",
       "    <tr>\n",
       "      <th>30</th>\n",
       "      <td>0x728216ccfa69c1816aca09d2b1931730d0d62397</td>\n",
       "      <td>1</td>\n",
       "    </tr>\n",
       "    <tr>\n",
       "      <th>31</th>\n",
       "      <td>0x8409ea6619840387c6fb52c60caad28365c6724a</td>\n",
       "      <td>1</td>\n",
       "    </tr>\n",
       "    <tr>\n",
       "      <th>32</th>\n",
       "      <td>0x89eccd0c7265b479fee6bef84a4522e113eb6f6c</td>\n",
       "      <td>1</td>\n",
       "    </tr>\n",
       "    <tr>\n",
       "      <th>33</th>\n",
       "      <td>0x951b2048a80f27ba31bd400c32d1852cfd28c28a</td>\n",
       "      <td>1</td>\n",
       "    </tr>\n",
       "    <tr>\n",
       "      <th>34</th>\n",
       "      <td>0xa67187a83f4359fe62df22f86ec46ff4a8140394</td>\n",
       "      <td>1</td>\n",
       "    </tr>\n",
       "    <tr>\n",
       "      <th>35</th>\n",
       "      <td>0xa999ec6422b3384aa029d71c3f1994f95a9371ab</td>\n",
       "      <td>1</td>\n",
       "    </tr>\n",
       "    <tr>\n",
       "      <th>36</th>\n",
       "      <td>0xab5f7e0857daa5e8f34dcb74d31a7ac338096147</td>\n",
       "      <td>1</td>\n",
       "    </tr>\n",
       "    <tr>\n",
       "      <th>37</th>\n",
       "      <td>0xabcc3cb3e09eff2cf1c913c4344a4f1c4207a67b</td>\n",
       "      <td>1</td>\n",
       "    </tr>\n",
       "    <tr>\n",
       "      <th>38</th>\n",
       "      <td>0xb27078a7f5f05654e0c23ca819ce80baf7fac154</td>\n",
       "      <td>1</td>\n",
       "    </tr>\n",
       "    <tr>\n",
       "      <th>0</th>\n",
       "      <td>0x05a4d48f6610a10bcff6f1cdd656a8cedc088c58</td>\n",
       "      <td>1</td>\n",
       "    </tr>\n",
       "    <tr>\n",
       "      <th>27</th>\n",
       "      <td>0x6c5f8c4e4cf23b7954f5339f831b6c0fb28b6ce9</td>\n",
       "      <td>1</td>\n",
       "    </tr>\n",
       "    <tr>\n",
       "      <th>41</th>\n",
       "      <td>0xcce7dba749b3cdb470d9d565f600233df27283e9</td>\n",
       "      <td>1</td>\n",
       "    </tr>\n",
       "    <tr>\n",
       "      <th>42</th>\n",
       "      <td>0xd0210cca062086f6aa723a63bb4bd0c5f0deddc7</td>\n",
       "      <td>1</td>\n",
       "    </tr>\n",
       "    <tr>\n",
       "      <th>43</th>\n",
       "      <td>0xd5e8d4eba7faa374102f37f089e2cb1f5b989529</td>\n",
       "      <td>1</td>\n",
       "    </tr>\n",
       "    <tr>\n",
       "      <th>44</th>\n",
       "      <td>0xdba775c2a4c8971d21a9491f51250e30ab2fd607</td>\n",
       "      <td>1</td>\n",
       "    </tr>\n",
       "    <tr>\n",
       "      <th>45</th>\n",
       "      <td>0xdc8f8d2fc41c12ea89865f955c57f2ffdf453faa</td>\n",
       "      <td>1</td>\n",
       "    </tr>\n",
       "    <tr>\n",
       "      <th>46</th>\n",
       "      <td>0xe216b328efa1ca0f47ce5d1c0f0084018c084a97</td>\n",
       "      <td>1</td>\n",
       "    </tr>\n",
       "    <tr>\n",
       "      <th>47</th>\n",
       "      <td>0xe2291784e44176db8093c7af109426fbb2a5b7ae</td>\n",
       "      <td>1</td>\n",
       "    </tr>\n",
       "    <tr>\n",
       "      <th>48</th>\n",
       "      <td>0xeaf4099fa115470e553ffa5dbb2144e7044c3793</td>\n",
       "      <td>1</td>\n",
       "    </tr>\n",
       "    <tr>\n",
       "      <th>49</th>\n",
       "      <td>0xf1954d19e1ebc87a0b63117f03c96a38f068b270</td>\n",
       "      <td>1</td>\n",
       "    </tr>\n",
       "    <tr>\n",
       "      <th>50</th>\n",
       "      <td>0xf3760961df8181d99eac6462e886b484cee90b3c</td>\n",
       "      <td>1</td>\n",
       "    </tr>\n",
       "    <tr>\n",
       "      <th>51</th>\n",
       "      <td>0xf8fc9b67c69353953624c54c3f9bb4edbca844ef</td>\n",
       "      <td>1</td>\n",
       "    </tr>\n",
       "    <tr>\n",
       "      <th>40</th>\n",
       "      <td>0xcaefd6b8b493e06964460664ea8a3ebd230c32fb</td>\n",
       "      <td>1</td>\n",
       "    </tr>\n",
       "    <tr>\n",
       "      <th>26</th>\n",
       "      <td>0x6b8789c8101846925286ef73ff0bcf01a365c95b</td>\n",
       "      <td>1</td>\n",
       "    </tr>\n",
       "    <tr>\n",
       "      <th>25</th>\n",
       "      <td>0x6a2a2b1316d0c2fa3a3c70b3fde706ffb7b89a8d</td>\n",
       "      <td>1</td>\n",
       "    </tr>\n",
       "    <tr>\n",
       "      <th>12</th>\n",
       "      <td>0x3c23cf222eca60b4e1d80c63a49308574b895638</td>\n",
       "      <td>1</td>\n",
       "    </tr>\n",
       "    <tr>\n",
       "      <th>2</th>\n",
       "      <td>0x07f293fcb60bbc8c8dcc38ff432b79ca55f697bc</td>\n",
       "      <td>1</td>\n",
       "    </tr>\n",
       "    <tr>\n",
       "      <th>3</th>\n",
       "      <td>0x0a64a6588282aedbe95350f93ef04437cd4efb4f</td>\n",
       "      <td>1</td>\n",
       "    </tr>\n",
       "    <tr>\n",
       "      <th>4</th>\n",
       "      <td>0x14f048acde37242a9f3fc090981cfcd9a3fd0f95</td>\n",
       "      <td>1</td>\n",
       "    </tr>\n",
       "    <tr>\n",
       "      <th>5</th>\n",
       "      <td>0x16dafb2d504fe854941f560764744bf58b4f85e5</td>\n",
       "      <td>1</td>\n",
       "    </tr>\n",
       "    <tr>\n",
       "      <th>6</th>\n",
       "      <td>0x1ada01a3fc5d13ebf59a510b48988e9f65ea3594</td>\n",
       "      <td>1</td>\n",
       "    </tr>\n",
       "    <tr>\n",
       "      <th>7</th>\n",
       "      <td>0x1fc3e64a4cc39867a55561b20e03c601d8c745fc</td>\n",
       "      <td>1</td>\n",
       "    </tr>\n",
       "    <tr>\n",
       "      <th>8</th>\n",
       "      <td>0x222a32ace46b4d70379e457312691f991c817cad</td>\n",
       "      <td>1</td>\n",
       "    </tr>\n",
       "    <tr>\n",
       "      <th>9</th>\n",
       "      <td>0x22a7cebd9b60869d5bc7de856bcf9061a9fe6c43</td>\n",
       "      <td>1</td>\n",
       "    </tr>\n",
       "    <tr>\n",
       "      <th>10</th>\n",
       "      <td>0x34f23a5429fa1a81a80fbde8b4887d2deaf0de23</td>\n",
       "      <td>1</td>\n",
       "    </tr>\n",
       "    <tr>\n",
       "      <th>11</th>\n",
       "      <td>0x3a879362524180dd3c16de3676d898de79711ef0</td>\n",
       "      <td>1</td>\n",
       "    </tr>\n",
       "    <tr>\n",
       "      <th>13</th>\n",
       "      <td>0x3cc8dc32f314e967c5b7b7244e5c396c6274b306</td>\n",
       "      <td>1</td>\n",
       "    </tr>\n",
       "    <tr>\n",
       "      <th>24</th>\n",
       "      <td>0x68f29a55cc367927bd33655c8318313a73033fc4</td>\n",
       "      <td>1</td>\n",
       "    </tr>\n",
       "    <tr>\n",
       "      <th>14</th>\n",
       "      <td>0x3fae41f34495f74e47d3ea1a35591ee36aeac1af</td>\n",
       "      <td>1</td>\n",
       "    </tr>\n",
       "    <tr>\n",
       "      <th>15</th>\n",
       "      <td>0x447b5c2c15f1f2db00202cb57d66f589d32481b0</td>\n",
       "      <td>1</td>\n",
       "    </tr>\n",
       "    <tr>\n",
       "      <th>16</th>\n",
       "      <td>0x4764cccf6bf972fbcd46a7dc7d73f3de608548b7</td>\n",
       "      <td>1</td>\n",
       "    </tr>\n",
       "    <tr>\n",
       "      <th>17</th>\n",
       "      <td>0x4cdc98ae1d0cbde6955fc176a838661b31b88c9d</td>\n",
       "      <td>1</td>\n",
       "    </tr>\n",
       "    <tr>\n",
       "      <th>18</th>\n",
       "      <td>0x4e50fce09280b04b4253771702dbf3f56824b635</td>\n",
       "      <td>1</td>\n",
       "    </tr>\n",
       "    <tr>\n",
       "      <th>19</th>\n",
       "      <td>0x4e92bf9a3b74581b8fa42062c8caa743247ceda5</td>\n",
       "      <td>1</td>\n",
       "    </tr>\n",
       "    <tr>\n",
       "      <th>20</th>\n",
       "      <td>0x4ee268c9813d198e4ae20fcff65ca91138c24a0e</td>\n",
       "      <td>1</td>\n",
       "    </tr>\n",
       "    <tr>\n",
       "      <th>21</th>\n",
       "      <td>0x5bbe2544a706417fd279747dc0ee640f430c3638</td>\n",
       "      <td>1</td>\n",
       "    </tr>\n",
       "    <tr>\n",
       "      <th>22</th>\n",
       "      <td>0x5d06d36a05ce3df7dd0e460470eb7f2c4c988029</td>\n",
       "      <td>1</td>\n",
       "    </tr>\n",
       "    <tr>\n",
       "      <th>23</th>\n",
       "      <td>0x670cc6cfd713d0f534fb6a4bb17e4fc7c6ba0f4c</td>\n",
       "      <td>1</td>\n",
       "    </tr>\n",
       "    <tr>\n",
       "      <th>52</th>\n",
       "      <td>0xfd992ed1893df40ef1906fa83bbf7d10fdf94dbd</td>\n",
       "      <td>1</td>\n",
       "    </tr>\n",
       "  </tbody>\n",
       "</table>\n",
       "</div>"
      ],
      "text/plain": [
       "                                        wallet  interacted_wallets\n",
       "1   0x55ff76bffc3cdd9d5fdbbc2ece4528ecce45047e                  52\n",
       "39  0xbb548b90ca74a12e5a6ab32a4efa7af1489423d3                   1\n",
       "28  0x6c82a654ffaa99cafe0664d3f067168453efc730                   1\n",
       "29  0x6c873b8be8b490d45c8a704a6e7aa428ff6c65be                   1\n",
       "30  0x728216ccfa69c1816aca09d2b1931730d0d62397                   1\n",
       "31  0x8409ea6619840387c6fb52c60caad28365c6724a                   1\n",
       "32  0x89eccd0c7265b479fee6bef84a4522e113eb6f6c                   1\n",
       "33  0x951b2048a80f27ba31bd400c32d1852cfd28c28a                   1\n",
       "34  0xa67187a83f4359fe62df22f86ec46ff4a8140394                   1\n",
       "35  0xa999ec6422b3384aa029d71c3f1994f95a9371ab                   1\n",
       "36  0xab5f7e0857daa5e8f34dcb74d31a7ac338096147                   1\n",
       "37  0xabcc3cb3e09eff2cf1c913c4344a4f1c4207a67b                   1\n",
       "38  0xb27078a7f5f05654e0c23ca819ce80baf7fac154                   1\n",
       "0   0x05a4d48f6610a10bcff6f1cdd656a8cedc088c58                   1\n",
       "27  0x6c5f8c4e4cf23b7954f5339f831b6c0fb28b6ce9                   1\n",
       "41  0xcce7dba749b3cdb470d9d565f600233df27283e9                   1\n",
       "42  0xd0210cca062086f6aa723a63bb4bd0c5f0deddc7                   1\n",
       "43  0xd5e8d4eba7faa374102f37f089e2cb1f5b989529                   1\n",
       "44  0xdba775c2a4c8971d21a9491f51250e30ab2fd607                   1\n",
       "45  0xdc8f8d2fc41c12ea89865f955c57f2ffdf453faa                   1\n",
       "46  0xe216b328efa1ca0f47ce5d1c0f0084018c084a97                   1\n",
       "47  0xe2291784e44176db8093c7af109426fbb2a5b7ae                   1\n",
       "48  0xeaf4099fa115470e553ffa5dbb2144e7044c3793                   1\n",
       "49  0xf1954d19e1ebc87a0b63117f03c96a38f068b270                   1\n",
       "50  0xf3760961df8181d99eac6462e886b484cee90b3c                   1\n",
       "51  0xf8fc9b67c69353953624c54c3f9bb4edbca844ef                   1\n",
       "40  0xcaefd6b8b493e06964460664ea8a3ebd230c32fb                   1\n",
       "26  0x6b8789c8101846925286ef73ff0bcf01a365c95b                   1\n",
       "25  0x6a2a2b1316d0c2fa3a3c70b3fde706ffb7b89a8d                   1\n",
       "12  0x3c23cf222eca60b4e1d80c63a49308574b895638                   1\n",
       "2   0x07f293fcb60bbc8c8dcc38ff432b79ca55f697bc                   1\n",
       "3   0x0a64a6588282aedbe95350f93ef04437cd4efb4f                   1\n",
       "4   0x14f048acde37242a9f3fc090981cfcd9a3fd0f95                   1\n",
       "5   0x16dafb2d504fe854941f560764744bf58b4f85e5                   1\n",
       "6   0x1ada01a3fc5d13ebf59a510b48988e9f65ea3594                   1\n",
       "7   0x1fc3e64a4cc39867a55561b20e03c601d8c745fc                   1\n",
       "8   0x222a32ace46b4d70379e457312691f991c817cad                   1\n",
       "9   0x22a7cebd9b60869d5bc7de856bcf9061a9fe6c43                   1\n",
       "10  0x34f23a5429fa1a81a80fbde8b4887d2deaf0de23                   1\n",
       "11  0x3a879362524180dd3c16de3676d898de79711ef0                   1\n",
       "13  0x3cc8dc32f314e967c5b7b7244e5c396c6274b306                   1\n",
       "24  0x68f29a55cc367927bd33655c8318313a73033fc4                   1\n",
       "14  0x3fae41f34495f74e47d3ea1a35591ee36aeac1af                   1\n",
       "15  0x447b5c2c15f1f2db00202cb57d66f589d32481b0                   1\n",
       "16  0x4764cccf6bf972fbcd46a7dc7d73f3de608548b7                   1\n",
       "17  0x4cdc98ae1d0cbde6955fc176a838661b31b88c9d                   1\n",
       "18  0x4e50fce09280b04b4253771702dbf3f56824b635                   1\n",
       "19  0x4e92bf9a3b74581b8fa42062c8caa743247ceda5                   1\n",
       "20  0x4ee268c9813d198e4ae20fcff65ca91138c24a0e                   1\n",
       "21  0x5bbe2544a706417fd279747dc0ee640f430c3638                   1\n",
       "22  0x5d06d36a05ce3df7dd0e460470eb7f2c4c988029                   1\n",
       "23  0x670cc6cfd713d0f534fb6a4bb17e4fc7c6ba0f4c                   1\n",
       "52  0xfd992ed1893df40ef1906fa83bbf7d10fdf94dbd                   1"
      ]
     },
     "execution_count": 1229,
     "metadata": {},
     "output_type": "execute_result"
    }
   ],
   "source": [
    "columns_item_count(plot_community_df, w_cols=[\"node_a\", \"node_b\"]).sort_values(by=\"interacted_wallets\", ascending=False)"
   ]
  },
  {
   "cell_type": "code",
   "execution_count": 1059,
   "metadata": {},
   "outputs": [],
   "source": [
    "def community_visualization_2d(\n",
    "    df,\n",
    "    highlight_lst,\n",
    "    highlight_lst_2_=None,\n",
    "    source_col=\"node_a\",\n",
    "    target_col=\"node_b\",\n",
    "    weight_col=\"weight\",\n",
    "    weight_=800,\n",
    "    height_=800,\n",
    "):\n",
    "    # Create a directed graph\n",
    "    Gt = nx.from_pandas_edgelist(\n",
    "        df,\n",
    "        source=source_col,\n",
    "        target=target_col,\n",
    "        edge_attr=weight_col,\n",
    "        create_using=nx.DiGraph(),\n",
    "    )\n",
    "\n",
    "    # Generate 2D positions for nodes\n",
    "    pos = nx.spring_layout(Gt, weight=weight_col)\n",
    "\n",
    "    # Extract node and edge positions\n",
    "    edge_x = []\n",
    "    edge_y = []\n",
    "    edge_text = []  # List to hold weight information for hover\n",
    "    for edge in Gt.edges(data=True):\n",
    "        x0, y0 = pos[edge[0]]\n",
    "        x1, y1 = pos[edge[1]]\n",
    "        edge_x.extend([x0, x1, None])\n",
    "        edge_y.extend([y0, y1, None])\n",
    "        edge_text.append(f\"weight: {round(edge[2][weight_col], 2)}\")\n",
    "\n",
    "    node_x = [pos[node][0] for node in Gt.nodes()]\n",
    "    node_y = [pos[node][1] for node in Gt.nodes()]\n",
    "\n",
    "    # Determine node colors based on the DataFrame\n",
    "    node_colors = []\n",
    "    for node in Gt.nodes():\n",
    "        if node in highlight_lst:\n",
    "            node_colors.append(\"yellowgreen\")  # In HL list 1\n",
    "        elif highlight_lst_2_ and node in highlight_lst_2_:\n",
    "            node_colors.append(\"dodgerblue\")  # In HL list 2\n",
    "        else:\n",
    "            node_colors.append(\"salmon\")\n",
    "\n",
    "    # Create Plotly figure\n",
    "    fig = go.Figure()\n",
    "\n",
    "    # Add edges\n",
    "    fig.add_trace(\n",
    "        go.Scatter(\n",
    "            x=edge_x,\n",
    "            y=edge_y,\n",
    "            mode=\"lines\",\n",
    "            line=dict(color=\"black\", width=2),\n",
    "            hoverinfo=\"text\",\n",
    "            text=edge_text,  # Add edge weights to hover info\n",
    "        )\n",
    "    )\n",
    "\n",
    "    # Add nodes\n",
    "    fig.add_trace(\n",
    "        go.Scatter(\n",
    "            x=node_x,\n",
    "            y=node_y,\n",
    "            mode=\"markers\",\n",
    "            marker=dict(size=10, color=node_colors, line=dict(width=1, color=\"gray\")),\n",
    "            text=list(Gt.nodes()),  # Show node labels\n",
    "            hoverinfo=\"text\",\n",
    "        )\n",
    "    )\n",
    "\n",
    "    # Update layout\n",
    "    fig.update_layout(\n",
    "        showlegend=False,\n",
    "        width=weight_,\n",
    "        height=height_,\n",
    "        xaxis=dict(showgrid=True, zeroline=False),\n",
    "        yaxis=dict(showgrid=False, zeroline=False),\n",
    "        # plot_bgcolor=\"lightgray\",\n",
    "        title=\"Community Visualization\",\n",
    "    )\n",
    "\n",
    "    # Show the plot\n",
    "    fig.show()"
   ]
  },
  {
   "cell_type": "code",
   "execution_count": 1230,
   "metadata": {},
   "outputs": [
    {
     "data": {
      "application/vnd.plotly.v1+json": {
       "config": {
        "plotlyServerURL": "https://plot.ly"
       },
       "data": [
        {
         "hoverinfo": "text",
         "line": {
          "color": "black",
          "width": 2
         },
         "mode": "lines",
         "text": [
          "weight: 0.0",
          "weight: 0.0",
          "weight: 0.0",
          "weight: 0.0",
          "weight: 0.0",
          "weight: 0.0",
          "weight: 0.0",
          "weight: 0.0",
          "weight: 0.0",
          "weight: 0.0",
          "weight: 0.0",
          "weight: 0.0",
          "weight: 0.0",
          "weight: 0.0",
          "weight: 0.0",
          "weight: 0.0",
          "weight: 0.0",
          "weight: 0.0",
          "weight: 0.0",
          "weight: 0.0",
          "weight: 0.0",
          "weight: 0.0",
          "weight: 0.0",
          "weight: 0.0",
          "weight: 0.0",
          "weight: 0.0",
          "weight: 0.0",
          "weight: 0.0",
          "weight: 0.0",
          "weight: 0.0",
          "weight: 0.0",
          "weight: 0.0",
          "weight: 0.0",
          "weight: 0.0",
          "weight: 0.0",
          "weight: 0.0",
          "weight: 0.0",
          "weight: 0.0",
          "weight: 0.0",
          "weight: 0.0",
          "weight: 0.0",
          "weight: 0.0",
          "weight: 0.0",
          "weight: 0.0",
          "weight: 0.0",
          "weight: 0.0",
          "weight: 0.0",
          "weight: 0.0",
          "weight: 0.0",
          "weight: 0.0",
          "weight: 0.0",
          "weight: 0.0"
         ],
         "type": "scatter",
         "x": [
          -0.8501617308706307,
          -0.004482556639750921,
          null,
          -0.004482556639750921,
          -0.48202117305373504,
          null,
          -0.004482556639750921,
          -0.9095632539654723,
          null,
          -0.004482556639750921,
          0.3529805270017182,
          null,
          -0.004482556639750921,
          0.9362449785696928,
          null,
          -0.004482556639750921,
          -0.5985816889281627,
          null,
          -0.004482556639750921,
          0.9803206560262769,
          null,
          -0.004482556639750921,
          -0.6716293973785529,
          null,
          -0.004482556639750921,
          0.5723898115419785,
          null,
          -0.004482556639750921,
          0.7840410421982572,
          null,
          -0.004482556639750921,
          -0.010816050123181481,
          null,
          -0.004482556639750921,
          0.3866357811528262,
          null,
          -0.004482556639750921,
          0.8453203784701554,
          null,
          -0.004482556639750921,
          -0.8877824534468658,
          null,
          -0.004482556639750921,
          -0.9763832526021565,
          null,
          -0.004482556639750921,
          -0.8031982714545599,
          null,
          -0.004482556639750921,
          -0.8300929198158364,
          null,
          -0.004482556639750921,
          0.839693144776237,
          null,
          -0.004482556639750921,
          0.9540455987630251,
          null,
          -0.004482556639750921,
          0.23616513060572408,
          null,
          -0.004482556639750921,
          -0.5246011375611206,
          null,
          -0.004482556639750921,
          -0.425428089618581,
          null,
          -0.004482556639750921,
          0.5410424935240676,
          null,
          -0.004482556639750921,
          0.13887636637757267,
          null,
          -0.004482556639750921,
          -0.6881561790931583,
          null,
          -0.004482556639750921,
          -0.8920117240146636,
          null,
          -0.004482556639750921,
          -0.1517208506051774,
          null,
          -0.004482556639750921,
          -0.5571184564247674,
          null,
          -0.004482556639750921,
          0.6906732770510589,
          null,
          -0.004482556639750921,
          -0.12891196253165776,
          null,
          -0.004482556639750921,
          0.11412842822587974,
          null,
          -0.004482556639750921,
          0.8886117800612191,
          null,
          -0.004482556639750921,
          0.2637346028777871,
          null,
          0.9197187192119369,
          -0.004482556639750921,
          null,
          0.5492144959890419,
          -0.004482556639750921,
          null,
          -0.7904512763060366,
          -0.004482556639750921,
          null,
          0.5326662233395626,
          -0.004482556639750921,
          null,
          -0.9188651813469659,
          -0.004482556639750921,
          null,
          0.046951287925499414,
          -0.004482556639750921,
          null,
          0.912577560120499,
          -0.004482556639750921,
          null,
          0.7741262975672227,
          -0.004482556639750921,
          null,
          -0.3530724162952079,
          -0.004482556639750921,
          null,
          -0.31569775791185134,
          -0.004482556639750921,
          null,
          -0.9736643750123606,
          -0.004482556639750921,
          null,
          -0.1281187486327943,
          -0.004482556639750921,
          null,
          -0.969174458130494,
          -0.004482556639750921,
          null,
          0.45572231223192794,
          -0.004482556639750921,
          null,
          0.674955002669392,
          -0.004482556639750921,
          null,
          -0.7003777944372793,
          -0.004482556639750921,
          null,
          0.4695781059242076,
          -0.004482556639750921,
          null,
          0.9256406976334065,
          -0.004482556639750921,
          null,
          -0.24397154363515416,
          -0.004482556639750921,
          null
         ],
         "y": [
          -0.33749891298799106,
          0.003311323480481265,
          null,
          0.003311323480481265,
          -0.8952522352789655,
          null,
          0.003311323480481265,
          -0.4510062828458624,
          null,
          0.003311323480481265,
          -0.8602869656427495,
          null,
          0.003311323480481265,
          -0.3651910622287243,
          null,
          0.003311323480481265,
          0.6989163807674321,
          null,
          0.003311323480481265,
          -0.017331663229175825,
          null,
          0.003311323480481265,
          -0.7789054857888286,
          null,
          0.003311323480481265,
          0.8375188329486484,
          null,
          0.003311323480481265,
          0.6086550239554032,
          null,
          0.003311323480481265,
          -0.9737633778797758,
          null,
          0.003311323480481265,
          0.9480492315638933,
          null,
          0.003311323480481265,
          -0.4589546988626731,
          null,
          0.003311323480481265,
          0.45699537311196314,
          null,
          0.003311323480481265,
          0.2775991712602593,
          null,
          0.003311323480481265,
          -0.6242552290437919,
          null,
          0.003311323480481265,
          0.34757786804857677,
          null,
          0.003311323480481265,
          0.47448874887702297,
          null,
          0.003311323480481265,
          0.10897952491880193,
          null,
          0.003311323480481265,
          -0.9226883205285766,
          null,
          0.003311323480481265,
          0.9038874891350432,
          null,
          0.003311323480481265,
          0.7664122517931823,
          null,
          0.003311323480481265,
          -0.7782319658026869,
          null,
          0.003311323480481265,
          0.8771582095670892,
          null,
          0.003311323480481265,
          -0.5424428530130866,
          null,
          0.003311323480481265,
          -0.12184316927751812,
          null,
          0.003311323480481265,
          0.8950158015349273,
          null,
          0.003311323480481265,
          -0.7563823472041189,
          null,
          0.003311323480481265,
          -0.7167811561702458,
          null,
          0.003311323480481265,
          -0.9255960268371023,
          null,
          0.003311323480481265,
          -0.952308565079771,
          null,
          0.003311323480481265,
          0.34953611057757056,
          null,
          0.003311323480481265,
          0.9238161041725474,
          null,
          -0.11932742236602295,
          0.003311323480481265,
          null,
          -0.5343046981310111,
          0.003311323480481265,
          null,
          0.5852865060101157,
          0.003311323480481265,
          null,
          0.40995109792661055,
          0.003311323480481265,
          null,
          0.016867435903127136,
          0.003311323480481265,
          null,
          0.9603669104808739,
          0.003311323480481265,
          null,
          0.22639150828213994,
          0.003311323480481265,
          null,
          -0.5773143841576177,
          0.003311323480481265,
          null,
          -0.8849191054226606,
          0.003311323480481265,
          null,
          0.8930466254864183,
          0.003311323480481265,
          null,
          0.12748057980153524,
          0.003311323480481265,
          null,
          1,
          0.003311323480481265,
          null,
          -0.2194206180584337,
          0.003311323480481265,
          null,
          0.7991400476828787,
          0.003311323480481265,
          null,
          0.7103086813806427,
          0.003311323480481265,
          null,
          0.7277096383044341,
          0.003311323480481265,
          null,
          -0.9093671770389677,
          0.003311323480481265,
          null,
          -0.24242976985849035,
          0.003311323480481265,
          null,
          -0.9686629842367704,
          0.003311323480481265,
          null
         ]
        },
        {
         "hoverinfo": "text",
         "marker": {
          "color": [
           "dodgerblue",
           "salmon",
           "yellowgreen",
           "yellowgreen",
           "dodgerblue",
           "dodgerblue",
           "dodgerblue",
           "dodgerblue",
           "dodgerblue",
           "dodgerblue",
           "yellowgreen",
           "yellowgreen",
           "dodgerblue",
           "dodgerblue",
           "dodgerblue",
           "dodgerblue",
           "dodgerblue",
           "dodgerblue",
           "dodgerblue",
           "dodgerblue",
           "dodgerblue",
           "dodgerblue",
           "yellowgreen",
           "dodgerblue",
           "dodgerblue",
           "dodgerblue",
           "dodgerblue",
           "dodgerblue",
           "dodgerblue",
           "yellowgreen",
           "dodgerblue",
           "dodgerblue",
           "yellowgreen",
           "dodgerblue",
           "dodgerblue",
           "dodgerblue",
           "dodgerblue",
           "yellowgreen",
           "dodgerblue",
           "dodgerblue",
           "dodgerblue",
           "dodgerblue",
           "dodgerblue",
           "dodgerblue",
           "dodgerblue",
           "dodgerblue",
           "dodgerblue",
           "dodgerblue",
           "dodgerblue",
           "dodgerblue",
           "dodgerblue",
           "dodgerblue",
           "dodgerblue"
          ],
          "line": {
           "color": "gray",
           "width": 1
          },
          "size": 10
         },
         "mode": "markers",
         "text": [
          "0x05a4d48f6610a10bcff6f1cdd656a8cedc088c58",
          "0x55ff76bffc3cdd9d5fdbbc2ece4528ecce45047e",
          "0x07f293fcb60bbc8c8dcc38ff432b79ca55f697bc",
          "0x0a64a6588282aedbe95350f93ef04437cd4efb4f",
          "0x14f048acde37242a9f3fc090981cfcd9a3fd0f95",
          "0x16dafb2d504fe854941f560764744bf58b4f85e5",
          "0x1ada01a3fc5d13ebf59a510b48988e9f65ea3594",
          "0x1fc3e64a4cc39867a55561b20e03c601d8c745fc",
          "0x222a32ace46b4d70379e457312691f991c817cad",
          "0x22a7cebd9b60869d5bc7de856bcf9061a9fe6c43",
          "0x34f23a5429fa1a81a80fbde8b4887d2deaf0de23",
          "0x3a879362524180dd3c16de3676d898de79711ef0",
          "0x3c23cf222eca60b4e1d80c63a49308574b895638",
          "0x3cc8dc32f314e967c5b7b7244e5c396c6274b306",
          "0x3fae41f34495f74e47d3ea1a35591ee36aeac1af",
          "0x447b5c2c15f1f2db00202cb57d66f589d32481b0",
          "0x4764cccf6bf972fbcd46a7dc7d73f3de608548b7",
          "0x4cdc98ae1d0cbde6955fc176a838661b31b88c9d",
          "0x4e50fce09280b04b4253771702dbf3f56824b635",
          "0x4e92bf9a3b74581b8fa42062c8caa743247ceda5",
          "0x4ee268c9813d198e4ae20fcff65ca91138c24a0e",
          "0x5bbe2544a706417fd279747dc0ee640f430c3638",
          "0x5d06d36a05ce3df7dd0e460470eb7f2c4c988029",
          "0x670cc6cfd713d0f534fb6a4bb17e4fc7c6ba0f4c",
          "0x68f29a55cc367927bd33655c8318313a73033fc4",
          "0x6a2a2b1316d0c2fa3a3c70b3fde706ffb7b89a8d",
          "0x6b8789c8101846925286ef73ff0bcf01a365c95b",
          "0x6c5f8c4e4cf23b7954f5339f831b6c0fb28b6ce9",
          "0x6c82a654ffaa99cafe0664d3f067168453efc730",
          "0x6c873b8be8b490d45c8a704a6e7aa428ff6c65be",
          "0x728216ccfa69c1816aca09d2b1931730d0d62397",
          "0x8409ea6619840387c6fb52c60caad28365c6724a",
          "0x89eccd0c7265b479fee6bef84a4522e113eb6f6c",
          "0x951b2048a80f27ba31bd400c32d1852cfd28c28a",
          "0xa67187a83f4359fe62df22f86ec46ff4a8140394",
          "0xa999ec6422b3384aa029d71c3f1994f95a9371ab",
          "0xab5f7e0857daa5e8f34dcb74d31a7ac338096147",
          "0xabcc3cb3e09eff2cf1c913c4344a4f1c4207a67b",
          "0xb27078a7f5f05654e0c23ca819ce80baf7fac154",
          "0xbb548b90ca74a12e5a6ab32a4efa7af1489423d3",
          "0xcaefd6b8b493e06964460664ea8a3ebd230c32fb",
          "0xcce7dba749b3cdb470d9d565f600233df27283e9",
          "0xd0210cca062086f6aa723a63bb4bd0c5f0deddc7",
          "0xd5e8d4eba7faa374102f37f089e2cb1f5b989529",
          "0xdba775c2a4c8971d21a9491f51250e30ab2fd607",
          "0xdc8f8d2fc41c12ea89865f955c57f2ffdf453faa",
          "0xe216b328efa1ca0f47ce5d1c0f0084018c084a97",
          "0xe2291784e44176db8093c7af109426fbb2a5b7ae",
          "0xeaf4099fa115470e553ffa5dbb2144e7044c3793",
          "0xf1954d19e1ebc87a0b63117f03c96a38f068b270",
          "0xf3760961df8181d99eac6462e886b484cee90b3c",
          "0xf8fc9b67c69353953624c54c3f9bb4edbca844ef",
          "0xfd992ed1893df40ef1906fa83bbf7d10fdf94dbd"
         ],
         "type": "scatter",
         "x": [
          -0.8501617308706307,
          -0.004482556639750921,
          0.9197187192119369,
          0.5492144959890419,
          -0.7904512763060366,
          0.5326662233395626,
          -0.9188651813469659,
          0.046951287925499414,
          0.912577560120499,
          0.7741262975672227,
          -0.3530724162952079,
          -0.31569775791185134,
          -0.9736643750123606,
          -0.1281187486327943,
          -0.969174458130494,
          0.45572231223192794,
          0.674955002669392,
          -0.7003777944372793,
          0.4695781059242076,
          0.9256406976334065,
          -0.24397154363515416,
          -0.48202117305373504,
          -0.9095632539654723,
          0.3529805270017182,
          0.9362449785696928,
          -0.5985816889281627,
          0.9803206560262769,
          -0.6716293973785529,
          0.5723898115419785,
          0.7840410421982572,
          -0.010816050123181481,
          0.3866357811528262,
          0.8453203784701554,
          -0.8877824534468658,
          -0.9763832526021565,
          -0.8031982714545599,
          -0.8300929198158364,
          0.839693144776237,
          0.9540455987630251,
          0.23616513060572408,
          -0.5246011375611206,
          -0.425428089618581,
          0.5410424935240676,
          0.13887636637757267,
          -0.6881561790931583,
          -0.8920117240146636,
          -0.1517208506051774,
          -0.5571184564247674,
          0.6906732770510589,
          -0.12891196253165776,
          0.11412842822587974,
          0.8886117800612191,
          0.2637346028777871
         ],
         "y": [
          -0.33749891298799106,
          0.003311323480481265,
          -0.11932742236602295,
          -0.5343046981310111,
          0.5852865060101157,
          0.40995109792661055,
          0.016867435903127136,
          0.9603669104808739,
          0.22639150828213994,
          -0.5773143841576177,
          -0.8849191054226606,
          0.8930466254864183,
          0.12748057980153524,
          1,
          -0.2194206180584337,
          0.7991400476828787,
          0.7103086813806427,
          0.7277096383044341,
          -0.9093671770389677,
          -0.24242976985849035,
          -0.9686629842367704,
          -0.8952522352789655,
          -0.4510062828458624,
          -0.8602869656427495,
          -0.3651910622287243,
          0.6989163807674321,
          -0.017331663229175825,
          -0.7789054857888286,
          0.8375188329486484,
          0.6086550239554032,
          -0.9737633778797758,
          0.9480492315638933,
          -0.4589546988626731,
          0.45699537311196314,
          0.2775991712602593,
          -0.6242552290437919,
          0.34757786804857677,
          0.47448874887702297,
          0.10897952491880193,
          -0.9226883205285766,
          0.9038874891350432,
          0.7664122517931823,
          -0.7782319658026869,
          0.8771582095670892,
          -0.5424428530130866,
          -0.12184316927751812,
          0.8950158015349273,
          -0.7563823472041189,
          -0.7167811561702458,
          -0.9255960268371023,
          -0.952308565079771,
          0.34953611057757056,
          0.9238161041725474
         ]
        }
       ],
       "layout": {
        "height": 500,
        "showlegend": false,
        "template": {
         "data": {
          "bar": [
           {
            "error_x": {
             "color": "#2a3f5f"
            },
            "error_y": {
             "color": "#2a3f5f"
            },
            "marker": {
             "line": {
              "color": "#E5ECF6",
              "width": 0.5
             },
             "pattern": {
              "fillmode": "overlay",
              "size": 10,
              "solidity": 0.2
             }
            },
            "type": "bar"
           }
          ],
          "barpolar": [
           {
            "marker": {
             "line": {
              "color": "#E5ECF6",
              "width": 0.5
             },
             "pattern": {
              "fillmode": "overlay",
              "size": 10,
              "solidity": 0.2
             }
            },
            "type": "barpolar"
           }
          ],
          "carpet": [
           {
            "aaxis": {
             "endlinecolor": "#2a3f5f",
             "gridcolor": "white",
             "linecolor": "white",
             "minorgridcolor": "white",
             "startlinecolor": "#2a3f5f"
            },
            "baxis": {
             "endlinecolor": "#2a3f5f",
             "gridcolor": "white",
             "linecolor": "white",
             "minorgridcolor": "white",
             "startlinecolor": "#2a3f5f"
            },
            "type": "carpet"
           }
          ],
          "choropleth": [
           {
            "colorbar": {
             "outlinewidth": 0,
             "ticks": ""
            },
            "type": "choropleth"
           }
          ],
          "contour": [
           {
            "colorbar": {
             "outlinewidth": 0,
             "ticks": ""
            },
            "colorscale": [
             [
              0,
              "#0d0887"
             ],
             [
              0.1111111111111111,
              "#46039f"
             ],
             [
              0.2222222222222222,
              "#7201a8"
             ],
             [
              0.3333333333333333,
              "#9c179e"
             ],
             [
              0.4444444444444444,
              "#bd3786"
             ],
             [
              0.5555555555555556,
              "#d8576b"
             ],
             [
              0.6666666666666666,
              "#ed7953"
             ],
             [
              0.7777777777777778,
              "#fb9f3a"
             ],
             [
              0.8888888888888888,
              "#fdca26"
             ],
             [
              1,
              "#f0f921"
             ]
            ],
            "type": "contour"
           }
          ],
          "contourcarpet": [
           {
            "colorbar": {
             "outlinewidth": 0,
             "ticks": ""
            },
            "type": "contourcarpet"
           }
          ],
          "heatmap": [
           {
            "colorbar": {
             "outlinewidth": 0,
             "ticks": ""
            },
            "colorscale": [
             [
              0,
              "#0d0887"
             ],
             [
              0.1111111111111111,
              "#46039f"
             ],
             [
              0.2222222222222222,
              "#7201a8"
             ],
             [
              0.3333333333333333,
              "#9c179e"
             ],
             [
              0.4444444444444444,
              "#bd3786"
             ],
             [
              0.5555555555555556,
              "#d8576b"
             ],
             [
              0.6666666666666666,
              "#ed7953"
             ],
             [
              0.7777777777777778,
              "#fb9f3a"
             ],
             [
              0.8888888888888888,
              "#fdca26"
             ],
             [
              1,
              "#f0f921"
             ]
            ],
            "type": "heatmap"
           }
          ],
          "heatmapgl": [
           {
            "colorbar": {
             "outlinewidth": 0,
             "ticks": ""
            },
            "colorscale": [
             [
              0,
              "#0d0887"
             ],
             [
              0.1111111111111111,
              "#46039f"
             ],
             [
              0.2222222222222222,
              "#7201a8"
             ],
             [
              0.3333333333333333,
              "#9c179e"
             ],
             [
              0.4444444444444444,
              "#bd3786"
             ],
             [
              0.5555555555555556,
              "#d8576b"
             ],
             [
              0.6666666666666666,
              "#ed7953"
             ],
             [
              0.7777777777777778,
              "#fb9f3a"
             ],
             [
              0.8888888888888888,
              "#fdca26"
             ],
             [
              1,
              "#f0f921"
             ]
            ],
            "type": "heatmapgl"
           }
          ],
          "histogram": [
           {
            "marker": {
             "pattern": {
              "fillmode": "overlay",
              "size": 10,
              "solidity": 0.2
             }
            },
            "type": "histogram"
           }
          ],
          "histogram2d": [
           {
            "colorbar": {
             "outlinewidth": 0,
             "ticks": ""
            },
            "colorscale": [
             [
              0,
              "#0d0887"
             ],
             [
              0.1111111111111111,
              "#46039f"
             ],
             [
              0.2222222222222222,
              "#7201a8"
             ],
             [
              0.3333333333333333,
              "#9c179e"
             ],
             [
              0.4444444444444444,
              "#bd3786"
             ],
             [
              0.5555555555555556,
              "#d8576b"
             ],
             [
              0.6666666666666666,
              "#ed7953"
             ],
             [
              0.7777777777777778,
              "#fb9f3a"
             ],
             [
              0.8888888888888888,
              "#fdca26"
             ],
             [
              1,
              "#f0f921"
             ]
            ],
            "type": "histogram2d"
           }
          ],
          "histogram2dcontour": [
           {
            "colorbar": {
             "outlinewidth": 0,
             "ticks": ""
            },
            "colorscale": [
             [
              0,
              "#0d0887"
             ],
             [
              0.1111111111111111,
              "#46039f"
             ],
             [
              0.2222222222222222,
              "#7201a8"
             ],
             [
              0.3333333333333333,
              "#9c179e"
             ],
             [
              0.4444444444444444,
              "#bd3786"
             ],
             [
              0.5555555555555556,
              "#d8576b"
             ],
             [
              0.6666666666666666,
              "#ed7953"
             ],
             [
              0.7777777777777778,
              "#fb9f3a"
             ],
             [
              0.8888888888888888,
              "#fdca26"
             ],
             [
              1,
              "#f0f921"
             ]
            ],
            "type": "histogram2dcontour"
           }
          ],
          "mesh3d": [
           {
            "colorbar": {
             "outlinewidth": 0,
             "ticks": ""
            },
            "type": "mesh3d"
           }
          ],
          "parcoords": [
           {
            "line": {
             "colorbar": {
              "outlinewidth": 0,
              "ticks": ""
             }
            },
            "type": "parcoords"
           }
          ],
          "pie": [
           {
            "automargin": true,
            "type": "pie"
           }
          ],
          "scatter": [
           {
            "fillpattern": {
             "fillmode": "overlay",
             "size": 10,
             "solidity": 0.2
            },
            "type": "scatter"
           }
          ],
          "scatter3d": [
           {
            "line": {
             "colorbar": {
              "outlinewidth": 0,
              "ticks": ""
             }
            },
            "marker": {
             "colorbar": {
              "outlinewidth": 0,
              "ticks": ""
             }
            },
            "type": "scatter3d"
           }
          ],
          "scattercarpet": [
           {
            "marker": {
             "colorbar": {
              "outlinewidth": 0,
              "ticks": ""
             }
            },
            "type": "scattercarpet"
           }
          ],
          "scattergeo": [
           {
            "marker": {
             "colorbar": {
              "outlinewidth": 0,
              "ticks": ""
             }
            },
            "type": "scattergeo"
           }
          ],
          "scattergl": [
           {
            "marker": {
             "colorbar": {
              "outlinewidth": 0,
              "ticks": ""
             }
            },
            "type": "scattergl"
           }
          ],
          "scattermapbox": [
           {
            "marker": {
             "colorbar": {
              "outlinewidth": 0,
              "ticks": ""
             }
            },
            "type": "scattermapbox"
           }
          ],
          "scatterpolar": [
           {
            "marker": {
             "colorbar": {
              "outlinewidth": 0,
              "ticks": ""
             }
            },
            "type": "scatterpolar"
           }
          ],
          "scatterpolargl": [
           {
            "marker": {
             "colorbar": {
              "outlinewidth": 0,
              "ticks": ""
             }
            },
            "type": "scatterpolargl"
           }
          ],
          "scatterternary": [
           {
            "marker": {
             "colorbar": {
              "outlinewidth": 0,
              "ticks": ""
             }
            },
            "type": "scatterternary"
           }
          ],
          "surface": [
           {
            "colorbar": {
             "outlinewidth": 0,
             "ticks": ""
            },
            "colorscale": [
             [
              0,
              "#0d0887"
             ],
             [
              0.1111111111111111,
              "#46039f"
             ],
             [
              0.2222222222222222,
              "#7201a8"
             ],
             [
              0.3333333333333333,
              "#9c179e"
             ],
             [
              0.4444444444444444,
              "#bd3786"
             ],
             [
              0.5555555555555556,
              "#d8576b"
             ],
             [
              0.6666666666666666,
              "#ed7953"
             ],
             [
              0.7777777777777778,
              "#fb9f3a"
             ],
             [
              0.8888888888888888,
              "#fdca26"
             ],
             [
              1,
              "#f0f921"
             ]
            ],
            "type": "surface"
           }
          ],
          "table": [
           {
            "cells": {
             "fill": {
              "color": "#EBF0F8"
             },
             "line": {
              "color": "white"
             }
            },
            "header": {
             "fill": {
              "color": "#C8D4E3"
             },
             "line": {
              "color": "white"
             }
            },
            "type": "table"
           }
          ]
         },
         "layout": {
          "annotationdefaults": {
           "arrowcolor": "#2a3f5f",
           "arrowhead": 0,
           "arrowwidth": 1
          },
          "autotypenumbers": "strict",
          "coloraxis": {
           "colorbar": {
            "outlinewidth": 0,
            "ticks": ""
           }
          },
          "colorscale": {
           "diverging": [
            [
             0,
             "#8e0152"
            ],
            [
             0.1,
             "#c51b7d"
            ],
            [
             0.2,
             "#de77ae"
            ],
            [
             0.3,
             "#f1b6da"
            ],
            [
             0.4,
             "#fde0ef"
            ],
            [
             0.5,
             "#f7f7f7"
            ],
            [
             0.6,
             "#e6f5d0"
            ],
            [
             0.7,
             "#b8e186"
            ],
            [
             0.8,
             "#7fbc41"
            ],
            [
             0.9,
             "#4d9221"
            ],
            [
             1,
             "#276419"
            ]
           ],
           "sequential": [
            [
             0,
             "#0d0887"
            ],
            [
             0.1111111111111111,
             "#46039f"
            ],
            [
             0.2222222222222222,
             "#7201a8"
            ],
            [
             0.3333333333333333,
             "#9c179e"
            ],
            [
             0.4444444444444444,
             "#bd3786"
            ],
            [
             0.5555555555555556,
             "#d8576b"
            ],
            [
             0.6666666666666666,
             "#ed7953"
            ],
            [
             0.7777777777777778,
             "#fb9f3a"
            ],
            [
             0.8888888888888888,
             "#fdca26"
            ],
            [
             1,
             "#f0f921"
            ]
           ],
           "sequentialminus": [
            [
             0,
             "#0d0887"
            ],
            [
             0.1111111111111111,
             "#46039f"
            ],
            [
             0.2222222222222222,
             "#7201a8"
            ],
            [
             0.3333333333333333,
             "#9c179e"
            ],
            [
             0.4444444444444444,
             "#bd3786"
            ],
            [
             0.5555555555555556,
             "#d8576b"
            ],
            [
             0.6666666666666666,
             "#ed7953"
            ],
            [
             0.7777777777777778,
             "#fb9f3a"
            ],
            [
             0.8888888888888888,
             "#fdca26"
            ],
            [
             1,
             "#f0f921"
            ]
           ]
          },
          "colorway": [
           "#636efa",
           "#EF553B",
           "#00cc96",
           "#ab63fa",
           "#FFA15A",
           "#19d3f3",
           "#FF6692",
           "#B6E880",
           "#FF97FF",
           "#FECB52"
          ],
          "font": {
           "color": "#2a3f5f"
          },
          "geo": {
           "bgcolor": "white",
           "lakecolor": "white",
           "landcolor": "#E5ECF6",
           "showlakes": true,
           "showland": true,
           "subunitcolor": "white"
          },
          "hoverlabel": {
           "align": "left"
          },
          "hovermode": "closest",
          "mapbox": {
           "style": "light"
          },
          "paper_bgcolor": "white",
          "plot_bgcolor": "#E5ECF6",
          "polar": {
           "angularaxis": {
            "gridcolor": "white",
            "linecolor": "white",
            "ticks": ""
           },
           "bgcolor": "#E5ECF6",
           "radialaxis": {
            "gridcolor": "white",
            "linecolor": "white",
            "ticks": ""
           }
          },
          "scene": {
           "xaxis": {
            "backgroundcolor": "#E5ECF6",
            "gridcolor": "white",
            "gridwidth": 2,
            "linecolor": "white",
            "showbackground": true,
            "ticks": "",
            "zerolinecolor": "white"
           },
           "yaxis": {
            "backgroundcolor": "#E5ECF6",
            "gridcolor": "white",
            "gridwidth": 2,
            "linecolor": "white",
            "showbackground": true,
            "ticks": "",
            "zerolinecolor": "white"
           },
           "zaxis": {
            "backgroundcolor": "#E5ECF6",
            "gridcolor": "white",
            "gridwidth": 2,
            "linecolor": "white",
            "showbackground": true,
            "ticks": "",
            "zerolinecolor": "white"
           }
          },
          "shapedefaults": {
           "line": {
            "color": "#2a3f5f"
           }
          },
          "ternary": {
           "aaxis": {
            "gridcolor": "white",
            "linecolor": "white",
            "ticks": ""
           },
           "baxis": {
            "gridcolor": "white",
            "linecolor": "white",
            "ticks": ""
           },
           "bgcolor": "#E5ECF6",
           "caxis": {
            "gridcolor": "white",
            "linecolor": "white",
            "ticks": ""
           }
          },
          "title": {
           "x": 0.05
          },
          "xaxis": {
           "automargin": true,
           "gridcolor": "white",
           "linecolor": "white",
           "ticks": "",
           "title": {
            "standoff": 15
           },
           "zerolinecolor": "white",
           "zerolinewidth": 2
          },
          "yaxis": {
           "automargin": true,
           "gridcolor": "white",
           "linecolor": "white",
           "ticks": "",
           "title": {
            "standoff": 15
           },
           "zerolinecolor": "white",
           "zerolinewidth": 2
          }
         }
        },
        "title": {
         "text": "Community Visualization"
        },
        "width": 800,
        "xaxis": {
         "showgrid": true,
         "zeroline": false
        },
        "yaxis": {
         "showgrid": false,
         "zeroline": false
        }
       }
      }
     },
     "metadata": {},
     "output_type": "display_data"
    }
   ],
   "source": [
    "community_visualization_2d(\n",
    "    plot_community_df, core_wallet_lst, sybil_wallet_lst, weight_=800, height_=500\n",
    ")"
   ]
  },
  {
   "cell_type": "code",
   "execution_count": 1050,
   "metadata": {},
   "outputs": [],
   "source": [
    "def community_visualization_3d(\n",
    "    df,\n",
    "    highlight_lst,\n",
    "    highlight_lst_2_=None,\n",
    "    source_col=\"node_a\",\n",
    "    target_col=\"node_b\",\n",
    "    weight_col=\"weight\",\n",
    "    weight_=800,\n",
    "    height_=800,\n",
    "):\n",
    "    # Create a directed graph\n",
    "    Gt = nx.from_pandas_edgelist(\n",
    "        df,\n",
    "        source=source_col,\n",
    "        target=target_col,\n",
    "        edge_attr=weight_col,\n",
    "        create_using=nx.DiGraph(),\n",
    "    )\n",
    "\n",
    "    # Generate 3D positions\n",
    "    pos = nx.spring_layout(Gt, dim=3, weight=weight_col)\n",
    "\n",
    "    # Extract node and edge positions\n",
    "    edge_x = []\n",
    "    edge_y = []\n",
    "    edge_z = []\n",
    "    edge_text = []  # List to hold weight information for hover\n",
    "    for edge in Gt.edges(data=True):\n",
    "        x0, y0, z0 = pos[edge[0]]\n",
    "        x1, y1, z1 = pos[edge[1]]\n",
    "        edge_x.extend([x0, x1, None])\n",
    "        edge_y.extend([y0, y1, None])\n",
    "        edge_z.extend([z0, z1, None])\n",
    "        edge_text.append(f\"weight: {edge[2][weight_col]}\")\n",
    "\n",
    "    node_x = [pos[node][0] for node in Gt.nodes()]\n",
    "    node_y = [pos[node][1] for node in Gt.nodes()]\n",
    "    node_z = [pos[node][2] for node in Gt.nodes()]\n",
    "\n",
    "    # Determine node colors based on the DataFrame\n",
    "    node_colors = []\n",
    "    for node in Gt.nodes():\n",
    "        if node in highlight_lst:\n",
    "            node_colors.append(\"yellowgreen\")  # True condition\n",
    "        elif highlight_lst_2_ and node in highlight_lst_2_:\n",
    "            node_colors.append(\"dodgerblue\")  # False condition\n",
    "        else:\n",
    "            node_colors.append(\"salmon\")\n",
    "\n",
    "    # Create Plotly figure\n",
    "    fig = go.Figure()\n",
    "\n",
    "    # Add edges\n",
    "    fig.add_trace(\n",
    "        go.Scatter3d(\n",
    "            x=edge_x,\n",
    "            y=edge_y,\n",
    "            z=edge_z,\n",
    "            mode=\"lines\",\n",
    "            line=dict(color=\"black\", width=2),\n",
    "            text=edge_text,\n",
    "            hoverinfo=\"text\",\n",
    "        )\n",
    "    )\n",
    "\n",
    "    # Add nodes\n",
    "    fig.add_trace(\n",
    "        go.Scatter3d(\n",
    "            x=node_x,\n",
    "            y=node_y,\n",
    "            z=node_z,\n",
    "            mode=\"markers\",\n",
    "            marker=dict(size=5, color=node_colors),\n",
    "            text=list(Gt.nodes()),  # Show node labels on hover\n",
    "            hoverinfo=\"text\",\n",
    "            textfont=dict(size=5),\n",
    "            # hoverinfo=\"none\",\n",
    "        )\n",
    "    )\n",
    "\n",
    "    axis_setting = dict(\n",
    "        showbackground=True,\n",
    "        titlefont=dict(size=10),\n",
    "        tickfont=dict(size=10),\n",
    "    )\n",
    "    # Update layout\n",
    "    fig.update_layout(\n",
    "        showlegend=False,\n",
    "        width=weight_,\n",
    "        height=height_,\n",
    "        scene=dict(\n",
    "            xaxis=axis_setting,\n",
    "            yaxis=axis_setting,\n",
    "            zaxis=axis_setting,\n",
    "        ),\n",
    "    )\n",
    "\n",
    "    # Show the plot\n",
    "    fig.show()"
   ]
  },
  {
   "cell_type": "code",
   "execution_count": 1153,
   "metadata": {},
   "outputs": [
    {
     "data": {
      "application/vnd.plotly.v1+json": {
       "config": {
        "plotlyServerURL": "https://plot.ly"
       },
       "data": [
        {
         "hoverinfo": "text",
         "line": {
          "color": "black",
          "width": 2
         },
         "mode": "lines",
         "text": [
          "weight: 0.001160092807424594",
          "weight: 0.0069605568445475635",
          "weight: 0.001160092807424594",
          "weight: 0.004640371229698376",
          "weight: 0.004640371229698376",
          "weight: 0.00580046403712297",
          "weight: 0.00580046403712297",
          "weight: 0.00580046403712297",
          "weight: 0.0069605568445475635",
          "weight: 0.00580046403712297",
          "weight: 0.00580046403712297",
          "weight: 0.0069605568445475635",
          "weight: 0.0069605568445475635",
          "weight: 0.00580046403712297",
          "weight: 0.0069605568445475635",
          "weight: 0.00580046403712297",
          "weight: 0.01160092807424594",
          "weight: 0.001160092807424594",
          "weight: 0.01160092807424594",
          "weight: 0.0034802784222737818",
          "weight: 0.002320185614849188",
          "weight: 0.00580046403712297",
          "weight: 0.001160092807424594",
          "weight: 0.004640371229698376",
          "weight: 0.001160092807424594",
          "weight: 0.0069605568445475635",
          "weight: 0.001160092807424594",
          "weight: 0.002320185614849188",
          "weight: 0.0069605568445475635",
          "weight: 0.001160092807424594",
          "weight: 0.002320185614849188",
          "weight: 0.004640371229698376",
          "weight: 0.002320185614849188",
          "weight: 0.00580046403712297",
          "weight: 0.0034802784222737818",
          "weight: 0.009280742459396751",
          "weight: 0.002320185614849188",
          "weight: 0.002320185614849188",
          "weight: 0.001160092807424594",
          "weight: 0.004640371229698376",
          "weight: 0.002320185614849188",
          "weight: 0.002320185614849188",
          "weight: 0.00580046403712297",
          "weight: 0.0069605568445475635",
          "weight: 0.001160092807424594",
          "weight: 0.002320185614849188",
          "weight: 0.0069605568445475635",
          "weight: 0.002320185614849188",
          "weight: 0.001160092807424594",
          "weight: 0.0034802784222737818",
          "weight: 0.002320185614849188",
          "weight: 0.00580046403712297",
          "weight: 0.0034802784222737818",
          "weight: 0.0069605568445475635",
          "weight: 0.0034802784222737818",
          "weight: 0.009280742459396751",
          "weight: 0.002320185614849188",
          "weight: 0.00580046403712297",
          "weight: 0.002320185614849188",
          "weight: 0.0069605568445475635",
          "weight: 0.002320185614849188",
          "weight: 0.0069605568445475635",
          "weight: 0.0034802784222737818",
          "weight: 0.01160092807424594",
          "weight: 0.00580046403712297",
          "weight: 0.001160092807424594",
          "weight: 0.001160092807424594",
          "weight: 0.002320185614849188",
          "weight: 0.0069605568445475635",
          "weight: 0.001160092807424594",
          "weight: 0.001160092807424594",
          "weight: 0.0034802784222737818",
          "weight: 0.00580046403712297",
          "weight: 0.002320185614849188",
          "weight: 0.002320185614849188",
          "weight: 0.0069605568445475635",
          "weight: 0.002320185614849188",
          "weight: 0.0069605568445475635",
          "weight: 0.002320185614849188",
          "weight: 0.002320185614849188",
          "weight: 0.0069605568445475635",
          "weight: 0.00580046403712297",
          "weight: 0.002320185614849188",
          "weight: 0.002320185614849188",
          "weight: 0.001160092807424594",
          "weight: 0.00580046403712297",
          "weight: 0.001160092807424594",
          "weight: 0.004640371229698376",
          "weight: 0.00580046403712297",
          "weight: 0.002320185614849188",
          "weight: 0.002320185614849188",
          "weight: 0.00580046403712297",
          "weight: 0.002320185614849188",
          "weight: 0.0069605568445475635",
          "weight: 0.00580046403712297",
          "weight: 0.002320185614849188",
          "weight: 0.001160092807424594",
          "weight: 0.002320185614849188",
          "weight: 0.00580046403712297",
          "weight: 0.001160092807424594",
          "weight: 0.00580046403712297",
          "weight: 0.001160092807424594",
          "weight: 0.00580046403712297",
          "weight: 0.001160092807424594",
          "weight: 0.00580046403712297",
          "weight: 0.002320185614849188",
          "weight: 0.004640371229698376",
          "weight: 0.001160092807424594",
          "weight: 0.002320185614849188",
          "weight: 0.00580046403712297",
          "weight: 0.0069605568445475635",
          "weight: 0.002320185614849188",
          "weight: 0.002320185614849188",
          "weight: 0.0069605568445475635",
          "weight: 0.001160092807424594",
          "weight: 0.002320185614849188",
          "weight: 0.001160092807424594",
          "weight: 0.001160092807424594"
         ],
         "type": "scatter3d",
         "x": [
          -0.34717297710395695,
          0.5367236272557356,
          null,
          0.5367236272557356,
          0.053679642675315255,
          null,
          0.02051895085122011,
          -0.7136306507601418,
          null,
          0.02051895085122011,
          0.053679642675315255,
          null,
          0.053679642675315255,
          0.9096519075371972,
          null,
          0.053679642675315255,
          0.7711342750154762,
          null,
          0.053679642675315255,
          0.6379868007681159,
          null,
          0.053679642675315255,
          0.37074229847933154,
          null,
          0.053679642675315255,
          -0.1749352460782927,
          null,
          0.053679642675315255,
          -0.5284230995362568,
          null,
          0.053679642675315255,
          0.251623885310272,
          null,
          0.053679642675315255,
          0.33067485744473835,
          null,
          0.053679642675315255,
          0.00007046951795273043,
          null,
          0.053679642675315255,
          -0.9003541446311613,
          null,
          0.053679642675315255,
          -0.48528946297120684,
          null,
          0.5014151498666445,
          0.374317876465496,
          null,
          0.374317876465496,
          0.053679642675315255,
          null,
          -0.16082904667520453,
          0.251623885310272,
          null,
          -0.21252971580959726,
          0.053679642675315255,
          null,
          -0.21252971580959726,
          -0.7542063528200397,
          null,
          -0.3926066469309176,
          -0.37488935379454164,
          null,
          -0.37488935379454164,
          0.053679642675315255,
          null,
          -0.046454086096726875,
          0.27337268839836265,
          null,
          -0.046454086096726875,
          0.053679642675315255,
          null,
          -0.40181110889996885,
          0.4112526454662818,
          null,
          0.4112526454662818,
          0.053679642675315255,
          null,
          -0.6777358647717838,
          0.00007046951795273043,
          null,
          -0.41259340202339184,
          -0.28817148336499593,
          null,
          -0.28817148336499593,
          0.053679642675315255,
          null,
          -0.39766488857229887,
          0.053679642675315255,
          null,
          -0.09210460320272564,
          0.42813818211546645,
          null,
          -0.09210460320272564,
          0.053679642675315255,
          null,
          -0.010422739561811074,
          0.028505391837663596,
          null,
          0.028505391837663596,
          0.053679642675315255,
          null,
          0.48419088365159485,
          0.33660320831320456,
          null,
          0.33660320831320456,
          0.053679642675315255,
          null,
          -0.7178367696206935,
          -0.48528946297120684,
          null,
          -0.07469360142888172,
          -0.9003541446311613,
          null,
          -0.2622877802657192,
          0.15114665888382697,
          null,
          -0.2622877802657192,
          0.053679642675315255,
          null,
          0.5248007012756591,
          -0.1749352460782927,
          null,
          0.19541490091711092,
          0.3033909104675234,
          null,
          0.3033909104675234,
          0.053679642675315255,
          null,
          0.35705381242523554,
          0.053679642675315255,
          null,
          0.35705381242523554,
          0.17443312111492623,
          null,
          -0.356261991938974,
          0.30044602425502887,
          null,
          0.30044602425502887,
          0.053679642675315255,
          null,
          0.8137562852501401,
          0.9096519075371972,
          null,
          -0.21836972594512785,
          0.0941865705840056,
          null,
          -0.21836972594512785,
          0.053679642675315255,
          null,
          -0.2976037216353115,
          0.5107614654129451,
          null,
          0.5107614654129451,
          0.053679642675315255,
          null,
          -0.48182781510820033,
          -0.045604373304773196,
          null,
          -0.045604373304773196,
          0.053679642675315255,
          null,
          -0.08366422061785463,
          -0.3438800972254158,
          null,
          -0.08366422061785463,
          0.053679642675315255,
          null,
          0.7869639161383846,
          0.6044196769418977,
          null,
          0.6044196769418977,
          0.053679642675315255,
          null,
          0.620880162260504,
          0.3873384061534515,
          null,
          0.3873384061534515,
          0.053679642675315255,
          null,
          0.4373546051715381,
          0.7862008595392751,
          null,
          0.4373546051715381,
          0.053679642675315255,
          null,
          -0.2036323167028785,
          -0.6563482972034156,
          null,
          -0.2036323167028785,
          0.053679642675315255,
          null,
          -0.42274229015341297,
          0.053679642675315255,
          null,
          -0.42274229015341297,
          -0.6729215767584307,
          null,
          -0.42274229015341297,
          -0.4576849894383445,
          null,
          -0.12529153381569721,
          -0.38899753900956097,
          null,
          -0.38899753900956097,
          0.053679642675315255,
          null,
          0.7753501968684456,
          0.053679642675315255,
          null,
          -0.15409081118496706,
          -0.2664727304809898,
          null,
          -0.15409081118496706,
          0.053679642675315255,
          null,
          0.1470548159993127,
          0.053679642675315255,
          null,
          0.1470548159993127,
          0.26579600862460623,
          null,
          0.4980025316014556,
          0.4034094403305881,
          null,
          0.4034094403305881,
          0.053679642675315255,
          null,
          0.7015950974298564,
          0.06881679378283623,
          null,
          0.06881679378283623,
          0.053679642675315255,
          null,
          -0.0474453500682328,
          0.37074229847933154,
          null,
          0.23137421144687903,
          -0.29979574664122827,
          null,
          0.23137421144687903,
          0.053679642675315255,
          null,
          -0.2882650324849312,
          0.053679642675315255,
          null,
          -0.2882650324849312,
          -0.8492978462082899,
          null,
          -0.03668269442670861,
          0.251623885310272,
          null,
          0.07963532577588982,
          0.4933775708276891,
          null,
          0.4933775708276891,
          0.053679642675315255,
          null,
          -0.8092975954749543,
          0.10307723891031571,
          null,
          0.10307723891031571,
          0.053679642675315255,
          null,
          0.2647213325418828,
          0.053679642675315255,
          null,
          0.2647213325418828,
          0.8335089436394226,
          null,
          0.2953210740828591,
          -0.048334879262140334,
          null,
          -0.048334879262140334,
          0.053679642675315255,
          null,
          0.4771515757549569,
          0.05613751515592528,
          null,
          0.05613751515592528,
          0.053679642675315255,
          null,
          -0.3007957424217133,
          0.053679642675315255,
          null,
          -0.3007957424217133,
          -0.7446537065841343,
          null,
          -0.5671945696838261,
          0.053679642675315255,
          null,
          0.2700392684577206,
          0.38505110937318626,
          null,
          0.2700392684577206,
          0.053679642675315255,
          null,
          -0.2502438335165513,
          -0.7541468296871908,
          null,
          -0.2502438335165513,
          0.053679642675315255,
          null,
          -0.07194954782130433,
          0.08045681782989643,
          null,
          -0.07194954782130433,
          0.053679642675315255,
          null,
          -0.6002823654942165,
          0.7711342750154762,
          null,
          0.22727653556701738,
          0.053679642675315255,
          null,
          0.22727653556701738,
          0.1966211826400508,
          null,
          -0.2800851481156286,
          0.053679642675315255,
          null,
          -0.2800851481156286,
          -0.25890904128938674,
          null,
          -0.5390175626941481,
          0.17211675994924802,
          null,
          0.17211675994924802,
          0.053679642675315255,
          null,
          0.191216833876999,
          0.053679642675315255,
          null,
          0.191216833876999,
          0.13593311174479433,
          null,
          -0.06717738977836951,
          -0.7527085698496092,
          null,
          -0.06717738977836951,
          0.053679642675315255,
          null,
          0.6887494840396655,
          0.053679642675315255,
          null,
          0.33067485744473835,
          -0.5051318474147151,
          null,
          -0.578519265900644,
          -0.5284230995362568,
          null,
          0.44103002624857013,
          0.6379868007681159,
          null
         ],
         "y": [
          0.0637808373698643,
          -0.01963075238133006,
          null,
          -0.01963075238133006,
          0.07580563243808698,
          null,
          -0.023732496861624135,
          -0.5019617919249587,
          null,
          -0.023732496861624135,
          0.07580563243808698,
          null,
          0.07580563243808698,
          0.081626200301627,
          null,
          0.07580563243808698,
          -0.5746481249018827,
          null,
          0.07580563243808698,
          0.3211377636400436,
          null,
          0.07580563243808698,
          0.6042736598304833,
          null,
          0.07580563243808698,
          -0.864858892130407,
          null,
          0.07580563243808698,
          0.596707129149149,
          null,
          0.07580563243808698,
          0.15786748036434778,
          null,
          0.07580563243808698,
          -0.0585572437625826,
          null,
          0.07580563243808698,
          0.635682628074016,
          null,
          0.07580563243808698,
          -0.10034814117500598,
          null,
          0.07580563243808698,
          0.5423153874603405,
          null,
          -0.3166389574876561,
          0.18221391903294484,
          null,
          0.18221391903294484,
          0.07580563243808698,
          null,
          0.37529701037599617,
          0.15786748036434778,
          null,
          -0.06100151584212786,
          0.07580563243808698,
          null,
          -0.06100151584212786,
          -0.707577884173909,
          null,
          0.11003170844851617,
          -0.17148435391937247,
          null,
          -0.17148435391937247,
          0.07580563243808698,
          null,
          0.12755801691295143,
          0.6052740819401405,
          null,
          0.12755801691295143,
          0.07580563243808698,
          null,
          -0.8324270829604158,
          -0.015317508544912376,
          null,
          -0.015317508544912376,
          0.07580563243808698,
          null,
          0.3427781630300209,
          0.635682628074016,
          null,
          0.7154133300303018,
          0.3695467602911555,
          null,
          0.3695467602911555,
          0.07580563243808698,
          null,
          -0.6846442042594992,
          0.07580563243808698,
          null,
          -0.44450652263015233,
          -0.8798085600092674,
          null,
          -0.44450652263015233,
          0.07580563243808698,
          null,
          -0.5451957047861382,
          -0.14674155406180228,
          null,
          -0.14674155406180228,
          0.07580563243808698,
          null,
          0.08049194185037589,
          0.2158921535132127,
          null,
          0.2158921535132127,
          0.07580563243808698,
          null,
          0.10604263758169803,
          0.5423153874603405,
          null,
          0.507031958650266,
          -0.10034814117500598,
          null,
          0.00401275916626171,
          0.7478062079551016,
          null,
          0.00401275916626171,
          0.07580563243808698,
          null,
          -0.1342296938120238,
          -0.864858892130407,
          null,
          -0.3018959288569499,
          -0.3464983782340588,
          null,
          -0.3464983782340588,
          0.07580563243808698,
          null,
          0.39783709564906555,
          0.07580563243808698,
          null,
          0.39783709564906555,
          0.3721302553142437,
          null,
          0.5306409230829657,
          0.497044346601709,
          null,
          0.497044346601709,
          0.07580563243808698,
          null,
          -0.5970861414644619,
          0.081626200301627,
          null,
          -0.577092899507753,
          -0.6091357557778704,
          null,
          -0.577092899507753,
          0.07580563243808698,
          null,
          0.5097071197538927,
          0.45078155595105024,
          null,
          0.45078155595105024,
          0.07580563243808698,
          null,
          0.08440342208548826,
          0.5664863425379514,
          null,
          0.5664863425379514,
          0.07580563243808698,
          null,
          -0.08890698359008166,
          -0.253342348995209,
          null,
          -0.08890698359008166,
          0.07580563243808698,
          null,
          -0.11031980311150871,
          0.30657038895785343,
          null,
          0.30657038895785343,
          0.07580563243808698,
          null,
          -0.7716214795775101,
          0.04322401743128852,
          null,
          0.04322401743128852,
          0.07580563243808698,
          null,
          -0.25897497190742097,
          -0.526143284908562,
          null,
          -0.25897497190742097,
          0.07580563243808698,
          null,
          0.03047117610589906,
          -0.0793363218378875,
          null,
          0.03047117610589906,
          0.07580563243808698,
          null,
          -0.2503994325115681,
          0.07580563243808698,
          null,
          -0.2503994325115681,
          -0.10735561199527605,
          null,
          -0.2503994325115681,
          -0.6822197071573197,
          null,
          -0.7663893683904387,
          0.1572256299833971,
          null,
          0.1572256299833971,
          0.07580563243808698,
          null,
          0.16795914944585214,
          0.07580563243808698,
          null,
          -0.3357199991105184,
          -1,
          null,
          -0.3357199991105184,
          0.07580563243808698,
          null,
          -0.4521537635351373,
          0.07580563243808698,
          null,
          -0.4521537635351373,
          -0.8696844017883122,
          null,
          -0.36312300088981503,
          0.18156363508764398,
          null,
          0.18156363508764398,
          0.07580563243808698,
          null,
          -0.4151404190626662,
          -0.1689995588688291,
          null,
          -0.1689995588688291,
          0.07580563243808698,
          null,
          -0.3269779759925512,
          0.6042736598304833,
          null,
          0.16413952379604663,
          0.5901557394807869,
          null,
          0.16413952379604663,
          0.07580563243808698,
          null,
          -0.07800665677605825,
          0.07580563243808698,
          null,
          -0.07800665677605825,
          0.10589513682588142,
          null,
          0.562338292643201,
          0.15786748036434778,
          null,
          0.8201090723345151,
          0.4121379379171719,
          null,
          0.4121379379171719,
          0.07580563243808698,
          null,
          0.24632584110248337,
          -0.4599412899239418,
          null,
          -0.4599412899239418,
          0.07580563243808698,
          null,
          0.32340362801969724,
          0.07580563243808698,
          null,
          0.32340362801969724,
          -0.1840825921769854,
          null,
          -0.2984536275975997,
          0.40378873188894115,
          null,
          0.40378873188894115,
          0.07580563243808698,
          null,
          -0.38465534240960286,
          -0.3682107160895692,
          null,
          -0.3682107160895692,
          0.07580563243808698,
          null,
          -0.05033718628159916,
          0.07580563243808698,
          null,
          -0.05033718628159916,
          -0.37139099762441347,
          null,
          -0.907333308199746,
          0.07580563243808698,
          null,
          -0.13593401223469836,
          0.5752361204830627,
          null,
          -0.13593401223469836,
          0.07580563243808698,
          null,
          0.5493678272563755,
          0.5369953148195326,
          null,
          0.5493678272563755,
          0.07580563243808698,
          null,
          -0.11945524023590431,
          0.8109374701608885,
          null,
          -0.11945524023590431,
          0.07580563243808698,
          null,
          -0.2678227500441621,
          -0.5746481249018827,
          null,
          -0.08835528123226848,
          0.07580563243808698,
          null,
          -0.08835528123226848,
          -0.20324693854473486,
          null,
          0.5758020221183904,
          0.07580563243808698,
          null,
          0.5758020221183904,
          0.3098608282990672,
          null,
          0.4366257345343721,
          0.2011377975533796,
          null,
          0.2011377975533796,
          0.07580563243808698,
          null,
          0.5264937791063489,
          0.07580563243808698,
          null,
          0.5264937791063489,
          0.6119441135196012,
          null,
          0.1924375103132063,
          -0.2906116623353299,
          null,
          0.1924375103132063,
          0.07580563243808698,
          null,
          0.26403459727019113,
          0.07580563243808698,
          null,
          -0.0585572437625826,
          0.19835163878008324,
          null,
          -0.0027997359320379362,
          0.596707129149149,
          null,
          0.27031477671700055,
          0.3211377636400436,
          null
         ],
         "z": [
          -0.8182705781658788,
          -0.07517789776528484,
          null,
          -0.07517789776528484,
          0.023290042022857223,
          null,
          -0.20759462687961322,
          0.5211099634060348,
          null,
          -0.20759462687961322,
          0.023290042022857223,
          null,
          0.023290042022857223,
          0.2711184831328015,
          null,
          0.023290042022857223,
          -0.20574999985927162,
          null,
          0.023290042022857223,
          0.5324242127305037,
          null,
          0.023290042022857223,
          0.3474547175871409,
          null,
          0.023290042022857223,
          -0.6215474485721905,
          null,
          0.023290042022857223,
          0.4946354408638725,
          null,
          0.023290042022857223,
          0.8473575072341815,
          null,
          0.023290042022857223,
          0.7227406196844356,
          null,
          0.023290042022857223,
          -0.6324448883647457,
          null,
          0.023290042022857223,
          0.002121900162297569,
          null,
          0.023290042022857223,
          -0.6393948143304466,
          null,
          0.1226824483892625,
          -0.06785479374102683,
          null,
          -0.06785479374102683,
          0.023290042022857223,
          null,
          -0.5624738844141766,
          0.8473575072341815,
          null,
          -0.13890355577902308,
          0.023290042022857223,
          null,
          -0.13890355577902308,
          -0.17396303131320534,
          null,
          -0.658445170154457,
          0.17305828111041593,
          null,
          0.17305828111041593,
          0.023290042022857223,
          null,
          -0.581249266718995,
          -0.6768277021110366,
          null,
          -0.581249266718995,
          0.023290042022857223,
          null,
          -0.4374709750562501,
          -0.2543746333924107,
          null,
          -0.2543746333924107,
          0.023290042022857223,
          null,
          -0.39064266733456765,
          -0.6324448883647457,
          null,
          -0.34044657456920124,
          -0.03696508293785034,
          null,
          -0.03696508293785034,
          0.023290042022857223,
          null,
          -0.5417881911381598,
          0.023290042022857223,
          null,
          0.34655889245619537,
          0.23592860387591916,
          null,
          0.34655889245619537,
          0.023290042022857223,
          null,
          -0.8930268804252413,
          -0.44542235657498985,
          null,
          -0.44542235657498985,
          0.023290042022857223,
          null,
          0.784314634149877,
          0.2401933436342658,
          null,
          0.2401933436342658,
          0.023290042022857223,
          null,
          -0.5221018461073468,
          -0.6393948143304466,
          null,
          0.15374627541807862,
          0.002121900162297569,
          null,
          -0.26632719790246934,
          -0.3331520588630722,
          null,
          -0.26632719790246934,
          0.023290042022857223,
          null,
          -0.41145910849462836,
          -0.6215474485721905,
          null,
          0.6074414948721801,
          -0.19804011529152685,
          null,
          -0.19804011529152685,
          0.023290042022857223,
          null,
          0.23267356419467466,
          0.023290042022857223,
          null,
          0.23267356419467466,
          0.7234505522575414,
          null,
          0.15468546118992865,
          -0.15441954917491424,
          null,
          -0.15441954917491424,
          0.023290042022857223,
          null,
          0.25291814468146223,
          0.2711184831328015,
          null,
          -0.1010494797086084,
          -0.7654389459203346,
          null,
          -0.1010494797086084,
          0.023290042022857223,
          null,
          0.5179716249433624,
          0.14512612232435282,
          null,
          0.14512612232435282,
          0.023290042022857223,
          null,
          0.3100962966650012,
          0.03975663893164359,
          null,
          0.03975663893164359,
          0.023290042022857223,
          null,
          0.448140189234644,
          0.8241093202192712,
          null,
          0.448140189234644,
          0.023290042022857223,
          null,
          -0.4274482850093458,
          -0.02755037737385708,
          null,
          -0.02755037737385708,
          0.023290042022857223,
          null,
          0.16691710436701132,
          0.3629545553115772,
          null,
          0.3629545553115772,
          0.023290042022857223,
          null,
          -0.1406894660636743,
          -0.0055803248970153424,
          null,
          -0.1406894660636743,
          0.023290042022857223,
          null,
          0.3596342173128923,
          0.6872865253955128,
          null,
          0.3596342173128923,
          0.023290042022857223,
          null,
          -0.018236822842414565,
          0.023290042022857223,
          null,
          -0.018236822842414565,
          -0.7108878885859153,
          null,
          -0.018236822842414565,
          0.6456660042104894,
          null,
          -0.10815751632978486,
          0.059552436137340466,
          null,
          0.059552436137340466,
          0.023290042022857223,
          null,
          0.4727789189666426,
          0.023290042022857223,
          null,
          0.6100195039333655,
          0.16838238585157786,
          null,
          0.6100195039333655,
          0.023290042022857223,
          null,
          -0.13749182659339237,
          0.023290042022857223,
          null,
          -0.13749182659339237,
          0.4111803029899963,
          null,
          0.4019604741846481,
          -0.32591580808704174,
          null,
          -0.32591580808704174,
          0.023290042022857223,
          null,
          0.30878366492206416,
          0.4203430146825633,
          null,
          0.4203430146825633,
          0.023290042022857223,
          null,
          -0.1708770541477147,
          0.3474547175871409,
          null,
          -0.05832142816104219,
          -0.6181542610033193,
          null,
          -0.05832142816104219,
          0.023290042022857223,
          null,
          0.4359730010905519,
          0.023290042022857223,
          null,
          0.4359730010905519,
          0.3331456478175654,
          null,
          0.6048783507431362,
          0.8473575072341815,
          null,
          -0.1161204424165682,
          -0.20919152127159,
          null,
          -0.20919152127159,
          0.023290042022857223,
          null,
          0.2601969867457423,
          0.35343111870853455,
          null,
          0.35343111870853455,
          0.023290042022857223,
          null,
          -0.02430216668379135,
          0.023290042022857223,
          null,
          -0.02430216668379135,
          0.23673473381222754,
          null,
          0.23588668192534423,
          0.4076575785340674,
          null,
          0.4076575785340674,
          0.023290042022857223,
          null,
          -0.6369300372368412,
          0.10097105164104492,
          null,
          0.10097105164104492,
          0.023290042022857223,
          null,
          -0.4177292835782856,
          0.023290042022857223,
          null,
          -0.4177292835782856,
          -0.5318855302997277,
          null,
          0.06943196681065618,
          0.023290042022857223,
          null,
          0.2961837949472058,
          0.637395462689109,
          null,
          0.2961837949472058,
          0.023290042022857223,
          null,
          -0.12029726612499914,
          -0.2115935317408115,
          null,
          -0.12029726612499914,
          0.023290042022857223,
          null,
          0.02888644553645924,
          0.17934824758027526,
          null,
          0.02888644553645924,
          0.023290042022857223,
          null,
          -0.37436272290764283,
          -0.20574999985927162,
          null,
          -0.5364750243346931,
          0.023290042022857223,
          null,
          -0.5364750243346931,
          -0.9432328546340906,
          null,
          0.27578102385322134,
          0.023290042022857223,
          null,
          0.27578102385322134,
          0.70821624380009,
          null,
          -0.6811200010792717,
          -0.4910862941243509,
          null,
          -0.4910862941243509,
          0.023290042022857223,
          null,
          0.2532578707866059,
          0.023290042022857223,
          null,
          0.2532578707866059,
          0.6327657367243326,
          null,
          0.060346224912950094,
          0.3503961110733724,
          null,
          0.060346224912950094,
          0.023290042022857223,
          null,
          -0.7260291186392391,
          0.023290042022857223,
          null,
          0.7227406196844356,
          0.6899737317369501,
          null,
          -0.6980103969921958,
          0.4946354408638725,
          null,
          -0.6817213228877801,
          0.5324242127305037,
          null
         ]
        },
        {
         "hoverinfo": "text",
         "marker": {
          "color": [
           "salmon",
           "yellowgreen",
           "yellowgreen",
           "salmon",
           "salmon",
           "salmon",
           "yellowgreen",
           "salmon",
           "salmon",
           "yellowgreen",
           "salmon",
           "salmon",
           "salmon",
           "yellowgreen",
           "salmon",
           "salmon",
           "yellowgreen",
           "salmon",
           "yellowgreen",
           "salmon",
           "salmon",
           "salmon",
           "salmon",
           "salmon",
           "salmon",
           "salmon",
           "salmon",
           "yellowgreen",
           "salmon",
           "salmon",
           "salmon",
           "salmon",
           "yellowgreen",
           "salmon",
           "salmon",
           "salmon",
           "salmon",
           "salmon",
           "yellowgreen",
           "salmon",
           "salmon",
           "salmon",
           "salmon",
           "salmon",
           "yellowgreen",
           "salmon",
           "salmon",
           "salmon",
           "salmon",
           "yellowgreen",
           "yellowgreen",
           "salmon",
           "salmon",
           "salmon",
           "salmon",
           "salmon",
           "salmon",
           "salmon",
           "yellowgreen",
           "salmon",
           "yellowgreen",
           "salmon",
           "salmon",
           "salmon",
           "salmon",
           "salmon",
           "yellowgreen",
           "salmon",
           "salmon",
           "salmon",
           "salmon",
           "salmon",
           "salmon",
           "salmon",
           "salmon",
           "salmon",
           "salmon",
           "salmon",
           "salmon",
           "salmon",
           "salmon",
           "salmon",
           "yellowgreen",
           "salmon",
           "yellowgreen",
           "salmon",
           "salmon",
           "salmon",
           "salmon",
           "salmon",
           "salmon",
           "salmon",
           "salmon",
           "salmon",
           "salmon",
           "salmon",
           "yellowgreen",
           "salmon",
           "yellowgreen",
           "salmon",
           "salmon",
           "yellowgreen",
           "salmon",
           "salmon",
           "yellowgreen",
           "salmon",
           "salmon",
           "salmon",
           "salmon",
           "salmon",
           "salmon",
           "salmon",
           "salmon",
           "yellowgreen",
           "yellowgreen",
           "salmon",
           "salmon",
           "salmon",
           "salmon"
          ],
          "size": 5
         },
         "mode": "markers",
         "text": [
          "0x036ebb857382f757df7168c8316d6d7f079e94a0",
          "0x80ae049a59e1cd6b07ddf103e23b69414a939b75",
          "0x0782e3ff837b26302dccd96da20d158bfd44cc99",
          "0x1593f72e4e5ae93671b82a66fdcf14c01c6241d5",
          "0xab0a709a5b73b907a0e35f268cc9c292a94bdb82",
          "0x08d62288c52711bd278578e0164fcf1f0b7b0023",
          "0x5f3d479d1bcd97c837eadddd3acd3c9779d8a075",
          "0x09cadbae896b1649b7aa0d59fadc677b086514b6",
          "0xdfaed12da1e7ff5fb6014fce4397f63f4a301dc5",
          "0x0deb657aa45fb0c6385e55571e5477c801a71f4c",
          "0xcebc65bc417ecdfa9dc07b139bba6c88468b57be",
          "0x0df1ff0d0b0dc001caca95c5faa0b72bb43d1191",
          "0x706291f7aaf9810830d75e7a2cfb7d5985d3bf7b",
          "0x10655df136dc293c0372b28c3d894adf9bb42fad",
          "0x2e14556736c5d6665b94bb4adf2cedc65aeb7b56",
          "0x124f48724435d69435c5d96b10917398a039f979",
          "0x7442f8b2a91f4e50996d06e97bc3d843185f710b",
          "0x1255d9ccc4d7de1351e268270cdb0163bfac291c",
          "0xe292d47dafa3f74233d084886eac9790612a2edf",
          "0x18f2b18f812f571d3c51a3a865fc8f21dbd185e9",
          "0x86f7bd0fad63a6ee34f170dff0a0ed4866d4c687",
          "0x198bc1df1940017aead0885035dc2030b6cb3d61",
          "0x1c2784cceaa3de25f3651a907ff336c841d1088f",
          "0x645114c3481c7fce1a4b9d37873122d7f8ca3744",
          "0x1e2f4aec7a928725d764d50477a108904cc8d7a9",
          "0x423ccef961516e6dcbb0f61036cbefaa8d6901c8",
          "0x20c9aba1a324957c4f10f32e8301db4b75a555df",
          "0x648d67dbf485dd75da843ceb57c4bf6f1113c5b7",
          "0x20d1b22ef8b63fe4b23ed94f1c21ab024885bd3d",
          "0xf2d4a2426da88d0803a313bc25f617c35699ce44",
          "0x20d594732306f944d32f61fe32fa3be7973056a5",
          "0xf10dd76e8ced13fcbdaaa791128bea5652b1d38d",
          "0x216218cd3864585e6289016b3924bfca240c827f",
          "0x791d7dddcd0f1479b1be16f0520fb4cc30bc49d9",
          "0x22ebdf744d44d0dbd418346609f5e86a7a27cdff",
          "0xdb6c812f68bd5d9234979c05c76eeeb17277523c",
          "0x296fdaa2fc4d2adaf925322b6fab3a5d2f31b17e",
          "0x74de78c6a9cc60a7513e1d816b4578aa8f74b53f",
          "0x29fffd7dd2dbd15110243265cdbe229af3a272f3",
          "0xd49c4e454eac51e8e77cae2cd082c18fe953fa1b",
          "0x2d9bc85728d82ebf830b6392bced8aca18ad37dc",
          "0x90b027b7349c856080c94589bbe023b5e00f1fa0",
          "0x2ec583764e07e380bb4f3debfa2157b0903a91db",
          "0xb27181bae68682fbb5710e85dcdb2ad058217ab4",
          "0x3394864a012d4449ad035d301d50204e7c024843",
          "0xa3b5d1276308ff34b4cca82b48859abd05d685d2",
          "0x384bf3df918afa92afe7346865b679121221bebc",
          "0xa68cce33cffad1342adb5bc4f03b4f3123781c41",
          "0x3bcfaa628925e60404a0f434acf681c486932434",
          "0x410f1df172658da9e9bd4a6acb5ac546c550d85d",
          "0x3c4dcd41428018279d4e55a5bd3d748d28007fe3",
          "0x6282b29790a0c02ba2a17c53bc37da7926800b9d",
          "0x410b9ad61cf1c5ed879630684a1659abcd3d8b4b",
          "0x71a79fc2c86ce52b54759ee11f966b5fa9651e53",
          "0x41c23dfd5b68ec1b24be720abfc96a52cd789827",
          "0xa3c7986282705c231ea477709192ae0e2a287f04",
          "0x44fd3c80df61818f6595f361f19810c9af1150fc",
          "0x876f33c206abb995e9f639aa0001305e19d066ae",
          "0x4636947756d0c6ed856703b56bdb8936d753c109",
          "0x6d99ebc17f243fc28e4bfadcf2d7f191d69a8f3b",
          "0x473d6c804a4c9bc74a229f14dad1cb3969df1185",
          "0xcd2e4deebe553a16cd4f23c476558ebff66d7f1d",
          "0xe08304a3b40c5ac686a4f4ec5b8f4fced0af6b71",
          "0x4b7d6c15820ff42b44641cd81d26ff4c767fc76a",
          "0x9a1c527d00eb11730fc60a616c77b7d3cdf5aa4a",
          "0x4b7fbcad178f45d92bece909cbf7d879d20b93e7",
          "0x4fd1257c2ef3fcccf23f77896015afc85495fbe7",
          "0x98e4808d23b60434943b2751c5543945a5257c98",
          "0x528343128193cebbd9aac67d7b65d828272ab4c9",
          "0xe8e563c3a3a7134c1465c9a4e610ee6f0120a252",
          "0x54a341d4ffe9a2bb622b11cd60549d97b1516aa2",
          "0x6dda127f824ab15b02482d222a9107b5106ab9b4",
          "0x56f173b44f1569fa88e1b3050445f6bb71d1b997",
          "0xaa575e5a733128846a9fcf46bac2f980163719c3",
          "0x6013566492532f8d5499d16cdf8c81fa223bc272",
          "0xd3a1b39dd5d90ebc29b1fb2e2c68011dfc2881f8",
          "0x63c8a7812ff0122d84fd6b6ebafc8c92797da642",
          "0x6bca570cbf6552deb9d292249814b3efe3361742",
          "0x6d7de3a4bfccf475b72e981acca8c0c972160f33",
          "0xf33252ae8182c312bbed876e4f11398a87cddf44",
          "0x72061c572c62742291943e1339fe53dfb92ff0be",
          "0x730d28ed34dc3357cc571f6b3155c01112ea5202",
          "0x9b4e3973e6a9006d0fe4d23cbbfaaf479be50322",
          "0x730f8a25fa669d8b0d9e87ef418303510c471ba8",
          "0x8028a643a1b4e0fbd39ebd967bc5eb25a935feb3",
          "0x75a5cdf2576eb21c4c6b281cf24ae1e210462072",
          "0xde93c9d3fae678091739b3c09203b61e82c2b1db",
          "0x7e8f4c87a40c48bb8545355480a36114b7298684",
          "0xa564320160197296c96aadfe7931104d6039a00b",
          "0x84888354adb43648cd0f3ce74c967871f0ddbfbe",
          "0x88aa284bd40897b0cf8128122ce53129537c650b",
          "0x85d5368e5375763b1f760267cc8f37d015812906",
          "0xae3d531071d7dc209ddd7c520bbec6cfa12ed673",
          "0x8840fb9bffcd1ec99f001e905972004fc24dfaf5",
          "0x8b7651ed8081aed85cd68caf0780c03145cb72fa",
          "0x945432e053f573b51edb6948c81a003c0ca9a4e1",
          "0x8b7fd620b6ce69bd3e31d510f629c046a987d616",
          "0xa066d808a9ecc86130166e7f6ca851b819d78c73",
          "0x8e64cd75e8c3944eabdd4d7546c1e04606651087",
          "0xa39e055f450d5a3cae7083c0c051785704cbd596",
          "0x8fca66a5bef30cdab8bdde1451e91f77c347e5c3",
          "0xc5059352de6b263f75f30ad0f88b547e3a032576",
          "0x901fffe385d4db1a875326a0786f4fee5d00399d",
          "0xfefe400d86885908a079f0593a309fa7eb78d3bd",
          "0x9171b924bee43d5e2762df7090be4538082a086d",
          "0xae375513c5b047b6a7709aa3fa49181722a34958",
          "0x91a860f09b0984862f91589604a35c8ee2309495",
          "0xa47275ec3627ef1825442f12e39a8b61d9c28b1d",
          "0x91e08ca070a3ee4c301ebf440e5c3f7fe8a713ed",
          "0xecbcd019f38690a66b9015ad29a2100d25d94c23",
          "0x9dee5482a587be3debbea86172c153fd3db0dbf1",
          "0xa49f122d1c6e7929ccaa9430e784edbed28137eb",
          "0xa917005db52b08fb9b7d2cd9e8f95f34dc1dd14b",
          "0xc839585f4dcbd7e9dc79e6ca7e1e38f41b453ea7",
          "0xde378a60527125b8474dc71e07bb5a99c14f923b",
          "0xe160b155725f3d6f123109fde6202c2cab8363e0",
          "0xbf18c69feddc192df7522ab00ec8de6a1908ce3f",
          "0xc536a5bb8ee6fd097a2ef3dfe30473ba683c504c",
          "0xfe6827d14504e986ab54b9438e53f93457f22f66"
         ],
         "textfont": {
          "size": 5
         },
         "type": "scatter3d",
         "x": [
          -0.34717297710395695,
          0.5367236272557356,
          0.02051895085122011,
          -0.7136306507601418,
          0.053679642675315255,
          0.5014151498666445,
          0.374317876465496,
          -0.16082904667520453,
          0.251623885310272,
          -0.21252971580959726,
          -0.7542063528200397,
          -0.3926066469309176,
          -0.37488935379454164,
          -0.046454086096726875,
          0.27337268839836265,
          -0.40181110889996885,
          0.4112526454662818,
          -0.6777358647717838,
          0.00007046951795273043,
          -0.41259340202339184,
          -0.28817148336499593,
          -0.39766488857229887,
          -0.09210460320272564,
          0.42813818211546645,
          -0.010422739561811074,
          0.028505391837663596,
          0.48419088365159485,
          0.33660320831320456,
          -0.7178367696206935,
          -0.48528946297120684,
          -0.07469360142888172,
          -0.9003541446311613,
          -0.2622877802657192,
          0.15114665888382697,
          0.5248007012756591,
          -0.1749352460782927,
          0.19541490091711092,
          0.3033909104675234,
          0.35705381242523554,
          0.17443312111492623,
          -0.356261991938974,
          0.30044602425502887,
          0.8137562852501401,
          0.9096519075371972,
          -0.21836972594512785,
          0.0941865705840056,
          -0.2976037216353115,
          0.5107614654129451,
          -0.48182781510820033,
          -0.045604373304773196,
          -0.08366422061785463,
          -0.3438800972254158,
          0.7869639161383846,
          0.6044196769418977,
          0.620880162260504,
          0.3873384061534515,
          0.4373546051715381,
          0.7862008595392751,
          -0.2036323167028785,
          -0.6563482972034156,
          -0.42274229015341297,
          -0.6729215767584307,
          -0.4576849894383445,
          -0.12529153381569721,
          -0.38899753900956097,
          0.7753501968684456,
          -0.15409081118496706,
          -0.2664727304809898,
          0.1470548159993127,
          0.26579600862460623,
          0.4980025316014556,
          0.4034094403305881,
          0.7015950974298564,
          0.06881679378283623,
          -0.0474453500682328,
          0.37074229847933154,
          0.23137421144687903,
          -0.29979574664122827,
          -0.2882650324849312,
          -0.8492978462082899,
          -0.03668269442670861,
          0.07963532577588982,
          0.4933775708276891,
          -0.8092975954749543,
          0.10307723891031571,
          0.2647213325418828,
          0.8335089436394226,
          0.2953210740828591,
          -0.048334879262140334,
          0.4771515757549569,
          0.05613751515592528,
          -0.3007957424217133,
          -0.7446537065841343,
          -0.5671945696838261,
          0.2700392684577206,
          0.38505110937318626,
          -0.2502438335165513,
          -0.7541468296871908,
          -0.07194954782130433,
          0.08045681782989643,
          -0.6002823654942165,
          0.7711342750154762,
          0.22727653556701738,
          0.1966211826400508,
          -0.2800851481156286,
          -0.25890904128938674,
          -0.5390175626941481,
          0.17211675994924802,
          0.191216833876999,
          0.13593311174479433,
          -0.06717738977836951,
          -0.7527085698496092,
          0.6887494840396655,
          0.6379868007681159,
          -0.5284230995362568,
          0.33067485744473835,
          -0.578519265900644,
          0.44103002624857013,
          -0.5051318474147151
         ],
         "y": [
          0.0637808373698643,
          -0.01963075238133006,
          -0.023732496861624135,
          -0.5019617919249587,
          0.07580563243808698,
          -0.3166389574876561,
          0.18221391903294484,
          0.37529701037599617,
          0.15786748036434778,
          -0.06100151584212786,
          -0.707577884173909,
          0.11003170844851617,
          -0.17148435391937247,
          0.12755801691295143,
          0.6052740819401405,
          -0.8324270829604158,
          -0.015317508544912376,
          0.3427781630300209,
          0.635682628074016,
          0.7154133300303018,
          0.3695467602911555,
          -0.6846442042594992,
          -0.44450652263015233,
          -0.8798085600092674,
          -0.5451957047861382,
          -0.14674155406180228,
          0.08049194185037589,
          0.2158921535132127,
          0.10604263758169803,
          0.5423153874603405,
          0.507031958650266,
          -0.10034814117500598,
          0.00401275916626171,
          0.7478062079551016,
          -0.1342296938120238,
          -0.864858892130407,
          -0.3018959288569499,
          -0.3464983782340588,
          0.39783709564906555,
          0.3721302553142437,
          0.5306409230829657,
          0.497044346601709,
          -0.5970861414644619,
          0.081626200301627,
          -0.577092899507753,
          -0.6091357557778704,
          0.5097071197538927,
          0.45078155595105024,
          0.08440342208548826,
          0.5664863425379514,
          -0.08890698359008166,
          -0.253342348995209,
          -0.11031980311150871,
          0.30657038895785343,
          -0.7716214795775101,
          0.04322401743128852,
          -0.25897497190742097,
          -0.526143284908562,
          0.03047117610589906,
          -0.0793363218378875,
          -0.2503994325115681,
          -0.10735561199527605,
          -0.6822197071573197,
          -0.7663893683904387,
          0.1572256299833971,
          0.16795914944585214,
          -0.3357199991105184,
          -1,
          -0.4521537635351373,
          -0.8696844017883122,
          -0.36312300088981503,
          0.18156363508764398,
          -0.4151404190626662,
          -0.1689995588688291,
          -0.3269779759925512,
          0.6042736598304833,
          0.16413952379604663,
          0.5901557394807869,
          -0.07800665677605825,
          0.10589513682588142,
          0.562338292643201,
          0.8201090723345151,
          0.4121379379171719,
          0.24632584110248337,
          -0.4599412899239418,
          0.32340362801969724,
          -0.1840825921769854,
          -0.2984536275975997,
          0.40378873188894115,
          -0.38465534240960286,
          -0.3682107160895692,
          -0.05033718628159916,
          -0.37139099762441347,
          -0.907333308199746,
          -0.13593401223469836,
          0.5752361204830627,
          0.5493678272563755,
          0.5369953148195326,
          -0.11945524023590431,
          0.8109374701608885,
          -0.2678227500441621,
          -0.5746481249018827,
          -0.08835528123226848,
          -0.20324693854473486,
          0.5758020221183904,
          0.3098608282990672,
          0.4366257345343721,
          0.2011377975533796,
          0.5264937791063489,
          0.6119441135196012,
          0.1924375103132063,
          -0.2906116623353299,
          0.26403459727019113,
          0.3211377636400436,
          0.596707129149149,
          -0.0585572437625826,
          -0.0027997359320379362,
          0.27031477671700055,
          0.19835163878008324
         ],
         "z": [
          -0.8182705781658788,
          -0.07517789776528484,
          -0.20759462687961322,
          0.5211099634060348,
          0.023290042022857223,
          0.1226824483892625,
          -0.06785479374102683,
          -0.5624738844141766,
          0.8473575072341815,
          -0.13890355577902308,
          -0.17396303131320534,
          -0.658445170154457,
          0.17305828111041593,
          -0.581249266718995,
          -0.6768277021110366,
          -0.4374709750562501,
          -0.2543746333924107,
          -0.39064266733456765,
          -0.6324448883647457,
          -0.34044657456920124,
          -0.03696508293785034,
          -0.5417881911381598,
          0.34655889245619537,
          0.23592860387591916,
          -0.8930268804252413,
          -0.44542235657498985,
          0.784314634149877,
          0.2401933436342658,
          -0.5221018461073468,
          -0.6393948143304466,
          0.15374627541807862,
          0.002121900162297569,
          -0.26632719790246934,
          -0.3331520588630722,
          -0.41145910849462836,
          -0.6215474485721905,
          0.6074414948721801,
          -0.19804011529152685,
          0.23267356419467466,
          0.7234505522575414,
          0.15468546118992865,
          -0.15441954917491424,
          0.25291814468146223,
          0.2711184831328015,
          -0.1010494797086084,
          -0.7654389459203346,
          0.5179716249433624,
          0.14512612232435282,
          0.3100962966650012,
          0.03975663893164359,
          0.448140189234644,
          0.8241093202192712,
          -0.4274482850093458,
          -0.02755037737385708,
          0.16691710436701132,
          0.3629545553115772,
          -0.1406894660636743,
          -0.0055803248970153424,
          0.3596342173128923,
          0.6872865253955128,
          -0.018236822842414565,
          -0.7108878885859153,
          0.6456660042104894,
          -0.10815751632978486,
          0.059552436137340466,
          0.4727789189666426,
          0.6100195039333655,
          0.16838238585157786,
          -0.13749182659339237,
          0.4111803029899963,
          0.4019604741846481,
          -0.32591580808704174,
          0.30878366492206416,
          0.4203430146825633,
          -0.1708770541477147,
          0.3474547175871409,
          -0.05832142816104219,
          -0.6181542610033193,
          0.4359730010905519,
          0.3331456478175654,
          0.6048783507431362,
          -0.1161204424165682,
          -0.20919152127159,
          0.2601969867457423,
          0.35343111870853455,
          -0.02430216668379135,
          0.23673473381222754,
          0.23588668192534423,
          0.4076575785340674,
          -0.6369300372368412,
          0.10097105164104492,
          -0.4177292835782856,
          -0.5318855302997277,
          0.06943196681065618,
          0.2961837949472058,
          0.637395462689109,
          -0.12029726612499914,
          -0.2115935317408115,
          0.02888644553645924,
          0.17934824758027526,
          -0.37436272290764283,
          -0.20574999985927162,
          -0.5364750243346931,
          -0.9432328546340906,
          0.27578102385322134,
          0.70821624380009,
          -0.6811200010792717,
          -0.4910862941243509,
          0.2532578707866059,
          0.6327657367243326,
          0.060346224912950094,
          0.3503961110733724,
          -0.7260291186392391,
          0.5324242127305037,
          0.4946354408638725,
          0.7227406196844356,
          -0.6980103969921958,
          -0.6817213228877801,
          0.6899737317369501
         ]
        }
       ],
       "layout": {
        "height": 600,
        "scene": {
         "xaxis": {
          "showbackground": true,
          "tickfont": {
           "size": 10
          },
          "title": {
           "font": {
            "size": 10
           }
          }
         },
         "yaxis": {
          "showbackground": true,
          "tickfont": {
           "size": 10
          },
          "title": {
           "font": {
            "size": 10
           }
          }
         },
         "zaxis": {
          "showbackground": true,
          "tickfont": {
           "size": 10
          },
          "title": {
           "font": {
            "size": 10
           }
          }
         }
        },
        "showlegend": false,
        "template": {
         "data": {
          "bar": [
           {
            "error_x": {
             "color": "#2a3f5f"
            },
            "error_y": {
             "color": "#2a3f5f"
            },
            "marker": {
             "line": {
              "color": "#E5ECF6",
              "width": 0.5
             },
             "pattern": {
              "fillmode": "overlay",
              "size": 10,
              "solidity": 0.2
             }
            },
            "type": "bar"
           }
          ],
          "barpolar": [
           {
            "marker": {
             "line": {
              "color": "#E5ECF6",
              "width": 0.5
             },
             "pattern": {
              "fillmode": "overlay",
              "size": 10,
              "solidity": 0.2
             }
            },
            "type": "barpolar"
           }
          ],
          "carpet": [
           {
            "aaxis": {
             "endlinecolor": "#2a3f5f",
             "gridcolor": "white",
             "linecolor": "white",
             "minorgridcolor": "white",
             "startlinecolor": "#2a3f5f"
            },
            "baxis": {
             "endlinecolor": "#2a3f5f",
             "gridcolor": "white",
             "linecolor": "white",
             "minorgridcolor": "white",
             "startlinecolor": "#2a3f5f"
            },
            "type": "carpet"
           }
          ],
          "choropleth": [
           {
            "colorbar": {
             "outlinewidth": 0,
             "ticks": ""
            },
            "type": "choropleth"
           }
          ],
          "contour": [
           {
            "colorbar": {
             "outlinewidth": 0,
             "ticks": ""
            },
            "colorscale": [
             [
              0,
              "#0d0887"
             ],
             [
              0.1111111111111111,
              "#46039f"
             ],
             [
              0.2222222222222222,
              "#7201a8"
             ],
             [
              0.3333333333333333,
              "#9c179e"
             ],
             [
              0.4444444444444444,
              "#bd3786"
             ],
             [
              0.5555555555555556,
              "#d8576b"
             ],
             [
              0.6666666666666666,
              "#ed7953"
             ],
             [
              0.7777777777777778,
              "#fb9f3a"
             ],
             [
              0.8888888888888888,
              "#fdca26"
             ],
             [
              1,
              "#f0f921"
             ]
            ],
            "type": "contour"
           }
          ],
          "contourcarpet": [
           {
            "colorbar": {
             "outlinewidth": 0,
             "ticks": ""
            },
            "type": "contourcarpet"
           }
          ],
          "heatmap": [
           {
            "colorbar": {
             "outlinewidth": 0,
             "ticks": ""
            },
            "colorscale": [
             [
              0,
              "#0d0887"
             ],
             [
              0.1111111111111111,
              "#46039f"
             ],
             [
              0.2222222222222222,
              "#7201a8"
             ],
             [
              0.3333333333333333,
              "#9c179e"
             ],
             [
              0.4444444444444444,
              "#bd3786"
             ],
             [
              0.5555555555555556,
              "#d8576b"
             ],
             [
              0.6666666666666666,
              "#ed7953"
             ],
             [
              0.7777777777777778,
              "#fb9f3a"
             ],
             [
              0.8888888888888888,
              "#fdca26"
             ],
             [
              1,
              "#f0f921"
             ]
            ],
            "type": "heatmap"
           }
          ],
          "heatmapgl": [
           {
            "colorbar": {
             "outlinewidth": 0,
             "ticks": ""
            },
            "colorscale": [
             [
              0,
              "#0d0887"
             ],
             [
              0.1111111111111111,
              "#46039f"
             ],
             [
              0.2222222222222222,
              "#7201a8"
             ],
             [
              0.3333333333333333,
              "#9c179e"
             ],
             [
              0.4444444444444444,
              "#bd3786"
             ],
             [
              0.5555555555555556,
              "#d8576b"
             ],
             [
              0.6666666666666666,
              "#ed7953"
             ],
             [
              0.7777777777777778,
              "#fb9f3a"
             ],
             [
              0.8888888888888888,
              "#fdca26"
             ],
             [
              1,
              "#f0f921"
             ]
            ],
            "type": "heatmapgl"
           }
          ],
          "histogram": [
           {
            "marker": {
             "pattern": {
              "fillmode": "overlay",
              "size": 10,
              "solidity": 0.2
             }
            },
            "type": "histogram"
           }
          ],
          "histogram2d": [
           {
            "colorbar": {
             "outlinewidth": 0,
             "ticks": ""
            },
            "colorscale": [
             [
              0,
              "#0d0887"
             ],
             [
              0.1111111111111111,
              "#46039f"
             ],
             [
              0.2222222222222222,
              "#7201a8"
             ],
             [
              0.3333333333333333,
              "#9c179e"
             ],
             [
              0.4444444444444444,
              "#bd3786"
             ],
             [
              0.5555555555555556,
              "#d8576b"
             ],
             [
              0.6666666666666666,
              "#ed7953"
             ],
             [
              0.7777777777777778,
              "#fb9f3a"
             ],
             [
              0.8888888888888888,
              "#fdca26"
             ],
             [
              1,
              "#f0f921"
             ]
            ],
            "type": "histogram2d"
           }
          ],
          "histogram2dcontour": [
           {
            "colorbar": {
             "outlinewidth": 0,
             "ticks": ""
            },
            "colorscale": [
             [
              0,
              "#0d0887"
             ],
             [
              0.1111111111111111,
              "#46039f"
             ],
             [
              0.2222222222222222,
              "#7201a8"
             ],
             [
              0.3333333333333333,
              "#9c179e"
             ],
             [
              0.4444444444444444,
              "#bd3786"
             ],
             [
              0.5555555555555556,
              "#d8576b"
             ],
             [
              0.6666666666666666,
              "#ed7953"
             ],
             [
              0.7777777777777778,
              "#fb9f3a"
             ],
             [
              0.8888888888888888,
              "#fdca26"
             ],
             [
              1,
              "#f0f921"
             ]
            ],
            "type": "histogram2dcontour"
           }
          ],
          "mesh3d": [
           {
            "colorbar": {
             "outlinewidth": 0,
             "ticks": ""
            },
            "type": "mesh3d"
           }
          ],
          "parcoords": [
           {
            "line": {
             "colorbar": {
              "outlinewidth": 0,
              "ticks": ""
             }
            },
            "type": "parcoords"
           }
          ],
          "pie": [
           {
            "automargin": true,
            "type": "pie"
           }
          ],
          "scatter": [
           {
            "fillpattern": {
             "fillmode": "overlay",
             "size": 10,
             "solidity": 0.2
            },
            "type": "scatter"
           }
          ],
          "scatter3d": [
           {
            "line": {
             "colorbar": {
              "outlinewidth": 0,
              "ticks": ""
             }
            },
            "marker": {
             "colorbar": {
              "outlinewidth": 0,
              "ticks": ""
             }
            },
            "type": "scatter3d"
           }
          ],
          "scattercarpet": [
           {
            "marker": {
             "colorbar": {
              "outlinewidth": 0,
              "ticks": ""
             }
            },
            "type": "scattercarpet"
           }
          ],
          "scattergeo": [
           {
            "marker": {
             "colorbar": {
              "outlinewidth": 0,
              "ticks": ""
             }
            },
            "type": "scattergeo"
           }
          ],
          "scattergl": [
           {
            "marker": {
             "colorbar": {
              "outlinewidth": 0,
              "ticks": ""
             }
            },
            "type": "scattergl"
           }
          ],
          "scattermapbox": [
           {
            "marker": {
             "colorbar": {
              "outlinewidth": 0,
              "ticks": ""
             }
            },
            "type": "scattermapbox"
           }
          ],
          "scatterpolar": [
           {
            "marker": {
             "colorbar": {
              "outlinewidth": 0,
              "ticks": ""
             }
            },
            "type": "scatterpolar"
           }
          ],
          "scatterpolargl": [
           {
            "marker": {
             "colorbar": {
              "outlinewidth": 0,
              "ticks": ""
             }
            },
            "type": "scatterpolargl"
           }
          ],
          "scatterternary": [
           {
            "marker": {
             "colorbar": {
              "outlinewidth": 0,
              "ticks": ""
             }
            },
            "type": "scatterternary"
           }
          ],
          "surface": [
           {
            "colorbar": {
             "outlinewidth": 0,
             "ticks": ""
            },
            "colorscale": [
             [
              0,
              "#0d0887"
             ],
             [
              0.1111111111111111,
              "#46039f"
             ],
             [
              0.2222222222222222,
              "#7201a8"
             ],
             [
              0.3333333333333333,
              "#9c179e"
             ],
             [
              0.4444444444444444,
              "#bd3786"
             ],
             [
              0.5555555555555556,
              "#d8576b"
             ],
             [
              0.6666666666666666,
              "#ed7953"
             ],
             [
              0.7777777777777778,
              "#fb9f3a"
             ],
             [
              0.8888888888888888,
              "#fdca26"
             ],
             [
              1,
              "#f0f921"
             ]
            ],
            "type": "surface"
           }
          ],
          "table": [
           {
            "cells": {
             "fill": {
              "color": "#EBF0F8"
             },
             "line": {
              "color": "white"
             }
            },
            "header": {
             "fill": {
              "color": "#C8D4E3"
             },
             "line": {
              "color": "white"
             }
            },
            "type": "table"
           }
          ]
         },
         "layout": {
          "annotationdefaults": {
           "arrowcolor": "#2a3f5f",
           "arrowhead": 0,
           "arrowwidth": 1
          },
          "autotypenumbers": "strict",
          "coloraxis": {
           "colorbar": {
            "outlinewidth": 0,
            "ticks": ""
           }
          },
          "colorscale": {
           "diverging": [
            [
             0,
             "#8e0152"
            ],
            [
             0.1,
             "#c51b7d"
            ],
            [
             0.2,
             "#de77ae"
            ],
            [
             0.3,
             "#f1b6da"
            ],
            [
             0.4,
             "#fde0ef"
            ],
            [
             0.5,
             "#f7f7f7"
            ],
            [
             0.6,
             "#e6f5d0"
            ],
            [
             0.7,
             "#b8e186"
            ],
            [
             0.8,
             "#7fbc41"
            ],
            [
             0.9,
             "#4d9221"
            ],
            [
             1,
             "#276419"
            ]
           ],
           "sequential": [
            [
             0,
             "#0d0887"
            ],
            [
             0.1111111111111111,
             "#46039f"
            ],
            [
             0.2222222222222222,
             "#7201a8"
            ],
            [
             0.3333333333333333,
             "#9c179e"
            ],
            [
             0.4444444444444444,
             "#bd3786"
            ],
            [
             0.5555555555555556,
             "#d8576b"
            ],
            [
             0.6666666666666666,
             "#ed7953"
            ],
            [
             0.7777777777777778,
             "#fb9f3a"
            ],
            [
             0.8888888888888888,
             "#fdca26"
            ],
            [
             1,
             "#f0f921"
            ]
           ],
           "sequentialminus": [
            [
             0,
             "#0d0887"
            ],
            [
             0.1111111111111111,
             "#46039f"
            ],
            [
             0.2222222222222222,
             "#7201a8"
            ],
            [
             0.3333333333333333,
             "#9c179e"
            ],
            [
             0.4444444444444444,
             "#bd3786"
            ],
            [
             0.5555555555555556,
             "#d8576b"
            ],
            [
             0.6666666666666666,
             "#ed7953"
            ],
            [
             0.7777777777777778,
             "#fb9f3a"
            ],
            [
             0.8888888888888888,
             "#fdca26"
            ],
            [
             1,
             "#f0f921"
            ]
           ]
          },
          "colorway": [
           "#636efa",
           "#EF553B",
           "#00cc96",
           "#ab63fa",
           "#FFA15A",
           "#19d3f3",
           "#FF6692",
           "#B6E880",
           "#FF97FF",
           "#FECB52"
          ],
          "font": {
           "color": "#2a3f5f"
          },
          "geo": {
           "bgcolor": "white",
           "lakecolor": "white",
           "landcolor": "#E5ECF6",
           "showlakes": true,
           "showland": true,
           "subunitcolor": "white"
          },
          "hoverlabel": {
           "align": "left"
          },
          "hovermode": "closest",
          "mapbox": {
           "style": "light"
          },
          "paper_bgcolor": "white",
          "plot_bgcolor": "#E5ECF6",
          "polar": {
           "angularaxis": {
            "gridcolor": "white",
            "linecolor": "white",
            "ticks": ""
           },
           "bgcolor": "#E5ECF6",
           "radialaxis": {
            "gridcolor": "white",
            "linecolor": "white",
            "ticks": ""
           }
          },
          "scene": {
           "xaxis": {
            "backgroundcolor": "#E5ECF6",
            "gridcolor": "white",
            "gridwidth": 2,
            "linecolor": "white",
            "showbackground": true,
            "ticks": "",
            "zerolinecolor": "white"
           },
           "yaxis": {
            "backgroundcolor": "#E5ECF6",
            "gridcolor": "white",
            "gridwidth": 2,
            "linecolor": "white",
            "showbackground": true,
            "ticks": "",
            "zerolinecolor": "white"
           },
           "zaxis": {
            "backgroundcolor": "#E5ECF6",
            "gridcolor": "white",
            "gridwidth": 2,
            "linecolor": "white",
            "showbackground": true,
            "ticks": "",
            "zerolinecolor": "white"
           }
          },
          "shapedefaults": {
           "line": {
            "color": "#2a3f5f"
           }
          },
          "ternary": {
           "aaxis": {
            "gridcolor": "white",
            "linecolor": "white",
            "ticks": ""
           },
           "baxis": {
            "gridcolor": "white",
            "linecolor": "white",
            "ticks": ""
           },
           "bgcolor": "#E5ECF6",
           "caxis": {
            "gridcolor": "white",
            "linecolor": "white",
            "ticks": ""
           }
          },
          "title": {
           "x": 0.05
          },
          "xaxis": {
           "automargin": true,
           "gridcolor": "white",
           "linecolor": "white",
           "ticks": "",
           "title": {
            "standoff": 15
           },
           "zerolinecolor": "white",
           "zerolinewidth": 2
          },
          "yaxis": {
           "automargin": true,
           "gridcolor": "white",
           "linecolor": "white",
           "ticks": "",
           "title": {
            "standoff": 15
           },
           "zerolinecolor": "white",
           "zerolinewidth": 2
          }
         }
        },
        "width": 600
       }
      }
     },
     "metadata": {},
     "output_type": "display_data"
    }
   ],
   "source": [
    "community_visualization_3d(plot_community_df, core_wallet_lst, weight_=600, height_=600)"
   ]
  },
  {
   "cell_type": "markdown",
   "metadata": {},
   "source": [
    "# Get clustering variables"
   ]
  },
  {
   "cell_type": "markdown",
   "metadata": {},
   "source": [
    "## Community Data\n",
    "\n",
    "Calculate how many wallets each wallet has interacted with within the community"
   ]
  },
  {
   "cell_type": "code",
   "execution_count": 997,
   "metadata": {},
   "outputs": [],
   "source": [
    "def columns_item_sum(df_, cols=[\"node_a\", \"node_b\"], sum_col=\"tx_count\"):\n",
    "    all_elements = pd.concat(\n",
    "        [\n",
    "            df_[[cols[0], sum_col]].rename(columns={cols[0]: \"index\"}),\n",
    "            df_[[cols[1], sum_col]].rename(columns={cols[1]: \"index\"}),\n",
    "        ]\n",
    "    )\n",
    "\n",
    "    # Group by wallet and sum the transaction count\n",
    "    df_sum_ = all_elements.groupby(\"index\")[sum_col].sum().reset_index()\n",
    "    return df_sum_"
   ]
  },
  {
   "cell_type": "code",
   "execution_count": 998,
   "metadata": {},
   "outputs": [],
   "source": [
    "# def clustering_community_info(w_lst, weight_df_=weight_df, sum_col_=\"tx_count\"):\n",
    "#     w_set = set(w_lst)\n",
    "#     internal_weight_df = weight_df_[\n",
    "#         weight_df_[\"node_a\"].apply(w_set.__contains__) & weight_df_[\"node_b\"].apply(w_set.__contains__)\n",
    "#     ]\n",
    "\n",
    "#     # Count the number of wallets each wallet interacts with\n",
    "#     wallet_internal_tx_wallet_df = (\n",
    "#         internal_weight_df.groupby(\"node_a\")[\"node_b\"].nunique()\n",
    "#         .reset_index()\n",
    "#         .rename(columns={\"node_a\": \"wallet\", \"node_b\": \"commu_tx_wallets\"})\n",
    "#     )\n",
    "\n",
    "#     # Compute the sum of transactions for each wallet\n",
    "#     wallet_internal_tx_count_df = (\n",
    "#         internal_weight_df.groupby(\"node_a\")[sum_col_].sum()\n",
    "#         .reset_index()\n",
    "#         .rename(columns={\"node_a\": \"wallet\", sum_col_: \"commu_tx_count\"})\n",
    "#     )\n",
    "\n",
    "#     # merge the two dataframes\n",
    "#     wallet_internal_tx_wallet_df.set_index(\"wallet\", inplace=True)\n",
    "#     wallet_internal_tx_count_df.set_index(\"wallet\", inplace=True)\n",
    "\n",
    "#     wallet_internal_interaction_df = wallet_internal_tx_wallet_df.join(wallet_internal_tx_count_df)\n",
    "\n",
    "#     return wallet_internal_interaction_df"
   ]
  },
  {
   "cell_type": "code",
   "execution_count": 999,
   "metadata": {},
   "outputs": [],
   "source": [
    "def clustering_community_info(w_lst, weight_df_, sum_col_=\"tx_count\"):\n",
    "    w_set = set(w_lst)\n",
    "    # Filter rows where either node_a or node_b is in the wallet list\n",
    "    filtered_df = weight_df_[\n",
    "        weight_df_[\"node_a\"].isin(w_set) & weight_df_[\"node_b\"].isin(w_set)\n",
    "    ]\n",
    "\n",
    "    # Combine node_a and node_b into a unified wallet-centric view\n",
    "    wallet_interactions = pd.concat(\n",
    "        [\n",
    "            filtered_df[[\"node_a\", \"node_b\", sum_col_]].rename(\n",
    "                columns={\"node_a\": \"wallet\", \"node_b\": \"connected_wallet\"}\n",
    "            ),\n",
    "            filtered_df[[\"node_b\", \"node_a\", sum_col_]].rename(\n",
    "                columns={\"node_b\": \"wallet\", \"node_a\": \"connected_wallet\"}\n",
    "            ),\n",
    "        ]\n",
    "    )\n",
    "\n",
    "    # Group by wallet to calculate unique connected wallets and transaction sums\n",
    "    result = (\n",
    "        wallet_interactions.groupby(\"wallet\")\n",
    "        .agg(\n",
    "            commu_tx_wallets=(\"connected_wallet\", \"nunique\"),\n",
    "            commu_tx_count=(sum_col_, \"sum\"),\n",
    "        )\n",
    "        .reset_index()\n",
    "    )\n",
    "\n",
    "    return result.set_index(\"wallet\")"
   ]
  },
  {
   "cell_type": "code",
   "execution_count": 1000,
   "metadata": {},
   "outputs": [
    {
     "name": "stdout",
     "output_type": "stream",
     "text": [
      "Community 0\n",
      "Community 1000\n",
      "Community 2000\n",
      "Community 3000\n",
      "Community 4000\n",
      "Community 5000\n",
      "Community 6000\n",
      "Community 7000\n",
      "Community 8000\n",
      "Community 9000\n",
      "Community 10000\n",
      "Community 11000\n",
      "Community 12000\n",
      "Community 13000\n",
      "Community 14000\n",
      "Community 15000\n",
      "Community 16000\n",
      "Community 17000\n",
      "Community 18000\n",
      "Community 19000\n",
      "Community 20000\n"
     ]
    }
   ],
   "source": [
    "clustering_community_df = pd.DataFrame()\n",
    "for i, commu in enumerate(louvain_community_lst):\n",
    "    if len(commu) < 2:\n",
    "        continue\n",
    "    if i % 1000 == 0:\n",
    "        print(f\"Community {i}\")\n",
    "    commu_df = clustering_community_info(commu, weight_df_=weight_df, sum_col_=\"count\")\n",
    "    clustering_community_df = pd.concat([clustering_community_df, commu_df])"
   ]
  },
  {
   "cell_type": "code",
   "execution_count": 1001,
   "metadata": {},
   "outputs": [
    {
     "data": {
      "text/html": [
       "<div>\n",
       "<style scoped>\n",
       "    .dataframe tbody tr th:only-of-type {\n",
       "        vertical-align: middle;\n",
       "    }\n",
       "\n",
       "    .dataframe tbody tr th {\n",
       "        vertical-align: top;\n",
       "    }\n",
       "\n",
       "    .dataframe thead th {\n",
       "        text-align: right;\n",
       "    }\n",
       "</style>\n",
       "<table border=\"1\" class=\"dataframe\">\n",
       "  <thead>\n",
       "    <tr style=\"text-align: right;\">\n",
       "      <th></th>\n",
       "      <th>commu_tx_wallets</th>\n",
       "      <th>commu_tx_count</th>\n",
       "    </tr>\n",
       "    <tr>\n",
       "      <th>wallet</th>\n",
       "      <th></th>\n",
       "      <th></th>\n",
       "    </tr>\n",
       "  </thead>\n",
       "  <tbody>\n",
       "    <tr>\n",
       "      <th>0x0007a38c181526f287832e1474bcb4fb7837e060</th>\n",
       "      <td>1</td>\n",
       "      <td>1</td>\n",
       "    </tr>\n",
       "    <tr>\n",
       "      <th>0x18748fef4886deee7e807a7d731ac1a53c9de5c3</th>\n",
       "      <td>1</td>\n",
       "      <td>1</td>\n",
       "    </tr>\n",
       "    <tr>\n",
       "      <th>0xe42242deed76ec721af23b9ec37e7daa0125a7d8</th>\n",
       "      <td>1</td>\n",
       "      <td>1</td>\n",
       "    </tr>\n",
       "    <tr>\n",
       "      <th>0xe1833c974efd4271ba36f0e385ee9590144ae912</th>\n",
       "      <td>1</td>\n",
       "      <td>1</td>\n",
       "    </tr>\n",
       "    <tr>\n",
       "      <th>0xd11fc2dbffdca08e6211c1f456e6f36a41ea27d7</th>\n",
       "      <td>1</td>\n",
       "      <td>1</td>\n",
       "    </tr>\n",
       "    <tr>\n",
       "      <th>...</th>\n",
       "      <td>...</td>\n",
       "      <td>...</td>\n",
       "    </tr>\n",
       "    <tr>\n",
       "      <th>0x585e318d505764c2590b1c576d5f36cd12438edb</th>\n",
       "      <td>93</td>\n",
       "      <td>822</td>\n",
       "    </tr>\n",
       "    <tr>\n",
       "      <th>0xc444949e0054a23c44fc45789738bdf64aed2391</th>\n",
       "      <td>255</td>\n",
       "      <td>831</td>\n",
       "    </tr>\n",
       "    <tr>\n",
       "      <th>0xf5ceaa6b42c0eef37b0cc9f5a1dbc559df0a3509</th>\n",
       "      <td>1</td>\n",
       "      <td>862</td>\n",
       "    </tr>\n",
       "    <tr>\n",
       "      <th>0x716759e8ab31cdb4bca2f693a979b23e6020d4bb</th>\n",
       "      <td>2</td>\n",
       "      <td>871</td>\n",
       "    </tr>\n",
       "    <tr>\n",
       "      <th>0xfa086458ba040afea1a3984fba2aa570c0d95611</th>\n",
       "      <td>365</td>\n",
       "      <td>890</td>\n",
       "    </tr>\n",
       "  </tbody>\n",
       "</table>\n",
       "<p>181127 rows × 2 columns</p>\n",
       "</div>"
      ],
      "text/plain": [
       "                                            commu_tx_wallets  commu_tx_count\n",
       "wallet                                                                      \n",
       "0x0007a38c181526f287832e1474bcb4fb7837e060                 1               1\n",
       "0x18748fef4886deee7e807a7d731ac1a53c9de5c3                 1               1\n",
       "0xe42242deed76ec721af23b9ec37e7daa0125a7d8                 1               1\n",
       "0xe1833c974efd4271ba36f0e385ee9590144ae912                 1               1\n",
       "0xd11fc2dbffdca08e6211c1f456e6f36a41ea27d7                 1               1\n",
       "...                                                      ...             ...\n",
       "0x585e318d505764c2590b1c576d5f36cd12438edb                93             822\n",
       "0xc444949e0054a23c44fc45789738bdf64aed2391               255             831\n",
       "0xf5ceaa6b42c0eef37b0cc9f5a1dbc559df0a3509                 1             862\n",
       "0x716759e8ab31cdb4bca2f693a979b23e6020d4bb                 2             871\n",
       "0xfa086458ba040afea1a3984fba2aa570c0d95611               365             890\n",
       "\n",
       "[181127 rows x 2 columns]"
      ]
     },
     "execution_count": 1001,
     "metadata": {},
     "output_type": "execute_result"
    }
   ],
   "source": [
    "clustering_community_df.sort_values(\"commu_tx_count\")"
   ]
  },
  {
   "cell_type": "markdown",
   "metadata": {},
   "source": [
    "## Trino data "
   ]
  },
  {
   "cell_type": "markdown",
   "metadata": {},
   "source": [
    "\"xxx_address_monthly_stats_full\"\n",
    "- address active days\n",
    "- total gas fee in usd\n",
    "- number of transaction\n",
    "- wallets interacted\n",
    "- last transaction time\n",
    "\n",
    "-- \n",
    "\n",
    "(function is done but not sure if should use due to computational power required)\n",
    "\n",
    "\"xxx_address_last_stats_full\"\n",
    "- number of token types on different chains (ETH on Polygon and ETH on ethereum are different)\n",
    "\n",
    "--\n",
    "\n",
    "\"xxx_token_transfers_full\" (not yet given the computational power required)\n",
    "- interval in second\n",
    "\n",
    "\n"
   ]
  },
  {
   "cell_type": "code",
   "execution_count": 1002,
   "metadata": {},
   "outputs": [],
   "source": [
    "def clustering_trino_info_fetch(w_lst, start_date_, end_date_):\n",
    "    clustering_info = wallets_monthly_info(w_lst, start_date_, end_date_)\n",
    "    clustering_info_df = pd.DataFrame(clustering_info).T\n",
    "    clustering_info_df.columns = trino_data_column_names\n",
    "    return clustering_info_df"
   ]
  },
  {
   "cell_type": "code",
   "execution_count": 1003,
   "metadata": {},
   "outputs": [],
   "source": [
    "def clustering_trino_info(\n",
    "    w_lst, start_date_, end_date_, existing_df_=None, write_to_path=None\n",
    "):\n",
    "    if existing_df_ is not None:\n",
    "        existing_df_ = existing_df_[existing_df_.index.isin(w_lst)]\n",
    "        # fetch for the missing wallets\n",
    "        missing_lst = refine_lst(w_lst, existing_df_.index.tolist())\n",
    "        if missing_lst:\n",
    "            missing_df = clustering_trino_info_fetch(\n",
    "                missing_lst, start_date_, end_date_\n",
    "            )\n",
    "            if write_to_path:\n",
    "                write_to_file_name = os.path.join(\n",
    "                    write_to_path, f\"clustering_trino_{missing_df.index[0]}.csv\"\n",
    "                )\n",
    "                missing_df.to_csv(write_to_file_name, index=True)\n",
    "            return pd.concat([existing_df_, missing_df])\n",
    "        else:\n",
    "            return existing_df_\n",
    "    else:\n",
    "        return clustering_trino_info_fetch(w_lst, start_date_, end_date_)"
   ]
  },
  {
   "cell_type": "markdown",
   "metadata": {},
   "source": [
    "### Combine data from two sources"
   ]
  },
  {
   "cell_type": "code",
   "execution_count": 1004,
   "metadata": {},
   "outputs": [],
   "source": [
    "def clustering_info(\n",
    "    w_lst, start_date_, end_date_, existing_df_=None, write_to_path=None\n",
    "):\n",
    "    internal_info = clustering_community_info(w_lst)\n",
    "    trino_info = clustering_trino_info(\n",
    "        w_lst,\n",
    "        start_date_,\n",
    "        end_date_,\n",
    "        existing_df_=existing_df_,\n",
    "        write_to_path=write_to_path,\n",
    "    )\n",
    "    clustering_info_df = internal_info.merge(\n",
    "        trino_info, left_index=True, right_index=True\n",
    "    )\n",
    "\n",
    "    return clustering_info_df"
   ]
  },
  {
   "cell_type": "markdown",
   "metadata": {},
   "source": [
    "## clustering_info_df"
   ]
  },
  {
   "cell_type": "code",
   "execution_count": 1005,
   "metadata": {},
   "outputs": [],
   "source": [
    "clustering_info_df = louvain_community_df.copy()\n",
    "# Merge community information\n",
    "clustering_info_df = clustering_info_df.merge(\n",
    "    clustering_community_df,\n",
    "    left_index=True,\n",
    "    right_index=True,\n",
    "    how=\"left\",\n",
    ")\n",
    "# merge trino information\n",
    "clustering_info_df = clustering_info_df.merge(\n",
    "    trino_monthly_df,\n",
    "    left_index=True,\n",
    "    right_index=True,\n",
    "    how=\"left\",\n",
    ")\n",
    "clustering_info_df.fillna(0, inplace=True)\n",
    "# Get its real type\n",
    "clustering_info_df[\"answer\"] = clustering_info_df.index.map(\n",
    "    lambda x: (\n",
    "        \"airdrop\"\n",
    "        if x in core_wallet_set\n",
    "        else \"sybil\" if x in sybil_wallet_set else \"not_sure\"\n",
    "    )\n",
    ")"
   ]
  },
  {
   "cell_type": "code",
   "execution_count": 1006,
   "metadata": {},
   "outputs": [
    {
     "data": {
      "text/html": [
       "<div>\n",
       "<style scoped>\n",
       "    .dataframe tbody tr th:only-of-type {\n",
       "        vertical-align: middle;\n",
       "    }\n",
       "\n",
       "    .dataframe tbody tr th {\n",
       "        vertical-align: top;\n",
       "    }\n",
       "\n",
       "    .dataframe thead th {\n",
       "        text-align: right;\n",
       "    }\n",
       "</style>\n",
       "<table border=\"1\" class=\"dataframe\">\n",
       "  <thead>\n",
       "    <tr style=\"text-align: right;\">\n",
       "      <th></th>\n",
       "      <th>community</th>\n",
       "      <th>type</th>\n",
       "      <th>commu_tx_wallets</th>\n",
       "      <th>commu_tx_count</th>\n",
       "      <th>gas_fee</th>\n",
       "      <th>total_txn</th>\n",
       "      <th>unique_tokens</th>\n",
       "      <th>last_txn_date</th>\n",
       "      <th>unique_active_days</th>\n",
       "      <th>answer</th>\n",
       "    </tr>\n",
       "  </thead>\n",
       "  <tbody>\n",
       "    <tr>\n",
       "      <th>0x0007a38c181526f287832e1474bcb4fb7837e060</th>\n",
       "      <td>0</td>\n",
       "      <td>normal</td>\n",
       "      <td>1.0</td>\n",
       "      <td>1.0</td>\n",
       "      <td>0.291198</td>\n",
       "      <td>7.0</td>\n",
       "      <td>2.0</td>\n",
       "      <td>2024-01-04</td>\n",
       "      <td>5.0</td>\n",
       "      <td>not_sure</td>\n",
       "    </tr>\n",
       "    <tr>\n",
       "      <th>0xdb2d78376960becbbb5010ab7502d2ee948b1a49</th>\n",
       "      <td>0</td>\n",
       "      <td>normal</td>\n",
       "      <td>695.0</td>\n",
       "      <td>720.0</td>\n",
       "      <td>63.328227</td>\n",
       "      <td>1107.0</td>\n",
       "      <td>1042.0</td>\n",
       "      <td>2024-06-20</td>\n",
       "      <td>30.0</td>\n",
       "      <td>airdrop</td>\n",
       "    </tr>\n",
       "    <tr>\n",
       "      <th>0x009f4aaa05a50142090fa07446a92af7834535fd</th>\n",
       "      <td>0</td>\n",
       "      <td>normal</td>\n",
       "      <td>1.0</td>\n",
       "      <td>1.0</td>\n",
       "      <td>0.291198</td>\n",
       "      <td>7.0</td>\n",
       "      <td>2.0</td>\n",
       "      <td>2024-01-04</td>\n",
       "      <td>5.0</td>\n",
       "      <td>not_sure</td>\n",
       "    </tr>\n",
       "    <tr>\n",
       "      <th>0x01d53d7131e8513b0bd2ff696bc7666334041e95</th>\n",
       "      <td>0</td>\n",
       "      <td>normal</td>\n",
       "      <td>1.0</td>\n",
       "      <td>1.0</td>\n",
       "      <td>0.291198</td>\n",
       "      <td>7.0</td>\n",
       "      <td>2.0</td>\n",
       "      <td>2024-01-04</td>\n",
       "      <td>5.0</td>\n",
       "      <td>not_sure</td>\n",
       "    </tr>\n",
       "    <tr>\n",
       "      <th>0x01e21d18af17f27b301af09330aabc7861e23b95</th>\n",
       "      <td>0</td>\n",
       "      <td>normal</td>\n",
       "      <td>1.0</td>\n",
       "      <td>1.0</td>\n",
       "      <td>0.291198</td>\n",
       "      <td>7.0</td>\n",
       "      <td>2.0</td>\n",
       "      <td>2024-01-04</td>\n",
       "      <td>5.0</td>\n",
       "      <td>not_sure</td>\n",
       "    </tr>\n",
       "  </tbody>\n",
       "</table>\n",
       "</div>"
      ],
      "text/plain": [
       "                                            community    type  \\\n",
       "0x0007a38c181526f287832e1474bcb4fb7837e060          0  normal   \n",
       "0xdb2d78376960becbbb5010ab7502d2ee948b1a49          0  normal   \n",
       "0x009f4aaa05a50142090fa07446a92af7834535fd          0  normal   \n",
       "0x01d53d7131e8513b0bd2ff696bc7666334041e95          0  normal   \n",
       "0x01e21d18af17f27b301af09330aabc7861e23b95          0  normal   \n",
       "\n",
       "                                            commu_tx_wallets  commu_tx_count  \\\n",
       "0x0007a38c181526f287832e1474bcb4fb7837e060               1.0             1.0   \n",
       "0xdb2d78376960becbbb5010ab7502d2ee948b1a49             695.0           720.0   \n",
       "0x009f4aaa05a50142090fa07446a92af7834535fd               1.0             1.0   \n",
       "0x01d53d7131e8513b0bd2ff696bc7666334041e95               1.0             1.0   \n",
       "0x01e21d18af17f27b301af09330aabc7861e23b95               1.0             1.0   \n",
       "\n",
       "                                              gas_fee  total_txn  \\\n",
       "0x0007a38c181526f287832e1474bcb4fb7837e060   0.291198        7.0   \n",
       "0xdb2d78376960becbbb5010ab7502d2ee948b1a49  63.328227     1107.0   \n",
       "0x009f4aaa05a50142090fa07446a92af7834535fd   0.291198        7.0   \n",
       "0x01d53d7131e8513b0bd2ff696bc7666334041e95   0.291198        7.0   \n",
       "0x01e21d18af17f27b301af09330aabc7861e23b95   0.291198        7.0   \n",
       "\n",
       "                                            unique_tokens last_txn_date  \\\n",
       "0x0007a38c181526f287832e1474bcb4fb7837e060            2.0    2024-01-04   \n",
       "0xdb2d78376960becbbb5010ab7502d2ee948b1a49         1042.0    2024-06-20   \n",
       "0x009f4aaa05a50142090fa07446a92af7834535fd            2.0    2024-01-04   \n",
       "0x01d53d7131e8513b0bd2ff696bc7666334041e95            2.0    2024-01-04   \n",
       "0x01e21d18af17f27b301af09330aabc7861e23b95            2.0    2024-01-04   \n",
       "\n",
       "                                            unique_active_days    answer  \n",
       "0x0007a38c181526f287832e1474bcb4fb7837e060                 5.0  not_sure  \n",
       "0xdb2d78376960becbbb5010ab7502d2ee948b1a49                30.0   airdrop  \n",
       "0x009f4aaa05a50142090fa07446a92af7834535fd                 5.0  not_sure  \n",
       "0x01d53d7131e8513b0bd2ff696bc7666334041e95                 5.0  not_sure  \n",
       "0x01e21d18af17f27b301af09330aabc7861e23b95                 5.0  not_sure  "
      ]
     },
     "execution_count": 1006,
     "metadata": {},
     "output_type": "execute_result"
    }
   ],
   "source": [
    "clustering_info_df.head()"
   ]
  },
  {
   "cell_type": "markdown",
   "metadata": {},
   "source": [
    "# Clustering"
   ]
  },
  {
   "cell_type": "markdown",
   "metadata": {},
   "source": [
    "**Why we scale data?**\n",
    "\n",
    "- If the dataset has features with vastly different scales (e.g., one feature ranges from 0 to 1, while another ranges from 0 to 1000), the feature with the larger scale will dominate the distance calculations. Normalizing data ensures that each feature contributes equally to the distance calculation. This is particularly important in multi-dimensional datasets where features may not have the same units or magnitude.\n",
    "\n",
    "- we used standardization (Z-Score Scaling): Scales features to have mean = 0 and standard deviation = 1."
   ]
  },
  {
   "cell_type": "code",
   "execution_count": 1007,
   "metadata": {},
   "outputs": [],
   "source": [
    "def isolation_forest(clustering_info_df, clustring_features, contamination_):\n",
    "    if contamination_ > 0.5:\n",
    "        clustering_info_df[\"isolation_forest\"] = -1\n",
    "        return clustering_info_df\n",
    "    # Normalize the data\n",
    "    scaler = StandardScaler()\n",
    "    scaled_features = scaler.fit_transform(clustering_info_df[clustring_features])\n",
    "\n",
    "    # Apply Isolation Forest\n",
    "    iso = IsolationForest(contamination=contamination_)  # Adjust contamination level\n",
    "    clustering_info_df[\"isolation_forest\"] = iso.fit_predict(scaled_features)\n",
    "\n",
    "    return clustering_info_df"
   ]
  },
  {
   "cell_type": "code",
   "execution_count": 1008,
   "metadata": {},
   "outputs": [],
   "source": [
    "def optics_clustering(clustering_info_df, clustring_features, min_samples_=3):\n",
    "    if len(clustering_info_df) < min_samples_:\n",
    "        clustering_info_df[\"optics\"] = 0\n",
    "        return clustering_info_df\n",
    "    # Normalize the data\n",
    "    scaler = StandardScaler()\n",
    "    scaled_features = scaler.fit_transform(clustering_info_df[clustring_features])\n",
    "\n",
    "    # Apply OPTICS clustering\n",
    "    optics = OPTICS(min_samples=min_samples_)\n",
    "    clustering_info_df[\"optics\"] = optics.fit_predict(scaled_features)\n",
    "\n",
    "    return clustering_info_df"
   ]
  },
  {
   "cell_type": "code",
   "execution_count": 1248,
   "metadata": {},
   "outputs": [],
   "source": [
    "def two_step_clustering(\n",
    "    clustering_info_df,\n",
    "    iso_features_,\n",
    "    optics_features_,\n",
    "    core_num=2,\n",
    "    optics_min_samples=3,\n",
    "):\n",
    "    core_num = min(core_num, np.floor(clustering_info_df.shape[0] / 2))\n",
    "    if core_num < 1:\n",
    "        raise ValueError(\"Core number should be at least 1\")\n",
    "    contamination_ = core_num / clustering_info_df.shape[0]\n",
    "    clustered_df = clustering_info_df.copy()\n",
    "    clustered_df = isolation_forest(clustered_df, iso_features_, contamination_)\n",
    "    isolation_forest_core_num = (clustered_df[\"isolation_forest\"] == -1).sum()\n",
    "    if isolation_forest_core_num <= 1:\n",
    "        clustered_df[\"type\"] = clustered_df.apply(\n",
    "            lambda x: (\"sybil_core\" if x[\"isolation_forest\"] == -1 else \"sybil\"),\n",
    "            axis=1,\n",
    "        )\n",
    "        clustered_df[\"if_core\"] = clustered_df.apply(\n",
    "            lambda x: (1 if x[\"isolation_forest\"] == -1 else 0),\n",
    "            axis=1,\n",
    "        )\n",
    "        return clustered_df\n",
    "    middle_info_df = clustered_df[clustered_df[\"isolation_forest\"] != -1]\n",
    "    # middle_info_df = clustered_df.copy()\n",
    "    clusted_middle_info_df = optics_clustering(\n",
    "        middle_info_df, optics_features_, optics_min_samples\n",
    "    )\n",
    "    # merge result back to original df\n",
    "    clustered_df = pd.merge(\n",
    "        clustered_df,\n",
    "        clusted_middle_info_df[\"optics\"],\n",
    "        how=\"left\",\n",
    "        left_index=True,\n",
    "        right_index=True,\n",
    "    )\n",
    "    clustered_df[\"type\"] = clustered_df.apply(\n",
    "        lambda x: (\n",
    "            \"sybil_core\"\n",
    "            if x[\"isolation_forest\"] == -1\n",
    "            else \"normal\" if x[\"optics\"] == -1 else \"sybil\"\n",
    "        ),\n",
    "        axis=1,\n",
    "    )\n",
    "    clustered_df[\"if_core\"] = clustered_df.apply(\n",
    "        lambda x: (1 if x[\"isolation_forest\"] == -1 else 0),\n",
    "        axis=1,\n",
    "    )\n",
    "    return clustered_df"
   ]
  },
  {
   "cell_type": "code",
   "execution_count": 1250,
   "metadata": {},
   "outputs": [],
   "source": [
    "# iso_features = [\"commu_tx_wallets\", \"commu_tx_count\"]\n",
    "iso_features = [\"commu_tx_wallets\"]\n",
    "# optics_features = [\"gas_fee\", \"total_txn\", \"unique_tokens\", \"unique_active_days\"]\n",
    "optics_features = [\"unique_tokens\", \"commu_tx_count\"]"
   ]
  },
  {
   "cell_type": "code",
   "execution_count": 1251,
   "metadata": {},
   "outputs": [],
   "source": [
    "result_df = clustering_info_df.copy()"
   ]
  },
  {
   "cell_type": "code",
   "execution_count": 1252,
   "metadata": {},
   "outputs": [
    {
     "name": "stdout",
     "output_type": "stream",
     "text": [
      "Community 0\n",
      "Community 100\n",
      "Community 200\n",
      "Community 300\n",
      "Community 400\n",
      "Community 500\n",
      "Community 600\n",
      "Community 700\n",
      "Community 800\n",
      "Community 900\n",
      "Community 1000\n",
      "Community 1100\n",
      "Community 1200\n",
      "Community 1300\n",
      "Community 1400\n",
      "Community 1500\n",
      "Community 1600\n",
      "Community 1700\n",
      "Community 1800\n",
      "Community 1900\n",
      "Community 2000\n",
      "Community 2100\n",
      "Community 2200\n",
      "Community 2300\n",
      "Community 2400\n",
      "Community 2500\n",
      "Community 2600\n",
      "Community 2700\n",
      "Community 2800\n",
      "Community 2900\n",
      "Community 3000\n",
      "Community 3100\n",
      "Community 3200\n",
      "Community 3300\n",
      "Community 3400\n",
      "Community 3500\n",
      "Community 3600\n",
      "Community 3700\n",
      "Community 3800\n",
      "Community 3900\n",
      "Community 4000\n",
      "Community 4100\n",
      "Community 4200\n",
      "Community 4300\n",
      "Community 4400\n",
      "Community 4500\n",
      "Community 4600\n",
      "Community 4700\n",
      "Community 4800\n",
      "Community 4900\n",
      "Community 5000\n",
      "Community 5100\n",
      "Community 5200\n",
      "Community 5300\n",
      "Community 5400\n",
      "Community 5500\n",
      "Community 5600\n",
      "Community 5700\n",
      "Community 5800\n",
      "Community 5900\n",
      "Community 6000\n",
      "Community 6100\n",
      "Community 6200\n",
      "Community 6300\n",
      "Community 6400\n",
      "Community 6500\n",
      "Community 6600\n",
      "Community 6700\n",
      "Community 6800\n",
      "Community 6900\n",
      "Community 7000\n",
      "Community 7100\n",
      "Community 7200\n",
      "Community 7300\n",
      "Community 7400\n",
      "Community 7500\n",
      "Community 7600\n",
      "Community 7700\n",
      "Community 7800\n",
      "Community 7900\n",
      "Community 8000\n",
      "Community 8100\n",
      "Community 8200\n",
      "Community 8300\n",
      "Community 8400\n",
      "Community 8500\n",
      "Community 8600\n",
      "Community 8700\n",
      "Community 8800\n",
      "Community 8900\n",
      "Community 9000\n",
      "Community 9100\n",
      "Community 9200\n",
      "Community 9300\n",
      "Community 9400\n",
      "Community 9500\n",
      "Community 9600\n",
      "Community 9700\n",
      "Community 9800\n",
      "Community 9900\n",
      "Community 10000\n",
      "Community 10100\n",
      "Community 10200\n",
      "Community 10300\n",
      "Community 10400\n",
      "Community 10500\n",
      "Community 10600\n",
      "Community 10700\n",
      "Community 10800\n",
      "Community 10900\n",
      "Community 11000\n",
      "Community 11100\n",
      "Community 11200\n",
      "Community 11300\n",
      "Community 11400\n",
      "Community 11500\n",
      "Community 11600\n",
      "Community 11700\n",
      "Community 11800\n",
      "Community 11900\n",
      "Community 12000\n",
      "Community 12100\n",
      "Community 12200\n",
      "Community 12300\n",
      "Community 12400\n",
      "Community 12500\n",
      "Community 12600\n",
      "Community 12700\n",
      "Community 12800\n",
      "Community 12900\n",
      "Community 13000\n",
      "Community 13100\n",
      "Community 13200\n",
      "Community 13300\n",
      "Community 13400\n",
      "Community 13500\n",
      "Community 13600\n",
      "Community 13700\n",
      "Community 13800\n",
      "Community 13900\n",
      "Community 14000\n",
      "Community 14100\n",
      "Community 14200\n",
      "Community 14300\n",
      "Community 14400\n",
      "Community 14500\n",
      "Community 14600\n",
      "Community 14700\n",
      "Community 14800\n",
      "Community 14900\n",
      "Community 15000\n",
      "Community 15100\n",
      "Community 15200\n",
      "Community 15300\n",
      "Community 15400\n",
      "Community 15500\n",
      "Community 15600\n",
      "Community 15700\n",
      "Community 15800\n",
      "Community 15900\n",
      "Community 16000\n",
      "Community 16100\n",
      "Community 16200\n",
      "Community 16300\n",
      "Community 16400\n",
      "Community 16500\n",
      "Community 16600\n",
      "Community 16700\n",
      "Community 16800\n",
      "Community 16900\n",
      "Community 17000\n",
      "Community 17100\n",
      "Community 17200\n",
      "Community 17300\n",
      "Community 17400\n",
      "Community 17500\n",
      "Community 17600\n",
      "Community 17700\n",
      "Community 17800\n",
      "Community 17900\n",
      "Community 18000\n",
      "Community 18100\n",
      "Community 18200\n",
      "Community 18300\n",
      "Community 18400\n",
      "Community 18500\n",
      "Community 18600\n",
      "Community 18700\n",
      "Community 18800\n",
      "Community 18900\n",
      "Community 19000\n",
      "Community 19100\n",
      "Community 19200\n",
      "Community 19300\n",
      "Community 19400\n",
      "Community 19500\n",
      "Community 19600\n",
      "Community 19700\n",
      "Community 19800\n",
      "Community 19900\n",
      "Community 20000\n",
      "Community 20100\n",
      "Community 20200\n",
      "Community 20300\n"
     ]
    }
   ],
   "source": [
    "for i, commu_wallets in enumerate(louvain_community_lst):\n",
    "    # Skip small communities early\n",
    "    if len(commu_wallets) < 2:\n",
    "        continue\n",
    "\n",
    "    # Logging progress every 100 iterations\n",
    "    if i % 100 == 0:\n",
    "        print(f\"Community {i}\")\n",
    "\n",
    "    # Slice the DataFrame for the current community\n",
    "    commu_df = clustering_info_df.loc[commu_wallets]\n",
    "\n",
    "    # Perform clustering\n",
    "    clustered_df = two_step_clustering(\n",
    "        commu_df, iso_features, optics_features, core_num=2, optics_min_samples=2\n",
    "    )\n",
    "    result_df.update(clustered_df)\n",
    "\n",
    "    # update result_df type\n",
    "    matching_index = result_df.index.intersection(clustered_df.index)\n",
    "    result_df.loc[matching_index, \"type\"] = clustered_df.loc[matching_index, \"type\"]"
   ]
  },
  {
   "cell_type": "code",
   "execution_count": 1253,
   "metadata": {},
   "outputs": [],
   "source": [
    "# group_count = 0\n",
    "# for i in range(0, 41210, 8000):\n",
    "#     group_count += 1\n",
    "#     print(f\"Group {group_count}\")\n",
    "#     print(f\"Community {i}\")\n",
    "#     temp_result_df = result_df[\n",
    "#         (result_df[\"answer\"] != \"not_sure\")\n",
    "#         & (result_df[\"community\"] < i + 5000)\n",
    "#         & (result_df[\"community\"] >= i)\n",
    "#     ]\n",
    "#     print(\n",
    "#         (\n",
    "#             len(\n",
    "#                 temp_result_df[\n",
    "#                     (temp_result_df[\"type\"] == \"normal\")\n",
    "#                     & (temp_result_df[\"answer\"] == \"sybil\")\n",
    "#                 ]\n",
    "#             )\n",
    "#             + len(\n",
    "#                 temp_result_df[\n",
    "#                     (temp_result_df[\"type\"] == \"sybil\")\n",
    "#                     & (temp_result_df[\"answer\"] == \"airdrop\")\n",
    "#                 ]\n",
    "#             )\n",
    "#         )\n",
    "#         / len(temp_result_df)\n",
    "#     )\n",
    "#     print('')\n",
    "#     print('commu avg size: ', temp_result_df['community'].value_counts().values.mean())\n",
    "#     print('')\n",
    "#     print(temp_result_df[[\"type\", \"answer\"]].value_counts())\n",
    "#     print(len(temp_result_df))\n",
    "#     print('')\n",
    "#     print(temp_result_df['total_txn'].describe())\n",
    "#     print(temp_result_df['unique_active_days'].describe())\n",
    "#     print('**********************************')"
   ]
  },
  {
   "cell_type": "code",
   "execution_count": null,
   "metadata": {},
   "outputs": [],
   "source": []
  },
  {
   "cell_type": "code",
   "execution_count": 1254,
   "metadata": {},
   "outputs": [
    {
     "name": "stdout",
     "output_type": "stream",
     "text": [
      "type        answer \n",
      "sybil       sybil      10385\n",
      "sybil_core  sybil       8249\n",
      "            airdrop     3531\n",
      "sybil       airdrop     1715\n",
      "normal      sybil        953\n",
      "            airdrop      314\n",
      "dtype: int64\n",
      "25147\n",
      "0.10609615461088798\n"
     ]
    }
   ],
   "source": [
    "main_result_df = result_df[\n",
    "    (result_df[\"answer\"] != \"not_sure\") & (result_df[\"total_txn\"] > 20)\n",
    "]\n",
    "print(main_result_df[[\"type\", \"answer\"]].value_counts())\n",
    "print(len(main_result_df))\n",
    "print(\n",
    "    (\n",
    "        len(\n",
    "            main_result_df[\n",
    "                (main_result_df[\"type\"] == \"normal\")\n",
    "                & (main_result_df[\"answer\"] == \"sybil\")\n",
    "            ]\n",
    "        )\n",
    "        + len(\n",
    "            main_result_df[\n",
    "                (main_result_df[\"type\"] == \"sybil\")\n",
    "                & (main_result_df[\"answer\"] == \"airdrop\")\n",
    "            ]\n",
    "        )\n",
    "    )\n",
    "    / len(main_result_df)\n",
    ")"
   ]
  },
  {
   "cell_type": "code",
   "execution_count": 1255,
   "metadata": {},
   "outputs": [
    {
     "name": "stdout",
     "output_type": "stream",
     "text": [
      "type        answer \n",
      "sybil       sybil      18040\n",
      "sybil_core  sybil      10420\n",
      "            airdrop     3700\n",
      "sybil       airdrop     1982\n",
      "normal      sybil       1272\n",
      "            airdrop      339\n",
      "dtype: int64\n",
      "35753\n",
      "0.9089866584622269\n"
     ]
    }
   ],
   "source": [
    "full_result_df = result_df[result_df[\"answer\"] != \"not_sure\"]\n",
    "\n",
    "print(full_result_df[[\"type\", \"answer\"]].value_counts())\n",
    "\n",
    "print(len(full_result_df[[\"type\", \"answer\"]]))\n",
    "\n",
    "print(\n",
    "    1 - (\n",
    "        len(\n",
    "            full_result_df[\n",
    "                (full_result_df[\"type\"] == \"normal\")\n",
    "                & (full_result_df[\"answer\"] == \"sybil\")\n",
    "            ]\n",
    "        )\n",
    "        + len(\n",
    "            full_result_df[\n",
    "                (full_result_df[\"type\"] == \"sybil\")\n",
    "                & (full_result_df[\"answer\"] == \"airdrop\")\n",
    "            ]\n",
    "        )\n",
    "    )\n",
    "    / len(full_result_df)\n",
    ")"
   ]
  },
  {
   "cell_type": "code",
   "execution_count": 1256,
   "metadata": {},
   "outputs": [
    {
     "data": {
      "text/plain": [
       "0.9419483334309648"
      ]
     },
     "execution_count": 1256,
     "metadata": {},
     "output_type": "execute_result"
    }
   ],
   "source": [
    "1 - len(\n",
    "    full_result_df[\n",
    "        (full_result_df[\"type\"] == \"sybil\") & (full_result_df[\"answer\"] == \"airdrop\")\n",
    "    ]\n",
    ") / (len(full_result_df) - len(full_result_df[full_result_df[\"type\"] == \"normal\"]))"
   ]
  },
  {
   "cell_type": "code",
   "execution_count": 1257,
   "metadata": {},
   "outputs": [
    {
     "data": {
      "text/plain": [
       "0.21042830540037238"
      ]
     },
     "execution_count": 1257,
     "metadata": {},
     "output_type": "execute_result"
    }
   ],
   "source": [
    "1 - len(\n",
    "    full_result_df[\n",
    "        (full_result_df[\"type\"] == \"normal\") & (full_result_df[\"answer\"] == \"sybil\")\n",
    "    ]\n",
    ") / (len(full_result_df[full_result_df[\"type\"] == \"normal\"]))"
   ]
  },
  {
   "cell_type": "code",
   "execution_count": 1258,
   "metadata": {},
   "outputs": [
    {
     "data": {
      "text/plain": [
       "'2025-01-20 17:50:19.482667'"
      ]
     },
     "execution_count": 1258,
     "metadata": {},
     "output_type": "execute_result"
    }
   ],
   "source": [
    "datetime.datetime.fromtimestamp(time.time()).strftime('%Y-%m-%d %H:%M:%S.%f')"
   ]
  },
  {
   "cell_type": "code",
   "execution_count": null,
   "metadata": {},
   "outputs": [],
   "source": []
  },
  {
   "cell_type": "code",
   "execution_count": null,
   "metadata": {},
   "outputs": [],
   "source": []
  },
  {
   "cell_type": "code",
   "execution_count": null,
   "metadata": {},
   "outputs": [],
   "source": []
  },
  {
   "cell_type": "code",
   "execution_count": null,
   "metadata": {},
   "outputs": [],
   "source": []
  },
  {
   "cell_type": "code",
   "execution_count": 1259,
   "metadata": {},
   "outputs": [
    {
     "data": {
      "text/html": [
       "<div>\n",
       "<style scoped>\n",
       "    .dataframe tbody tr th:only-of-type {\n",
       "        vertical-align: middle;\n",
       "    }\n",
       "\n",
       "    .dataframe tbody tr th {\n",
       "        vertical-align: top;\n",
       "    }\n",
       "\n",
       "    .dataframe thead th {\n",
       "        text-align: right;\n",
       "    }\n",
       "</style>\n",
       "<table border=\"1\" class=\"dataframe\">\n",
       "  <thead>\n",
       "    <tr style=\"text-align: right;\">\n",
       "      <th></th>\n",
       "      <th>commu_tx_wallets</th>\n",
       "      <th>commu_tx_count</th>\n",
       "    </tr>\n",
       "    <tr>\n",
       "      <th>wallet</th>\n",
       "      <th></th>\n",
       "      <th></th>\n",
       "    </tr>\n",
       "  </thead>\n",
       "  <tbody>\n",
       "    <tr>\n",
       "      <th>0x0000000000000000000000000000000000002105</th>\n",
       "      <td>1</td>\n",
       "      <td>2</td>\n",
       "    </tr>\n",
       "    <tr>\n",
       "      <th>0x0000000000000000000000000000000064c8f444</th>\n",
       "      <td>1</td>\n",
       "      <td>1</td>\n",
       "    </tr>\n",
       "    <tr>\n",
       "      <th>0x0000000000000000000000000000000066353a2b</th>\n",
       "      <td>1</td>\n",
       "      <td>1</td>\n",
       "    </tr>\n",
       "    <tr>\n",
       "      <th>0x000000000000000000000000000000009b476a5d</th>\n",
       "      <td>1</td>\n",
       "      <td>1</td>\n",
       "    </tr>\n",
       "    <tr>\n",
       "      <th>0x000000000000000000000000000000009b477880</th>\n",
       "      <td>1</td>\n",
       "      <td>1</td>\n",
       "    </tr>\n",
       "  </tbody>\n",
       "</table>\n",
       "</div>"
      ],
      "text/plain": [
       "                                            commu_tx_wallets  commu_tx_count\n",
       "wallet                                                                      \n",
       "0x0000000000000000000000000000000000002105                 1               2\n",
       "0x0000000000000000000000000000000064c8f444                 1               1\n",
       "0x0000000000000000000000000000000066353a2b                 1               1\n",
       "0x000000000000000000000000000000009b476a5d                 1               1\n",
       "0x000000000000000000000000000000009b477880                 1               1"
      ]
     },
     "execution_count": 1259,
     "metadata": {},
     "output_type": "execute_result"
    }
   ],
   "source": [
    "full_interaction_tbl = clustering_community_info(all_wallets , weight_df, sum_col_=\"count\")\n",
    "full_interaction_tbl.head()"
   ]
  },
  {
   "cell_type": "markdown",
   "metadata": {},
   "source": []
  },
  {
   "cell_type": "code",
   "execution_count": 1260,
   "metadata": {},
   "outputs": [
    {
     "data": {
      "text/html": [
       "<div>\n",
       "<style scoped>\n",
       "    .dataframe tbody tr th:only-of-type {\n",
       "        vertical-align: middle;\n",
       "    }\n",
       "\n",
       "    .dataframe tbody tr th {\n",
       "        vertical-align: top;\n",
       "    }\n",
       "\n",
       "    .dataframe thead th {\n",
       "        text-align: right;\n",
       "    }\n",
       "</style>\n",
       "<table border=\"1\" class=\"dataframe\">\n",
       "  <thead>\n",
       "    <tr style=\"text-align: right;\">\n",
       "      <th></th>\n",
       "      <th>community</th>\n",
       "      <th>type</th>\n",
       "      <th>commu_tx_wallets</th>\n",
       "      <th>commu_tx_count</th>\n",
       "      <th>gas_fee</th>\n",
       "      <th>total_txn</th>\n",
       "      <th>unique_tokens</th>\n",
       "      <th>last_txn_date</th>\n",
       "      <th>unique_active_days</th>\n",
       "      <th>answer</th>\n",
       "    </tr>\n",
       "  </thead>\n",
       "  <tbody>\n",
       "    <tr>\n",
       "      <th>0xdb2d78376960becbbb5010ab7502d2ee948b1a49</th>\n",
       "      <td>0.0</td>\n",
       "      <td>sybil_core</td>\n",
       "      <td>695.0</td>\n",
       "      <td>720.0</td>\n",
       "      <td>63.328227</td>\n",
       "      <td>1107.0</td>\n",
       "      <td>1042.0</td>\n",
       "      <td>2024-06-20</td>\n",
       "      <td>30.0</td>\n",
       "      <td>airdrop</td>\n",
       "    </tr>\n",
       "    <tr>\n",
       "      <th>0xb299b1dd63b2bb144b1caaeed8f8db0ff1f70483</th>\n",
       "      <td>1.0</td>\n",
       "      <td>sybil</td>\n",
       "      <td>1.0</td>\n",
       "      <td>1.0</td>\n",
       "      <td>0.024101</td>\n",
       "      <td>5.0</td>\n",
       "      <td>3.0</td>\n",
       "      <td>2023-10-31</td>\n",
       "      <td>1.0</td>\n",
       "      <td>sybil</td>\n",
       "    </tr>\n",
       "    <tr>\n",
       "      <th>0xb25ba40cbff4a3b82e48b303e7cb55ed8b9492ff</th>\n",
       "      <td>1.0</td>\n",
       "      <td>sybil</td>\n",
       "      <td>1.0</td>\n",
       "      <td>1.0</td>\n",
       "      <td>0.445093</td>\n",
       "      <td>36.0</td>\n",
       "      <td>11.0</td>\n",
       "      <td>2024-06-25</td>\n",
       "      <td>16.0</td>\n",
       "      <td>sybil</td>\n",
       "    </tr>\n",
       "    <tr>\n",
       "      <th>0xb1c36a268b25e5e88d9089ae8ffa5968cdcc088b</th>\n",
       "      <td>1.0</td>\n",
       "      <td>sybil</td>\n",
       "      <td>1.0</td>\n",
       "      <td>1.0</td>\n",
       "      <td>0.049347</td>\n",
       "      <td>6.0</td>\n",
       "      <td>5.0</td>\n",
       "      <td>2024-03-31</td>\n",
       "      <td>2.0</td>\n",
       "      <td>sybil</td>\n",
       "    </tr>\n",
       "    <tr>\n",
       "      <th>0xb05293fe3fd146aa5d8b0167c1fa6f007bbc5986</th>\n",
       "      <td>1.0</td>\n",
       "      <td>sybil</td>\n",
       "      <td>1.0</td>\n",
       "      <td>1.0</td>\n",
       "      <td>0.022347</td>\n",
       "      <td>4.0</td>\n",
       "      <td>3.0</td>\n",
       "      <td>2023-10-31</td>\n",
       "      <td>1.0</td>\n",
       "      <td>sybil</td>\n",
       "    </tr>\n",
       "    <tr>\n",
       "      <th>...</th>\n",
       "      <td>...</td>\n",
       "      <td>...</td>\n",
       "      <td>...</td>\n",
       "      <td>...</td>\n",
       "      <td>...</td>\n",
       "      <td>...</td>\n",
       "      <td>...</td>\n",
       "      <td>...</td>\n",
       "      <td>...</td>\n",
       "      <td>...</td>\n",
       "    </tr>\n",
       "    <tr>\n",
       "      <th>0xd6ed687fb45dcbe13784812d7c088a30ed0ca904</th>\n",
       "      <td>23946.0</td>\n",
       "      <td>normal</td>\n",
       "      <td>0.0</td>\n",
       "      <td>0.0</td>\n",
       "      <td>0.666204</td>\n",
       "      <td>20.0</td>\n",
       "      <td>14.0</td>\n",
       "      <td>2024-04-29</td>\n",
       "      <td>6.0</td>\n",
       "      <td>sybil</td>\n",
       "    </tr>\n",
       "    <tr>\n",
       "      <th>0xf0d939b52cde10a96c8276422cf248b42c587d88</th>\n",
       "      <td>23947.0</td>\n",
       "      <td>normal</td>\n",
       "      <td>0.0</td>\n",
       "      <td>0.0</td>\n",
       "      <td>1.147547</td>\n",
       "      <td>24.0</td>\n",
       "      <td>18.0</td>\n",
       "      <td>2024-04-29</td>\n",
       "      <td>8.0</td>\n",
       "      <td>sybil</td>\n",
       "    </tr>\n",
       "    <tr>\n",
       "      <th>0xe335047dd2ca52363cb3a61515c66ea5a6085a45</th>\n",
       "      <td>23955.0</td>\n",
       "      <td>normal</td>\n",
       "      <td>0.0</td>\n",
       "      <td>0.0</td>\n",
       "      <td>0.371875</td>\n",
       "      <td>13.0</td>\n",
       "      <td>10.0</td>\n",
       "      <td>2024-04-27</td>\n",
       "      <td>11.0</td>\n",
       "      <td>sybil</td>\n",
       "    </tr>\n",
       "    <tr>\n",
       "      <th>0xf358dcab2973c031b91be455eeb7f863a6274b20</th>\n",
       "      <td>23956.0</td>\n",
       "      <td>normal</td>\n",
       "      <td>0.0</td>\n",
       "      <td>0.0</td>\n",
       "      <td>2.739630</td>\n",
       "      <td>50.0</td>\n",
       "      <td>25.0</td>\n",
       "      <td>2024-06-30</td>\n",
       "      <td>30.0</td>\n",
       "      <td>sybil</td>\n",
       "    </tr>\n",
       "    <tr>\n",
       "      <th>0xfc7a55fbc31fdc37bdd8e4c6571808912e1cf2f3</th>\n",
       "      <td>23957.0</td>\n",
       "      <td>normal</td>\n",
       "      <td>0.0</td>\n",
       "      <td>0.0</td>\n",
       "      <td>4.927791</td>\n",
       "      <td>70.0</td>\n",
       "      <td>33.0</td>\n",
       "      <td>2024-01-07</td>\n",
       "      <td>27.0</td>\n",
       "      <td>sybil</td>\n",
       "    </tr>\n",
       "  </tbody>\n",
       "</table>\n",
       "<p>35753 rows × 10 columns</p>\n",
       "</div>"
      ],
      "text/plain": [
       "                                            community        type  \\\n",
       "0xdb2d78376960becbbb5010ab7502d2ee948b1a49        0.0  sybil_core   \n",
       "0xb299b1dd63b2bb144b1caaeed8f8db0ff1f70483        1.0       sybil   \n",
       "0xb25ba40cbff4a3b82e48b303e7cb55ed8b9492ff        1.0       sybil   \n",
       "0xb1c36a268b25e5e88d9089ae8ffa5968cdcc088b        1.0       sybil   \n",
       "0xb05293fe3fd146aa5d8b0167c1fa6f007bbc5986        1.0       sybil   \n",
       "...                                               ...         ...   \n",
       "0xd6ed687fb45dcbe13784812d7c088a30ed0ca904    23946.0      normal   \n",
       "0xf0d939b52cde10a96c8276422cf248b42c587d88    23947.0      normal   \n",
       "0xe335047dd2ca52363cb3a61515c66ea5a6085a45    23955.0      normal   \n",
       "0xf358dcab2973c031b91be455eeb7f863a6274b20    23956.0      normal   \n",
       "0xfc7a55fbc31fdc37bdd8e4c6571808912e1cf2f3    23957.0      normal   \n",
       "\n",
       "                                            commu_tx_wallets  commu_tx_count  \\\n",
       "0xdb2d78376960becbbb5010ab7502d2ee948b1a49             695.0           720.0   \n",
       "0xb299b1dd63b2bb144b1caaeed8f8db0ff1f70483               1.0             1.0   \n",
       "0xb25ba40cbff4a3b82e48b303e7cb55ed8b9492ff               1.0             1.0   \n",
       "0xb1c36a268b25e5e88d9089ae8ffa5968cdcc088b               1.0             1.0   \n",
       "0xb05293fe3fd146aa5d8b0167c1fa6f007bbc5986               1.0             1.0   \n",
       "...                                                      ...             ...   \n",
       "0xd6ed687fb45dcbe13784812d7c088a30ed0ca904               0.0             0.0   \n",
       "0xf0d939b52cde10a96c8276422cf248b42c587d88               0.0             0.0   \n",
       "0xe335047dd2ca52363cb3a61515c66ea5a6085a45               0.0             0.0   \n",
       "0xf358dcab2973c031b91be455eeb7f863a6274b20               0.0             0.0   \n",
       "0xfc7a55fbc31fdc37bdd8e4c6571808912e1cf2f3               0.0             0.0   \n",
       "\n",
       "                                              gas_fee  total_txn  \\\n",
       "0xdb2d78376960becbbb5010ab7502d2ee948b1a49  63.328227     1107.0   \n",
       "0xb299b1dd63b2bb144b1caaeed8f8db0ff1f70483   0.024101        5.0   \n",
       "0xb25ba40cbff4a3b82e48b303e7cb55ed8b9492ff   0.445093       36.0   \n",
       "0xb1c36a268b25e5e88d9089ae8ffa5968cdcc088b   0.049347        6.0   \n",
       "0xb05293fe3fd146aa5d8b0167c1fa6f007bbc5986   0.022347        4.0   \n",
       "...                                               ...        ...   \n",
       "0xd6ed687fb45dcbe13784812d7c088a30ed0ca904   0.666204       20.0   \n",
       "0xf0d939b52cde10a96c8276422cf248b42c587d88   1.147547       24.0   \n",
       "0xe335047dd2ca52363cb3a61515c66ea5a6085a45   0.371875       13.0   \n",
       "0xf358dcab2973c031b91be455eeb7f863a6274b20   2.739630       50.0   \n",
       "0xfc7a55fbc31fdc37bdd8e4c6571808912e1cf2f3   4.927791       70.0   \n",
       "\n",
       "                                            unique_tokens last_txn_date  \\\n",
       "0xdb2d78376960becbbb5010ab7502d2ee948b1a49         1042.0    2024-06-20   \n",
       "0xb299b1dd63b2bb144b1caaeed8f8db0ff1f70483            3.0    2023-10-31   \n",
       "0xb25ba40cbff4a3b82e48b303e7cb55ed8b9492ff           11.0    2024-06-25   \n",
       "0xb1c36a268b25e5e88d9089ae8ffa5968cdcc088b            5.0    2024-03-31   \n",
       "0xb05293fe3fd146aa5d8b0167c1fa6f007bbc5986            3.0    2023-10-31   \n",
       "...                                                   ...           ...   \n",
       "0xd6ed687fb45dcbe13784812d7c088a30ed0ca904           14.0    2024-04-29   \n",
       "0xf0d939b52cde10a96c8276422cf248b42c587d88           18.0    2024-04-29   \n",
       "0xe335047dd2ca52363cb3a61515c66ea5a6085a45           10.0    2024-04-27   \n",
       "0xf358dcab2973c031b91be455eeb7f863a6274b20           25.0    2024-06-30   \n",
       "0xfc7a55fbc31fdc37bdd8e4c6571808912e1cf2f3           33.0    2024-01-07   \n",
       "\n",
       "                                            unique_active_days   answer  \n",
       "0xdb2d78376960becbbb5010ab7502d2ee948b1a49                30.0  airdrop  \n",
       "0xb299b1dd63b2bb144b1caaeed8f8db0ff1f70483                 1.0    sybil  \n",
       "0xb25ba40cbff4a3b82e48b303e7cb55ed8b9492ff                16.0    sybil  \n",
       "0xb1c36a268b25e5e88d9089ae8ffa5968cdcc088b                 2.0    sybil  \n",
       "0xb05293fe3fd146aa5d8b0167c1fa6f007bbc5986                 1.0    sybil  \n",
       "...                                                        ...      ...  \n",
       "0xd6ed687fb45dcbe13784812d7c088a30ed0ca904                 6.0    sybil  \n",
       "0xf0d939b52cde10a96c8276422cf248b42c587d88                 8.0    sybil  \n",
       "0xe335047dd2ca52363cb3a61515c66ea5a6085a45                11.0    sybil  \n",
       "0xf358dcab2973c031b91be455eeb7f863a6274b20                30.0    sybil  \n",
       "0xfc7a55fbc31fdc37bdd8e4c6571808912e1cf2f3                27.0    sybil  \n",
       "\n",
       "[35753 rows x 10 columns]"
      ]
     },
     "execution_count": 1260,
     "metadata": {},
     "output_type": "execute_result"
    }
   ],
   "source": [
    "full_result_df.sort_values(by='community')"
   ]
  },
  {
   "cell_type": "code",
   "execution_count": null,
   "metadata": {},
   "outputs": [],
   "source": []
  },
  {
   "cell_type": "code",
   "execution_count": null,
   "metadata": {},
   "outputs": [],
   "source": []
  },
  {
   "cell_type": "code",
   "execution_count": null,
   "metadata": {},
   "outputs": [],
   "source": []
  },
  {
   "cell_type": "code",
   "execution_count": null,
   "metadata": {},
   "outputs": [],
   "source": []
  },
  {
   "cell_type": "code",
   "execution_count": null,
   "metadata": {},
   "outputs": [],
   "source": []
  },
  {
   "cell_type": "code",
   "execution_count": 1261,
   "metadata": {},
   "outputs": [
    {
     "data": {
      "text/html": [
       "<div>\n",
       "<style scoped>\n",
       "    .dataframe tbody tr th:only-of-type {\n",
       "        vertical-align: middle;\n",
       "    }\n",
       "\n",
       "    .dataframe tbody tr th {\n",
       "        vertical-align: top;\n",
       "    }\n",
       "\n",
       "    .dataframe thead th {\n",
       "        text-align: right;\n",
       "    }\n",
       "</style>\n",
       "<table border=\"1\" class=\"dataframe\">\n",
       "  <thead>\n",
       "    <tr style=\"text-align: right;\">\n",
       "      <th></th>\n",
       "      <th>community</th>\n",
       "      <th>type</th>\n",
       "      <th>commu_tx_wallets</th>\n",
       "      <th>commu_tx_count</th>\n",
       "      <th>gas_fee</th>\n",
       "      <th>total_txn</th>\n",
       "      <th>unique_tokens</th>\n",
       "      <th>last_txn_date</th>\n",
       "      <th>unique_active_days</th>\n",
       "      <th>answer</th>\n",
       "    </tr>\n",
       "  </thead>\n",
       "  <tbody>\n",
       "    <tr>\n",
       "      <th>0x02cce5757db5916ee668927d777b8e5164aff349</th>\n",
       "      <td>1.0</td>\n",
       "      <td>sybil</td>\n",
       "      <td>1.0</td>\n",
       "      <td>1.0</td>\n",
       "      <td>0.023733</td>\n",
       "      <td>5.0</td>\n",
       "      <td>3.0</td>\n",
       "      <td>2023-10-31</td>\n",
       "      <td>1.0</td>\n",
       "      <td>sybil</td>\n",
       "    </tr>\n",
       "    <tr>\n",
       "      <th>0x043d7cbd377f7a7ea2e22dfe413f29adf0dea085</th>\n",
       "      <td>1.0</td>\n",
       "      <td>sybil</td>\n",
       "      <td>1.0</td>\n",
       "      <td>1.0</td>\n",
       "      <td>0.044751</td>\n",
       "      <td>8.0</td>\n",
       "      <td>4.0</td>\n",
       "      <td>2023-10-30</td>\n",
       "      <td>5.0</td>\n",
       "      <td>sybil</td>\n",
       "    </tr>\n",
       "    <tr>\n",
       "      <th>0x04810ab27219c9e02a210f8a9bff4556fc8e8aee</th>\n",
       "      <td>1.0</td>\n",
       "      <td>sybil</td>\n",
       "      <td>1.0</td>\n",
       "      <td>1.0</td>\n",
       "      <td>0.362842</td>\n",
       "      <td>33.0</td>\n",
       "      <td>10.0</td>\n",
       "      <td>2024-06-25</td>\n",
       "      <td>12.0</td>\n",
       "      <td>airdrop</td>\n",
       "    </tr>\n",
       "    <tr>\n",
       "      <th>0x0488ef19f191ee9d59d58d33b746fcc2d79eb2fb</th>\n",
       "      <td>1.0</td>\n",
       "      <td>sybil</td>\n",
       "      <td>1.0</td>\n",
       "      <td>2.0</td>\n",
       "      <td>0.396558</td>\n",
       "      <td>33.0</td>\n",
       "      <td>10.0</td>\n",
       "      <td>2024-06-26</td>\n",
       "      <td>13.0</td>\n",
       "      <td>airdrop</td>\n",
       "    </tr>\n",
       "    <tr>\n",
       "      <th>0x048bb3969efd526394e1f1379b690b234f9c91a8</th>\n",
       "      <td>1.0</td>\n",
       "      <td>sybil</td>\n",
       "      <td>1.0</td>\n",
       "      <td>1.0</td>\n",
       "      <td>0.425929</td>\n",
       "      <td>36.0</td>\n",
       "      <td>11.0</td>\n",
       "      <td>2024-06-24</td>\n",
       "      <td>15.0</td>\n",
       "      <td>sybil</td>\n",
       "    </tr>\n",
       "    <tr>\n",
       "      <th>...</th>\n",
       "      <td>...</td>\n",
       "      <td>...</td>\n",
       "      <td>...</td>\n",
       "      <td>...</td>\n",
       "      <td>...</td>\n",
       "      <td>...</td>\n",
       "      <td>...</td>\n",
       "      <td>...</td>\n",
       "      <td>...</td>\n",
       "      <td>...</td>\n",
       "    </tr>\n",
       "    <tr>\n",
       "      <th>0xfd7b8a336e1d65ceb194d255dc7950e7b58e130f</th>\n",
       "      <td>1.0</td>\n",
       "      <td>sybil</td>\n",
       "      <td>1.0</td>\n",
       "      <td>1.0</td>\n",
       "      <td>0.022616</td>\n",
       "      <td>4.0</td>\n",
       "      <td>3.0</td>\n",
       "      <td>2023-10-31</td>\n",
       "      <td>1.0</td>\n",
       "      <td>sybil</td>\n",
       "    </tr>\n",
       "    <tr>\n",
       "      <th>0xfd8e47fd8de92ec426b0248df4125942d6e6c361</th>\n",
       "      <td>1.0</td>\n",
       "      <td>sybil</td>\n",
       "      <td>1.0</td>\n",
       "      <td>1.0</td>\n",
       "      <td>1.206408</td>\n",
       "      <td>73.0</td>\n",
       "      <td>11.0</td>\n",
       "      <td>2024-05-12</td>\n",
       "      <td>20.0</td>\n",
       "      <td>sybil</td>\n",
       "    </tr>\n",
       "    <tr>\n",
       "      <th>0xfea68bd63cf57fb668f75107458878c7af8c4033</th>\n",
       "      <td>1.0</td>\n",
       "      <td>sybil</td>\n",
       "      <td>1.0</td>\n",
       "      <td>1.0</td>\n",
       "      <td>0.334184</td>\n",
       "      <td>29.0</td>\n",
       "      <td>10.0</td>\n",
       "      <td>2024-06-26</td>\n",
       "      <td>12.0</td>\n",
       "      <td>sybil</td>\n",
       "    </tr>\n",
       "    <tr>\n",
       "      <th>0xff3060c211c7335b948edade9d4848a676432082</th>\n",
       "      <td>1.0</td>\n",
       "      <td>sybil</td>\n",
       "      <td>1.0</td>\n",
       "      <td>2.0</td>\n",
       "      <td>0.052667</td>\n",
       "      <td>9.0</td>\n",
       "      <td>4.0</td>\n",
       "      <td>2023-10-30</td>\n",
       "      <td>5.0</td>\n",
       "      <td>sybil</td>\n",
       "    </tr>\n",
       "    <tr>\n",
       "      <th>0xffd8847e41b4c9dd37f6915e822b8c8607c93c81</th>\n",
       "      <td>1.0</td>\n",
       "      <td>sybil</td>\n",
       "      <td>1.0</td>\n",
       "      <td>1.0</td>\n",
       "      <td>0.070739</td>\n",
       "      <td>9.0</td>\n",
       "      <td>4.0</td>\n",
       "      <td>2023-10-30</td>\n",
       "      <td>5.0</td>\n",
       "      <td>sybil</td>\n",
       "    </tr>\n",
       "  </tbody>\n",
       "</table>\n",
       "<p>456 rows × 10 columns</p>\n",
       "</div>"
      ],
      "text/plain": [
       "                                            community   type  \\\n",
       "0x02cce5757db5916ee668927d777b8e5164aff349        1.0  sybil   \n",
       "0x043d7cbd377f7a7ea2e22dfe413f29adf0dea085        1.0  sybil   \n",
       "0x04810ab27219c9e02a210f8a9bff4556fc8e8aee        1.0  sybil   \n",
       "0x0488ef19f191ee9d59d58d33b746fcc2d79eb2fb        1.0  sybil   \n",
       "0x048bb3969efd526394e1f1379b690b234f9c91a8        1.0  sybil   \n",
       "...                                               ...    ...   \n",
       "0xfd7b8a336e1d65ceb194d255dc7950e7b58e130f        1.0  sybil   \n",
       "0xfd8e47fd8de92ec426b0248df4125942d6e6c361        1.0  sybil   \n",
       "0xfea68bd63cf57fb668f75107458878c7af8c4033        1.0  sybil   \n",
       "0xff3060c211c7335b948edade9d4848a676432082        1.0  sybil   \n",
       "0xffd8847e41b4c9dd37f6915e822b8c8607c93c81        1.0  sybil   \n",
       "\n",
       "                                            commu_tx_wallets  commu_tx_count  \\\n",
       "0x02cce5757db5916ee668927d777b8e5164aff349               1.0             1.0   \n",
       "0x043d7cbd377f7a7ea2e22dfe413f29adf0dea085               1.0             1.0   \n",
       "0x04810ab27219c9e02a210f8a9bff4556fc8e8aee               1.0             1.0   \n",
       "0x0488ef19f191ee9d59d58d33b746fcc2d79eb2fb               1.0             2.0   \n",
       "0x048bb3969efd526394e1f1379b690b234f9c91a8               1.0             1.0   \n",
       "...                                                      ...             ...   \n",
       "0xfd7b8a336e1d65ceb194d255dc7950e7b58e130f               1.0             1.0   \n",
       "0xfd8e47fd8de92ec426b0248df4125942d6e6c361               1.0             1.0   \n",
       "0xfea68bd63cf57fb668f75107458878c7af8c4033               1.0             1.0   \n",
       "0xff3060c211c7335b948edade9d4848a676432082               1.0             2.0   \n",
       "0xffd8847e41b4c9dd37f6915e822b8c8607c93c81               1.0             1.0   \n",
       "\n",
       "                                             gas_fee  total_txn  \\\n",
       "0x02cce5757db5916ee668927d777b8e5164aff349  0.023733        5.0   \n",
       "0x043d7cbd377f7a7ea2e22dfe413f29adf0dea085  0.044751        8.0   \n",
       "0x04810ab27219c9e02a210f8a9bff4556fc8e8aee  0.362842       33.0   \n",
       "0x0488ef19f191ee9d59d58d33b746fcc2d79eb2fb  0.396558       33.0   \n",
       "0x048bb3969efd526394e1f1379b690b234f9c91a8  0.425929       36.0   \n",
       "...                                              ...        ...   \n",
       "0xfd7b8a336e1d65ceb194d255dc7950e7b58e130f  0.022616        4.0   \n",
       "0xfd8e47fd8de92ec426b0248df4125942d6e6c361  1.206408       73.0   \n",
       "0xfea68bd63cf57fb668f75107458878c7af8c4033  0.334184       29.0   \n",
       "0xff3060c211c7335b948edade9d4848a676432082  0.052667        9.0   \n",
       "0xffd8847e41b4c9dd37f6915e822b8c8607c93c81  0.070739        9.0   \n",
       "\n",
       "                                            unique_tokens last_txn_date  \\\n",
       "0x02cce5757db5916ee668927d777b8e5164aff349            3.0    2023-10-31   \n",
       "0x043d7cbd377f7a7ea2e22dfe413f29adf0dea085            4.0    2023-10-30   \n",
       "0x04810ab27219c9e02a210f8a9bff4556fc8e8aee           10.0    2024-06-25   \n",
       "0x0488ef19f191ee9d59d58d33b746fcc2d79eb2fb           10.0    2024-06-26   \n",
       "0x048bb3969efd526394e1f1379b690b234f9c91a8           11.0    2024-06-24   \n",
       "...                                                   ...           ...   \n",
       "0xfd7b8a336e1d65ceb194d255dc7950e7b58e130f            3.0    2023-10-31   \n",
       "0xfd8e47fd8de92ec426b0248df4125942d6e6c361           11.0    2024-05-12   \n",
       "0xfea68bd63cf57fb668f75107458878c7af8c4033           10.0    2024-06-26   \n",
       "0xff3060c211c7335b948edade9d4848a676432082            4.0    2023-10-30   \n",
       "0xffd8847e41b4c9dd37f6915e822b8c8607c93c81            4.0    2023-10-30   \n",
       "\n",
       "                                            unique_active_days   answer  \n",
       "0x02cce5757db5916ee668927d777b8e5164aff349                 1.0    sybil  \n",
       "0x043d7cbd377f7a7ea2e22dfe413f29adf0dea085                 5.0    sybil  \n",
       "0x04810ab27219c9e02a210f8a9bff4556fc8e8aee                12.0  airdrop  \n",
       "0x0488ef19f191ee9d59d58d33b746fcc2d79eb2fb                13.0  airdrop  \n",
       "0x048bb3969efd526394e1f1379b690b234f9c91a8                15.0    sybil  \n",
       "...                                                        ...      ...  \n",
       "0xfd7b8a336e1d65ceb194d255dc7950e7b58e130f                 1.0    sybil  \n",
       "0xfd8e47fd8de92ec426b0248df4125942d6e6c361                20.0    sybil  \n",
       "0xfea68bd63cf57fb668f75107458878c7af8c4033                12.0    sybil  \n",
       "0xff3060c211c7335b948edade9d4848a676432082                 5.0    sybil  \n",
       "0xffd8847e41b4c9dd37f6915e822b8c8607c93c81                 5.0    sybil  \n",
       "\n",
       "[456 rows x 10 columns]"
      ]
     },
     "execution_count": 1261,
     "metadata": {},
     "output_type": "execute_result"
    }
   ],
   "source": [
    "full_result_df[full_result_df['community'] == 1]"
   ]
  },
  {
   "cell_type": "markdown",
   "metadata": {},
   "source": [
    "### Metrix check"
   ]
  },
  {
   "cell_type": "code",
   "execution_count": 1262,
   "metadata": {},
   "outputs": [],
   "source": [
    "false_normal_df = full_result_df[\n",
    "    (full_result_df[\"type\"] == \"normal\") & (full_result_df[\"answer\"] == \"sybil\")\n",
    "]\n",
    "false_normal_lst = false_normal_df.index.tolist()\n",
    "\n",
    "false_sybil_df = full_result_df[\n",
    "    (full_result_df[\"type\"] == \"sybil\") & (full_result_df[\"answer\"] == \"airdrop\")\n",
    "]\n",
    "false_sybil_lst = false_sybil_df.index.tolist()\n",
    "\n",
    "true_sybil_df = full_result_df[\n",
    "    (full_result_df[\"type\"] != \"normal\") & (full_result_df[\"answer\"] == \"sybil\")\n",
    "]\n",
    "true_sybil_lst = true_sybil_df.index.tolist()\n",
    "\n",
    "true_normal_df = full_result_df[\n",
    "    (full_result_df[\"type\"] == \"normal\") & (full_result_df[\"answer\"] == \"airdrop\")\n",
    "]\n",
    "true_normal_lst = true_normal_df.index.tolist()"
   ]
  },
  {
   "cell_type": "code",
   "execution_count": 1263,
   "metadata": {},
   "outputs": [],
   "source": [
    "check_commu = 355"
   ]
  },
  {
   "cell_type": "code",
   "execution_count": 1264,
   "metadata": {},
   "outputs": [
    {
     "data": {
      "text/html": [
       "<div>\n",
       "<style scoped>\n",
       "    .dataframe tbody tr th:only-of-type {\n",
       "        vertical-align: middle;\n",
       "    }\n",
       "\n",
       "    .dataframe tbody tr th {\n",
       "        vertical-align: top;\n",
       "    }\n",
       "\n",
       "    .dataframe thead th {\n",
       "        text-align: right;\n",
       "    }\n",
       "</style>\n",
       "<table border=\"1\" class=\"dataframe\">\n",
       "  <thead>\n",
       "    <tr style=\"text-align: right;\">\n",
       "      <th></th>\n",
       "      <th>community</th>\n",
       "      <th>type</th>\n",
       "      <th>commu_tx_wallets</th>\n",
       "      <th>commu_tx_count</th>\n",
       "      <th>gas_fee</th>\n",
       "      <th>total_txn</th>\n",
       "      <th>unique_tokens</th>\n",
       "      <th>last_txn_date</th>\n",
       "      <th>unique_active_days</th>\n",
       "      <th>answer</th>\n",
       "    </tr>\n",
       "  </thead>\n",
       "  <tbody>\n",
       "  </tbody>\n",
       "</table>\n",
       "</div>"
      ],
      "text/plain": [
       "Empty DataFrame\n",
       "Columns: [community, type, commu_tx_wallets, commu_tx_count, gas_fee, total_txn, unique_tokens, last_txn_date, unique_active_days, answer]\n",
       "Index: []"
      ]
     },
     "execution_count": 1264,
     "metadata": {},
     "output_type": "execute_result"
    }
   ],
   "source": [
    "false_normal_df[false_normal_df['community'] == check_commu]"
   ]
  },
  {
   "cell_type": "code",
   "execution_count": 1265,
   "metadata": {},
   "outputs": [
    {
     "data": {
      "text/html": [
       "<div>\n",
       "<style scoped>\n",
       "    .dataframe tbody tr th:only-of-type {\n",
       "        vertical-align: middle;\n",
       "    }\n",
       "\n",
       "    .dataframe tbody tr th {\n",
       "        vertical-align: top;\n",
       "    }\n",
       "\n",
       "    .dataframe thead th {\n",
       "        text-align: right;\n",
       "    }\n",
       "</style>\n",
       "<table border=\"1\" class=\"dataframe\">\n",
       "  <thead>\n",
       "    <tr style=\"text-align: right;\">\n",
       "      <th></th>\n",
       "      <th>community</th>\n",
       "      <th>type</th>\n",
       "      <th>commu_tx_wallets</th>\n",
       "      <th>commu_tx_count</th>\n",
       "      <th>gas_fee</th>\n",
       "      <th>total_txn</th>\n",
       "      <th>unique_tokens</th>\n",
       "      <th>last_txn_date</th>\n",
       "      <th>unique_active_days</th>\n",
       "      <th>answer</th>\n",
       "    </tr>\n",
       "  </thead>\n",
       "  <tbody>\n",
       "    <tr>\n",
       "      <th>0x07f293fcb60bbc8c8dcc38ff432b79ca55f697bc</th>\n",
       "      <td>355.0</td>\n",
       "      <td>sybil</td>\n",
       "      <td>1.0</td>\n",
       "      <td>1.0</td>\n",
       "      <td>1.661191</td>\n",
       "      <td>40.0</td>\n",
       "      <td>15.0</td>\n",
       "      <td>2024-06-21</td>\n",
       "      <td>7.0</td>\n",
       "      <td>airdrop</td>\n",
       "    </tr>\n",
       "    <tr>\n",
       "      <th>0x0a64a6588282aedbe95350f93ef04437cd4efb4f</th>\n",
       "      <td>355.0</td>\n",
       "      <td>sybil</td>\n",
       "      <td>1.0</td>\n",
       "      <td>1.0</td>\n",
       "      <td>0.311158</td>\n",
       "      <td>16.0</td>\n",
       "      <td>6.0</td>\n",
       "      <td>2024-05-26</td>\n",
       "      <td>9.0</td>\n",
       "      <td>airdrop</td>\n",
       "    </tr>\n",
       "    <tr>\n",
       "      <th>0x3a879362524180dd3c16de3676d898de79711ef0</th>\n",
       "      <td>355.0</td>\n",
       "      <td>sybil</td>\n",
       "      <td>1.0</td>\n",
       "      <td>1.0</td>\n",
       "      <td>0.544565</td>\n",
       "      <td>20.0</td>\n",
       "      <td>14.0</td>\n",
       "      <td>2023-12-25</td>\n",
       "      <td>8.0</td>\n",
       "      <td>airdrop</td>\n",
       "    </tr>\n",
       "    <tr>\n",
       "      <th>0x34f23a5429fa1a81a80fbde8b4887d2deaf0de23</th>\n",
       "      <td>355.0</td>\n",
       "      <td>sybil</td>\n",
       "      <td>1.0</td>\n",
       "      <td>1.0</td>\n",
       "      <td>0.622517</td>\n",
       "      <td>44.0</td>\n",
       "      <td>21.0</td>\n",
       "      <td>2024-06-21</td>\n",
       "      <td>17.0</td>\n",
       "      <td>airdrop</td>\n",
       "    </tr>\n",
       "    <tr>\n",
       "      <th>0x5d06d36a05ce3df7dd0e460470eb7f2c4c988029</th>\n",
       "      <td>355.0</td>\n",
       "      <td>sybil</td>\n",
       "      <td>1.0</td>\n",
       "      <td>1.0</td>\n",
       "      <td>2.999490</td>\n",
       "      <td>91.0</td>\n",
       "      <td>27.0</td>\n",
       "      <td>2024-06-22</td>\n",
       "      <td>11.0</td>\n",
       "      <td>airdrop</td>\n",
       "    </tr>\n",
       "    <tr>\n",
       "      <th>0x6c873b8be8b490d45c8a704a6e7aa428ff6c65be</th>\n",
       "      <td>355.0</td>\n",
       "      <td>sybil</td>\n",
       "      <td>1.0</td>\n",
       "      <td>1.0</td>\n",
       "      <td>0.296866</td>\n",
       "      <td>17.0</td>\n",
       "      <td>6.0</td>\n",
       "      <td>2024-05-11</td>\n",
       "      <td>11.0</td>\n",
       "      <td>airdrop</td>\n",
       "    </tr>\n",
       "    <tr>\n",
       "      <th>0x89eccd0c7265b479fee6bef84a4522e113eb6f6c</th>\n",
       "      <td>355.0</td>\n",
       "      <td>sybil</td>\n",
       "      <td>1.0</td>\n",
       "      <td>1.0</td>\n",
       "      <td>3.073693</td>\n",
       "      <td>25.0</td>\n",
       "      <td>16.0</td>\n",
       "      <td>2024-06-21</td>\n",
       "      <td>12.0</td>\n",
       "      <td>airdrop</td>\n",
       "    </tr>\n",
       "    <tr>\n",
       "      <th>0xabcc3cb3e09eff2cf1c913c4344a4f1c4207a67b</th>\n",
       "      <td>355.0</td>\n",
       "      <td>sybil</td>\n",
       "      <td>1.0</td>\n",
       "      <td>1.0</td>\n",
       "      <td>2.041978</td>\n",
       "      <td>36.0</td>\n",
       "      <td>21.0</td>\n",
       "      <td>2024-06-23</td>\n",
       "      <td>15.0</td>\n",
       "      <td>airdrop</td>\n",
       "    </tr>\n",
       "  </tbody>\n",
       "</table>\n",
       "</div>"
      ],
      "text/plain": [
       "                                            community   type  \\\n",
       "0x07f293fcb60bbc8c8dcc38ff432b79ca55f697bc      355.0  sybil   \n",
       "0x0a64a6588282aedbe95350f93ef04437cd4efb4f      355.0  sybil   \n",
       "0x3a879362524180dd3c16de3676d898de79711ef0      355.0  sybil   \n",
       "0x34f23a5429fa1a81a80fbde8b4887d2deaf0de23      355.0  sybil   \n",
       "0x5d06d36a05ce3df7dd0e460470eb7f2c4c988029      355.0  sybil   \n",
       "0x6c873b8be8b490d45c8a704a6e7aa428ff6c65be      355.0  sybil   \n",
       "0x89eccd0c7265b479fee6bef84a4522e113eb6f6c      355.0  sybil   \n",
       "0xabcc3cb3e09eff2cf1c913c4344a4f1c4207a67b      355.0  sybil   \n",
       "\n",
       "                                            commu_tx_wallets  commu_tx_count  \\\n",
       "0x07f293fcb60bbc8c8dcc38ff432b79ca55f697bc               1.0             1.0   \n",
       "0x0a64a6588282aedbe95350f93ef04437cd4efb4f               1.0             1.0   \n",
       "0x3a879362524180dd3c16de3676d898de79711ef0               1.0             1.0   \n",
       "0x34f23a5429fa1a81a80fbde8b4887d2deaf0de23               1.0             1.0   \n",
       "0x5d06d36a05ce3df7dd0e460470eb7f2c4c988029               1.0             1.0   \n",
       "0x6c873b8be8b490d45c8a704a6e7aa428ff6c65be               1.0             1.0   \n",
       "0x89eccd0c7265b479fee6bef84a4522e113eb6f6c               1.0             1.0   \n",
       "0xabcc3cb3e09eff2cf1c913c4344a4f1c4207a67b               1.0             1.0   \n",
       "\n",
       "                                             gas_fee  total_txn  \\\n",
       "0x07f293fcb60bbc8c8dcc38ff432b79ca55f697bc  1.661191       40.0   \n",
       "0x0a64a6588282aedbe95350f93ef04437cd4efb4f  0.311158       16.0   \n",
       "0x3a879362524180dd3c16de3676d898de79711ef0  0.544565       20.0   \n",
       "0x34f23a5429fa1a81a80fbde8b4887d2deaf0de23  0.622517       44.0   \n",
       "0x5d06d36a05ce3df7dd0e460470eb7f2c4c988029  2.999490       91.0   \n",
       "0x6c873b8be8b490d45c8a704a6e7aa428ff6c65be  0.296866       17.0   \n",
       "0x89eccd0c7265b479fee6bef84a4522e113eb6f6c  3.073693       25.0   \n",
       "0xabcc3cb3e09eff2cf1c913c4344a4f1c4207a67b  2.041978       36.0   \n",
       "\n",
       "                                            unique_tokens last_txn_date  \\\n",
       "0x07f293fcb60bbc8c8dcc38ff432b79ca55f697bc           15.0    2024-06-21   \n",
       "0x0a64a6588282aedbe95350f93ef04437cd4efb4f            6.0    2024-05-26   \n",
       "0x3a879362524180dd3c16de3676d898de79711ef0           14.0    2023-12-25   \n",
       "0x34f23a5429fa1a81a80fbde8b4887d2deaf0de23           21.0    2024-06-21   \n",
       "0x5d06d36a05ce3df7dd0e460470eb7f2c4c988029           27.0    2024-06-22   \n",
       "0x6c873b8be8b490d45c8a704a6e7aa428ff6c65be            6.0    2024-05-11   \n",
       "0x89eccd0c7265b479fee6bef84a4522e113eb6f6c           16.0    2024-06-21   \n",
       "0xabcc3cb3e09eff2cf1c913c4344a4f1c4207a67b           21.0    2024-06-23   \n",
       "\n",
       "                                            unique_active_days   answer  \n",
       "0x07f293fcb60bbc8c8dcc38ff432b79ca55f697bc                 7.0  airdrop  \n",
       "0x0a64a6588282aedbe95350f93ef04437cd4efb4f                 9.0  airdrop  \n",
       "0x3a879362524180dd3c16de3676d898de79711ef0                 8.0  airdrop  \n",
       "0x34f23a5429fa1a81a80fbde8b4887d2deaf0de23                17.0  airdrop  \n",
       "0x5d06d36a05ce3df7dd0e460470eb7f2c4c988029                11.0  airdrop  \n",
       "0x6c873b8be8b490d45c8a704a6e7aa428ff6c65be                11.0  airdrop  \n",
       "0x89eccd0c7265b479fee6bef84a4522e113eb6f6c                12.0  airdrop  \n",
       "0xabcc3cb3e09eff2cf1c913c4344a4f1c4207a67b                15.0  airdrop  "
      ]
     },
     "execution_count": 1265,
     "metadata": {},
     "output_type": "execute_result"
    }
   ],
   "source": [
    "false_sybil_df[false_sybil_df['community'] == check_commu]"
   ]
  },
  {
   "cell_type": "code",
   "execution_count": 1266,
   "metadata": {},
   "outputs": [
    {
     "data": {
      "text/plain": [
       "type   answer \n",
       "sybil  sybil      44\n",
       "       airdrop     8\n",
       "dtype: int64"
      ]
     },
     "execution_count": 1266,
     "metadata": {},
     "output_type": "execute_result"
    }
   ],
   "source": [
    "full_result_df[full_result_df['community'] == check_commu][['type', 'answer']].value_counts()"
   ]
  },
  {
   "cell_type": "code",
   "execution_count": 1267,
   "metadata": {},
   "outputs": [
    {
     "data": {
      "text/plain": [
       "1.0        62\n",
       "59.0       24\n",
       "105.0      15\n",
       "191.0      14\n",
       "107.0      12\n",
       "           ..\n",
       "3388.0      1\n",
       "3391.0      1\n",
       "3407.0      1\n",
       "3414.0      1\n",
       "20312.0     1\n",
       "Name: community, Length: 1115, dtype: int64"
      ]
     },
     "execution_count": 1267,
     "metadata": {},
     "output_type": "execute_result"
    }
   ],
   "source": [
    "false_sybil_df['community'].value_counts()"
   ]
  },
  {
   "cell_type": "code",
   "execution_count": 1268,
   "metadata": {},
   "outputs": [
    {
     "data": {
      "text/plain": [
       "51.0       12\n",
       "337.0       9\n",
       "319.0       8\n",
       "369.0       7\n",
       "2166.0      5\n",
       "           ..\n",
       "4643.0      1\n",
       "4790.0      1\n",
       "4791.0      1\n",
       "4796.0      1\n",
       "23957.0     1\n",
       "Name: community, Length: 1022, dtype: int64"
      ]
     },
     "execution_count": 1268,
     "metadata": {},
     "output_type": "execute_result"
    }
   ],
   "source": [
    "false_normal_df['community'].value_counts()"
   ]
  },
  {
   "cell_type": "code",
   "execution_count": null,
   "metadata": {},
   "outputs": [],
   "source": []
  },
  {
   "cell_type": "code",
   "execution_count": null,
   "metadata": {},
   "outputs": [],
   "source": []
  },
  {
   "cell_type": "code",
   "execution_count": 1269,
   "metadata": {},
   "outputs": [],
   "source": [
    "test_variable = 'community'"
   ]
  },
  {
   "cell_type": "code",
   "execution_count": 1270,
   "metadata": {},
   "outputs": [
    {
     "data": {
      "text/plain": [
       "count    28460.000000\n",
       "mean      7077.136964\n",
       "std       6529.738403\n",
       "min          1.000000\n",
       "25%        893.000000\n",
       "50%       5095.500000\n",
       "75%      12740.250000\n",
       "max      20326.000000\n",
       "Name: community, dtype: float64"
      ]
     },
     "execution_count": 1270,
     "metadata": {},
     "output_type": "execute_result"
    },
    {
     "data": {
      "image/png": "[encoded data removed]",
      "text/plain": [
       "<Figure size 640x480 with 1 Axes>"
      ]
     },
     "metadata": {},
     "output_type": "display_data"
    }
   ],
   "source": [
    "# pd.DataFrame(\n",
    "#     true_sybil_df[\"last_txn_date\"].apply(lambda x: pd.to_datetime(x)).value_counts()\n",
    "# ).sort_index().iloc[1:, :].plot()\n",
    "\n",
    "# true_sybil_df['commu_tx_wallets'].value_counts().sort_index().plot()  \n",
    "\n",
    "full_result_df.loc[true_sybil_lst, test_variable].value_counts().sort_index().plot()\n",
    "full_result_df.loc[true_sybil_lst, test_variable].describe()"
   ]
  },
  {
   "cell_type": "code",
   "execution_count": 1271,
   "metadata": {},
   "outputs": [
    {
     "data": {
      "text/plain": [
       "count      339.000000\n",
       "mean      7418.150442\n",
       "std       8969.611095\n",
       "min         51.000000\n",
       "25%       1192.500000\n",
       "50%       2294.000000\n",
       "75%      20738.500000\n",
       "max      23531.000000\n",
       "Name: community, dtype: float64"
      ]
     },
     "execution_count": 1271,
     "metadata": {},
     "output_type": "execute_result"
    },
    {
     "data": {
      "image/png": "[encoded data removed]",
      "text/plain": [
       "<Figure size 640x480 with 1 Axes>"
      ]
     },
     "metadata": {},
     "output_type": "display_data"
    }
   ],
   "source": [
    "# pd.DataFrame(\n",
    "#     true_normal_df[\"last_txn_date\"].apply(lambda x: pd.to_datetime(x)).value_counts()\n",
    "# ).sort_index().iloc[1:, :].plot()\n",
    "\n",
    "# true_normal_df['total_txn'].value_counts().sort_index().plot()  \n",
    "\n",
    "full_result_df.loc[true_normal_lst, test_variable].value_counts().sort_index().plot()\n",
    "full_result_df.loc[true_normal_lst, test_variable].describe()"
   ]
  },
  {
   "cell_type": "code",
   "execution_count": 1272,
   "metadata": {},
   "outputs": [
    {
     "data": {
      "text/html": [
       "<div>\n",
       "<style scoped>\n",
       "    .dataframe tbody tr th:only-of-type {\n",
       "        vertical-align: middle;\n",
       "    }\n",
       "\n",
       "    .dataframe tbody tr th {\n",
       "        vertical-align: top;\n",
       "    }\n",
       "\n",
       "    .dataframe thead th {\n",
       "        text-align: right;\n",
       "    }\n",
       "</style>\n",
       "<table border=\"1\" class=\"dataframe\">\n",
       "  <thead>\n",
       "    <tr style=\"text-align: right;\">\n",
       "      <th></th>\n",
       "      <th>community</th>\n",
       "      <th>type</th>\n",
       "      <th>commu_tx_wallets</th>\n",
       "      <th>commu_tx_count</th>\n",
       "      <th>gas_fee</th>\n",
       "      <th>total_txn</th>\n",
       "      <th>unique_tokens</th>\n",
       "      <th>last_txn_date</th>\n",
       "      <th>unique_active_days</th>\n",
       "      <th>answer</th>\n",
       "    </tr>\n",
       "  </thead>\n",
       "  <tbody>\n",
       "    <tr>\n",
       "      <th>0x9270f540465411d6c217ef563fcc6a482c28d1ee</th>\n",
       "      <td>51.0</td>\n",
       "      <td>normal</td>\n",
       "      <td>1.0</td>\n",
       "      <td>1.0</td>\n",
       "      <td>2.226604</td>\n",
       "      <td>72.0</td>\n",
       "      <td>45.0</td>\n",
       "      <td>2024-06-20</td>\n",
       "      <td>39.0</td>\n",
       "      <td>airdrop</td>\n",
       "    </tr>\n",
       "    <tr>\n",
       "      <th>0x13c8c8a27b6e90a344e252d7fce5c612e86640a5</th>\n",
       "      <td>226.0</td>\n",
       "      <td>normal</td>\n",
       "      <td>20.0</td>\n",
       "      <td>40.0</td>\n",
       "      <td>5.643044</td>\n",
       "      <td>106.0</td>\n",
       "      <td>28.0</td>\n",
       "      <td>2024-06-23</td>\n",
       "      <td>27.0</td>\n",
       "      <td>airdrop</td>\n",
       "    </tr>\n",
       "    <tr>\n",
       "      <th>0x414545c9c201af809cb1e048d9085fffc78e416a</th>\n",
       "      <td>232.0</td>\n",
       "      <td>normal</td>\n",
       "      <td>4.0</td>\n",
       "      <td>5.0</td>\n",
       "      <td>2.992689</td>\n",
       "      <td>100.0</td>\n",
       "      <td>40.0</td>\n",
       "      <td>2024-06-20</td>\n",
       "      <td>28.0</td>\n",
       "      <td>airdrop</td>\n",
       "    </tr>\n",
       "    <tr>\n",
       "      <th>0x1a0ce18085a3a7979e87bb4ccfb50df165b44933</th>\n",
       "      <td>245.0</td>\n",
       "      <td>normal</td>\n",
       "      <td>1.0</td>\n",
       "      <td>1.0</td>\n",
       "      <td>10.408329</td>\n",
       "      <td>64.0</td>\n",
       "      <td>28.0</td>\n",
       "      <td>2024-06-13</td>\n",
       "      <td>17.0</td>\n",
       "      <td>airdrop</td>\n",
       "    </tr>\n",
       "    <tr>\n",
       "      <th>0xdb0887f4f05f98552f7f020c66d8b2e7062a6e44</th>\n",
       "      <td>245.0</td>\n",
       "      <td>normal</td>\n",
       "      <td>4.0</td>\n",
       "      <td>7.0</td>\n",
       "      <td>0.496806</td>\n",
       "      <td>26.0</td>\n",
       "      <td>9.0</td>\n",
       "      <td>2024-03-31</td>\n",
       "      <td>9.0</td>\n",
       "      <td>airdrop</td>\n",
       "    </tr>\n",
       "    <tr>\n",
       "      <th>...</th>\n",
       "      <td>...</td>\n",
       "      <td>...</td>\n",
       "      <td>...</td>\n",
       "      <td>...</td>\n",
       "      <td>...</td>\n",
       "      <td>...</td>\n",
       "      <td>...</td>\n",
       "      <td>...</td>\n",
       "      <td>...</td>\n",
       "      <td>...</td>\n",
       "    </tr>\n",
       "    <tr>\n",
       "      <th>0xec2bdeb0ef70cdfdf375d6ac5eb3d94b9be5ae51</th>\n",
       "      <td>22895.0</td>\n",
       "      <td>normal</td>\n",
       "      <td>0.0</td>\n",
       "      <td>0.0</td>\n",
       "      <td>6.202546</td>\n",
       "      <td>76.0</td>\n",
       "      <td>42.0</td>\n",
       "      <td>2024-06-20</td>\n",
       "      <td>24.0</td>\n",
       "      <td>airdrop</td>\n",
       "    </tr>\n",
       "    <tr>\n",
       "      <th>0x685da9106e9c9d4349e83ce9be27b169961ff2f1</th>\n",
       "      <td>23077.0</td>\n",
       "      <td>normal</td>\n",
       "      <td>0.0</td>\n",
       "      <td>0.0</td>\n",
       "      <td>1.750376</td>\n",
       "      <td>28.0</td>\n",
       "      <td>14.0</td>\n",
       "      <td>2024-06-20</td>\n",
       "      <td>8.0</td>\n",
       "      <td>airdrop</td>\n",
       "    </tr>\n",
       "    <tr>\n",
       "      <th>0x72e130fe55658167f7960a8765ba1b0b35ab78f0</th>\n",
       "      <td>23181.0</td>\n",
       "      <td>normal</td>\n",
       "      <td>0.0</td>\n",
       "      <td>0.0</td>\n",
       "      <td>2.353619</td>\n",
       "      <td>125.0</td>\n",
       "      <td>16.0</td>\n",
       "      <td>2024-06-21</td>\n",
       "      <td>10.0</td>\n",
       "      <td>airdrop</td>\n",
       "    </tr>\n",
       "    <tr>\n",
       "      <th>0xf4f9af1933f6068104bd0a8a9623fbd2ad8009b9</th>\n",
       "      <td>23263.0</td>\n",
       "      <td>normal</td>\n",
       "      <td>0.0</td>\n",
       "      <td>0.0</td>\n",
       "      <td>2.308673</td>\n",
       "      <td>74.0</td>\n",
       "      <td>18.0</td>\n",
       "      <td>2024-04-17</td>\n",
       "      <td>14.0</td>\n",
       "      <td>airdrop</td>\n",
       "    </tr>\n",
       "    <tr>\n",
       "      <th>0xd63234ae0bb76aa736cfdf6c7bfd562385f91417</th>\n",
       "      <td>23531.0</td>\n",
       "      <td>normal</td>\n",
       "      <td>0.0</td>\n",
       "      <td>0.0</td>\n",
       "      <td>6.589229</td>\n",
       "      <td>36.0</td>\n",
       "      <td>28.0</td>\n",
       "      <td>2024-06-15</td>\n",
       "      <td>17.0</td>\n",
       "      <td>airdrop</td>\n",
       "    </tr>\n",
       "  </tbody>\n",
       "</table>\n",
       "<p>339 rows × 10 columns</p>\n",
       "</div>"
      ],
      "text/plain": [
       "                                            community    type  \\\n",
       "0x9270f540465411d6c217ef563fcc6a482c28d1ee       51.0  normal   \n",
       "0x13c8c8a27b6e90a344e252d7fce5c612e86640a5      226.0  normal   \n",
       "0x414545c9c201af809cb1e048d9085fffc78e416a      232.0  normal   \n",
       "0x1a0ce18085a3a7979e87bb4ccfb50df165b44933      245.0  normal   \n",
       "0xdb0887f4f05f98552f7f020c66d8b2e7062a6e44      245.0  normal   \n",
       "...                                               ...     ...   \n",
       "0xec2bdeb0ef70cdfdf375d6ac5eb3d94b9be5ae51    22895.0  normal   \n",
       "0x685da9106e9c9d4349e83ce9be27b169961ff2f1    23077.0  normal   \n",
       "0x72e130fe55658167f7960a8765ba1b0b35ab78f0    23181.0  normal   \n",
       "0xf4f9af1933f6068104bd0a8a9623fbd2ad8009b9    23263.0  normal   \n",
       "0xd63234ae0bb76aa736cfdf6c7bfd562385f91417    23531.0  normal   \n",
       "\n",
       "                                            commu_tx_wallets  commu_tx_count  \\\n",
       "0x9270f540465411d6c217ef563fcc6a482c28d1ee               1.0             1.0   \n",
       "0x13c8c8a27b6e90a344e252d7fce5c612e86640a5              20.0            40.0   \n",
       "0x414545c9c201af809cb1e048d9085fffc78e416a               4.0             5.0   \n",
       "0x1a0ce18085a3a7979e87bb4ccfb50df165b44933               1.0             1.0   \n",
       "0xdb0887f4f05f98552f7f020c66d8b2e7062a6e44               4.0             7.0   \n",
       "...                                                      ...             ...   \n",
       "0xec2bdeb0ef70cdfdf375d6ac5eb3d94b9be5ae51               0.0             0.0   \n",
       "0x685da9106e9c9d4349e83ce9be27b169961ff2f1               0.0             0.0   \n",
       "0x72e130fe55658167f7960a8765ba1b0b35ab78f0               0.0             0.0   \n",
       "0xf4f9af1933f6068104bd0a8a9623fbd2ad8009b9               0.0             0.0   \n",
       "0xd63234ae0bb76aa736cfdf6c7bfd562385f91417               0.0             0.0   \n",
       "\n",
       "                                              gas_fee  total_txn  \\\n",
       "0x9270f540465411d6c217ef563fcc6a482c28d1ee   2.226604       72.0   \n",
       "0x13c8c8a27b6e90a344e252d7fce5c612e86640a5   5.643044      106.0   \n",
       "0x414545c9c201af809cb1e048d9085fffc78e416a   2.992689      100.0   \n",
       "0x1a0ce18085a3a7979e87bb4ccfb50df165b44933  10.408329       64.0   \n",
       "0xdb0887f4f05f98552f7f020c66d8b2e7062a6e44   0.496806       26.0   \n",
       "...                                               ...        ...   \n",
       "0xec2bdeb0ef70cdfdf375d6ac5eb3d94b9be5ae51   6.202546       76.0   \n",
       "0x685da9106e9c9d4349e83ce9be27b169961ff2f1   1.750376       28.0   \n",
       "0x72e130fe55658167f7960a8765ba1b0b35ab78f0   2.353619      125.0   \n",
       "0xf4f9af1933f6068104bd0a8a9623fbd2ad8009b9   2.308673       74.0   \n",
       "0xd63234ae0bb76aa736cfdf6c7bfd562385f91417   6.589229       36.0   \n",
       "\n",
       "                                            unique_tokens last_txn_date  \\\n",
       "0x9270f540465411d6c217ef563fcc6a482c28d1ee           45.0    2024-06-20   \n",
       "0x13c8c8a27b6e90a344e252d7fce5c612e86640a5           28.0    2024-06-23   \n",
       "0x414545c9c201af809cb1e048d9085fffc78e416a           40.0    2024-06-20   \n",
       "0x1a0ce18085a3a7979e87bb4ccfb50df165b44933           28.0    2024-06-13   \n",
       "0xdb0887f4f05f98552f7f020c66d8b2e7062a6e44            9.0    2024-03-31   \n",
       "...                                                   ...           ...   \n",
       "0xec2bdeb0ef70cdfdf375d6ac5eb3d94b9be5ae51           42.0    2024-06-20   \n",
       "0x685da9106e9c9d4349e83ce9be27b169961ff2f1           14.0    2024-06-20   \n",
       "0x72e130fe55658167f7960a8765ba1b0b35ab78f0           16.0    2024-06-21   \n",
       "0xf4f9af1933f6068104bd0a8a9623fbd2ad8009b9           18.0    2024-04-17   \n",
       "0xd63234ae0bb76aa736cfdf6c7bfd562385f91417           28.0    2024-06-15   \n",
       "\n",
       "                                            unique_active_days   answer  \n",
       "0x9270f540465411d6c217ef563fcc6a482c28d1ee                39.0  airdrop  \n",
       "0x13c8c8a27b6e90a344e252d7fce5c612e86640a5                27.0  airdrop  \n",
       "0x414545c9c201af809cb1e048d9085fffc78e416a                28.0  airdrop  \n",
       "0x1a0ce18085a3a7979e87bb4ccfb50df165b44933                17.0  airdrop  \n",
       "0xdb0887f4f05f98552f7f020c66d8b2e7062a6e44                 9.0  airdrop  \n",
       "...                                                        ...      ...  \n",
       "0xec2bdeb0ef70cdfdf375d6ac5eb3d94b9be5ae51                24.0  airdrop  \n",
       "0x685da9106e9c9d4349e83ce9be27b169961ff2f1                 8.0  airdrop  \n",
       "0x72e130fe55658167f7960a8765ba1b0b35ab78f0                10.0  airdrop  \n",
       "0xf4f9af1933f6068104bd0a8a9623fbd2ad8009b9                14.0  airdrop  \n",
       "0xd63234ae0bb76aa736cfdf6c7bfd562385f91417                17.0  airdrop  \n",
       "\n",
       "[339 rows x 10 columns]"
      ]
     },
     "execution_count": 1272,
     "metadata": {},
     "output_type": "execute_result"
    }
   ],
   "source": [
    "full_result_df.loc[true_normal_lst]"
   ]
  },
  {
   "cell_type": "code",
   "execution_count": 1273,
   "metadata": {},
   "outputs": [
    {
     "data": {
      "text/plain": [
       "count     1982.000000\n",
       "mean      4835.981332\n",
       "std       6275.188482\n",
       "min          1.000000\n",
       "25%        706.000000\n",
       "50%       1715.000000\n",
       "75%       5610.000000\n",
       "max      20312.000000\n",
       "Name: community, dtype: float64"
      ]
     },
     "execution_count": 1273,
     "metadata": {},
     "output_type": "execute_result"
    },
    {
     "data": {
      "image/png": "[encoded data removed]",
      "text/plain": [
       "<Figure size 640x480 with 1 Axes>"
      ]
     },
     "metadata": {},
     "output_type": "display_data"
    }
   ],
   "source": [
    "# pd.DataFrame(\n",
    "#     false_sybil_df[\"last_txn_date\"].apply(lambda x: pd.to_datetime(x)).value_counts()\n",
    "# ).sort_index().iloc[1:, :].plot()\n",
    "\n",
    "# false_sybil_df['total_txn'].value_counts().sort_index().plot()  \n",
    "\n",
    "full_result_df.loc[false_sybil_lst, test_variable].value_counts().sort_index().plot()\n",
    "full_result_df.loc[false_sybil_lst, test_variable].describe()"
   ]
  },
  {
   "cell_type": "code",
   "execution_count": 1274,
   "metadata": {},
   "outputs": [
    {
     "data": {
      "text/plain": [
       "count     1272.000000\n",
       "mean     10705.189465\n",
       "std      10128.774869\n",
       "min         51.000000\n",
       "25%       1237.000000\n",
       "50%       3612.000000\n",
       "75%      21398.250000\n",
       "max      23957.000000\n",
       "Name: community, dtype: float64"
      ]
     },
     "execution_count": 1274,
     "metadata": {},
     "output_type": "execute_result"
    },
    {
     "data": {
      "image/png": "[encoded data removed]",
      "text/plain": [
       "<Figure size 640x480 with 1 Axes>"
      ]
     },
     "metadata": {},
     "output_type": "display_data"
    }
   ],
   "source": [
    "# pd.DataFrame(\n",
    "#     false_normal_df[\"last_txn_date\"].apply(lambda x: pd.to_datetime(x)).value_counts()\n",
    "# ).sort_index().iloc[1:, :].plot()\n",
    "\n",
    "# false_normal_df['total_txn'].value_counts().sort_index().plot()  \n",
    "\n",
    "full_result_df.loc[false_normal_lst, test_variable].value_counts().sort_index().plot()\n",
    "full_result_df.loc[false_normal_lst, test_variable].describe()"
   ]
  },
  {
   "cell_type": "code",
   "execution_count": 1275,
   "metadata": {},
   "outputs": [
    {
     "data": {
      "text/html": [
       "<div>\n",
       "<style scoped>\n",
       "    .dataframe tbody tr th:only-of-type {\n",
       "        vertical-align: middle;\n",
       "    }\n",
       "\n",
       "    .dataframe tbody tr th {\n",
       "        vertical-align: top;\n",
       "    }\n",
       "\n",
       "    .dataframe thead th {\n",
       "        text-align: right;\n",
       "    }\n",
       "</style>\n",
       "<table border=\"1\" class=\"dataframe\">\n",
       "  <thead>\n",
       "    <tr style=\"text-align: right;\">\n",
       "      <th></th>\n",
       "      <th>community</th>\n",
       "      <th>type</th>\n",
       "      <th>commu_tx_wallets</th>\n",
       "      <th>commu_tx_count</th>\n",
       "      <th>gas_fee</th>\n",
       "      <th>total_txn</th>\n",
       "      <th>unique_tokens</th>\n",
       "      <th>last_txn_date</th>\n",
       "      <th>unique_active_days</th>\n",
       "      <th>answer</th>\n",
       "    </tr>\n",
       "  </thead>\n",
       "  <tbody>\n",
       "    <tr>\n",
       "      <th>0x04668fc8e555dbec20f2bb42a3c72b4b7b194d97</th>\n",
       "      <td>51.0</td>\n",
       "      <td>normal</td>\n",
       "      <td>1.0</td>\n",
       "      <td>1.0</td>\n",
       "      <td>2.066047</td>\n",
       "      <td>34.0</td>\n",
       "      <td>19.0</td>\n",
       "      <td>2024-03-28</td>\n",
       "      <td>13.0</td>\n",
       "      <td>sybil</td>\n",
       "    </tr>\n",
       "    <tr>\n",
       "      <th>0x28079f423f5a7242459f77b1c42f8b0de8269905</th>\n",
       "      <td>51.0</td>\n",
       "      <td>normal</td>\n",
       "      <td>2.0</td>\n",
       "      <td>2.0</td>\n",
       "      <td>0.950762</td>\n",
       "      <td>18.0</td>\n",
       "      <td>10.0</td>\n",
       "      <td>2024-05-11</td>\n",
       "      <td>8.0</td>\n",
       "      <td>sybil</td>\n",
       "    </tr>\n",
       "    <tr>\n",
       "      <th>0x393945fcab9652221b90444959fa1ea0963425f7</th>\n",
       "      <td>51.0</td>\n",
       "      <td>normal</td>\n",
       "      <td>1.0</td>\n",
       "      <td>1.0</td>\n",
       "      <td>1.640516</td>\n",
       "      <td>90.0</td>\n",
       "      <td>26.0</td>\n",
       "      <td>2024-06-28</td>\n",
       "      <td>57.0</td>\n",
       "      <td>sybil</td>\n",
       "    </tr>\n",
       "    <tr>\n",
       "      <th>0x4a94f237f1e430bb100ed1732e75b51f172c90d8</th>\n",
       "      <td>51.0</td>\n",
       "      <td>normal</td>\n",
       "      <td>1.0</td>\n",
       "      <td>1.0</td>\n",
       "      <td>2.210230</td>\n",
       "      <td>60.0</td>\n",
       "      <td>27.0</td>\n",
       "      <td>2024-05-11</td>\n",
       "      <td>36.0</td>\n",
       "      <td>sybil</td>\n",
       "    </tr>\n",
       "    <tr>\n",
       "      <th>0x59f5d24375fd249e857fc70ffdf7f44a0b49af65</th>\n",
       "      <td>51.0</td>\n",
       "      <td>normal</td>\n",
       "      <td>1.0</td>\n",
       "      <td>1.0</td>\n",
       "      <td>0.418141</td>\n",
       "      <td>18.0</td>\n",
       "      <td>14.0</td>\n",
       "      <td>2023-12-21</td>\n",
       "      <td>12.0</td>\n",
       "      <td>sybil</td>\n",
       "    </tr>\n",
       "    <tr>\n",
       "      <th>...</th>\n",
       "      <td>...</td>\n",
       "      <td>...</td>\n",
       "      <td>...</td>\n",
       "      <td>...</td>\n",
       "      <td>...</td>\n",
       "      <td>...</td>\n",
       "      <td>...</td>\n",
       "      <td>...</td>\n",
       "      <td>...</td>\n",
       "      <td>...</td>\n",
       "    </tr>\n",
       "    <tr>\n",
       "      <th>0xd6ed687fb45dcbe13784812d7c088a30ed0ca904</th>\n",
       "      <td>23946.0</td>\n",
       "      <td>normal</td>\n",
       "      <td>0.0</td>\n",
       "      <td>0.0</td>\n",
       "      <td>0.666204</td>\n",
       "      <td>20.0</td>\n",
       "      <td>14.0</td>\n",
       "      <td>2024-04-29</td>\n",
       "      <td>6.0</td>\n",
       "      <td>sybil</td>\n",
       "    </tr>\n",
       "    <tr>\n",
       "      <th>0xf0d939b52cde10a96c8276422cf248b42c587d88</th>\n",
       "      <td>23947.0</td>\n",
       "      <td>normal</td>\n",
       "      <td>0.0</td>\n",
       "      <td>0.0</td>\n",
       "      <td>1.147547</td>\n",
       "      <td>24.0</td>\n",
       "      <td>18.0</td>\n",
       "      <td>2024-04-29</td>\n",
       "      <td>8.0</td>\n",
       "      <td>sybil</td>\n",
       "    </tr>\n",
       "    <tr>\n",
       "      <th>0xe335047dd2ca52363cb3a61515c66ea5a6085a45</th>\n",
       "      <td>23955.0</td>\n",
       "      <td>normal</td>\n",
       "      <td>0.0</td>\n",
       "      <td>0.0</td>\n",
       "      <td>0.371875</td>\n",
       "      <td>13.0</td>\n",
       "      <td>10.0</td>\n",
       "      <td>2024-04-27</td>\n",
       "      <td>11.0</td>\n",
       "      <td>sybil</td>\n",
       "    </tr>\n",
       "    <tr>\n",
       "      <th>0xf358dcab2973c031b91be455eeb7f863a6274b20</th>\n",
       "      <td>23956.0</td>\n",
       "      <td>normal</td>\n",
       "      <td>0.0</td>\n",
       "      <td>0.0</td>\n",
       "      <td>2.739630</td>\n",
       "      <td>50.0</td>\n",
       "      <td>25.0</td>\n",
       "      <td>2024-06-30</td>\n",
       "      <td>30.0</td>\n",
       "      <td>sybil</td>\n",
       "    </tr>\n",
       "    <tr>\n",
       "      <th>0xfc7a55fbc31fdc37bdd8e4c6571808912e1cf2f3</th>\n",
       "      <td>23957.0</td>\n",
       "      <td>normal</td>\n",
       "      <td>0.0</td>\n",
       "      <td>0.0</td>\n",
       "      <td>4.927791</td>\n",
       "      <td>70.0</td>\n",
       "      <td>33.0</td>\n",
       "      <td>2024-01-07</td>\n",
       "      <td>27.0</td>\n",
       "      <td>sybil</td>\n",
       "    </tr>\n",
       "  </tbody>\n",
       "</table>\n",
       "<p>1272 rows × 10 columns</p>\n",
       "</div>"
      ],
      "text/plain": [
       "                                            community    type  \\\n",
       "0x04668fc8e555dbec20f2bb42a3c72b4b7b194d97       51.0  normal   \n",
       "0x28079f423f5a7242459f77b1c42f8b0de8269905       51.0  normal   \n",
       "0x393945fcab9652221b90444959fa1ea0963425f7       51.0  normal   \n",
       "0x4a94f237f1e430bb100ed1732e75b51f172c90d8       51.0  normal   \n",
       "0x59f5d24375fd249e857fc70ffdf7f44a0b49af65       51.0  normal   \n",
       "...                                               ...     ...   \n",
       "0xd6ed687fb45dcbe13784812d7c088a30ed0ca904    23946.0  normal   \n",
       "0xf0d939b52cde10a96c8276422cf248b42c587d88    23947.0  normal   \n",
       "0xe335047dd2ca52363cb3a61515c66ea5a6085a45    23955.0  normal   \n",
       "0xf358dcab2973c031b91be455eeb7f863a6274b20    23956.0  normal   \n",
       "0xfc7a55fbc31fdc37bdd8e4c6571808912e1cf2f3    23957.0  normal   \n",
       "\n",
       "                                            commu_tx_wallets  commu_tx_count  \\\n",
       "0x04668fc8e555dbec20f2bb42a3c72b4b7b194d97               1.0             1.0   \n",
       "0x28079f423f5a7242459f77b1c42f8b0de8269905               2.0             2.0   \n",
       "0x393945fcab9652221b90444959fa1ea0963425f7               1.0             1.0   \n",
       "0x4a94f237f1e430bb100ed1732e75b51f172c90d8               1.0             1.0   \n",
       "0x59f5d24375fd249e857fc70ffdf7f44a0b49af65               1.0             1.0   \n",
       "...                                                      ...             ...   \n",
       "0xd6ed687fb45dcbe13784812d7c088a30ed0ca904               0.0             0.0   \n",
       "0xf0d939b52cde10a96c8276422cf248b42c587d88               0.0             0.0   \n",
       "0xe335047dd2ca52363cb3a61515c66ea5a6085a45               0.0             0.0   \n",
       "0xf358dcab2973c031b91be455eeb7f863a6274b20               0.0             0.0   \n",
       "0xfc7a55fbc31fdc37bdd8e4c6571808912e1cf2f3               0.0             0.0   \n",
       "\n",
       "                                             gas_fee  total_txn  \\\n",
       "0x04668fc8e555dbec20f2bb42a3c72b4b7b194d97  2.066047       34.0   \n",
       "0x28079f423f5a7242459f77b1c42f8b0de8269905  0.950762       18.0   \n",
       "0x393945fcab9652221b90444959fa1ea0963425f7  1.640516       90.0   \n",
       "0x4a94f237f1e430bb100ed1732e75b51f172c90d8  2.210230       60.0   \n",
       "0x59f5d24375fd249e857fc70ffdf7f44a0b49af65  0.418141       18.0   \n",
       "...                                              ...        ...   \n",
       "0xd6ed687fb45dcbe13784812d7c088a30ed0ca904  0.666204       20.0   \n",
       "0xf0d939b52cde10a96c8276422cf248b42c587d88  1.147547       24.0   \n",
       "0xe335047dd2ca52363cb3a61515c66ea5a6085a45  0.371875       13.0   \n",
       "0xf358dcab2973c031b91be455eeb7f863a6274b20  2.739630       50.0   \n",
       "0xfc7a55fbc31fdc37bdd8e4c6571808912e1cf2f3  4.927791       70.0   \n",
       "\n",
       "                                            unique_tokens last_txn_date  \\\n",
       "0x04668fc8e555dbec20f2bb42a3c72b4b7b194d97           19.0    2024-03-28   \n",
       "0x28079f423f5a7242459f77b1c42f8b0de8269905           10.0    2024-05-11   \n",
       "0x393945fcab9652221b90444959fa1ea0963425f7           26.0    2024-06-28   \n",
       "0x4a94f237f1e430bb100ed1732e75b51f172c90d8           27.0    2024-05-11   \n",
       "0x59f5d24375fd249e857fc70ffdf7f44a0b49af65           14.0    2023-12-21   \n",
       "...                                                   ...           ...   \n",
       "0xd6ed687fb45dcbe13784812d7c088a30ed0ca904           14.0    2024-04-29   \n",
       "0xf0d939b52cde10a96c8276422cf248b42c587d88           18.0    2024-04-29   \n",
       "0xe335047dd2ca52363cb3a61515c66ea5a6085a45           10.0    2024-04-27   \n",
       "0xf358dcab2973c031b91be455eeb7f863a6274b20           25.0    2024-06-30   \n",
       "0xfc7a55fbc31fdc37bdd8e4c6571808912e1cf2f3           33.0    2024-01-07   \n",
       "\n",
       "                                            unique_active_days answer  \n",
       "0x04668fc8e555dbec20f2bb42a3c72b4b7b194d97                13.0  sybil  \n",
       "0x28079f423f5a7242459f77b1c42f8b0de8269905                 8.0  sybil  \n",
       "0x393945fcab9652221b90444959fa1ea0963425f7                57.0  sybil  \n",
       "0x4a94f237f1e430bb100ed1732e75b51f172c90d8                36.0  sybil  \n",
       "0x59f5d24375fd249e857fc70ffdf7f44a0b49af65                12.0  sybil  \n",
       "...                                                        ...    ...  \n",
       "0xd6ed687fb45dcbe13784812d7c088a30ed0ca904                 6.0  sybil  \n",
       "0xf0d939b52cde10a96c8276422cf248b42c587d88                 8.0  sybil  \n",
       "0xe335047dd2ca52363cb3a61515c66ea5a6085a45                11.0  sybil  \n",
       "0xf358dcab2973c031b91be455eeb7f863a6274b20                30.0  sybil  \n",
       "0xfc7a55fbc31fdc37bdd8e4c6571808912e1cf2f3                27.0  sybil  \n",
       "\n",
       "[1272 rows x 10 columns]"
      ]
     },
     "execution_count": 1275,
     "metadata": {},
     "output_type": "execute_result"
    }
   ],
   "source": [
    "full_result_df.loc[false_normal_lst]"
   ]
  },
  {
   "cell_type": "code",
   "execution_count": 1276,
   "metadata": {},
   "outputs": [
    {
     "data": {
      "text/plain": [
       "sybil      394\n",
       "airdrop     62\n",
       "Name: answer, dtype: int64"
      ]
     },
     "execution_count": 1276,
     "metadata": {},
     "output_type": "execute_result"
    }
   ],
   "source": [
    "full_result_df[full_result_df['community'] == 1].answer.value_counts()"
   ]
  },
  {
   "cell_type": "code",
   "execution_count": null,
   "metadata": {},
   "outputs": [],
   "source": []
  },
  {
   "cell_type": "code",
   "execution_count": null,
   "metadata": {},
   "outputs": [],
   "source": []
  },
  {
   "cell_type": "code",
   "execution_count": null,
   "metadata": {},
   "outputs": [],
   "source": []
  },
  {
   "cell_type": "code",
   "execution_count": null,
   "metadata": {},
   "outputs": [],
   "source": []
  },
  {
   "cell_type": "code",
   "execution_count": 1277,
   "metadata": {},
   "outputs": [],
   "source": [
    "answer_sybil_df = full_result_df[full_result_df[\"answer\"] == \"sybil\"]\n",
    "answer_airdrop_df = full_result_df[full_result_df[\"answer\"] == \"airdrop\"]"
   ]
  },
  {
   "cell_type": "code",
   "execution_count": 1278,
   "metadata": {},
   "outputs": [
    {
     "data": {
      "text/plain": [
       "<Axes: >"
      ]
     },
     "execution_count": 1278,
     "metadata": {},
     "output_type": "execute_result"
    },
    {
     "data": {
      "image/png": "[encoded data removed]",
      "text/plain": [
       "<Figure size 640x480 with 1 Axes>"
      ]
     },
     "metadata": {},
     "output_type": "display_data"
    }
   ],
   "source": [
    "pd.DataFrame(\n",
    "    answer_sybil_df[\"last_txn_date\"].apply(lambda x: pd.to_datetime(x)).value_counts()\n",
    ").sort_index().iloc[1:, :].plot()"
   ]
  },
  {
   "cell_type": "code",
   "execution_count": 1279,
   "metadata": {},
   "outputs": [
    {
     "data": {
      "text/plain": [
       "<Axes: >"
      ]
     },
     "execution_count": 1279,
     "metadata": {},
     "output_type": "execute_result"
    },
    {
     "data": {
      "image/png": "[encoded data removed]",
      "text/plain": [
       "<Figure size 640x480 with 1 Axes>"
      ]
     },
     "metadata": {},
     "output_type": "display_data"
    }
   ],
   "source": [
    "pd.DataFrame(\n",
    "    answer_airdrop_df[\"last_txn_date\"].apply(lambda x: pd.to_datetime(x)).value_counts()\n",
    ").sort_index().iloc[1:, :].plot()"
   ]
  },
  {
   "cell_type": "code",
   "execution_count": 1280,
   "metadata": {},
   "outputs": [
    {
     "data": {
      "text/html": [
       "<div>\n",
       "<style scoped>\n",
       "    .dataframe tbody tr th:only-of-type {\n",
       "        vertical-align: middle;\n",
       "    }\n",
       "\n",
       "    .dataframe tbody tr th {\n",
       "        vertical-align: top;\n",
       "    }\n",
       "\n",
       "    .dataframe thead th {\n",
       "        text-align: right;\n",
       "    }\n",
       "</style>\n",
       "<table border=\"1\" class=\"dataframe\">\n",
       "  <thead>\n",
       "    <tr style=\"text-align: right;\">\n",
       "      <th></th>\n",
       "      <th>last_txn_date</th>\n",
       "    </tr>\n",
       "  </thead>\n",
       "  <tbody>\n",
       "    <tr>\n",
       "      <th>1970-01-01</th>\n",
       "      <td>2</td>\n",
       "    </tr>\n",
       "    <tr>\n",
       "      <th>2023-07-09</th>\n",
       "      <td>1</td>\n",
       "    </tr>\n",
       "    <tr>\n",
       "      <th>2023-07-11</th>\n",
       "      <td>1</td>\n",
       "    </tr>\n",
       "    <tr>\n",
       "      <th>2023-07-14</th>\n",
       "      <td>2</td>\n",
       "    </tr>\n",
       "    <tr>\n",
       "      <th>2023-07-19</th>\n",
       "      <td>1</td>\n",
       "    </tr>\n",
       "    <tr>\n",
       "      <th>...</th>\n",
       "      <td>...</td>\n",
       "    </tr>\n",
       "    <tr>\n",
       "      <th>2024-06-26</th>\n",
       "      <td>248</td>\n",
       "    </tr>\n",
       "    <tr>\n",
       "      <th>2024-06-27</th>\n",
       "      <td>210</td>\n",
       "    </tr>\n",
       "    <tr>\n",
       "      <th>2024-06-28</th>\n",
       "      <td>258</td>\n",
       "    </tr>\n",
       "    <tr>\n",
       "      <th>2024-06-29</th>\n",
       "      <td>277</td>\n",
       "    </tr>\n",
       "    <tr>\n",
       "      <th>2024-06-30</th>\n",
       "      <td>581</td>\n",
       "    </tr>\n",
       "  </tbody>\n",
       "</table>\n",
       "<p>198 rows × 1 columns</p>\n",
       "</div>"
      ],
      "text/plain": [
       "            last_txn_date\n",
       "1970-01-01              2\n",
       "2023-07-09              1\n",
       "2023-07-11              1\n",
       "2023-07-14              2\n",
       "2023-07-19              1\n",
       "...                   ...\n",
       "2024-06-26            248\n",
       "2024-06-27            210\n",
       "2024-06-28            258\n",
       "2024-06-29            277\n",
       "2024-06-30            581\n",
       "\n",
       "[198 rows x 1 columns]"
      ]
     },
     "execution_count": 1280,
     "metadata": {},
     "output_type": "execute_result"
    }
   ],
   "source": [
    "pd.DataFrame(\n",
    "    answer_airdrop_df[\"last_txn_date\"].apply(lambda x: pd.to_datetime(x)).value_counts()\n",
    ").sort_index()"
   ]
  },
  {
   "cell_type": "code",
   "execution_count": null,
   "metadata": {},
   "outputs": [],
   "source": []
  },
  {
   "cell_type": "code",
   "execution_count": null,
   "metadata": {},
   "outputs": [],
   "source": []
  },
  {
   "cell_type": "code",
   "execution_count": null,
   "metadata": {},
   "outputs": [],
   "source": []
  },
  {
   "cell_type": "code",
   "execution_count": 1281,
   "metadata": {},
   "outputs": [
    {
     "data": {
      "text/html": [
       "<div>\n",
       "<style scoped>\n",
       "    .dataframe tbody tr th:only-of-type {\n",
       "        vertical-align: middle;\n",
       "    }\n",
       "\n",
       "    .dataframe tbody tr th {\n",
       "        vertical-align: top;\n",
       "    }\n",
       "\n",
       "    .dataframe thead th {\n",
       "        text-align: right;\n",
       "    }\n",
       "</style>\n",
       "<table border=\"1\" class=\"dataframe\">\n",
       "  <thead>\n",
       "    <tr style=\"text-align: right;\">\n",
       "      <th></th>\n",
       "      <th>community</th>\n",
       "      <th>type</th>\n",
       "      <th>commu_tx_wallets</th>\n",
       "      <th>commu_tx_count</th>\n",
       "      <th>gas_fee</th>\n",
       "      <th>total_txn</th>\n",
       "      <th>unique_tokens</th>\n",
       "      <th>last_txn_date</th>\n",
       "      <th>unique_active_days</th>\n",
       "      <th>answer</th>\n",
       "    </tr>\n",
       "  </thead>\n",
       "  <tbody>\n",
       "    <tr>\n",
       "      <th>0x0cb9ada4c88885f613297512f6ed5d1b79acec11</th>\n",
       "      <td>98.0</td>\n",
       "      <td>sybil_core</td>\n",
       "      <td>99.0</td>\n",
       "      <td>170.0</td>\n",
       "      <td>80.857081</td>\n",
       "      <td>894.0</td>\n",
       "      <td>156.0</td>\n",
       "      <td>2024-06-13</td>\n",
       "      <td>105.0</td>\n",
       "      <td>sybil</td>\n",
       "    </tr>\n",
       "  </tbody>\n",
       "</table>\n",
       "</div>"
      ],
      "text/plain": [
       "                                            community        type  \\\n",
       "0x0cb9ada4c88885f613297512f6ed5d1b79acec11       98.0  sybil_core   \n",
       "\n",
       "                                            commu_tx_wallets  commu_tx_count  \\\n",
       "0x0cb9ada4c88885f613297512f6ed5d1b79acec11              99.0           170.0   \n",
       "\n",
       "                                              gas_fee  total_txn  \\\n",
       "0x0cb9ada4c88885f613297512f6ed5d1b79acec11  80.857081      894.0   \n",
       "\n",
       "                                            unique_tokens last_txn_date  \\\n",
       "0x0cb9ada4c88885f613297512f6ed5d1b79acec11          156.0    2024-06-13   \n",
       "\n",
       "                                            unique_active_days answer  \n",
       "0x0cb9ada4c88885f613297512f6ed5d1b79acec11               105.0  sybil  "
      ]
     },
     "execution_count": 1281,
     "metadata": {},
     "output_type": "execute_result"
    }
   ],
   "source": [
    "full_result_df[full_result_df[\"community\"] == 98]"
   ]
  },
  {
   "cell_type": "code",
   "execution_count": 1282,
   "metadata": {},
   "outputs": [
    {
     "data": {
      "application/vnd.plotly.v1+json": {
       "config": {
        "plotlyServerURL": "https://plot.ly"
       },
       "data": [
        {
         "hoverinfo": "text",
         "line": {
          "color": "black",
          "width": 2
         },
         "mode": "lines",
         "text": [
          "weight: 0.0",
          "weight: 0.0",
          "weight: 0.0",
          "weight: 0.0",
          "weight: 0.0",
          "weight: 0.0",
          "weight: 0.0",
          "weight: 0.0",
          "weight: 0.0",
          "weight: 0.0",
          "weight: 0.0",
          "weight: 0.0",
          "weight: 0.0",
          "weight: 0.0",
          "weight: 0.0",
          "weight: 0.0",
          "weight: 0.0",
          "weight: 0.0",
          "weight: 0.0",
          "weight: 0.0",
          "weight: 0.0",
          "weight: 0.0",
          "weight: 0.0",
          "weight: 0.0",
          "weight: 0.0",
          "weight: 0.0",
          "weight: 0.01",
          "weight: 0.0",
          "weight: 0.0",
          "weight: 0.0",
          "weight: 0.0",
          "weight: 0.0",
          "weight: 0.0",
          "weight: 0.0",
          "weight: 0.0",
          "weight: 0.0",
          "weight: 0.0",
          "weight: 0.0",
          "weight: 0.0",
          "weight: 0.0",
          "weight: 0.0",
          "weight: 0.0",
          "weight: 0.0",
          "weight: 0.0",
          "weight: 0.0",
          "weight: 0.0",
          "weight: 0.0",
          "weight: 0.0",
          "weight: 0.0",
          "weight: 0.0",
          "weight: 0.0",
          "weight: 0.0",
          "weight: 0.0",
          "weight: 0.0",
          "weight: 0.01",
          "weight: 0.0",
          "weight: 0.0",
          "weight: 0.0",
          "weight: 0.0",
          "weight: 0.0",
          "weight: 0.0",
          "weight: 0.0",
          "weight: 0.0",
          "weight: 0.0",
          "weight: 0.0",
          "weight: 0.0",
          "weight: 0.0",
          "weight: 0.0",
          "weight: 0.0",
          "weight: 0.0",
          "weight: 0.0",
          "weight: 0.0",
          "weight: 0.0",
          "weight: 0.0",
          "weight: 0.0",
          "weight: 0.01",
          "weight: 0.01",
          "weight: 0.0",
          "weight: 0.01",
          "weight: 0.0",
          "weight: 0.0",
          "weight: 0.0",
          "weight: 0.0",
          "weight: 0.0",
          "weight: 0.0",
          "weight: 0.0",
          "weight: 0.0",
          "weight: 0.0",
          "weight: 0.0",
          "weight: 0.0",
          "weight: 0.0",
          "weight: 0.0",
          "weight: 0.0",
          "weight: 0.0",
          "weight: 0.01",
          "weight: 0.01",
          "weight: 0.0",
          "weight: 0.0",
          "weight: 0.0",
          "weight: 0.0",
          "weight: 0.0",
          "weight: 0.0",
          "weight: 0.0",
          "weight: 0.0",
          "weight: 0.0",
          "weight: 0.0",
          "weight: 0.0",
          "weight: 0.0",
          "weight: 0.0",
          "weight: 0.0",
          "weight: 0.0",
          "weight: 0.0",
          "weight: 0.0",
          "weight: 0.0",
          "weight: 0.0",
          "weight: 0.0",
          "weight: 0.0",
          "weight: 0.01",
          "weight: 0.0",
          "weight: 0.0",
          "weight: 0.0",
          "weight: 0.0",
          "weight: 0.0",
          "weight: 0.0",
          "weight: 0.0",
          "weight: 0.0",
          "weight: 0.0",
          "weight: 0.0",
          "weight: 0.0",
          "weight: 0.0",
          "weight: 0.01",
          "weight: 0.01",
          "weight: 0.0",
          "weight: 0.0",
          "weight: 0.0",
          "weight: 0.0",
          "weight: 0.0",
          "weight: 0.0",
          "weight: 0.0",
          "weight: 0.0",
          "weight: 0.0",
          "weight: 0.0",
          "weight: 0.0",
          "weight: 0.0",
          "weight: 0.0",
          "weight: 0.01",
          "weight: 0.0",
          "weight: 0.0",
          "weight: 0.0",
          "weight: 0.0",
          "weight: 0.0",
          "weight: 0.0",
          "weight: 0.0",
          "weight: 0.0",
          "weight: 0.0",
          "weight: 0.0",
          "weight: 0.01",
          "weight: 0.0",
          "weight: 0.0",
          "weight: 0.0",
          "weight: 0.01",
          "weight: 0.0",
          "weight: 0.0",
          "weight: 0.0",
          "weight: 0.0",
          "weight: 0.0",
          "weight: 0.0",
          "weight: 0.0",
          "weight: 0.0",
          "weight: 0.0",
          "weight: 0.0",
          "weight: 0.0",
          "weight: 0.01",
          "weight: 0.0",
          "weight: 0.0",
          "weight: 0.02",
          "weight: 0.0",
          "weight: 0.0",
          "weight: 0.03",
          "weight: 0.0",
          "weight: 0.02",
          "weight: 0.01",
          "weight: 0.02",
          "weight: 0.0",
          "weight: 0.0",
          "weight: 0.0",
          "weight: 0.0",
          "weight: 0.01",
          "weight: 0.02",
          "weight: 0.01",
          "weight: 0.0",
          "weight: 0.0",
          "weight: 0.0",
          "weight: 0.0",
          "weight: 0.0",
          "weight: 0.0",
          "weight: 0.0",
          "weight: 0.01",
          "weight: 0.0",
          "weight: 0.01",
          "weight: 0.0",
          "weight: 0.0",
          "weight: 0.0",
          "weight: 0.0",
          "weight: 0.0",
          "weight: 0.0",
          "weight: 0.01",
          "weight: 0.0",
          "weight: 0.0",
          "weight: 0.0",
          "weight: 0.0",
          "weight: 0.0",
          "weight: 0.0",
          "weight: 0.0",
          "weight: 0.0",
          "weight: 0.0",
          "weight: 0.0",
          "weight: 0.0",
          "weight: 0.0",
          "weight: 0.0",
          "weight: 0.0",
          "weight: 0.0",
          "weight: 0.0",
          "weight: 0.0",
          "weight: 0.0",
          "weight: 0.0",
          "weight: 0.0",
          "weight: 0.0",
          "weight: 0.0",
          "weight: 0.0",
          "weight: 0.0",
          "weight: 0.0",
          "weight: 0.0",
          "weight: 0.0",
          "weight: 0.01",
          "weight: 0.0",
          "weight: 0.0",
          "weight: 0.0",
          "weight: 0.01",
          "weight: 0.0",
          "weight: 0.0",
          "weight: 0.0",
          "weight: 0.02",
          "weight: 0.0",
          "weight: 0.0",
          "weight: 0.0",
          "weight: 0.0",
          "weight: 0.0",
          "weight: 0.0",
          "weight: 0.0",
          "weight: 0.0",
          "weight: 0.0",
          "weight: 0.0",
          "weight: 0.0",
          "weight: 0.0",
          "weight: 0.02",
          "weight: 0.0",
          "weight: 0.0",
          "weight: 0.01",
          "weight: 0.0",
          "weight: 0.0",
          "weight: 0.0",
          "weight: 0.01",
          "weight: 0.0",
          "weight: 0.0",
          "weight: 0.0",
          "weight: 0.0",
          "weight: 0.0",
          "weight: 0.0",
          "weight: 0.0",
          "weight: 0.0",
          "weight: 0.0",
          "weight: 0.0",
          "weight: 0.0",
          "weight: 0.01",
          "weight: 0.0",
          "weight: 0.01",
          "weight: 0.0",
          "weight: 0.0",
          "weight: 0.0",
          "weight: 0.0",
          "weight: 0.0",
          "weight: 0.0"
         ],
         "type": "scatter",
         "x": [
          0.8785101662239263,
          0.038437908821722676,
          null,
          0.038437908821722676,
          0.6728484922454673,
          null,
          0.038437908821722676,
          -0.57306329270396,
          null,
          0.038437908821722676,
          0.15760701235084554,
          null,
          0.038437908821722676,
          -0.8500966566061173,
          null,
          0.038437908821722676,
          0.3764146553977111,
          null,
          0.038437908821722676,
          0.6667059593736354,
          null,
          0.038437908821722676,
          0.5556805548456765,
          null,
          0.038437908821722676,
          -0.9887555304849819,
          null,
          0.038437908821722676,
          -0.4328870409607829,
          null,
          0.038437908821722676,
          0.46991461553998287,
          null,
          0.038437908821722676,
          0.6993926360451385,
          null,
          0.038437908821722676,
          -0.9457639919230123,
          null,
          0.038437908821722676,
          -0.6862056331847479,
          null,
          0.038437908821722676,
          -0.8732789819992176,
          null,
          0.038437908821722676,
          -0.858279682941798,
          null,
          0.038437908821722676,
          0.2715968909065888,
          null,
          0.038437908821722676,
          -0.8155672417161716,
          null,
          0.038437908821722676,
          0.4933227555220188,
          null,
          0.038437908821722676,
          -0.1822412519155098,
          null,
          0.038437908821722676,
          0.8515620131985809,
          null,
          0.038437908821722676,
          -0.33118122847282655,
          null,
          0.038437908821722676,
          0.47379601050367387,
          null,
          0.038437908821722676,
          0.6991118184169378,
          null,
          0.038437908821722676,
          0.6970777851396636,
          null,
          0.038437908821722676,
          -0.280402152741664,
          null,
          0.038437908821722676,
          0.5572488216150059,
          null,
          0.038437908821722676,
          0.8230417027043484,
          null,
          0.038437908821722676,
          -0.37335105451216566,
          null,
          0.038437908821722676,
          0.7966866952634892,
          null,
          0.038437908821722676,
          -0.8245623410851374,
          null,
          0.038437908821722676,
          -0.9801181431918806,
          null,
          0.038437908821722676,
          -0.27402894562588503,
          null,
          0.038437908821722676,
          0.3290254659226788,
          null,
          0.038437908821722676,
          0.3980466498956227,
          null,
          0.038437908821722676,
          0.6013138207647716,
          null,
          0.038437908821722676,
          -0.6151695828983533,
          null,
          0.038437908821722676,
          0.8613823802633831,
          null,
          0.038437908821722676,
          0.6566425091575473,
          null,
          0.038437908821722676,
          0.46693796333830295,
          null,
          0.038437908821722676,
          -0.8580603881369367,
          null,
          0.038437908821722676,
          0.029284879286623156,
          null,
          0.038437908821722676,
          -0.7044434910896945,
          null,
          0.038437908821722676,
          -0.14307314606039953,
          null,
          0.038437908821722676,
          -0.5584872902771408,
          null,
          0.038437908821722676,
          -0.4694542582324255,
          null,
          0.038437908821722676,
          0.014529307521301825,
          null,
          0.038437908821722676,
          0.4617622793626234,
          null,
          0.038437908821722676,
          0.5970490831021823,
          null,
          0.038437908821722676,
          0.16453905744020406,
          null,
          0.038437908821722676,
          -0.9032908732968632,
          null,
          0.038437908821722676,
          -0.6858448904890094,
          null,
          0.038437908821722676,
          -0.4133564693316226,
          null,
          0.038437908821722676,
          -0.9800095098909734,
          null,
          0.038437908821722676,
          0.8913998764418698,
          null,
          0.038437908821722676,
          0.8473015548280178,
          null,
          0.038437908821722676,
          0.7210454115102493,
          null,
          0.038437908821722676,
          0.7857822476013354,
          null,
          0.038437908821722676,
          -0.731780373762062,
          null,
          0.038437908821722676,
          0.9012130874923229,
          null,
          0.038437908821722676,
          0.21043346167266197,
          null,
          0.038437908821722676,
          0.7342553380984717,
          null,
          0.038437908821722676,
          0.7272665259545987,
          null,
          0.038437908821722676,
          -0.5621255909766373,
          null,
          0.038437908821722676,
          -0.4929223761497311,
          null,
          0.038437908821722676,
          -0.9631489700547755,
          null,
          0.038437908821722676,
          0.8718714493739111,
          null,
          0.038437908821722676,
          -0.2790148376926666,
          null,
          0.038437908821722676,
          -0.03001173229666856,
          null,
          -0.35112989889195084,
          0.038437908821722676,
          null,
          0.2509194504714693,
          0.038437908821722676,
          null,
          0.8539357729734389,
          0.038437908821722676,
          null,
          -0.9250031254707206,
          0.038437908821722676,
          null,
          -0.19628443645340868,
          0.038437908821722676,
          null,
          -0.34646394082061077,
          0.038437908821722676,
          null,
          -0.11226752625296231,
          0.038437908821722676,
          null,
          -0.17301151626841263,
          0.038437908821722676,
          null,
          -0.7591318911136146,
          0.038437908821722676,
          null,
          -0.09948529400911246,
          0.038437908821722676,
          null,
          -0.13357211107926678,
          0.038437908821722676,
          null,
          0.08556423387313232,
          0.038437908821722676,
          null,
          -0.045952170252294935,
          0.038437908821722676,
          null,
          0.41193853970547023,
          0.038437908821722676,
          null,
          -0.464088009889296,
          0.038437908821722676,
          null,
          -0.8369021357337474,
          0.038437908821722676,
          null,
          0.8305350670194304,
          0.038437908821722676,
          null,
          0.4867336481613053,
          0.038437908821722676,
          null,
          -0.8311522633931588,
          0.038437908821722676,
          null,
          -0.40415731924198195,
          0.038437908821722676,
          null,
          0.6757156941433636,
          0.038437908821722676,
          null,
          -0.9761464722892369,
          0.038437908821722676,
          null,
          -0.4942213833938095,
          0.038437908821722676,
          null,
          0.8588896148728644,
          0.038437908821722676,
          null,
          -0.4624501443087523,
          0.038437908821722676,
          null,
          -0.01727275436720826,
          0.038437908821722676,
          null,
          0.11646800040208824,
          0.038437908821722676,
          null,
          0.2885398924528784,
          0.038437908821722676,
          null,
          0.7001864596250295,
          0.038437908821722676,
          null,
          0.8227555805467865,
          0.038437908821722676,
          null,
          -0.14207670186067137,
          0.038437908821722676,
          null,
          0.8023174752661436,
          0.038437908821722676,
          null,
          0.4164543421540809,
          0.038437908821722676,
          null,
          -0.9962930203284864,
          0.038437908821722676,
          null,
          0.12388805084162492,
          0.038437908821722676,
          null,
          -0.807147532926713,
          0.038437908821722676,
          null,
          -0.7690783836163361,
          0.038437908821722676,
          null,
          -0.6172701343826588,
          0.038437908821722676,
          null,
          0.34881474281787667,
          0.038437908821722676,
          null,
          0.6797378029250608,
          0.038437908821722676,
          null,
          0.7675635943468387,
          0.038437908821722676,
          null,
          -0.8085701226875222,
          0.038437908821722676,
          null,
          -0.04590077740188749,
          0.038437908821722676,
          null,
          -0.06507313092361337,
          0.038437908821722676,
          null,
          0.7191936022459534,
          0.038437908821722676,
          null,
          -0.5752874246228215,
          0.038437908821722676,
          null,
          0.5771042562502403,
          0.038437908821722676,
          null,
          0.8661756844667986,
          0.038437908821722676,
          null,
          0.16651758086086324,
          0.038437908821722676,
          null,
          0.5569426093697797,
          0.038437908821722676,
          null,
          0.6964955501261543,
          0.038437908821722676,
          null,
          -0.42697520505483855,
          0.038437908821722676,
          null,
          -0.08000348196303018,
          0.038437908821722676,
          null,
          -0.5224347100041336,
          0.038437908821722676,
          null,
          0.18844624091985962,
          0.038437908821722676,
          null,
          0.4918945850090118,
          0.038437908821722676,
          null,
          -0.9495798129117164,
          0.038437908821722676,
          null,
          0.8947553798423512,
          0.038437908821722676,
          null,
          -0.9107849462676656,
          0.038437908821722676,
          null,
          -0.4977544785378106,
          0.038437908821722676,
          null,
          -0.6272750007781932,
          0.038437908821722676,
          null,
          0.2729691605997504,
          0.038437908821722676,
          null,
          -0.20483354272273335,
          0.038437908821722676,
          null,
          0.601579382529643,
          0.038437908821722676,
          null,
          -0.7172967851319348,
          0.038437908821722676,
          null,
          -0.9865518201731316,
          0.038437908821722676,
          null,
          -0.7918060671002708,
          0.038437908821722676,
          null,
          -0.2372225507731213,
          0.038437908821722676,
          null,
          0.7754607415740193,
          0.038437908821722676,
          null,
          -0.4004242119755082,
          0.038437908821722676,
          null,
          -0.2635971715367151,
          0.038437908821722676,
          null,
          -0.4133423761552052,
          0.038437908821722676,
          null,
          -0.8647327556333765,
          0.038437908821722676,
          null,
          0.29457628572678185,
          0.038437908821722676,
          null,
          0.058020064854850714,
          0.038437908821722676,
          null,
          -0.5160893438843714,
          0.038437908821722676,
          null,
          0.22982048256576648,
          0.038437908821722676,
          null,
          -0.526133951014315,
          0.038437908821722676,
          null,
          -0.8062616495201169,
          0.038437908821722676,
          null,
          0.8100015539959529,
          0.038437908821722676,
          null,
          -0.03295667197492273,
          0.038437908821722676,
          null,
          0.24954050507279707,
          0.038437908821722676,
          null,
          -0.9087127740744171,
          0.038437908821722676,
          null,
          0.7729241047136025,
          0.038437908821722676,
          null,
          0.45583722366566654,
          0.038437908821722676,
          null,
          -0.161942154557789,
          0.038437908821722676,
          null,
          -0.5352234860577524,
          0.038437908821722676,
          null,
          0.07614227160574709,
          0.038437908821722676,
          null,
          -0.5168145578484608,
          0.038437908821722676,
          null,
          0.28196848917602657,
          0.038437908821722676,
          null,
          0.5315927074821704,
          0.038437908821722676,
          null,
          -0.1050857988339304,
          0.038437908821722676,
          null,
          0.30594153915512895,
          0.038437908821722676,
          null,
          -0.49340008611616115,
          0.038437908821722676,
          null,
          0.09288017777748189,
          0.038437908821722676,
          null,
          0.7717264406330187,
          0.038437908821722676,
          null,
          -1,
          0.038437908821722676,
          null,
          0.8999885294717506,
          0.038437908821722676,
          null,
          -0.3465071020781332,
          0.038437908821722676,
          null,
          0.40786929241643993,
          0.038437908821722676,
          null,
          0.09209282820391594,
          0.038437908821722676,
          null,
          -0.23086104754097553,
          0.038437908821722676,
          null,
          -0.21776595230428628,
          0.038437908821722676,
          null,
          -0.19822861115068982,
          0.038437908821722676,
          null,
          0.276820577744957,
          0.038437908821722676,
          null,
          -0.5137068019213932,
          0.038437908821722676,
          null,
          -0.08738828978077155,
          0.038437908821722676,
          null,
          0.793281732065328,
          0.038437908821722676,
          null,
          -0.19205542876972234,
          0.038437908821722676,
          null,
          0.0034458693556896508,
          0.038437908821722676,
          null,
          0.2198367739240831,
          0.038437908821722676,
          null,
          0.1408160220362074,
          0.038437908821722676,
          null,
          -0.12076367289154498,
          0.038437908821722676,
          null,
          0.03126569043610799,
          0.038437908821722676,
          null,
          0.00024226560437765694,
          0.038437908821722676,
          null,
          -0.6708997425848473,
          0.038437908821722676,
          null,
          0.7370444987335433,
          0.038437908821722676,
          null,
          0.8921358980148286,
          0.038437908821722676,
          null,
          0.1470215534857217,
          0.038437908821722676,
          null,
          0.08667582938398556,
          0.038437908821722676,
          null,
          -0.04585285495449961,
          0.038437908821722676,
          null,
          0.8570645558633321,
          0.038437908821722676,
          null,
          0.378341756950117,
          0.038437908821722676,
          null,
          -0.24650668059152173,
          0.038437908821722676,
          null,
          0.46249113437834055,
          0.038437908821722676,
          null,
          0.32021407971291205,
          0.038437908821722676,
          null,
          0.838791167311128,
          0.038437908821722676,
          null,
          0.19843294421621877,
          0.038437908821722676,
          null,
          0.05799272748191974,
          0.038437908821722676,
          null,
          -0.6025631179820095,
          0.038437908821722676,
          null,
          0.30606223913517766,
          0.038437908821722676,
          null,
          0.8809011483758006,
          0.038437908821722676,
          null,
          0.4499147853998533,
          0.038437908821722676,
          null,
          -0.13457157092014846,
          0.038437908821722676,
          null,
          0.6151482642685075,
          0.038437908821722676,
          null,
          -0.6148456873194585,
          0.038437908821722676,
          null,
          0.5041266251485148,
          0.038437908821722676,
          null,
          0.19822921513503378,
          0.038437908821722676,
          null,
          -0.086651834374296,
          0.038437908821722676,
          null,
          -0.6669367580550158,
          0.038437908821722676,
          null,
          0.10610142612205573,
          0.038437908821722676,
          null,
          -0.29518715677150964,
          0.038437908821722676,
          null,
          -0.9043494382318985,
          0.038437908821722676,
          null,
          0.7796958814470103,
          0.038437908821722676,
          null,
          -0.36470588272800014,
          0.038437908821722676,
          null,
          -0.8841169789059363,
          0.038437908821722676,
          null,
          -0.3446453756320242,
          0.038437908821722676,
          null,
          -0.7943367788658645,
          0.038437908821722676,
          null,
          0.404245269952135,
          0.038437908821722676,
          null,
          0.07851712866801139,
          0.038437908821722676,
          null,
          -0.8728001279229612,
          0.038437908821722676,
          null,
          0.8188183488725991,
          0.038437908821722676,
          null,
          -0.6567325953992115,
          0.038437908821722676,
          null,
          -0.12050103714826606,
          0.038437908821722676,
          null,
          -0.4130203184041914,
          0.038437908821722676,
          null,
          0.7756404591561676,
          0.038437908821722676,
          null,
          0.19226384006296846,
          0.038437908821722676,
          null,
          -0.8705235983049879,
          0.038437908821722676,
          null,
          0.39085728440711315,
          0.038437908821722676,
          null,
          0.36636120884127443,
          0.038437908821722676,
          null,
          -0.6435298409542642,
          0.038437908821722676,
          null,
          0.5453049355679084,
          0.038437908821722676,
          null,
          -0.35918507964709917,
          0.038437908821722676,
          null,
          -0.6612193121352874,
          0.038437908821722676,
          null,
          -0.21034491841143316,
          0.038437908821722676,
          null,
          0.11937204096055368,
          0.038437908821722676,
          null,
          0.01316269000398506,
          0.038437908821722676,
          null,
          0.8773420887782777,
          0.038437908821722676,
          null,
          -0.9463338040042444,
          0.038437908821722676,
          null,
          -0.18379277657662818,
          0.038437908821722676,
          null,
          -0.7406939856889047,
          0.038437908821722676,
          null,
          -0.507475539510995,
          0.038437908821722676,
          null,
          -0.21000171319745237,
          0.038437908821722676,
          null,
          -0.08613090417550308,
          0.038437908821722676,
          null,
          0.0163481092075118,
          0.038437908821722676,
          null,
          -0.6993797418910352,
          0.038437908821722676,
          null,
          -0.16871708555471004,
          0.038437908821722676,
          null,
          0.2184836012629124,
          0.038437908821722676,
          null,
          -0.28751388256748345,
          0.038437908821722676,
          null,
          0.7756770691513507,
          0.038437908821722676,
          null,
          0.6421380908636108,
          0.038437908821722676,
          null,
          0.8424877128901568,
          0.038437908821722676,
          null,
          -0.46274360831125866,
          0.038437908821722676,
          null,
          0.5617570558676314,
          0.038437908821722676,
          null,
          0.7958773247446628,
          0.038437908821722676,
          null,
          0.6228545051353992,
          0.038437908821722676,
          null,
          -0.0327259806316613,
          0.038437908821722676,
          null,
          0.20156070290034722,
          0.038437908821722676,
          null,
          -0.041997502430495895,
          0.038437908821722676,
          null,
          0.14683979551182427,
          0.038437908821722676,
          null,
          0.03754481115932127,
          0.038437908821722676,
          null,
          -0.7695962840572463,
          0.038437908821722676,
          null,
          0.34990074053111864,
          0.038437908821722676,
          null,
          -0.004457178671651581,
          0.038437908821722676,
          null,
          -0.018017848527711443,
          0.038437908821722676,
          null,
          0.25058865141496656,
          0.038437908821722676,
          null,
          0.4325433120140549,
          0.038437908821722676,
          null,
          -0.9731579404765579,
          0.038437908821722676,
          null,
          0.6441561708308228,
          0.038437908821722676,
          null,
          0.8871174867027118,
          0.038437908821722676,
          null,
          -0.38420447122118784,
          0.038437908821722676,
          null,
          0.3990484360811271,
          0.038437908821722676,
          null,
          -0.2549163512138908,
          0.038437908821722676,
          null,
          0.043258601395598284,
          0.038437908821722676,
          null,
          0.7336705611649925,
          0.038437908821722676,
          null,
          0.19946071621046518,
          0.038437908821722676,
          null,
          0.47689782071209574,
          0.038437908821722676,
          null,
          0.22052949849603562,
          0.038437908821722676,
          null,
          -0.5219068640220963,
          0.038437908821722676,
          null,
          -0.45005378433919374,
          0.038437908821722676,
          null,
          0.12244255869442289,
          0.038437908821722676,
          null,
          -0.3457845872587812,
          0.038437908821722676,
          null,
          -0.06319910247800116,
          0.038437908821722676,
          null,
          -0.45791087322575186,
          0.038437908821722676,
          null
         ],
         "y": [
          0.01244901943971534,
          -0.002970255870688884,
          null,
          -0.002970255870688884,
          0.7121330650866489,
          null,
          -0.002970255870688884,
          -0.7095366696461849,
          null,
          -0.002970255870688884,
          0.9156018984097734,
          null,
          -0.002970255870688884,
          0.4435184292810575,
          null,
          -0.002970255870688884,
          0.7718374945611565,
          null,
          -0.002970255870688884,
          0.5195376011047359,
          null,
          -0.002970255870688884,
          -0.6181223358837185,
          null,
          -0.002970255870688884,
          0.0558536957796465,
          null,
          -0.002970255870688884,
          0.7912860799673835,
          null,
          -0.002970255870688884,
          0.7892003808726374,
          null,
          -0.002970255870688884,
          0.6046779790054115,
          null,
          -0.002970255870688884,
          -0.15641122148161637,
          null,
          -0.002970255870688884,
          -0.6797401080236125,
          null,
          -0.002970255870688884,
          -0.5094179508488214,
          null,
          -0.002970255870688884,
          -0.45088902594915914,
          null,
          -0.002970255870688884,
          -0.8380593605927759,
          null,
          -0.002970255870688884,
          -0.4069605294930688,
          null,
          -0.002970255870688884,
          -0.7562413603015947,
          null,
          -0.002970255870688884,
          -0.8620683749360255,
          null,
          -0.002970255870688884,
          -0.3623430626718862,
          null,
          -0.002970255870688884,
          0.9172621157916722,
          null,
          -0.002970255870688884,
          0.6682708995402963,
          null,
          -0.002970255870688884,
          -0.5579823469973653,
          null,
          -0.002970255870688884,
          -0.4957039332057001,
          null,
          -0.002970255870688884,
          -0.871227294744579,
          null,
          -0.002970255870688884,
          0.6768388731937701,
          null,
          -0.002970255870688884,
          -0.10729428297071326,
          null,
          -0.002970255870688884,
          0.9327908028689117,
          null,
          -0.002970255870688884,
          -0.23519465241252008,
          null,
          -0.002970255870688884,
          -0.2763144056172077,
          null,
          -0.002970255870688884,
          0.0062259494021114185,
          null,
          -0.002970255870688884,
          0.8726797907365463,
          null,
          -0.002970255870688884,
          -0.7792296226134372,
          null,
          -0.002970255870688884,
          -0.778210908172185,
          null,
          -0.002970255870688884,
          0.4701495819577208,
          null,
          -0.002970255870688884,
          0.7262497787734498,
          null,
          -0.002970255870688884,
          0.2486448577827735,
          null,
          -0.002970255870688884,
          -0.7121316256065471,
          null,
          -0.002970255870688884,
          0.7591127447866066,
          null,
          -0.002970255870688884,
          0.6228556899101225,
          null,
          -0.002970255870688884,
          -0.9320642055775287,
          null,
          -0.002970255870688884,
          0.601374467571402,
          null,
          -0.002970255870688884,
          -0.9279260466417473,
          null,
          -0.002970255870688884,
          -0.7846720871019759,
          null,
          -0.002970255870688884,
          -0.7834884941050577,
          null,
          -0.002970255870688884,
          0.9555631226827243,
          null,
          -0.002970255870688884,
          -0.8179270185530405,
          null,
          -0.002970255870688884,
          0.6008910294604606,
          null,
          -0.002970255870688884,
          -0.8620752963382741,
          null,
          -0.002970255870688884,
          0.42177606440975607,
          null,
          -0.002970255870688884,
          -0.618923824753312,
          null,
          -0.002970255870688884,
          -0.8718842302138762,
          null,
          -0.002970255870688884,
          -0.041712568377919486,
          null,
          -0.002970255870688884,
          -0.1160880724334306,
          null,
          -0.002970255870688884,
          0.1250599697417426,
          null,
          -0.002970255870688884,
          0.41797571925186594,
          null,
          -0.002970255870688884,
          0.42992255926981116,
          null,
          -0.002970255870688884,
          -0.5006779044588477,
          null,
          -0.002970255870688884,
          0.14229890431874323,
          null,
          -0.002970255870688884,
          0.9120281421383705,
          null,
          -0.002970255870688884,
          0.540115941830872,
          null,
          -0.002970255870688884,
          -0.3471216048071635,
          null,
          -0.002970255870688884,
          0.8096679923071977,
          null,
          -0.002970255870688884,
          -0.716234356350696,
          null,
          -0.002970255870688884,
          -0.2620796634583532,
          null,
          -0.002970255870688884,
          -0.23232694468599718,
          null,
          -0.002970255870688884,
          0.9462673579414517,
          null,
          -0.002970255870688884,
          -0.9456500368627734,
          null,
          -0.9122586629937602,
          -0.002970255870688884,
          null,
          0.881550522414722,
          -0.002970255870688884,
          null,
          -0.044191363019592325,
          -0.002970255870688884,
          null,
          -0.3370202440419713,
          -0.002970255870688884,
          null,
          -0.7418960054981609,
          -0.002970255870688884,
          null,
          -0.40894715659802594,
          -0.002970255870688884,
          null,
          0.2560972632802773,
          -0.002970255870688884,
          null,
          -0.09994745336463928,
          -0.002970255870688884,
          null,
          -0.5509729644165323,
          -0.002970255870688884,
          null,
          0.07150533560888343,
          -0.002970255870688884,
          null,
          -0.7975291116278103,
          -0.002970255870688884,
          null,
          -0.4427625524095552,
          -0.002970255870688884,
          null,
          0.8547671552437287,
          -0.002970255870688884,
          null,
          0.1944366707783902,
          -0.002970255870688884,
          null,
          -0.8733154332676109,
          -0.002970255870688884,
          null,
          0.5204931762872749,
          -0.002970255870688884,
          null,
          -0.18844589694263117,
          -0.002970255870688884,
          null,
          -0.5764324383958415,
          -0.002970255870688884,
          null,
          0.18259712516608634,
          -0.002970255870688884,
          null,
          0.297029067672317,
          -0.002970255870688884,
          null,
          -0.2902620314752919,
          -0.002970255870688884,
          null,
          -0.1607746332480416,
          -0.002970255870688884,
          null,
          0.5451897022751238,
          -0.002970255870688884,
          null,
          -0.07073833016396835,
          -0.002970255870688884,
          null,
          0.8375428258687154,
          -0.002970255870688884,
          null,
          0.2544049122642335,
          -0.002970255870688884,
          null,
          -0.29545361917844554,
          -0.002970255870688884,
          null,
          -0.29484546022503694,
          -0.002970255870688884,
          null,
          -0.5200845244384367,
          -0.002970255870688884,
          null,
          0.19372330014238281,
          -0.002970255870688884,
          null,
          0.89141749057109,
          -0.002970255870688884,
          null,
          -0.39679749609755854,
          -0.002970255870688884,
          null,
          -0.34970824412649226,
          -0.002970255870688884,
          null,
          -0.0952884580363828,
          -0.002970255870688884,
          null,
          -0.7911992667152404,
          -0.002970255870688884,
          null,
          -0.6677754028157729,
          -0.002970255870688884,
          null,
          0.5683813394406297,
          -0.002970255870688884,
          null,
          -0.38946920355855225,
          -0.002970255870688884,
          null,
          -0.45479716382733903,
          -0.002970255870688884,
          null,
          0.21024524799654892,
          -0.002970255870688884,
          null,
          -0.4661109525596021,
          -0.002970255870688884,
          null,
          0.02898046427298657,
          -0.002970255870688884,
          null,
          -0.8296238218091809,
          -0.002970255870688884,
          null,
          -0.9079803192931787,
          -0.002970255870688884,
          null,
          -0.43627559267757515,
          -0.002970255870688884,
          null,
          0.06140807290306796,
          -0.002970255870688884,
          null,
          -0.7907174953170589,
          -0.002970255870688884,
          null,
          -0.14777811340669378,
          -0.002970255870688884,
          null,
          0.07898384590119195,
          -0.002970255870688884,
          null,
          0.16693722915345033,
          -0.002970255870688884,
          null,
          0.5558034068444156,
          -0.002970255870688884,
          null,
          -0.8341199728654574,
          -0.002970255870688884,
          null,
          0.9381521864883688,
          -0.002970255870688884,
          null,
          -0.8393015560755845,
          -0.002970255870688884,
          null,
          0.58380343627393,
          -0.002970255870688884,
          null,
          0.5471100890203504,
          -0.002970255870688884,
          null,
          0.30798653919677077,
          -0.002970255870688884,
          null,
          0.09577725198092439,
          -0.002970255870688884,
          null,
          0.3775753343926175,
          -0.002970255870688884,
          null,
          0.4831420578879613,
          -0.002970255870688884,
          null,
          0.8177665179310953,
          -0.002970255870688884,
          null,
          -0.08045323543402068,
          -0.002970255870688884,
          null,
          0.002380117841561894,
          -0.002970255870688884,
          null,
          0.7710672138358606,
          -0.002970255870688884,
          null,
          -0.15206896411162557,
          -0.002970255870688884,
          null,
          0.25531617862002887,
          -0.002970255870688884,
          null,
          0.6788540876207398,
          -0.002970255870688884,
          null,
          -0.4434632936762368,
          -0.002970255870688884,
          null,
          0.3329100461796113,
          -0.002970255870688884,
          null,
          -0.4869187392946687,
          -0.002970255870688884,
          null,
          0.22585506749639775,
          -0.002970255870688884,
          null,
          0.025354116843294274,
          -0.002970255870688884,
          null,
          -0.3177022116218215,
          -0.002970255870688884,
          null,
          0.8897442598169385,
          -0.002970255870688884,
          null,
          0.9416684808268915,
          -0.002970255870688884,
          null,
          0.693173054737244,
          -0.002970255870688884,
          null,
          -0.16548281703673082,
          -0.002970255870688884,
          null,
          -0.5795511717037954,
          -0.002970255870688884,
          null,
          -0.07321010708656256,
          -0.002970255870688884,
          null,
          0.31077061625114993,
          -0.002970255870688884,
          null,
          0.5380582053146191,
          -0.002970255870688884,
          null,
          -0.5133063569815558,
          -0.002970255870688884,
          null,
          -0.07667308890958395,
          -0.002970255870688884,
          null,
          0.09906721903332776,
          -0.002970255870688884,
          null,
          0.4149581222509267,
          -0.002970255870688884,
          null,
          0.7004064052078003,
          -0.002970255870688884,
          null,
          0.14262190734887614,
          -0.002970255870688884,
          null,
          0.26759717498133645,
          -0.002970255870688884,
          null,
          0.28502427619338544,
          -0.002970255870688884,
          null,
          -0.7605894711513392,
          -0.002970255870688884,
          null,
          -0.11546092430318565,
          -0.002970255870688884,
          null,
          -0.2822562989572405,
          -0.002970255870688884,
          null,
          0.2553338220580177,
          -0.002970255870688884,
          null,
          -0.28103208631296045,
          -0.002970255870688884,
          null,
          0.9198108908543694,
          -0.002970255870688884,
          null,
          0.28250732400502837,
          -0.002970255870688884,
          null,
          0.12233177169075568,
          -0.002970255870688884,
          null,
          -0.02093454057257462,
          -0.002970255870688884,
          null,
          0.40717530938057644,
          -0.002970255870688884,
          null,
          -0.21265998463980104,
          -0.002970255870688884,
          null,
          0.43895486641226267,
          -0.002970255870688884,
          null,
          0.38793876409671096,
          -0.002970255870688884,
          null,
          -0.9209168436866461,
          -0.002970255870688884,
          null,
          0.09189837476059537,
          -0.002970255870688884,
          null,
          -0.8944509428187379,
          -0.002970255870688884,
          null,
          0.39631567871031725,
          -0.002970255870688884,
          null,
          -0.017945648986772016,
          -0.002970255870688884,
          null,
          -0.3044084822474079,
          -0.002970255870688884,
          null,
          0.9381909013967786,
          -0.002970255870688884,
          null,
          0.0732653243420801,
          -0.002970255870688884,
          null,
          0.32160954333765784,
          -0.002970255870688884,
          null,
          -0.08556149283551673,
          -0.002970255870688884,
          null,
          0.3152788761566275,
          -0.002970255870688884,
          null,
          -0.08449548673747487,
          -0.002970255870688884,
          null,
          -0.37082544469323653,
          -0.002970255870688884,
          null,
          -0.3071205405627355,
          -0.002970255870688884,
          null,
          -0.6390733241080034,
          -0.002970255870688884,
          null,
          -0.18372313500642834,
          -0.002970255870688884,
          null,
          -0.21076542692561595,
          -0.002970255870688884,
          null,
          0.11434700178430843,
          -0.002970255870688884,
          null,
          0.1681822434522654,
          -0.002970255870688884,
          null,
          -0.2693160223618568,
          -0.002970255870688884,
          null,
          0.8218211419935758,
          -0.002970255870688884,
          null,
          -0.29365482898677536,
          -0.002970255870688884,
          null,
          0.6803720105008995,
          -0.002970255870688884,
          null,
          0.8606362197682927,
          -0.002970255870688884,
          null,
          0.03896915236570624,
          -0.002970255870688884,
          null,
          -0.8033354166060448,
          -0.002970255870688884,
          null,
          -0.16760679827307087,
          -0.002970255870688884,
          null,
          -0.7980916889267072,
          -0.002970255870688884,
          null,
          0.12957603359027295,
          -0.002970255870688884,
          null,
          0.19845605642852598,
          -0.002970255870688884,
          null,
          -0.7693137021737756,
          -0.002970255870688884,
          null,
          0.9728759792936413,
          -0.002970255870688884,
          null,
          -0.5269699099450325,
          -0.002970255870688884,
          null,
          -0.5760052232560856,
          -0.002970255870688884,
          null,
          -0.7054792136841885,
          -0.002970255870688884,
          null,
          -0.03165264659514797,
          -0.002970255870688884,
          null,
          -0.9475698033093468,
          -0.002970255870688884,
          null,
          -0.763670620722745,
          -0.002970255870688884,
          null,
          -0.9197335011564145,
          -0.002970255870688884,
          null,
          0.6519677584333802,
          -0.002970255870688884,
          null,
          -0.23420311944898878,
          -0.002970255870688884,
          null,
          -0.4073168192160953,
          -0.002970255870688884,
          null,
          -0.014343010117688144,
          -0.002970255870688884,
          null,
          0.075323597261561,
          -0.002970255870688884,
          null,
          -0.8043598899384489,
          -0.002970255870688884,
          null,
          -0.5989710056567331,
          -0.002970255870688884,
          null,
          0.06900526678202258,
          -0.002970255870688884,
          null,
          -0.867309510112362,
          -0.002970255870688884,
          null,
          0.3307899339625883,
          -0.002970255870688884,
          null,
          0.43567848588396574,
          -0.002970255870688884,
          null,
          0.756598684311675,
          -0.002970255870688884,
          null,
          0.5707927391873929,
          -0.002970255870688884,
          null,
          -0.2830462313695744,
          -0.002970255870688884,
          null,
          0.4744102974732326,
          -0.002970255870688884,
          null,
          0.8564290210790488,
          -0.002970255870688884,
          null,
          0.2596490177457563,
          -0.002970255870688884,
          null,
          -0.3321599847991315,
          -0.002970255870688884,
          null,
          0.8584123483361394,
          -0.002970255870688884,
          null,
          -0.2603570911174828,
          -0.002970255870688884,
          null,
          0.006280254119484996,
          -0.002970255870688884,
          null,
          -0.1665855260287962,
          -0.002970255870688884,
          null,
          0.660738999722709,
          -0.002970255870688884,
          null,
          0.5321268506432236,
          -0.002970255870688884,
          null,
          -0.3564031242992104,
          -0.002970255870688884,
          null,
          0.35744779083712547,
          -0.002970255870688884,
          null,
          0.3202064350757517,
          -0.002970255870688884,
          null,
          0.14811548220730977,
          -0.002970255870688884,
          null,
          0.18848544074131734,
          -0.002970255870688884,
          null,
          0.7537070519482456,
          -0.002970255870688884,
          null,
          0.7902284007144166,
          -0.002970255870688884,
          null,
          -0.5912729021489207,
          -0.002970255870688884,
          null,
          -0.0980308149807047,
          -0.002970255870688884,
          null,
          -0.8844567520013229,
          -0.002970255870688884,
          null,
          0.41669662473623087,
          -0.002970255870688884,
          null,
          -0.5173624088916916,
          -0.002970255870688884,
          null,
          -0.8677164047976522,
          -0.002970255870688884,
          null,
          -0.10831806280355347,
          -0.002970255870688884,
          null,
          -0.508706757528645,
          -0.002970255870688884,
          null,
          -0.615129957685094,
          -0.002970255870688884,
          null,
          -0.3051236020902003,
          -0.002970255870688884,
          null,
          0.22076398388478807,
          -0.002970255870688884,
          null,
          0.7342466056044333,
          -0.002970255870688884,
          null,
          0.3840711881546115,
          -0.002970255870688884,
          null,
          -0.6799386105077437,
          -0.002970255870688884,
          null,
          -0.1364676990764966,
          -0.002970255870688884,
          null,
          0.5244214612208719,
          -0.002970255870688884,
          null,
          0.9779039466898132,
          -0.002970255870688884,
          null,
          0.2789439450126614,
          -0.002970255870688884,
          null,
          -0.5839295069128076,
          -0.002970255870688884,
          null,
          0.4739254971299712,
          -0.002970255870688884,
          null,
          -0.8184823393651905,
          -0.002970255870688884,
          null,
          -0.2494255910976615,
          -0.002970255870688884,
          null,
          0.7556885614238351,
          -0.002970255870688884,
          null,
          0.4101514840045504,
          -0.002970255870688884,
          null,
          0.8306033316780029,
          -0.002970255870688884,
          null,
          0.20006065105686321,
          -0.002970255870688884,
          null,
          0.6335629739672184,
          -0.002970255870688884,
          null,
          0.05594681608962988,
          -0.002970255870688884,
          null,
          0.875492461422304,
          -0.002970255870688884,
          null,
          -0.8431769003211396,
          -0.002970255870688884,
          null,
          -0.7051359772050353,
          -0.002970255870688884,
          null,
          0.6657194249828989,
          -0.002970255870688884,
          null,
          0.4950115703971833,
          -0.002970255870688884,
          null,
          0.187833198153406,
          -0.002970255870688884,
          null,
          -0.6192529645232872,
          -0.002970255870688884,
          null,
          0.03266741273047216,
          -0.002970255870688884,
          null,
          -0.4380477928543113,
          -0.002970255870688884,
          null,
          -0.1608193923364529,
          -0.002970255870688884,
          null,
          0.8528991769844556,
          -0.002970255870688884,
          null,
          0.7134218866776175,
          -0.002970255870688884,
          null,
          -0.5337123416645465,
          -0.002970255870688884,
          null,
          0.12270868886136105,
          -0.002970255870688884,
          null
         ]
        },
        {
         "hoverinfo": "text",
         "marker": {
          "color": [
           "salmon",
           "salmon",
           "salmon",
           "salmon",
           "salmon",
           "salmon",
           "salmon",
           "salmon",
           "salmon",
           "salmon",
           "salmon",
           "salmon",
           "salmon",
           "salmon",
           "salmon",
           "salmon",
           "salmon",
           "salmon",
           "salmon",
           "salmon",
           "salmon",
           "salmon",
           "salmon",
           "salmon",
           "salmon",
           "salmon",
           "salmon",
           "salmon",
           "salmon",
           "salmon",
           "salmon",
           "salmon",
           "salmon",
           "salmon",
           "salmon",
           "salmon",
           "salmon",
           "salmon",
           "salmon",
           "salmon",
           "salmon",
           "salmon",
           "salmon",
           "salmon",
           "salmon",
           "salmon",
           "salmon",
           "salmon",
           "salmon",
           "salmon",
           "salmon",
           "salmon",
           "salmon",
           "salmon",
           "salmon",
           "salmon",
           "salmon",
           "salmon",
           "salmon",
           "salmon",
           "salmon",
           "salmon",
           "salmon",
           "salmon",
           "salmon",
           "salmon",
           "salmon",
           "salmon",
           "salmon",
           "salmon",
           "salmon",
           "salmon",
           "salmon",
           "salmon",
           "salmon",
           "salmon",
           "salmon",
           "salmon",
           "salmon",
           "salmon",
           "salmon",
           "salmon",
           "salmon",
           "salmon",
           "salmon",
           "salmon",
           "salmon",
           "salmon",
           "salmon",
           "salmon",
           "salmon",
           "salmon",
           "salmon",
           "salmon",
           "salmon",
           "salmon",
           "salmon",
           "salmon",
           "salmon",
           "salmon",
           "salmon",
           "salmon",
           "salmon",
           "salmon",
           "salmon",
           "salmon",
           "salmon",
           "salmon",
           "salmon",
           "salmon",
           "salmon",
           "salmon",
           "salmon",
           "salmon",
           "salmon",
           "salmon",
           "salmon",
           "salmon",
           "salmon",
           "salmon",
           "salmon",
           "salmon",
           "salmon",
           "salmon",
           "salmon",
           "salmon",
           "salmon",
           "salmon",
           "salmon",
           "salmon",
           "salmon",
           "salmon",
           "salmon",
           "salmon",
           "salmon",
           "salmon",
           "salmon",
           "salmon",
           "salmon",
           "salmon",
           "salmon",
           "salmon",
           "salmon",
           "salmon",
           "salmon",
           "salmon",
           "salmon",
           "salmon",
           "salmon",
           "salmon",
           "salmon",
           "salmon",
           "salmon",
           "salmon",
           "salmon",
           "salmon",
           "salmon",
           "salmon",
           "salmon",
           "salmon",
           "salmon",
           "salmon",
           "salmon",
           "salmon",
           "salmon",
           "salmon",
           "salmon",
           "salmon",
           "salmon",
           "salmon",
           "salmon",
           "salmon",
           "salmon",
           "salmon",
           "salmon",
           "salmon",
           "salmon",
           "salmon",
           "salmon",
           "salmon",
           "salmon",
           "salmon",
           "salmon",
           "salmon",
           "salmon",
           "salmon",
           "salmon",
           "salmon",
           "salmon",
           "salmon",
           "salmon",
           "salmon",
           "salmon",
           "salmon",
           "salmon",
           "salmon",
           "salmon",
           "salmon",
           "salmon",
           "salmon",
           "salmon",
           "salmon",
           "salmon",
           "salmon",
           "salmon",
           "salmon",
           "salmon",
           "salmon",
           "salmon",
           "salmon",
           "salmon",
           "salmon",
           "salmon",
           "salmon",
           "salmon",
           "salmon",
           "salmon",
           "salmon",
           "salmon",
           "salmon",
           "salmon",
           "salmon",
           "salmon",
           "salmon",
           "salmon",
           "salmon",
           "salmon",
           "salmon",
           "salmon",
           "salmon",
           "salmon",
           "salmon",
           "salmon",
           "salmon",
           "salmon",
           "salmon",
           "salmon",
           "salmon",
           "salmon",
           "salmon",
           "salmon",
           "salmon",
           "salmon",
           "salmon",
           "salmon",
           "salmon",
           "salmon",
           "salmon",
           "salmon",
           "salmon",
           "salmon",
           "salmon",
           "salmon",
           "salmon",
           "salmon",
           "salmon",
           "salmon",
           "salmon",
           "salmon",
           "salmon",
           "salmon",
           "salmon",
           "salmon",
           "salmon",
           "salmon",
           "salmon",
           "salmon",
           "salmon",
           "salmon",
           "salmon",
           "salmon",
           "salmon",
           "salmon",
           "salmon",
           "salmon",
           "salmon",
           "salmon",
           "salmon",
           "salmon",
           "salmon",
           "salmon",
           "salmon",
           "salmon",
           "salmon"
          ],
          "line": {
           "color": "gray",
           "width": 1
          },
          "size": 10
         },
         "mode": "markers",
         "text": [
          "0x050150090f638db08f8f21941993e80c8ba4931c",
          "0xb46f9de5c6384b2463344648a320342b8f4a16b9",
          "0x05462f35494e29086206eced533fd7477fe66ced",
          "0x062acd4a4491d37eed761d2b8a0fe0c1d4b48502",
          "0x062e87e406172bc68db438e4e2eb762d50258502",
          "0x07572fe046f5198921a28efd48b19b3af5f8befe",
          "0x07f3c3d9b5df3cf0f068d74a39f80125745f07e4",
          "0x07f40470b32734299030e63dc73ed1f973ad07e4",
          "0x07f40b10961a3f09283fcc5bc2260996678407e4",
          "0x07f4147fdb9607816e5a86204ec7ec6c500007e4",
          "0x07f43c0630816b063a0065bbf8c6ee3001d807e4",
          "0x07f4613e18ac3ea1dd0af0e474b13cf51f5f07e4",
          "0x07f4c861e6ea29cd094b038374cc09d81bf407e4",
          "0x07f52598b19fddb3787c0c7973be9a5e72eb8b06",
          "0x07fa0de2dc644ce5cd6458ebbf206b53617007e4",
          "0x07fe13934bbc5a815dcb77bd30107ecf77c807e4",
          "0x07fec48bc9010f1ad15d5f97c44dc7b67cc807e4",
          "0x0cb6ef8a1b17cdd482f5a8849918767cdf014d19",
          "0x0fd71cda8b71be589397469dd04f20e2e03be3d0",
          "0x0fd7c172c97b5cd1fb8996b62f152b9c1677e3d0",
          "0x0fda89cfde304456ad50f6f9404892024c80e3d0",
          "0x10962141b3b36159fab48ce6ed37446feb09eb29",
          "0x10b7606ca763f5640346f3d258873a792a74412f",
          "0x1130f01965f67d3e2761419ed22bbe290222a919",
          "0x12192e2c74285f114852897904b1a5f398c189d3",
          "0x12c125181eb7c944eaefcb2ae881475870f0aff3",
          "0x1497ef076387033cf7390fa1f3a251648c7d8fbe",
          "0x14c5a06328e8e967619995d05920c6078f5f07e4",
          "0x14cab7829b03d075c4ae1acf4f9156235ce99405",
          "0x15963fca27e6ea9a6cd3bd7795f028abe27bc7c6",
          "0x15d82e9d41a0e4d5c1727d076ae6feadbecbc7c6",
          "0x15d84591f9fa270510ff9a6a2d746e53e67bc7c6",
          "0x16113ae570fe66f2792b526227f5a3d65c82412f",
          "0x1611567cf71580699edf33d5a91ca3a38a74412f",
          "0x16119785dbd39fc094b757b1cf8309292c9e412f",
          "0x161aced059e84e3f8907247dcd5f3b40c932412f",
          "0x161bf94608b53e166391a86fb74771574c30412f",
          "0x170d2ed0b2a5d9f450652be814784f964749ffa4",
          "0x175dbc80709b7ca31ff557839e72ccc495686b3b",
          "0x175dc479bfa97536067fb89e4d4db61698cc6b3b",
          "0x175e1519b5feed56af9606d10cc247ebe6806b3b",
          "0x175ecf258e370cbf715f3227682f3fde46d16b3b",
          "0x1776398d38f2a85337097da17fb3be42b7930df9",
          "0x1a56f4aae974db3e846ce74fcdf285b939631004",
          "0x1b4e2c2f010b28dc5ed99dfd3458392c6c0f7231",
          "0x1bf96c42b08683c9514cdda40422055bce2867c8",
          "0x1c58fa654ceab3aaf565c977e69c425383315f71",
          "0x1c7414beae56c131c0d81aba3caf8b812383a0c1",
          "0x1c79d6599a5ff35922b2aed8d2a2eacbc77ebd44",
          "0x1f6265dfea2aff4cda1f79f6017dbd7281005fef",
          "0x20fb676b6d3df0fb490df5b4a775be461952c83a",
          "0x21212e79245cf6abe1dc22b523a020e5075f07e4",
          "0x21bd1a70544e74758b3498418e5f6779f4e6ba7e",
          "0x223f5fa4c401e31f30d3c6cd6a1025874e6d8015",
          "0x240e75180b36c9cb9a4e9e658a3e01a053d5da1e",
          "0x263803b53ee92f83469cd80d8907fd2e0863570f",
          "0x275924ece9ee4290a3a66d8747e2989bf5825e5b",
          "0x29331b3855ea2172664486f715ad6662f6d7a8d6",
          "0x293794084f069bbb823b366dc91524d3d45d58b1",
          "0x2b110fb95b780c5e410acfab169def735666133d",
          "0x2c8ca0dbe0915a8dd0e95a5aa4232bb34eddbbba",
          "0x2cf7252e74036d1da831d11089d326296e64a728",
          "0x2e6da3be7f75413e592c4dd6ec5627807bbc2845",
          "0x2e78912f59a7b2fa04d8398e5e1f3f3945e73433",
          "0x2f6b416df3193112678d604eb248bbf087693efe",
          "0x3344964d3496f4d28dcc9897e943217f7988ab84",
          "0x34a143ed5ef7559b4db017d70df3128f782d0816",
          "0x35a559e1e41b1137c02a6d683663a5564fb9570c",
          "0x369582d2010b6ed950b571f4101e3bb9b554876f",
          "0x36d1736f8cfcc439adbf67cccb00c11377db0ce1",
          "0x36d1d16b93911bea8ef5c67b6b94b3aad6840ce1",
          "0x38714485186f8138e3cd0dc8192736a5d0b7a6bf",
          "0x399cf1ca9b8dcc369ee3bb2a6516144de43e506d",
          "0x3b0edca5430c4d4b1b5ecca8de6b6a4b52bc2845",
          "0x3da5df675957a0c5c54c02826099e35e177799c6",
          "0x3e008f9c8d42cf2dc5a7eee63f4e389ac5ead233",
          "0x3ec389511af4af02c9f3723c0fdeb105d1cc5a9c",
          "0x415855c64acac3eef2ef0f0f63a786fe01f3b7b3",
          "0x41dc29a87207f1c12690dafc77824121b19587b3",
          "0x43d2c6cfbdd5ed179b2213160d37f0383547fbb3",
          "0x4615f03dd8e9aeb2501d690b20b6c697df072d5a",
          "0x464a0b0fb4f8990823a8001e857ad439ffd34f5e",
          "0x478f588438cecca6f57784bd084f0a727e64cdcd",
          "0x478fc9b930f9d390665f0bd8db0cc51864c7cdcd",
          "0x49703c37945d630ca6f0ec8c1f8beb687b4f5bdf",
          "0x49c12db1d1e53179ac583fac6f13e28c98032845",
          "0x4a9617ebdf595bab7bf99a6f5fe94235d2c562fd",
          "0x4acd6c8b3bfa890546e088e8abc87f035155362d",
          "0x4d208123fa9498b37643e7451115ab0dc4422845",
          "0x4e3cdd56644c2b99122afcb76beb510bd7e66ced",
          "0x4e3e270d6658b8eb398274c1ceceaf8c5fe66ced",
          "0x4e3e4a6ab668944136a0a090f9e7d99ef9236ced",
          "0x4e403cea1c0fe3d44e5c5b6d6fc8e7da1a6d5286",
          "0x4e448f2693f3bb4926aba5f150db5e371b7d5286",
          "0x4e44fd8a37d29761f2a8e2a895430d0fb87e5286",
          "0x4ed13a84d53a5e34b5869d0c18a20d3aa90f3ced",
          "0x4f87dce068987bafd5d6998540b7fc2a5422a41c",
          "0x4fd5c070b7a519a4628c654e5420b418bb72a41c",
          "0x4fd5cdc70b559fe2bbdb58c46f4f5692aa80a41c",
          "0x4fd6005d75702bdcc55ebac54fd35e0651d3a41c",
          "0x4fd66bf4011761bf7d9ed94e71cd18c5e03ea41c",
          "0x4fd6ac3c9a9d7347a788a3781432407c77b5a41c",
          "0x4fd71e0b4904c4517db482f4cca29db71b95a41c",
          "0x4fd749bb2c9169eebf72c4db224fed093af9a41c",
          "0x527de5e84a083f4d6f046482dacc2b3cbc784dc3",
          "0x52c10cbf52512b4a11bdd94cb2e98372c4aedc0c",
          "0x539199b08a8be41a6b7be31f5b7c98e7fbd82fac",
          "0x539e0ebfffd39e54a0f7e5f8fec40ade7933a664",
          "0x559b08bfcdcb75322be3b0757cf1c62840bc2845",
          "0x56a02df3b1773723f0f625ef46fd1be381620777",
          "0x59e749f17708547f7b9e28b2f2bfc2d3e6bea25f",
          "0x5b8217e9bf899836a023da09132f3592e9bc2845",
          "0x5b9a1560647f01b800646132a56f511f78032845",
          "0x5b9a158edeeab8f57ce50206baaef5bfdd032845",
          "0x5b9eab94d861a52b2d06e77810e8918d26bc2845",
          "0x5b9f041186c83f92ce4b91a913b51c80bbbc2845",
          "0x5b9f1eb2af175bdbee79f4a81bbc36cdb4422845",
          "0x5b9f20b5c09026c3198d069537e0ce58f84e2845",
          "0x5b9f708cd6a9300df004471979f980c574cd2845",
          "0x5b9f9674b609f575137675e1624056a1dc392845",
          "0x5b9fb64982ca02909506d54be67622c480aa2845",
          "0x5b9fcc16d6a3c7a66b9e26c8e974ff2f5d5b2845",
          "0x5b9ff7da2b26d3799b38c735d8d3547829af2845",
          "0x5d1459517ab9ffd60f8adecdd497ac94dd62d3fd",
          "0x62fcb3c1794fb95bd8b1a97f6ad5d8a7e4943a1e",
          "0x640ba9794739291826f282fe4bf5136591bc4b53",
          "0x684fd3c5cdfe279c82adc33029b095292d31ca35",
          "0x692bd9c4060d1ec3e991f4ec224ab5306d0cd02b",
          "0x6aa981bff95edfea36bdae98c26b274ffcafe8d3",
          "0x6d9e8dbb2779853db00418d4dcf96f3987cfc9d2",
          "0x6f7d49636ccd09133e075fa1c696c8978dcf93e2",
          "0x734f84df57744ad3c26733e45467db6cf14375fe",
          "0x74900790dd8178239180862d274738bbd8c6e461",
          "0x7535886cc43c8ae27acdac7476afb96bba74412f",
          "0x79355856ca5e69edd72dc955ccb2d5a52ef2f73b",
          "0x795b563b46f78ff52bd7d76b57a204e3f0d68ad7",
          "0x7a40e1b04c8b658736eca84633c7e5b5270fbe8c",
          "0x811966b0f38580866d1d04ee5f457bcda41b3c8b",
          "0x81a9b5f18179ce2bf8f001b8a634db80771f1824",
          "0x8261b247dcf190bc6490baa6e2ed2ad17a8a1684",
          "0x8290601633fdce10804646b669f49097e7b5a41c",
          "0x82a49a8c0fc554c9c4e73f52ac615bbca392f836",
          "0x841dc51946c55a5199b4e7804bfe83f5d12c6c73",
          "0x84524449d4ca09127968db2e814f8f96f32a37a8",
          "0x845295001830aec44c54e5dc7dd7f4caa79c37a8",
          "0x8452c3568045a38afc6b54997fae3aa8ef2737a8",
          "0x8452ddd47e0bf3323b692cbfc6f0cb0464b337a8",
          "0x846bd025527c8427809e11d0b0a9ce50f149d5d5",
          "0x8502dc3dd6fa09b38f8f40af42ab375f44cd2845",
          "0x853da4b0c1f189e5e3da8376681389d03b45670d",
          "0x853ee4b2a13f8a742d64c8f088be7ba2131f670d",
          "0x855e99f768fad76dd0d3eb7c446c0b759c96d520",
          "0x857a5c2d75d366e89ff2d3f8d1084c38923b7a25",
          "0x867319f5d4868fa38a82ed6e56b4b940b0e6aaee",
          "0x8698ca6846d6b14bb5dcf32d05535ee970425e75",
          "0x86f01a093cf166c8c82792adbb9520b321768dad",
          "0x8970c235a4e4d8e0ae5c340549efda5db20d2b44",
          "0x8aabdcdc281b89d6e9451e1fd03050f09cef7d26",
          "0x8bcd1daaa07e1b1bf727b8365ffa13f20334d7b8",
          "0x8c7822f283137e1e73ea0bdc537ccfb2fa1fb030",
          "0x8ccb4544b3030dacf3d4d71c658f04e8688e25b1",
          "0x8cfaab34f5159abf9c35587ac40d09a05dc94765",
          "0x8d3b5539c317afd15631f55dcbf98735173dba7e",
          "0x8d3f0abf28a0999a7fb8292499177d59d64bba7e",
          "0x8d3f371736fd5de418c8880198fced5b84e6ba7e",
          "0x8d3f7a88488374a9abb13b41dd0c8992d5a6ba7e",
          "0x8d3f88112715437fa627b513c807b4f9c85cba7e",
          "0x8d73b88b150d6b58c610fe3f5f38f4e411e6ba7e",
          "0x8fbb74b8070b14e99804d89e54115f3eee4f78af",
          "0x8fe0861500949f3570f4578ac2183fc327b5a41c",
          "0x91a50e7c74c1684e13a7ddbf2365720f2a4604d5",
          "0x92311d2a34baac89a45083887c0096fc4a0196b9",
          "0x92c2ea2fafe891758da0ed2ec2978acf1d4162fb",
          "0x9469a49217906e445bdb64d7e08900134bd75f2a",
          "0x95aae09ad8557126b169056b9bd0ff6b5456239d",
          "0x964ce4d45d986daef6103a9c616c913a40544817",
          "0x9755f4fee8a4e5026a32423f54114adf5b050545",
          "0x9aa76073ec48511c74d8e5cf757896c7d16ba772",
          "0x9e4011a6fc74670c74579294abd036e5b0da9417",
          "0x9f5cea21bcf57a95d72f9a0693f35680a09e34dc",
          "0x9fb10bbddc78587b78371484abbc3fe0c2e92342",
          "0x9fb16c78628c6b67341c51b0b52f13f897dc2342",
          "0x9fb19cf0c24e1b17e4c35d1321f4eeae69c42342",
          "0x9fba1d1524fba7b6210cb0325ac09108ca9e2342",
          "0x9fba68924c7bc9b00e58d1977047e5bac2e12342",
          "0x9fbda11340cf9416f9ff5f1de88a1e3856643e98",
          "0xa2135ae3cf3d7915f9c1ca38568ff123fca05281",
          "0xa34ec05da1e4287fa351c74469189345990a3f0c",
          "0xa553a7e95ea8f5598494f9590e4c081c8ecd3a44",
          "0xa5efbd0b9bd50da6a65ee987f07ea3b66bbc2845",
          "0xa72e62d127f38ec9c76ffd51b9000c8a8630e857",
          "0xa76aae740a421748de55620876b9c059fbbc2845",
          "0xaafbe6d5daddd1f26d82167e2ee13c96c6552417",
          "0xab3e6ac10719871a56881b486b7eb40b5bb40f21",
          "0xab785f16bd430e29a6c2398a02dbac6f04070c94",
          "0xab7a6e4b5e86ce40038bb923d3ebfb5a4f5f07e4",
          "0xad00e0ce9294106e5937ea438a0caa9373dd1ec7",
          "0xad00f82facb26856401abba8de02a75094241ec7",
          "0xad0dc80edefb48871ba49bb155c4264c02201ec7",
          "0xade113359ebce63e7429317be1a495f3a836df65",
          "0xae2446a64d8b9414c0fcaaa89fc3e7f76e371f20",
          "0xae24bcca050352c84d7b9bbcc7c555738a611f20",
          "0xae28085f066849eec49a1ef924d96a4737d41f20",
          "0xae286f8de48e6deb8525ba04b6620f96510d1f20",
          "0xae28af509cc11b24cede3d22497bdfc5b1581f20",
          "0xae63c736db11168d121cc1d52fd3377f75420084",
          "0xae678b3c42632202095fd9efe2c68b36c9420084",
          "0xae67dbd9254ee84ceba5ed8e491d42b2c8f80084",
          "0xae67e55b0a5928b2bf0617408b3e872c6a970084",
          "0xae7c304b3d11b6cf2c1bc6ab7e36ac11f6d758c2",
          "0xafb2da14056725e3ba3a30dd846b6bbbd7886c56",
          "0xb00bf7a2813dfea90cf5ed34e9198ac9f7f7689d",
          "0xb0ad9a563473f9cfad906be2b6c9a4b7abd97f76",
          "0xb2657f72fb6d66a5efcab957c4ec0ee30d46d826",
          "0xb3328a88b5f3726af578af7fbe90d26d09ea2ac7",
          "0xb420adb29afd0a4e771739f0a29a4e077eff1acb",
          "0xb486afd9ef56d36f92622291c6bc805dc700bce8",
          "0xb4c2f9ce62c5918e311c35afab94c5fde9011b62",
          "0xb771f6a4c08d0775ac7c272be4479c254409fce2",
          "0xb818595e095545e9071ea844b905bf553c280376",
          "0xb897981fbc94f1aed6593da2e345ff56c414e34e",
          "0xb8de9717894c449d3bacfe56cb7eb9e7f7a88e30",
          "0xbc70f9e663f4b79de2dafed45eb524fe1356ac3e",
          "0xbf686ae9f789210bc28569ec7fe6c8f2273dba7e",
          "0xbf72b6485e4b31601afe7b0a1210be2004d2b1d6",
          "0xc1ab30c52086bbe8f8e23d0720c5201f60dc5d85",
          "0xc27d980b71d5978f8b6de9e1ba01ed001d8760d3",
          "0xc42dbb33cb1fe2af32a2d7bb123d5fd64308de51",
          "0xc486131964dba3ad4be1e9cc19e8915f63b50d90",
          "0xc57c4c7a7e5ba36d209dfcb0662cf8721e8ff9f5",
          "0xc6dcc06c44e4c4e2328e3cea882471b1bba1ceae",
          "0xc886e6339011fe15282a1c40a5ed06d9c7361729",
          "0xca45d47cb07129b78a0dff83ac90f7c0e125d019",
          "0xca577ff144206f3f1c3f35ef5954191bdfbb4244",
          "0xcb8a45327b0db3de09c2dab531f9ac3f084064e5",
          "0xce59b619e0e34649dbce3e0ec81c94aa5a10a11b",
          "0xd05947bd29dd88846769a24b543a761517d71d77",
          "0xd0bd6abe7ced3db3606a5c20fa6e299cd8f988a3",
          "0xd1644bab2610662ef90f95d08024f71e000007e4",
          "0xd3538174e57735b02fa85e1bc65c52f4a98a6363",
          "0xd49a4681f7edc0367cda0d318539724943195d27",
          "0xd5a79ab649e0a5f20e995026d034a0bf28b8aaca",
          "0xd7f3aa8d25b7e147bde83bb114c1a89c5bbc2845",
          "0xd82e29924a2a4264283c1300bcac6cea587ad0fb",
          "0xd85a25332b57cc447a791100e7317e534d553761",
          "0xd978106fd44d5420851b94eafd25577d1cea7279",
          "0xdc483901425b2ea6494eae01adb6565936e25124",
          "0xdd17f170150381e44de4ada969751f343c10f498",
          "0xde70f2e177e583a59ea9ee1e8c33b045348ff7a5",
          "0xdf13314477cf55e09de7aace031e8a6e7978b289",
          "0xdf1ff4f99d4c97a57f81f8c438b787820118b289",
          "0xe1ee3167982d2c8e11428023a6d750a180ec016c",
          "0xe28090e18c863145523942e4772944bca1609478",
          "0xe471dea431f549e739b4803595e1f79ca5686b3b",
          "0xe4ab4c64945bcdfc2e6d670c7156720cd53f9e36",
          "0xe4edd743c8e44eb7784a0eade2f99daeb6b8bce8",
          "0xe4eddf312e3e0b22d698468f4006fd87ce20bce8",
          "0xe5ed8c9167ee8779514900f89d5e6cccfe62d336",
          "0xe6f1af7afdd396adf8ef19291bd07c5d9b20fecc",
          "0xe7129c006353ceda8f229240282c48a54402af45",
          "0xe72327cb83a94450b7fd648ab24ea06227b5a41c",
          "0xe7e0eb9f6bcccfe847fdf62a3628319a092f11a2",
          "0xea16565a31e1410d665b8a6e6774d6eaf7c5f434",
          "0xea169cdcc00ceb119ec010ee502526a88d9df434",
          "0xeaddd71a086a13f646dd8ce94dd0c89a2c0b7000",
          "0xeb25ae60705d2249b407d61a16b7e1426b49b193",
          "0xebaaaafca7e0192aaefc844bc18d31be40e7dd61",
          "0xec4b76ef0f79bc8feee9c5c10bc711eee1e423d2",
          "0xecc90d54b10add1ab746abe7e83abe178b72aa9e",
          "0xecdc366dcab96c6ea1493914c910322bbbba8c64",
          "0xf01998db23efd752849abece1f0f9d1da56559f0",
          "0xf02d5bb1027ea2269103499c63d907dc1bbc2845",
          "0xf04adbf75cdfc5ed26eea4bbbb991db002036bdd",
          "0xf1a12ec907b3d87b6de7a9a5c3820566c621f68b",
          "0xf1d63e5d868d69b8281c604e6a3153bfafe66ced",
          "0xf208cab305b70f43a2ba44c9b38c3e66736e2839",
          "0xf56be7ae1526a4aea5260f366d4b5b0e9c1b2afe",
          "0xf7ac4ffd4bbd20fb7ea31324cee45ca215f5a672",
          "0xf8234a0a9910adcc288d3efeb59a4fe6487ad0fb",
          "0xf84a6a6d6a584b0bad8bbd4b0b70d902e821f11b",
          "0xfaf3c32afbdba03ad93912a5272bb735ef5f07e4",
          "0xfb4e24a9998da394c95cbad3c3248eae3a74412f",
          "0xfcf5257b3174be3ba1f756b8febae134ff63caba",
          "0xff8ba4d1fc3762f6154cc942ccf30049a2a0cec6"
         ],
         "type": "scatter",
         "x": [
          0.8785101662239263,
          0.038437908821722676,
          -0.35112989889195084,
          0.2509194504714693,
          0.8539357729734389,
          -0.9250031254707206,
          -0.19628443645340868,
          -0.34646394082061077,
          -0.11226752625296231,
          -0.17301151626841263,
          -0.7591318911136146,
          -0.09948529400911246,
          -0.13357211107926678,
          0.08556423387313232,
          -0.045952170252294935,
          0.41193853970547023,
          -0.464088009889296,
          -0.8369021357337474,
          0.8305350670194304,
          0.4867336481613053,
          -0.8311522633931588,
          -0.40415731924198195,
          0.6757156941433636,
          -0.9761464722892369,
          -0.4942213833938095,
          0.8588896148728644,
          -0.4624501443087523,
          -0.01727275436720826,
          0.11646800040208824,
          0.2885398924528784,
          0.7001864596250295,
          0.8227555805467865,
          -0.14207670186067137,
          0.8023174752661436,
          0.4164543421540809,
          -0.9962930203284864,
          0.12388805084162492,
          -0.807147532926713,
          -0.7690783836163361,
          -0.6172701343826588,
          0.34881474281787667,
          0.6797378029250608,
          0.7675635943468387,
          -0.8085701226875222,
          -0.04590077740188749,
          -0.06507313092361337,
          0.7191936022459534,
          -0.5752874246228215,
          0.5771042562502403,
          0.8661756844667986,
          0.16651758086086324,
          0.5569426093697797,
          0.6964955501261543,
          -0.42697520505483855,
          -0.08000348196303018,
          -0.5224347100041336,
          0.18844624091985962,
          0.4918945850090118,
          -0.9495798129117164,
          0.8947553798423512,
          -0.9107849462676656,
          -0.4977544785378106,
          -0.6272750007781932,
          0.2729691605997504,
          -0.20483354272273335,
          0.601579382529643,
          -0.7172967851319348,
          -0.9865518201731316,
          -0.7918060671002708,
          -0.2372225507731213,
          0.7754607415740193,
          -0.4004242119755082,
          -0.2635971715367151,
          -0.4133423761552052,
          -0.8647327556333765,
          0.29457628572678185,
          0.058020064854850714,
          -0.5160893438843714,
          0.22982048256576648,
          -0.526133951014315,
          -0.8062616495201169,
          0.8100015539959529,
          -0.03295667197492273,
          0.24954050507279707,
          -0.9087127740744171,
          0.7729241047136025,
          0.45583722366566654,
          -0.161942154557789,
          -0.5352234860577524,
          0.07614227160574709,
          -0.5168145578484608,
          0.28196848917602657,
          0.5315927074821704,
          -0.1050857988339304,
          0.30594153915512895,
          -0.49340008611616115,
          0.09288017777748189,
          0.7717264406330187,
          -1,
          0.8999885294717506,
          -0.3465071020781332,
          0.40786929241643993,
          0.09209282820391594,
          -0.23086104754097553,
          -0.21776595230428628,
          -0.19822861115068982,
          0.276820577744957,
          -0.5137068019213932,
          -0.08738828978077155,
          0.793281732065328,
          -0.19205542876972234,
          0.0034458693556896508,
          0.2198367739240831,
          0.1408160220362074,
          -0.12076367289154498,
          0.03126569043610799,
          0.00024226560437765694,
          -0.6708997425848473,
          0.7370444987335433,
          0.8921358980148286,
          0.1470215534857217,
          0.08667582938398556,
          -0.04585285495449961,
          0.8570645558633321,
          0.378341756950117,
          -0.24650668059152173,
          0.46249113437834055,
          0.32021407971291205,
          0.838791167311128,
          0.19843294421621877,
          0.05799272748191974,
          -0.6025631179820095,
          0.30606223913517766,
          0.8809011483758006,
          0.4499147853998533,
          -0.13457157092014846,
          0.6151482642685075,
          -0.6148456873194585,
          0.5041266251485148,
          0.19822921513503378,
          -0.086651834374296,
          -0.6669367580550158,
          0.10610142612205573,
          -0.29518715677150964,
          -0.9043494382318985,
          0.7796958814470103,
          -0.36470588272800014,
          -0.8841169789059363,
          -0.3446453756320242,
          -0.7943367788658645,
          0.404245269952135,
          0.07851712866801139,
          -0.8728001279229612,
          0.8188183488725991,
          -0.6567325953992115,
          -0.12050103714826606,
          -0.4130203184041914,
          0.7756404591561676,
          0.19226384006296846,
          -0.8705235983049879,
          0.39085728440711315,
          0.36636120884127443,
          -0.6435298409542642,
          0.5453049355679084,
          -0.35918507964709917,
          -0.6612193121352874,
          -0.21034491841143316,
          0.11937204096055368,
          0.01316269000398506,
          0.8773420887782777,
          -0.9463338040042444,
          -0.18379277657662818,
          -0.7406939856889047,
          -0.507475539510995,
          -0.21000171319745237,
          -0.08613090417550308,
          0.0163481092075118,
          -0.6993797418910352,
          -0.16871708555471004,
          0.2184836012629124,
          -0.28751388256748345,
          0.7756770691513507,
          0.6421380908636108,
          0.8424877128901568,
          -0.46274360831125866,
          0.5617570558676314,
          0.7958773247446628,
          0.6228545051353992,
          -0.0327259806316613,
          0.20156070290034722,
          -0.041997502430495895,
          0.14683979551182427,
          0.03754481115932127,
          -0.7695962840572463,
          0.34990074053111864,
          -0.004457178671651581,
          -0.018017848527711443,
          0.25058865141496656,
          0.4325433120140549,
          -0.9731579404765579,
          0.6441561708308228,
          0.8871174867027118,
          -0.38420447122118784,
          0.3990484360811271,
          -0.2549163512138908,
          0.043258601395598284,
          0.7336705611649925,
          0.19946071621046518,
          0.47689782071209574,
          0.22052949849603562,
          -0.5219068640220963,
          -0.45005378433919374,
          0.12244255869442289,
          -0.3457845872587812,
          -0.06319910247800116,
          -0.45791087322575186,
          0.6728484922454673,
          -0.57306329270396,
          0.15760701235084554,
          -0.8500966566061173,
          0.3764146553977111,
          0.6667059593736354,
          0.5556805548456765,
          -0.9887555304849819,
          -0.4328870409607829,
          0.46991461553998287,
          0.6993926360451385,
          -0.9457639919230123,
          -0.6862056331847479,
          -0.8732789819992176,
          -0.858279682941798,
          0.2715968909065888,
          -0.8155672417161716,
          0.4933227555220188,
          -0.1822412519155098,
          0.8515620131985809,
          -0.33118122847282655,
          0.47379601050367387,
          0.6991118184169378,
          0.6970777851396636,
          -0.280402152741664,
          0.5572488216150059,
          0.8230417027043484,
          -0.37335105451216566,
          0.7966866952634892,
          -0.8245623410851374,
          -0.9801181431918806,
          -0.27402894562588503,
          0.3290254659226788,
          0.3980466498956227,
          0.6013138207647716,
          -0.6151695828983533,
          0.8613823802633831,
          0.6566425091575473,
          0.46693796333830295,
          -0.8580603881369367,
          0.029284879286623156,
          -0.7044434910896945,
          -0.14307314606039953,
          -0.5584872902771408,
          -0.4694542582324255,
          0.014529307521301825,
          0.4617622793626234,
          0.5970490831021823,
          0.16453905744020406,
          -0.9032908732968632,
          -0.6858448904890094,
          -0.4133564693316226,
          -0.9800095098909734,
          0.8913998764418698,
          0.8473015548280178,
          0.7210454115102493,
          0.7857822476013354,
          -0.731780373762062,
          0.9012130874923229,
          0.21043346167266197,
          0.7342553380984717,
          0.7272665259545987,
          -0.5621255909766373,
          -0.4929223761497311,
          -0.9631489700547755,
          0.8718714493739111,
          -0.2790148376926666,
          -0.03001173229666856
         ],
         "y": [
          0.01244901943971534,
          -0.002970255870688884,
          -0.9122586629937602,
          0.881550522414722,
          -0.044191363019592325,
          -0.3370202440419713,
          -0.7418960054981609,
          -0.40894715659802594,
          0.2560972632802773,
          -0.09994745336463928,
          -0.5509729644165323,
          0.07150533560888343,
          -0.7975291116278103,
          -0.4427625524095552,
          0.8547671552437287,
          0.1944366707783902,
          -0.8733154332676109,
          0.5204931762872749,
          -0.18844589694263117,
          -0.5764324383958415,
          0.18259712516608634,
          0.297029067672317,
          -0.2902620314752919,
          -0.1607746332480416,
          0.5451897022751238,
          -0.07073833016396835,
          0.8375428258687154,
          0.2544049122642335,
          -0.29545361917844554,
          -0.29484546022503694,
          -0.5200845244384367,
          0.19372330014238281,
          0.89141749057109,
          -0.39679749609755854,
          -0.34970824412649226,
          -0.0952884580363828,
          -0.7911992667152404,
          -0.6677754028157729,
          0.5683813394406297,
          -0.38946920355855225,
          -0.45479716382733903,
          0.21024524799654892,
          -0.4661109525596021,
          0.02898046427298657,
          -0.8296238218091809,
          -0.9079803192931787,
          -0.43627559267757515,
          0.06140807290306796,
          -0.7907174953170589,
          -0.14777811340669378,
          0.07898384590119195,
          0.16693722915345033,
          0.5558034068444156,
          -0.8341199728654574,
          0.9381521864883688,
          -0.8393015560755845,
          0.58380343627393,
          0.5471100890203504,
          0.30798653919677077,
          0.09577725198092439,
          0.3775753343926175,
          0.4831420578879613,
          0.8177665179310953,
          -0.08045323543402068,
          0.002380117841561894,
          0.7710672138358606,
          -0.15206896411162557,
          0.25531617862002887,
          0.6788540876207398,
          -0.4434632936762368,
          0.3329100461796113,
          -0.4869187392946687,
          0.22585506749639775,
          0.025354116843294274,
          -0.3177022116218215,
          0.8897442598169385,
          0.9416684808268915,
          0.693173054737244,
          -0.16548281703673082,
          -0.5795511717037954,
          -0.07321010708656256,
          0.31077061625114993,
          0.5380582053146191,
          -0.5133063569815558,
          -0.07667308890958395,
          0.09906721903332776,
          0.4149581222509267,
          0.7004064052078003,
          0.14262190734887614,
          0.26759717498133645,
          0.28502427619338544,
          -0.7605894711513392,
          -0.11546092430318565,
          -0.2822562989572405,
          0.2553338220580177,
          -0.28103208631296045,
          0.9198108908543694,
          0.28250732400502837,
          0.12233177169075568,
          -0.02093454057257462,
          0.40717530938057644,
          -0.21265998463980104,
          0.43895486641226267,
          0.38793876409671096,
          -0.9209168436866461,
          0.09189837476059537,
          -0.8944509428187379,
          0.39631567871031725,
          -0.017945648986772016,
          -0.3044084822474079,
          0.9381909013967786,
          0.0732653243420801,
          0.32160954333765784,
          -0.08556149283551673,
          0.3152788761566275,
          -0.08449548673747487,
          -0.37082544469323653,
          -0.3071205405627355,
          -0.6390733241080034,
          -0.18372313500642834,
          -0.21076542692561595,
          0.11434700178430843,
          0.1681822434522654,
          -0.2693160223618568,
          0.8218211419935758,
          -0.29365482898677536,
          0.6803720105008995,
          0.8606362197682927,
          0.03896915236570624,
          -0.8033354166060448,
          -0.16760679827307087,
          -0.7980916889267072,
          0.12957603359027295,
          0.19845605642852598,
          -0.7693137021737756,
          0.9728759792936413,
          -0.5269699099450325,
          -0.5760052232560856,
          -0.7054792136841885,
          -0.03165264659514797,
          -0.9475698033093468,
          -0.763670620722745,
          -0.9197335011564145,
          0.6519677584333802,
          -0.23420311944898878,
          -0.4073168192160953,
          -0.014343010117688144,
          0.075323597261561,
          -0.8043598899384489,
          -0.5989710056567331,
          0.06900526678202258,
          -0.867309510112362,
          0.3307899339625883,
          0.43567848588396574,
          0.756598684311675,
          0.5707927391873929,
          -0.2830462313695744,
          0.4744102974732326,
          0.8564290210790488,
          0.2596490177457563,
          -0.3321599847991315,
          0.8584123483361394,
          -0.2603570911174828,
          0.006280254119484996,
          -0.1665855260287962,
          0.660738999722709,
          0.5321268506432236,
          -0.3564031242992104,
          0.35744779083712547,
          0.3202064350757517,
          0.14811548220730977,
          0.18848544074131734,
          0.7537070519482456,
          0.7902284007144166,
          -0.5912729021489207,
          -0.0980308149807047,
          -0.8844567520013229,
          0.41669662473623087,
          -0.5173624088916916,
          -0.8677164047976522,
          -0.10831806280355347,
          -0.508706757528645,
          -0.615129957685094,
          -0.3051236020902003,
          0.22076398388478807,
          0.7342466056044333,
          0.3840711881546115,
          -0.6799386105077437,
          -0.1364676990764966,
          0.5244214612208719,
          0.9779039466898132,
          0.2789439450126614,
          -0.5839295069128076,
          0.4739254971299712,
          -0.8184823393651905,
          -0.2494255910976615,
          0.7556885614238351,
          0.4101514840045504,
          0.8306033316780029,
          0.20006065105686321,
          0.6335629739672184,
          0.05594681608962988,
          0.875492461422304,
          -0.8431769003211396,
          -0.7051359772050353,
          0.6657194249828989,
          0.4950115703971833,
          0.187833198153406,
          -0.6192529645232872,
          0.03266741273047216,
          -0.4380477928543113,
          -0.1608193923364529,
          0.8528991769844556,
          0.7134218866776175,
          -0.5337123416645465,
          0.12270868886136105,
          0.7121330650866489,
          -0.7095366696461849,
          0.9156018984097734,
          0.4435184292810575,
          0.7718374945611565,
          0.5195376011047359,
          -0.6181223358837185,
          0.0558536957796465,
          0.7912860799673835,
          0.7892003808726374,
          0.6046779790054115,
          -0.15641122148161637,
          -0.6797401080236125,
          -0.5094179508488214,
          -0.45088902594915914,
          -0.8380593605927759,
          -0.4069605294930688,
          -0.7562413603015947,
          -0.8620683749360255,
          -0.3623430626718862,
          0.9172621157916722,
          0.6682708995402963,
          -0.5579823469973653,
          -0.4957039332057001,
          -0.871227294744579,
          0.6768388731937701,
          -0.10729428297071326,
          0.9327908028689117,
          -0.23519465241252008,
          -0.2763144056172077,
          0.0062259494021114185,
          0.8726797907365463,
          -0.7792296226134372,
          -0.778210908172185,
          0.4701495819577208,
          0.7262497787734498,
          0.2486448577827735,
          -0.7121316256065471,
          0.7591127447866066,
          0.6228556899101225,
          -0.9320642055775287,
          0.601374467571402,
          -0.9279260466417473,
          -0.7846720871019759,
          -0.7834884941050577,
          0.9555631226827243,
          -0.8179270185530405,
          0.6008910294604606,
          -0.8620752963382741,
          0.42177606440975607,
          -0.618923824753312,
          -0.8718842302138762,
          -0.041712568377919486,
          -0.1160880724334306,
          0.1250599697417426,
          0.41797571925186594,
          0.42992255926981116,
          -0.5006779044588477,
          0.14229890431874323,
          0.9120281421383705,
          0.540115941830872,
          -0.3471216048071635,
          0.8096679923071977,
          -0.716234356350696,
          -0.2620796634583532,
          -0.23232694468599718,
          0.9462673579414517,
          -0.9456500368627734
         ]
        }
       ],
       "layout": {
        "height": 500,
        "showlegend": false,
        "template": {
         "data": {
          "bar": [
           {
            "error_x": {
             "color": "#2a3f5f"
            },
            "error_y": {
             "color": "#2a3f5f"
            },
            "marker": {
             "line": {
              "color": "#E5ECF6",
              "width": 0.5
             },
             "pattern": {
              "fillmode": "overlay",
              "size": 10,
              "solidity": 0.2
             }
            },
            "type": "bar"
           }
          ],
          "barpolar": [
           {
            "marker": {
             "line": {
              "color": "#E5ECF6",
              "width": 0.5
             },
             "pattern": {
              "fillmode": "overlay",
              "size": 10,
              "solidity": 0.2
             }
            },
            "type": "barpolar"
           }
          ],
          "carpet": [
           {
            "aaxis": {
             "endlinecolor": "#2a3f5f",
             "gridcolor": "white",
             "linecolor": "white",
             "minorgridcolor": "white",
             "startlinecolor": "#2a3f5f"
            },
            "baxis": {
             "endlinecolor": "#2a3f5f",
             "gridcolor": "white",
             "linecolor": "white",
             "minorgridcolor": "white",
             "startlinecolor": "#2a3f5f"
            },
            "type": "carpet"
           }
          ],
          "choropleth": [
           {
            "colorbar": {
             "outlinewidth": 0,
             "ticks": ""
            },
            "type": "choropleth"
           }
          ],
          "contour": [
           {
            "colorbar": {
             "outlinewidth": 0,
             "ticks": ""
            },
            "colorscale": [
             [
              0,
              "#0d0887"
             ],
             [
              0.1111111111111111,
              "#46039f"
             ],
             [
              0.2222222222222222,
              "#7201a8"
             ],
             [
              0.3333333333333333,
              "#9c179e"
             ],
             [
              0.4444444444444444,
              "#bd3786"
             ],
             [
              0.5555555555555556,
              "#d8576b"
             ],
             [
              0.6666666666666666,
              "#ed7953"
             ],
             [
              0.7777777777777778,
              "#fb9f3a"
             ],
             [
              0.8888888888888888,
              "#fdca26"
             ],
             [
              1,
              "#f0f921"
             ]
            ],
            "type": "contour"
           }
          ],
          "contourcarpet": [
           {
            "colorbar": {
             "outlinewidth": 0,
             "ticks": ""
            },
            "type": "contourcarpet"
           }
          ],
          "heatmap": [
           {
            "colorbar": {
             "outlinewidth": 0,
             "ticks": ""
            },
            "colorscale": [
             [
              0,
              "#0d0887"
             ],
             [
              0.1111111111111111,
              "#46039f"
             ],
             [
              0.2222222222222222,
              "#7201a8"
             ],
             [
              0.3333333333333333,
              "#9c179e"
             ],
             [
              0.4444444444444444,
              "#bd3786"
             ],
             [
              0.5555555555555556,
              "#d8576b"
             ],
             [
              0.6666666666666666,
              "#ed7953"
             ],
             [
              0.7777777777777778,
              "#fb9f3a"
             ],
             [
              0.8888888888888888,
              "#fdca26"
             ],
             [
              1,
              "#f0f921"
             ]
            ],
            "type": "heatmap"
           }
          ],
          "heatmapgl": [
           {
            "colorbar": {
             "outlinewidth": 0,
             "ticks": ""
            },
            "colorscale": [
             [
              0,
              "#0d0887"
             ],
             [
              0.1111111111111111,
              "#46039f"
             ],
             [
              0.2222222222222222,
              "#7201a8"
             ],
             [
              0.3333333333333333,
              "#9c179e"
             ],
             [
              0.4444444444444444,
              "#bd3786"
             ],
             [
              0.5555555555555556,
              "#d8576b"
             ],
             [
              0.6666666666666666,
              "#ed7953"
             ],
             [
              0.7777777777777778,
              "#fb9f3a"
             ],
             [
              0.8888888888888888,
              "#fdca26"
             ],
             [
              1,
              "#f0f921"
             ]
            ],
            "type": "heatmapgl"
           }
          ],
          "histogram": [
           {
            "marker": {
             "pattern": {
              "fillmode": "overlay",
              "size": 10,
              "solidity": 0.2
             }
            },
            "type": "histogram"
           }
          ],
          "histogram2d": [
           {
            "colorbar": {
             "outlinewidth": 0,
             "ticks": ""
            },
            "colorscale": [
             [
              0,
              "#0d0887"
             ],
             [
              0.1111111111111111,
              "#46039f"
             ],
             [
              0.2222222222222222,
              "#7201a8"
             ],
             [
              0.3333333333333333,
              "#9c179e"
             ],
             [
              0.4444444444444444,
              "#bd3786"
             ],
             [
              0.5555555555555556,
              "#d8576b"
             ],
             [
              0.6666666666666666,
              "#ed7953"
             ],
             [
              0.7777777777777778,
              "#fb9f3a"
             ],
             [
              0.8888888888888888,
              "#fdca26"
             ],
             [
              1,
              "#f0f921"
             ]
            ],
            "type": "histogram2d"
           }
          ],
          "histogram2dcontour": [
           {
            "colorbar": {
             "outlinewidth": 0,
             "ticks": ""
            },
            "colorscale": [
             [
              0,
              "#0d0887"
             ],
             [
              0.1111111111111111,
              "#46039f"
             ],
             [
              0.2222222222222222,
              "#7201a8"
             ],
             [
              0.3333333333333333,
              "#9c179e"
             ],
             [
              0.4444444444444444,
              "#bd3786"
             ],
             [
              0.5555555555555556,
              "#d8576b"
             ],
             [
              0.6666666666666666,
              "#ed7953"
             ],
             [
              0.7777777777777778,
              "#fb9f3a"
             ],
             [
              0.8888888888888888,
              "#fdca26"
             ],
             [
              1,
              "#f0f921"
             ]
            ],
            "type": "histogram2dcontour"
           }
          ],
          "mesh3d": [
           {
            "colorbar": {
             "outlinewidth": 0,
             "ticks": ""
            },
            "type": "mesh3d"
           }
          ],
          "parcoords": [
           {
            "line": {
             "colorbar": {
              "outlinewidth": 0,
              "ticks": ""
             }
            },
            "type": "parcoords"
           }
          ],
          "pie": [
           {
            "automargin": true,
            "type": "pie"
           }
          ],
          "scatter": [
           {
            "fillpattern": {
             "fillmode": "overlay",
             "size": 10,
             "solidity": 0.2
            },
            "type": "scatter"
           }
          ],
          "scatter3d": [
           {
            "line": {
             "colorbar": {
              "outlinewidth": 0,
              "ticks": ""
             }
            },
            "marker": {
             "colorbar": {
              "outlinewidth": 0,
              "ticks": ""
             }
            },
            "type": "scatter3d"
           }
          ],
          "scattercarpet": [
           {
            "marker": {
             "colorbar": {
              "outlinewidth": 0,
              "ticks": ""
             }
            },
            "type": "scattercarpet"
           }
          ],
          "scattergeo": [
           {
            "marker": {
             "colorbar": {
              "outlinewidth": 0,
              "ticks": ""
             }
            },
            "type": "scattergeo"
           }
          ],
          "scattergl": [
           {
            "marker": {
             "colorbar": {
              "outlinewidth": 0,
              "ticks": ""
             }
            },
            "type": "scattergl"
           }
          ],
          "scattermapbox": [
           {
            "marker": {
             "colorbar": {
              "outlinewidth": 0,
              "ticks": ""
             }
            },
            "type": "scattermapbox"
           }
          ],
          "scatterpolar": [
           {
            "marker": {
             "colorbar": {
              "outlinewidth": 0,
              "ticks": ""
             }
            },
            "type": "scatterpolar"
           }
          ],
          "scatterpolargl": [
           {
            "marker": {
             "colorbar": {
              "outlinewidth": 0,
              "ticks": ""
             }
            },
            "type": "scatterpolargl"
           }
          ],
          "scatterternary": [
           {
            "marker": {
             "colorbar": {
              "outlinewidth": 0,
              "ticks": ""
             }
            },
            "type": "scatterternary"
           }
          ],
          "surface": [
           {
            "colorbar": {
             "outlinewidth": 0,
             "ticks": ""
            },
            "colorscale": [
             [
              0,
              "#0d0887"
             ],
             [
              0.1111111111111111,
              "#46039f"
             ],
             [
              0.2222222222222222,
              "#7201a8"
             ],
             [
              0.3333333333333333,
              "#9c179e"
             ],
             [
              0.4444444444444444,
              "#bd3786"
             ],
             [
              0.5555555555555556,
              "#d8576b"
             ],
             [
              0.6666666666666666,
              "#ed7953"
             ],
             [
              0.7777777777777778,
              "#fb9f3a"
             ],
             [
              0.8888888888888888,
              "#fdca26"
             ],
             [
              1,
              "#f0f921"
             ]
            ],
            "type": "surface"
           }
          ],
          "table": [
           {
            "cells": {
             "fill": {
              "color": "#EBF0F8"
             },
             "line": {
              "color": "white"
             }
            },
            "header": {
             "fill": {
              "color": "#C8D4E3"
             },
             "line": {
              "color": "white"
             }
            },
            "type": "table"
           }
          ]
         },
         "layout": {
          "annotationdefaults": {
           "arrowcolor": "#2a3f5f",
           "arrowhead": 0,
           "arrowwidth": 1
          },
          "autotypenumbers": "strict",
          "coloraxis": {
           "colorbar": {
            "outlinewidth": 0,
            "ticks": ""
           }
          },
          "colorscale": {
           "diverging": [
            [
             0,
             "#8e0152"
            ],
            [
             0.1,
             "#c51b7d"
            ],
            [
             0.2,
             "#de77ae"
            ],
            [
             0.3,
             "#f1b6da"
            ],
            [
             0.4,
             "#fde0ef"
            ],
            [
             0.5,
             "#f7f7f7"
            ],
            [
             0.6,
             "#e6f5d0"
            ],
            [
             0.7,
             "#b8e186"
            ],
            [
             0.8,
             "#7fbc41"
            ],
            [
             0.9,
             "#4d9221"
            ],
            [
             1,
             "#276419"
            ]
           ],
           "sequential": [
            [
             0,
             "#0d0887"
            ],
            [
             0.1111111111111111,
             "#46039f"
            ],
            [
             0.2222222222222222,
             "#7201a8"
            ],
            [
             0.3333333333333333,
             "#9c179e"
            ],
            [
             0.4444444444444444,
             "#bd3786"
            ],
            [
             0.5555555555555556,
             "#d8576b"
            ],
            [
             0.6666666666666666,
             "#ed7953"
            ],
            [
             0.7777777777777778,
             "#fb9f3a"
            ],
            [
             0.8888888888888888,
             "#fdca26"
            ],
            [
             1,
             "#f0f921"
            ]
           ],
           "sequentialminus": [
            [
             0,
             "#0d0887"
            ],
            [
             0.1111111111111111,
             "#46039f"
            ],
            [
             0.2222222222222222,
             "#7201a8"
            ],
            [
             0.3333333333333333,
             "#9c179e"
            ],
            [
             0.4444444444444444,
             "#bd3786"
            ],
            [
             0.5555555555555556,
             "#d8576b"
            ],
            [
             0.6666666666666666,
             "#ed7953"
            ],
            [
             0.7777777777777778,
             "#fb9f3a"
            ],
            [
             0.8888888888888888,
             "#fdca26"
            ],
            [
             1,
             "#f0f921"
            ]
           ]
          },
          "colorway": [
           "#636efa",
           "#EF553B",
           "#00cc96",
           "#ab63fa",
           "#FFA15A",
           "#19d3f3",
           "#FF6692",
           "#B6E880",
           "#FF97FF",
           "#FECB52"
          ],
          "font": {
           "color": "#2a3f5f"
          },
          "geo": {
           "bgcolor": "white",
           "lakecolor": "white",
           "landcolor": "#E5ECF6",
           "showlakes": true,
           "showland": true,
           "subunitcolor": "white"
          },
          "hoverlabel": {
           "align": "left"
          },
          "hovermode": "closest",
          "mapbox": {
           "style": "light"
          },
          "paper_bgcolor": "white",
          "plot_bgcolor": "#E5ECF6",
          "polar": {
           "angularaxis": {
            "gridcolor": "white",
            "linecolor": "white",
            "ticks": ""
           },
           "bgcolor": "#E5ECF6",
           "radialaxis": {
            "gridcolor": "white",
            "linecolor": "white",
            "ticks": ""
           }
          },
          "scene": {
           "xaxis": {
            "backgroundcolor": "#E5ECF6",
            "gridcolor": "white",
            "gridwidth": 2,
            "linecolor": "white",
            "showbackground": true,
            "ticks": "",
            "zerolinecolor": "white"
           },
           "yaxis": {
            "backgroundcolor": "#E5ECF6",
            "gridcolor": "white",
            "gridwidth": 2,
            "linecolor": "white",
            "showbackground": true,
            "ticks": "",
            "zerolinecolor": "white"
           },
           "zaxis": {
            "backgroundcolor": "#E5ECF6",
            "gridcolor": "white",
            "gridwidth": 2,
            "linecolor": "white",
            "showbackground": true,
            "ticks": "",
            "zerolinecolor": "white"
           }
          },
          "shapedefaults": {
           "line": {
            "color": "#2a3f5f"
           }
          },
          "ternary": {
           "aaxis": {
            "gridcolor": "white",
            "linecolor": "white",
            "ticks": ""
           },
           "baxis": {
            "gridcolor": "white",
            "linecolor": "white",
            "ticks": ""
           },
           "bgcolor": "#E5ECF6",
           "caxis": {
            "gridcolor": "white",
            "linecolor": "white",
            "ticks": ""
           }
          },
          "title": {
           "x": 0.05
          },
          "xaxis": {
           "automargin": true,
           "gridcolor": "white",
           "linecolor": "white",
           "ticks": "",
           "title": {
            "standoff": 15
           },
           "zerolinecolor": "white",
           "zerolinewidth": 2
          },
          "yaxis": {
           "automargin": true,
           "gridcolor": "white",
           "linecolor": "white",
           "ticks": "",
           "title": {
            "standoff": 15
           },
           "zerolinecolor": "white",
           "zerolinewidth": 2
          }
         }
        },
        "title": {
         "text": "Community Visualization"
        },
        "width": 800,
        "xaxis": {
         "showgrid": true,
         "zeroline": false
        },
        "yaxis": {
         "showgrid": false,
         "zeroline": false
        }
       }
      }
     },
     "metadata": {},
     "output_type": "display_data"
    }
   ],
   "source": [
    "obs_community_lst = full_result_df[full_result_df[\"community\"] == 23].index.tolist()\n",
    "obs_community_df = weight_df[\n",
    "    weight_df[\"node_a\"].isin(obs_community_lst)\n",
    "    | weight_df[\"node_b\"].isin(obs_community_lst)\n",
    "]\n",
    "\n",
    "obs_false_positive_lst = full_result_df.loc[obs_community_lst][\n",
    "    (full_result_df[\"type\"] == \"normal\") & (full_result_df[\"answer\"] == \"sybil\")\n",
    "].index.tolist()\n",
    "\n",
    "obs_false_negative_lst = full_result_df.loc[obs_community_lst][\n",
    "    (full_result_df[\"type\"] == \"sybil\") & (full_result_df[\"answer\"] == \"airdrop\")\n",
    "].index.tolist()\n",
    "\n",
    "\n",
    "community_visualization_2d(\n",
    "    obs_community_df,\n",
    "    obs_false_positive_lst,\n",
    "    obs_false_negative_lst,\n",
    "    weight_=800,\n",
    "    height_=500,\n",
    ")"
   ]
  },
  {
   "cell_type": "code",
   "execution_count": 1283,
   "metadata": {},
   "outputs": [
    {
     "data": {
      "text/html": [
       "<div>\n",
       "<style scoped>\n",
       "    .dataframe tbody tr th:only-of-type {\n",
       "        vertical-align: middle;\n",
       "    }\n",
       "\n",
       "    .dataframe tbody tr th {\n",
       "        vertical-align: top;\n",
       "    }\n",
       "\n",
       "    .dataframe thead th {\n",
       "        text-align: right;\n",
       "    }\n",
       "</style>\n",
       "<table border=\"1\" class=\"dataframe\">\n",
       "  <thead>\n",
       "    <tr style=\"text-align: right;\">\n",
       "      <th></th>\n",
       "      <th>count</th>\n",
       "      <th>node_a</th>\n",
       "      <th>node_b</th>\n",
       "      <th>weight</th>\n",
       "    </tr>\n",
       "  </thead>\n",
       "  <tbody>\n",
       "    <tr>\n",
       "      <th>0</th>\n",
       "      <td>2</td>\n",
       "      <td>0x0000000000000000000000000000000000002105</td>\n",
       "      <td>0x4b67945a88b434f22ec1308ad89769fd35127a5f</td>\n",
       "      <td>0.00232</td>\n",
       "    </tr>\n",
       "    <tr>\n",
       "      <th>1</th>\n",
       "      <td>1</td>\n",
       "      <td>0x0000000000000000000000000000000064c8f444</td>\n",
       "      <td>0x81ab9d56c5a7f268a9ea5e3fe233771423754895</td>\n",
       "      <td>0.00116</td>\n",
       "    </tr>\n",
       "    <tr>\n",
       "      <th>2</th>\n",
       "      <td>1</td>\n",
       "      <td>0x0000000000000000000000000000000066353a2b</td>\n",
       "      <td>0x4b67945a88b434f22ec1308ad89769fd35127a5f</td>\n",
       "      <td>0.00116</td>\n",
       "    </tr>\n",
       "    <tr>\n",
       "      <th>3</th>\n",
       "      <td>1</td>\n",
       "      <td>0x000000000000000000000000000000009b476a5d</td>\n",
       "      <td>0x4b67945a88b434f22ec1308ad89769fd35127a5f</td>\n",
       "      <td>0.00116</td>\n",
       "    </tr>\n",
       "    <tr>\n",
       "      <th>4</th>\n",
       "      <td>1</td>\n",
       "      <td>0x000000000000000000000000000000009b477880</td>\n",
       "      <td>0x4b67945a88b434f22ec1308ad89769fd35127a5f</td>\n",
       "      <td>0.00116</td>\n",
       "    </tr>\n",
       "    <tr>\n",
       "      <th>...</th>\n",
       "      <td>...</td>\n",
       "      <td>...</td>\n",
       "      <td>...</td>\n",
       "      <td>...</td>\n",
       "    </tr>\n",
       "    <tr>\n",
       "      <th>264475</th>\n",
       "      <td>1</td>\n",
       "      <td>0xfecfcab98fd25c78049a1b567301e8437d0652c9</td>\n",
       "      <td>0xff5df410e4c72c1b49a2adfc3e3a8ef9511c9292</td>\n",
       "      <td>0.00116</td>\n",
       "    </tr>\n",
       "    <tr>\n",
       "      <th>264476</th>\n",
       "      <td>2</td>\n",
       "      <td>0xfee0f7dd0df74723c681e23ff6c6410b4f23ff57</td>\n",
       "      <td>0xff8ba4d1fc3762f6154cc942ccf30049a2a0cec6</td>\n",
       "      <td>0.00232</td>\n",
       "    </tr>\n",
       "    <tr>\n",
       "      <th>264477</th>\n",
       "      <td>1</td>\n",
       "      <td>0xff1cff02332f6f23c93551a3ef70d99cbb6fcc80</td>\n",
       "      <td>0xff629ead0ce217e4e99e1714e09be41dd387c1d8</td>\n",
       "      <td>0.00116</td>\n",
       "    </tr>\n",
       "    <tr>\n",
       "      <th>264478</th>\n",
       "      <td>1</td>\n",
       "      <td>0xff8ba4d1fc3762f6154cc942ccf30049a2a0cec6</td>\n",
       "      <td>0xff994f1271ca94fd232b89adef52023b41fef4bf</td>\n",
       "      <td>0.00116</td>\n",
       "    </tr>\n",
       "    <tr>\n",
       "      <th>264479</th>\n",
       "      <td>1</td>\n",
       "      <td>0xff8ba4d1fc3762f6154cc942ccf30049a2a0cec6</td>\n",
       "      <td>0xfff00f4eb5c003db1f59f86428efd6b7cc2ae5f7</td>\n",
       "      <td>0.00116</td>\n",
       "    </tr>\n",
       "  </tbody>\n",
       "</table>\n",
       "<p>264480 rows × 4 columns</p>\n",
       "</div>"
      ],
      "text/plain": [
       "        count                                      node_a  \\\n",
       "0           2  0x0000000000000000000000000000000000002105   \n",
       "1           1  0x0000000000000000000000000000000064c8f444   \n",
       "2           1  0x0000000000000000000000000000000066353a2b   \n",
       "3           1  0x000000000000000000000000000000009b476a5d   \n",
       "4           1  0x000000000000000000000000000000009b477880   \n",
       "...       ...                                         ...   \n",
       "264475      1  0xfecfcab98fd25c78049a1b567301e8437d0652c9   \n",
       "264476      2  0xfee0f7dd0df74723c681e23ff6c6410b4f23ff57   \n",
       "264477      1  0xff1cff02332f6f23c93551a3ef70d99cbb6fcc80   \n",
       "264478      1  0xff8ba4d1fc3762f6154cc942ccf30049a2a0cec6   \n",
       "264479      1  0xff8ba4d1fc3762f6154cc942ccf30049a2a0cec6   \n",
       "\n",
       "                                            node_b   weight  \n",
       "0       0x4b67945a88b434f22ec1308ad89769fd35127a5f  0.00232  \n",
       "1       0x81ab9d56c5a7f268a9ea5e3fe233771423754895  0.00116  \n",
       "2       0x4b67945a88b434f22ec1308ad89769fd35127a5f  0.00116  \n",
       "3       0x4b67945a88b434f22ec1308ad89769fd35127a5f  0.00116  \n",
       "4       0x4b67945a88b434f22ec1308ad89769fd35127a5f  0.00116  \n",
       "...                                            ...      ...  \n",
       "264475  0xff5df410e4c72c1b49a2adfc3e3a8ef9511c9292  0.00116  \n",
       "264476  0xff8ba4d1fc3762f6154cc942ccf30049a2a0cec6  0.00232  \n",
       "264477  0xff629ead0ce217e4e99e1714e09be41dd387c1d8  0.00116  \n",
       "264478  0xff994f1271ca94fd232b89adef52023b41fef4bf  0.00116  \n",
       "264479  0xfff00f4eb5c003db1f59f86428efd6b7cc2ae5f7  0.00116  \n",
       "\n",
       "[264480 rows x 4 columns]"
      ]
     },
     "execution_count": 1283,
     "metadata": {},
     "output_type": "execute_result"
    }
   ],
   "source": [
    "weight_df"
   ]
  },
  {
   "cell_type": "code",
   "execution_count": null,
   "metadata": {},
   "outputs": [],
   "source": []
  },
  {
   "cell_type": "code",
   "execution_count": null,
   "metadata": {},
   "outputs": [],
   "source": []
  },
  {
   "cell_type": "code",
   "execution_count": null,
   "metadata": {},
   "outputs": [],
   "source": []
  },
  {
   "cell_type": "code",
   "execution_count": null,
   "metadata": {},
   "outputs": [],
   "source": []
  },
  {
   "cell_type": "code",
   "execution_count": null,
   "metadata": {},
   "outputs": [],
   "source": []
  },
  {
   "cell_type": "code",
   "execution_count": null,
   "metadata": {},
   "outputs": [],
   "source": []
  },
  {
   "cell_type": "markdown",
   "metadata": {},
   "source": [
    "# Playground"
   ]
  },
  {
   "cell_type": "code",
   "execution_count": null,
   "metadata": {},
   "outputs": [],
   "source": []
  },
  {
   "cell_type": "code",
   "execution_count": null,
   "metadata": {},
   "outputs": [],
   "source": []
  }
 ],
 "metadata": {
  "kernelspec": {
   "display_name": "base",
   "language": "python",
   "name": "python3"
  },
  "language_info": {
   "codemirror_mode": {
    "name": "ipython",
    "version": 3
   },
   "file_extension": ".py",
   "mimetype": "text/x-python",
   "name": "python",
   "nbconvert_exporter": "python",
   "pygments_lexer": "ipython3",
   "version": "3.12.4"
  }
 },
 "nbformat": 4,
 "nbformat_minor": 2
}
