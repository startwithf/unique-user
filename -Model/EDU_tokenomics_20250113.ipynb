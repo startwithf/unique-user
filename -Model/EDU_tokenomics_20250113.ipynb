{
 "cells": [
  {
   "cell_type": "code",
   "execution_count": 1,
   "metadata": {},
   "outputs": [
    {
     "data": {
      "text/plain": [
       "'\\n@File    : EDU_tokenomics_20250113.ipynb\\n@Create  : 2025/01/13 12:04:46\\n@Modify  : 2025/01/13 12:04:46\\n@Author  : Flora Sun\\n@Contact : floras@animocabrands.com\\n@Desc    : None\\n'"
      ]
     },
     "execution_count": 1,
     "metadata": {},
     "output_type": "execute_result"
    }
   ],
   "source": [
    "\"\"\"\n",
    "@File    : EDU_tokenomics_20250113.ipynb\n",
    "@Create  : 2025/01/13 12:04:46\n",
    "@Modify  : 2025/01/13 12:04:46\n",
    "@Author  : Flora Sun\n",
    "@Contact : floras@animocabrands.com\n",
    "@Desc    : None\n",
    "\"\"\"\n"
   ]
  },
  {
   "cell_type": "code",
   "execution_count": 275,
   "metadata": {},
   "outputs": [
    {
     "name": "stdout",
     "output_type": "stream",
     "text": [
      "/Users/floras/Desktop/unique-user\n"
     ]
    }
   ],
   "source": [
    "cd '/Users/floras/Desktop/unique-user'"
   ]
  },
  {
   "cell_type": "code",
   "execution_count": 3,
   "metadata": {},
   "outputs": [
    {
     "name": "stdout",
     "output_type": "stream",
     "text": [
      "Note: to be able to use all crisp methods, you need to install some additional packages:  {'bayanpy', 'graph_tool'}\n",
      "Note: to be able to use all crisp methods, you need to install some additional packages:  {'pyclustering', 'ASLPAw'}\n"
     ]
    }
   ],
   "source": [
    "import pandas as pd\n",
    "import numpy as np\n",
    "import os\n",
    "import importlib\n",
    "import sybil_functions\n",
    "import trino_fetch_results\n",
    "from collections import Counter\n",
    "from concurrent.futures import ThreadPoolExecutor\n",
    "import networkx as nx\n",
    "from cdlib import algorithms\n",
    "import networkx as nx\n",
    "import plotly.graph_objects as go\n",
    "from sklearn.preprocessing import StandardScaler\n",
    "from sklearn.cluster import OPTICS\n",
    "from sklearn.ensemble import IsolationForest\n",
    "import parameters\n",
    "import matplotlib.pyplot as plt\n",
    "\n",
    "\n",
    "importlib.reload(sybil_functions)\n",
    "importlib.reload(trino_fetch_results)\n",
    "importlib.reload(parameters)\n",
    "\n",
    "\n",
    "from sybil_functions import (\n",
    "    read_from_multiple_csv,\n",
    "    stretched_sigmoid,\n",
    "    file_name_lst,\n",
    "    check_contract,\n",
    ")\n",
    "\n",
    "from trino_fetch_results import check_frequent_wallets, wallets_monthly_info, query_test\n",
    "\n",
    "from parameters import trino_data_column_names"
   ]
  },
  {
   "cell_type": "markdown",
   "metadata": {},
   "source": [
    "# Import Data"
   ]
  },
  {
   "cell_type": "markdown",
   "metadata": {},
   "source": [
    "### Core wallet (airdrop wallet) "
   ]
  },
  {
   "cell_type": "code",
   "execution_count": 4,
   "metadata": {},
   "outputs": [
    {
     "name": "stdout",
     "output_type": "stream",
     "text": [
      "(351642, 2)\n"
     ]
    },
    {
     "data": {
      "text/html": [
       "<div>\n",
       "<style scoped>\n",
       "    .dataframe tbody tr th:only-of-type {\n",
       "        vertical-align: middle;\n",
       "    }\n",
       "\n",
       "    .dataframe tbody tr th {\n",
       "        vertical-align: top;\n",
       "    }\n",
       "\n",
       "    .dataframe thead th {\n",
       "        text-align: right;\n",
       "    }\n",
       "</style>\n",
       "<table border=\"1\" class=\"dataframe\">\n",
       "  <thead>\n",
       "    <tr style=\"text-align: right;\">\n",
       "      <th></th>\n",
       "      <th>address</th>\n",
       "      <th>points</th>\n",
       "    </tr>\n",
       "  </thead>\n",
       "  <tbody>\n",
       "    <tr>\n",
       "      <th>0</th>\n",
       "      <td>0x83e46e6e193b284d26f7a4b7d865b65952a50bf2</td>\n",
       "      <td>1021212</td>\n",
       "    </tr>\n",
       "    <tr>\n",
       "      <th>1</th>\n",
       "      <td>0xb403df6a3a8895d9a5ecfa7ec799bb60de28c75c</td>\n",
       "      <td>356403</td>\n",
       "    </tr>\n",
       "    <tr>\n",
       "      <th>2</th>\n",
       "      <td>0xa482ae7d753b33cb06fd6872443e902cb6bee592</td>\n",
       "      <td>215177</td>\n",
       "    </tr>\n",
       "    <tr>\n",
       "      <th>3</th>\n",
       "      <td>0xf0276d7d27a98cbed1635e7079716e9eed73f329</td>\n",
       "      <td>72485</td>\n",
       "    </tr>\n",
       "    <tr>\n",
       "      <th>4</th>\n",
       "      <td>0xf5e8a439c599205c1ab06b535de46681aed1007a</td>\n",
       "      <td>72123</td>\n",
       "    </tr>\n",
       "  </tbody>\n",
       "</table>\n",
       "</div>"
      ],
      "text/plain": [
       "                                      address   points\n",
       "0  0x83e46e6e193b284d26f7a4b7d865b65952a50bf2  1021212\n",
       "1  0xb403df6a3a8895d9a5ecfa7ec799bb60de28c75c   356403\n",
       "2  0xa482ae7d753b33cb06fd6872443e902cb6bee592   215177\n",
       "3  0xf0276d7d27a98cbed1635e7079716e9eed73f329    72485\n",
       "4  0xf5e8a439c599205c1ab06b535de46681aed1007a    72123"
      ]
     },
     "execution_count": 4,
     "metadata": {},
     "output_type": "execute_result"
    }
   ],
   "source": [
    "# core wallet df\n",
    "all_core_wallet_df = pd.read_csv(\n",
    "    \"/Users/floras/Desktop/unique-user/-Data/oc_testnet_15Jan/OC_Testnet_Points.csv\",\n",
    "    header=None,\n",
    ")\n",
    "all_core_wallet_df.columns = [\"address\", \"points\"]\n",
    "print(all_core_wallet_df.shape)\n",
    "all_core_wallet_df.head()"
   ]
  },
  {
   "cell_type": "code",
   "execution_count": 227,
   "metadata": {},
   "outputs": [],
   "source": [
    "oc_wallet_lst = all_core_wallet_df[\"address\"].tolist()\n",
    "oc_wallet_set = set(oc_wallet_lst)"
   ]
  },
  {
   "cell_type": "code",
   "execution_count": 5,
   "metadata": {},
   "outputs": [
    {
     "name": "stdout",
     "output_type": "stream",
     "text": [
      "(148256, 1)\n"
     ]
    },
    {
     "data": {
      "text/html": [
       "<div>\n",
       "<style scoped>\n",
       "    .dataframe tbody tr th:only-of-type {\n",
       "        vertical-align: middle;\n",
       "    }\n",
       "\n",
       "    .dataframe tbody tr th {\n",
       "        vertical-align: top;\n",
       "    }\n",
       "\n",
       "    .dataframe thead th {\n",
       "        text-align: right;\n",
       "    }\n",
       "</style>\n",
       "<table border=\"1\" class=\"dataframe\">\n",
       "  <thead>\n",
       "    <tr style=\"text-align: right;\">\n",
       "      <th></th>\n",
       "      <th>address</th>\n",
       "    </tr>\n",
       "  </thead>\n",
       "  <tbody>\n",
       "    <tr>\n",
       "      <th>0</th>\n",
       "      <td>0x0000000000000000000000000000000000007495</td>\n",
       "    </tr>\n",
       "    <tr>\n",
       "      <th>1</th>\n",
       "      <td>0x00000000000a067fb775a27671542d381ba30e53</td>\n",
       "    </tr>\n",
       "    <tr>\n",
       "      <th>2</th>\n",
       "      <td>0x00000000000ebccded8ad28e591c96ac3337be59</td>\n",
       "    </tr>\n",
       "    <tr>\n",
       "      <th>3</th>\n",
       "      <td>0x000000000043cd9d396f9d5a7ea1cffe6391a302</td>\n",
       "    </tr>\n",
       "    <tr>\n",
       "      <th>4</th>\n",
       "      <td>0x0000000000521014208ed637db9cf4cd6f548154</td>\n",
       "    </tr>\n",
       "  </tbody>\n",
       "</table>\n",
       "</div>"
      ],
      "text/plain": [
       "                                      address\n",
       "0  0x0000000000000000000000000000000000007495\n",
       "1  0x00000000000a067fb775a27671542d381ba30e53\n",
       "2  0x00000000000ebccded8ad28e591c96ac3337be59\n",
       "3  0x000000000043cd9d396f9d5a7ea1cffe6391a302\n",
       "4  0x0000000000521014208ed637db9cf4cd6f548154"
      ]
     },
     "execution_count": 5,
     "metadata": {},
     "output_type": "execute_result"
    }
   ],
   "source": [
    "used_core_wallet_df = pd.read_csv(\n",
    "    \"/Users/floras/Desktop/unique-user/-Data/oc_testnet_15Jan/used_wallets.csv\"\n",
    ")\n",
    "used_core_wallet_df.columns = [\"address\"]\n",
    "print(used_core_wallet_df.shape)\n",
    "used_core_wallet_df.head()"
   ]
  },
  {
   "cell_type": "code",
   "execution_count": 225,
   "metadata": {},
   "outputs": [],
   "source": [
    "# Get core wallet list\n",
    "core_wallet_lst = used_core_wallet_df[\"address\"].tolist()\n",
    "# Get core wallet set\n",
    "core_wallet_set = set(core_wallet_lst)"
   ]
  },
  {
   "cell_type": "markdown",
   "metadata": {},
   "source": [
    "### Wallets to remove"
   ]
  },
  {
   "cell_type": "code",
   "execution_count": 8,
   "metadata": {},
   "outputs": [
    {
     "data": {
      "text/html": [
       "<div>\n",
       "<style scoped>\n",
       "    .dataframe tbody tr th:only-of-type {\n",
       "        vertical-align: middle;\n",
       "    }\n",
       "\n",
       "    .dataframe tbody tr th {\n",
       "        vertical-align: top;\n",
       "    }\n",
       "\n",
       "    .dataframe thead th {\n",
       "        text-align: right;\n",
       "    }\n",
       "</style>\n",
       "<table border=\"1\" class=\"dataframe\">\n",
       "  <thead>\n",
       "    <tr style=\"text-align: right;\">\n",
       "      <th></th>\n",
       "      <th>address</th>\n",
       "    </tr>\n",
       "  </thead>\n",
       "  <tbody>\n",
       "    <tr>\n",
       "      <th>0</th>\n",
       "      <td>0x3a05e5d33d7ab3864d53aaec93c8301c1fa49115</td>\n",
       "    </tr>\n",
       "    <tr>\n",
       "      <th>1</th>\n",
       "      <td>0x931ddbfab6d12a5ccbf0db6b70daae747076533a</td>\n",
       "    </tr>\n",
       "    <tr>\n",
       "      <th>2</th>\n",
       "      <td>0xed7525946a09056c6aae29941b8323017382050e</td>\n",
       "    </tr>\n",
       "    <tr>\n",
       "      <th>3</th>\n",
       "      <td>0x0ec68c5b10f21effb74f2a5c61dfe6b08c0db6cb</td>\n",
       "    </tr>\n",
       "    <tr>\n",
       "      <th>4</th>\n",
       "      <td>0x28f9b9aa3b885d67abb298491bbba65171c3392e</td>\n",
       "    </tr>\n",
       "  </tbody>\n",
       "</table>\n",
       "</div>"
      ],
      "text/plain": [
       "                                      address\n",
       "0  0x3a05e5d33d7ab3864d53aaec93c8301c1fa49115\n",
       "1  0x931ddbfab6d12a5ccbf0db6b70daae747076533a\n",
       "2  0xed7525946a09056c6aae29941b8323017382050e\n",
       "3  0x0ec68c5b10f21effb74f2a5c61dfe6b08c0db6cb\n",
       "4  0x28f9b9aa3b885d67abb298491bbba65171c3392e"
      ]
     },
     "execution_count": 8,
     "metadata": {},
     "output_type": "execute_result"
    }
   ],
   "source": [
    "removing_wallets_df = pd.read_csv(\n",
    "    \"/Users/floras/Desktop/unique-user/-Data/oc_testnet_15Jan/removing_wallets/contract_wallets.txt\",\n",
    "    header=None,\n",
    ")\n",
    "removing_wallets_df.columns = [\"address\"]\n",
    "\n",
    "removing_wallets_df.head()"
   ]
  },
  {
   "cell_type": "code",
   "execution_count": 9,
   "metadata": {},
   "outputs": [],
   "source": [
    "# Get removing wallet list\n",
    "removing_wallet_lst = removing_wallets_df[\"address\"].tolist()\n",
    "# Get removing wallet set\n",
    "removing_wallet_set = set(removing_wallet_lst)"
   ]
  },
  {
   "cell_type": "markdown",
   "metadata": {},
   "source": [
    "### Transaction data "
   ]
  },
  {
   "cell_type": "code",
   "execution_count": 10,
   "metadata": {},
   "outputs": [
    {
     "name": "stdout",
     "output_type": "stream",
     "text": [
      "(273791, 3)\n",
      "(251664, 3)\n"
     ]
    },
    {
     "data": {
      "text/html": [
       "<div>\n",
       "<style scoped>\n",
       "    .dataframe tbody tr th:only-of-type {\n",
       "        vertical-align: middle;\n",
       "    }\n",
       "\n",
       "    .dataframe tbody tr th {\n",
       "        vertical-align: top;\n",
       "    }\n",
       "\n",
       "    .dataframe thead th {\n",
       "        text-align: right;\n",
       "    }\n",
       "</style>\n",
       "<table border=\"1\" class=\"dataframe\">\n",
       "  <thead>\n",
       "    <tr style=\"text-align: right;\">\n",
       "      <th></th>\n",
       "      <th>from_address</th>\n",
       "      <th>to_address</th>\n",
       "      <th>count</th>\n",
       "    </tr>\n",
       "  </thead>\n",
       "  <tbody>\n",
       "    <tr>\n",
       "      <th>0</th>\n",
       "      <td>0x0000000000000000000000000000000000000000</td>\n",
       "      <td>0xfcb9bde39c289eb8b2270abf4e129da630cacebe</td>\n",
       "      <td>1</td>\n",
       "    </tr>\n",
       "    <tr>\n",
       "      <th>2</th>\n",
       "      <td>0x00000000000007736e2f9aa5630b8c812e1f3fc9</td>\n",
       "      <td>0x0476fc79c97f68e3e32c37b83691d99da5464cec</td>\n",
       "      <td>1</td>\n",
       "    </tr>\n",
       "    <tr>\n",
       "      <th>3</th>\n",
       "      <td>0x00000000000007736e2f9aa5630b8c812e1f3fc9</td>\n",
       "      <td>0x04a9ae552e5c43cc6af695797c702795871d4c8d</td>\n",
       "      <td>1</td>\n",
       "    </tr>\n",
       "    <tr>\n",
       "      <th>4</th>\n",
       "      <td>0x00000000000007736e2f9aa5630b8c812e1f3fc9</td>\n",
       "      <td>0x0da21e19274b09d787fecc35997cecf4e1d67a0b</td>\n",
       "      <td>1</td>\n",
       "    </tr>\n",
       "    <tr>\n",
       "      <th>5</th>\n",
       "      <td>0x00000000000007736e2f9aa5630b8c812e1f3fc9</td>\n",
       "      <td>0x0de5a5d50453e702ad66d3fcf7c986f408019ffd</td>\n",
       "      <td>1</td>\n",
       "    </tr>\n",
       "  </tbody>\n",
       "</table>\n",
       "</div>"
      ],
      "text/plain": [
       "                                 from_address  \\\n",
       "0  0x0000000000000000000000000000000000000000   \n",
       "2  0x00000000000007736e2f9aa5630b8c812e1f3fc9   \n",
       "3  0x00000000000007736e2f9aa5630b8c812e1f3fc9   \n",
       "4  0x00000000000007736e2f9aa5630b8c812e1f3fc9   \n",
       "5  0x00000000000007736e2f9aa5630b8c812e1f3fc9   \n",
       "\n",
       "                                   to_address  count  \n",
       "0  0xfcb9bde39c289eb8b2270abf4e129da630cacebe      1  \n",
       "2  0x0476fc79c97f68e3e32c37b83691d99da5464cec      1  \n",
       "3  0x04a9ae552e5c43cc6af695797c702795871d4c8d      1  \n",
       "4  0x0da21e19274b09d787fecc35997cecf4e1d67a0b      1  \n",
       "5  0x0de5a5d50453e702ad66d3fcf7c986f408019ffd      1  "
      ]
     },
     "execution_count": 10,
     "metadata": {},
     "output_type": "execute_result"
    }
   ],
   "source": [
    "trans_df = pd.read_csv(\n",
    "    \"/Users/floras/Desktop/unique-user/-Data/oc_testnet_15Jan/transaction_history/transaction_native_df_sum.csv\"\n",
    ")\n",
    "print(trans_df.shape)\n",
    "# remove self transactions\n",
    "trans_df = trans_df[trans_df[\"from_address\"] != trans_df[\"to_address\"]]\n",
    "# remove removing-wallet transactions\n",
    "trans_df = trans_df[\n",
    "    ~(\n",
    "        trans_df[\"from_address\"].isin(removing_wallet_set)\n",
    "        | trans_df[\"to_address\"].isin(removing_wallet_set)\n",
    "    )\n",
    "]\n",
    "# keep only core of sybil transactions\n",
    "trans_df = trans_df[\n",
    "    trans_df[\"from_address\"].isin(core_wallet_set)\n",
    "    | trans_df[\"to_address\"].isin(core_wallet_set)\n",
    "]\n",
    "print(trans_df.shape)\n",
    "trans_df.head()"
   ]
  },
  {
   "cell_type": "markdown",
   "metadata": {},
   "source": [
    "### Monthly data"
   ]
  },
  {
   "cell_type": "code",
   "execution_count": 11,
   "metadata": {},
   "outputs": [
    {
     "name": "stdout",
     "output_type": "stream",
     "text": [
      "(148256, 5)\n"
     ]
    },
    {
     "data": {
      "text/html": [
       "<div>\n",
       "<style scoped>\n",
       "    .dataframe tbody tr th:only-of-type {\n",
       "        vertical-align: middle;\n",
       "    }\n",
       "\n",
       "    .dataframe tbody tr th {\n",
       "        vertical-align: top;\n",
       "    }\n",
       "\n",
       "    .dataframe thead th {\n",
       "        text-align: right;\n",
       "    }\n",
       "</style>\n",
       "<table border=\"1\" class=\"dataframe\">\n",
       "  <thead>\n",
       "    <tr style=\"text-align: right;\">\n",
       "      <th></th>\n",
       "      <th>gas_fee</th>\n",
       "      <th>total_txn</th>\n",
       "      <th>unique_tokens</th>\n",
       "      <th>last_txn_date</th>\n",
       "      <th>unique_active_days</th>\n",
       "    </tr>\n",
       "    <tr>\n",
       "      <th>address</th>\n",
       "      <th></th>\n",
       "      <th></th>\n",
       "      <th></th>\n",
       "      <th></th>\n",
       "      <th></th>\n",
       "    </tr>\n",
       "  </thead>\n",
       "  <tbody>\n",
       "    <tr>\n",
       "      <th>0x0000000000000000000000000000000000007495</th>\n",
       "      <td>0.041382</td>\n",
       "      <td>1</td>\n",
       "      <td>1</td>\n",
       "      <td>2024-11-25</td>\n",
       "      <td>1</td>\n",
       "    </tr>\n",
       "    <tr>\n",
       "      <th>0x00000000000a067fb775a27671542d381ba30e53</th>\n",
       "      <td>67.154409</td>\n",
       "      <td>221</td>\n",
       "      <td>31</td>\n",
       "      <td>2025-01-11</td>\n",
       "      <td>84</td>\n",
       "    </tr>\n",
       "    <tr>\n",
       "      <th>0x00000000000ebccded8ad28e591c96ac3337be59</th>\n",
       "      <td>7261.079740</td>\n",
       "      <td>5789</td>\n",
       "      <td>4359</td>\n",
       "      <td>2025-01-13</td>\n",
       "      <td>364</td>\n",
       "    </tr>\n",
       "    <tr>\n",
       "      <th>0x000000000043cd9d396f9d5a7ea1cffe6391a302</th>\n",
       "      <td>0.021883</td>\n",
       "      <td>4</td>\n",
       "      <td>3</td>\n",
       "      <td>2024-12-30</td>\n",
       "      <td>4</td>\n",
       "    </tr>\n",
       "    <tr>\n",
       "      <th>0x0000000000521014208ed637db9cf4cd6f548154</th>\n",
       "      <td>1.940654</td>\n",
       "      <td>5</td>\n",
       "      <td>4</td>\n",
       "      <td>2024-12-30</td>\n",
       "      <td>4</td>\n",
       "    </tr>\n",
       "  </tbody>\n",
       "</table>\n",
       "</div>"
      ],
      "text/plain": [
       "                                                gas_fee  total_txn  \\\n",
       "address                                                              \n",
       "0x0000000000000000000000000000000000007495     0.041382          1   \n",
       "0x00000000000a067fb775a27671542d381ba30e53    67.154409        221   \n",
       "0x00000000000ebccded8ad28e591c96ac3337be59  7261.079740       5789   \n",
       "0x000000000043cd9d396f9d5a7ea1cffe6391a302     0.021883          4   \n",
       "0x0000000000521014208ed637db9cf4cd6f548154     1.940654          5   \n",
       "\n",
       "                                            unique_tokens last_txn_date  \\\n",
       "address                                                                   \n",
       "0x0000000000000000000000000000000000007495              1    2024-11-25   \n",
       "0x00000000000a067fb775a27671542d381ba30e53             31    2025-01-11   \n",
       "0x00000000000ebccded8ad28e591c96ac3337be59           4359    2025-01-13   \n",
       "0x000000000043cd9d396f9d5a7ea1cffe6391a302              3    2024-12-30   \n",
       "0x0000000000521014208ed637db9cf4cd6f548154              4    2024-12-30   \n",
       "\n",
       "                                            unique_active_days  \n",
       "address                                                         \n",
       "0x0000000000000000000000000000000000007495                   1  \n",
       "0x00000000000a067fb775a27671542d381ba30e53                  84  \n",
       "0x00000000000ebccded8ad28e591c96ac3337be59                 364  \n",
       "0x000000000043cd9d396f9d5a7ea1cffe6391a302                   4  \n",
       "0x0000000000521014208ed637db9cf4cd6f548154                   4  "
      ]
     },
     "execution_count": 11,
     "metadata": {},
     "output_type": "execute_result"
    }
   ],
   "source": [
    "trino_monthly_df = pd.read_csv(\n",
    "    \"/Users/floras/Desktop/unique-user/-Data/oc_testnet_15Jan/monthly_info/processed_monthly_info_df.csv\"\n",
    ")\n",
    "trino_monthly_df = trino_monthly_df.set_index(\"address\")\n",
    "print(trino_monthly_df.shape)\n",
    "trino_monthly_df.head()"
   ]
  },
  {
   "cell_type": "markdown",
   "metadata": {},
   "source": [
    "# remove contract/hot wallets & transactions"
   ]
  },
  {
   "cell_type": "markdown",
   "metadata": {},
   "source": [
    "## Define wallets to be checked based on the number of interacted wallets"
   ]
  },
  {
   "cell_type": "code",
   "execution_count": 12,
   "metadata": {},
   "outputs": [],
   "source": [
    "def columns_unique_items(df, column_name_lst):\n",
    "    unique_items = []\n",
    "    for column_name in column_name_lst:\n",
    "        unique_items.extend(df[column_name].unique().tolist())\n",
    "    return list(set(unique_items))"
   ]
  },
  {
   "cell_type": "code",
   "execution_count": 13,
   "metadata": {},
   "outputs": [
    {
     "name": "stdout",
     "output_type": "stream",
     "text": [
      "146406\n"
     ]
    }
   ],
   "source": [
    "all_wallets = columns_unique_items(trans_df, [\"from_address\", \"to_address\"])\n",
    "print(len(all_wallets))"
   ]
  },
  {
   "cell_type": "code",
   "execution_count": 14,
   "metadata": {},
   "outputs": [],
   "source": [
    "def columns_item_count(unique_pairs_df, w_cols=[\"wallet_a\", \"wallet_b\"]):\n",
    "    # Flatten the selected columns into a single list\n",
    "    wallet_z = unique_pairs_df[w_cols].values.flatten()\n",
    "    # Count occurrences of each wallet using Counter\n",
    "    wallet_z_count = Counter(wallet_z)\n",
    "    # Convert the Counter object into a DataFrame\n",
    "    wallet_z_count_df = pd.DataFrame(\n",
    "        wallet_z_count.items(), columns=[\"wallet\", \"interacted_wallets\"]\n",
    "    )\n",
    "    # Return the resulting DataFrame\n",
    "    return wallet_z_count_df"
   ]
  },
  {
   "cell_type": "code",
   "execution_count": 15,
   "metadata": {},
   "outputs": [],
   "source": [
    "def columns_item_unique_pairs(\n",
    "    raw_transaction_df, address_cols=[\"from_address\", \"to_address\"]\n",
    "):\n",
    "    # Ensure input columns are present in the DataFrame\n",
    "    if not all(col in raw_transaction_df.columns for col in address_cols):\n",
    "        raise ValueError(f\"Columns {address_cols} not found in the DataFrame.\")\n",
    "\n",
    "    # Convert the columns to strings to ensure consistent dtype\n",
    "    raw_transaction_df[address_cols] = raw_transaction_df[address_cols].astype(str)\n",
    "    # Create sorted pairs using numpy operations (faster than apply)\n",
    "    pairs = np.sort(raw_transaction_df[address_cols].to_numpy(dtype=str), axis=1)\n",
    "    # Deduplicate pairs using numpy.unique\n",
    "    unique_pairs = np.unique(pairs, axis=0)\n",
    "    # Create a DataFrame for unique pairs\n",
    "    unique_pairs_df = pd.DataFrame(unique_pairs, columns=[\"wallet_a\", \"wallet_b\"])\n",
    "\n",
    "    return unique_pairs_df"
   ]
  },
  {
   "cell_type": "code",
   "execution_count": 16,
   "metadata": {},
   "outputs": [],
   "source": [
    "def columns_item_unique_pair_counts(\n",
    "    raw_transaction_df, address_cols=[\"from_address\", \"to_address\"]\n",
    "):\n",
    "    unique_pairs_df = columns_item_unique_pairs(raw_transaction_df, address_cols)\n",
    "    # Use the optimized columns_item_count function\n",
    "    wallet_count = columns_item_count(unique_pairs_df, w_cols=[\"wallet_a\", \"wallet_b\"])\n",
    "    # Reset index before returning\n",
    "    wallet_count.reset_index(drop=True, inplace=True)\n",
    "    return wallet_count"
   ]
  },
  {
   "cell_type": "code",
   "execution_count": 19,
   "metadata": {},
   "outputs": [],
   "source": [
    "# sample_wallet_pair_count_df = columns_item_unique_pair_counts(native_trans_df_0)\n",
    "# sample_wallet_pair_count_df.head()"
   ]
  },
  {
   "cell_type": "code",
   "execution_count": 20,
   "metadata": {},
   "outputs": [],
   "source": [
    "# check_contract_wallet_lst = sample_wallet_pair_count_df[\n",
    "#     sample_wallet_pair_count_df[\"interacted_wallets\"] > 1\n",
    "# ][\"wallet\"].tolist()\n",
    "# check_contract_wallet_lst[:5]"
   ]
  },
  {
   "cell_type": "code",
   "execution_count": 17,
   "metadata": {},
   "outputs": [],
   "source": [
    "def refine_lst(lst, exclude_lst):\n",
    "    exclude_set = set(exclude_lst)\n",
    "    return [x for x in lst if x not in exclude_set]"
   ]
  },
  {
   "cell_type": "code",
   "execution_count": 22,
   "metadata": {},
   "outputs": [],
   "source": [
    "# # remove core wallets from check_contract_wallet_lst\n",
    "# check_contract_wallet_lst = refine_lst(check_contract_wallet_lst, core_wallet_lst)"
   ]
  },
  {
   "cell_type": "markdown",
   "metadata": {},
   "source": [
    "## get contract wallets list"
   ]
  },
  {
   "cell_type": "code",
   "execution_count": 18,
   "metadata": {},
   "outputs": [],
   "source": [
    "def check_contract_wallet_addresses(wallet_addresses, max_threads=10):\n",
    "    contract_wallets = []\n",
    "    with ThreadPoolExecutor(max_threads) as executor:\n",
    "        # Submit tasks for concurrent execution\n",
    "        futures = [\n",
    "            executor.submit(check_contract, wallet) for wallet in wallet_addresses\n",
    "        ]\n",
    "        for future in futures:\n",
    "            results = future.result()\n",
    "            if results:\n",
    "                contract_wallets.append(results)\n",
    "    return contract_wallets"
   ]
  },
  {
   "cell_type": "code",
   "execution_count": 24,
   "metadata": {},
   "outputs": [],
   "source": [
    "# check_contract_wallet_addresses(check_contract_wallet_lst[:10])"
   ]
  },
  {
   "cell_type": "markdown",
   "metadata": {},
   "source": [
    "## get hot wallets list"
   ]
  },
  {
   "cell_type": "code",
   "execution_count": 25,
   "metadata": {},
   "outputs": [],
   "source": [
    "# check_frequent_wallets(\n",
    "#     check_contract_wallet_lst[10:15], start_date_=\"2024-12-01\", end_date_=\"2024-12-02\"\n",
    "# )"
   ]
  },
  {
   "cell_type": "markdown",
   "metadata": {},
   "source": [
    "## remove contract/hot transactions"
   ]
  },
  {
   "cell_type": "code",
   "execution_count": 19,
   "metadata": {},
   "outputs": [],
   "source": [
    "def filter_blacklist_transactions(df, col_lst, contract_lst):\n",
    "    for col in col_lst:\n",
    "        df = df[~df[col].isin(contract_lst)]\n",
    "    return df"
   ]
  },
  {
   "cell_type": "markdown",
   "metadata": {},
   "source": [
    "# Define weight"
   ]
  },
  {
   "cell_type": "code",
   "execution_count": 20,
   "metadata": {},
   "outputs": [],
   "source": [
    "def columns_item_unique_pair_sums(\n",
    "    raw_transaction_df_0,\n",
    "    address_cols=[\"from_address\", \"to_address\"],\n",
    "    sum_col=\"tx_count\",\n",
    "):\n",
    "    raw_transaction_df = raw_transaction_df_0.copy()\n",
    "    raw_transaction_df[\"pair\"] = raw_transaction_df[address_cols].apply(\n",
    "        lambda x: tuple(sorted(x)), axis=1\n",
    "    )\n",
    "    unique_pair_sums = raw_transaction_df.groupby(\"pair\")[sum_col].sum().reset_index()\n",
    "    unique_pair_sums[\"node_a\"] = unique_pair_sums[\"pair\"].apply(lambda x: x[0])\n",
    "    unique_pair_sums[\"node_b\"] = unique_pair_sums[\"pair\"].apply(lambda x: x[1])\n",
    "    unique_pair_sums.drop(columns=[\"pair\"], inplace=True)\n",
    "    return unique_pair_sums"
   ]
  },
  {
   "cell_type": "code",
   "execution_count": 21,
   "metadata": {},
   "outputs": [],
   "source": [
    "def sigmoid_weight_transform(df, turning_point=2, col=\"tx_count\"):\n",
    "    df[\"weight\"] = df[col].apply(lambda x: stretched_sigmoid(x, 2 / turning_point))\n",
    "    return df"
   ]
  },
  {
   "cell_type": "code",
   "execution_count": 22,
   "metadata": {},
   "outputs": [
    {
     "data": {
      "text/plain": [
       "count    251664.000000\n",
       "mean          1.915987\n",
       "std           4.411918\n",
       "min           1.000000\n",
       "25%           1.000000\n",
       "50%           1.000000\n",
       "75%           2.000000\n",
       "max         658.000000\n",
       "Name: count, dtype: float64"
      ]
     },
     "execution_count": 22,
     "metadata": {},
     "output_type": "execute_result"
    }
   ],
   "source": [
    "trans_df[\"count\"].describe()"
   ]
  },
  {
   "cell_type": "code",
   "execution_count": 23,
   "metadata": {},
   "outputs": [
    {
     "data": {
      "text/html": [
       "<div>\n",
       "<style scoped>\n",
       "    .dataframe tbody tr th:only-of-type {\n",
       "        vertical-align: middle;\n",
       "    }\n",
       "\n",
       "    .dataframe tbody tr th {\n",
       "        vertical-align: top;\n",
       "    }\n",
       "\n",
       "    .dataframe thead th {\n",
       "        text-align: right;\n",
       "    }\n",
       "</style>\n",
       "<table border=\"1\" class=\"dataframe\">\n",
       "  <thead>\n",
       "    <tr style=\"text-align: right;\">\n",
       "      <th></th>\n",
       "      <th>from_address</th>\n",
       "      <th>to_address</th>\n",
       "      <th>count</th>\n",
       "    </tr>\n",
       "  </thead>\n",
       "  <tbody>\n",
       "    <tr>\n",
       "      <th>0</th>\n",
       "      <td>0x0000000000000000000000000000000000000000</td>\n",
       "      <td>0xfcb9bde39c289eb8b2270abf4e129da630cacebe</td>\n",
       "      <td>1</td>\n",
       "    </tr>\n",
       "    <tr>\n",
       "      <th>2</th>\n",
       "      <td>0x00000000000007736e2f9aa5630b8c812e1f3fc9</td>\n",
       "      <td>0x0476fc79c97f68e3e32c37b83691d99da5464cec</td>\n",
       "      <td>1</td>\n",
       "    </tr>\n",
       "    <tr>\n",
       "      <th>3</th>\n",
       "      <td>0x00000000000007736e2f9aa5630b8c812e1f3fc9</td>\n",
       "      <td>0x04a9ae552e5c43cc6af695797c702795871d4c8d</td>\n",
       "      <td>1</td>\n",
       "    </tr>\n",
       "    <tr>\n",
       "      <th>4</th>\n",
       "      <td>0x00000000000007736e2f9aa5630b8c812e1f3fc9</td>\n",
       "      <td>0x0da21e19274b09d787fecc35997cecf4e1d67a0b</td>\n",
       "      <td>1</td>\n",
       "    </tr>\n",
       "    <tr>\n",
       "      <th>5</th>\n",
       "      <td>0x00000000000007736e2f9aa5630b8c812e1f3fc9</td>\n",
       "      <td>0x0de5a5d50453e702ad66d3fcf7c986f408019ffd</td>\n",
       "      <td>1</td>\n",
       "    </tr>\n",
       "    <tr>\n",
       "      <th>...</th>\n",
       "      <td>...</td>\n",
       "      <td>...</td>\n",
       "      <td>...</td>\n",
       "    </tr>\n",
       "    <tr>\n",
       "      <th>273785</th>\n",
       "      <td>0xfffdea87ca2c7ee37fc704000c9705e777ae405a</td>\n",
       "      <td>0x4fa4167b3c94a80416bbc768fb919bf3ace9f8c2</td>\n",
       "      <td>2</td>\n",
       "    </tr>\n",
       "    <tr>\n",
       "      <th>273786</th>\n",
       "      <td>0xfffdea87ca2c7ee37fc704000c9705e777ae405a</td>\n",
       "      <td>0xf7b02288475a588c771e10ec18075cea920aa8f9</td>\n",
       "      <td>1</td>\n",
       "    </tr>\n",
       "    <tr>\n",
       "      <th>273788</th>\n",
       "      <td>0xffff71eff595691dac6fb23853297ce5fcd6f331</td>\n",
       "      <td>0x58d5d56573801cc1f2c50785b327e7df04f78b98</td>\n",
       "      <td>1</td>\n",
       "    </tr>\n",
       "    <tr>\n",
       "      <th>273789</th>\n",
       "      <td>0xffffcb0bbd0880ac22750145926871392407310d</td>\n",
       "      <td>0x34f66b62893969f155fbf4d512480a270ec71bcf</td>\n",
       "      <td>3</td>\n",
       "    </tr>\n",
       "    <tr>\n",
       "      <th>273790</th>\n",
       "      <td>0xffffe0032c9647277be797968af701be9643ffff</td>\n",
       "      <td>0xf39fd6e51aad88f6f4ce6ab8827279cfffb92266</td>\n",
       "      <td>5</td>\n",
       "    </tr>\n",
       "  </tbody>\n",
       "</table>\n",
       "<p>251664 rows × 3 columns</p>\n",
       "</div>"
      ],
      "text/plain": [
       "                                      from_address  \\\n",
       "0       0x0000000000000000000000000000000000000000   \n",
       "2       0x00000000000007736e2f9aa5630b8c812e1f3fc9   \n",
       "3       0x00000000000007736e2f9aa5630b8c812e1f3fc9   \n",
       "4       0x00000000000007736e2f9aa5630b8c812e1f3fc9   \n",
       "5       0x00000000000007736e2f9aa5630b8c812e1f3fc9   \n",
       "...                                            ...   \n",
       "273785  0xfffdea87ca2c7ee37fc704000c9705e777ae405a   \n",
       "273786  0xfffdea87ca2c7ee37fc704000c9705e777ae405a   \n",
       "273788  0xffff71eff595691dac6fb23853297ce5fcd6f331   \n",
       "273789  0xffffcb0bbd0880ac22750145926871392407310d   \n",
       "273790  0xffffe0032c9647277be797968af701be9643ffff   \n",
       "\n",
       "                                        to_address  count  \n",
       "0       0xfcb9bde39c289eb8b2270abf4e129da630cacebe      1  \n",
       "2       0x0476fc79c97f68e3e32c37b83691d99da5464cec      1  \n",
       "3       0x04a9ae552e5c43cc6af695797c702795871d4c8d      1  \n",
       "4       0x0da21e19274b09d787fecc35997cecf4e1d67a0b      1  \n",
       "5       0x0de5a5d50453e702ad66d3fcf7c986f408019ffd      1  \n",
       "...                                            ...    ...  \n",
       "273785  0x4fa4167b3c94a80416bbc768fb919bf3ace9f8c2      2  \n",
       "273786  0xf7b02288475a588c771e10ec18075cea920aa8f9      1  \n",
       "273788  0x58d5d56573801cc1f2c50785b327e7df04f78b98      1  \n",
       "273789  0x34f66b62893969f155fbf4d512480a270ec71bcf      3  \n",
       "273790  0xf39fd6e51aad88f6f4ce6ab8827279cfffb92266      5  \n",
       "\n",
       "[251664 rows x 3 columns]"
      ]
     },
     "execution_count": 23,
     "metadata": {},
     "output_type": "execute_result"
    }
   ],
   "source": [
    "trans_df"
   ]
  },
  {
   "cell_type": "code",
   "execution_count": 24,
   "metadata": {},
   "outputs": [
    {
     "data": {
      "text/html": [
       "<div>\n",
       "<style scoped>\n",
       "    .dataframe tbody tr th:only-of-type {\n",
       "        vertical-align: middle;\n",
       "    }\n",
       "\n",
       "    .dataframe tbody tr th {\n",
       "        vertical-align: top;\n",
       "    }\n",
       "\n",
       "    .dataframe thead th {\n",
       "        text-align: right;\n",
       "    }\n",
       "</style>\n",
       "<table border=\"1\" class=\"dataframe\">\n",
       "  <thead>\n",
       "    <tr style=\"text-align: right;\">\n",
       "      <th></th>\n",
       "      <th>count</th>\n",
       "      <th>node_a</th>\n",
       "      <th>node_b</th>\n",
       "    </tr>\n",
       "  </thead>\n",
       "  <tbody>\n",
       "    <tr>\n",
       "      <th>0</th>\n",
       "      <td>7</td>\n",
       "      <td>0x0000000000000000000000000000000000000000</td>\n",
       "      <td>0x8f614cb69fec993251e491daee1fb3a640f1b36c</td>\n",
       "    </tr>\n",
       "    <tr>\n",
       "      <th>1</th>\n",
       "      <td>1</td>\n",
       "      <td>0x0000000000000000000000000000000000000000</td>\n",
       "      <td>0xfcb9bde39c289eb8b2270abf4e129da630cacebe</td>\n",
       "    </tr>\n",
       "    <tr>\n",
       "      <th>2</th>\n",
       "      <td>1</td>\n",
       "      <td>0x0000000000000000000000000000000000007495</td>\n",
       "      <td>0x7495dee08f1340fa1fbda59c979f799d7d676fce</td>\n",
       "    </tr>\n",
       "    <tr>\n",
       "      <th>3</th>\n",
       "      <td>1</td>\n",
       "      <td>0x000000000000000000000000000000000000dead</td>\n",
       "      <td>0x6d9d9e0d23f6320901ec153b14eb8edc30510e64</td>\n",
       "    </tr>\n",
       "    <tr>\n",
       "      <th>4</th>\n",
       "      <td>1</td>\n",
       "      <td>0x00000000000007736e2f9aa5630b8c812e1f3fc9</td>\n",
       "      <td>0x0278a6d2020044c9c5cca61f6e33abadfb06c234</td>\n",
       "    </tr>\n",
       "    <tr>\n",
       "      <th>...</th>\n",
       "      <td>...</td>\n",
       "      <td>...</td>\n",
       "      <td>...</td>\n",
       "    </tr>\n",
       "    <tr>\n",
       "      <th>227611</th>\n",
       "      <td>1</td>\n",
       "      <td>0xfe9c4356498e684f3e8cf733aa6b7a41c6fb6466</td>\n",
       "      <td>0xff94f90481dad391fdeb7b072b5b808679a3651b</td>\n",
       "    </tr>\n",
       "    <tr>\n",
       "      <th>227612</th>\n",
       "      <td>2</td>\n",
       "      <td>0xfec13d940cc64320052cf58856b83a1767634035</td>\n",
       "      <td>0xffb84629a458e8a5f3294feb7e331178318ff9b9</td>\n",
       "    </tr>\n",
       "    <tr>\n",
       "      <th>227613</th>\n",
       "      <td>3</td>\n",
       "      <td>0xff274763062ab364fe17d17cc1cc10fa9e41e040</td>\n",
       "      <td>0xff4a0d35924d75e777d7d737ea5243ff9afd42a4</td>\n",
       "    </tr>\n",
       "    <tr>\n",
       "      <th>227614</th>\n",
       "      <td>2</td>\n",
       "      <td>0xff274763062ab364fe17d17cc1cc10fa9e41e040</td>\n",
       "      <td>0xff58bc846f82c5d44c52c533ef7a50e889fb64f4</td>\n",
       "    </tr>\n",
       "    <tr>\n",
       "      <th>227615</th>\n",
       "      <td>1</td>\n",
       "      <td>0xff37b4ee7981af82669b2fd0e998f0b5649dcedd</td>\n",
       "      <td>0xfff022ba4e79b5e64e421b9813c8da9a9da514bd</td>\n",
       "    </tr>\n",
       "  </tbody>\n",
       "</table>\n",
       "<p>227616 rows × 3 columns</p>\n",
       "</div>"
      ],
      "text/plain": [
       "        count                                      node_a  \\\n",
       "0           7  0x0000000000000000000000000000000000000000   \n",
       "1           1  0x0000000000000000000000000000000000000000   \n",
       "2           1  0x0000000000000000000000000000000000007495   \n",
       "3           1  0x000000000000000000000000000000000000dead   \n",
       "4           1  0x00000000000007736e2f9aa5630b8c812e1f3fc9   \n",
       "...       ...                                         ...   \n",
       "227611      1  0xfe9c4356498e684f3e8cf733aa6b7a41c6fb6466   \n",
       "227612      2  0xfec13d940cc64320052cf58856b83a1767634035   \n",
       "227613      3  0xff274763062ab364fe17d17cc1cc10fa9e41e040   \n",
       "227614      2  0xff274763062ab364fe17d17cc1cc10fa9e41e040   \n",
       "227615      1  0xff37b4ee7981af82669b2fd0e998f0b5649dcedd   \n",
       "\n",
       "                                            node_b  \n",
       "0       0x8f614cb69fec993251e491daee1fb3a640f1b36c  \n",
       "1       0xfcb9bde39c289eb8b2270abf4e129da630cacebe  \n",
       "2       0x7495dee08f1340fa1fbda59c979f799d7d676fce  \n",
       "3       0x6d9d9e0d23f6320901ec153b14eb8edc30510e64  \n",
       "4       0x0278a6d2020044c9c5cca61f6e33abadfb06c234  \n",
       "...                                            ...  \n",
       "227611  0xff94f90481dad391fdeb7b072b5b808679a3651b  \n",
       "227612  0xffb84629a458e8a5f3294feb7e331178318ff9b9  \n",
       "227613  0xff4a0d35924d75e777d7d737ea5243ff9afd42a4  \n",
       "227614  0xff58bc846f82c5d44c52c533ef7a50e889fb64f4  \n",
       "227615  0xfff022ba4e79b5e64e421b9813c8da9a9da514bd  \n",
       "\n",
       "[227616 rows x 3 columns]"
      ]
     },
     "execution_count": 24,
     "metadata": {},
     "output_type": "execute_result"
    }
   ],
   "source": [
    "columns_item_unique_pair_sums(trans_df, sum_col=\"count\")"
   ]
  },
  {
   "cell_type": "code",
   "execution_count": 25,
   "metadata": {},
   "outputs": [
    {
     "name": "stdout",
     "output_type": "stream",
     "text": [
      "(227616, 4)\n"
     ]
    },
    {
     "data": {
      "text/html": [
       "<div>\n",
       "<style scoped>\n",
       "    .dataframe tbody tr th:only-of-type {\n",
       "        vertical-align: middle;\n",
       "    }\n",
       "\n",
       "    .dataframe tbody tr th {\n",
       "        vertical-align: top;\n",
       "    }\n",
       "\n",
       "    .dataframe thead th {\n",
       "        text-align: right;\n",
       "    }\n",
       "</style>\n",
       "<table border=\"1\" class=\"dataframe\">\n",
       "  <thead>\n",
       "    <tr style=\"text-align: right;\">\n",
       "      <th></th>\n",
       "      <th>count</th>\n",
       "      <th>node_a</th>\n",
       "      <th>node_b</th>\n",
       "      <th>weight</th>\n",
       "    </tr>\n",
       "  </thead>\n",
       "  <tbody>\n",
       "    <tr>\n",
       "      <th>0</th>\n",
       "      <td>7</td>\n",
       "      <td>0x0000000000000000000000000000000000000000</td>\n",
       "      <td>0x8f614cb69fec993251e491daee1fb3a640f1b36c</td>\n",
       "      <td>0.010638</td>\n",
       "    </tr>\n",
       "    <tr>\n",
       "      <th>1</th>\n",
       "      <td>1</td>\n",
       "      <td>0x0000000000000000000000000000000000000000</td>\n",
       "      <td>0xfcb9bde39c289eb8b2270abf4e129da630cacebe</td>\n",
       "      <td>0.001520</td>\n",
       "    </tr>\n",
       "    <tr>\n",
       "      <th>2</th>\n",
       "      <td>1</td>\n",
       "      <td>0x0000000000000000000000000000000000007495</td>\n",
       "      <td>0x7495dee08f1340fa1fbda59c979f799d7d676fce</td>\n",
       "      <td>0.001520</td>\n",
       "    </tr>\n",
       "    <tr>\n",
       "      <th>3</th>\n",
       "      <td>1</td>\n",
       "      <td>0x000000000000000000000000000000000000dead</td>\n",
       "      <td>0x6d9d9e0d23f6320901ec153b14eb8edc30510e64</td>\n",
       "      <td>0.001520</td>\n",
       "    </tr>\n",
       "    <tr>\n",
       "      <th>4</th>\n",
       "      <td>1</td>\n",
       "      <td>0x00000000000007736e2f9aa5630b8c812e1f3fc9</td>\n",
       "      <td>0x0278a6d2020044c9c5cca61f6e33abadfb06c234</td>\n",
       "      <td>0.001520</td>\n",
       "    </tr>\n",
       "  </tbody>\n",
       "</table>\n",
       "</div>"
      ],
      "text/plain": [
       "   count                                      node_a  \\\n",
       "0      7  0x0000000000000000000000000000000000000000   \n",
       "1      1  0x0000000000000000000000000000000000000000   \n",
       "2      1  0x0000000000000000000000000000000000007495   \n",
       "3      1  0x000000000000000000000000000000000000dead   \n",
       "4      1  0x00000000000007736e2f9aa5630b8c812e1f3fc9   \n",
       "\n",
       "                                       node_b    weight  \n",
       "0  0x8f614cb69fec993251e491daee1fb3a640f1b36c  0.010638  \n",
       "1  0xfcb9bde39c289eb8b2270abf4e129da630cacebe  0.001520  \n",
       "2  0x7495dee08f1340fa1fbda59c979f799d7d676fce  0.001520  \n",
       "3  0x6d9d9e0d23f6320901ec153b14eb8edc30510e64  0.001520  \n",
       "4  0x0278a6d2020044c9c5cca61f6e33abadfb06c234  0.001520  "
      ]
     },
     "execution_count": 25,
     "metadata": {},
     "output_type": "execute_result"
    }
   ],
   "source": [
    "weight_df = columns_item_unique_pair_sums(trans_df, sum_col=\"count\")\n",
    "# weight_df = sigmoid_weight_transform(weight_df, turning_point= 100, col='count')\n",
    "weight_df[\"weight\"] = weight_df[\"count\"] / weight_df[\"count\"].max()\n",
    "print(weight_df.shape)\n",
    "weight_df.head()"
   ]
  },
  {
   "cell_type": "code",
   "execution_count": 26,
   "metadata": {},
   "outputs": [
    {
     "data": {
      "text/plain": [
       "<Axes: >"
      ]
     },
     "execution_count": 26,
     "metadata": {},
     "output_type": "execute_result"
    },
    {
     "data": {
      "image/png": "[encoded data removed]",
      "text/plain": [
       "<Figure size 640x480 with 1 Axes>"
      ]
     },
     "metadata": {},
     "output_type": "display_data"
    }
   ],
   "source": [
    "weight_df[\"weight\"].hist(bins=50)"
   ]
  },
  {
   "cell_type": "markdown",
   "metadata": {},
   "source": [
    "# build community"
   ]
  },
  {
   "cell_type": "code",
   "execution_count": 27,
   "metadata": {},
   "outputs": [],
   "source": [
    "def louvain_community_lst_func(\n",
    "    df, resolution=1, node_cols=[\"node_a\", \"node_b\"], weight_col=\"weight\"\n",
    "):\n",
    "    unique_wallets_num = len(columns_unique_items(df, node_cols))\n",
    "    num_edges = df.shape[0]\n",
    "    print(f\"Number of unique wallets: {unique_wallets_num}\")\n",
    "    print(f\"Number of edges: {num_edges}\")\n",
    "\n",
    "    # Create a graph\n",
    "    G = nx.Graph()\n",
    "\n",
    "    # Add edges to the graph\n",
    "    for _, row in df.iterrows():\n",
    "        G.add_edge(row[node_cols[0]], row[node_cols[1]], weight=row[weight_col])\n",
    "\n",
    "    communities = algorithms.louvain(G, weight=weight_col, resolution=resolution)\n",
    "\n",
    "    communities_list = communities.communities\n",
    "    print(f\"Number of communities detected: {len(communities_list)}\")\n",
    "    print(\"-\")\n",
    "    display(pd.Series([len(community) for community in communities_list]).describe())\n",
    "    print(\"\")\n",
    "\n",
    "    communities_list = sorted(communities_list, key=lambda x: len(x), reverse=True)\n",
    "\n",
    "    return communities_list"
   ]
  },
  {
   "cell_type": "code",
   "execution_count": 28,
   "metadata": {},
   "outputs": [],
   "source": [
    "def nested_lst_to_loc_dict(nested_lst_):\n",
    "    loc_dict = {}\n",
    "    for i, commu in enumerate(nested_lst_):\n",
    "        for w in commu:\n",
    "            loc_dict[w] = i\n",
    "    return loc_dict"
   ]
  },
  {
   "cell_type": "markdown",
   "metadata": {},
   "source": [
    "### Decide Louvain resolution"
   ]
  },
  {
   "cell_type": "code",
   "execution_count": 69,
   "metadata": {},
   "outputs": [
    {
     "name": "stdout",
     "output_type": "stream",
     "text": [
      "Resolution: 1\n",
      "Number of unique wallets: 146406\n",
      "Number of edges: 227616\n",
      "Number of communities detected: 4137\n",
      "-\n"
     ]
    },
    {
     "data": {
      "text/plain": [
       "count     4137.000000\n",
       "mean        35.389413\n",
       "std        482.760836\n",
       "min          2.000000\n",
       "25%          2.000000\n",
       "50%          2.000000\n",
       "75%          3.000000\n",
       "max      24352.000000\n",
       "dtype: float64"
      ]
     },
     "metadata": {},
     "output_type": "display_data"
    },
    {
     "name": "stdout",
     "output_type": "stream",
     "text": [
      "\n",
      "communities count: 4137\n",
      "wallets count: 146406\n",
      "\n",
      "Resolution: 11\n",
      "Number of unique wallets: 146406\n",
      "Number of edges: 227616\n",
      "Number of communities detected: 5143\n",
      "-\n"
     ]
    },
    {
     "data": {
      "text/plain": [
       "count    5143.000000\n",
       "mean       28.467043\n",
       "std       133.167360\n",
       "min         2.000000\n",
       "25%         2.000000\n",
       "50%         3.000000\n",
       "75%        10.000000\n",
       "max      3195.000000\n",
       "dtype: float64"
      ]
     },
     "metadata": {},
     "output_type": "display_data"
    },
    {
     "name": "stdout",
     "output_type": "stream",
     "text": [
      "\n",
      "communities count: 5143\n",
      "wallets count: 146406\n",
      "\n",
      "Resolution: 21\n",
      "Number of unique wallets: 146406\n",
      "Number of edges: 227616\n",
      "Number of communities detected: 7917\n",
      "-\n"
     ]
    },
    {
     "data": {
      "text/plain": [
       "count    7917.000000\n",
       "mean       18.492611\n",
       "std        89.747376\n",
       "min         2.000000\n",
       "25%         2.000000\n",
       "50%         3.000000\n",
       "75%         8.000000\n",
       "max      3195.000000\n",
       "dtype: float64"
      ]
     },
     "metadata": {},
     "output_type": "display_data"
    },
    {
     "name": "stdout",
     "output_type": "stream",
     "text": [
      "\n",
      "communities count: 7917\n",
      "wallets count: 146406\n",
      "\n",
      "Resolution: 31\n",
      "Number of unique wallets: 146406\n",
      "Number of edges: 227616\n",
      "Number of communities detected: 10249\n",
      "-\n"
     ]
    },
    {
     "data": {
      "text/plain": [
       "count    10249.000000\n",
       "mean        14.284906\n",
       "std         70.196392\n",
       "min          2.000000\n",
       "25%          2.000000\n",
       "50%          3.000000\n",
       "75%          6.000000\n",
       "max       2530.000000\n",
       "dtype: float64"
      ]
     },
     "metadata": {},
     "output_type": "display_data"
    },
    {
     "name": "stdout",
     "output_type": "stream",
     "text": [
      "\n",
      "communities count: 10249\n",
      "wallets count: 146406\n",
      "\n",
      "Resolution: 41\n",
      "Number of unique wallets: 146406\n",
      "Number of edges: 227616\n",
      "Number of communities detected: 11926\n",
      "-\n"
     ]
    },
    {
     "data": {
      "text/plain": [
       "count    11926.000000\n",
       "mean        12.276203\n",
       "std         61.004110\n",
       "min          1.000000\n",
       "25%          2.000000\n",
       "50%          3.000000\n",
       "75%          5.000000\n",
       "max       2309.000000\n",
       "dtype: float64"
      ]
     },
     "metadata": {},
     "output_type": "display_data"
    },
    {
     "name": "stdout",
     "output_type": "stream",
     "text": [
      "\n",
      "communities count: 11925\n",
      "wallets count: 146405\n",
      "\n",
      "Resolution: 51\n",
      "Number of unique wallets: 146406\n",
      "Number of edges: 227616\n",
      "Number of communities detected: 13122\n",
      "-\n"
     ]
    },
    {
     "data": {
      "text/plain": [
       "count    13122.000000\n",
       "mean        11.157293\n",
       "std         55.976830\n",
       "min          1.000000\n",
       "25%          2.000000\n",
       "50%          3.000000\n",
       "75%          5.000000\n",
       "max       2309.000000\n",
       "dtype: float64"
      ]
     },
     "metadata": {},
     "output_type": "display_data"
    },
    {
     "name": "stdout",
     "output_type": "stream",
     "text": [
      "\n",
      "communities count: 13102\n",
      "wallets count: 146386\n",
      "\n",
      "Resolution: 61\n",
      "Number of unique wallets: 146406\n",
      "Number of edges: 227616\n",
      "Number of communities detected: 14270\n",
      "-\n"
     ]
    },
    {
     "data": {
      "text/plain": [
       "count    14270.000000\n",
       "mean        10.259706\n",
       "std         51.683669\n",
       "min          1.000000\n",
       "25%          2.000000\n",
       "50%          3.000000\n",
       "75%          5.000000\n",
       "max       2309.000000\n",
       "dtype: float64"
      ]
     },
     "metadata": {},
     "output_type": "display_data"
    },
    {
     "name": "stdout",
     "output_type": "stream",
     "text": [
      "\n",
      "communities count: 14220\n",
      "wallets count: 146356\n",
      "\n",
      "Resolution: 71\n",
      "Number of unique wallets: 146406\n",
      "Number of edges: 227616\n",
      "Number of communities detected: 15190\n",
      "-\n"
     ]
    },
    {
     "data": {
      "text/plain": [
       "count    15190.000000\n",
       "mean         9.638315\n",
       "std         48.506621\n",
       "min          1.000000\n",
       "25%          2.000000\n",
       "50%          2.000000\n",
       "75%          4.000000\n",
       "max       2309.000000\n",
       "dtype: float64"
      ]
     },
     "metadata": {},
     "output_type": "display_data"
    },
    {
     "name": "stdout",
     "output_type": "stream",
     "text": [
      "\n",
      "communities count: 15018\n",
      "wallets count: 146234\n",
      "\n",
      "Resolution: 81\n",
      "Number of unique wallets: 146406\n",
      "Number of edges: 227616\n",
      "Number of communities detected: 15856\n",
      "-\n"
     ]
    },
    {
     "data": {
      "text/plain": [
       "count    15856.000000\n",
       "mean         9.233476\n",
       "std         46.612519\n",
       "min          1.000000\n",
       "25%          2.000000\n",
       "50%          2.000000\n",
       "75%          4.000000\n",
       "max       2309.000000\n",
       "dtype: float64"
      ]
     },
     "metadata": {},
     "output_type": "display_data"
    },
    {
     "name": "stdout",
     "output_type": "stream",
     "text": [
      "\n",
      "communities count: 15600\n",
      "wallets count: 146150\n",
      "\n",
      "Resolution: 91\n",
      "Number of unique wallets: 146406\n",
      "Number of edges: 227616\n",
      "Number of communities detected: 16400\n",
      "-\n"
     ]
    },
    {
     "data": {
      "text/plain": [
       "count    16400.000000\n",
       "mean         8.927195\n",
       "std         45.254325\n",
       "min          1.000000\n",
       "25%          2.000000\n",
       "50%          2.000000\n",
       "75%          4.000000\n",
       "max       2309.000000\n",
       "dtype: float64"
      ]
     },
     "metadata": {},
     "output_type": "display_data"
    },
    {
     "name": "stdout",
     "output_type": "stream",
     "text": [
      "\n",
      "communities count: 16093\n",
      "wallets count: 146099\n",
      "\n",
      "Resolution: 101\n",
      "Number of unique wallets: 146406\n",
      "Number of edges: 227616\n",
      "Number of communities detected: 16910\n",
      "-\n"
     ]
    },
    {
     "data": {
      "text/plain": [
       "count    16910.000000\n",
       "mean         8.657954\n",
       "std         44.149251\n",
       "min          1.000000\n",
       "25%          2.000000\n",
       "50%          2.000000\n",
       "75%          4.000000\n",
       "max       2309.000000\n",
       "dtype: float64"
      ]
     },
     "metadata": {},
     "output_type": "display_data"
    },
    {
     "name": "stdout",
     "output_type": "stream",
     "text": [
      "\n",
      "communities count: 16578\n",
      "wallets count: 146074\n",
      "\n",
      "Resolution: 111\n",
      "Number of unique wallets: 146406\n",
      "Number of edges: 227616\n",
      "Number of communities detected: 17311\n",
      "-\n"
     ]
    },
    {
     "data": {
      "text/plain": [
       "count    17311.000000\n",
       "mean         8.457397\n",
       "std         43.330794\n",
       "min          1.000000\n",
       "25%          2.000000\n",
       "50%          2.000000\n",
       "75%          4.000000\n",
       "max       2309.000000\n",
       "dtype: float64"
      ]
     },
     "metadata": {},
     "output_type": "display_data"
    },
    {
     "name": "stdout",
     "output_type": "stream",
     "text": [
      "\n",
      "communities count: 16948\n",
      "wallets count: 146043\n",
      "\n",
      "Resolution: 121\n",
      "Number of unique wallets: 146406\n",
      "Number of edges: 227616\n",
      "Number of communities detected: 17870\n",
      "-\n"
     ]
    },
    {
     "data": {
      "text/plain": [
       "count    17870.000000\n",
       "mean         8.192837\n",
       "std         42.051623\n",
       "min          1.000000\n",
       "25%          2.000000\n",
       "50%          2.000000\n",
       "75%          4.000000\n",
       "max       2309.000000\n",
       "dtype: float64"
      ]
     },
     "metadata": {},
     "output_type": "display_data"
    },
    {
     "name": "stdout",
     "output_type": "stream",
     "text": [
      "\n",
      "communities count: 17254\n",
      "wallets count: 145790\n",
      "\n",
      "Resolution: 131\n",
      "Number of unique wallets: 146406\n",
      "Number of edges: 227616\n",
      "Number of communities detected: 18658\n",
      "-\n"
     ]
    },
    {
     "data": {
      "text/plain": [
       "count    18658.000000\n",
       "mean         7.846822\n",
       "std         40.106435\n",
       "min          1.000000\n",
       "25%          2.000000\n",
       "50%          2.000000\n",
       "75%          4.000000\n",
       "max       2309.000000\n",
       "dtype: float64"
      ]
     },
     "metadata": {},
     "output_type": "display_data"
    },
    {
     "name": "stdout",
     "output_type": "stream",
     "text": [
      "\n",
      "communities count: 17542\n",
      "wallets count: 145290\n",
      "\n",
      "Resolution: 141\n",
      "Number of unique wallets: 146406\n",
      "Number of edges: 227616\n",
      "Number of communities detected: 19396\n",
      "-\n"
     ]
    },
    {
     "data": {
      "text/plain": [
       "count    19396.000000\n",
       "mean         7.548257\n",
       "std         38.521589\n",
       "min          1.000000\n",
       "25%          2.000000\n",
       "50%          2.000000\n",
       "75%          4.000000\n",
       "max       2309.000000\n",
       "dtype: float64"
      ]
     },
     "metadata": {},
     "output_type": "display_data"
    },
    {
     "name": "stdout",
     "output_type": "stream",
     "text": [
      "\n",
      "communities count: 17743\n",
      "wallets count: 144753\n",
      "\n",
      "Resolution: 151\n",
      "Number of unique wallets: 146406\n",
      "Number of edges: 227616\n",
      "Number of communities detected: 20407\n",
      "-\n"
     ]
    },
    {
     "data": {
      "text/plain": [
       "count    20407.000000\n",
       "mean         7.174303\n",
       "std         36.111763\n",
       "min          1.000000\n",
       "25%          2.000000\n",
       "50%          2.000000\n",
       "75%          4.000000\n",
       "max       2309.000000\n",
       "dtype: float64"
      ]
     },
     "metadata": {},
     "output_type": "display_data"
    },
    {
     "name": "stdout",
     "output_type": "stream",
     "text": [
      "\n",
      "communities count: 17841\n",
      "wallets count: 143840\n",
      "\n",
      "Resolution: 161\n",
      "Number of unique wallets: 146406\n",
      "Number of edges: 227616\n",
      "Number of communities detected: 21532\n",
      "-\n"
     ]
    },
    {
     "data": {
      "text/plain": [
       "count    21532.000000\n",
       "mean         6.799461\n",
       "std         33.824736\n",
       "min          1.000000\n",
       "25%          2.000000\n",
       "50%          2.000000\n",
       "75%          3.000000\n",
       "max       2282.000000\n",
       "dtype: float64"
      ]
     },
     "metadata": {},
     "output_type": "display_data"
    },
    {
     "name": "stdout",
     "output_type": "stream",
     "text": [
      "\n",
      "communities count: 18042\n",
      "wallets count: 142916\n",
      "\n",
      "Resolution: 171\n",
      "Number of unique wallets: 146406\n",
      "Number of edges: 227616\n",
      "Number of communities detected: 22859\n",
      "-\n"
     ]
    },
    {
     "data": {
      "text/plain": [
       "count    22859.000000\n",
       "mean         6.404742\n",
       "std         30.777736\n",
       "min          1.000000\n",
       "25%          2.000000\n",
       "50%          2.000000\n",
       "75%          3.000000\n",
       "max       2006.000000\n",
       "dtype: float64"
      ]
     },
     "metadata": {},
     "output_type": "display_data"
    },
    {
     "name": "stdout",
     "output_type": "stream",
     "text": [
      "\n",
      "communities count: 18172\n",
      "wallets count: 141719\n",
      "\n",
      "Resolution: 181\n",
      "Number of unique wallets: 146406\n",
      "Number of edges: 227616\n",
      "Number of communities detected: 23991\n",
      "-\n"
     ]
    },
    {
     "data": {
      "text/plain": [
       "count    23991.000000\n",
       "mean         6.102538\n",
       "std         28.692939\n",
       "min          1.000000\n",
       "25%          2.000000\n",
       "50%          2.000000\n",
       "75%          3.000000\n",
       "max       1765.000000\n",
       "dtype: float64"
      ]
     },
     "metadata": {},
     "output_type": "display_data"
    },
    {
     "name": "stdout",
     "output_type": "stream",
     "text": [
      "\n",
      "communities count: 18275\n",
      "wallets count: 140690\n",
      "\n",
      "Resolution: 191\n",
      "Number of unique wallets: 146406\n",
      "Number of edges: 227616\n",
      "Number of communities detected: 25188\n",
      "-\n"
     ]
    },
    {
     "data": {
      "text/plain": [
       "count    25188.000000\n",
       "mean         5.812530\n",
       "std         26.863246\n",
       "min          1.000000\n",
       "25%          1.000000\n",
       "50%          2.000000\n",
       "75%          3.000000\n",
       "max       1569.000000\n",
       "dtype: float64"
      ]
     },
     "metadata": {},
     "output_type": "display_data"
    },
    {
     "name": "stdout",
     "output_type": "stream",
     "text": [
      "\n",
      "communities count: 18410\n",
      "wallets count: 139628\n",
      "\n"
     ]
    }
   ],
   "source": [
    "commu_count_dict = {}\n",
    "wallets_count_dict = {}\n",
    "\n",
    "for r in range(1, 200, 10):\n",
    "    print(f\"Resolution: {r}\")\n",
    "    louvain_community_lst = louvain_community_lst_func(weight_df, resolution=r)\n",
    "    count = 0\n",
    "    ttl_wallets = 0\n",
    "    for i, commu_wallets in enumerate(louvain_community_lst):\n",
    "        if len(commu_wallets) >= 2:\n",
    "            count += 1\n",
    "            ttl_wallets += len(commu_wallets)\n",
    "    print(f\"communities count: {count}\")\n",
    "    print(f\"wallets count: {ttl_wallets}\")\n",
    "    print(\"\")\n",
    "    commu_count_dict[r] = count\n",
    "    wallets_count_dict[r] = ttl_wallets"
   ]
  },
  {
   "cell_type": "code",
   "execution_count": 70,
   "metadata": {},
   "outputs": [
    {
     "data": {
      "application/vnd.plotly.v1+json": {
       "config": {
        "plotlyServerURL": "https://plot.ly"
       },
       "data": [
        {
         "mode": "lines+markers",
         "name": "count",
         "type": "scatter",
         "x": [
          1,
          11,
          21,
          31,
          41,
          51,
          61,
          71,
          81,
          91,
          101,
          111,
          121,
          131,
          141,
          151,
          161,
          171,
          181,
          191
         ],
         "y": [
          4137,
          5143,
          7917,
          10249,
          11925,
          13102,
          14220,
          15018,
          15600,
          16093,
          16578,
          16948,
          17254,
          17542,
          17743,
          17841,
          18042,
          18172,
          18275,
          18410
         ]
        }
       ],
       "layout": {
        "template": {
         "data": {
          "bar": [
           {
            "error_x": {
             "color": "#2a3f5f"
            },
            "error_y": {
             "color": "#2a3f5f"
            },
            "marker": {
             "line": {
              "color": "#E5ECF6",
              "width": 0.5
             },
             "pattern": {
              "fillmode": "overlay",
              "size": 10,
              "solidity": 0.2
             }
            },
            "type": "bar"
           }
          ],
          "barpolar": [
           {
            "marker": {
             "line": {
              "color": "#E5ECF6",
              "width": 0.5
             },
             "pattern": {
              "fillmode": "overlay",
              "size": 10,
              "solidity": 0.2
             }
            },
            "type": "barpolar"
           }
          ],
          "carpet": [
           {
            "aaxis": {
             "endlinecolor": "#2a3f5f",
             "gridcolor": "white",
             "linecolor": "white",
             "minorgridcolor": "white",
             "startlinecolor": "#2a3f5f"
            },
            "baxis": {
             "endlinecolor": "#2a3f5f",
             "gridcolor": "white",
             "linecolor": "white",
             "minorgridcolor": "white",
             "startlinecolor": "#2a3f5f"
            },
            "type": "carpet"
           }
          ],
          "choropleth": [
           {
            "colorbar": {
             "outlinewidth": 0,
             "ticks": ""
            },
            "type": "choropleth"
           }
          ],
          "contour": [
           {
            "colorbar": {
             "outlinewidth": 0,
             "ticks": ""
            },
            "colorscale": [
             [
              0,
              "#0d0887"
             ],
             [
              0.1111111111111111,
              "#46039f"
             ],
             [
              0.2222222222222222,
              "#7201a8"
             ],
             [
              0.3333333333333333,
              "#9c179e"
             ],
             [
              0.4444444444444444,
              "#bd3786"
             ],
             [
              0.5555555555555556,
              "#d8576b"
             ],
             [
              0.6666666666666666,
              "#ed7953"
             ],
             [
              0.7777777777777778,
              "#fb9f3a"
             ],
             [
              0.8888888888888888,
              "#fdca26"
             ],
             [
              1,
              "#f0f921"
             ]
            ],
            "type": "contour"
           }
          ],
          "contourcarpet": [
           {
            "colorbar": {
             "outlinewidth": 0,
             "ticks": ""
            },
            "type": "contourcarpet"
           }
          ],
          "heatmap": [
           {
            "colorbar": {
             "outlinewidth": 0,
             "ticks": ""
            },
            "colorscale": [
             [
              0,
              "#0d0887"
             ],
             [
              0.1111111111111111,
              "#46039f"
             ],
             [
              0.2222222222222222,
              "#7201a8"
             ],
             [
              0.3333333333333333,
              "#9c179e"
             ],
             [
              0.4444444444444444,
              "#bd3786"
             ],
             [
              0.5555555555555556,
              "#d8576b"
             ],
             [
              0.6666666666666666,
              "#ed7953"
             ],
             [
              0.7777777777777778,
              "#fb9f3a"
             ],
             [
              0.8888888888888888,
              "#fdca26"
             ],
             [
              1,
              "#f0f921"
             ]
            ],
            "type": "heatmap"
           }
          ],
          "heatmapgl": [
           {
            "colorbar": {
             "outlinewidth": 0,
             "ticks": ""
            },
            "colorscale": [
             [
              0,
              "#0d0887"
             ],
             [
              0.1111111111111111,
              "#46039f"
             ],
             [
              0.2222222222222222,
              "#7201a8"
             ],
             [
              0.3333333333333333,
              "#9c179e"
             ],
             [
              0.4444444444444444,
              "#bd3786"
             ],
             [
              0.5555555555555556,
              "#d8576b"
             ],
             [
              0.6666666666666666,
              "#ed7953"
             ],
             [
              0.7777777777777778,
              "#fb9f3a"
             ],
             [
              0.8888888888888888,
              "#fdca26"
             ],
             [
              1,
              "#f0f921"
             ]
            ],
            "type": "heatmapgl"
           }
          ],
          "histogram": [
           {
            "marker": {
             "pattern": {
              "fillmode": "overlay",
              "size": 10,
              "solidity": 0.2
             }
            },
            "type": "histogram"
           }
          ],
          "histogram2d": [
           {
            "colorbar": {
             "outlinewidth": 0,
             "ticks": ""
            },
            "colorscale": [
             [
              0,
              "#0d0887"
             ],
             [
              0.1111111111111111,
              "#46039f"
             ],
             [
              0.2222222222222222,
              "#7201a8"
             ],
             [
              0.3333333333333333,
              "#9c179e"
             ],
             [
              0.4444444444444444,
              "#bd3786"
             ],
             [
              0.5555555555555556,
              "#d8576b"
             ],
             [
              0.6666666666666666,
              "#ed7953"
             ],
             [
              0.7777777777777778,
              "#fb9f3a"
             ],
             [
              0.8888888888888888,
              "#fdca26"
             ],
             [
              1,
              "#f0f921"
             ]
            ],
            "type": "histogram2d"
           }
          ],
          "histogram2dcontour": [
           {
            "colorbar": {
             "outlinewidth": 0,
             "ticks": ""
            },
            "colorscale": [
             [
              0,
              "#0d0887"
             ],
             [
              0.1111111111111111,
              "#46039f"
             ],
             [
              0.2222222222222222,
              "#7201a8"
             ],
             [
              0.3333333333333333,
              "#9c179e"
             ],
             [
              0.4444444444444444,
              "#bd3786"
             ],
             [
              0.5555555555555556,
              "#d8576b"
             ],
             [
              0.6666666666666666,
              "#ed7953"
             ],
             [
              0.7777777777777778,
              "#fb9f3a"
             ],
             [
              0.8888888888888888,
              "#fdca26"
             ],
             [
              1,
              "#f0f921"
             ]
            ],
            "type": "histogram2dcontour"
           }
          ],
          "mesh3d": [
           {
            "colorbar": {
             "outlinewidth": 0,
             "ticks": ""
            },
            "type": "mesh3d"
           }
          ],
          "parcoords": [
           {
            "line": {
             "colorbar": {
              "outlinewidth": 0,
              "ticks": ""
             }
            },
            "type": "parcoords"
           }
          ],
          "pie": [
           {
            "automargin": true,
            "type": "pie"
           }
          ],
          "scatter": [
           {
            "fillpattern": {
             "fillmode": "overlay",
             "size": 10,
             "solidity": 0.2
            },
            "type": "scatter"
           }
          ],
          "scatter3d": [
           {
            "line": {
             "colorbar": {
              "outlinewidth": 0,
              "ticks": ""
             }
            },
            "marker": {
             "colorbar": {
              "outlinewidth": 0,
              "ticks": ""
             }
            },
            "type": "scatter3d"
           }
          ],
          "scattercarpet": [
           {
            "marker": {
             "colorbar": {
              "outlinewidth": 0,
              "ticks": ""
             }
            },
            "type": "scattercarpet"
           }
          ],
          "scattergeo": [
           {
            "marker": {
             "colorbar": {
              "outlinewidth": 0,
              "ticks": ""
             }
            },
            "type": "scattergeo"
           }
          ],
          "scattergl": [
           {
            "marker": {
             "colorbar": {
              "outlinewidth": 0,
              "ticks": ""
             }
            },
            "type": "scattergl"
           }
          ],
          "scattermapbox": [
           {
            "marker": {
             "colorbar": {
              "outlinewidth": 0,
              "ticks": ""
             }
            },
            "type": "scattermapbox"
           }
          ],
          "scatterpolar": [
           {
            "marker": {
             "colorbar": {
              "outlinewidth": 0,
              "ticks": ""
             }
            },
            "type": "scatterpolar"
           }
          ],
          "scatterpolargl": [
           {
            "marker": {
             "colorbar": {
              "outlinewidth": 0,
              "ticks": ""
             }
            },
            "type": "scatterpolargl"
           }
          ],
          "scatterternary": [
           {
            "marker": {
             "colorbar": {
              "outlinewidth": 0,
              "ticks": ""
             }
            },
            "type": "scatterternary"
           }
          ],
          "surface": [
           {
            "colorbar": {
             "outlinewidth": 0,
             "ticks": ""
            },
            "colorscale": [
             [
              0,
              "#0d0887"
             ],
             [
              0.1111111111111111,
              "#46039f"
             ],
             [
              0.2222222222222222,
              "#7201a8"
             ],
             [
              0.3333333333333333,
              "#9c179e"
             ],
             [
              0.4444444444444444,
              "#bd3786"
             ],
             [
              0.5555555555555556,
              "#d8576b"
             ],
             [
              0.6666666666666666,
              "#ed7953"
             ],
             [
              0.7777777777777778,
              "#fb9f3a"
             ],
             [
              0.8888888888888888,
              "#fdca26"
             ],
             [
              1,
              "#f0f921"
             ]
            ],
            "type": "surface"
           }
          ],
          "table": [
           {
            "cells": {
             "fill": {
              "color": "#EBF0F8"
             },
             "line": {
              "color": "white"
             }
            },
            "header": {
             "fill": {
              "color": "#C8D4E3"
             },
             "line": {
              "color": "white"
             }
            },
            "type": "table"
           }
          ]
         },
         "layout": {
          "annotationdefaults": {
           "arrowcolor": "#2a3f5f",
           "arrowhead": 0,
           "arrowwidth": 1
          },
          "autotypenumbers": "strict",
          "coloraxis": {
           "colorbar": {
            "outlinewidth": 0,
            "ticks": ""
           }
          },
          "colorscale": {
           "diverging": [
            [
             0,
             "#8e0152"
            ],
            [
             0.1,
             "#c51b7d"
            ],
            [
             0.2,
             "#de77ae"
            ],
            [
             0.3,
             "#f1b6da"
            ],
            [
             0.4,
             "#fde0ef"
            ],
            [
             0.5,
             "#f7f7f7"
            ],
            [
             0.6,
             "#e6f5d0"
            ],
            [
             0.7,
             "#b8e186"
            ],
            [
             0.8,
             "#7fbc41"
            ],
            [
             0.9,
             "#4d9221"
            ],
            [
             1,
             "#276419"
            ]
           ],
           "sequential": [
            [
             0,
             "#0d0887"
            ],
            [
             0.1111111111111111,
             "#46039f"
            ],
            [
             0.2222222222222222,
             "#7201a8"
            ],
            [
             0.3333333333333333,
             "#9c179e"
            ],
            [
             0.4444444444444444,
             "#bd3786"
            ],
            [
             0.5555555555555556,
             "#d8576b"
            ],
            [
             0.6666666666666666,
             "#ed7953"
            ],
            [
             0.7777777777777778,
             "#fb9f3a"
            ],
            [
             0.8888888888888888,
             "#fdca26"
            ],
            [
             1,
             "#f0f921"
            ]
           ],
           "sequentialminus": [
            [
             0,
             "#0d0887"
            ],
            [
             0.1111111111111111,
             "#46039f"
            ],
            [
             0.2222222222222222,
             "#7201a8"
            ],
            [
             0.3333333333333333,
             "#9c179e"
            ],
            [
             0.4444444444444444,
             "#bd3786"
            ],
            [
             0.5555555555555556,
             "#d8576b"
            ],
            [
             0.6666666666666666,
             "#ed7953"
            ],
            [
             0.7777777777777778,
             "#fb9f3a"
            ],
            [
             0.8888888888888888,
             "#fdca26"
            ],
            [
             1,
             "#f0f921"
            ]
           ]
          },
          "colorway": [
           "#636efa",
           "#EF553B",
           "#00cc96",
           "#ab63fa",
           "#FFA15A",
           "#19d3f3",
           "#FF6692",
           "#B6E880",
           "#FF97FF",
           "#FECB52"
          ],
          "font": {
           "color": "#2a3f5f"
          },
          "geo": {
           "bgcolor": "white",
           "lakecolor": "white",
           "landcolor": "#E5ECF6",
           "showlakes": true,
           "showland": true,
           "subunitcolor": "white"
          },
          "hoverlabel": {
           "align": "left"
          },
          "hovermode": "closest",
          "mapbox": {
           "style": "light"
          },
          "paper_bgcolor": "white",
          "plot_bgcolor": "#E5ECF6",
          "polar": {
           "angularaxis": {
            "gridcolor": "white",
            "linecolor": "white",
            "ticks": ""
           },
           "bgcolor": "#E5ECF6",
           "radialaxis": {
            "gridcolor": "white",
            "linecolor": "white",
            "ticks": ""
           }
          },
          "scene": {
           "xaxis": {
            "backgroundcolor": "#E5ECF6",
            "gridcolor": "white",
            "gridwidth": 2,
            "linecolor": "white",
            "showbackground": true,
            "ticks": "",
            "zerolinecolor": "white"
           },
           "yaxis": {
            "backgroundcolor": "#E5ECF6",
            "gridcolor": "white",
            "gridwidth": 2,
            "linecolor": "white",
            "showbackground": true,
            "ticks": "",
            "zerolinecolor": "white"
           },
           "zaxis": {
            "backgroundcolor": "#E5ECF6",
            "gridcolor": "white",
            "gridwidth": 2,
            "linecolor": "white",
            "showbackground": true,
            "ticks": "",
            "zerolinecolor": "white"
           }
          },
          "shapedefaults": {
           "line": {
            "color": "#2a3f5f"
           }
          },
          "ternary": {
           "aaxis": {
            "gridcolor": "white",
            "linecolor": "white",
            "ticks": ""
           },
           "baxis": {
            "gridcolor": "white",
            "linecolor": "white",
            "ticks": ""
           },
           "bgcolor": "#E5ECF6",
           "caxis": {
            "gridcolor": "white",
            "linecolor": "white",
            "ticks": ""
           }
          },
          "title": {
           "x": 0.05
          },
          "xaxis": {
           "automargin": true,
           "gridcolor": "white",
           "linecolor": "white",
           "ticks": "",
           "title": {
            "standoff": 15
           },
           "zerolinecolor": "white",
           "zerolinewidth": 2
          },
          "yaxis": {
           "automargin": true,
           "gridcolor": "white",
           "linecolor": "white",
           "ticks": "",
           "title": {
            "standoff": 15
           },
           "zerolinecolor": "white",
           "zerolinewidth": 2
          }
         }
        }
       }
      }
     },
     "metadata": {},
     "output_type": "display_data"
    }
   ],
   "source": [
    "# plot i vs count\n",
    "fig = go.Figure()\n",
    "fig.add_trace(\n",
    "    go.Scatter(\n",
    "        x=list(commu_count_dict.keys()),\n",
    "        y=list(commu_count_dict.values()),\n",
    "        mode=\"lines+markers\",\n",
    "        name=\"count\",\n",
    "    )\n",
    ")"
   ]
  },
  {
   "cell_type": "code",
   "execution_count": 38,
   "metadata": {},
   "outputs": [],
   "source": [
    "# fig = go.Figure()\n",
    "# fig.add_trace(\n",
    "#     go.Scatter(\n",
    "#         x=list(wallets_count_dict.keys()),\n",
    "#         y=list(wallets_count_dict.values()),\n",
    "#         mode=\"lines+markers\",\n",
    "#         name=\"communities count\",\n",
    "#     )\n",
    "# )"
   ]
  },
  {
   "cell_type": "markdown",
   "metadata": {},
   "source": [
    "### Build real community"
   ]
  },
  {
   "cell_type": "code",
   "execution_count": 147,
   "metadata": {},
   "outputs": [
    {
     "name": "stdout",
     "output_type": "stream",
     "text": [
      "Number of unique wallets: 146406\n",
      "Number of edges: 227616\n",
      "Number of communities detected: 20324\n",
      "-\n"
     ]
    },
    {
     "data": {
      "text/plain": [
       "count    20324.000000\n",
       "mean         7.203602\n",
       "std         36.306838\n",
       "min          1.000000\n",
       "25%          2.000000\n",
       "50%          2.000000\n",
       "75%          4.000000\n",
       "max       2309.000000\n",
       "dtype: float64"
      ]
     },
     "metadata": {},
     "output_type": "display_data"
    },
    {
     "name": "stdout",
     "output_type": "stream",
     "text": [
      "\n"
     ]
    }
   ],
   "source": [
    "louvain_community_lst = louvain_community_lst_func(weight_df, resolution= 150)"
   ]
  },
  {
   "cell_type": "code",
   "execution_count": 33,
   "metadata": {},
   "outputs": [],
   "source": [
    "def louvain_community_df_func(louvain_community_lst_):\n",
    "    louvain_community_df_ = nested_lst_to_loc_dict(louvain_community_lst_)\n",
    "    louvain_community_df_ = pd.DataFrame.from_dict(\n",
    "        louvain_community_df_, orient=\"index\", columns=[\"community\"]\n",
    "    )\n",
    "    louvain_community_df_[\"type\"] = \"normal\"\n",
    "    return louvain_community_df_"
   ]
  },
  {
   "cell_type": "code",
   "execution_count": 148,
   "metadata": {},
   "outputs": [
    {
     "data": {
      "text/html": [
       "<div>\n",
       "<style scoped>\n",
       "    .dataframe tbody tr th:only-of-type {\n",
       "        vertical-align: middle;\n",
       "    }\n",
       "\n",
       "    .dataframe tbody tr th {\n",
       "        vertical-align: top;\n",
       "    }\n",
       "\n",
       "    .dataframe thead th {\n",
       "        text-align: right;\n",
       "    }\n",
       "</style>\n",
       "<table border=\"1\" class=\"dataframe\">\n",
       "  <thead>\n",
       "    <tr style=\"text-align: right;\">\n",
       "      <th></th>\n",
       "      <th>community</th>\n",
       "      <th>type</th>\n",
       "    </tr>\n",
       "  </thead>\n",
       "  <tbody>\n",
       "    <tr>\n",
       "      <th>0x009ed36ca933f4104afe612743d1a0e83824aba4</th>\n",
       "      <td>0</td>\n",
       "      <td>normal</td>\n",
       "    </tr>\n",
       "    <tr>\n",
       "      <th>0xdc0eba1d51f87131985aaee259eb66f86ccc4c52</th>\n",
       "      <td>0</td>\n",
       "      <td>normal</td>\n",
       "    </tr>\n",
       "    <tr>\n",
       "      <th>0x00aa24d8e4dd504dca0be06716f3d9ef0c9201d5</th>\n",
       "      <td>0</td>\n",
       "      <td>normal</td>\n",
       "    </tr>\n",
       "    <tr>\n",
       "      <th>0x00b3639135c1a0f8e5b96813e71166d3926a792c</th>\n",
       "      <td>0</td>\n",
       "      <td>normal</td>\n",
       "    </tr>\n",
       "    <tr>\n",
       "      <th>0x00e263c7af6bf8a01fe4af3efd78be38da389ef1</th>\n",
       "      <td>0</td>\n",
       "      <td>normal</td>\n",
       "    </tr>\n",
       "    <tr>\n",
       "      <th>...</th>\n",
       "      <td>...</td>\n",
       "      <td>...</td>\n",
       "    </tr>\n",
       "    <tr>\n",
       "      <th>0xff15855e37f2d2ca91ceaba24c8fc51689b3d181</th>\n",
       "      <td>20319</td>\n",
       "      <td>normal</td>\n",
       "    </tr>\n",
       "    <tr>\n",
       "      <th>0xff47a4e149688a6b89a4423fbb3233bc4984a42a</th>\n",
       "      <td>20320</td>\n",
       "      <td>normal</td>\n",
       "    </tr>\n",
       "    <tr>\n",
       "      <th>0xff66c715404797644a352fedef270dabffb37278</th>\n",
       "      <td>20321</td>\n",
       "      <td>normal</td>\n",
       "    </tr>\n",
       "    <tr>\n",
       "      <th>0xffac3691e57fc37e5c79b8447ac1fe30d9684431</th>\n",
       "      <td>20322</td>\n",
       "      <td>normal</td>\n",
       "    </tr>\n",
       "    <tr>\n",
       "      <th>0xffbe879492592b6f125484f3b45dc41f0e25e87b</th>\n",
       "      <td>20323</td>\n",
       "      <td>normal</td>\n",
       "    </tr>\n",
       "  </tbody>\n",
       "</table>\n",
       "<p>146406 rows × 2 columns</p>\n",
       "</div>"
      ],
      "text/plain": [
       "                                            community    type\n",
       "0x009ed36ca933f4104afe612743d1a0e83824aba4          0  normal\n",
       "0xdc0eba1d51f87131985aaee259eb66f86ccc4c52          0  normal\n",
       "0x00aa24d8e4dd504dca0be06716f3d9ef0c9201d5          0  normal\n",
       "0x00b3639135c1a0f8e5b96813e71166d3926a792c          0  normal\n",
       "0x00e263c7af6bf8a01fe4af3efd78be38da389ef1          0  normal\n",
       "...                                               ...     ...\n",
       "0xff15855e37f2d2ca91ceaba24c8fc51689b3d181      20319  normal\n",
       "0xff47a4e149688a6b89a4423fbb3233bc4984a42a      20320  normal\n",
       "0xff66c715404797644a352fedef270dabffb37278      20321  normal\n",
       "0xffac3691e57fc37e5c79b8447ac1fe30d9684431      20322  normal\n",
       "0xffbe879492592b6f125484f3b45dc41f0e25e87b      20323  normal\n",
       "\n",
       "[146406 rows x 2 columns]"
      ]
     },
     "execution_count": 148,
     "metadata": {},
     "output_type": "execute_result"
    }
   ],
   "source": [
    "louvain_community_df = louvain_community_df_func(louvain_community_lst)\n",
    "louvain_community_df"
   ]
  },
  {
   "cell_type": "code",
   "execution_count": 149,
   "metadata": {},
   "outputs": [
    {
     "name": "stdout",
     "output_type": "stream",
     "text": [
      "17845\n",
      "143927\n"
     ]
    }
   ],
   "source": [
    "count = 0\n",
    "ttl_wallets = 0\n",
    "for i, commu_wallets in enumerate(louvain_community_lst):\n",
    "    if len(commu_wallets) >= 2:\n",
    "        count += 1\n",
    "        ttl_wallets += len(commu_wallets)\n",
    "print(count)\n",
    "print(ttl_wallets)"
   ]
  },
  {
   "cell_type": "markdown",
   "metadata": {},
   "source": [
    "### plot a community"
   ]
  },
  {
   "cell_type": "code",
   "execution_count": 268,
   "metadata": {},
   "outputs": [
    {
     "name": "stdout",
     "output_type": "stream",
     "text": [
      "(41, 4)\n"
     ]
    },
    {
     "data": {
      "text/html": [
       "<div>\n",
       "<style scoped>\n",
       "    .dataframe tbody tr th:only-of-type {\n",
       "        vertical-align: middle;\n",
       "    }\n",
       "\n",
       "    .dataframe tbody tr th {\n",
       "        vertical-align: top;\n",
       "    }\n",
       "\n",
       "    .dataframe thead th {\n",
       "        text-align: right;\n",
       "    }\n",
       "</style>\n",
       "<table border=\"1\" class=\"dataframe\">\n",
       "  <thead>\n",
       "    <tr style=\"text-align: right;\">\n",
       "      <th></th>\n",
       "      <th>count</th>\n",
       "      <th>node_a</th>\n",
       "      <th>node_b</th>\n",
       "      <th>weight</th>\n",
       "    </tr>\n",
       "  </thead>\n",
       "  <tbody>\n",
       "    <tr>\n",
       "      <th>1197</th>\n",
       "      <td>1</td>\n",
       "      <td>0x007f8278e9b34cdb5e251d9c3845ffb8657de112</td>\n",
       "      <td>0xe2303583c6018d46c4540d44e381af43c9491a8b</td>\n",
       "      <td>0.001520</td>\n",
       "    </tr>\n",
       "    <tr>\n",
       "      <th>2819</th>\n",
       "      <td>5</td>\n",
       "      <td>0x016b72a2c5241d467a57947d5d34c518e612970a</td>\n",
       "      <td>0x4d779580155c2e16abf0f541043e28156914b113</td>\n",
       "      <td>0.007599</td>\n",
       "    </tr>\n",
       "    <tr>\n",
       "      <th>7920</th>\n",
       "      <td>1</td>\n",
       "      <td>0x043965188f75eab83b7bb7693c1de79fd24abd1e</td>\n",
       "      <td>0xe2303583c6018d46c4540d44e381af43c9491a8b</td>\n",
       "      <td>0.001520</td>\n",
       "    </tr>\n",
       "    <tr>\n",
       "      <th>23791</th>\n",
       "      <td>1</td>\n",
       "      <td>0x091ad9b6e8a517ddb84ac583ce2234aa78fa511d</td>\n",
       "      <td>0x4d779580155c2e16abf0f541043e28156914b113</td>\n",
       "      <td>0.001520</td>\n",
       "    </tr>\n",
       "    <tr>\n",
       "      <th>27536</th>\n",
       "      <td>1</td>\n",
       "      <td>0x0c07e3f763122907b63d470805956131d95eb2ca</td>\n",
       "      <td>0x4d779580155c2e16abf0f541043e28156914b113</td>\n",
       "      <td>0.001520</td>\n",
       "    </tr>\n",
       "    <tr>\n",
       "      <th>27537</th>\n",
       "      <td>1</td>\n",
       "      <td>0x0c07e3f763122907b63d470805956131d95eb2ca</td>\n",
       "      <td>0xe2303583c6018d46c4540d44e381af43c9491a8b</td>\n",
       "      <td>0.001520</td>\n",
       "    </tr>\n",
       "    <tr>\n",
       "      <th>41393</th>\n",
       "      <td>1</td>\n",
       "      <td>0x137393f271f9fbb23ff6fe328e02d474553ddc89</td>\n",
       "      <td>0xe2303583c6018d46c4540d44e381af43c9491a8b</td>\n",
       "      <td>0.001520</td>\n",
       "    </tr>\n",
       "    <tr>\n",
       "      <th>54196</th>\n",
       "      <td>1</td>\n",
       "      <td>0x1b7dea5871e32cab199fd163eac92cfd7877e5fa</td>\n",
       "      <td>0x4d779580155c2e16abf0f541043e28156914b113</td>\n",
       "      <td>0.001520</td>\n",
       "    </tr>\n",
       "    <tr>\n",
       "      <th>63788</th>\n",
       "      <td>1</td>\n",
       "      <td>0x220135a26047861bfbbc3e37e961630cdfb3b57e</td>\n",
       "      <td>0x2916675b462ec4ca0df7f6b61a904928ab32537e</td>\n",
       "      <td>0.001520</td>\n",
       "    </tr>\n",
       "    <tr>\n",
       "      <th>74220</th>\n",
       "      <td>1</td>\n",
       "      <td>0x2916675b462ec4ca0df7f6b61a904928ab32537e</td>\n",
       "      <td>0x77836c1368d3fc9f4d945800c6e4420bb8a11639</td>\n",
       "      <td>0.001520</td>\n",
       "    </tr>\n",
       "    <tr>\n",
       "      <th>74221</th>\n",
       "      <td>1</td>\n",
       "      <td>0x2916675b462ec4ca0df7f6b61a904928ab32537e</td>\n",
       "      <td>0x9257e43de5bf01f91ef1fb9ed8d370b6fa782924</td>\n",
       "      <td>0.001520</td>\n",
       "    </tr>\n",
       "    <tr>\n",
       "      <th>74223</th>\n",
       "      <td>1</td>\n",
       "      <td>0x2916675b462ec4ca0df7f6b61a904928ab32537e</td>\n",
       "      <td>0x95f9acc1fd7d1314f5cba1f3aea81749ac4097bc</td>\n",
       "      <td>0.001520</td>\n",
       "    </tr>\n",
       "    <tr>\n",
       "      <th>74224</th>\n",
       "      <td>1</td>\n",
       "      <td>0x2916675b462ec4ca0df7f6b61a904928ab32537e</td>\n",
       "      <td>0x969cdf26d014d006deda9391ba269edbfd6f0278</td>\n",
       "      <td>0.001520</td>\n",
       "    </tr>\n",
       "    <tr>\n",
       "      <th>74225</th>\n",
       "      <td>3</td>\n",
       "      <td>0x2916675b462ec4ca0df7f6b61a904928ab32537e</td>\n",
       "      <td>0xa29423d473e1738ce974066056ac698cf77e8834</td>\n",
       "      <td>0.004559</td>\n",
       "    </tr>\n",
       "    <tr>\n",
       "      <th>115047</th>\n",
       "      <td>2</td>\n",
       "      <td>0x45528b3be4f9bf5d989dce98cb8bc1b22fd6dea2</td>\n",
       "      <td>0xe2303583c6018d46c4540d44e381af43c9491a8b</td>\n",
       "      <td>0.003040</td>\n",
       "    </tr>\n",
       "    <tr>\n",
       "      <th>118132</th>\n",
       "      <td>2</td>\n",
       "      <td>0x487a4468749e518555e6f5e413d72735982dffbc</td>\n",
       "      <td>0xe2303583c6018d46c4540d44e381af43c9491a8b</td>\n",
       "      <td>0.003040</td>\n",
       "    </tr>\n",
       "    <tr>\n",
       "      <th>124138</th>\n",
       "      <td>1</td>\n",
       "      <td>0x4d779580155c2e16abf0f541043e28156914b113</td>\n",
       "      <td>0x710a97c32c0976827588d5c9232adb535ccd10cd</td>\n",
       "      <td>0.001520</td>\n",
       "    </tr>\n",
       "    <tr>\n",
       "      <th>124139</th>\n",
       "      <td>2</td>\n",
       "      <td>0x4d779580155c2e16abf0f541043e28156914b113</td>\n",
       "      <td>0x940f5fe211737feff2ddbd72bb740fd1eedd1813</td>\n",
       "      <td>0.003040</td>\n",
       "    </tr>\n",
       "    <tr>\n",
       "      <th>124140</th>\n",
       "      <td>2</td>\n",
       "      <td>0x4d779580155c2e16abf0f541043e28156914b113</td>\n",
       "      <td>0xa1e071931114a8b4cee794987f049f867e8190b0</td>\n",
       "      <td>0.003040</td>\n",
       "    </tr>\n",
       "    <tr>\n",
       "      <th>124141</th>\n",
       "      <td>1</td>\n",
       "      <td>0x4d779580155c2e16abf0f541043e28156914b113</td>\n",
       "      <td>0xa342feedb876f24daac812a383f2e8e8ceebf81d</td>\n",
       "      <td>0.001520</td>\n",
       "    </tr>\n",
       "    <tr>\n",
       "      <th>124142</th>\n",
       "      <td>4</td>\n",
       "      <td>0x4d779580155c2e16abf0f541043e28156914b113</td>\n",
       "      <td>0xaee619d5af27657eafa58ae740786cf45131355d</td>\n",
       "      <td>0.006079</td>\n",
       "    </tr>\n",
       "    <tr>\n",
       "      <th>124143</th>\n",
       "      <td>1</td>\n",
       "      <td>0x4d779580155c2e16abf0f541043e28156914b113</td>\n",
       "      <td>0xbbb6cfabec33fd437e83aeddc0c1ec10f1da7cc7</td>\n",
       "      <td>0.001520</td>\n",
       "    </tr>\n",
       "    <tr>\n",
       "      <th>124145</th>\n",
       "      <td>1</td>\n",
       "      <td>0x4d779580155c2e16abf0f541043e28156914b113</td>\n",
       "      <td>0xef2fe72aed530da2142f5b8202889dce83b158fa</td>\n",
       "      <td>0.001520</td>\n",
       "    </tr>\n",
       "    <tr>\n",
       "      <th>132114</th>\n",
       "      <td>1</td>\n",
       "      <td>0x5234e060e9203e89d90cc29470004fffbf1e1b04</td>\n",
       "      <td>0xe2303583c6018d46c4540d44e381af43c9491a8b</td>\n",
       "      <td>0.001520</td>\n",
       "    </tr>\n",
       "    <tr>\n",
       "      <th>148603</th>\n",
       "      <td>20</td>\n",
       "      <td>0x621411a54e2a0d083498182c1e2bafabc8cbf4b7</td>\n",
       "      <td>0xe2303583c6018d46c4540d44e381af43c9491a8b</td>\n",
       "      <td>0.030395</td>\n",
       "    </tr>\n",
       "    <tr>\n",
       "      <th>153999</th>\n",
       "      <td>2</td>\n",
       "      <td>0x68d2a65204590aa8115ab30ebc4235aace3a656e</td>\n",
       "      <td>0xe2303583c6018d46c4540d44e381af43c9491a8b</td>\n",
       "      <td>0.003040</td>\n",
       "    </tr>\n",
       "    <tr>\n",
       "      <th>159190</th>\n",
       "      <td>1</td>\n",
       "      <td>0x6e26ef4ec047db322e19f4c5f37cd8599c8d3e61</td>\n",
       "      <td>0xe2303583c6018d46c4540d44e381af43c9491a8b</td>\n",
       "      <td>0.001520</td>\n",
       "    </tr>\n",
       "    <tr>\n",
       "      <th>162609</th>\n",
       "      <td>1</td>\n",
       "      <td>0x7157553bf87df374059659ec8d775036d1e604ef</td>\n",
       "      <td>0xe2303583c6018d46c4540d44e381af43c9491a8b</td>\n",
       "      <td>0.001520</td>\n",
       "    </tr>\n",
       "    <tr>\n",
       "      <th>169787</th>\n",
       "      <td>1</td>\n",
       "      <td>0x785e8a0f62bf947ddd995cff0e4a333265bae61a</td>\n",
       "      <td>0xe2303583c6018d46c4540d44e381af43c9491a8b</td>\n",
       "      <td>0.001520</td>\n",
       "    </tr>\n",
       "    <tr>\n",
       "      <th>179166</th>\n",
       "      <td>1</td>\n",
       "      <td>0x858a418b6ff8ccb1371ed667aeda23916c604e8d</td>\n",
       "      <td>0xe2303583c6018d46c4540d44e381af43c9491a8b</td>\n",
       "      <td>0.001520</td>\n",
       "    </tr>\n",
       "    <tr>\n",
       "      <th>190736</th>\n",
       "      <td>1</td>\n",
       "      <td>0x95f9acc1fd7d1314f5cba1f3aea81749ac4097bc</td>\n",
       "      <td>0xe2303583c6018d46c4540d44e381af43c9491a8b</td>\n",
       "      <td>0.001520</td>\n",
       "    </tr>\n",
       "    <tr>\n",
       "      <th>210131</th>\n",
       "      <td>4</td>\n",
       "      <td>0xba6b77ba196e0e264d2faf0e03088885bd9cc863</td>\n",
       "      <td>0xe2303583c6018d46c4540d44e381af43c9491a8b</td>\n",
       "      <td>0.006079</td>\n",
       "    </tr>\n",
       "    <tr>\n",
       "      <th>212620</th>\n",
       "      <td>1</td>\n",
       "      <td>0xbf0eb13e96794be660e461026454ddaa92fcd477</td>\n",
       "      <td>0xe2303583c6018d46c4540d44e381af43c9491a8b</td>\n",
       "      <td>0.001520</td>\n",
       "    </tr>\n",
       "    <tr>\n",
       "      <th>213863</th>\n",
       "      <td>1</td>\n",
       "      <td>0xc1d80433ff8e0a619f6e34bebddc30eb9ed36287</td>\n",
       "      <td>0xe2303583c6018d46c4540d44e381af43c9491a8b</td>\n",
       "      <td>0.001520</td>\n",
       "    </tr>\n",
       "    <tr>\n",
       "      <th>216575</th>\n",
       "      <td>1</td>\n",
       "      <td>0xc9c1949b47b7a32512cf986c0287c24852dd9015</td>\n",
       "      <td>0xe2303583c6018d46c4540d44e381af43c9491a8b</td>\n",
       "      <td>0.001520</td>\n",
       "    </tr>\n",
       "    <tr>\n",
       "      <th>218595</th>\n",
       "      <td>1</td>\n",
       "      <td>0xd02632c068bb358496157f61bbd242cd7a1f349f</td>\n",
       "      <td>0xe2303583c6018d46c4540d44e381af43c9491a8b</td>\n",
       "      <td>0.001520</td>\n",
       "    </tr>\n",
       "    <tr>\n",
       "      <th>219124</th>\n",
       "      <td>4</td>\n",
       "      <td>0xd216fdaf5b4568a3c9400dc0694ef951bcc0cd0f</td>\n",
       "      <td>0xe2303583c6018d46c4540d44e381af43c9491a8b</td>\n",
       "      <td>0.006079</td>\n",
       "    </tr>\n",
       "    <tr>\n",
       "      <th>219598</th>\n",
       "      <td>1</td>\n",
       "      <td>0xd41ccce4e2b9db9ad8e953dbb0aeb758096ee53c</td>\n",
       "      <td>0xe2303583c6018d46c4540d44e381af43c9491a8b</td>\n",
       "      <td>0.001520</td>\n",
       "    </tr>\n",
       "    <tr>\n",
       "      <th>223846</th>\n",
       "      <td>2</td>\n",
       "      <td>0xe184a27ce4cdc8bc020152863d2c643af849cd88</td>\n",
       "      <td>0xe2303583c6018d46c4540d44e381af43c9491a8b</td>\n",
       "      <td>0.003040</td>\n",
       "    </tr>\n",
       "    <tr>\n",
       "      <th>223969</th>\n",
       "      <td>3</td>\n",
       "      <td>0xe2303583c6018d46c4540d44e381af43c9491a8b</td>\n",
       "      <td>0xeefda0c295cc0abeec709f500c40bdafc2639cf6</td>\n",
       "      <td>0.004559</td>\n",
       "    </tr>\n",
       "    <tr>\n",
       "      <th>223970</th>\n",
       "      <td>2</td>\n",
       "      <td>0xe2303583c6018d46c4540d44e381af43c9491a8b</td>\n",
       "      <td>0xf3ae45f31617395c561986a45b7499b3c7c6b8ad</td>\n",
       "      <td>0.003040</td>\n",
       "    </tr>\n",
       "  </tbody>\n",
       "</table>\n",
       "</div>"
      ],
      "text/plain": [
       "        count                                      node_a  \\\n",
       "1197        1  0x007f8278e9b34cdb5e251d9c3845ffb8657de112   \n",
       "2819        5  0x016b72a2c5241d467a57947d5d34c518e612970a   \n",
       "7920        1  0x043965188f75eab83b7bb7693c1de79fd24abd1e   \n",
       "23791       1  0x091ad9b6e8a517ddb84ac583ce2234aa78fa511d   \n",
       "27536       1  0x0c07e3f763122907b63d470805956131d95eb2ca   \n",
       "27537       1  0x0c07e3f763122907b63d470805956131d95eb2ca   \n",
       "41393       1  0x137393f271f9fbb23ff6fe328e02d474553ddc89   \n",
       "54196       1  0x1b7dea5871e32cab199fd163eac92cfd7877e5fa   \n",
       "63788       1  0x220135a26047861bfbbc3e37e961630cdfb3b57e   \n",
       "74220       1  0x2916675b462ec4ca0df7f6b61a904928ab32537e   \n",
       "74221       1  0x2916675b462ec4ca0df7f6b61a904928ab32537e   \n",
       "74223       1  0x2916675b462ec4ca0df7f6b61a904928ab32537e   \n",
       "74224       1  0x2916675b462ec4ca0df7f6b61a904928ab32537e   \n",
       "74225       3  0x2916675b462ec4ca0df7f6b61a904928ab32537e   \n",
       "115047      2  0x45528b3be4f9bf5d989dce98cb8bc1b22fd6dea2   \n",
       "118132      2  0x487a4468749e518555e6f5e413d72735982dffbc   \n",
       "124138      1  0x4d779580155c2e16abf0f541043e28156914b113   \n",
       "124139      2  0x4d779580155c2e16abf0f541043e28156914b113   \n",
       "124140      2  0x4d779580155c2e16abf0f541043e28156914b113   \n",
       "124141      1  0x4d779580155c2e16abf0f541043e28156914b113   \n",
       "124142      4  0x4d779580155c2e16abf0f541043e28156914b113   \n",
       "124143      1  0x4d779580155c2e16abf0f541043e28156914b113   \n",
       "124145      1  0x4d779580155c2e16abf0f541043e28156914b113   \n",
       "132114      1  0x5234e060e9203e89d90cc29470004fffbf1e1b04   \n",
       "148603     20  0x621411a54e2a0d083498182c1e2bafabc8cbf4b7   \n",
       "153999      2  0x68d2a65204590aa8115ab30ebc4235aace3a656e   \n",
       "159190      1  0x6e26ef4ec047db322e19f4c5f37cd8599c8d3e61   \n",
       "162609      1  0x7157553bf87df374059659ec8d775036d1e604ef   \n",
       "169787      1  0x785e8a0f62bf947ddd995cff0e4a333265bae61a   \n",
       "179166      1  0x858a418b6ff8ccb1371ed667aeda23916c604e8d   \n",
       "190736      1  0x95f9acc1fd7d1314f5cba1f3aea81749ac4097bc   \n",
       "210131      4  0xba6b77ba196e0e264d2faf0e03088885bd9cc863   \n",
       "212620      1  0xbf0eb13e96794be660e461026454ddaa92fcd477   \n",
       "213863      1  0xc1d80433ff8e0a619f6e34bebddc30eb9ed36287   \n",
       "216575      1  0xc9c1949b47b7a32512cf986c0287c24852dd9015   \n",
       "218595      1  0xd02632c068bb358496157f61bbd242cd7a1f349f   \n",
       "219124      4  0xd216fdaf5b4568a3c9400dc0694ef951bcc0cd0f   \n",
       "219598      1  0xd41ccce4e2b9db9ad8e953dbb0aeb758096ee53c   \n",
       "223846      2  0xe184a27ce4cdc8bc020152863d2c643af849cd88   \n",
       "223969      3  0xe2303583c6018d46c4540d44e381af43c9491a8b   \n",
       "223970      2  0xe2303583c6018d46c4540d44e381af43c9491a8b   \n",
       "\n",
       "                                            node_b    weight  \n",
       "1197    0xe2303583c6018d46c4540d44e381af43c9491a8b  0.001520  \n",
       "2819    0x4d779580155c2e16abf0f541043e28156914b113  0.007599  \n",
       "7920    0xe2303583c6018d46c4540d44e381af43c9491a8b  0.001520  \n",
       "23791   0x4d779580155c2e16abf0f541043e28156914b113  0.001520  \n",
       "27536   0x4d779580155c2e16abf0f541043e28156914b113  0.001520  \n",
       "27537   0xe2303583c6018d46c4540d44e381af43c9491a8b  0.001520  \n",
       "41393   0xe2303583c6018d46c4540d44e381af43c9491a8b  0.001520  \n",
       "54196   0x4d779580155c2e16abf0f541043e28156914b113  0.001520  \n",
       "63788   0x2916675b462ec4ca0df7f6b61a904928ab32537e  0.001520  \n",
       "74220   0x77836c1368d3fc9f4d945800c6e4420bb8a11639  0.001520  \n",
       "74221   0x9257e43de5bf01f91ef1fb9ed8d370b6fa782924  0.001520  \n",
       "74223   0x95f9acc1fd7d1314f5cba1f3aea81749ac4097bc  0.001520  \n",
       "74224   0x969cdf26d014d006deda9391ba269edbfd6f0278  0.001520  \n",
       "74225   0xa29423d473e1738ce974066056ac698cf77e8834  0.004559  \n",
       "115047  0xe2303583c6018d46c4540d44e381af43c9491a8b  0.003040  \n",
       "118132  0xe2303583c6018d46c4540d44e381af43c9491a8b  0.003040  \n",
       "124138  0x710a97c32c0976827588d5c9232adb535ccd10cd  0.001520  \n",
       "124139  0x940f5fe211737feff2ddbd72bb740fd1eedd1813  0.003040  \n",
       "124140  0xa1e071931114a8b4cee794987f049f867e8190b0  0.003040  \n",
       "124141  0xa342feedb876f24daac812a383f2e8e8ceebf81d  0.001520  \n",
       "124142  0xaee619d5af27657eafa58ae740786cf45131355d  0.006079  \n",
       "124143  0xbbb6cfabec33fd437e83aeddc0c1ec10f1da7cc7  0.001520  \n",
       "124145  0xef2fe72aed530da2142f5b8202889dce83b158fa  0.001520  \n",
       "132114  0xe2303583c6018d46c4540d44e381af43c9491a8b  0.001520  \n",
       "148603  0xe2303583c6018d46c4540d44e381af43c9491a8b  0.030395  \n",
       "153999  0xe2303583c6018d46c4540d44e381af43c9491a8b  0.003040  \n",
       "159190  0xe2303583c6018d46c4540d44e381af43c9491a8b  0.001520  \n",
       "162609  0xe2303583c6018d46c4540d44e381af43c9491a8b  0.001520  \n",
       "169787  0xe2303583c6018d46c4540d44e381af43c9491a8b  0.001520  \n",
       "179166  0xe2303583c6018d46c4540d44e381af43c9491a8b  0.001520  \n",
       "190736  0xe2303583c6018d46c4540d44e381af43c9491a8b  0.001520  \n",
       "210131  0xe2303583c6018d46c4540d44e381af43c9491a8b  0.006079  \n",
       "212620  0xe2303583c6018d46c4540d44e381af43c9491a8b  0.001520  \n",
       "213863  0xe2303583c6018d46c4540d44e381af43c9491a8b  0.001520  \n",
       "216575  0xe2303583c6018d46c4540d44e381af43c9491a8b  0.001520  \n",
       "218595  0xe2303583c6018d46c4540d44e381af43c9491a8b  0.001520  \n",
       "219124  0xe2303583c6018d46c4540d44e381af43c9491a8b  0.006079  \n",
       "219598  0xe2303583c6018d46c4540d44e381af43c9491a8b  0.001520  \n",
       "223846  0xe2303583c6018d46c4540d44e381af43c9491a8b  0.003040  \n",
       "223969  0xeefda0c295cc0abeec709f500c40bdafc2639cf6  0.004559  \n",
       "223970  0xf3ae45f31617395c561986a45b7499b3c7c6b8ad  0.003040  "
      ]
     },
     "execution_count": 268,
     "metadata": {},
     "output_type": "execute_result"
    }
   ],
   "source": [
    "plot_community_lst = louvain_community_lst[476]\n",
    "plot_community_df = weight_df[\n",
    "    weight_df[\"node_a\"].isin(plot_community_lst)\n",
    "    & weight_df[\"node_b\"].isin(plot_community_lst)\n",
    "]\n",
    "print(plot_community_df.shape)\n",
    "plot_community_df"
   ]
  },
  {
   "cell_type": "code",
   "execution_count": 238,
   "metadata": {},
   "outputs": [
    {
     "data": {
      "text/html": [
       "<div>\n",
       "<style scoped>\n",
       "    .dataframe tbody tr th:only-of-type {\n",
       "        vertical-align: middle;\n",
       "    }\n",
       "\n",
       "    .dataframe tbody tr th {\n",
       "        vertical-align: top;\n",
       "    }\n",
       "\n",
       "    .dataframe thead th {\n",
       "        text-align: right;\n",
       "    }\n",
       "</style>\n",
       "<table border=\"1\" class=\"dataframe\">\n",
       "  <thead>\n",
       "    <tr style=\"text-align: right;\">\n",
       "      <th></th>\n",
       "      <th>wallet</th>\n",
       "      <th>interacted_wallets</th>\n",
       "    </tr>\n",
       "  </thead>\n",
       "  <tbody>\n",
       "    <tr>\n",
       "      <th>0</th>\n",
       "      <td>0x0000090c1a5708bcc5f76f1870aca9f935290820</td>\n",
       "      <td>1</td>\n",
       "    </tr>\n",
       "    <tr>\n",
       "      <th>1</th>\n",
       "      <td>0xcbef45f2b07d4afc54f4d1344a051d14e3161ed2</td>\n",
       "      <td>104</td>\n",
       "    </tr>\n",
       "    <tr>\n",
       "      <th>2</th>\n",
       "      <td>0x0321be8cbe0c5661bfa294e8e3aedd45c8afe5e0</td>\n",
       "      <td>1</td>\n",
       "    </tr>\n",
       "    <tr>\n",
       "      <th>3</th>\n",
       "      <td>0x06503605de2d72d231bcb81c18bf56f43d5d2c2b</td>\n",
       "      <td>1</td>\n",
       "    </tr>\n",
       "    <tr>\n",
       "      <th>4</th>\n",
       "      <td>0x071d6cec53c0e76b20430e6a0caa0598cd5fc397</td>\n",
       "      <td>1</td>\n",
       "    </tr>\n",
       "    <tr>\n",
       "      <th>...</th>\n",
       "      <td>...</td>\n",
       "      <td>...</td>\n",
       "    </tr>\n",
       "    <tr>\n",
       "      <th>100</th>\n",
       "      <td>0xf31ddafbf907b1f76250a55f65cffc8000b98b89</td>\n",
       "      <td>1</td>\n",
       "    </tr>\n",
       "    <tr>\n",
       "      <th>101</th>\n",
       "      <td>0xfb195fc36ef8db4ec597a163bf02de988bd3d3e7</td>\n",
       "      <td>1</td>\n",
       "    </tr>\n",
       "    <tr>\n",
       "      <th>102</th>\n",
       "      <td>0xfbaaf12735e1cf34728bded55608273ae738b19c</td>\n",
       "      <td>1</td>\n",
       "    </tr>\n",
       "    <tr>\n",
       "      <th>103</th>\n",
       "      <td>0xfc981dbedf58acb3dea5a78314507df11eb2fe6d</td>\n",
       "      <td>1</td>\n",
       "    </tr>\n",
       "    <tr>\n",
       "      <th>104</th>\n",
       "      <td>0xfef4d63d1f888c71366be5a7a5d75e5494416b2d</td>\n",
       "      <td>1</td>\n",
       "    </tr>\n",
       "  </tbody>\n",
       "</table>\n",
       "<p>105 rows × 2 columns</p>\n",
       "</div>"
      ],
      "text/plain": [
       "                                         wallet  interacted_wallets\n",
       "0    0x0000090c1a5708bcc5f76f1870aca9f935290820                   1\n",
       "1    0xcbef45f2b07d4afc54f4d1344a051d14e3161ed2                 104\n",
       "2    0x0321be8cbe0c5661bfa294e8e3aedd45c8afe5e0                   1\n",
       "3    0x06503605de2d72d231bcb81c18bf56f43d5d2c2b                   1\n",
       "4    0x071d6cec53c0e76b20430e6a0caa0598cd5fc397                   1\n",
       "..                                          ...                 ...\n",
       "100  0xf31ddafbf907b1f76250a55f65cffc8000b98b89                   1\n",
       "101  0xfb195fc36ef8db4ec597a163bf02de988bd3d3e7                   1\n",
       "102  0xfbaaf12735e1cf34728bded55608273ae738b19c                   1\n",
       "103  0xfc981dbedf58acb3dea5a78314507df11eb2fe6d                   1\n",
       "104  0xfef4d63d1f888c71366be5a7a5d75e5494416b2d                   1\n",
       "\n",
       "[105 rows x 2 columns]"
      ]
     },
     "execution_count": 238,
     "metadata": {},
     "output_type": "execute_result"
    }
   ],
   "source": [
    "columns_item_count(plot_community_df, w_cols=[\"node_a\", \"node_b\"])"
   ]
  },
  {
   "cell_type": "code",
   "execution_count": 37,
   "metadata": {},
   "outputs": [],
   "source": [
    "def community_visualization_2d(\n",
    "    df,\n",
    "    highlight_lst,\n",
    "    highlight_lst_2_=None,\n",
    "    source_col=\"node_a\",\n",
    "    target_col=\"node_b\",\n",
    "    weight_col=\"weight\",\n",
    "    weight_=800,\n",
    "    height_=800,\n",
    "):\n",
    "    # Create a directed graph\n",
    "    Gt = nx.from_pandas_edgelist(\n",
    "        df,\n",
    "        source=source_col,\n",
    "        target=target_col,\n",
    "        edge_attr=weight_col,\n",
    "        create_using=nx.DiGraph(),\n",
    "    )\n",
    "\n",
    "    # Generate 2D positions for nodes\n",
    "    pos = nx.spring_layout(Gt, weight=weight_col)\n",
    "\n",
    "    # Extract node and edge positions\n",
    "    edge_x = []\n",
    "    edge_y = []\n",
    "    edge_text = []  # List to hold weight information for hover\n",
    "    for edge in Gt.edges(data=True):\n",
    "        x0, y0 = pos[edge[0]]\n",
    "        x1, y1 = pos[edge[1]]\n",
    "        edge_x.extend([x0, x1, None])\n",
    "        edge_y.extend([y0, y1, None])\n",
    "        edge_text.append(f\"weight: {round(edge[2][weight_col], 2)}\")\n",
    "\n",
    "    node_x = [pos[node][0] for node in Gt.nodes()]\n",
    "    node_y = [pos[node][1] for node in Gt.nodes()]\n",
    "\n",
    "    # Determine node colors based on the DataFrame\n",
    "    node_colors = []\n",
    "    for node in Gt.nodes():\n",
    "        if node in highlight_lst:\n",
    "            node_colors.append(\"yellowgreen\")  # True condition\n",
    "        elif highlight_lst_2_ and node in highlight_lst_2_:\n",
    "            node_colors.append(\"dodgerblue\")  # False condition\n",
    "        else:\n",
    "            node_colors.append(\"salmon\")\n",
    "\n",
    "    # Create Plotly figure\n",
    "    fig = go.Figure()\n",
    "\n",
    "    # Add edges\n",
    "    fig.add_trace(\n",
    "        go.Scatter(\n",
    "            x=edge_x,\n",
    "            y=edge_y,\n",
    "            mode=\"lines\",\n",
    "            line=dict(color=\"black\", width=2),\n",
    "            hoverinfo=\"text\",\n",
    "            text=edge_text,  # Add edge weights to hover info\n",
    "        )\n",
    "    )\n",
    "\n",
    "    # Add nodes\n",
    "    fig.add_trace(\n",
    "        go.Scatter(\n",
    "            x=node_x,\n",
    "            y=node_y,\n",
    "            mode=\"markers\",\n",
    "            marker=dict(size=10, color=node_colors, line=dict(width=1, color=\"gray\")),\n",
    "            text=list(Gt.nodes()),  # Show node labels\n",
    "            hoverinfo=\"text\",\n",
    "        )\n",
    "    )\n",
    "\n",
    "    # Update layout\n",
    "    fig.update_layout(\n",
    "        showlegend=False,\n",
    "        width=weight_,\n",
    "        height=height_,\n",
    "        xaxis=dict(showgrid=True, zeroline=False),\n",
    "        yaxis=dict(showgrid=False, zeroline=False),\n",
    "        # plot_bgcolor=\"lightgray\",\n",
    "        title=\"Community Visualization\",\n",
    "    )\n",
    "\n",
    "    # Show the plot\n",
    "    fig.show()"
   ]
  },
  {
   "cell_type": "code",
   "execution_count": 269,
   "metadata": {},
   "outputs": [
    {
     "data": {
      "application/vnd.plotly.v1+json": {
       "config": {
        "plotlyServerURL": "https://plot.ly"
       },
       "data": [
        {
         "hoverinfo": "text",
         "line": {
          "color": "black",
          "width": 2
         },
         "mode": "lines",
         "text": [
          "weight: 0.0",
          "weight: 0.0",
          "weight: 0.0",
          "weight: 0.01",
          "weight: 0.0",
          "weight: 0.0",
          "weight: 0.0",
          "weight: 0.0",
          "weight: 0.01",
          "weight: 0.0",
          "weight: 0.0",
          "weight: 0.0",
          "weight: 0.0",
          "weight: 0.0",
          "weight: 0.0",
          "weight: 0.0",
          "weight: 0.0",
          "weight: 0.0",
          "weight: 0.0",
          "weight: 0.0",
          "weight: 0.0",
          "weight: 0.0",
          "weight: 0.0",
          "weight: 0.0",
          "weight: 0.0",
          "weight: 0.0",
          "weight: 0.0",
          "weight: 0.03",
          "weight: 0.0",
          "weight: 0.0",
          "weight: 0.0",
          "weight: 0.0",
          "weight: 0.0",
          "weight: 0.01",
          "weight: 0.0",
          "weight: 0.0",
          "weight: 0.0",
          "weight: 0.0",
          "weight: 0.01",
          "weight: 0.0",
          "weight: 0.0"
         ],
         "type": "scatter",
         "x": [
          -0.1809010427476485,
          -0.2472721208723054,
          null,
          -0.2472721208723054,
          0.8333457054452322,
          null,
          -0.2472721208723054,
          -0.7785729635463521,
          null,
          0.3199704447252582,
          -0.030038653071504863,
          null,
          -0.030038653071504863,
          0.847414301647037,
          null,
          -0.030038653071504863,
          0.19929540671465726,
          null,
          -0.030038653071504863,
          0.6468917735924387,
          null,
          -0.030038653071504863,
          -0.8602214532426855,
          null,
          -0.030038653071504863,
          -0.4203279471792559,
          null,
          -0.030038653071504863,
          -0.8531733482744324,
          null,
          -0.030038653071504863,
          0.8860196104297647,
          null,
          -0.8533863285694685,
          -0.2472721208723054,
          null,
          0.04874054891404132,
          -0.030038653071504863,
          null,
          0.19612738143781122,
          -0.030038653071504863,
          null,
          0.19612738143781122,
          -0.2472721208723054,
          null,
          -0.3100611916378158,
          -0.2472721208723054,
          null,
          -0.5822220100741846,
          -0.030038653071504863,
          null,
          0.1547606029823353,
          0.08904933473647544,
          null,
          0.08904933473647544,
          0.3814287573542811,
          null,
          0.08904933473647544,
          -0.8709378761045765,
          null,
          0.08904933473647544,
          0.941248036288398,
          null,
          0.08904933473647544,
          -0.5920371853137675,
          null,
          0.08904933473647544,
          0.9630010220417866,
          null,
          0.941248036288398,
          -0.2472721208723054,
          null,
          -0.6738961657847528,
          -0.2472721208723054,
          null,
          0.5098567122956017,
          -0.2472721208723054,
          null,
          -0.6049794421314881,
          -0.2472721208723054,
          null,
          -0.08453321983687516,
          -0.2472721208723054,
          null,
          -0.8483322952261938,
          -0.2472721208723054,
          null,
          0.9838374925462283,
          -0.2472721208723054,
          null,
          0.636421563031505,
          -0.2472721208723054,
          null,
          0.5531115896788226,
          -0.2472721208723054,
          null,
          -0.03813933839186186,
          -0.2472721208723054,
          null,
          -0.015017948073365173,
          -0.2472721208723054,
          null,
          -0.7613057899572044,
          -0.2472721208723054,
          null,
          -0.18908913489802054,
          -0.2472721208723054,
          null,
          0.902459434414651,
          -0.2472721208723054,
          null,
          0.2796060350709031,
          -0.2472721208723054,
          null,
          -0.44753894002876193,
          -0.2472721208723054,
          null,
          0.42017561525903013,
          -0.2472721208723054,
          null,
          -0.5507769736437362,
          -0.2472721208723054,
          null
         ],
         "y": [
          0.8499160267303318,
          -0.7496204711605917,
          null,
          -0.7496204711605917,
          -0.5311236017566793,
          null,
          -0.7496204711605917,
          -0.429996826095307,
          null,
          0.29613933483175564,
          0.18567845630570898,
          null,
          0.18567845630570898,
          0.2804563725377582,
          null,
          0.18567845630570898,
          1,
          null,
          0.18567845630570898,
          0.7467691793400119,
          null,
          0.18567845630570898,
          -0.17948872537199945,
          null,
          0.18567845630570898,
          0.8675879458082556,
          null,
          0.18567845630570898,
          0.3226361088636895,
          null,
          0.18567845630570898,
          -0.19195112059507632,
          null,
          0.41859004282479045,
          -0.7496204711605917,
          null,
          0.920958894115274,
          0.18567845630570898,
          null,
          0.4337387387915654,
          0.18567845630570898,
          null,
          0.4337387387915654,
          -0.7496204711605917,
          null,
          0.7710680155740031,
          -0.7496204711605917,
          null,
          -0.5205146391126482,
          0.18567845630570898,
          null,
          -0.8134893483787771,
          -0.16864648070808805,
          null,
          -0.16864648070808805,
          0.9105834793232686,
          null,
          -0.16864648070808805,
          0.17168131581809842,
          null,
          -0.16864648070808805,
          0.32166115636397996,
          null,
          -0.16864648070808805,
          0.622312021309702,
          null,
          -0.16864648070808805,
          -0.04455430116685976,
          null,
          0.32166115636397996,
          -0.7496204711605917,
          null,
          -0.3242294826248221,
          -0.7496204711605917,
          null,
          0.3175845448684897,
          -0.7496204711605917,
          null,
          0.7074013787070689,
          -0.7496204711605917,
          null,
          -0.6846347706686291,
          -0.7496204711605917,
          null,
          -0.07267219138525609,
          -0.7496204711605917,
          null,
          0.04933219956668652,
          -0.7496204711605917,
          null,
          -0.5685911442023855,
          -0.7496204711605917,
          null,
          -0.6927253331359279,
          -0.7496204711605917,
          null,
          -0.8855053571985639,
          -0.7496204711605917,
          null,
          -0.17725130940271933,
          -0.7496204711605917,
          null,
          0.5271512597613498,
          -0.7496204711605917,
          null,
          -0.7081100496837078,
          -0.7496204711605917,
          null,
          -0.4143127085646701,
          -0.7496204711605917,
          null,
          -0.8886079024133738,
          -0.7496204711605917,
          null,
          -0.6858687736819363,
          -0.7496204711605917,
          null,
          -0.7753402761597512,
          -0.7496204711605917,
          null,
          -0.21401165797401966,
          -0.7496204711605917,
          null
         ]
        },
        {
         "hoverinfo": "text",
         "marker": {
          "color": [
           "salmon",
           "yellowgreen",
           "salmon",
           "yellowgreen",
           "salmon",
           "salmon",
           "salmon",
           "salmon",
           "salmon",
           "salmon",
           "yellowgreen",
           "salmon",
           "salmon",
           "salmon",
           "salmon",
           "salmon",
           "salmon",
           "salmon",
           "salmon",
           "salmon",
           "salmon",
           "salmon",
           "salmon",
           "salmon",
           "salmon",
           "salmon",
           "salmon",
           "salmon",
           "salmon",
           "salmon",
           "salmon",
           "salmon",
           "salmon",
           "salmon",
           "salmon",
           "salmon",
           "salmon",
           "salmon",
           "salmon",
           "salmon",
           "salmon",
           "salmon"
          ],
          "line": {
           "color": "gray",
           "width": 1
          },
          "size": 10
         },
         "mode": "markers",
         "text": [
          "0x007f8278e9b34cdb5e251d9c3845ffb8657de112",
          "0xe2303583c6018d46c4540d44e381af43c9491a8b",
          "0x016b72a2c5241d467a57947d5d34c518e612970a",
          "0x4d779580155c2e16abf0f541043e28156914b113",
          "0x043965188f75eab83b7bb7693c1de79fd24abd1e",
          "0x091ad9b6e8a517ddb84ac583ce2234aa78fa511d",
          "0x0c07e3f763122907b63d470805956131d95eb2ca",
          "0x137393f271f9fbb23ff6fe328e02d474553ddc89",
          "0x1b7dea5871e32cab199fd163eac92cfd7877e5fa",
          "0x220135a26047861bfbbc3e37e961630cdfb3b57e",
          "0x2916675b462ec4ca0df7f6b61a904928ab32537e",
          "0x77836c1368d3fc9f4d945800c6e4420bb8a11639",
          "0x9257e43de5bf01f91ef1fb9ed8d370b6fa782924",
          "0x95f9acc1fd7d1314f5cba1f3aea81749ac4097bc",
          "0x969cdf26d014d006deda9391ba269edbfd6f0278",
          "0xa29423d473e1738ce974066056ac698cf77e8834",
          "0x45528b3be4f9bf5d989dce98cb8bc1b22fd6dea2",
          "0x487a4468749e518555e6f5e413d72735982dffbc",
          "0x710a97c32c0976827588d5c9232adb535ccd10cd",
          "0x940f5fe211737feff2ddbd72bb740fd1eedd1813",
          "0xa1e071931114a8b4cee794987f049f867e8190b0",
          "0xa342feedb876f24daac812a383f2e8e8ceebf81d",
          "0xaee619d5af27657eafa58ae740786cf45131355d",
          "0xbbb6cfabec33fd437e83aeddc0c1ec10f1da7cc7",
          "0xef2fe72aed530da2142f5b8202889dce83b158fa",
          "0x5234e060e9203e89d90cc29470004fffbf1e1b04",
          "0x621411a54e2a0d083498182c1e2bafabc8cbf4b7",
          "0x68d2a65204590aa8115ab30ebc4235aace3a656e",
          "0x6e26ef4ec047db322e19f4c5f37cd8599c8d3e61",
          "0x7157553bf87df374059659ec8d775036d1e604ef",
          "0x785e8a0f62bf947ddd995cff0e4a333265bae61a",
          "0x858a418b6ff8ccb1371ed667aeda23916c604e8d",
          "0xba6b77ba196e0e264d2faf0e03088885bd9cc863",
          "0xbf0eb13e96794be660e461026454ddaa92fcd477",
          "0xc1d80433ff8e0a619f6e34bebddc30eb9ed36287",
          "0xc9c1949b47b7a32512cf986c0287c24852dd9015",
          "0xd02632c068bb358496157f61bbd242cd7a1f349f",
          "0xd216fdaf5b4568a3c9400dc0694ef951bcc0cd0f",
          "0xd41ccce4e2b9db9ad8e953dbb0aeb758096ee53c",
          "0xe184a27ce4cdc8bc020152863d2c643af849cd88",
          "0xeefda0c295cc0abeec709f500c40bdafc2639cf6",
          "0xf3ae45f31617395c561986a45b7499b3c7c6b8ad"
         ],
         "type": "scatter",
         "x": [
          -0.1809010427476485,
          -0.2472721208723054,
          0.3199704447252582,
          -0.030038653071504863,
          -0.8533863285694685,
          0.04874054891404132,
          0.19612738143781122,
          -0.3100611916378158,
          -0.5822220100741846,
          0.1547606029823353,
          0.08904933473647544,
          0.3814287573542811,
          -0.8709378761045765,
          0.941248036288398,
          -0.5920371853137675,
          0.9630010220417866,
          -0.6738961657847528,
          0.5098567122956017,
          0.847414301647037,
          0.19929540671465726,
          0.6468917735924387,
          -0.8602214532426855,
          -0.4203279471792559,
          -0.8531733482744324,
          0.8860196104297647,
          -0.6049794421314881,
          -0.08453321983687516,
          -0.8483322952261938,
          0.9838374925462283,
          0.636421563031505,
          0.5531115896788226,
          -0.03813933839186186,
          -0.015017948073365173,
          -0.7613057899572044,
          -0.18908913489802054,
          0.902459434414651,
          0.2796060350709031,
          -0.44753894002876193,
          0.42017561525903013,
          -0.5507769736437362,
          0.8333457054452322,
          -0.7785729635463521
         ],
         "y": [
          0.8499160267303318,
          -0.7496204711605917,
          0.29613933483175564,
          0.18567845630570898,
          0.41859004282479045,
          0.920958894115274,
          0.4337387387915654,
          0.7710680155740031,
          -0.5205146391126482,
          -0.8134893483787771,
          -0.16864648070808805,
          0.9105834793232686,
          0.17168131581809842,
          0.32166115636397996,
          0.622312021309702,
          -0.04455430116685976,
          -0.3242294826248221,
          0.3175845448684897,
          0.2804563725377582,
          1,
          0.7467691793400119,
          -0.17948872537199945,
          0.8675879458082556,
          0.3226361088636895,
          -0.19195112059507632,
          0.7074013787070689,
          -0.6846347706686291,
          -0.07267219138525609,
          0.04933219956668652,
          -0.5685911442023855,
          -0.6927253331359279,
          -0.8855053571985639,
          -0.17725130940271933,
          0.5271512597613498,
          -0.7081100496837078,
          -0.4143127085646701,
          -0.8886079024133738,
          -0.6858687736819363,
          -0.7753402761597512,
          -0.21401165797401966,
          -0.5311236017566793,
          -0.429996826095307
         ]
        }
       ],
       "layout": {
        "height": 500,
        "showlegend": false,
        "template": {
         "data": {
          "bar": [
           {
            "error_x": {
             "color": "#2a3f5f"
            },
            "error_y": {
             "color": "#2a3f5f"
            },
            "marker": {
             "line": {
              "color": "#E5ECF6",
              "width": 0.5
             },
             "pattern": {
              "fillmode": "overlay",
              "size": 10,
              "solidity": 0.2
             }
            },
            "type": "bar"
           }
          ],
          "barpolar": [
           {
            "marker": {
             "line": {
              "color": "#E5ECF6",
              "width": 0.5
             },
             "pattern": {
              "fillmode": "overlay",
              "size": 10,
              "solidity": 0.2
             }
            },
            "type": "barpolar"
           }
          ],
          "carpet": [
           {
            "aaxis": {
             "endlinecolor": "#2a3f5f",
             "gridcolor": "white",
             "linecolor": "white",
             "minorgridcolor": "white",
             "startlinecolor": "#2a3f5f"
            },
            "baxis": {
             "endlinecolor": "#2a3f5f",
             "gridcolor": "white",
             "linecolor": "white",
             "minorgridcolor": "white",
             "startlinecolor": "#2a3f5f"
            },
            "type": "carpet"
           }
          ],
          "choropleth": [
           {
            "colorbar": {
             "outlinewidth": 0,
             "ticks": ""
            },
            "type": "choropleth"
           }
          ],
          "contour": [
           {
            "colorbar": {
             "outlinewidth": 0,
             "ticks": ""
            },
            "colorscale": [
             [
              0,
              "#0d0887"
             ],
             [
              0.1111111111111111,
              "#46039f"
             ],
             [
              0.2222222222222222,
              "#7201a8"
             ],
             [
              0.3333333333333333,
              "#9c179e"
             ],
             [
              0.4444444444444444,
              "#bd3786"
             ],
             [
              0.5555555555555556,
              "#d8576b"
             ],
             [
              0.6666666666666666,
              "#ed7953"
             ],
             [
              0.7777777777777778,
              "#fb9f3a"
             ],
             [
              0.8888888888888888,
              "#fdca26"
             ],
             [
              1,
              "#f0f921"
             ]
            ],
            "type": "contour"
           }
          ],
          "contourcarpet": [
           {
            "colorbar": {
             "outlinewidth": 0,
             "ticks": ""
            },
            "type": "contourcarpet"
           }
          ],
          "heatmap": [
           {
            "colorbar": {
             "outlinewidth": 0,
             "ticks": ""
            },
            "colorscale": [
             [
              0,
              "#0d0887"
             ],
             [
              0.1111111111111111,
              "#46039f"
             ],
             [
              0.2222222222222222,
              "#7201a8"
             ],
             [
              0.3333333333333333,
              "#9c179e"
             ],
             [
              0.4444444444444444,
              "#bd3786"
             ],
             [
              0.5555555555555556,
              "#d8576b"
             ],
             [
              0.6666666666666666,
              "#ed7953"
             ],
             [
              0.7777777777777778,
              "#fb9f3a"
             ],
             [
              0.8888888888888888,
              "#fdca26"
             ],
             [
              1,
              "#f0f921"
             ]
            ],
            "type": "heatmap"
           }
          ],
          "heatmapgl": [
           {
            "colorbar": {
             "outlinewidth": 0,
             "ticks": ""
            },
            "colorscale": [
             [
              0,
              "#0d0887"
             ],
             [
              0.1111111111111111,
              "#46039f"
             ],
             [
              0.2222222222222222,
              "#7201a8"
             ],
             [
              0.3333333333333333,
              "#9c179e"
             ],
             [
              0.4444444444444444,
              "#bd3786"
             ],
             [
              0.5555555555555556,
              "#d8576b"
             ],
             [
              0.6666666666666666,
              "#ed7953"
             ],
             [
              0.7777777777777778,
              "#fb9f3a"
             ],
             [
              0.8888888888888888,
              "#fdca26"
             ],
             [
              1,
              "#f0f921"
             ]
            ],
            "type": "heatmapgl"
           }
          ],
          "histogram": [
           {
            "marker": {
             "pattern": {
              "fillmode": "overlay",
              "size": 10,
              "solidity": 0.2
             }
            },
            "type": "histogram"
           }
          ],
          "histogram2d": [
           {
            "colorbar": {
             "outlinewidth": 0,
             "ticks": ""
            },
            "colorscale": [
             [
              0,
              "#0d0887"
             ],
             [
              0.1111111111111111,
              "#46039f"
             ],
             [
              0.2222222222222222,
              "#7201a8"
             ],
             [
              0.3333333333333333,
              "#9c179e"
             ],
             [
              0.4444444444444444,
              "#bd3786"
             ],
             [
              0.5555555555555556,
              "#d8576b"
             ],
             [
              0.6666666666666666,
              "#ed7953"
             ],
             [
              0.7777777777777778,
              "#fb9f3a"
             ],
             [
              0.8888888888888888,
              "#fdca26"
             ],
             [
              1,
              "#f0f921"
             ]
            ],
            "type": "histogram2d"
           }
          ],
          "histogram2dcontour": [
           {
            "colorbar": {
             "outlinewidth": 0,
             "ticks": ""
            },
            "colorscale": [
             [
              0,
              "#0d0887"
             ],
             [
              0.1111111111111111,
              "#46039f"
             ],
             [
              0.2222222222222222,
              "#7201a8"
             ],
             [
              0.3333333333333333,
              "#9c179e"
             ],
             [
              0.4444444444444444,
              "#bd3786"
             ],
             [
              0.5555555555555556,
              "#d8576b"
             ],
             [
              0.6666666666666666,
              "#ed7953"
             ],
             [
              0.7777777777777778,
              "#fb9f3a"
             ],
             [
              0.8888888888888888,
              "#fdca26"
             ],
             [
              1,
              "#f0f921"
             ]
            ],
            "type": "histogram2dcontour"
           }
          ],
          "mesh3d": [
           {
            "colorbar": {
             "outlinewidth": 0,
             "ticks": ""
            },
            "type": "mesh3d"
           }
          ],
          "parcoords": [
           {
            "line": {
             "colorbar": {
              "outlinewidth": 0,
              "ticks": ""
             }
            },
            "type": "parcoords"
           }
          ],
          "pie": [
           {
            "automargin": true,
            "type": "pie"
           }
          ],
          "scatter": [
           {
            "fillpattern": {
             "fillmode": "overlay",
             "size": 10,
             "solidity": 0.2
            },
            "type": "scatter"
           }
          ],
          "scatter3d": [
           {
            "line": {
             "colorbar": {
              "outlinewidth": 0,
              "ticks": ""
             }
            },
            "marker": {
             "colorbar": {
              "outlinewidth": 0,
              "ticks": ""
             }
            },
            "type": "scatter3d"
           }
          ],
          "scattercarpet": [
           {
            "marker": {
             "colorbar": {
              "outlinewidth": 0,
              "ticks": ""
             }
            },
            "type": "scattercarpet"
           }
          ],
          "scattergeo": [
           {
            "marker": {
             "colorbar": {
              "outlinewidth": 0,
              "ticks": ""
             }
            },
            "type": "scattergeo"
           }
          ],
          "scattergl": [
           {
            "marker": {
             "colorbar": {
              "outlinewidth": 0,
              "ticks": ""
             }
            },
            "type": "scattergl"
           }
          ],
          "scattermapbox": [
           {
            "marker": {
             "colorbar": {
              "outlinewidth": 0,
              "ticks": ""
             }
            },
            "type": "scattermapbox"
           }
          ],
          "scatterpolar": [
           {
            "marker": {
             "colorbar": {
              "outlinewidth": 0,
              "ticks": ""
             }
            },
            "type": "scatterpolar"
           }
          ],
          "scatterpolargl": [
           {
            "marker": {
             "colorbar": {
              "outlinewidth": 0,
              "ticks": ""
             }
            },
            "type": "scatterpolargl"
           }
          ],
          "scatterternary": [
           {
            "marker": {
             "colorbar": {
              "outlinewidth": 0,
              "ticks": ""
             }
            },
            "type": "scatterternary"
           }
          ],
          "surface": [
           {
            "colorbar": {
             "outlinewidth": 0,
             "ticks": ""
            },
            "colorscale": [
             [
              0,
              "#0d0887"
             ],
             [
              0.1111111111111111,
              "#46039f"
             ],
             [
              0.2222222222222222,
              "#7201a8"
             ],
             [
              0.3333333333333333,
              "#9c179e"
             ],
             [
              0.4444444444444444,
              "#bd3786"
             ],
             [
              0.5555555555555556,
              "#d8576b"
             ],
             [
              0.6666666666666666,
              "#ed7953"
             ],
             [
              0.7777777777777778,
              "#fb9f3a"
             ],
             [
              0.8888888888888888,
              "#fdca26"
             ],
             [
              1,
              "#f0f921"
             ]
            ],
            "type": "surface"
           }
          ],
          "table": [
           {
            "cells": {
             "fill": {
              "color": "#EBF0F8"
             },
             "line": {
              "color": "white"
             }
            },
            "header": {
             "fill": {
              "color": "#C8D4E3"
             },
             "line": {
              "color": "white"
             }
            },
            "type": "table"
           }
          ]
         },
         "layout": {
          "annotationdefaults": {
           "arrowcolor": "#2a3f5f",
           "arrowhead": 0,
           "arrowwidth": 1
          },
          "autotypenumbers": "strict",
          "coloraxis": {
           "colorbar": {
            "outlinewidth": 0,
            "ticks": ""
           }
          },
          "colorscale": {
           "diverging": [
            [
             0,
             "#8e0152"
            ],
            [
             0.1,
             "#c51b7d"
            ],
            [
             0.2,
             "#de77ae"
            ],
            [
             0.3,
             "#f1b6da"
            ],
            [
             0.4,
             "#fde0ef"
            ],
            [
             0.5,
             "#f7f7f7"
            ],
            [
             0.6,
             "#e6f5d0"
            ],
            [
             0.7,
             "#b8e186"
            ],
            [
             0.8,
             "#7fbc41"
            ],
            [
             0.9,
             "#4d9221"
            ],
            [
             1,
             "#276419"
            ]
           ],
           "sequential": [
            [
             0,
             "#0d0887"
            ],
            [
             0.1111111111111111,
             "#46039f"
            ],
            [
             0.2222222222222222,
             "#7201a8"
            ],
            [
             0.3333333333333333,
             "#9c179e"
            ],
            [
             0.4444444444444444,
             "#bd3786"
            ],
            [
             0.5555555555555556,
             "#d8576b"
            ],
            [
             0.6666666666666666,
             "#ed7953"
            ],
            [
             0.7777777777777778,
             "#fb9f3a"
            ],
            [
             0.8888888888888888,
             "#fdca26"
            ],
            [
             1,
             "#f0f921"
            ]
           ],
           "sequentialminus": [
            [
             0,
             "#0d0887"
            ],
            [
             0.1111111111111111,
             "#46039f"
            ],
            [
             0.2222222222222222,
             "#7201a8"
            ],
            [
             0.3333333333333333,
             "#9c179e"
            ],
            [
             0.4444444444444444,
             "#bd3786"
            ],
            [
             0.5555555555555556,
             "#d8576b"
            ],
            [
             0.6666666666666666,
             "#ed7953"
            ],
            [
             0.7777777777777778,
             "#fb9f3a"
            ],
            [
             0.8888888888888888,
             "#fdca26"
            ],
            [
             1,
             "#f0f921"
            ]
           ]
          },
          "colorway": [
           "#636efa",
           "#EF553B",
           "#00cc96",
           "#ab63fa",
           "#FFA15A",
           "#19d3f3",
           "#FF6692",
           "#B6E880",
           "#FF97FF",
           "#FECB52"
          ],
          "font": {
           "color": "#2a3f5f"
          },
          "geo": {
           "bgcolor": "white",
           "lakecolor": "white",
           "landcolor": "#E5ECF6",
           "showlakes": true,
           "showland": true,
           "subunitcolor": "white"
          },
          "hoverlabel": {
           "align": "left"
          },
          "hovermode": "closest",
          "mapbox": {
           "style": "light"
          },
          "paper_bgcolor": "white",
          "plot_bgcolor": "#E5ECF6",
          "polar": {
           "angularaxis": {
            "gridcolor": "white",
            "linecolor": "white",
            "ticks": ""
           },
           "bgcolor": "#E5ECF6",
           "radialaxis": {
            "gridcolor": "white",
            "linecolor": "white",
            "ticks": ""
           }
          },
          "scene": {
           "xaxis": {
            "backgroundcolor": "#E5ECF6",
            "gridcolor": "white",
            "gridwidth": 2,
            "linecolor": "white",
            "showbackground": true,
            "ticks": "",
            "zerolinecolor": "white"
           },
           "yaxis": {
            "backgroundcolor": "#E5ECF6",
            "gridcolor": "white",
            "gridwidth": 2,
            "linecolor": "white",
            "showbackground": true,
            "ticks": "",
            "zerolinecolor": "white"
           },
           "zaxis": {
            "backgroundcolor": "#E5ECF6",
            "gridcolor": "white",
            "gridwidth": 2,
            "linecolor": "white",
            "showbackground": true,
            "ticks": "",
            "zerolinecolor": "white"
           }
          },
          "shapedefaults": {
           "line": {
            "color": "#2a3f5f"
           }
          },
          "ternary": {
           "aaxis": {
            "gridcolor": "white",
            "linecolor": "white",
            "ticks": ""
           },
           "baxis": {
            "gridcolor": "white",
            "linecolor": "white",
            "ticks": ""
           },
           "bgcolor": "#E5ECF6",
           "caxis": {
            "gridcolor": "white",
            "linecolor": "white",
            "ticks": ""
           }
          },
          "title": {
           "x": 0.05
          },
          "xaxis": {
           "automargin": true,
           "gridcolor": "white",
           "linecolor": "white",
           "ticks": "",
           "title": {
            "standoff": 15
           },
           "zerolinecolor": "white",
           "zerolinewidth": 2
          },
          "yaxis": {
           "automargin": true,
           "gridcolor": "white",
           "linecolor": "white",
           "ticks": "",
           "title": {
            "standoff": 15
           },
           "zerolinecolor": "white",
           "zerolinewidth": 2
          }
         }
        },
        "title": {
         "text": "Community Visualization"
        },
        "width": 800,
        "xaxis": {
         "showgrid": true,
         "zeroline": false
        },
        "yaxis": {
         "showgrid": false,
         "zeroline": false
        }
       }
      }
     },
     "metadata": {},
     "output_type": "display_data"
    }
   ],
   "source": [
    "community_visualization_2d(\n",
    "    plot_community_df, oc_wallet_lst, weight_=800, height_=500\n",
    ")"
   ]
  },
  {
   "cell_type": "code",
   "execution_count": 44,
   "metadata": {},
   "outputs": [],
   "source": [
    "def community_visualization_3d(\n",
    "    df,\n",
    "    highlight_lst,\n",
    "    highlight_lst_2_=None,\n",
    "    source_col=\"node_a\",\n",
    "    target_col=\"node_b\",\n",
    "    weight_col=\"weight\",\n",
    "    weight_=800,\n",
    "    height_=800,\n",
    "):\n",
    "    # Create a directed graph\n",
    "    Gt = nx.from_pandas_edgelist(\n",
    "        df,\n",
    "        source=source_col,\n",
    "        target=target_col,\n",
    "        edge_attr=weight_col,\n",
    "        create_using=nx.DiGraph(),\n",
    "    )\n",
    "\n",
    "    # Generate 3D positions\n",
    "    pos = nx.spring_layout(Gt, dim=3, weight=weight_col)\n",
    "\n",
    "    # Extract node and edge positions\n",
    "    edge_x = []\n",
    "    edge_y = []\n",
    "    edge_z = []\n",
    "    edge_text = []  # List to hold weight information for hover\n",
    "    for edge in Gt.edges(data=True):\n",
    "        x0, y0, z0 = pos[edge[0]]\n",
    "        x1, y1, z1 = pos[edge[1]]\n",
    "        edge_x.extend([x0, x1, None])\n",
    "        edge_y.extend([y0, y1, None])\n",
    "        edge_z.extend([z0, z1, None])\n",
    "        edge_text.append(f\"weight: {edge[2][weight_col]}\")\n",
    "\n",
    "    node_x = [pos[node][0] for node in Gt.nodes()]\n",
    "    node_y = [pos[node][1] for node in Gt.nodes()]\n",
    "    node_z = [pos[node][2] for node in Gt.nodes()]\n",
    "\n",
    "    # Determine node colors based on the DataFrame\n",
    "    node_colors = []\n",
    "    for node in Gt.nodes():\n",
    "        if node in highlight_lst:\n",
    "            node_colors.append(\"yellowgreen\")  # True condition\n",
    "        elif highlight_lst_2_ and node in highlight_lst_2_:\n",
    "            node_colors.append(\"dodgerblue\")  # False condition\n",
    "        else:\n",
    "            node_colors.append(\"salmon\")\n",
    "\n",
    "    # Create Plotly figure\n",
    "    fig = go.Figure()\n",
    "\n",
    "    # Add edges\n",
    "    fig.add_trace(\n",
    "        go.Scatter3d(\n",
    "            x=edge_x,\n",
    "            y=edge_y,\n",
    "            z=edge_z,\n",
    "            mode=\"lines\",\n",
    "            line=dict(color=\"black\", width=2),\n",
    "            text=edge_text,\n",
    "            hoverinfo=\"text\",\n",
    "        )\n",
    "    )\n",
    "\n",
    "    # Add nodes\n",
    "    fig.add_trace(\n",
    "        go.Scatter3d(\n",
    "            x=node_x,\n",
    "            y=node_y,\n",
    "            z=node_z,\n",
    "            mode=\"markers\",\n",
    "            marker=dict(size=5, color=node_colors),\n",
    "            text=list(Gt.nodes()),  # Show node labels on hover\n",
    "            hoverinfo=\"text\",\n",
    "            textfont=dict(size=5),\n",
    "            # hoverinfo=\"none\",\n",
    "        )\n",
    "    )\n",
    "\n",
    "    axis_setting = dict(\n",
    "        showbackground=True,\n",
    "        titlefont=dict(size=10),\n",
    "        tickfont=dict(size=10),\n",
    "    )\n",
    "    # Update layout\n",
    "    fig.update_layout(\n",
    "        showlegend=False,\n",
    "        width=weight_,\n",
    "        height=height_,\n",
    "        scene=dict(\n",
    "            xaxis=axis_setting,\n",
    "            yaxis=axis_setting,\n",
    "            zaxis=axis_setting,\n",
    "        ),\n",
    "    )\n",
    "\n",
    "    # Show the plot\n",
    "    fig.show()"
   ]
  },
  {
   "cell_type": "code",
   "execution_count": 272,
   "metadata": {},
   "outputs": [
    {
     "data": {
      "application/vnd.plotly.v1+json": {
       "config": {
        "plotlyServerURL": "https://plot.ly"
       },
       "data": [
        {
         "hoverinfo": "text",
         "line": {
          "color": "black",
          "width": 2
         },
         "mode": "lines",
         "text": [
          "weight: 0.001519756838905775",
          "weight: 0.004559270516717325",
          "weight: 0.00303951367781155",
          "weight: 0.007598784194528876",
          "weight: 0.001519756838905775",
          "weight: 0.00303951367781155",
          "weight: 0.00303951367781155",
          "weight: 0.001519756838905775",
          "weight: 0.0060790273556231",
          "weight: 0.001519756838905775",
          "weight: 0.001519756838905775",
          "weight: 0.001519756838905775",
          "weight: 0.001519756838905775",
          "weight: 0.001519756838905775",
          "weight: 0.001519756838905775",
          "weight: 0.001519756838905775",
          "weight: 0.001519756838905775",
          "weight: 0.001519756838905775",
          "weight: 0.001519756838905775",
          "weight: 0.001519756838905775",
          "weight: 0.001519756838905775",
          "weight: 0.001519756838905775",
          "weight: 0.004559270516717325",
          "weight: 0.001519756838905775",
          "weight: 0.00303951367781155",
          "weight: 0.00303951367781155",
          "weight: 0.001519756838905775",
          "weight: 0.030395136778115502",
          "weight: 0.00303951367781155",
          "weight: 0.001519756838905775",
          "weight: 0.001519756838905775",
          "weight: 0.001519756838905775",
          "weight: 0.001519756838905775",
          "weight: 0.0060790273556231",
          "weight: 0.001519756838905775",
          "weight: 0.001519756838905775",
          "weight: 0.001519756838905775",
          "weight: 0.001519756838905775",
          "weight: 0.0060790273556231",
          "weight: 0.001519756838905775",
          "weight: 0.00303951367781155"
         ],
         "type": "scatter3d",
         "x": [
          0.6781420362079745,
          -0.024872675834314507,
          null,
          -0.024872675834314507,
          -0.6773330337129065,
          null,
          -0.024872675834314507,
          0.32899156112210776,
          null,
          -0.10479142969093931,
          -0.23474782980307216,
          null,
          -0.23474782980307216,
          -0.49700883395212603,
          null,
          -0.23474782980307216,
          -0.3741231619933123,
          null,
          -0.23474782980307216,
          0.865369853648049,
          null,
          -0.23474782980307216,
          -0.4082553080030407,
          null,
          -0.23474782980307216,
          -0.9563358648008633,
          null,
          -0.23474782980307216,
          0.7785177122663423,
          null,
          -0.23474782980307216,
          -0.9278826806608251,
          null,
          -0.10846012622794345,
          -0.024872675834314507,
          null,
          0.6640015028854948,
          -0.23474782980307216,
          null,
          0.1784974638778124,
          -0.23474782980307216,
          null,
          0.1784974638778124,
          -0.024872675834314507,
          null,
          0.6054215324964128,
          -0.024872675834314507,
          null,
          0.8819678842694604,
          -0.23474782980307216,
          null,
          0.151242981600285,
          -0.28318262725748083,
          null,
          -0.28318262725748083,
          -0.057209814518683684,
          null,
          -0.28318262725748083,
          -0.8671830385718681,
          null,
          -0.28318262725748083,
          1,
          null,
          -0.28318262725748083,
          -0.5310292654608391,
          null,
          -0.28318262725748083,
          0.0398726125169665,
          null,
          1,
          -0.024872675834314507,
          null,
          0.8872145618607088,
          -0.024872675834314507,
          null,
          -0.22009828788939229,
          -0.024872675834314507,
          null,
          -0.5451069750035086,
          -0.024872675834314507,
          null,
          0.09375131186041256,
          -0.024872675834314507,
          null,
          0.11096415741789628,
          -0.024872675834314507,
          null,
          0.39120704816832225,
          -0.024872675834314507,
          null,
          0.7439650797819302,
          -0.024872675834314507,
          null,
          0.8521328485839148,
          -0.024872675834314507,
          null,
          -0.7433214640263757,
          -0.024872675834314507,
          null,
          0.04786304105294984,
          -0.024872675834314507,
          null,
          -0.5357987950873193,
          -0.024872675834314507,
          null,
          -0.060520916308055034,
          -0.024872675834314507,
          null,
          -0.5237440379928133,
          -0.024872675834314507,
          null,
          0.3626005678692669,
          -0.024872675834314507,
          null,
          -0.3434956057444353,
          -0.024872675834314507,
          null,
          0.15948214159537796,
          -0.024872675834314507,
          null,
          -0.7967041265415725,
          -0.024872675834314507,
          null
         ],
         "y": [
          -0.83667603901984,
          0.04153409022059301,
          null,
          0.04153409022059301,
          -0.5776959058630506,
          null,
          0.04153409022059301,
          0.20566194476021546,
          null,
          -0.7416831961095338,
          -0.15112042713696,
          null,
          -0.15112042713696,
          0.3881787277995824,
          null,
          -0.15112042713696,
          -0.17099422033353714,
          null,
          -0.15112042713696,
          -0.5451397003150976,
          null,
          -0.15112042713696,
          0.8222192361944936,
          null,
          -0.15112042713696,
          -0.3400012218332807,
          null,
          -0.15112042713696,
          -0.13813555351324086,
          null,
          -0.15112042713696,
          0.22129038995677916,
          null,
          -0.9624895878545257,
          0.04153409022059301,
          null,
          0.6515226622315505,
          -0.15112042713696,
          null,
          0.876717553512093,
          -0.15112042713696,
          null,
          0.876717553512093,
          0.04153409022059301,
          null,
          -0.5632419624420144,
          0.04153409022059301,
          null,
          0.3615632534832806,
          -0.15112042713696,
          null,
          -0.7763247488790601,
          -0.118034092205677,
          null,
          -0.118034092205677,
          0.9711104048789644,
          null,
          -0.118034092205677,
          0.07073029298377037,
          null,
          -0.118034092205677,
          -0.01719570938516856,
          null,
          -0.118034092205677,
          -0.6947207483505279,
          null,
          -0.118034092205677,
          -0.33962612335928494,
          null,
          -0.01719570938516856,
          0.04153409022059301,
          null,
          -0.16426817469701815,
          0.04153409022059301,
          null,
          -0.6808384339202695,
          0.04153409022059301,
          null,
          -0.12670204255739514,
          0.04153409022059301,
          null,
          0.3353453341072054,
          0.04153409022059301,
          null,
          0.5050174799663444,
          0.04153409022059301,
          null,
          0.7304257250247458,
          0.04153409022059301,
          null,
          -0.06893990949002525,
          0.04153409022059301,
          null,
          0.33947069968314514,
          0.04153409022059301,
          null,
          -0.7513578946562499,
          0.04153409022059301,
          null,
          0.11230040872727887,
          0.04153409022059301,
          null,
          0.8281226118370868,
          0.04153409022059301,
          null,
          0.6623163730725666,
          0.04153409022059301,
          null,
          0.3744801885197025,
          0.04153409022059301,
          null,
          -0.04106230489183609,
          0.04153409022059301,
          null,
          0.6463938152001337,
          0.04153409022059301,
          null,
          -0.7938066598659067,
          0.04153409022059301,
          null,
          0.4556534645199693,
          0.04153409022059301,
          null
         ],
         "z": [
          0.015439414068548825,
          -0.05318446145979667,
          null,
          -0.05318446145979667,
          -0.579999842376769,
          null,
          -0.05318446145979667,
          0.883984837344944,
          null,
          -0.2656538865298119,
          -0.08874988498125078,
          null,
          -0.08874988498125078,
          -0.8517966097079221,
          null,
          -0.08874988498125078,
          0.8934207164369303,
          null,
          -0.08874988498125078,
          -0.1758237903378883,
          null,
          -0.08874988498125078,
          -0.654622151069003,
          null,
          -0.08874988498125078,
          0.0975614283378044,
          null,
          -0.08874988498125078,
          -0.5362551944279692,
          null,
          -0.08874988498125078,
          0.19294612748140932,
          null,
          0.29332602450998646,
          -0.05318446145979667,
          null,
          -0.4316846790698359,
          -0.08874988498125078,
          null,
          -0.4295570607098428,
          -0.08874988498125078,
          null,
          -0.4295570607098428,
          -0.05318446145979667,
          null,
          0.6067063029932284,
          -0.05318446145979667,
          null,
          0.3822635663198824,
          -0.08874988498125078,
          null,
          -0.6260152311529783,
          0.2562984064029221,
          null,
          0.2562984064029221,
          0.20912103467114374,
          null,
          0.2562984064029221,
          0.6011897701088772,
          null,
          0.2562984064029221,
          -0.08263098457260125,
          null,
          0.2562984064029221,
          0.5285107793356573,
          null,
          0.2562984064029221,
          0.9530414511377284,
          null,
          -0.08263098457260125,
          -0.05318446145979667,
          null,
          0.30083308092267497,
          -0.05318446145979667,
          null,
          -0.6419274033650526,
          -0.05318446145979667,
          null,
          -0.9035800646764298,
          -0.05318446145979667,
          null,
          0.02348064130295339,
          -0.05318446145979667,
          null,
          -0.8152084692601246,
          -0.05318446145979667,
          null,
          0.5630352204533383,
          -0.05318446145979667,
          null,
          0.7709323962002946,
          -0.05318446145979667,
          null,
          -0.36683319150748595,
          -0.05318446145979667,
          null,
          -0.07056239008907679,
          -0.05318446145979667,
          null,
          -0.6936060752924436,
          -0.05318446145979667,
          null,
          -0.2116708151285343,
          -0.05318446145979667,
          null,
          0.7455670652115484,
          -0.05318446145979667,
          null,
          0.8150996002442796,
          -0.05318446145979667,
          null,
          -0.9525478850894646,
          -0.05318446145979667,
          null,
          0.12973263119310352,
          -0.05318446145979667,
          null,
          0.6313441749824377,
          -0.05318446145979667,
          null,
          -0.4619245988554127,
          -0.05318446145979667,
          null
         ]
        },
        {
         "hoverinfo": "text",
         "marker": {
          "color": [
           "salmon",
           "yellowgreen",
           "salmon",
           "yellowgreen",
           "salmon",
           "salmon",
           "salmon",
           "salmon",
           "salmon",
           "salmon",
           "yellowgreen",
           "salmon",
           "salmon",
           "salmon",
           "salmon",
           "salmon",
           "salmon",
           "salmon",
           "salmon",
           "salmon",
           "salmon",
           "salmon",
           "salmon",
           "salmon",
           "salmon",
           "salmon",
           "salmon",
           "salmon",
           "salmon",
           "salmon",
           "salmon",
           "salmon",
           "salmon",
           "salmon",
           "salmon",
           "salmon",
           "salmon",
           "salmon",
           "salmon",
           "salmon",
           "salmon",
           "salmon"
          ],
          "size": 5
         },
         "mode": "markers",
         "text": [
          "0x007f8278e9b34cdb5e251d9c3845ffb8657de112",
          "0xe2303583c6018d46c4540d44e381af43c9491a8b",
          "0x016b72a2c5241d467a57947d5d34c518e612970a",
          "0x4d779580155c2e16abf0f541043e28156914b113",
          "0x043965188f75eab83b7bb7693c1de79fd24abd1e",
          "0x091ad9b6e8a517ddb84ac583ce2234aa78fa511d",
          "0x0c07e3f763122907b63d470805956131d95eb2ca",
          "0x137393f271f9fbb23ff6fe328e02d474553ddc89",
          "0x1b7dea5871e32cab199fd163eac92cfd7877e5fa",
          "0x220135a26047861bfbbc3e37e961630cdfb3b57e",
          "0x2916675b462ec4ca0df7f6b61a904928ab32537e",
          "0x77836c1368d3fc9f4d945800c6e4420bb8a11639",
          "0x9257e43de5bf01f91ef1fb9ed8d370b6fa782924",
          "0x95f9acc1fd7d1314f5cba1f3aea81749ac4097bc",
          "0x969cdf26d014d006deda9391ba269edbfd6f0278",
          "0xa29423d473e1738ce974066056ac698cf77e8834",
          "0x45528b3be4f9bf5d989dce98cb8bc1b22fd6dea2",
          "0x487a4468749e518555e6f5e413d72735982dffbc",
          "0x710a97c32c0976827588d5c9232adb535ccd10cd",
          "0x940f5fe211737feff2ddbd72bb740fd1eedd1813",
          "0xa1e071931114a8b4cee794987f049f867e8190b0",
          "0xa342feedb876f24daac812a383f2e8e8ceebf81d",
          "0xaee619d5af27657eafa58ae740786cf45131355d",
          "0xbbb6cfabec33fd437e83aeddc0c1ec10f1da7cc7",
          "0xef2fe72aed530da2142f5b8202889dce83b158fa",
          "0x5234e060e9203e89d90cc29470004fffbf1e1b04",
          "0x621411a54e2a0d083498182c1e2bafabc8cbf4b7",
          "0x68d2a65204590aa8115ab30ebc4235aace3a656e",
          "0x6e26ef4ec047db322e19f4c5f37cd8599c8d3e61",
          "0x7157553bf87df374059659ec8d775036d1e604ef",
          "0x785e8a0f62bf947ddd995cff0e4a333265bae61a",
          "0x858a418b6ff8ccb1371ed667aeda23916c604e8d",
          "0xba6b77ba196e0e264d2faf0e03088885bd9cc863",
          "0xbf0eb13e96794be660e461026454ddaa92fcd477",
          "0xc1d80433ff8e0a619f6e34bebddc30eb9ed36287",
          "0xc9c1949b47b7a32512cf986c0287c24852dd9015",
          "0xd02632c068bb358496157f61bbd242cd7a1f349f",
          "0xd216fdaf5b4568a3c9400dc0694ef951bcc0cd0f",
          "0xd41ccce4e2b9db9ad8e953dbb0aeb758096ee53c",
          "0xe184a27ce4cdc8bc020152863d2c643af849cd88",
          "0xeefda0c295cc0abeec709f500c40bdafc2639cf6",
          "0xf3ae45f31617395c561986a45b7499b3c7c6b8ad"
         ],
         "textfont": {
          "size": 5
         },
         "type": "scatter3d",
         "x": [
          0.6781420362079745,
          -0.024872675834314507,
          -0.10479142969093931,
          -0.23474782980307216,
          -0.10846012622794345,
          0.6640015028854948,
          0.1784974638778124,
          0.6054215324964128,
          0.8819678842694604,
          0.151242981600285,
          -0.28318262725748083,
          -0.057209814518683684,
          -0.8671830385718681,
          1,
          -0.5310292654608391,
          0.0398726125169665,
          0.8872145618607088,
          -0.22009828788939229,
          -0.49700883395212603,
          -0.3741231619933123,
          0.865369853648049,
          -0.4082553080030407,
          -0.9563358648008633,
          0.7785177122663423,
          -0.9278826806608251,
          -0.5451069750035086,
          0.09375131186041256,
          0.11096415741789628,
          0.39120704816832225,
          0.7439650797819302,
          0.8521328485839148,
          -0.7433214640263757,
          0.04786304105294984,
          -0.5357987950873193,
          -0.060520916308055034,
          -0.5237440379928133,
          0.3626005678692669,
          -0.3434956057444353,
          0.15948214159537796,
          -0.7967041265415725,
          -0.6773330337129065,
          0.32899156112210776
         ],
         "y": [
          -0.83667603901984,
          0.04153409022059301,
          -0.7416831961095338,
          -0.15112042713696,
          -0.9624895878545257,
          0.6515226622315505,
          0.876717553512093,
          -0.5632419624420144,
          0.3615632534832806,
          -0.7763247488790601,
          -0.118034092205677,
          0.9711104048789644,
          0.07073029298377037,
          -0.01719570938516856,
          -0.6947207483505279,
          -0.33962612335928494,
          -0.16426817469701815,
          -0.6808384339202695,
          0.3881787277995824,
          -0.17099422033353714,
          -0.5451397003150976,
          0.8222192361944936,
          -0.3400012218332807,
          -0.13813555351324086,
          0.22129038995677916,
          -0.12670204255739514,
          0.3353453341072054,
          0.5050174799663444,
          0.7304257250247458,
          -0.06893990949002525,
          0.33947069968314514,
          -0.7513578946562499,
          0.11230040872727887,
          0.8281226118370868,
          0.6623163730725666,
          0.3744801885197025,
          -0.04106230489183609,
          0.6463938152001337,
          -0.7938066598659067,
          0.4556534645199693,
          -0.5776959058630506,
          0.20566194476021546
         ],
         "z": [
          0.015439414068548825,
          -0.05318446145979667,
          -0.2656538865298119,
          -0.08874988498125078,
          0.29332602450998646,
          -0.4316846790698359,
          -0.4295570607098428,
          0.6067063029932284,
          0.3822635663198824,
          -0.6260152311529783,
          0.2562984064029221,
          0.20912103467114374,
          0.6011897701088772,
          -0.08263098457260125,
          0.5285107793356573,
          0.9530414511377284,
          0.30083308092267497,
          -0.6419274033650526,
          -0.8517966097079221,
          0.8934207164369303,
          -0.1758237903378883,
          -0.654622151069003,
          0.0975614283378044,
          -0.5362551944279692,
          0.19294612748140932,
          -0.9035800646764298,
          0.02348064130295339,
          -0.8152084692601246,
          0.5630352204533383,
          0.7709323962002946,
          -0.36683319150748595,
          -0.07056239008907679,
          -0.6936060752924436,
          -0.2116708151285343,
          0.7455670652115484,
          0.8150996002442796,
          -0.9525478850894646,
          0.12973263119310352,
          0.6313441749824377,
          -0.4619245988554127,
          -0.579999842376769,
          0.883984837344944
         ]
        }
       ],
       "layout": {
        "height": 600,
        "scene": {
         "xaxis": {
          "showbackground": true,
          "tickfont": {
           "size": 10
          },
          "title": {
           "font": {
            "size": 10
           }
          }
         },
         "yaxis": {
          "showbackground": true,
          "tickfont": {
           "size": 10
          },
          "title": {
           "font": {
            "size": 10
           }
          }
         },
         "zaxis": {
          "showbackground": true,
          "tickfont": {
           "size": 10
          },
          "title": {
           "font": {
            "size": 10
           }
          }
         }
        },
        "showlegend": false,
        "template": {
         "data": {
          "bar": [
           {
            "error_x": {
             "color": "#2a3f5f"
            },
            "error_y": {
             "color": "#2a3f5f"
            },
            "marker": {
             "line": {
              "color": "#E5ECF6",
              "width": 0.5
             },
             "pattern": {
              "fillmode": "overlay",
              "size": 10,
              "solidity": 0.2
             }
            },
            "type": "bar"
           }
          ],
          "barpolar": [
           {
            "marker": {
             "line": {
              "color": "#E5ECF6",
              "width": 0.5
             },
             "pattern": {
              "fillmode": "overlay",
              "size": 10,
              "solidity": 0.2
             }
            },
            "type": "barpolar"
           }
          ],
          "carpet": [
           {
            "aaxis": {
             "endlinecolor": "#2a3f5f",
             "gridcolor": "white",
             "linecolor": "white",
             "minorgridcolor": "white",
             "startlinecolor": "#2a3f5f"
            },
            "baxis": {
             "endlinecolor": "#2a3f5f",
             "gridcolor": "white",
             "linecolor": "white",
             "minorgridcolor": "white",
             "startlinecolor": "#2a3f5f"
            },
            "type": "carpet"
           }
          ],
          "choropleth": [
           {
            "colorbar": {
             "outlinewidth": 0,
             "ticks": ""
            },
            "type": "choropleth"
           }
          ],
          "contour": [
           {
            "colorbar": {
             "outlinewidth": 0,
             "ticks": ""
            },
            "colorscale": [
             [
              0,
              "#0d0887"
             ],
             [
              0.1111111111111111,
              "#46039f"
             ],
             [
              0.2222222222222222,
              "#7201a8"
             ],
             [
              0.3333333333333333,
              "#9c179e"
             ],
             [
              0.4444444444444444,
              "#bd3786"
             ],
             [
              0.5555555555555556,
              "#d8576b"
             ],
             [
              0.6666666666666666,
              "#ed7953"
             ],
             [
              0.7777777777777778,
              "#fb9f3a"
             ],
             [
              0.8888888888888888,
              "#fdca26"
             ],
             [
              1,
              "#f0f921"
             ]
            ],
            "type": "contour"
           }
          ],
          "contourcarpet": [
           {
            "colorbar": {
             "outlinewidth": 0,
             "ticks": ""
            },
            "type": "contourcarpet"
           }
          ],
          "heatmap": [
           {
            "colorbar": {
             "outlinewidth": 0,
             "ticks": ""
            },
            "colorscale": [
             [
              0,
              "#0d0887"
             ],
             [
              0.1111111111111111,
              "#46039f"
             ],
             [
              0.2222222222222222,
              "#7201a8"
             ],
             [
              0.3333333333333333,
              "#9c179e"
             ],
             [
              0.4444444444444444,
              "#bd3786"
             ],
             [
              0.5555555555555556,
              "#d8576b"
             ],
             [
              0.6666666666666666,
              "#ed7953"
             ],
             [
              0.7777777777777778,
              "#fb9f3a"
             ],
             [
              0.8888888888888888,
              "#fdca26"
             ],
             [
              1,
              "#f0f921"
             ]
            ],
            "type": "heatmap"
           }
          ],
          "heatmapgl": [
           {
            "colorbar": {
             "outlinewidth": 0,
             "ticks": ""
            },
            "colorscale": [
             [
              0,
              "#0d0887"
             ],
             [
              0.1111111111111111,
              "#46039f"
             ],
             [
              0.2222222222222222,
              "#7201a8"
             ],
             [
              0.3333333333333333,
              "#9c179e"
             ],
             [
              0.4444444444444444,
              "#bd3786"
             ],
             [
              0.5555555555555556,
              "#d8576b"
             ],
             [
              0.6666666666666666,
              "#ed7953"
             ],
             [
              0.7777777777777778,
              "#fb9f3a"
             ],
             [
              0.8888888888888888,
              "#fdca26"
             ],
             [
              1,
              "#f0f921"
             ]
            ],
            "type": "heatmapgl"
           }
          ],
          "histogram": [
           {
            "marker": {
             "pattern": {
              "fillmode": "overlay",
              "size": 10,
              "solidity": 0.2
             }
            },
            "type": "histogram"
           }
          ],
          "histogram2d": [
           {
            "colorbar": {
             "outlinewidth": 0,
             "ticks": ""
            },
            "colorscale": [
             [
              0,
              "#0d0887"
             ],
             [
              0.1111111111111111,
              "#46039f"
             ],
             [
              0.2222222222222222,
              "#7201a8"
             ],
             [
              0.3333333333333333,
              "#9c179e"
             ],
             [
              0.4444444444444444,
              "#bd3786"
             ],
             [
              0.5555555555555556,
              "#d8576b"
             ],
             [
              0.6666666666666666,
              "#ed7953"
             ],
             [
              0.7777777777777778,
              "#fb9f3a"
             ],
             [
              0.8888888888888888,
              "#fdca26"
             ],
             [
              1,
              "#f0f921"
             ]
            ],
            "type": "histogram2d"
           }
          ],
          "histogram2dcontour": [
           {
            "colorbar": {
             "outlinewidth": 0,
             "ticks": ""
            },
            "colorscale": [
             [
              0,
              "#0d0887"
             ],
             [
              0.1111111111111111,
              "#46039f"
             ],
             [
              0.2222222222222222,
              "#7201a8"
             ],
             [
              0.3333333333333333,
              "#9c179e"
             ],
             [
              0.4444444444444444,
              "#bd3786"
             ],
             [
              0.5555555555555556,
              "#d8576b"
             ],
             [
              0.6666666666666666,
              "#ed7953"
             ],
             [
              0.7777777777777778,
              "#fb9f3a"
             ],
             [
              0.8888888888888888,
              "#fdca26"
             ],
             [
              1,
              "#f0f921"
             ]
            ],
            "type": "histogram2dcontour"
           }
          ],
          "mesh3d": [
           {
            "colorbar": {
             "outlinewidth": 0,
             "ticks": ""
            },
            "type": "mesh3d"
           }
          ],
          "parcoords": [
           {
            "line": {
             "colorbar": {
              "outlinewidth": 0,
              "ticks": ""
             }
            },
            "type": "parcoords"
           }
          ],
          "pie": [
           {
            "automargin": true,
            "type": "pie"
           }
          ],
          "scatter": [
           {
            "fillpattern": {
             "fillmode": "overlay",
             "size": 10,
             "solidity": 0.2
            },
            "type": "scatter"
           }
          ],
          "scatter3d": [
           {
            "line": {
             "colorbar": {
              "outlinewidth": 0,
              "ticks": ""
             }
            },
            "marker": {
             "colorbar": {
              "outlinewidth": 0,
              "ticks": ""
             }
            },
            "type": "scatter3d"
           }
          ],
          "scattercarpet": [
           {
            "marker": {
             "colorbar": {
              "outlinewidth": 0,
              "ticks": ""
             }
            },
            "type": "scattercarpet"
           }
          ],
          "scattergeo": [
           {
            "marker": {
             "colorbar": {
              "outlinewidth": 0,
              "ticks": ""
             }
            },
            "type": "scattergeo"
           }
          ],
          "scattergl": [
           {
            "marker": {
             "colorbar": {
              "outlinewidth": 0,
              "ticks": ""
             }
            },
            "type": "scattergl"
           }
          ],
          "scattermapbox": [
           {
            "marker": {
             "colorbar": {
              "outlinewidth": 0,
              "ticks": ""
             }
            },
            "type": "scattermapbox"
           }
          ],
          "scatterpolar": [
           {
            "marker": {
             "colorbar": {
              "outlinewidth": 0,
              "ticks": ""
             }
            },
            "type": "scatterpolar"
           }
          ],
          "scatterpolargl": [
           {
            "marker": {
             "colorbar": {
              "outlinewidth": 0,
              "ticks": ""
             }
            },
            "type": "scatterpolargl"
           }
          ],
          "scatterternary": [
           {
            "marker": {
             "colorbar": {
              "outlinewidth": 0,
              "ticks": ""
             }
            },
            "type": "scatterternary"
           }
          ],
          "surface": [
           {
            "colorbar": {
             "outlinewidth": 0,
             "ticks": ""
            },
            "colorscale": [
             [
              0,
              "#0d0887"
             ],
             [
              0.1111111111111111,
              "#46039f"
             ],
             [
              0.2222222222222222,
              "#7201a8"
             ],
             [
              0.3333333333333333,
              "#9c179e"
             ],
             [
              0.4444444444444444,
              "#bd3786"
             ],
             [
              0.5555555555555556,
              "#d8576b"
             ],
             [
              0.6666666666666666,
              "#ed7953"
             ],
             [
              0.7777777777777778,
              "#fb9f3a"
             ],
             [
              0.8888888888888888,
              "#fdca26"
             ],
             [
              1,
              "#f0f921"
             ]
            ],
            "type": "surface"
           }
          ],
          "table": [
           {
            "cells": {
             "fill": {
              "color": "#EBF0F8"
             },
             "line": {
              "color": "white"
             }
            },
            "header": {
             "fill": {
              "color": "#C8D4E3"
             },
             "line": {
              "color": "white"
             }
            },
            "type": "table"
           }
          ]
         },
         "layout": {
          "annotationdefaults": {
           "arrowcolor": "#2a3f5f",
           "arrowhead": 0,
           "arrowwidth": 1
          },
          "autotypenumbers": "strict",
          "coloraxis": {
           "colorbar": {
            "outlinewidth": 0,
            "ticks": ""
           }
          },
          "colorscale": {
           "diverging": [
            [
             0,
             "#8e0152"
            ],
            [
             0.1,
             "#c51b7d"
            ],
            [
             0.2,
             "#de77ae"
            ],
            [
             0.3,
             "#f1b6da"
            ],
            [
             0.4,
             "#fde0ef"
            ],
            [
             0.5,
             "#f7f7f7"
            ],
            [
             0.6,
             "#e6f5d0"
            ],
            [
             0.7,
             "#b8e186"
            ],
            [
             0.8,
             "#7fbc41"
            ],
            [
             0.9,
             "#4d9221"
            ],
            [
             1,
             "#276419"
            ]
           ],
           "sequential": [
            [
             0,
             "#0d0887"
            ],
            [
             0.1111111111111111,
             "#46039f"
            ],
            [
             0.2222222222222222,
             "#7201a8"
            ],
            [
             0.3333333333333333,
             "#9c179e"
            ],
            [
             0.4444444444444444,
             "#bd3786"
            ],
            [
             0.5555555555555556,
             "#d8576b"
            ],
            [
             0.6666666666666666,
             "#ed7953"
            ],
            [
             0.7777777777777778,
             "#fb9f3a"
            ],
            [
             0.8888888888888888,
             "#fdca26"
            ],
            [
             1,
             "#f0f921"
            ]
           ],
           "sequentialminus": [
            [
             0,
             "#0d0887"
            ],
            [
             0.1111111111111111,
             "#46039f"
            ],
            [
             0.2222222222222222,
             "#7201a8"
            ],
            [
             0.3333333333333333,
             "#9c179e"
            ],
            [
             0.4444444444444444,
             "#bd3786"
            ],
            [
             0.5555555555555556,
             "#d8576b"
            ],
            [
             0.6666666666666666,
             "#ed7953"
            ],
            [
             0.7777777777777778,
             "#fb9f3a"
            ],
            [
             0.8888888888888888,
             "#fdca26"
            ],
            [
             1,
             "#f0f921"
            ]
           ]
          },
          "colorway": [
           "#636efa",
           "#EF553B",
           "#00cc96",
           "#ab63fa",
           "#FFA15A",
           "#19d3f3",
           "#FF6692",
           "#B6E880",
           "#FF97FF",
           "#FECB52"
          ],
          "font": {
           "color": "#2a3f5f"
          },
          "geo": {
           "bgcolor": "white",
           "lakecolor": "white",
           "landcolor": "#E5ECF6",
           "showlakes": true,
           "showland": true,
           "subunitcolor": "white"
          },
          "hoverlabel": {
           "align": "left"
          },
          "hovermode": "closest",
          "mapbox": {
           "style": "light"
          },
          "paper_bgcolor": "white",
          "plot_bgcolor": "#E5ECF6",
          "polar": {
           "angularaxis": {
            "gridcolor": "white",
            "linecolor": "white",
            "ticks": ""
           },
           "bgcolor": "#E5ECF6",
           "radialaxis": {
            "gridcolor": "white",
            "linecolor": "white",
            "ticks": ""
           }
          },
          "scene": {
           "xaxis": {
            "backgroundcolor": "#E5ECF6",
            "gridcolor": "white",
            "gridwidth": 2,
            "linecolor": "white",
            "showbackground": true,
            "ticks": "",
            "zerolinecolor": "white"
           },
           "yaxis": {
            "backgroundcolor": "#E5ECF6",
            "gridcolor": "white",
            "gridwidth": 2,
            "linecolor": "white",
            "showbackground": true,
            "ticks": "",
            "zerolinecolor": "white"
           },
           "zaxis": {
            "backgroundcolor": "#E5ECF6",
            "gridcolor": "white",
            "gridwidth": 2,
            "linecolor": "white",
            "showbackground": true,
            "ticks": "",
            "zerolinecolor": "white"
           }
          },
          "shapedefaults": {
           "line": {
            "color": "#2a3f5f"
           }
          },
          "ternary": {
           "aaxis": {
            "gridcolor": "white",
            "linecolor": "white",
            "ticks": ""
           },
           "baxis": {
            "gridcolor": "white",
            "linecolor": "white",
            "ticks": ""
           },
           "bgcolor": "#E5ECF6",
           "caxis": {
            "gridcolor": "white",
            "linecolor": "white",
            "ticks": ""
           }
          },
          "title": {
           "x": 0.05
          },
          "xaxis": {
           "automargin": true,
           "gridcolor": "white",
           "linecolor": "white",
           "ticks": "",
           "title": {
            "standoff": 15
           },
           "zerolinecolor": "white",
           "zerolinewidth": 2
          },
          "yaxis": {
           "automargin": true,
           "gridcolor": "white",
           "linecolor": "white",
           "ticks": "",
           "title": {
            "standoff": 15
           },
           "zerolinecolor": "white",
           "zerolinewidth": 2
          }
         }
        },
        "width": 600
       }
      }
     },
     "metadata": {},
     "output_type": "display_data"
    }
   ],
   "source": [
    "community_visualization_3d(plot_community_df, oc_wallet_lst, weight_=600, height_=600)"
   ]
  },
  {
   "cell_type": "markdown",
   "metadata": {},
   "source": [
    "# Get clustering variables"
   ]
  },
  {
   "cell_type": "markdown",
   "metadata": {},
   "source": [
    "## Community Data\n",
    "\n",
    "Calculate how many wallets each wallet has interacted with within the community"
   ]
  },
  {
   "cell_type": "code",
   "execution_count": 155,
   "metadata": {},
   "outputs": [],
   "source": [
    "def columns_item_sum(df_, cols=[\"node_a\", \"node_b\"], sum_col=\"tx_count\"):\n",
    "    all_elements = pd.concat(\n",
    "        [\n",
    "            df_[[cols[0], sum_col]].rename(columns={cols[0]: \"index\"}),\n",
    "            df_[[cols[1], sum_col]].rename(columns={cols[1]: \"index\"}),\n",
    "        ]\n",
    "    )\n",
    "\n",
    "    # Group by wallet and sum the transaction count\n",
    "    df_sum_ = all_elements.groupby(\"index\")[sum_col].sum().reset_index()\n",
    "    return df_sum_"
   ]
  },
  {
   "cell_type": "code",
   "execution_count": 156,
   "metadata": {},
   "outputs": [],
   "source": [
    "# def clustering_community_info(w_lst, weight_df_=weight_df, sum_col_=\"tx_count\"):\n",
    "#     w_set = set(w_lst)\n",
    "#     internal_weight_df = weight_df_[\n",
    "#         weight_df_[\"node_a\"].apply(w_set.__contains__) & weight_df_[\"node_b\"].apply(w_set.__contains__)\n",
    "#     ]\n",
    "\n",
    "#     # Count the number of wallets each wallet interacts with\n",
    "#     wallet_internal_tx_wallet_df = (\n",
    "#         internal_weight_df.groupby(\"node_a\")[\"node_b\"].nunique()\n",
    "#         .reset_index()\n",
    "#         .rename(columns={\"node_a\": \"wallet\", \"node_b\": \"commu_tx_wallets\"})\n",
    "#     )\n",
    "\n",
    "#     # Compute the sum of transactions for each wallet\n",
    "#     wallet_internal_tx_count_df = (\n",
    "#         internal_weight_df.groupby(\"node_a\")[sum_col_].sum()\n",
    "#         .reset_index()\n",
    "#         .rename(columns={\"node_a\": \"wallet\", sum_col_: \"commu_tx_count\"})\n",
    "#     )\n",
    "\n",
    "#     # merge the two dataframes\n",
    "#     wallet_internal_tx_wallet_df.set_index(\"wallet\", inplace=True)\n",
    "#     wallet_internal_tx_count_df.set_index(\"wallet\", inplace=True)\n",
    "\n",
    "#     wallet_internal_interaction_df = wallet_internal_tx_wallet_df.join(wallet_internal_tx_count_df)\n",
    "\n",
    "#     return wallet_internal_interaction_df"
   ]
  },
  {
   "cell_type": "code",
   "execution_count": 157,
   "metadata": {},
   "outputs": [],
   "source": [
    "def clustering_community_info(w_lst, weight_df_, sum_col_=\"tx_count\"):\n",
    "    w_set = set(w_lst)\n",
    "    # Filter rows where either node_a or node_b is in the wallet list\n",
    "    filtered_df = weight_df_[\n",
    "        weight_df_[\"node_a\"].isin(w_set) & weight_df_[\"node_b\"].isin(w_set)\n",
    "    ]\n",
    "\n",
    "    # Combine node_a and node_b into a unified wallet-centric view\n",
    "    wallet_interactions = pd.concat(\n",
    "        [\n",
    "            filtered_df[[\"node_a\", \"node_b\", sum_col_]].rename(\n",
    "                columns={\"node_a\": \"wallet\", \"node_b\": \"connected_wallet\"}\n",
    "            ),\n",
    "            filtered_df[[\"node_b\", \"node_a\", sum_col_]].rename(\n",
    "                columns={\"node_b\": \"wallet\", \"node_a\": \"connected_wallet\"}\n",
    "            ),\n",
    "        ]\n",
    "    )\n",
    "\n",
    "    # Group by wallet to calculate unique connected wallets and transaction sums\n",
    "    result = (\n",
    "        wallet_interactions.groupby(\"wallet\")\n",
    "        .agg(\n",
    "            commu_tx_wallets=(\"connected_wallet\", \"nunique\"),\n",
    "            commu_tx_count=(sum_col_, \"sum\"),\n",
    "        )\n",
    "        .reset_index()\n",
    "    )\n",
    "\n",
    "    return result.set_index(\"wallet\")"
   ]
  },
  {
   "cell_type": "code",
   "execution_count": 158,
   "metadata": {},
   "outputs": [
    {
     "name": "stdout",
     "output_type": "stream",
     "text": [
      "Community 0\n",
      "Community 1000\n",
      "Community 2000\n",
      "Community 3000\n",
      "Community 4000\n",
      "Community 5000\n",
      "Community 6000\n",
      "Community 7000\n",
      "Community 8000\n",
      "Community 9000\n",
      "Community 10000\n",
      "Community 11000\n",
      "Community 12000\n",
      "Community 13000\n",
      "Community 14000\n",
      "Community 15000\n",
      "Community 16000\n",
      "Community 17000\n"
     ]
    }
   ],
   "source": [
    "clustering_community_df = pd.DataFrame()\n",
    "for i, commu in enumerate(louvain_community_lst):\n",
    "    if len(commu) < 2:\n",
    "        continue\n",
    "    if i % 1000 == 0:\n",
    "        print(f\"Community {i}\")\n",
    "    commu_df = clustering_community_info(commu, weight_df_=weight_df, sum_col_=\"count\")\n",
    "    clustering_community_df = pd.concat([clustering_community_df, commu_df])"
   ]
  },
  {
   "cell_type": "code",
   "execution_count": 159,
   "metadata": {},
   "outputs": [
    {
     "data": {
      "text/html": [
       "<div>\n",
       "<style scoped>\n",
       "    .dataframe tbody tr th:only-of-type {\n",
       "        vertical-align: middle;\n",
       "    }\n",
       "\n",
       "    .dataframe tbody tr th {\n",
       "        vertical-align: top;\n",
       "    }\n",
       "\n",
       "    .dataframe thead th {\n",
       "        text-align: right;\n",
       "    }\n",
       "</style>\n",
       "<table border=\"1\" class=\"dataframe\">\n",
       "  <thead>\n",
       "    <tr style=\"text-align: right;\">\n",
       "      <th></th>\n",
       "      <th>commu_tx_wallets</th>\n",
       "      <th>commu_tx_count</th>\n",
       "    </tr>\n",
       "    <tr>\n",
       "      <th>wallet</th>\n",
       "      <th></th>\n",
       "      <th></th>\n",
       "    </tr>\n",
       "  </thead>\n",
       "  <tbody>\n",
       "    <tr>\n",
       "      <th>0x409535809ef4b1929e36f12bc49ac6985ed63af4</th>\n",
       "      <td>1</td>\n",
       "      <td>1</td>\n",
       "    </tr>\n",
       "    <tr>\n",
       "      <th>0x541f5fa207c9ede8bef26c510b922a893d5b1fde</th>\n",
       "      <td>1</td>\n",
       "      <td>1</td>\n",
       "    </tr>\n",
       "    <tr>\n",
       "      <th>0xc0f2182cd8f12f2811a23ba9c1710c2cd46b6899</th>\n",
       "      <td>1</td>\n",
       "      <td>1</td>\n",
       "    </tr>\n",
       "    <tr>\n",
       "      <th>0xc0b18d13bd0384a6ce02c225f032b646b3a77656</th>\n",
       "      <td>1</td>\n",
       "      <td>1</td>\n",
       "    </tr>\n",
       "    <tr>\n",
       "      <th>0xc29e6731cd2317c8957ab8bc72e06544aaa05143</th>\n",
       "      <td>1</td>\n",
       "      <td>1</td>\n",
       "    </tr>\n",
       "    <tr>\n",
       "      <th>...</th>\n",
       "      <td>...</td>\n",
       "      <td>...</td>\n",
       "    </tr>\n",
       "    <tr>\n",
       "      <th>0x34f66b62893969f155fbf4d512480a270ec71bcf</th>\n",
       "      <td>786</td>\n",
       "      <td>2014</td>\n",
       "    </tr>\n",
       "    <tr>\n",
       "      <th>0xf39fd6e51aad88f6f4ce6ab8827279cfffb92266</th>\n",
       "      <td>487</td>\n",
       "      <td>2667</td>\n",
       "    </tr>\n",
       "    <tr>\n",
       "      <th>0xd788a5fb4729e96fa236caae5959e11100554a88</th>\n",
       "      <td>1606</td>\n",
       "      <td>2798</td>\n",
       "    </tr>\n",
       "    <tr>\n",
       "      <th>0xdc0eba1d51f87131985aaee259eb66f86ccc4c52</th>\n",
       "      <td>2308</td>\n",
       "      <td>3004</td>\n",
       "    </tr>\n",
       "    <tr>\n",
       "      <th>0x3a27c991bca45620d96abf882ac545a295e35a9d</th>\n",
       "      <td>1517</td>\n",
       "      <td>3050</td>\n",
       "    </tr>\n",
       "  </tbody>\n",
       "</table>\n",
       "<p>143925 rows × 2 columns</p>\n",
       "</div>"
      ],
      "text/plain": [
       "                                            commu_tx_wallets  commu_tx_count\n",
       "wallet                                                                      \n",
       "0x409535809ef4b1929e36f12bc49ac6985ed63af4                 1               1\n",
       "0x541f5fa207c9ede8bef26c510b922a893d5b1fde                 1               1\n",
       "0xc0f2182cd8f12f2811a23ba9c1710c2cd46b6899                 1               1\n",
       "0xc0b18d13bd0384a6ce02c225f032b646b3a77656                 1               1\n",
       "0xc29e6731cd2317c8957ab8bc72e06544aaa05143                 1               1\n",
       "...                                                      ...             ...\n",
       "0x34f66b62893969f155fbf4d512480a270ec71bcf               786            2014\n",
       "0xf39fd6e51aad88f6f4ce6ab8827279cfffb92266               487            2667\n",
       "0xd788a5fb4729e96fa236caae5959e11100554a88              1606            2798\n",
       "0xdc0eba1d51f87131985aaee259eb66f86ccc4c52              2308            3004\n",
       "0x3a27c991bca45620d96abf882ac545a295e35a9d              1517            3050\n",
       "\n",
       "[143925 rows x 2 columns]"
      ]
     },
     "execution_count": 159,
     "metadata": {},
     "output_type": "execute_result"
    }
   ],
   "source": [
    "clustering_community_df.sort_values(\"commu_tx_count\")"
   ]
  },
  {
   "cell_type": "markdown",
   "metadata": {},
   "source": [
    "## Trino data "
   ]
  },
  {
   "cell_type": "markdown",
   "metadata": {},
   "source": [
    "\"xxx_address_monthly_stats_full\"\n",
    "- address active days\n",
    "- total gas fee in usd\n",
    "- number of transaction\n",
    "- wallets interacted\n",
    "- last transaction time\n",
    "\n",
    "-- \n",
    "\n",
    "(function is done but not sure if should use due to computational power required)\n",
    "\n",
    "\"xxx_address_last_stats_full\"\n",
    "- number of token types on different chains (ETH on Polygon and ETH on ethereum are different)\n",
    "\n",
    "--\n",
    "\n",
    "\"xxx_token_transfers_full\" (not yet given the computational power required)\n",
    "- interval in second\n",
    "\n",
    "\n"
   ]
  },
  {
   "cell_type": "code",
   "execution_count": 160,
   "metadata": {},
   "outputs": [],
   "source": [
    "def clustering_trino_info_fetch(w_lst, start_date_, end_date_):\n",
    "    clustering_info = wallets_monthly_info(w_lst, start_date_, end_date_)\n",
    "    clustering_info_df = pd.DataFrame(clustering_info).T\n",
    "    clustering_info_df.columns = trino_data_column_names\n",
    "    return clustering_info_df"
   ]
  },
  {
   "cell_type": "code",
   "execution_count": 161,
   "metadata": {},
   "outputs": [],
   "source": [
    "def clustering_trino_info(\n",
    "    w_lst, start_date_, end_date_, existing_df_=None, write_to_path=None\n",
    "):\n",
    "    if existing_df_ is not None:\n",
    "        existing_df_ = existing_df_[existing_df_.index.isin(w_lst)]\n",
    "        # fetch for the missing wallets\n",
    "        missing_lst = refine_lst(w_lst, existing_df_.index.tolist())\n",
    "        if missing_lst:\n",
    "            missing_df = clustering_trino_info_fetch(\n",
    "                missing_lst, start_date_, end_date_\n",
    "            )\n",
    "            if write_to_path:\n",
    "                write_to_file_name = os.path.join(\n",
    "                    write_to_path, f\"clustering_trino_{missing_df.index[0]}.csv\"\n",
    "                )\n",
    "                missing_df.to_csv(write_to_file_name, index=True)\n",
    "            return pd.concat([existing_df_, missing_df])\n",
    "        else:\n",
    "            return existing_df_\n",
    "    else:\n",
    "        return clustering_trino_info_fetch(w_lst, start_date_, end_date_)"
   ]
  },
  {
   "cell_type": "markdown",
   "metadata": {},
   "source": [
    "### Combine data from two sources"
   ]
  },
  {
   "cell_type": "code",
   "execution_count": 162,
   "metadata": {},
   "outputs": [],
   "source": [
    "def clustering_info(\n",
    "    w_lst, start_date_, end_date_, existing_df_=None, write_to_path=None\n",
    "):\n",
    "    internal_info = clustering_community_info(w_lst)\n",
    "    trino_info = clustering_trino_info(\n",
    "        w_lst,\n",
    "        start_date_,\n",
    "        end_date_,\n",
    "        existing_df_=existing_df_,\n",
    "        write_to_path=write_to_path,\n",
    "    )\n",
    "    clustering_info_df = internal_info.merge(\n",
    "        trino_info, left_index=True, right_index=True\n",
    "    )\n",
    "\n",
    "    return clustering_info_df"
   ]
  },
  {
   "cell_type": "markdown",
   "metadata": {},
   "source": [
    "## clustering_info_df"
   ]
  },
  {
   "cell_type": "code",
   "execution_count": 163,
   "metadata": {},
   "outputs": [],
   "source": [
    "clustering_info_df = louvain_community_df.copy()\n",
    "# Merge community information\n",
    "clustering_info_df = clustering_info_df.merge(\n",
    "    clustering_community_df,\n",
    "    left_index=True,\n",
    "    right_index=True,\n",
    "    how=\"left\",\n",
    ")\n",
    "# merge trino information\n",
    "clustering_info_df = clustering_info_df.merge(\n",
    "    trino_monthly_df,\n",
    "    left_index=True,\n",
    "    right_index=True,\n",
    "    how=\"left\",\n",
    ")\n",
    "clustering_info_df.fillna(0, inplace=True)\n",
    "# # Get its real type\n",
    "# clustering_info_df[\"answer\"] = clustering_info_df.index.map(\n",
    "#     lambda x: (\n",
    "#         \"airdrop\"\n",
    "#         if x in core_wallet_set\n",
    "#         else \"sybil\" if x in sybil_wallet_set else \"not_sure\"\n",
    "#     )\n",
    "# )"
   ]
  },
  {
   "cell_type": "code",
   "execution_count": 164,
   "metadata": {},
   "outputs": [
    {
     "data": {
      "text/html": [
       "<div>\n",
       "<style scoped>\n",
       "    .dataframe tbody tr th:only-of-type {\n",
       "        vertical-align: middle;\n",
       "    }\n",
       "\n",
       "    .dataframe tbody tr th {\n",
       "        vertical-align: top;\n",
       "    }\n",
       "\n",
       "    .dataframe thead th {\n",
       "        text-align: right;\n",
       "    }\n",
       "</style>\n",
       "<table border=\"1\" class=\"dataframe\">\n",
       "  <thead>\n",
       "    <tr style=\"text-align: right;\">\n",
       "      <th></th>\n",
       "      <th>community</th>\n",
       "      <th>type</th>\n",
       "      <th>commu_tx_wallets</th>\n",
       "      <th>commu_tx_count</th>\n",
       "      <th>gas_fee</th>\n",
       "      <th>total_txn</th>\n",
       "      <th>unique_tokens</th>\n",
       "      <th>last_txn_date</th>\n",
       "      <th>unique_active_days</th>\n",
       "    </tr>\n",
       "  </thead>\n",
       "  <tbody>\n",
       "    <tr>\n",
       "      <th>0x009ed36ca933f4104afe612743d1a0e83824aba4</th>\n",
       "      <td>0</td>\n",
       "      <td>normal</td>\n",
       "      <td>1.0</td>\n",
       "      <td>3.0</td>\n",
       "      <td>0.088248</td>\n",
       "      <td>4.0</td>\n",
       "      <td>2.0</td>\n",
       "      <td>2024-01-04</td>\n",
       "      <td>1.0</td>\n",
       "    </tr>\n",
       "    <tr>\n",
       "      <th>0xdc0eba1d51f87131985aaee259eb66f86ccc4c52</th>\n",
       "      <td>0</td>\n",
       "      <td>normal</td>\n",
       "      <td>2308.0</td>\n",
       "      <td>3004.0</td>\n",
       "      <td>0.000000</td>\n",
       "      <td>0.0</td>\n",
       "      <td>0.0</td>\n",
       "      <td>0</td>\n",
       "      <td>0.0</td>\n",
       "    </tr>\n",
       "    <tr>\n",
       "      <th>0x00aa24d8e4dd504dca0be06716f3d9ef0c9201d5</th>\n",
       "      <td>0</td>\n",
       "      <td>normal</td>\n",
       "      <td>1.0</td>\n",
       "      <td>2.0</td>\n",
       "      <td>0.068081</td>\n",
       "      <td>3.0</td>\n",
       "      <td>2.0</td>\n",
       "      <td>2024-01-03</td>\n",
       "      <td>1.0</td>\n",
       "    </tr>\n",
       "    <tr>\n",
       "      <th>0x00b3639135c1a0f8e5b96813e71166d3926a792c</th>\n",
       "      <td>0</td>\n",
       "      <td>normal</td>\n",
       "      <td>1.0</td>\n",
       "      <td>1.0</td>\n",
       "      <td>0.029518</td>\n",
       "      <td>2.0</td>\n",
       "      <td>2.0</td>\n",
       "      <td>2024-01-03</td>\n",
       "      <td>1.0</td>\n",
       "    </tr>\n",
       "    <tr>\n",
       "      <th>0x00e263c7af6bf8a01fe4af3efd78be38da389ef1</th>\n",
       "      <td>0</td>\n",
       "      <td>normal</td>\n",
       "      <td>1.0</td>\n",
       "      <td>1.0</td>\n",
       "      <td>0.028886</td>\n",
       "      <td>2.0</td>\n",
       "      <td>2.0</td>\n",
       "      <td>2024-01-02</td>\n",
       "      <td>1.0</td>\n",
       "    </tr>\n",
       "  </tbody>\n",
       "</table>\n",
       "</div>"
      ],
      "text/plain": [
       "                                            community    type  \\\n",
       "0x009ed36ca933f4104afe612743d1a0e83824aba4          0  normal   \n",
       "0xdc0eba1d51f87131985aaee259eb66f86ccc4c52          0  normal   \n",
       "0x00aa24d8e4dd504dca0be06716f3d9ef0c9201d5          0  normal   \n",
       "0x00b3639135c1a0f8e5b96813e71166d3926a792c          0  normal   \n",
       "0x00e263c7af6bf8a01fe4af3efd78be38da389ef1          0  normal   \n",
       "\n",
       "                                            commu_tx_wallets  commu_tx_count  \\\n",
       "0x009ed36ca933f4104afe612743d1a0e83824aba4               1.0             3.0   \n",
       "0xdc0eba1d51f87131985aaee259eb66f86ccc4c52            2308.0          3004.0   \n",
       "0x00aa24d8e4dd504dca0be06716f3d9ef0c9201d5               1.0             2.0   \n",
       "0x00b3639135c1a0f8e5b96813e71166d3926a792c               1.0             1.0   \n",
       "0x00e263c7af6bf8a01fe4af3efd78be38da389ef1               1.0             1.0   \n",
       "\n",
       "                                             gas_fee  total_txn  \\\n",
       "0x009ed36ca933f4104afe612743d1a0e83824aba4  0.088248        4.0   \n",
       "0xdc0eba1d51f87131985aaee259eb66f86ccc4c52  0.000000        0.0   \n",
       "0x00aa24d8e4dd504dca0be06716f3d9ef0c9201d5  0.068081        3.0   \n",
       "0x00b3639135c1a0f8e5b96813e71166d3926a792c  0.029518        2.0   \n",
       "0x00e263c7af6bf8a01fe4af3efd78be38da389ef1  0.028886        2.0   \n",
       "\n",
       "                                            unique_tokens last_txn_date  \\\n",
       "0x009ed36ca933f4104afe612743d1a0e83824aba4            2.0    2024-01-04   \n",
       "0xdc0eba1d51f87131985aaee259eb66f86ccc4c52            0.0             0   \n",
       "0x00aa24d8e4dd504dca0be06716f3d9ef0c9201d5            2.0    2024-01-03   \n",
       "0x00b3639135c1a0f8e5b96813e71166d3926a792c            2.0    2024-01-03   \n",
       "0x00e263c7af6bf8a01fe4af3efd78be38da389ef1            2.0    2024-01-02   \n",
       "\n",
       "                                            unique_active_days  \n",
       "0x009ed36ca933f4104afe612743d1a0e83824aba4                 1.0  \n",
       "0xdc0eba1d51f87131985aaee259eb66f86ccc4c52                 0.0  \n",
       "0x00aa24d8e4dd504dca0be06716f3d9ef0c9201d5                 1.0  \n",
       "0x00b3639135c1a0f8e5b96813e71166d3926a792c                 1.0  \n",
       "0x00e263c7af6bf8a01fe4af3efd78be38da389ef1                 1.0  "
      ]
     },
     "execution_count": 164,
     "metadata": {},
     "output_type": "execute_result"
    }
   ],
   "source": [
    "clustering_info_df.head()"
   ]
  },
  {
   "cell_type": "markdown",
   "metadata": {},
   "source": [
    "# Clustering"
   ]
  },
  {
   "cell_type": "markdown",
   "metadata": {},
   "source": [
    "**Why we scale data?**\n",
    "\n",
    "- If the dataset has features with vastly different scales (e.g., one feature ranges from 0 to 1, while another ranges from 0 to 1000), the feature with the larger scale will dominate the distance calculations. Normalizing data ensures that each feature contributes equally to the distance calculation. This is particularly important in multi-dimensional datasets where features may not have the same units or magnitude.\n",
    "\n",
    "- we used standardization (Z-Score Scaling): Scales features to have mean = 0 and standard deviation = 1."
   ]
  },
  {
   "cell_type": "code",
   "execution_count": 165,
   "metadata": {},
   "outputs": [],
   "source": [
    "def isolation_forest(clustering_info_df, clustring_features, contamination_):\n",
    "    if contamination_ > 0.5:\n",
    "        clustering_info_df[\"isolation_forest\"] = -1\n",
    "        return clustering_info_df\n",
    "    # Normalize the data\n",
    "    scaler = StandardScaler()\n",
    "    scaled_features = scaler.fit_transform(clustering_info_df[clustring_features])\n",
    "\n",
    "    # Apply Isolation Forest\n",
    "    iso = IsolationForest(contamination=contamination_)  # Adjust contamination level\n",
    "    clustering_info_df[\"isolation_forest\"] = iso.fit_predict(scaled_features)\n",
    "\n",
    "    return clustering_info_df"
   ]
  },
  {
   "cell_type": "code",
   "execution_count": 166,
   "metadata": {},
   "outputs": [],
   "source": [
    "def optics_clustering(clustering_info_df, clustring_features, min_samples_=3):\n",
    "    if len(clustering_info_df) < min_samples_:\n",
    "        clustering_info_df[\"optics\"] = 0\n",
    "        return clustering_info_df\n",
    "    # Normalize the data\n",
    "    scaler = StandardScaler()\n",
    "    scaled_features = scaler.fit_transform(clustering_info_df[clustring_features])\n",
    "\n",
    "    # Apply OPTICS clustering\n",
    "    optics = OPTICS(min_samples=min_samples_)\n",
    "    clustering_info_df[\"optics\"] = optics.fit_predict(scaled_features)\n",
    "\n",
    "    return clustering_info_df"
   ]
  },
  {
   "cell_type": "code",
   "execution_count": 167,
   "metadata": {},
   "outputs": [],
   "source": [
    "def two_step_clustering(\n",
    "    clustering_info_df,\n",
    "    iso_features_,\n",
    "    optics_features_,\n",
    "    core_num=2,\n",
    "    optics_min_samples=3,\n",
    "):\n",
    "    core_num = min(core_num, np.floor(clustering_info_df.shape[0] / 2))\n",
    "    if core_num < 1:\n",
    "        raise ValueError(\"Core number should be at least 1\")\n",
    "    contamination_ = core_num / clustering_info_df.shape[0]\n",
    "    clustered_df = clustering_info_df.copy()\n",
    "    clustered_df = isolation_forest(clustered_df, iso_features_, contamination_)\n",
    "    middle_info_df = clustered_df[clustered_df[\"isolation_forest\"] != -1]\n",
    "    # middle_info_df = clustered_df.copy()\n",
    "    clusted_middle_info_df = optics_clustering(\n",
    "        middle_info_df, optics_features_, optics_min_samples\n",
    "    )\n",
    "    # merge result back to original df\n",
    "    clustered_df = pd.merge(\n",
    "        clustered_df,\n",
    "        clusted_middle_info_df[\"optics\"],\n",
    "        how=\"left\",\n",
    "        left_index=True,\n",
    "        right_index=True,\n",
    "    )\n",
    "    clustered_df[\"type\"] = clustered_df.apply(\n",
    "        lambda x: (\n",
    "            \"sybil_core\"\n",
    "            if x[\"isolation_forest\"] == -1\n",
    "            else \"normal\" if x[\"optics\"] == -1 \n",
    "            else \"sybil\"\n",
    "        ),\n",
    "        axis=1,\n",
    "    )\n",
    "    clustered_df[\"if_core\"] = clustered_df.apply(\n",
    "        lambda x: (1 if x[\"isolation_forest\"] == -1 else 0),\n",
    "        axis=1,\n",
    "    )\n",
    "    return clustered_df"
   ]
  },
  {
   "cell_type": "code",
   "execution_count": 168,
   "metadata": {},
   "outputs": [],
   "source": [
    "iso_features = [\"commu_tx_wallets\", \"commu_tx_count\"]\n",
    "optics_features = [\"gas_fee\", \"total_txn\", \"unique_tokens\", \"unique_active_days\"]\n",
    "optics_features = [\"total_txn\"]"
   ]
  },
  {
   "cell_type": "code",
   "execution_count": 169,
   "metadata": {},
   "outputs": [],
   "source": [
    "result_df = clustering_info_df.copy()"
   ]
  },
  {
   "cell_type": "code",
   "execution_count": 170,
   "metadata": {},
   "outputs": [
    {
     "name": "stdout",
     "output_type": "stream",
     "text": [
      "Community 0\n",
      "Community 100\n",
      "Community 200\n",
      "Community 300\n",
      "Community 400\n",
      "Community 500\n",
      "Community 600\n",
      "Community 700\n",
      "Community 800\n",
      "Community 900\n",
      "Community 1000\n",
      "Community 1100\n",
      "Community 1200\n",
      "Community 1300\n",
      "Community 1400\n",
      "Community 1500\n",
      "Community 1600\n",
      "Community 1700\n",
      "Community 1800\n",
      "Community 1900\n",
      "Community 2000\n",
      "Community 2100\n",
      "Community 2200\n",
      "Community 2300\n",
      "Community 2400\n",
      "Community 2500\n",
      "Community 2600\n",
      "Community 2700\n",
      "Community 2800\n",
      "Community 2900\n",
      "Community 3000\n",
      "Community 3100\n",
      "Community 3200\n",
      "Community 3300\n",
      "Community 3400\n",
      "Community 3500\n",
      "Community 3600\n",
      "Community 3700\n",
      "Community 3800\n",
      "Community 3900\n",
      "Community 4000\n",
      "Community 4100\n",
      "Community 4200\n",
      "Community 4300\n",
      "Community 4400\n",
      "Community 4500\n",
      "Community 4600\n",
      "Community 4700\n",
      "Community 4800\n",
      "Community 4900\n",
      "Community 5000\n",
      "Community 5100\n",
      "Community 5200\n",
      "Community 5300\n",
      "Community 5400\n",
      "Community 5500\n",
      "Community 5600\n",
      "Community 5700\n",
      "Community 5800\n",
      "Community 5900\n",
      "Community 6000\n",
      "Community 6100\n",
      "Community 6200\n",
      "Community 6300\n",
      "Community 6400\n",
      "Community 6500\n",
      "Community 6600\n",
      "Community 6700\n",
      "Community 6800\n",
      "Community 6900\n",
      "Community 7000\n",
      "Community 7100\n",
      "Community 7200\n",
      "Community 7300\n",
      "Community 7400\n",
      "Community 7500\n",
      "Community 7600\n",
      "Community 7700\n",
      "Community 7800\n",
      "Community 7900\n",
      "Community 8000\n",
      "Community 8100\n",
      "Community 8200\n",
      "Community 8300\n",
      "Community 8400\n",
      "Community 8500\n",
      "Community 8600\n",
      "Community 8700\n",
      "Community 8800\n",
      "Community 8900\n",
      "Community 9000\n",
      "Community 9100\n",
      "Community 9200\n",
      "Community 9300\n",
      "Community 9400\n",
      "Community 9500\n",
      "Community 9600\n",
      "Community 9700\n",
      "Community 9800\n",
      "Community 9900\n",
      "Community 10000\n",
      "Community 10100\n",
      "Community 10200\n",
      "Community 10300\n",
      "Community 10400\n",
      "Community 10500\n",
      "Community 10600\n",
      "Community 10700\n",
      "Community 10800\n",
      "Community 10900\n",
      "Community 11000\n",
      "Community 11100\n",
      "Community 11200\n",
      "Community 11300\n",
      "Community 11400\n",
      "Community 11500\n",
      "Community 11600\n",
      "Community 11700\n",
      "Community 11800\n",
      "Community 11900\n",
      "Community 12000\n",
      "Community 12100\n",
      "Community 12200\n",
      "Community 12300\n",
      "Community 12400\n",
      "Community 12500\n",
      "Community 12600\n",
      "Community 12700\n",
      "Community 12800\n",
      "Community 12900\n",
      "Community 13000\n",
      "Community 13100\n",
      "Community 13200\n",
      "Community 13300\n",
      "Community 13400\n",
      "Community 13500\n",
      "Community 13600\n",
      "Community 13700\n",
      "Community 13800\n",
      "Community 13900\n",
      "Community 14000\n",
      "Community 14100\n",
      "Community 14200\n",
      "Community 14300\n",
      "Community 14400\n",
      "Community 14500\n",
      "Community 14600\n",
      "Community 14700\n",
      "Community 14800\n",
      "Community 14900\n",
      "Community 15000\n",
      "Community 15100\n",
      "Community 15200\n",
      "Community 15300\n",
      "Community 15400\n",
      "Community 15500\n",
      "Community 15600\n",
      "Community 15700\n",
      "Community 15800\n",
      "Community 15900\n",
      "Community 16000\n",
      "Community 16100\n",
      "Community 16200\n",
      "Community 16300\n",
      "Community 16400\n",
      "Community 16500\n",
      "Community 16600\n",
      "Community 16700\n",
      "Community 16800\n",
      "Community 16900\n",
      "Community 17000\n",
      "Community 17100\n",
      "Community 17200\n",
      "Community 17300\n",
      "Community 17400\n",
      "Community 17500\n",
      "Community 17600\n",
      "Community 17700\n",
      "Community 17800\n"
     ]
    }
   ],
   "source": [
    "for i, commu_wallets in enumerate(louvain_community_lst):\n",
    "    # Skip small communities early\n",
    "    if len(commu_wallets) < 2:\n",
    "        continue\n",
    "\n",
    "    # Logging progress every 100 iterations\n",
    "    if i % 100 == 0:\n",
    "        print(f\"Community {i}\")\n",
    "\n",
    "    # Slice the DataFrame for the current community\n",
    "    commu_df = clustering_info_df.loc[commu_wallets]\n",
    "\n",
    "    # Perform clustering\n",
    "    clustered_df = two_step_clustering(\n",
    "        commu_df, iso_features, optics_features, core_num=2, optics_min_samples=2\n",
    "    )\n",
    "    result_df.update(clustered_df)\n",
    "\n",
    "    # update result_df type\n",
    "    matching_index = result_df.index.intersection(clustered_df.index)\n",
    "    result_df.loc[matching_index, \"type\"] = clustered_df.loc[matching_index, \"type\"]"
   ]
  },
  {
   "cell_type": "code",
   "execution_count": 171,
   "metadata": {},
   "outputs": [],
   "source": [
    "short_result_df = result_df"
   ]
  },
  {
   "cell_type": "code",
   "execution_count": 172,
   "metadata": {},
   "outputs": [
    {
     "data": {
      "text/plain": [
       "sybil         124386\n",
       "sybil_core     12907\n",
       "normal          9113\n",
       "Name: type, dtype: int64"
      ]
     },
     "execution_count": 172,
     "metadata": {},
     "output_type": "execute_result"
    }
   ],
   "source": [
    "result_df['type'].value_counts()"
   ]
  },
  {
   "cell_type": "code",
   "execution_count": 181,
   "metadata": {},
   "outputs": [
    {
     "data": {
      "text/html": [
       "<div>\n",
       "<style scoped>\n",
       "    .dataframe tbody tr th:only-of-type {\n",
       "        vertical-align: middle;\n",
       "    }\n",
       "\n",
       "    .dataframe tbody tr th {\n",
       "        vertical-align: top;\n",
       "    }\n",
       "\n",
       "    .dataframe thead th {\n",
       "        text-align: right;\n",
       "    }\n",
       "</style>\n",
       "<table border=\"1\" class=\"dataframe\">\n",
       "  <thead>\n",
       "    <tr style=\"text-align: right;\">\n",
       "      <th></th>\n",
       "      <th>community</th>\n",
       "      <th>type</th>\n",
       "      <th>commu_tx_wallets</th>\n",
       "      <th>commu_tx_count</th>\n",
       "      <th>gas_fee</th>\n",
       "      <th>total_txn</th>\n",
       "      <th>unique_tokens</th>\n",
       "      <th>last_txn_date</th>\n",
       "      <th>unique_active_days</th>\n",
       "    </tr>\n",
       "  </thead>\n",
       "  <tbody>\n",
       "    <tr>\n",
       "      <th>0x009ed36ca933f4104afe612743d1a0e83824aba4</th>\n",
       "      <td>0.0</td>\n",
       "      <td>sybil</td>\n",
       "      <td>1.0</td>\n",
       "      <td>3.0</td>\n",
       "      <td>0.088248</td>\n",
       "      <td>4.0</td>\n",
       "      <td>2.0</td>\n",
       "      <td>2024-01-04</td>\n",
       "      <td>1.0</td>\n",
       "    </tr>\n",
       "    <tr>\n",
       "      <th>0xdc0eba1d51f87131985aaee259eb66f86ccc4c52</th>\n",
       "      <td>0.0</td>\n",
       "      <td>sybil_core</td>\n",
       "      <td>2308.0</td>\n",
       "      <td>3004.0</td>\n",
       "      <td>0.000000</td>\n",
       "      <td>0.0</td>\n",
       "      <td>0.0</td>\n",
       "      <td>0</td>\n",
       "      <td>0.0</td>\n",
       "    </tr>\n",
       "    <tr>\n",
       "      <th>0x00aa24d8e4dd504dca0be06716f3d9ef0c9201d5</th>\n",
       "      <td>0.0</td>\n",
       "      <td>sybil</td>\n",
       "      <td>1.0</td>\n",
       "      <td>2.0</td>\n",
       "      <td>0.068081</td>\n",
       "      <td>3.0</td>\n",
       "      <td>2.0</td>\n",
       "      <td>2024-01-03</td>\n",
       "      <td>1.0</td>\n",
       "    </tr>\n",
       "    <tr>\n",
       "      <th>0x00b3639135c1a0f8e5b96813e71166d3926a792c</th>\n",
       "      <td>0.0</td>\n",
       "      <td>sybil</td>\n",
       "      <td>1.0</td>\n",
       "      <td>1.0</td>\n",
       "      <td>0.029518</td>\n",
       "      <td>2.0</td>\n",
       "      <td>2.0</td>\n",
       "      <td>2024-01-03</td>\n",
       "      <td>1.0</td>\n",
       "    </tr>\n",
       "    <tr>\n",
       "      <th>0x00e263c7af6bf8a01fe4af3efd78be38da389ef1</th>\n",
       "      <td>0.0</td>\n",
       "      <td>sybil</td>\n",
       "      <td>1.0</td>\n",
       "      <td>1.0</td>\n",
       "      <td>0.028886</td>\n",
       "      <td>2.0</td>\n",
       "      <td>2.0</td>\n",
       "      <td>2024-01-02</td>\n",
       "      <td>1.0</td>\n",
       "    </tr>\n",
       "    <tr>\n",
       "      <th>...</th>\n",
       "      <td>...</td>\n",
       "      <td>...</td>\n",
       "      <td>...</td>\n",
       "      <td>...</td>\n",
       "      <td>...</td>\n",
       "      <td>...</td>\n",
       "      <td>...</td>\n",
       "      <td>...</td>\n",
       "      <td>...</td>\n",
       "    </tr>\n",
       "    <tr>\n",
       "      <th>0xff15855e37f2d2ca91ceaba24c8fc51689b3d181</th>\n",
       "      <td>20319.0</td>\n",
       "      <td>normal</td>\n",
       "      <td>0.0</td>\n",
       "      <td>0.0</td>\n",
       "      <td>1.969052</td>\n",
       "      <td>29.0</td>\n",
       "      <td>6.0</td>\n",
       "      <td>2024-11-30</td>\n",
       "      <td>7.0</td>\n",
       "    </tr>\n",
       "    <tr>\n",
       "      <th>0xff47a4e149688a6b89a4423fbb3233bc4984a42a</th>\n",
       "      <td>20320.0</td>\n",
       "      <td>normal</td>\n",
       "      <td>0.0</td>\n",
       "      <td>0.0</td>\n",
       "      <td>28.625621</td>\n",
       "      <td>112.0</td>\n",
       "      <td>5.0</td>\n",
       "      <td>2024-12-03</td>\n",
       "      <td>8.0</td>\n",
       "    </tr>\n",
       "    <tr>\n",
       "      <th>0xff66c715404797644a352fedef270dabffb37278</th>\n",
       "      <td>20321.0</td>\n",
       "      <td>normal</td>\n",
       "      <td>0.0</td>\n",
       "      <td>0.0</td>\n",
       "      <td>22.286670</td>\n",
       "      <td>90.0</td>\n",
       "      <td>5.0</td>\n",
       "      <td>2024-12-03</td>\n",
       "      <td>8.0</td>\n",
       "    </tr>\n",
       "    <tr>\n",
       "      <th>0xffac3691e57fc37e5c79b8447ac1fe30d9684431</th>\n",
       "      <td>20322.0</td>\n",
       "      <td>normal</td>\n",
       "      <td>0.0</td>\n",
       "      <td>0.0</td>\n",
       "      <td>1.972315</td>\n",
       "      <td>29.0</td>\n",
       "      <td>6.0</td>\n",
       "      <td>2024-11-30</td>\n",
       "      <td>7.0</td>\n",
       "    </tr>\n",
       "    <tr>\n",
       "      <th>0xffbe879492592b6f125484f3b45dc41f0e25e87b</th>\n",
       "      <td>20323.0</td>\n",
       "      <td>normal</td>\n",
       "      <td>0.0</td>\n",
       "      <td>0.0</td>\n",
       "      <td>22.356910</td>\n",
       "      <td>88.0</td>\n",
       "      <td>5.0</td>\n",
       "      <td>2024-12-03</td>\n",
       "      <td>8.0</td>\n",
       "    </tr>\n",
       "  </tbody>\n",
       "</table>\n",
       "<p>146406 rows × 9 columns</p>\n",
       "</div>"
      ],
      "text/plain": [
       "                                            community        type  \\\n",
       "0x009ed36ca933f4104afe612743d1a0e83824aba4        0.0       sybil   \n",
       "0xdc0eba1d51f87131985aaee259eb66f86ccc4c52        0.0  sybil_core   \n",
       "0x00aa24d8e4dd504dca0be06716f3d9ef0c9201d5        0.0       sybil   \n",
       "0x00b3639135c1a0f8e5b96813e71166d3926a792c        0.0       sybil   \n",
       "0x00e263c7af6bf8a01fe4af3efd78be38da389ef1        0.0       sybil   \n",
       "...                                               ...         ...   \n",
       "0xff15855e37f2d2ca91ceaba24c8fc51689b3d181    20319.0      normal   \n",
       "0xff47a4e149688a6b89a4423fbb3233bc4984a42a    20320.0      normal   \n",
       "0xff66c715404797644a352fedef270dabffb37278    20321.0      normal   \n",
       "0xffac3691e57fc37e5c79b8447ac1fe30d9684431    20322.0      normal   \n",
       "0xffbe879492592b6f125484f3b45dc41f0e25e87b    20323.0      normal   \n",
       "\n",
       "                                            commu_tx_wallets  commu_tx_count  \\\n",
       "0x009ed36ca933f4104afe612743d1a0e83824aba4               1.0             3.0   \n",
       "0xdc0eba1d51f87131985aaee259eb66f86ccc4c52            2308.0          3004.0   \n",
       "0x00aa24d8e4dd504dca0be06716f3d9ef0c9201d5               1.0             2.0   \n",
       "0x00b3639135c1a0f8e5b96813e71166d3926a792c               1.0             1.0   \n",
       "0x00e263c7af6bf8a01fe4af3efd78be38da389ef1               1.0             1.0   \n",
       "...                                                      ...             ...   \n",
       "0xff15855e37f2d2ca91ceaba24c8fc51689b3d181               0.0             0.0   \n",
       "0xff47a4e149688a6b89a4423fbb3233bc4984a42a               0.0             0.0   \n",
       "0xff66c715404797644a352fedef270dabffb37278               0.0             0.0   \n",
       "0xffac3691e57fc37e5c79b8447ac1fe30d9684431               0.0             0.0   \n",
       "0xffbe879492592b6f125484f3b45dc41f0e25e87b               0.0             0.0   \n",
       "\n",
       "                                              gas_fee  total_txn  \\\n",
       "0x009ed36ca933f4104afe612743d1a0e83824aba4   0.088248        4.0   \n",
       "0xdc0eba1d51f87131985aaee259eb66f86ccc4c52   0.000000        0.0   \n",
       "0x00aa24d8e4dd504dca0be06716f3d9ef0c9201d5   0.068081        3.0   \n",
       "0x00b3639135c1a0f8e5b96813e71166d3926a792c   0.029518        2.0   \n",
       "0x00e263c7af6bf8a01fe4af3efd78be38da389ef1   0.028886        2.0   \n",
       "...                                               ...        ...   \n",
       "0xff15855e37f2d2ca91ceaba24c8fc51689b3d181   1.969052       29.0   \n",
       "0xff47a4e149688a6b89a4423fbb3233bc4984a42a  28.625621      112.0   \n",
       "0xff66c715404797644a352fedef270dabffb37278  22.286670       90.0   \n",
       "0xffac3691e57fc37e5c79b8447ac1fe30d9684431   1.972315       29.0   \n",
       "0xffbe879492592b6f125484f3b45dc41f0e25e87b  22.356910       88.0   \n",
       "\n",
       "                                            unique_tokens last_txn_date  \\\n",
       "0x009ed36ca933f4104afe612743d1a0e83824aba4            2.0    2024-01-04   \n",
       "0xdc0eba1d51f87131985aaee259eb66f86ccc4c52            0.0             0   \n",
       "0x00aa24d8e4dd504dca0be06716f3d9ef0c9201d5            2.0    2024-01-03   \n",
       "0x00b3639135c1a0f8e5b96813e71166d3926a792c            2.0    2024-01-03   \n",
       "0x00e263c7af6bf8a01fe4af3efd78be38da389ef1            2.0    2024-01-02   \n",
       "...                                                   ...           ...   \n",
       "0xff15855e37f2d2ca91ceaba24c8fc51689b3d181            6.0    2024-11-30   \n",
       "0xff47a4e149688a6b89a4423fbb3233bc4984a42a            5.0    2024-12-03   \n",
       "0xff66c715404797644a352fedef270dabffb37278            5.0    2024-12-03   \n",
       "0xffac3691e57fc37e5c79b8447ac1fe30d9684431            6.0    2024-11-30   \n",
       "0xffbe879492592b6f125484f3b45dc41f0e25e87b            5.0    2024-12-03   \n",
       "\n",
       "                                            unique_active_days  \n",
       "0x009ed36ca933f4104afe612743d1a0e83824aba4                 1.0  \n",
       "0xdc0eba1d51f87131985aaee259eb66f86ccc4c52                 0.0  \n",
       "0x00aa24d8e4dd504dca0be06716f3d9ef0c9201d5                 1.0  \n",
       "0x00b3639135c1a0f8e5b96813e71166d3926a792c                 1.0  \n",
       "0x00e263c7af6bf8a01fe4af3efd78be38da389ef1                 1.0  \n",
       "...                                                        ...  \n",
       "0xff15855e37f2d2ca91ceaba24c8fc51689b3d181                 7.0  \n",
       "0xff47a4e149688a6b89a4423fbb3233bc4984a42a                 8.0  \n",
       "0xff66c715404797644a352fedef270dabffb37278                 8.0  \n",
       "0xffac3691e57fc37e5c79b8447ac1fe30d9684431                 7.0  \n",
       "0xffbe879492592b6f125484f3b45dc41f0e25e87b                 8.0  \n",
       "\n",
       "[146406 rows x 9 columns]"
      ]
     },
     "execution_count": 181,
     "metadata": {},
     "output_type": "execute_result"
    }
   ],
   "source": [
    "result_df"
   ]
  },
  {
   "cell_type": "code",
   "execution_count": 190,
   "metadata": {},
   "outputs": [
    {
     "data": {
      "text/html": [
       "<div>\n",
       "<style scoped>\n",
       "    .dataframe tbody tr th:only-of-type {\n",
       "        vertical-align: middle;\n",
       "    }\n",
       "\n",
       "    .dataframe tbody tr th {\n",
       "        vertical-align: top;\n",
       "    }\n",
       "\n",
       "    .dataframe thead th {\n",
       "        text-align: right;\n",
       "    }\n",
       "</style>\n",
       "<table border=\"1\" class=\"dataframe\">\n",
       "  <thead>\n",
       "    <tr style=\"text-align: right;\">\n",
       "      <th></th>\n",
       "      <th>community</th>\n",
       "      <th>type</th>\n",
       "      <th>commu_tx_wallets</th>\n",
       "      <th>commu_tx_count</th>\n",
       "      <th>gas_fee</th>\n",
       "      <th>total_txn</th>\n",
       "      <th>unique_tokens</th>\n",
       "      <th>last_txn_date</th>\n",
       "      <th>unique_active_days</th>\n",
       "    </tr>\n",
       "  </thead>\n",
       "  <tbody>\n",
       "    <tr>\n",
       "      <th>0x009ed36ca933f4104afe612743d1a0e83824aba4</th>\n",
       "      <td>0.0</td>\n",
       "      <td>sybil</td>\n",
       "      <td>1.0</td>\n",
       "      <td>3.0</td>\n",
       "      <td>0.088248</td>\n",
       "      <td>4.0</td>\n",
       "      <td>2.0</td>\n",
       "      <td>2024-01-04</td>\n",
       "      <td>1.0</td>\n",
       "    </tr>\n",
       "    <tr>\n",
       "      <th>0xdc0eba1d51f87131985aaee259eb66f86ccc4c52</th>\n",
       "      <td>0.0</td>\n",
       "      <td>sybil_core</td>\n",
       "      <td>2308.0</td>\n",
       "      <td>3004.0</td>\n",
       "      <td>0.000000</td>\n",
       "      <td>0.0</td>\n",
       "      <td>0.0</td>\n",
       "      <td>0</td>\n",
       "      <td>0.0</td>\n",
       "    </tr>\n",
       "    <tr>\n",
       "      <th>0x00aa24d8e4dd504dca0be06716f3d9ef0c9201d5</th>\n",
       "      <td>0.0</td>\n",
       "      <td>sybil</td>\n",
       "      <td>1.0</td>\n",
       "      <td>2.0</td>\n",
       "      <td>0.068081</td>\n",
       "      <td>3.0</td>\n",
       "      <td>2.0</td>\n",
       "      <td>2024-01-03</td>\n",
       "      <td>1.0</td>\n",
       "    </tr>\n",
       "    <tr>\n",
       "      <th>0x00b3639135c1a0f8e5b96813e71166d3926a792c</th>\n",
       "      <td>0.0</td>\n",
       "      <td>sybil</td>\n",
       "      <td>1.0</td>\n",
       "      <td>1.0</td>\n",
       "      <td>0.029518</td>\n",
       "      <td>2.0</td>\n",
       "      <td>2.0</td>\n",
       "      <td>2024-01-03</td>\n",
       "      <td>1.0</td>\n",
       "    </tr>\n",
       "    <tr>\n",
       "      <th>0x00e263c7af6bf8a01fe4af3efd78be38da389ef1</th>\n",
       "      <td>0.0</td>\n",
       "      <td>sybil</td>\n",
       "      <td>1.0</td>\n",
       "      <td>1.0</td>\n",
       "      <td>0.028886</td>\n",
       "      <td>2.0</td>\n",
       "      <td>2.0</td>\n",
       "      <td>2024-01-02</td>\n",
       "      <td>1.0</td>\n",
       "    </tr>\n",
       "    <tr>\n",
       "      <th>...</th>\n",
       "      <td>...</td>\n",
       "      <td>...</td>\n",
       "      <td>...</td>\n",
       "      <td>...</td>\n",
       "      <td>...</td>\n",
       "      <td>...</td>\n",
       "      <td>...</td>\n",
       "      <td>...</td>\n",
       "      <td>...</td>\n",
       "    </tr>\n",
       "    <tr>\n",
       "      <th>0xf465ec63ec99f77f1a0fdc131eadd3c244e8f173</th>\n",
       "      <td>17842.0</td>\n",
       "      <td>sybil</td>\n",
       "      <td>1.0</td>\n",
       "      <td>4.0</td>\n",
       "      <td>1.188783</td>\n",
       "      <td>5.0</td>\n",
       "      <td>2.0</td>\n",
       "      <td>2024-07-15</td>\n",
       "      <td>5.0</td>\n",
       "    </tr>\n",
       "    <tr>\n",
       "      <th>0xfa6e125c35482026273422edeb9514863c8d060f</th>\n",
       "      <td>17843.0</td>\n",
       "      <td>sybil</td>\n",
       "      <td>1.0</td>\n",
       "      <td>3.0</td>\n",
       "      <td>0.849865</td>\n",
       "      <td>3.0</td>\n",
       "      <td>1.0</td>\n",
       "      <td>2024-06-29</td>\n",
       "      <td>3.0</td>\n",
       "    </tr>\n",
       "    <tr>\n",
       "      <th>0xfc23e5d766690a075f095ac8afa9dff0f642b3ad</th>\n",
       "      <td>17843.0</td>\n",
       "      <td>sybil</td>\n",
       "      <td>1.0</td>\n",
       "      <td>3.0</td>\n",
       "      <td>13.683955</td>\n",
       "      <td>11.0</td>\n",
       "      <td>8.0</td>\n",
       "      <td>2024-10-27</td>\n",
       "      <td>8.0</td>\n",
       "    </tr>\n",
       "    <tr>\n",
       "      <th>0xfcee5798907256faaed7db37bbd5ca702df73eb2</th>\n",
       "      <td>17844.0</td>\n",
       "      <td>sybil</td>\n",
       "      <td>1.0</td>\n",
       "      <td>2.0</td>\n",
       "      <td>2.885015</td>\n",
       "      <td>7.0</td>\n",
       "      <td>3.0</td>\n",
       "      <td>2024-09-01</td>\n",
       "      <td>2.0</td>\n",
       "    </tr>\n",
       "    <tr>\n",
       "      <th>0xfe59e242acb0d9ba79a91feaf3e547cf8839246c</th>\n",
       "      <td>17844.0</td>\n",
       "      <td>sybil</td>\n",
       "      <td>1.0</td>\n",
       "      <td>2.0</td>\n",
       "      <td>2.631928</td>\n",
       "      <td>2.0</td>\n",
       "      <td>1.0</td>\n",
       "      <td>2024-04-01</td>\n",
       "      <td>1.0</td>\n",
       "    </tr>\n",
       "  </tbody>\n",
       "</table>\n",
       "<p>143925 rows × 9 columns</p>\n",
       "</div>"
      ],
      "text/plain": [
       "                                            community        type  \\\n",
       "0x009ed36ca933f4104afe612743d1a0e83824aba4        0.0       sybil   \n",
       "0xdc0eba1d51f87131985aaee259eb66f86ccc4c52        0.0  sybil_core   \n",
       "0x00aa24d8e4dd504dca0be06716f3d9ef0c9201d5        0.0       sybil   \n",
       "0x00b3639135c1a0f8e5b96813e71166d3926a792c        0.0       sybil   \n",
       "0x00e263c7af6bf8a01fe4af3efd78be38da389ef1        0.0       sybil   \n",
       "...                                               ...         ...   \n",
       "0xf465ec63ec99f77f1a0fdc131eadd3c244e8f173    17842.0       sybil   \n",
       "0xfa6e125c35482026273422edeb9514863c8d060f    17843.0       sybil   \n",
       "0xfc23e5d766690a075f095ac8afa9dff0f642b3ad    17843.0       sybil   \n",
       "0xfcee5798907256faaed7db37bbd5ca702df73eb2    17844.0       sybil   \n",
       "0xfe59e242acb0d9ba79a91feaf3e547cf8839246c    17844.0       sybil   \n",
       "\n",
       "                                            commu_tx_wallets  commu_tx_count  \\\n",
       "0x009ed36ca933f4104afe612743d1a0e83824aba4               1.0             3.0   \n",
       "0xdc0eba1d51f87131985aaee259eb66f86ccc4c52            2308.0          3004.0   \n",
       "0x00aa24d8e4dd504dca0be06716f3d9ef0c9201d5               1.0             2.0   \n",
       "0x00b3639135c1a0f8e5b96813e71166d3926a792c               1.0             1.0   \n",
       "0x00e263c7af6bf8a01fe4af3efd78be38da389ef1               1.0             1.0   \n",
       "...                                                      ...             ...   \n",
       "0xf465ec63ec99f77f1a0fdc131eadd3c244e8f173               1.0             4.0   \n",
       "0xfa6e125c35482026273422edeb9514863c8d060f               1.0             3.0   \n",
       "0xfc23e5d766690a075f095ac8afa9dff0f642b3ad               1.0             3.0   \n",
       "0xfcee5798907256faaed7db37bbd5ca702df73eb2               1.0             2.0   \n",
       "0xfe59e242acb0d9ba79a91feaf3e547cf8839246c               1.0             2.0   \n",
       "\n",
       "                                              gas_fee  total_txn  \\\n",
       "0x009ed36ca933f4104afe612743d1a0e83824aba4   0.088248        4.0   \n",
       "0xdc0eba1d51f87131985aaee259eb66f86ccc4c52   0.000000        0.0   \n",
       "0x00aa24d8e4dd504dca0be06716f3d9ef0c9201d5   0.068081        3.0   \n",
       "0x00b3639135c1a0f8e5b96813e71166d3926a792c   0.029518        2.0   \n",
       "0x00e263c7af6bf8a01fe4af3efd78be38da389ef1   0.028886        2.0   \n",
       "...                                               ...        ...   \n",
       "0xf465ec63ec99f77f1a0fdc131eadd3c244e8f173   1.188783        5.0   \n",
       "0xfa6e125c35482026273422edeb9514863c8d060f   0.849865        3.0   \n",
       "0xfc23e5d766690a075f095ac8afa9dff0f642b3ad  13.683955       11.0   \n",
       "0xfcee5798907256faaed7db37bbd5ca702df73eb2   2.885015        7.0   \n",
       "0xfe59e242acb0d9ba79a91feaf3e547cf8839246c   2.631928        2.0   \n",
       "\n",
       "                                            unique_tokens last_txn_date  \\\n",
       "0x009ed36ca933f4104afe612743d1a0e83824aba4            2.0    2024-01-04   \n",
       "0xdc0eba1d51f87131985aaee259eb66f86ccc4c52            0.0             0   \n",
       "0x00aa24d8e4dd504dca0be06716f3d9ef0c9201d5            2.0    2024-01-03   \n",
       "0x00b3639135c1a0f8e5b96813e71166d3926a792c            2.0    2024-01-03   \n",
       "0x00e263c7af6bf8a01fe4af3efd78be38da389ef1            2.0    2024-01-02   \n",
       "...                                                   ...           ...   \n",
       "0xf465ec63ec99f77f1a0fdc131eadd3c244e8f173            2.0    2024-07-15   \n",
       "0xfa6e125c35482026273422edeb9514863c8d060f            1.0    2024-06-29   \n",
       "0xfc23e5d766690a075f095ac8afa9dff0f642b3ad            8.0    2024-10-27   \n",
       "0xfcee5798907256faaed7db37bbd5ca702df73eb2            3.0    2024-09-01   \n",
       "0xfe59e242acb0d9ba79a91feaf3e547cf8839246c            1.0    2024-04-01   \n",
       "\n",
       "                                            unique_active_days  \n",
       "0x009ed36ca933f4104afe612743d1a0e83824aba4                 1.0  \n",
       "0xdc0eba1d51f87131985aaee259eb66f86ccc4c52                 0.0  \n",
       "0x00aa24d8e4dd504dca0be06716f3d9ef0c9201d5                 1.0  \n",
       "0x00b3639135c1a0f8e5b96813e71166d3926a792c                 1.0  \n",
       "0x00e263c7af6bf8a01fe4af3efd78be38da389ef1                 1.0  \n",
       "...                                                        ...  \n",
       "0xf465ec63ec99f77f1a0fdc131eadd3c244e8f173                 5.0  \n",
       "0xfa6e125c35482026273422edeb9514863c8d060f                 3.0  \n",
       "0xfc23e5d766690a075f095ac8afa9dff0f642b3ad                 8.0  \n",
       "0xfcee5798907256faaed7db37bbd5ca702df73eb2                 2.0  \n",
       "0xfe59e242acb0d9ba79a91feaf3e547cf8839246c                 1.0  \n",
       "\n",
       "[143925 rows x 9 columns]"
      ]
     },
     "execution_count": 190,
     "metadata": {},
     "output_type": "execute_result"
    }
   ],
   "source": [
    "# remove communities with only one wallet\n",
    "updated_result_df = result_df[result_df['commu_tx_wallets'] > 0]\n",
    "updated_result_df"
   ]
  },
  {
   "cell_type": "code",
   "execution_count": 256,
   "metadata": {},
   "outputs": [],
   "source": [
    "all_wallet_df = all_core_wallet_df.copy()\n",
    "all_wallet_df.index = all_wallet_df[\"address\"]\n",
    "all_wallet_df = all_wallet_df.merge(updated_result_df[['community', 'type']], left_index=True, right_index=True, how=\"left\")\n",
    "all_wallet_df['community'] = all_wallet_df['community'].fillna(-1)\n",
    "all_wallet_df['type'] = all_wallet_df['type'].fillna('normal')\n",
    "all_wallet_df.loc[all_wallet_df['type'] == 'normal', 'community'] = -1"
   ]
  },
  {
   "cell_type": "code",
   "execution_count": 257,
   "metadata": {},
   "outputs": [
    {
     "data": {
      "text/html": [
       "<div>\n",
       "<style scoped>\n",
       "    .dataframe tbody tr th:only-of-type {\n",
       "        vertical-align: middle;\n",
       "    }\n",
       "\n",
       "    .dataframe tbody tr th {\n",
       "        vertical-align: top;\n",
       "    }\n",
       "\n",
       "    .dataframe thead th {\n",
       "        text-align: right;\n",
       "    }\n",
       "</style>\n",
       "<table border=\"1\" class=\"dataframe\">\n",
       "  <thead>\n",
       "    <tr style=\"text-align: right;\">\n",
       "      <th></th>\n",
       "      <th>address</th>\n",
       "      <th>points</th>\n",
       "      <th>community</th>\n",
       "      <th>type</th>\n",
       "    </tr>\n",
       "    <tr>\n",
       "      <th>address</th>\n",
       "      <th></th>\n",
       "      <th></th>\n",
       "      <th></th>\n",
       "      <th></th>\n",
       "    </tr>\n",
       "  </thead>\n",
       "  <tbody>\n",
       "    <tr>\n",
       "      <th>0xcbef45f2b07d4afc54f4d1344a051d14e3161ed2</th>\n",
       "      <td>0xcbef45f2b07d4afc54f4d1344a051d14e3161ed2</td>\n",
       "      <td>3</td>\n",
       "      <td>100.0</td>\n",
       "      <td>sybil_core</td>\n",
       "    </tr>\n",
       "  </tbody>\n",
       "</table>\n",
       "</div>"
      ],
      "text/plain": [
       "                                                                               address  \\\n",
       "address                                                                                  \n",
       "0xcbef45f2b07d4afc54f4d1344a051d14e3161ed2  0xcbef45f2b07d4afc54f4d1344a051d14e3161ed2   \n",
       "\n",
       "                                            points  community        type  \n",
       "address                                                                    \n",
       "0xcbef45f2b07d4afc54f4d1344a051d14e3161ed2       3      100.0  sybil_core  "
      ]
     },
     "execution_count": 257,
     "metadata": {},
     "output_type": "execute_result"
    }
   ],
   "source": [
    "all_wallet_df[all_wallet_df['community'] == 100]"
   ]
  },
  {
   "cell_type": "code",
   "execution_count": 274,
   "metadata": {},
   "outputs": [],
   "source": [
    "all_wallet_df.to_csv(\"/Users/floras/Desktop/unique-user/-Data/oc_testnet_15Jan/result/OC_Testnet_Points_SybilResult.csv\", index=False)"
   ]
  },
  {
   "cell_type": "code",
   "execution_count": 258,
   "metadata": {},
   "outputs": [
    {
     "data": {
      "text/plain": [
       "normal        312356\n",
       "sybil          30245\n",
       "sybil_core      9041\n",
       "Name: type, dtype: int64"
      ]
     },
     "execution_count": 258,
     "metadata": {},
     "output_type": "execute_result"
    }
   ],
   "source": [
    "all_wallet_df['type'].value_counts()"
   ]
  },
  {
   "cell_type": "code",
   "execution_count": 265,
   "metadata": {},
   "outputs": [
    {
     "data": {
      "text/plain": [
       "1623.0    2\n",
       "461.0     2\n",
       "718.0     2\n",
       "525.0     2\n",
       "476.0     2\n",
       "         ..\n",
       "6258.0    1\n",
       "1563.0    1\n",
       "8251.0    1\n",
       "4949.0    1\n",
       "3506.0    1\n",
       "Name: community, Length: 8007, dtype: int64"
      ]
     },
     "execution_count": 265,
     "metadata": {},
     "output_type": "execute_result"
    }
   ],
   "source": [
    "all_wallet_df[all_wallet_df['type'] == 'sybil_core']['community'].value_counts()"
   ]
  },
  {
   "cell_type": "code",
   "execution_count": 270,
   "metadata": {},
   "outputs": [
    {
     "data": {
      "text/html": [
       "<div>\n",
       "<style scoped>\n",
       "    .dataframe tbody tr th:only-of-type {\n",
       "        vertical-align: middle;\n",
       "    }\n",
       "\n",
       "    .dataframe tbody tr th {\n",
       "        vertical-align: top;\n",
       "    }\n",
       "\n",
       "    .dataframe thead th {\n",
       "        text-align: right;\n",
       "    }\n",
       "</style>\n",
       "<table border=\"1\" class=\"dataframe\">\n",
       "  <thead>\n",
       "    <tr style=\"text-align: right;\">\n",
       "      <th></th>\n",
       "      <th>address</th>\n",
       "      <th>points</th>\n",
       "      <th>community</th>\n",
       "      <th>type</th>\n",
       "    </tr>\n",
       "    <tr>\n",
       "      <th>address</th>\n",
       "      <th></th>\n",
       "      <th></th>\n",
       "      <th></th>\n",
       "      <th></th>\n",
       "    </tr>\n",
       "  </thead>\n",
       "  <tbody>\n",
       "    <tr>\n",
       "      <th>0x2916675b462ec4ca0df7f6b61a904928ab32537e</th>\n",
       "      <td>0x2916675b462ec4ca0df7f6b61a904928ab32537e</td>\n",
       "      <td>23</td>\n",
       "      <td>476.0</td>\n",
       "      <td>sybil</td>\n",
       "    </tr>\n",
       "    <tr>\n",
       "      <th>0x4d779580155c2e16abf0f541043e28156914b113</th>\n",
       "      <td>0x4d779580155c2e16abf0f541043e28156914b113</td>\n",
       "      <td>5</td>\n",
       "      <td>476.0</td>\n",
       "      <td>sybil_core</td>\n",
       "    </tr>\n",
       "    <tr>\n",
       "      <th>0xe2303583c6018d46c4540d44e381af43c9491a8b</th>\n",
       "      <td>0xe2303583c6018d46c4540d44e381af43c9491a8b</td>\n",
       "      <td>1</td>\n",
       "      <td>476.0</td>\n",
       "      <td>sybil_core</td>\n",
       "    </tr>\n",
       "  </tbody>\n",
       "</table>\n",
       "</div>"
      ],
      "text/plain": [
       "                                                                               address  \\\n",
       "address                                                                                  \n",
       "0x2916675b462ec4ca0df7f6b61a904928ab32537e  0x2916675b462ec4ca0df7f6b61a904928ab32537e   \n",
       "0x4d779580155c2e16abf0f541043e28156914b113  0x4d779580155c2e16abf0f541043e28156914b113   \n",
       "0xe2303583c6018d46c4540d44e381af43c9491a8b  0xe2303583c6018d46c4540d44e381af43c9491a8b   \n",
       "\n",
       "                                            points  community        type  \n",
       "address                                                                    \n",
       "0x2916675b462ec4ca0df7f6b61a904928ab32537e      23      476.0       sybil  \n",
       "0x4d779580155c2e16abf0f541043e28156914b113       5      476.0  sybil_core  \n",
       "0xe2303583c6018d46c4540d44e381af43c9491a8b       1      476.0  sybil_core  "
      ]
     },
     "execution_count": 270,
     "metadata": {},
     "output_type": "execute_result"
    }
   ],
   "source": [
    "all_wallet_df[all_wallet_df['community'] == 476]"
   ]
  },
  {
   "cell_type": "code",
   "execution_count": null,
   "metadata": {},
   "outputs": [],
   "source": []
  },
  {
   "cell_type": "code",
   "execution_count": null,
   "metadata": {},
   "outputs": [],
   "source": []
  },
  {
   "cell_type": "code",
   "execution_count": null,
   "metadata": {},
   "outputs": [],
   "source": []
  },
  {
   "cell_type": "code",
   "execution_count": null,
   "metadata": {},
   "outputs": [],
   "source": []
  },
  {
   "cell_type": "code",
   "execution_count": null,
   "metadata": {},
   "outputs": [],
   "source": []
  },
  {
   "cell_type": "code",
   "execution_count": null,
   "metadata": {},
   "outputs": [],
   "source": []
  },
  {
   "cell_type": "code",
   "execution_count": null,
   "metadata": {},
   "outputs": [],
   "source": []
  },
  {
   "cell_type": "code",
   "execution_count": null,
   "metadata": {},
   "outputs": [],
   "source": []
  },
  {
   "cell_type": "code",
   "execution_count": null,
   "metadata": {},
   "outputs": [],
   "source": []
  },
  {
   "cell_type": "code",
   "execution_count": null,
   "metadata": {},
   "outputs": [],
   "source": []
  },
  {
   "cell_type": "code",
   "execution_count": null,
   "metadata": {},
   "outputs": [],
   "source": []
  },
  {
   "cell_type": "code",
   "execution_count": null,
   "metadata": {},
   "outputs": [],
   "source": []
  },
  {
   "cell_type": "code",
   "execution_count": null,
   "metadata": {},
   "outputs": [],
   "source": []
  },
  {
   "cell_type": "code",
   "execution_count": null,
   "metadata": {},
   "outputs": [],
   "source": []
  },
  {
   "cell_type": "code",
   "execution_count": null,
   "metadata": {},
   "outputs": [],
   "source": []
  },
  {
   "cell_type": "code",
   "execution_count": null,
   "metadata": {},
   "outputs": [],
   "source": []
  },
  {
   "cell_type": "code",
   "execution_count": null,
   "metadata": {},
   "outputs": [],
   "source": []
  },
  {
   "cell_type": "code",
   "execution_count": null,
   "metadata": {},
   "outputs": [],
   "source": []
  },
  {
   "cell_type": "code",
   "execution_count": null,
   "metadata": {},
   "outputs": [],
   "source": []
  },
  {
   "cell_type": "code",
   "execution_count": null,
   "metadata": {},
   "outputs": [],
   "source": []
  },
  {
   "cell_type": "code",
   "execution_count": null,
   "metadata": {},
   "outputs": [],
   "source": []
  },
  {
   "cell_type": "markdown",
   "metadata": {},
   "source": [
    "# Playground"
   ]
  },
  {
   "cell_type": "code",
   "execution_count": null,
   "metadata": {},
   "outputs": [],
   "source": []
  },
  {
   "cell_type": "code",
   "execution_count": null,
   "metadata": {},
   "outputs": [],
   "source": []
  }
 ],
 "metadata": {
  "kernelspec": {
   "display_name": "base",
   "language": "python",
   "name": "python3"
  },
  "language_info": {
   "codemirror_mode": {
    "name": "ipython",
    "version": 3
   },
   "file_extension": ".py",
   "mimetype": "text/x-python",
   "name": "python",
   "nbconvert_exporter": "python",
   "pygments_lexer": "ipython3",
   "version": "3.12.4"
  }
 },
 "nbformat": 4,
 "nbformat_minor": 2
}
